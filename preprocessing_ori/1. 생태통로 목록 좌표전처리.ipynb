{
 "cells": [
  {
   "cell_type": "code",
   "execution_count": 2,
   "metadata": {
    "collapsed": true
   },
   "outputs": [],
   "source": [
    "import geopandas as gpd\n",
    "import pandas as pd\n",
    "from sqlalchemy import create_engine\n",
    "from haversine import haversine\n",
    "from tqdm.notebook import tqdm\n",
    "import numpy as np"
   ]
  },
  {
   "cell_type": "code",
   "execution_count": 45,
   "outputs": [],
   "source": [
    "from sqlalchemy import create_engine\n",
    "import pymysql\n",
    "\n",
    "endpoint = 'dao.cdqd2bwz9q4s.ap-northeast-2.rds.amazonaws.com'\n",
    "db_connection_str = 'mysql+pymysql://admin:ekfkawnl@{}/{}'.format(endpoint, 'dao')\n",
    "try :\n",
    "    db_connection = create_engine(db_connection_str)\n",
    "    conn = db_connection.connect()\n",
    "except :\n",
    "    print('fail to connect db')"
   ],
   "metadata": {
    "collapsed": false,
    "pycharm": {
     "name": "#%%\n"
    }
   }
  },
  {
   "cell_type": "markdown",
   "source": [
    "# 생태통로 목록 전처리"
   ],
   "metadata": {
    "collapsed": false
   }
  },
  {
   "cell_type": "code",
   "execution_count": 27,
   "outputs": [],
   "source": [
    "df = pd.read_csv('Mapservice2022-08-08.csv', encoding='cp949')"
   ],
   "metadata": {
    "collapsed": false,
    "pycharm": {
     "name": "#%%\n"
    }
   }
  },
  {
   "cell_type": "code",
   "execution_count": 28,
   "outputs": [
    {
     "data": {
      "text/plain": "['번호',\n '생태통로명',\n '주소',\n '도로명',\n '도로번호',\n '차선_수',\n '위도_도',\n '위도_분',\n '위도_초',\n '경도_도',\n '경도_분',\n '경도_초']"
     },
     "execution_count": 28,
     "metadata": {},
     "output_type": "execute_result"
    }
   ],
   "source": [
    "col = list(df.columns)\n",
    "col"
   ],
   "metadata": {
    "collapsed": false,
    "pycharm": {
     "name": "#%%\n"
    }
   }
  },
  {
   "cell_type": "code",
   "execution_count": 29,
   "outputs": [
    {
     "name": "stdout",
     "output_type": "stream",
     "text": [
      "invalid literal for int() with base 10: '36+'\n",
      "위도_도\n",
      "could not convert string to float: '208\"'\n",
      "위도_초\n",
      "could not convert string to float: '413\"'\n",
      "경도_초\n"
     ]
    }
   ],
   "source": [
    "for c in col[-6:]:\n",
    "    try :\n",
    "        if '_도' in c :\n",
    "            df[c] = df[c].map(int)\n",
    "        else :\n",
    "            df[c] = df[c].map(float)\n",
    "    except Exception as e:\n",
    "        print(e)\n",
    "        print(c)"
   ],
   "metadata": {
    "collapsed": false,
    "pycharm": {
     "name": "#%%\n"
    }
   }
  },
  {
   "cell_type": "code",
   "execution_count": 36,
   "outputs": [
    {
     "name": "stdout",
     "output_type": "stream",
     "text": [
      "Int64Index([454], dtype='int64')\n",
      "Int64Index([26], dtype='int64')\n",
      "Int64Index([26], dtype='int64')\n"
     ]
    }
   ],
   "source": [
    "print(df[df['위도_도'] == '36+'].index)\n",
    "print(df[df['위도_초']=='208\"'].index)\n",
    "print(df[df['경도_초']=='413\"'].index)"
   ],
   "metadata": {
    "collapsed": false,
    "pycharm": {
     "name": "#%%\n"
    }
   }
  },
  {
   "cell_type": "code",
   "execution_count": 37,
   "outputs": [],
   "source": [
    "df.loc[454, '위도_도'] = 36\n",
    "df.loc[26, '위도_초'] = 208\n",
    "df.loc[26, '경도_초'] = 413"
   ],
   "metadata": {
    "collapsed": false,
    "pycharm": {
     "name": "#%%\n"
    }
   }
  },
  {
   "cell_type": "code",
   "execution_count": 38,
   "outputs": [],
   "source": [
    "for c in col[-6:]:\n",
    "    try :\n",
    "        if '_도' in c :\n",
    "            df[c] = df[c].map(int)\n",
    "        else :\n",
    "            df[c] = df[c].map(float)\n",
    "    except Exception as e:\n",
    "        print(e)\n",
    "        print(c)"
   ],
   "metadata": {
    "collapsed": false,
    "pycharm": {
     "name": "#%%\n"
    }
   }
  },
  {
   "cell_type": "markdown",
   "source": [
    "### 도분초 열 만들기"
   ],
   "metadata": {
    "collapsed": false
   }
  },
  {
   "cell_type": "code",
   "execution_count": 39,
   "outputs": [],
   "source": [
    "lat = list(zip(df['위도_도'].astype('int32'), df['위도_분'].astype('int32'), df['위도_초']))\n",
    "lon = list(zip(df['경도_도'].astype('int32'), df['경도_분'].astype('int32'), df['경도_초']))\n",
    "\n",
    "new_lat = [' '.join(map(str, l)) for l in lat]\n",
    "\n",
    "new_lon = [' '.join(map(str, l)) for l in lon]\n",
    "\n",
    "df['위도_도분초'] = new_lat\n",
    "df['경도_도분초'] = new_lon"
   ],
   "metadata": {
    "collapsed": false,
    "pycharm": {
     "name": "#%%\n"
    }
   }
  },
  {
   "cell_type": "markdown",
   "source": [
    "### 십진법 열 만들기"
   ],
   "metadata": {
    "collapsed": false
   }
  },
  {
   "cell_type": "code",
   "execution_count": 40,
   "outputs": [],
   "source": [
    "def change_GPS(df):\n",
    "  Latitude_D=df['위도_도']\n",
    "  Latitude_M=df['위도_분']\n",
    "  Latitude_S=df['위도_초']\n",
    "  Longitude_D=df['경도_도']\n",
    "  Longitude_M=df['경도_분']\n",
    "  Longitude_S=df['경도_초']\n",
    "\n",
    "  Latitude=Latitude_D+(Latitude_M/60)+(Latitude_S/3600)\n",
    "  Longitude=Longitude_D+(Longitude_M/60)+(Longitude_S/3600)\n",
    "\n",
    "  Latitude = round(Latitude, 5)\n",
    "  Longitude = round(Longitude, 5)\n",
    "\n",
    "  df['위도_십진법'] = Latitude\n",
    "  df['경도_십진법'] = Longitude\n",
    "  return True"
   ],
   "metadata": {
    "collapsed": false,
    "pycharm": {
     "name": "#%%\n"
    }
   }
  },
  {
   "cell_type": "code",
   "execution_count": 41,
   "outputs": [
    {
     "data": {
      "text/plain": "True"
     },
     "execution_count": 41,
     "metadata": {},
     "output_type": "execute_result"
    }
   ],
   "source": [
    "change_GPS(df)"
   ],
   "metadata": {
    "collapsed": false,
    "pycharm": {
     "name": "#%%\n"
    }
   }
  },
  {
   "cell_type": "code",
   "execution_count": 42,
   "outputs": [
    {
     "data": {
      "text/plain": "       번호          생태통로명                              주소         도로명  \\\n0    1001           중동터널                    서울특별시 구로구 궁동        계남큰길   \n1    1002         개좌생태터널              부산광역시 금정구 회동동 산4-1         개좌로   \n2    1004        곰내 생태통로               부산광역시 기장군 철마면 웅천리          군도   \n3    1005     정관예림리 생태통로               부산광역시 기장군 정관면 예림리         국지도   \n4    1006       을숙도 생태통로                   부산광역시 사하구 하단동        낙동남로   \n..    ...            ...                             ...         ...   \n531  1564           삼척노곡          강원도 삼척시 원덕읍 노곡리 산146-3         국도    \n532  1565           절토육교               경기도 의왕시 월암동 산46-3  서수원~의왕간 도로   \n533  1566         동물이동통로              경기도 의왕시 고천동 산55-5   서수원~의왕간 도로   \n534  1567            NaN          경기도 영중면 거사리 산3-22번지 일원          중로   \n535  1568  한북정맥(비득재) 생태축  경기도 소흘읍 직동리 산9-5번지 일원(죽엽산 비득재)         지방도   \n\n          도로번호   차선_수  위도_도  위도_분      위도_초  경도_도  경도_분      경도_초  \\\n0          NaN  왕복6차로    37  30.0  23.37000   126  49.0  51.56000   \n1            0  왕복2차선    35  15.0   6.05000   129   8.0  27.31000   \n2         19호선  왕복2차선    35  18.0  20.80000   129  10.0  19.20000   \n3          60호  왕복4차선    35  19.0  46.80000   129  12.0  11.90000   \n4         1240  왕복7차선    35   6.0  31.84632   128  56.0  28.46904   \n..         ...    ...   ...   ...       ...   ...   ...       ...   \n531        7호선  왕복4차선    37  12.0  33.19000   129  20.0  14.09000   \n532  지방도 309호선  왕복6차선    37  19.0   2.04000   126  57.0  59.00000   \n533   지방도309호선  왕복6차선    37  20.0  11.80000   126  58.0  23.42000   \n534       3-30  왕복2차선    37  59.0  30.60000   127  13.0  43.23000   \n535        383  왕복2차선    37  47.0  10.60000   127   9.0  53.33000   \n\n                    위도_도분초                  경도_도분초    위도_십진법     경도_십진법  \n0              37 30 23.37            126 49 51.56  37.50649  126.83099  \n1               35 15 6.05             129 8 27.31  35.25168  129.14092  \n2               35 18 20.8             129 10 19.2  35.30578  129.17200  \n3               35 19 46.8             129 12 11.9  35.32967  129.20331  \n4    35 6 31.8463200000076  128 56 28.469039999984  35.10885  128.94124  \n..                     ...                     ...       ...        ...  \n531            37 12 33.19            129 20 14.09  37.20922  129.33725  \n532             37 19 2.04             126 57 59.0  37.31723  126.96639  \n533             37 20 11.8            126 58 23.42  37.33661  126.97317  \n534             37 59 30.6            127 13 43.23  37.99183  127.22868  \n535             37 47 10.6             127 9 53.33  37.78628  127.16481  \n\n[536 rows x 16 columns]",
      "text/html": "<div>\n<style scoped>\n    .dataframe tbody tr th:only-of-type {\n        vertical-align: middle;\n    }\n\n    .dataframe tbody tr th {\n        vertical-align: top;\n    }\n\n    .dataframe thead th {\n        text-align: right;\n    }\n</style>\n<table border=\"1\" class=\"dataframe\">\n  <thead>\n    <tr style=\"text-align: right;\">\n      <th></th>\n      <th>번호</th>\n      <th>생태통로명</th>\n      <th>주소</th>\n      <th>도로명</th>\n      <th>도로번호</th>\n      <th>차선_수</th>\n      <th>위도_도</th>\n      <th>위도_분</th>\n      <th>위도_초</th>\n      <th>경도_도</th>\n      <th>경도_분</th>\n      <th>경도_초</th>\n      <th>위도_도분초</th>\n      <th>경도_도분초</th>\n      <th>위도_십진법</th>\n      <th>경도_십진법</th>\n    </tr>\n  </thead>\n  <tbody>\n    <tr>\n      <th>0</th>\n      <td>1001</td>\n      <td>중동터널</td>\n      <td>서울특별시 구로구 궁동</td>\n      <td>계남큰길</td>\n      <td>NaN</td>\n      <td>왕복6차로</td>\n      <td>37</td>\n      <td>30.0</td>\n      <td>23.37000</td>\n      <td>126</td>\n      <td>49.0</td>\n      <td>51.56000</td>\n      <td>37 30 23.37</td>\n      <td>126 49 51.56</td>\n      <td>37.50649</td>\n      <td>126.83099</td>\n    </tr>\n    <tr>\n      <th>1</th>\n      <td>1002</td>\n      <td>개좌생태터널</td>\n      <td>부산광역시 금정구 회동동 산4-1</td>\n      <td>개좌로</td>\n      <td>0</td>\n      <td>왕복2차선</td>\n      <td>35</td>\n      <td>15.0</td>\n      <td>6.05000</td>\n      <td>129</td>\n      <td>8.0</td>\n      <td>27.31000</td>\n      <td>35 15 6.05</td>\n      <td>129 8 27.31</td>\n      <td>35.25168</td>\n      <td>129.14092</td>\n    </tr>\n    <tr>\n      <th>2</th>\n      <td>1004</td>\n      <td>곰내 생태통로</td>\n      <td>부산광역시 기장군 철마면 웅천리</td>\n      <td>군도</td>\n      <td>19호선</td>\n      <td>왕복2차선</td>\n      <td>35</td>\n      <td>18.0</td>\n      <td>20.80000</td>\n      <td>129</td>\n      <td>10.0</td>\n      <td>19.20000</td>\n      <td>35 18 20.8</td>\n      <td>129 10 19.2</td>\n      <td>35.30578</td>\n      <td>129.17200</td>\n    </tr>\n    <tr>\n      <th>3</th>\n      <td>1005</td>\n      <td>정관예림리 생태통로</td>\n      <td>부산광역시 기장군 정관면 예림리</td>\n      <td>국지도</td>\n      <td>60호</td>\n      <td>왕복4차선</td>\n      <td>35</td>\n      <td>19.0</td>\n      <td>46.80000</td>\n      <td>129</td>\n      <td>12.0</td>\n      <td>11.90000</td>\n      <td>35 19 46.8</td>\n      <td>129 12 11.9</td>\n      <td>35.32967</td>\n      <td>129.20331</td>\n    </tr>\n    <tr>\n      <th>4</th>\n      <td>1006</td>\n      <td>을숙도 생태통로</td>\n      <td>부산광역시 사하구 하단동</td>\n      <td>낙동남로</td>\n      <td>1240</td>\n      <td>왕복7차선</td>\n      <td>35</td>\n      <td>6.0</td>\n      <td>31.84632</td>\n      <td>128</td>\n      <td>56.0</td>\n      <td>28.46904</td>\n      <td>35 6 31.8463200000076</td>\n      <td>128 56 28.469039999984</td>\n      <td>35.10885</td>\n      <td>128.94124</td>\n    </tr>\n    <tr>\n      <th>...</th>\n      <td>...</td>\n      <td>...</td>\n      <td>...</td>\n      <td>...</td>\n      <td>...</td>\n      <td>...</td>\n      <td>...</td>\n      <td>...</td>\n      <td>...</td>\n      <td>...</td>\n      <td>...</td>\n      <td>...</td>\n      <td>...</td>\n      <td>...</td>\n      <td>...</td>\n      <td>...</td>\n    </tr>\n    <tr>\n      <th>531</th>\n      <td>1564</td>\n      <td>삼척노곡</td>\n      <td>강원도 삼척시 원덕읍 노곡리 산146-3</td>\n      <td>국도</td>\n      <td>7호선</td>\n      <td>왕복4차선</td>\n      <td>37</td>\n      <td>12.0</td>\n      <td>33.19000</td>\n      <td>129</td>\n      <td>20.0</td>\n      <td>14.09000</td>\n      <td>37 12 33.19</td>\n      <td>129 20 14.09</td>\n      <td>37.20922</td>\n      <td>129.33725</td>\n    </tr>\n    <tr>\n      <th>532</th>\n      <td>1565</td>\n      <td>절토육교</td>\n      <td>경기도 의왕시 월암동 산46-3</td>\n      <td>서수원~의왕간 도로</td>\n      <td>지방도 309호선</td>\n      <td>왕복6차선</td>\n      <td>37</td>\n      <td>19.0</td>\n      <td>2.04000</td>\n      <td>126</td>\n      <td>57.0</td>\n      <td>59.00000</td>\n      <td>37 19 2.04</td>\n      <td>126 57 59.0</td>\n      <td>37.31723</td>\n      <td>126.96639</td>\n    </tr>\n    <tr>\n      <th>533</th>\n      <td>1566</td>\n      <td>동물이동통로</td>\n      <td>경기도 의왕시 고천동 산55-5</td>\n      <td>서수원~의왕간 도로</td>\n      <td>지방도309호선</td>\n      <td>왕복6차선</td>\n      <td>37</td>\n      <td>20.0</td>\n      <td>11.80000</td>\n      <td>126</td>\n      <td>58.0</td>\n      <td>23.42000</td>\n      <td>37 20 11.8</td>\n      <td>126 58 23.42</td>\n      <td>37.33661</td>\n      <td>126.97317</td>\n    </tr>\n    <tr>\n      <th>534</th>\n      <td>1567</td>\n      <td>NaN</td>\n      <td>경기도 영중면 거사리 산3-22번지 일원</td>\n      <td>중로</td>\n      <td>3-30</td>\n      <td>왕복2차선</td>\n      <td>37</td>\n      <td>59.0</td>\n      <td>30.60000</td>\n      <td>127</td>\n      <td>13.0</td>\n      <td>43.23000</td>\n      <td>37 59 30.6</td>\n      <td>127 13 43.23</td>\n      <td>37.99183</td>\n      <td>127.22868</td>\n    </tr>\n    <tr>\n      <th>535</th>\n      <td>1568</td>\n      <td>한북정맥(비득재) 생태축</td>\n      <td>경기도 소흘읍 직동리 산9-5번지 일원(죽엽산 비득재)</td>\n      <td>지방도</td>\n      <td>383</td>\n      <td>왕복2차선</td>\n      <td>37</td>\n      <td>47.0</td>\n      <td>10.60000</td>\n      <td>127</td>\n      <td>9.0</td>\n      <td>53.33000</td>\n      <td>37 47 10.6</td>\n      <td>127 9 53.33</td>\n      <td>37.78628</td>\n      <td>127.16481</td>\n    </tr>\n  </tbody>\n</table>\n<p>536 rows × 16 columns</p>\n</div>"
     },
     "execution_count": 42,
     "metadata": {},
     "output_type": "execute_result"
    }
   ],
   "source": [
    "df"
   ],
   "metadata": {
    "collapsed": false,
    "pycharm": {
     "name": "#%%\n"
    }
   }
  },
  {
   "cell_type": "code",
   "execution_count": 43,
   "outputs": [],
   "source": [
    "df.to_csv('생태통로_목록_0808.csv', encoding='cp949', index=False)"
   ],
   "metadata": {
    "collapsed": false,
    "pycharm": {
     "name": "#%%\n"
    }
   }
  },
  {
   "cell_type": "code",
   "execution_count": 46,
   "outputs": [
    {
     "data": {
      "text/plain": "536"
     },
     "execution_count": 46,
     "metadata": {},
     "output_type": "execute_result"
    }
   ],
   "source": [
    "df.to_sql('생태통로_목록_0808', db_connection, index=False)"
   ],
   "metadata": {
    "collapsed": false,
    "pycharm": {
     "name": "#%%\n"
    }
   }
  },
  {
   "cell_type": "code",
   "execution_count": 47,
   "outputs": [
    {
     "data": {
      "text/plain": "536"
     },
     "execution_count": 47,
     "metadata": {},
     "output_type": "execute_result"
    }
   ],
   "source": [
    "df['번호'].nunique()"
   ],
   "metadata": {
    "collapsed": false,
    "pycharm": {
     "name": "#%%\n"
    }
   }
  },
  {
   "cell_type": "code",
   "execution_count": null,
   "outputs": [],
   "source": [],
   "metadata": {
    "collapsed": false,
    "pycharm": {
     "name": "#%%\n"
    }
   }
  }
 ],
 "metadata": {
  "kernelspec": {
   "display_name": "Python 3",
   "language": "python",
   "name": "python3"
  },
  "language_info": {
   "codemirror_mode": {
    "name": "ipython",
    "version": 2
   },
   "file_extension": ".py",
   "mimetype": "text/x-python",
   "name": "python",
   "nbconvert_exporter": "python",
   "pygments_lexer": "ipython2",
   "version": "2.7.6"
  }
 },
 "nbformat": 4,
 "nbformat_minor": 0
}