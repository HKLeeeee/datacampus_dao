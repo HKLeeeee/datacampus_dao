{
 "cells": [
  {
   "cell_type": "code",
   "execution_count": 1,
   "metadata": {
    "collapsed": true
   },
   "outputs": [
    {
     "data": {
      "text/plain": "       번호\n0    1001\n1    1002\n2    1004\n3    1005\n4    1006\n..    ...\n531  1564\n532  1565\n533  1566\n534  1567\n535  1568\n\n[536 rows x 1 columns]",
      "text/html": "<div>\n<style scoped>\n    .dataframe tbody tr th:only-of-type {\n        vertical-align: middle;\n    }\n\n    .dataframe tbody tr th {\n        vertical-align: top;\n    }\n\n    .dataframe thead th {\n        text-align: right;\n    }\n</style>\n<table border=\"1\" class=\"dataframe\">\n  <thead>\n    <tr style=\"text-align: right;\">\n      <th></th>\n      <th>번호</th>\n    </tr>\n  </thead>\n  <tbody>\n    <tr>\n      <th>0</th>\n      <td>1001</td>\n    </tr>\n    <tr>\n      <th>1</th>\n      <td>1002</td>\n    </tr>\n    <tr>\n      <th>2</th>\n      <td>1004</td>\n    </tr>\n    <tr>\n      <th>3</th>\n      <td>1005</td>\n    </tr>\n    <tr>\n      <th>4</th>\n      <td>1006</td>\n    </tr>\n    <tr>\n      <th>...</th>\n      <td>...</td>\n    </tr>\n    <tr>\n      <th>531</th>\n      <td>1564</td>\n    </tr>\n    <tr>\n      <th>532</th>\n      <td>1565</td>\n    </tr>\n    <tr>\n      <th>533</th>\n      <td>1566</td>\n    </tr>\n    <tr>\n      <th>534</th>\n      <td>1567</td>\n    </tr>\n    <tr>\n      <th>535</th>\n      <td>1568</td>\n    </tr>\n  </tbody>\n</table>\n<p>536 rows × 1 columns</p>\n</div>"
     },
     "execution_count": 1,
     "metadata": {},
     "output_type": "execute_result"
    }
   ],
   "source": [
    "from DB import *\n",
    "\n",
    "db_connection = connect_db()\n",
    "\n",
    "df = load_data_from_rds('변수관계설정', db_connection)\n",
    "df"
   ]
  },
  {
   "cell_type": "code",
   "execution_count": null,
   "outputs": [],
   "source": [],
   "metadata": {
    "collapsed": false,
    "pycharm": {
     "name": "#%%\n"
    }
   }
  }
 ],
 "metadata": {
  "kernelspec": {
   "display_name": "Python 3",
   "language": "python",
   "name": "python3"
  },
  "language_info": {
   "codemirror_mode": {
    "name": "ipython",
    "version": 2
   },
   "file_extension": ".py",
   "mimetype": "text/x-python",
   "name": "python",
   "nbconvert_exporter": "python",
   "pygments_lexer": "ipython2",
   "version": "2.7.6"
  }
 },
 "nbformat": 4,
 "nbformat_minor": 0
}