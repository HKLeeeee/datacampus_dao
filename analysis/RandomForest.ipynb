{
 "nbformat": 4,
 "nbformat_minor": 0,
 "metadata": {
  "colab": {
   "name": "Sample analysis_ RandomForest.ipynb",
   "provenance": []
  },
  "kernelspec": {
   "name": "python3",
   "display_name": "Python 3"
  },
  "language_info": {
   "name": "python"
  }
 },
 "cells": [
  {
   "cell_type": "code",
   "execution_count": 1,
   "metadata": {
    "id": "9uxl-jaEMwN4"
   },
   "outputs": [],
   "source": [
    "import pandas as pd\n",
    "from sqlalchemy import create_engine\n",
    "import pymysql\n",
    "import numpy as np\n",
    "import matplotlib.pyplot as plt\n",
    "import seaborn as sns\n",
    "import matplotlib as mpl\n",
    "import warnings\n",
    "from sklearn.model_selection import train_test_split, GridSearchCV\n",
    "from sklearn.ensemble import RandomForestClassifier\n",
    "from sklearn.preprocessing import LabelEncoder, MinMaxScaler, StandardScaler\n",
    "from sklearn.metrics import accuracy_score\n",
    "warnings.filterwarnings(action='ignore')\n",
    "mpl.rcParams['axes.unicode_minus'] = False\n",
    "\n",
    "endpoint = 'dao.c51deksujiip.ap-northeast-2.rds.amazonaws.com'\n",
    "schema = 'dao'\n",
    "db_connection_str = 'mysql+pymysql://admin:ekfkawnl@{}/{}'.format(endpoint, schema)\n",
    "try :\n",
    "    db_connection = create_engine(db_connection_str)\n",
    "    conn = db_connection.connect()\n",
    "except :\n",
    "    print('fail to connect db')\n",
    "\n",
    "def load_data_from_rds(tabel_name):\n",
    "  sql = \"SELECT * FROM {}\".format(tabel_name)\n",
    "  df = pd.read_sql(sql, db_connection)\n",
    "  return df"
   ]
  },
  {
   "cell_type": "code",
   "execution_count": 2,
   "outputs": [],
   "source": [
    "import sys, os\n",
    "# sys.path.append(os.path.dirname(os.path.abspath(os.path.dirname(__file__))))\n",
    "\n",
    "from preprocessing.preprocessing_func import preprocess_df"
   ],
   "metadata": {
    "collapsed": false,
    "pycharm": {
     "name": "#%%\n"
    }
   }
  },
  {
   "cell_type": "markdown",
   "source": [
    "# 육교형"
   ],
   "metadata": {
    "id": "5OS1u2dhQToe"
   }
  },
  {
   "cell_type": "code",
   "source": [
    "main_df = load_data_from_rds('MainData_mean_overpass')"
   ],
   "metadata": {
    "id": "m_qOMZ9CNAlw"
   },
   "execution_count": 3,
   "outputs": []
  },
  {
   "cell_type": "code",
   "source": [
    "main_df.columns"
   ],
   "metadata": {
    "colab": {
     "base_uri": "https://localhost:8080/"
    },
    "id": "dE7M5Ft4mOoS",
    "outputId": "d4f195c7-be25-4616-92bf-d37ebee6c49f"
   },
   "execution_count": 4,
   "outputs": [
    {
     "data": {
      "text/plain": "Index(['번호', '위도', '경도', '생태통로_유형', '차선_수', '등산객_이용빈도', '생태통로_효율성', '이용확인종_수',\n       '폭(m)', '연장(m)', '경사도', '주변 로드킬 빈도', '산책로까지의 최단 거리(km)', '농가까지의 거리(km)',\n       '도로 최고제한속도(km/h)', '주변 동물종 개수', '주변동물 출현빈도', '지형기호(2.3km)', '하천거리(km)',\n       '식물군락명', '등산로까지 최단거리(km)', '유도울타리_위도_2.3km', '유도울타리_경도_2.3km',\n       '유도울타리_연장_m', '유도울타리_높이_m', '교통량', '환경영향평가점수', '건물까지거리(km)', '최우점식물군락'],\n      dtype='object')"
     },
     "execution_count": 4,
     "metadata": {},
     "output_type": "execute_result"
    }
   ]
  },
  {
   "cell_type": "code",
   "source": [
    "main_df['경사도'] = main_df['경사도'].astype('int64')"
   ],
   "metadata": {
    "id": "ovcBXem9mYw2"
   },
   "execution_count": 5,
   "outputs": []
  },
  {
   "cell_type": "code",
   "source": [
    "onehot_col = ['지형기호(2.3km)', '최우점식물군락']\n",
    "scaling_col = ['폭(m)', '연장(m)', '주변 로드킬 빈도', '산책로까지의 최단 거리(km)', '농가까지의 거리(km)', '도로 최고제한속도(km/h)',\n",
    "               '하천거리(km)', '주변 동물종 개수', '등산로까지 최단거리(km)', '유도울타리_연장_m', '유도울타리_높이_m', '교통량', '건물까지거리(km)']\n",
    "drop_col = ['번호', '위도', '경도', '생태통로_유형', '이용확인종_수', '유도울타리_위도_2.3km', '유도울타리_경도_2.3km', '식물군락명']\n",
    "df = preprocess_df(main_df, drop_col=drop_col, labeling_col=onehot_col, scaling_func=MinMaxScaler)\n",
    "df"
   ],
   "metadata": {
    "colab": {
     "base_uri": "https://localhost:8080/",
     "height": 592
    },
    "id": "hpwubRIWNVn9",
    "outputId": "1566e8b7-2f25-436f-e8f7-7ad2cd5ca379"
   },
   "execution_count": 6,
   "outputs": [
    {
     "data": {
      "text/plain": "     차선_수  등산객_이용빈도  생태통로_효율성   폭(m)  연장(m)  경사도  주변 로드킬 빈도  산책로까지의 최단 거리(km)  \\\n0       1         1         3  33.10   43.9    6          0         32.993820   \n1       2         5         1   8.23   38.0    4          5        140.219401   \n2       0         1         2  25.10   13.0    6          0        220.756605   \n3       1         0         3  33.10   43.9    2          0        288.314212   \n4       0         0         1  37.30   12.4    6          0        164.848600   \n..    ...       ...       ...    ...    ...  ...        ...               ...   \n295     2         0         0  13.30   50.7    2          5        140.166888   \n296     1         5         0  13.60   38.7    5          5        140.681388   \n297     1         5         0  13.30   50.7    4          5        140.066912   \n298     0         0         0   7.00   20.0    5          0        145.890079   \n299     2         5         0  41.70   59.0    4          0        133.005554   \n\n     농가까지의 거리(km)  도로 최고제한속도(km/h)  ...  주변동물 출현빈도  지형기호(2.3km)     하천거리(km)  \\\n0        0.223706               80  ...          2            0   134.468063   \n1        0.183505               80  ...          0            0  2275.200182   \n2        0.128056               60  ...          4            0   350.090413   \n3        0.010158               80  ...          6            5   550.578792   \n4        0.248581               60  ...         21            6   528.495270   \n..            ...              ...  ...        ...          ...          ...   \n295      0.287976               80  ...          0            0  2274.279975   \n296      0.119958               80  ...          0            0  1722.566263   \n297      0.116240               80  ...          0            0  2532.215687   \n298      0.023978               60  ...          0            0  2096.234333   \n299      0.013048               80  ...          0            0   901.351714   \n\n     등산로까지 최단거리(km)  유도울타리_연장_m  유도울타리_높이_m           교통량  환경영향평가점수  \\\n0          3.157026           0    0.000000   7493.875000         2   \n1          0.025083         886    1.571429  34542.400000         5   \n2          0.003337           0    0.000000  53562.850000         1   \n3          4.207701           0    0.000000  11264.142857         3   \n4          3.376660           0    0.000000   3108.800000         1   \n..              ...         ...         ...           ...       ...   \n295        0.025617         442    1.000000  34270.190476         5   \n296        0.021407         886    1.571429  34542.400000         5   \n297        0.008204         886    1.571429  34270.190476         5   \n298        0.878327         884    1.500000  26748.437500         2   \n299        0.001197           0    0.000000  17114.400000         5   \n\n     건물까지거리(km)  최우점식물군락  \n0      0.196597       10  \n1      0.172184       13  \n2      0.387330       12  \n3      0.052282        6  \n4      0.600382       10  \n..          ...      ...  \n295    0.179017       13  \n296    0.094304       13  \n297    0.124789       13  \n298    0.070303        9  \n299    0.127489       15  \n\n[300 rows x 21 columns]",
      "text/html": "<div>\n<style scoped>\n    .dataframe tbody tr th:only-of-type {\n        vertical-align: middle;\n    }\n\n    .dataframe tbody tr th {\n        vertical-align: top;\n    }\n\n    .dataframe thead th {\n        text-align: right;\n    }\n</style>\n<table border=\"1\" class=\"dataframe\">\n  <thead>\n    <tr style=\"text-align: right;\">\n      <th></th>\n      <th>차선_수</th>\n      <th>등산객_이용빈도</th>\n      <th>생태통로_효율성</th>\n      <th>폭(m)</th>\n      <th>연장(m)</th>\n      <th>경사도</th>\n      <th>주변 로드킬 빈도</th>\n      <th>산책로까지의 최단 거리(km)</th>\n      <th>농가까지의 거리(km)</th>\n      <th>도로 최고제한속도(km/h)</th>\n      <th>...</th>\n      <th>주변동물 출현빈도</th>\n      <th>지형기호(2.3km)</th>\n      <th>하천거리(km)</th>\n      <th>등산로까지 최단거리(km)</th>\n      <th>유도울타리_연장_m</th>\n      <th>유도울타리_높이_m</th>\n      <th>교통량</th>\n      <th>환경영향평가점수</th>\n      <th>건물까지거리(km)</th>\n      <th>최우점식물군락</th>\n    </tr>\n  </thead>\n  <tbody>\n    <tr>\n      <th>0</th>\n      <td>1</td>\n      <td>1</td>\n      <td>3</td>\n      <td>33.10</td>\n      <td>43.9</td>\n      <td>6</td>\n      <td>0</td>\n      <td>32.993820</td>\n      <td>0.223706</td>\n      <td>80</td>\n      <td>...</td>\n      <td>2</td>\n      <td>0</td>\n      <td>134.468063</td>\n      <td>3.157026</td>\n      <td>0</td>\n      <td>0.000000</td>\n      <td>7493.875000</td>\n      <td>2</td>\n      <td>0.196597</td>\n      <td>10</td>\n    </tr>\n    <tr>\n      <th>1</th>\n      <td>2</td>\n      <td>5</td>\n      <td>1</td>\n      <td>8.23</td>\n      <td>38.0</td>\n      <td>4</td>\n      <td>5</td>\n      <td>140.219401</td>\n      <td>0.183505</td>\n      <td>80</td>\n      <td>...</td>\n      <td>0</td>\n      <td>0</td>\n      <td>2275.200182</td>\n      <td>0.025083</td>\n      <td>886</td>\n      <td>1.571429</td>\n      <td>34542.400000</td>\n      <td>5</td>\n      <td>0.172184</td>\n      <td>13</td>\n    </tr>\n    <tr>\n      <th>2</th>\n      <td>0</td>\n      <td>1</td>\n      <td>2</td>\n      <td>25.10</td>\n      <td>13.0</td>\n      <td>6</td>\n      <td>0</td>\n      <td>220.756605</td>\n      <td>0.128056</td>\n      <td>60</td>\n      <td>...</td>\n      <td>4</td>\n      <td>0</td>\n      <td>350.090413</td>\n      <td>0.003337</td>\n      <td>0</td>\n      <td>0.000000</td>\n      <td>53562.850000</td>\n      <td>1</td>\n      <td>0.387330</td>\n      <td>12</td>\n    </tr>\n    <tr>\n      <th>3</th>\n      <td>1</td>\n      <td>0</td>\n      <td>3</td>\n      <td>33.10</td>\n      <td>43.9</td>\n      <td>2</td>\n      <td>0</td>\n      <td>288.314212</td>\n      <td>0.010158</td>\n      <td>80</td>\n      <td>...</td>\n      <td>6</td>\n      <td>5</td>\n      <td>550.578792</td>\n      <td>4.207701</td>\n      <td>0</td>\n      <td>0.000000</td>\n      <td>11264.142857</td>\n      <td>3</td>\n      <td>0.052282</td>\n      <td>6</td>\n    </tr>\n    <tr>\n      <th>4</th>\n      <td>0</td>\n      <td>0</td>\n      <td>1</td>\n      <td>37.30</td>\n      <td>12.4</td>\n      <td>6</td>\n      <td>0</td>\n      <td>164.848600</td>\n      <td>0.248581</td>\n      <td>60</td>\n      <td>...</td>\n      <td>21</td>\n      <td>6</td>\n      <td>528.495270</td>\n      <td>3.376660</td>\n      <td>0</td>\n      <td>0.000000</td>\n      <td>3108.800000</td>\n      <td>1</td>\n      <td>0.600382</td>\n      <td>10</td>\n    </tr>\n    <tr>\n      <th>...</th>\n      <td>...</td>\n      <td>...</td>\n      <td>...</td>\n      <td>...</td>\n      <td>...</td>\n      <td>...</td>\n      <td>...</td>\n      <td>...</td>\n      <td>...</td>\n      <td>...</td>\n      <td>...</td>\n      <td>...</td>\n      <td>...</td>\n      <td>...</td>\n      <td>...</td>\n      <td>...</td>\n      <td>...</td>\n      <td>...</td>\n      <td>...</td>\n      <td>...</td>\n      <td>...</td>\n    </tr>\n    <tr>\n      <th>295</th>\n      <td>2</td>\n      <td>0</td>\n      <td>0</td>\n      <td>13.30</td>\n      <td>50.7</td>\n      <td>2</td>\n      <td>5</td>\n      <td>140.166888</td>\n      <td>0.287976</td>\n      <td>80</td>\n      <td>...</td>\n      <td>0</td>\n      <td>0</td>\n      <td>2274.279975</td>\n      <td>0.025617</td>\n      <td>442</td>\n      <td>1.000000</td>\n      <td>34270.190476</td>\n      <td>5</td>\n      <td>0.179017</td>\n      <td>13</td>\n    </tr>\n    <tr>\n      <th>296</th>\n      <td>1</td>\n      <td>5</td>\n      <td>0</td>\n      <td>13.60</td>\n      <td>38.7</td>\n      <td>5</td>\n      <td>5</td>\n      <td>140.681388</td>\n      <td>0.119958</td>\n      <td>80</td>\n      <td>...</td>\n      <td>0</td>\n      <td>0</td>\n      <td>1722.566263</td>\n      <td>0.021407</td>\n      <td>886</td>\n      <td>1.571429</td>\n      <td>34542.400000</td>\n      <td>5</td>\n      <td>0.094304</td>\n      <td>13</td>\n    </tr>\n    <tr>\n      <th>297</th>\n      <td>1</td>\n      <td>5</td>\n      <td>0</td>\n      <td>13.30</td>\n      <td>50.7</td>\n      <td>4</td>\n      <td>5</td>\n      <td>140.066912</td>\n      <td>0.116240</td>\n      <td>80</td>\n      <td>...</td>\n      <td>0</td>\n      <td>0</td>\n      <td>2532.215687</td>\n      <td>0.008204</td>\n      <td>886</td>\n      <td>1.571429</td>\n      <td>34270.190476</td>\n      <td>5</td>\n      <td>0.124789</td>\n      <td>13</td>\n    </tr>\n    <tr>\n      <th>298</th>\n      <td>0</td>\n      <td>0</td>\n      <td>0</td>\n      <td>7.00</td>\n      <td>20.0</td>\n      <td>5</td>\n      <td>0</td>\n      <td>145.890079</td>\n      <td>0.023978</td>\n      <td>60</td>\n      <td>...</td>\n      <td>0</td>\n      <td>0</td>\n      <td>2096.234333</td>\n      <td>0.878327</td>\n      <td>884</td>\n      <td>1.500000</td>\n      <td>26748.437500</td>\n      <td>2</td>\n      <td>0.070303</td>\n      <td>9</td>\n    </tr>\n    <tr>\n      <th>299</th>\n      <td>2</td>\n      <td>5</td>\n      <td>0</td>\n      <td>41.70</td>\n      <td>59.0</td>\n      <td>4</td>\n      <td>0</td>\n      <td>133.005554</td>\n      <td>0.013048</td>\n      <td>80</td>\n      <td>...</td>\n      <td>0</td>\n      <td>0</td>\n      <td>901.351714</td>\n      <td>0.001197</td>\n      <td>0</td>\n      <td>0.000000</td>\n      <td>17114.400000</td>\n      <td>5</td>\n      <td>0.127489</td>\n      <td>15</td>\n    </tr>\n  </tbody>\n</table>\n<p>300 rows × 21 columns</p>\n</div>"
     },
     "execution_count": 6,
     "metadata": {},
     "output_type": "execute_result"
    }
   ]
  },
  {
   "cell_type": "code",
   "source": [
    "df.columns"
   ],
   "metadata": {
    "colab": {
     "base_uri": "https://localhost:8080/"
    },
    "id": "3noUX-YJke16",
    "outputId": "4cff4532-6cdf-41b1-dcee-d9efbe8d2bcd"
   },
   "execution_count": 7,
   "outputs": [
    {
     "data": {
      "text/plain": "Index(['차선_수', '등산객_이용빈도', '생태통로_효율성', '폭(m)', '연장(m)', '경사도', '주변 로드킬 빈도',\n       '산책로까지의 최단 거리(km)', '농가까지의 거리(km)', '도로 최고제한속도(km/h)', '주변 동물종 개수',\n       '주변동물 출현빈도', '지형기호(2.3km)', '하천거리(km)', '등산로까지 최단거리(km)', '유도울타리_연장_m',\n       '유도울타리_높이_m', '교통량', '환경영향평가점수', '건물까지거리(km)', '최우점식물군락'],\n      dtype='object')"
     },
     "execution_count": 7,
     "metadata": {},
     "output_type": "execute_result"
    }
   ]
  },
  {
   "cell_type": "code",
   "source": [
    "train_x, test_x, train_y, test_y = train_test_split(df.drop('생태통로_효율성', axis=1), df['생태통로_효율성'], test_size=0.2, stratify=df['생태통로_효율성'])\n",
    "print(train_x.shape, test_x.shape, train_y.shape, test_y.shape)"
   ],
   "metadata": {
    "colab": {
     "base_uri": "https://localhost:8080/"
    },
    "id": "HPNcVW-CRC_k",
    "outputId": "cc9b764f-facd-431e-aba1-39f8ca5e3049"
   },
   "execution_count": null,
   "outputs": [
    {
     "output_type": "stream",
     "name": "stdout",
     "text": [
      "(240, 20) (60, 20) (240,) (60,)\n"
     ]
    }
   ]
  },
  {
   "cell_type": "code",
   "source": [
    "rf_clf = RandomForestClassifier()\n",
    "rf_clf.fit(train_x, train_y)\n",
    "pred = rf_clf.predict(test_x)\n",
    "print(accuracy_score(pred, test_y))"
   ],
   "metadata": {
    "colab": {
     "base_uri": "https://localhost:8080/"
    },
    "id": "whroEcCUOIgF",
    "outputId": "4d9bde42-f782-44ae-de30-2a2386c3535f"
   },
   "execution_count": null,
   "outputs": [
    {
     "output_type": "stream",
     "name": "stdout",
     "text": [
      "0.48333333333333334\n"
     ]
    }
   ]
  },
  {
   "cell_type": "code",
   "source": [
    "importances = rf_clf.feature_importances_\n",
    "std = np.std([tree.feature_importances_ for tree in rf_clf.estimators_], axis=0)\n",
    "indices = np.argsort(importances)[::-1]\n",
    "\n",
    "print('Feature Ranking:')\n",
    "\n",
    "for f in range(train_x.shape[1]) :\n",
    "    print('{}. feature {} ({:3f})'.format(f+1, train_x.columns[indices][f], importances[indices[f]]))\n",
    "    if f == 10 :\n",
    "      break\n",
    "\n",
    "plt.title('Feature importances')\n",
    "plt.bar(range(train_x.shape[1]), importances[indices],\n",
    "        color='r', yerr=std[indices])\n",
    "plt.xlim([-1, train_x.shape[1]])\n",
    "plt.xticks(rotation=45)\n",
    "plt.show()"
   ],
   "metadata": {
    "colab": {
     "base_uri": "https://localhost:8080/",
     "height": 512
    },
    "id": "cRZLbBV8RnUv",
    "outputId": "c6cc4aa8-16c3-48d1-ed5a-c670e702404e"
   },
   "execution_count": null,
   "outputs": [
    {
     "output_type": "stream",
     "name": "stdout",
     "text": [
      "Feature Ranking:\n",
      "1. feature 산책로까지의 최단 거리(km) (0.093336)\n",
      "2. feature 연장(m) (0.085780)\n",
      "3. feature 건물까지거리(km) (0.082496)\n",
      "4. feature 폭(m) (0.074623)\n",
      "5. feature 농가까지의 거리(km) (0.071987)\n",
      "6. feature 교통량 (0.071804)\n",
      "7. feature 등산로까지 최단거리(km) (0.070348)\n",
      "8. feature 하천거리(km) (0.070019)\n",
      "9. feature 등산객_이용빈도 (0.048339)\n",
      "10. feature 최우점식물군락 (0.047364)\n",
      "11. feature 주변동물 출현빈도 (0.046903)\n"
     ]
    },
    {
     "output_type": "display_data",
     "data": {
      "text/plain": [
       "<Figure size 432x288 with 1 Axes>"
      ],
      "image/png": "[encoded data removed]"
     },
     "metadata": {
      "needs_background": "light"
     }
    }
   ]
  },
  {
   "cell_type": "markdown",
   "source": [
    "# 터널형"
   ],
   "metadata": {
    "id": "_MDvTmcVSTB3"
   }
  },
  {
   "cell_type": "code",
   "source": [
    "main_df = load_data_from_rds('MainData_mean_tunnel')"
   ],
   "metadata": {
    "id": "9wSOrBJDSTB4"
   },
   "execution_count": 8,
   "outputs": []
  },
  {
   "cell_type": "code",
   "source": [
    "main_df.columns"
   ],
   "metadata": {
    "colab": {
     "base_uri": "https://localhost:8080/"
    },
    "id": "MLEKOP_FjKgG",
    "outputId": "4281200a-59f0-437f-abb3-a4fcecf850bb"
   },
   "execution_count": 9,
   "outputs": [
    {
     "data": {
      "text/plain": "Index(['번호', '위도', '경도', '생태통로_유형', '차선_수', '등산객_이용빈도', '생태통로_효율성', '이용확인종_수',\n       '폭(m)', '연장(m)', '높이(m)', '개방도', '경사도', '주변 로드킬 빈도', '산책로까지의 최단 거리(km)',\n       '농가까지의 거리(km)', '도로 최고제한속도(km/h)', '주변 동물종 개수', '주변동물 출현빈도',\n       '지형기호(2.3km)', '하천거리(km)', '식물군락명', '등산로까지 최단거리(km)', '유도울타리_위도_2.3km',\n       '유도울타리_경도_2.3km', '유도울타리_연장_m', '유도울타리_높이_m', '교통량', '환경영향평가점수',\n       '건물까지거리(km)', '최우점식물군락'],\n      dtype='object')"
     },
     "execution_count": 9,
     "metadata": {},
     "output_type": "execute_result"
    }
   ]
  },
  {
   "cell_type": "code",
   "source": [
    "onehot_col = []\n",
    "scaling_col = ['폭(m)', '연장(m)', '높이(m)', '개방도', '산책로까지의 최단 거리(km)', '농가까지의 거리(km)', \n",
    "               '도로 최고제한속도(km/h)', '하천거리(km)', '등산로까지 최단거리(km)', '유도울타리_연장_m', '유도울타리_높이_m', '교통량', '건물까지거리(km)']\n",
    "drop_col = ['번호', '위도', '경도', '생태통로_유형', '이용확인종_수', '유도울타리_위도_2.3km', '유도울타리_경도_2.3km', '식물군락명', '지형기호(2.3km)', '최우점식물군락']\n",
    "df = preprocess_df(main_df, scaling_col=scaling_col, drop_col=drop_col, scaling_func=MinMaxScaler)\n",
    "df"
   ],
   "metadata": {
    "colab": {
     "base_uri": "https://localhost:8080/",
     "height": 592
    },
    "outputId": "20bba785-9da0-4b65-e925-5c54375d1eac",
    "id": "zWYNNfOSSTB4"
   },
   "execution_count": 10,
   "outputs": [
    {
     "data": {
      "text/plain": "     차선_수  등산객_이용빈도  생태통로_효율성      폭(m)     연장(m)     높이(m)       개방도 경사도  \\\n0       0         0         3  0.368421  0.359091  0.421053  0.295302   5   \n1       0         0         1  0.368421  0.359091  0.421053  0.295302   2   \n2       0         0         1  0.368421  0.359091  0.421053  0.295302   2   \n3       0         1         3  0.368421  0.359091  0.421053  0.295302   6   \n4       0         1         0  0.368421  0.359091  0.421053  0.295302   4   \n..    ...       ...       ...       ...       ...       ...       ...  ..   \n192     1         2         1  0.368421  0.359091  0.421053  0.295302   2   \n193     1         0         1  0.368421  0.359091  0.421053  0.295302   2   \n194     2         2         0  0.368421  0.359091  0.421053  0.295302   3   \n195     1         2         0  0.368421  0.359091  0.421053  0.295302   1   \n196     1         1         0  0.368421  0.359091  0.421053  0.295302   5   \n\n     주변 로드킬 빈도  산책로까지의 최단 거리(km)  ...  도로 최고제한속도(km/h)  주변 동물종 개수  주변동물 출현빈도  \\\n0            0          0.592972  ...              0.0          3          5   \n1            0          0.538555  ...              0.0          0          0   \n2            0          0.538105  ...              0.0          0          0   \n3            0          0.723885  ...              0.0          5          7   \n4            0          0.897709  ...              0.0          0          0   \n..         ...               ...  ...              ...        ...        ...   \n192          0          0.579863  ...              0.4          2         10   \n193          0          0.580725  ...              0.4          2         10   \n194          3          0.473805  ...              0.4          0          0   \n195          0          0.473151  ...              0.4          0          0   \n196          0          0.372030  ...              0.4          7         18   \n\n     하천거리(km)  등산로까지 최단거리(km)  유도울타리_연장_m  유도울타리_높이_m       교통량  환경영향평가점수  \\\n0    0.079895        0.083177    0.000000    0.000000  0.031498         1   \n1    0.013727        0.235381    0.000000    0.000000  0.029923         2   \n2    0.022988        0.223907    0.000000    0.000000  0.029923         2   \n3    0.231128        0.283250    0.000000    0.000000  0.033870         1   \n4    0.017241        0.004202    0.000000    0.000000  0.161424         5   \n..        ...             ...         ...         ...       ...       ...   \n192  0.188566        0.561823    0.000000    0.000000  0.114550         5   \n193  0.143116        0.578913    0.000000    0.000000  0.114550         1   \n194  0.186413        0.088804    0.455123    0.833333  0.594723         5   \n195  0.001462        0.131636    0.000000    0.000000  0.594723         5   \n196  0.093517        0.073508    0.027942    1.000000  0.155689         2   \n\n     건물까지거리(km)  \n0      0.159386  \n1      0.061278  \n2      0.018963  \n3      0.076094  \n4      0.019807  \n..          ...  \n192    0.220247  \n193    0.112635  \n194    0.022249  \n195    0.020380  \n196    0.005789  \n\n[197 rows x 21 columns]",
      "text/html": "<div>\n<style scoped>\n    .dataframe tbody tr th:only-of-type {\n        vertical-align: middle;\n    }\n\n    .dataframe tbody tr th {\n        vertical-align: top;\n    }\n\n    .dataframe thead th {\n        text-align: right;\n    }\n</style>\n<table border=\"1\" class=\"dataframe\">\n  <thead>\n    <tr style=\"text-align: right;\">\n      <th></th>\n      <th>차선_수</th>\n      <th>등산객_이용빈도</th>\n      <th>생태통로_효율성</th>\n      <th>폭(m)</th>\n      <th>연장(m)</th>\n      <th>높이(m)</th>\n      <th>개방도</th>\n      <th>경사도</th>\n      <th>주변 로드킬 빈도</th>\n      <th>산책로까지의 최단 거리(km)</th>\n      <th>...</th>\n      <th>도로 최고제한속도(km/h)</th>\n      <th>주변 동물종 개수</th>\n      <th>주변동물 출현빈도</th>\n      <th>하천거리(km)</th>\n      <th>등산로까지 최단거리(km)</th>\n      <th>유도울타리_연장_m</th>\n      <th>유도울타리_높이_m</th>\n      <th>교통량</th>\n      <th>환경영향평가점수</th>\n      <th>건물까지거리(km)</th>\n    </tr>\n  </thead>\n  <tbody>\n    <tr>\n      <th>0</th>\n      <td>0</td>\n      <td>0</td>\n      <td>3</td>\n      <td>0.368421</td>\n      <td>0.359091</td>\n      <td>0.421053</td>\n      <td>0.295302</td>\n      <td>5</td>\n      <td>0</td>\n      <td>0.592972</td>\n      <td>...</td>\n      <td>0.0</td>\n      <td>3</td>\n      <td>5</td>\n      <td>0.079895</td>\n      <td>0.083177</td>\n      <td>0.000000</td>\n      <td>0.000000</td>\n      <td>0.031498</td>\n      <td>1</td>\n      <td>0.159386</td>\n    </tr>\n    <tr>\n      <th>1</th>\n      <td>0</td>\n      <td>0</td>\n      <td>1</td>\n      <td>0.368421</td>\n      <td>0.359091</td>\n      <td>0.421053</td>\n      <td>0.295302</td>\n      <td>2</td>\n      <td>0</td>\n      <td>0.538555</td>\n      <td>...</td>\n      <td>0.0</td>\n      <td>0</td>\n      <td>0</td>\n      <td>0.013727</td>\n      <td>0.235381</td>\n      <td>0.000000</td>\n      <td>0.000000</td>\n      <td>0.029923</td>\n      <td>2</td>\n      <td>0.061278</td>\n    </tr>\n    <tr>\n      <th>2</th>\n      <td>0</td>\n      <td>0</td>\n      <td>1</td>\n      <td>0.368421</td>\n      <td>0.359091</td>\n      <td>0.421053</td>\n      <td>0.295302</td>\n      <td>2</td>\n      <td>0</td>\n      <td>0.538105</td>\n      <td>...</td>\n      <td>0.0</td>\n      <td>0</td>\n      <td>0</td>\n      <td>0.022988</td>\n      <td>0.223907</td>\n      <td>0.000000</td>\n      <td>0.000000</td>\n      <td>0.029923</td>\n      <td>2</td>\n      <td>0.018963</td>\n    </tr>\n    <tr>\n      <th>3</th>\n      <td>0</td>\n      <td>1</td>\n      <td>3</td>\n      <td>0.368421</td>\n      <td>0.359091</td>\n      <td>0.421053</td>\n      <td>0.295302</td>\n      <td>6</td>\n      <td>0</td>\n      <td>0.723885</td>\n      <td>...</td>\n      <td>0.0</td>\n      <td>5</td>\n      <td>7</td>\n      <td>0.231128</td>\n      <td>0.283250</td>\n      <td>0.000000</td>\n      <td>0.000000</td>\n      <td>0.033870</td>\n      <td>1</td>\n      <td>0.076094</td>\n    </tr>\n    <tr>\n      <th>4</th>\n      <td>0</td>\n      <td>1</td>\n      <td>0</td>\n      <td>0.368421</td>\n      <td>0.359091</td>\n      <td>0.421053</td>\n      <td>0.295302</td>\n      <td>4</td>\n      <td>0</td>\n      <td>0.897709</td>\n      <td>...</td>\n      <td>0.0</td>\n      <td>0</td>\n      <td>0</td>\n      <td>0.017241</td>\n      <td>0.004202</td>\n      <td>0.000000</td>\n      <td>0.000000</td>\n      <td>0.161424</td>\n      <td>5</td>\n      <td>0.019807</td>\n    </tr>\n    <tr>\n      <th>...</th>\n      <td>...</td>\n      <td>...</td>\n      <td>...</td>\n      <td>...</td>\n      <td>...</td>\n      <td>...</td>\n      <td>...</td>\n      <td>...</td>\n      <td>...</td>\n      <td>...</td>\n      <td>...</td>\n      <td>...</td>\n      <td>...</td>\n      <td>...</td>\n      <td>...</td>\n      <td>...</td>\n      <td>...</td>\n      <td>...</td>\n      <td>...</td>\n      <td>...</td>\n      <td>...</td>\n    </tr>\n    <tr>\n      <th>192</th>\n      <td>1</td>\n      <td>2</td>\n      <td>1</td>\n      <td>0.368421</td>\n      <td>0.359091</td>\n      <td>0.421053</td>\n      <td>0.295302</td>\n      <td>2</td>\n      <td>0</td>\n      <td>0.579863</td>\n      <td>...</td>\n      <td>0.4</td>\n      <td>2</td>\n      <td>10</td>\n      <td>0.188566</td>\n      <td>0.561823</td>\n      <td>0.000000</td>\n      <td>0.000000</td>\n      <td>0.114550</td>\n      <td>5</td>\n      <td>0.220247</td>\n    </tr>\n    <tr>\n      <th>193</th>\n      <td>1</td>\n      <td>0</td>\n      <td>1</td>\n      <td>0.368421</td>\n      <td>0.359091</td>\n      <td>0.421053</td>\n      <td>0.295302</td>\n      <td>2</td>\n      <td>0</td>\n      <td>0.580725</td>\n      <td>...</td>\n      <td>0.4</td>\n      <td>2</td>\n      <td>10</td>\n      <td>0.143116</td>\n      <td>0.578913</td>\n      <td>0.000000</td>\n      <td>0.000000</td>\n      <td>0.114550</td>\n      <td>1</td>\n      <td>0.112635</td>\n    </tr>\n    <tr>\n      <th>194</th>\n      <td>2</td>\n      <td>2</td>\n      <td>0</td>\n      <td>0.368421</td>\n      <td>0.359091</td>\n      <td>0.421053</td>\n      <td>0.295302</td>\n      <td>3</td>\n      <td>3</td>\n      <td>0.473805</td>\n      <td>...</td>\n      <td>0.4</td>\n      <td>0</td>\n      <td>0</td>\n      <td>0.186413</td>\n      <td>0.088804</td>\n      <td>0.455123</td>\n      <td>0.833333</td>\n      <td>0.594723</td>\n      <td>5</td>\n      <td>0.022249</td>\n    </tr>\n    <tr>\n      <th>195</th>\n      <td>1</td>\n      <td>2</td>\n      <td>0</td>\n      <td>0.368421</td>\n      <td>0.359091</td>\n      <td>0.421053</td>\n      <td>0.295302</td>\n      <td>1</td>\n      <td>0</td>\n      <td>0.473151</td>\n      <td>...</td>\n      <td>0.4</td>\n      <td>0</td>\n      <td>0</td>\n      <td>0.001462</td>\n      <td>0.131636</td>\n      <td>0.000000</td>\n      <td>0.000000</td>\n      <td>0.594723</td>\n      <td>5</td>\n      <td>0.020380</td>\n    </tr>\n    <tr>\n      <th>196</th>\n      <td>1</td>\n      <td>1</td>\n      <td>0</td>\n      <td>0.368421</td>\n      <td>0.359091</td>\n      <td>0.421053</td>\n      <td>0.295302</td>\n      <td>5</td>\n      <td>0</td>\n      <td>0.372030</td>\n      <td>...</td>\n      <td>0.4</td>\n      <td>7</td>\n      <td>18</td>\n      <td>0.093517</td>\n      <td>0.073508</td>\n      <td>0.027942</td>\n      <td>1.000000</td>\n      <td>0.155689</td>\n      <td>2</td>\n      <td>0.005789</td>\n    </tr>\n  </tbody>\n</table>\n<p>197 rows × 21 columns</p>\n</div>"
     },
     "execution_count": 10,
     "metadata": {},
     "output_type": "execute_result"
    }
   ]
  },
  {
   "cell_type": "code",
   "source": [
    "train_x, test_x, train_y, test_y = train_test_split(df.drop('생태통로_효율성', axis=1), df['생태통로_효율성'], test_size=0.2, stratify=df['생태통로_효율성'])\n",
    "print(train_x.shape, test_x.shape, train_y.shape, test_y.shape)"
   ],
   "metadata": {
    "colab": {
     "base_uri": "https://localhost:8080/"
    },
    "outputId": "9f8cac19-3635-427b-a610-af8efe41803a",
    "id": "ZXkdr2h5STB5"
   },
   "execution_count": null,
   "outputs": [
    {
     "output_type": "stream",
     "name": "stdout",
     "text": [
      "(157, 20) (40, 20) (157,) (40,)\n"
     ]
    }
   ]
  },
  {
   "cell_type": "code",
   "source": [
    "rf_clf_2 = RandomForestClassifier()\n",
    "rf_clf_2.fit(train_x, train_y)\n",
    "pred = rf_clf_2.predict(test_x)\n",
    "print(accuracy_score(pred, test_y))"
   ],
   "metadata": {
    "colab": {
     "base_uri": "https://localhost:8080/"
    },
    "outputId": "0bd9f428-0e00-40b1-f1dd-685fef6e5e6e",
    "id": "2RPqqeAZSTB6"
   },
   "execution_count": null,
   "outputs": [
    {
     "output_type": "stream",
     "name": "stdout",
     "text": [
      "0.5\n"
     ]
    }
   ]
  },
  {
   "cell_type": "code",
   "source": [
    "importances = rf_clf_2.feature_importances_\n",
    "std = np.std([tree.feature_importances_ for tree in rf_clf_2.estimators_], axis=0)\n",
    "indices = np.argsort(importances)[::-1]\n",
    "\n",
    "print('Feature Ranking:')\n",
    "\n",
    "for f in range(train_x.shape[1]) :\n",
    "    print('{}. feature {} ({:3f})'.format(f+1, train_x.columns[indices][f], importances[indices[f]]))\n",
    "    if f == 10 :\n",
    "      break\n",
    "\n",
    "plt.title('Feature importances')\n",
    "plt.bar(range(train_x.shape[1]), importances[indices],\n",
    "        color='r', yerr=std[indices])\n",
    "plt.xlim([-1, train_x.shape[1]])\n",
    "plt.xticks(rotation=45)\n",
    "plt.show()"
   ],
   "metadata": {
    "colab": {
     "base_uri": "https://localhost:8080/",
     "height": 512
    },
    "outputId": "ee121016-e720-4b58-fbdc-cab7de841ddf",
    "id": "Ody2epWHSTB7"
   },
   "execution_count": null,
   "outputs": [
    {
     "output_type": "stream",
     "name": "stdout",
     "text": [
      "Feature Ranking:\n",
      "1. feature 교통량 (0.120840)\n",
      "2. feature 산책로까지의 최단 거리(km) (0.106859)\n",
      "3. feature 등산로까지 최단거리(km) (0.099914)\n",
      "4. feature 농가까지의 거리(km) (0.091653)\n",
      "5. feature 건물까지거리(km) (0.090141)\n",
      "6. feature 하천거리(km) (0.083047)\n",
      "7. feature 등산객_이용빈도 (0.068155)\n",
      "8. feature 주변동물 출현빈도 (0.044273)\n",
      "9. feature 경사도 (0.043294)\n",
      "10. feature 주변 동물종 개수 (0.042755)\n",
      "11. feature 도로 최고제한속도(km/h) (0.037043)\n"
     ]
    },
    {
     "output_type": "display_data",
     "data": {
      "text/plain": [
       "<Figure size 432x288 with 1 Axes>"
      ],
      "image/png": "[encoded data removed]"
     },
     "metadata": {
      "needs_background": "light"
     }
    }
   ]
  },
  {
   "cell_type": "markdown",
   "source": [
    "# Parameter 조정 (GridSearch CV)"
   ],
   "metadata": {
    "collapsed": false
   }
  },
  {
   "cell_type": "code",
   "source": [
    "%%time\n",
    "parameters = {\n",
    "    'n_estimators': range(10, 100, 10),\n",
    "    'max_depth' : range(1, 30, 2),\n",
    "    'min_samples_split': range(1, 10, 7),\n",
    "    'min_samples_leaf': [1, 3, 5]\n",
    "}\n",
    "\n",
    "# Random Forest\n",
    "grid_cv = GridSearchCV(rf_clf, param_grid=parameters, n_jobs=-1, scoring='accuracy', cv=5)\n",
    "grid_cv.fit(train_x, train_y)\n",
    "\n",
    "print('GridSearchCV 최적 하이퍼 파라미터 :',grid_cv.best_params_)\n",
    "print('GridSearchCV 최고 정확도: {0:.4f}'.format(grid_cv.best_score_))\n",
    "best_cv = grid_cv.best_estimator_\n",
    "\n",
    "# GridSearchCV의 최적 하이퍼파라미터로 학습된 Estimator로 예측 및 평가 수행\n",
    "pred = best_cv.predict(test_x)\n",
    "accuracy = accuracy_score(test_y , pred)\n",
    "print('RandomForesetClassifier 정확도 : {0:.4f}'.format(accuracy))"
   ],
   "metadata": {
    "id": "ZvXOBRCmSTB8"
   },
   "execution_count": null,
   "outputs": []
  }
 ]
}