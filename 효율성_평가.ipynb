{
  "nbformat": 4,
  "nbformat_minor": 0,
  "metadata": {
    "colab": {
      "name": "효율성 평가.ipynb",
      "provenance": [],
      "collapsed_sections": [],
      "include_colab_link": true
    },
    "kernelspec": {
      "name": "python3",
      "display_name": "Python 3"
    },
    "language_info": {
      "name": "python"
    }
  },
  "cells": [
    {
      "cell_type": "markdown",
      "metadata": {
        "id": "view-in-github",
        "colab_type": "text"
      },
      "source": [
        "<a href=\"https://colab.research.google.com/github/HUFSDoeun/datacampus_dao/blob/main/%ED%9A%A8%EC%9C%A8%EC%84%B1_%ED%8F%89%EA%B0%80.ipynb\" target=\"_parent\"><img src=\"https://colab.research.google.com/assets/colab-badge.svg\" alt=\"Open In Colab\"/></a>"
      ]
    },
    {
      "cell_type": "markdown",
      "source": [
        "# 패키지"
      ],
      "metadata": {
        "id": "ss0qV6_-UQjc"
      }
    },
    {
      "cell_type": "code",
      "execution_count": null,
      "metadata": {
        "id": "rLg0zPcOpI1I"
      },
      "outputs": [],
      "source": [
        "import numpy as np\n",
        "import pandas as pd\n",
        "import os"
      ]
    },
    {
      "cell_type": "code",
      "source": [
        "from google.colab import drive\n",
        "drive.mount('/content/drive')"
      ],
      "metadata": {
        "id": "mnZJM76CK1Z6",
        "colab": {
          "base_uri": "https://localhost:8080/"
        },
        "outputId": "899881b1-b617-4b09-84aa-75b874347250"
      },
      "execution_count": null,
      "outputs": [
        {
          "output_type": "stream",
          "name": "stdout",
          "text": [
            "Drive already mounted at /content/drive; to attempt to forcibly remount, call drive.mount(\"/content/drive\", force_remount=True).\n"
          ]
        }
      ]
    },
    {
      "cell_type": "markdown",
      "source": [
        "# 데이터 로드"
      ],
      "metadata": {
        "id": "8qOfaRfSUVJe"
      }
    },
    {
      "cell_type": "code",
      "source": [
        "path = \"/content/drive/MyDrive/데청캠2022/데청캠 - 프로젝트/\""
      ],
      "metadata": {
        "id": "5yzK4iocOT1Z"
      },
      "execution_count": null,
      "outputs": []
    },
    {
      "cell_type": "code",
      "source": [
        "file_name_list = os.listdir(path)\n",
        "file_name_list = [file for file in file_name_list if file.endswith(\".csv\")]\n",
        "\n",
        "file_dict = {}\n",
        "for file in file_name_list:\n",
        "  file_dict[file[:-4]] = pd.read_csv(path+file, encoding = 'cp949')"
      ],
      "metadata": {
        "id": "StNh_Gu8Q1MQ"
      },
      "execution_count": null,
      "outputs": []
    },
    {
      "cell_type": "markdown",
      "source": [
        "# 효율성 평가\n",
        "- [참고 논문 : 야생동물 이용빈도 및 종다양도를 활용한 생태통로 효율성 평가 - 국립생태원](https://koreascience.kr/article/JAKO201908551716737.pdf)"
      ],
      "metadata": {
        "id": "4r2kcq76Ny_y"
      }
    },
    {
      "cell_type": "markdown",
      "source": [
        "## 종 다양도 계산\n",
        "- 종 다양도 = 이용 확인 종 수 / 주변 동물종 수"
      ],
      "metadata": {
        "id": "VWraE77QXCKH"
      }
    },
    {
      "cell_type": "code",
      "source": [
        "for df_name, df in file_dict.items():\n",
        "  df['종 다양도'] = df['이용확인종_수'] / df['주변 동물종 개수']\n",
        "  df['종 다양도'] = df['종 다양도'].fillna(0)\n",
        "  df.replace(np.inf, 0, inplace = True)"
      ],
      "metadata": {
        "id": "uIkocKV4XcK6"
      },
      "execution_count": null,
      "outputs": []
    },
    {
      "cell_type": "markdown",
      "source": [
        "## 효율성 판단\n",
        "- 효율성 양호 조건 : (이용빈도 >= mean) AND (종 다양도 >= 1)"
      ],
      "metadata": {
        "id": "qFSXTdN5cBkE"
      }
    },
    {
      "cell_type": "code",
      "source": [
        "freq_mean_dict = {} # 이용빈도 평균\n",
        "\n",
        "for df_name, df in file_dict.items():\n",
        "  mean = df['일평균이용빈도'].mean()\n",
        "  freq_mean_dict[df_name] = mean\n",
        "  df['효율성평가'] = 0\n",
        "  for idx in range(len(df)):\n",
        "    if df.loc[idx, '일평균이용빈도'] >= mean and df.loc[idx, '종 다양도'] >= 1:\n",
        "      df.loc[idx, '효율성평가'] = 1"
      ],
      "metadata": {
        "id": "NJI0tZneRL_c"
      },
      "execution_count": null,
      "outputs": []
    },
    {
      "cell_type": "code",
      "source": [
        "for df_name, df in file_dict.items():\n",
        "  df.to_csv(path + df_name + '효율성.csv', index=False, encoding='cp949')"
      ],
      "metadata": {
        "id": "cKwmf2FOl2aT"
      },
      "execution_count": null,
      "outputs": []
    }
  ]
}