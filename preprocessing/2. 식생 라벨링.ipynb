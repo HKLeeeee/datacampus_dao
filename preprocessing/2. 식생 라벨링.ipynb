{
 "cells": [
  {
   "cell_type": "code",
   "execution_count": 1,
   "metadata": {
    "collapsed": true,
    "id": "QjTf0UGad1-i"
   },
   "outputs": [],
   "source": [
    "import pandas as pd\n",
    "from DB import *\n",
    "\n",
    "db_connection = connect_db()"
   ]
  },
  {
   "cell_type": "code",
   "execution_count": 2,
   "outputs": [
    {
     "data": {
      "text/plain": "       번호  join_objectid join_군락기호       join_식물군락명     join_위도    join_경도  \\\n0    1495         180844        Pd            소나무군락  128.068519  35.354705   \n1    1277         110352      PdQm       소나무-신갈나무군락  128.397021  37.025322   \n2    1278         266241        Pd            소나무군락  128.304349  36.896691   \n3    1279         266241        Pd            소나무군락  128.304349  36.896691   \n4    1090         218527     RopPr  아까시나무-리기다소나무식재림  127.418655  36.715007   \n..    ...            ...       ...              ...         ...        ...   \n492  1089         218527     RopPr  아까시나무-리기다소나무식재림  127.418655  36.715007   \n493  1087         218493       Rop         아까시나무식재림  127.416540  36.717827   \n494  1088         218527     RopPr  아까시나무-리기다소나무식재림  127.418655  36.715007   \n495  1091         217873        Qa          상수리나무군락  127.474248  36.764959   \n496  1072         217385       Pik           잣나무식재림  127.512965  36.653320   \n\n     join_조사시작일  join_조사종료일  join_조사년도 join_시도명              join_layer  \\\n0           NaN         NaN       2016     경상남도  전국자연환경조사_4차_식생_2016_전국   \n1           NaN         NaN       2018     충청북도  전국자연환경조사_4차_식생_2018_전국   \n2           NaN         NaN       2016     충청북도  전국자연환경조사_4차_식생_2016_전국   \n3           NaN         NaN       2016     충청북도  전국자연환경조사_4차_식생_2016_전국   \n4           NaN         NaN       2016     충청북도  전국자연환경조사_4차_식생_2016_전국   \n..          ...         ...        ...      ...                     ...   \n492         NaN         NaN       2016     충청북도  전국자연환경조사_4차_식생_2016_전국   \n493         NaN         NaN       2016     충청북도  전국자연환경조사_4차_식생_2016_전국   \n494         NaN         NaN       2016     충청북도  전국자연환경조사_4차_식생_2016_전국   \n495         NaN         NaN       2017     충청북도  전국자연환경조사_4차_식생_2017_전국   \n496         NaN         NaN       2016     충청북도  전국자연환경조사_4차_식생_2016_전국   \n\n                                             join_path    distance  \n0    D:/다람쥐오래걷기/전국자연환경조사 4차 식생/전국자연환경조사_4차_식생_2016_...   30.082630  \n1    D:/다람쥐오래걷기/전국자연환경조사 4차 식생/전국자연환경조사_4차_식생_2018_...    0.000000  \n2    D:/다람쥐오래걷기/전국자연환경조사 4차 식생/전국자연환경조사_4차_식생_2016_...  171.879476  \n3    D:/다람쥐오래걷기/전국자연환경조사 4차 식생/전국자연환경조사_4차_식생_2016_...   29.874623  \n4    D:/다람쥐오래걷기/전국자연환경조사 4차 식생/전국자연환경조사_4차_식생_2016_...   83.135125  \n..                                                 ...         ...  \n492  D:/다람쥐오래걷기/전국자연환경조사 4차 식생/전국자연환경조사_4차_식생_2016_...   47.229682  \n493  D:/다람쥐오래걷기/전국자연환경조사 4차 식생/전국자연환경조사_4차_식생_2016_...   14.763222  \n494  D:/다람쥐오래걷기/전국자연환경조사 4차 식생/전국자연환경조사_4차_식생_2016_...  392.046457  \n495  D:/다람쥐오래걷기/전국자연환경조사 4차 식생/전국자연환경조사_4차_식생_2017_...   71.537445  \n496  D:/다람쥐오래걷기/전국자연환경조사 4차 식생/전국자연환경조사_4차_식생_2016_...    0.000000  \n\n[497 rows x 13 columns]",
      "text/html": "<div>\n<style scoped>\n    .dataframe tbody tr th:only-of-type {\n        vertical-align: middle;\n    }\n\n    .dataframe tbody tr th {\n        vertical-align: top;\n    }\n\n    .dataframe thead th {\n        text-align: right;\n    }\n</style>\n<table border=\"1\" class=\"dataframe\">\n  <thead>\n    <tr style=\"text-align: right;\">\n      <th></th>\n      <th>번호</th>\n      <th>join_objectid</th>\n      <th>join_군락기호</th>\n      <th>join_식물군락명</th>\n      <th>join_위도</th>\n      <th>join_경도</th>\n      <th>join_조사시작일</th>\n      <th>join_조사종료일</th>\n      <th>join_조사년도</th>\n      <th>join_시도명</th>\n      <th>join_layer</th>\n      <th>join_path</th>\n      <th>distance</th>\n    </tr>\n  </thead>\n  <tbody>\n    <tr>\n      <th>0</th>\n      <td>1495</td>\n      <td>180844</td>\n      <td>Pd</td>\n      <td>소나무군락</td>\n      <td>128.068519</td>\n      <td>35.354705</td>\n      <td>NaN</td>\n      <td>NaN</td>\n      <td>2016</td>\n      <td>경상남도</td>\n      <td>전국자연환경조사_4차_식생_2016_전국</td>\n      <td>D:/다람쥐오래걷기/전국자연환경조사 4차 식생/전국자연환경조사_4차_식생_2016_...</td>\n      <td>30.082630</td>\n    </tr>\n    <tr>\n      <th>1</th>\n      <td>1277</td>\n      <td>110352</td>\n      <td>PdQm</td>\n      <td>소나무-신갈나무군락</td>\n      <td>128.397021</td>\n      <td>37.025322</td>\n      <td>NaN</td>\n      <td>NaN</td>\n      <td>2018</td>\n      <td>충청북도</td>\n      <td>전국자연환경조사_4차_식생_2018_전국</td>\n      <td>D:/다람쥐오래걷기/전국자연환경조사 4차 식생/전국자연환경조사_4차_식생_2018_...</td>\n      <td>0.000000</td>\n    </tr>\n    <tr>\n      <th>2</th>\n      <td>1278</td>\n      <td>266241</td>\n      <td>Pd</td>\n      <td>소나무군락</td>\n      <td>128.304349</td>\n      <td>36.896691</td>\n      <td>NaN</td>\n      <td>NaN</td>\n      <td>2016</td>\n      <td>충청북도</td>\n      <td>전국자연환경조사_4차_식생_2016_전국</td>\n      <td>D:/다람쥐오래걷기/전국자연환경조사 4차 식생/전국자연환경조사_4차_식생_2016_...</td>\n      <td>171.879476</td>\n    </tr>\n    <tr>\n      <th>3</th>\n      <td>1279</td>\n      <td>266241</td>\n      <td>Pd</td>\n      <td>소나무군락</td>\n      <td>128.304349</td>\n      <td>36.896691</td>\n      <td>NaN</td>\n      <td>NaN</td>\n      <td>2016</td>\n      <td>충청북도</td>\n      <td>전국자연환경조사_4차_식생_2016_전국</td>\n      <td>D:/다람쥐오래걷기/전국자연환경조사 4차 식생/전국자연환경조사_4차_식생_2016_...</td>\n      <td>29.874623</td>\n    </tr>\n    <tr>\n      <th>4</th>\n      <td>1090</td>\n      <td>218527</td>\n      <td>RopPr</td>\n      <td>아까시나무-리기다소나무식재림</td>\n      <td>127.418655</td>\n      <td>36.715007</td>\n      <td>NaN</td>\n      <td>NaN</td>\n      <td>2016</td>\n      <td>충청북도</td>\n      <td>전국자연환경조사_4차_식생_2016_전국</td>\n      <td>D:/다람쥐오래걷기/전국자연환경조사 4차 식생/전국자연환경조사_4차_식생_2016_...</td>\n      <td>83.135125</td>\n    </tr>\n    <tr>\n      <th>...</th>\n      <td>...</td>\n      <td>...</td>\n      <td>...</td>\n      <td>...</td>\n      <td>...</td>\n      <td>...</td>\n      <td>...</td>\n      <td>...</td>\n      <td>...</td>\n      <td>...</td>\n      <td>...</td>\n      <td>...</td>\n      <td>...</td>\n    </tr>\n    <tr>\n      <th>492</th>\n      <td>1089</td>\n      <td>218527</td>\n      <td>RopPr</td>\n      <td>아까시나무-리기다소나무식재림</td>\n      <td>127.418655</td>\n      <td>36.715007</td>\n      <td>NaN</td>\n      <td>NaN</td>\n      <td>2016</td>\n      <td>충청북도</td>\n      <td>전국자연환경조사_4차_식생_2016_전국</td>\n      <td>D:/다람쥐오래걷기/전국자연환경조사 4차 식생/전국자연환경조사_4차_식생_2016_...</td>\n      <td>47.229682</td>\n    </tr>\n    <tr>\n      <th>493</th>\n      <td>1087</td>\n      <td>218493</td>\n      <td>Rop</td>\n      <td>아까시나무식재림</td>\n      <td>127.416540</td>\n      <td>36.717827</td>\n      <td>NaN</td>\n      <td>NaN</td>\n      <td>2016</td>\n      <td>충청북도</td>\n      <td>전국자연환경조사_4차_식생_2016_전국</td>\n      <td>D:/다람쥐오래걷기/전국자연환경조사 4차 식생/전국자연환경조사_4차_식생_2016_...</td>\n      <td>14.763222</td>\n    </tr>\n    <tr>\n      <th>494</th>\n      <td>1088</td>\n      <td>218527</td>\n      <td>RopPr</td>\n      <td>아까시나무-리기다소나무식재림</td>\n      <td>127.418655</td>\n      <td>36.715007</td>\n      <td>NaN</td>\n      <td>NaN</td>\n      <td>2016</td>\n      <td>충청북도</td>\n      <td>전국자연환경조사_4차_식생_2016_전국</td>\n      <td>D:/다람쥐오래걷기/전국자연환경조사 4차 식생/전국자연환경조사_4차_식생_2016_...</td>\n      <td>392.046457</td>\n    </tr>\n    <tr>\n      <th>495</th>\n      <td>1091</td>\n      <td>217873</td>\n      <td>Qa</td>\n      <td>상수리나무군락</td>\n      <td>127.474248</td>\n      <td>36.764959</td>\n      <td>NaN</td>\n      <td>NaN</td>\n      <td>2017</td>\n      <td>충청북도</td>\n      <td>전국자연환경조사_4차_식생_2017_전국</td>\n      <td>D:/다람쥐오래걷기/전국자연환경조사 4차 식생/전국자연환경조사_4차_식생_2017_...</td>\n      <td>71.537445</td>\n    </tr>\n    <tr>\n      <th>496</th>\n      <td>1072</td>\n      <td>217385</td>\n      <td>Pik</td>\n      <td>잣나무식재림</td>\n      <td>127.512965</td>\n      <td>36.653320</td>\n      <td>NaN</td>\n      <td>NaN</td>\n      <td>2016</td>\n      <td>충청북도</td>\n      <td>전국자연환경조사_4차_식생_2016_전국</td>\n      <td>D:/다람쥐오래걷기/전국자연환경조사 4차 식생/전국자연환경조사_4차_식생_2016_...</td>\n      <td>0.000000</td>\n    </tr>\n  </tbody>\n</table>\n<p>497 rows × 13 columns</p>\n</div>"
     },
     "execution_count": 2,
     "metadata": {},
     "output_type": "execute_result"
    }
   ],
   "source": [
    "df = pd.read_csv('.././data/variables/식생_join.csv', encoding='cp949')\n",
    "df"
   ],
   "metadata": {
    "pycharm": {
     "name": "#%%\n"
    },
    "colab": {
     "base_uri": "https://localhost:8080/",
     "height": 1000
    },
    "id": "6McniZRxd1-t",
    "executionInfo": {
     "status": "ok",
     "timestamp": 1660904380034,
     "user_tz": -540,
     "elapsed": 366,
     "user": {
      "displayName": "인하영",
      "userId": "01602148778798879023"
     }
    },
    "outputId": "b279badd-dfd4-4eca-9e3e-c8acfc6fbeca"
   }
  },
  {
   "cell_type": "code",
   "execution_count": 3,
   "outputs": [],
   "source": [
    "df.loc[df[df['distance']>2300].index, 'join_식물군락명'] = '판단불가'"
   ],
   "metadata": {
    "pycharm": {
     "name": "#%%\n"
    },
    "id": "H6QfmLuHd1-w",
    "executionInfo": {
     "status": "ok",
     "timestamp": 1660904399354,
     "user_tz": -540,
     "elapsed": 353,
     "user": {
      "displayName": "인하영",
      "userId": "01602148778798879023"
     }
    }
   }
  },
  {
   "cell_type": "markdown",
   "source": [
    "2.3km거리 이상 떨어진 식생의 특성은 사용하지 않고, 대신 판단불가로 대체함"
   ],
   "metadata": {
    "collapsed": false,
    "id": "PvU7FPwSd1-x"
   }
  },
  {
   "cell_type": "code",
   "execution_count": 4,
   "outputs": [
    {
     "data": {
      "text/plain": "80"
     },
     "execution_count": 4,
     "metadata": {},
     "output_type": "execute_result"
    }
   ],
   "source": [
    "df['join_식물군락명'].nunique()"
   ],
   "metadata": {
    "pycharm": {
     "name": "#%%\n"
    },
    "id": "PEjF1RRid1-z",
    "executionInfo": {
     "status": "ok",
     "timestamp": 1660904401527,
     "user_tz": -540,
     "elapsed": 370,
     "user": {
      "displayName": "인하영",
      "userId": "01602148778798879023"
     }
    },
    "colab": {
     "base_uri": "https://localhost:8080/"
    },
    "outputId": "7c453e84-1f84-4436-d692-446f9c2a684d"
   }
  },
  {
   "cell_type": "code",
   "execution_count": 5,
   "outputs": [
    {
     "data": {
      "text/plain": "join_식물군락명\n2차초지           4\n개발지            6\n곰솔-상수리나무군락     2\n곰솔-소나무군락       2\n곰솔-소나무식재림      1\n              ..\n졸참나무-신갈나무군락    3\n졸참나무군락         1\n칡군락            1\n판단불가           4\n편백식재림          1\nName: 번호, Length: 80, dtype: int64"
     },
     "execution_count": 5,
     "metadata": {},
     "output_type": "execute_result"
    }
   ],
   "source": [
    "df.groupby('join_식물군락명')['번호'].count()"
   ],
   "metadata": {
    "pycharm": {
     "name": "#%%\n"
    },
    "id": "OboX9dJid1-2",
    "executionInfo": {
     "status": "ok",
     "timestamp": 1660904310181,
     "user_tz": -540,
     "elapsed": 367,
     "user": {
      "displayName": "인하영",
      "userId": "01602148778798879023"
     }
    },
    "colab": {
     "base_uri": "https://localhost:8080/"
    },
    "outputId": "0b92ddcb-ad03-4aa5-f9e1-43b7a005530b"
   }
  },
  {
   "cell_type": "code",
   "execution_count": 6,
   "outputs": [
    {
     "data": {
      "text/plain": "       번호       join_식물군락명\n0    1495            소나무군락\n1    1277       소나무-신갈나무군락\n2    1278            소나무군락\n3    1279            소나무군락\n4    1090  아까시나무-리기다소나무식재림\n..    ...              ...\n492  1089  아까시나무-리기다소나무식재림\n493  1087         아까시나무식재림\n494  1088  아까시나무-리기다소나무식재림\n495  1091          상수리나무군락\n496  1072           잣나무식재림\n\n[497 rows x 2 columns]",
      "text/html": "<div>\n<style scoped>\n    .dataframe tbody tr th:only-of-type {\n        vertical-align: middle;\n    }\n\n    .dataframe tbody tr th {\n        vertical-align: top;\n    }\n\n    .dataframe thead th {\n        text-align: right;\n    }\n</style>\n<table border=\"1\" class=\"dataframe\">\n  <thead>\n    <tr style=\"text-align: right;\">\n      <th></th>\n      <th>번호</th>\n      <th>join_식물군락명</th>\n    </tr>\n  </thead>\n  <tbody>\n    <tr>\n      <th>0</th>\n      <td>1495</td>\n      <td>소나무군락</td>\n    </tr>\n    <tr>\n      <th>1</th>\n      <td>1277</td>\n      <td>소나무-신갈나무군락</td>\n    </tr>\n    <tr>\n      <th>2</th>\n      <td>1278</td>\n      <td>소나무군락</td>\n    </tr>\n    <tr>\n      <th>3</th>\n      <td>1279</td>\n      <td>소나무군락</td>\n    </tr>\n    <tr>\n      <th>4</th>\n      <td>1090</td>\n      <td>아까시나무-리기다소나무식재림</td>\n    </tr>\n    <tr>\n      <th>...</th>\n      <td>...</td>\n      <td>...</td>\n    </tr>\n    <tr>\n      <th>492</th>\n      <td>1089</td>\n      <td>아까시나무-리기다소나무식재림</td>\n    </tr>\n    <tr>\n      <th>493</th>\n      <td>1087</td>\n      <td>아까시나무식재림</td>\n    </tr>\n    <tr>\n      <th>494</th>\n      <td>1088</td>\n      <td>아까시나무-리기다소나무식재림</td>\n    </tr>\n    <tr>\n      <th>495</th>\n      <td>1091</td>\n      <td>상수리나무군락</td>\n    </tr>\n    <tr>\n      <th>496</th>\n      <td>1072</td>\n      <td>잣나무식재림</td>\n    </tr>\n  </tbody>\n</table>\n<p>497 rows × 2 columns</p>\n</div>"
     },
     "metadata": {},
     "output_type": "display_data"
    },
    {
     "name": "stdout",
     "output_type": "stream",
     "text": [
      "번호            0\n",
      "join_식물군락명    0\n",
      "dtype: int64\n"
     ]
    }
   ],
   "source": [
    "df = df[['번호', 'join_식물군락명']]\n",
    "display(df)\n",
    "print(df.isnull().sum())"
   ],
   "metadata": {
    "pycharm": {
     "name": "#%%\n"
    },
    "id": "MKLDcZoJd1-4",
    "executionInfo": {
     "status": "ok",
     "timestamp": 1660904428911,
     "user_tz": -540,
     "elapsed": 381,
     "user": {
      "displayName": "인하영",
      "userId": "01602148778798879023"
     }
    },
    "colab": {
     "base_uri": "https://localhost:8080/",
     "height": 479
    },
    "outputId": "f8caaafb-aea7-4abb-d6fb-d0a62981f5a4"
   }
  },
  {
   "cell_type": "markdown",
   "source": [
    "# 라벨링"
   ],
   "metadata": {
    "collapsed": false,
    "id": "1W1fSXu-d1--"
   }
  },
  {
   "cell_type": "code",
   "source": [
    "df['join_식물군락명'] = [0 if ((not '나무' in x) | (not '군락' in x)) else x for x in df['join_식물군락명']]\n",
    "df['join_식물군락명'] = [1 if x!=0 else x for x in df['join_식물군락명']]\n",
    "df['join_식물군락명'].unique()"
   ],
   "metadata": {
    "id": "_VfY2tQqgLqk",
    "executionInfo": {
     "status": "ok",
     "timestamp": 1660904446030,
     "user_tz": -540,
     "elapsed": 376,
     "user": {
      "displayName": "인하영",
      "userId": "01602148778798879023"
     }
    },
    "colab": {
     "base_uri": "https://localhost:8080/"
    },
    "outputId": "3c3ef09c-afe7-419e-abcc-2910e74d1d83"
   },
   "execution_count": 7,
   "outputs": [
    {
     "name": "stderr",
     "output_type": "stream",
     "text": [
      "C:\\Users\\Administrator\\AppData\\Local\\Temp\\ipykernel_21288\\387076227.py:1: SettingWithCopyWarning: \n",
      "A value is trying to be set on a copy of a slice from a DataFrame.\n",
      "Try using .loc[row_indexer,col_indexer] = value instead\n",
      "\n",
      "See the caveats in the documentation: https://pandas.pydata.org/pandas-docs/stable/user_guide/indexing.html#returning-a-view-versus-a-copy\n",
      "  df['join_식물군락명'] = [0 if ((not '나무' in x) | (not '군락' in x)) else x for x in df['join_식물군락명']]\n",
      "C:\\Users\\Administrator\\AppData\\Local\\Temp\\ipykernel_21288\\387076227.py:2: SettingWithCopyWarning: \n",
      "A value is trying to be set on a copy of a slice from a DataFrame.\n",
      "Try using .loc[row_indexer,col_indexer] = value instead\n",
      "\n",
      "See the caveats in the documentation: https://pandas.pydata.org/pandas-docs/stable/user_guide/indexing.html#returning-a-view-versus-a-copy\n",
      "  df['join_식물군락명'] = [1 if x!=0 else x for x in df['join_식물군락명']]\n"
     ]
    },
    {
     "data": {
      "text/plain": "array([1, 0], dtype=int64)"
     },
     "execution_count": 7,
     "metadata": {},
     "output_type": "execute_result"
    }
   ]
  },
  {
   "cell_type": "code",
   "execution_count": 8,
   "outputs": [
    {
     "name": "stderr",
     "output_type": "stream",
     "text": [
      "C:\\Users\\Administrator\\AppData\\Local\\Temp\\ipykernel_21288\\1572407251.py:1: SettingWithCopyWarning: \n",
      "A value is trying to be set on a copy of a slice from a DataFrame\n",
      "\n",
      "See the caveats in the documentation: https://pandas.pydata.org/pandas-docs/stable/user_guide/indexing.html#returning-a-view-versus-a-copy\n",
      "  df.rename(columns={'join_식물군락명':'식생'}, inplace=True)\n"
     ]
    }
   ],
   "source": [
    "df.rename(columns={'join_식물군락명':'식생'}, inplace=True)"
   ],
   "metadata": {
    "collapsed": false,
    "pycharm": {
     "name": "#%%\n"
    }
   }
  },
  {
   "cell_type": "code",
   "execution_count": 9,
   "outputs": [
    {
     "data": {
      "text/plain": "       번호  경사도  농가까지의 거리(km)  최고제한속도(km/h)  등산로까지 최단거리(km)\n0    1001    6      0.125686          80.0        1.903039\n1    1002    5      0.074627          60.0        0.120319\n2    1004    2      0.110617          60.0        0.047211\n3    1005    2      0.009030          80.0        0.233820\n4    1006    4      0.098269          80.0        2.172428\n..    ...  ...           ...           ...             ...\n492  1561    2      0.087448          60.0        0.000416\n493  1562    5      0.137822          80.0        2.835246\n494  1564    4      0.054073          80.0        0.886170\n495  1567    5      0.102655          60.0        9.125829\n496  1568    4      0.086586          60.0        0.642351\n\n[497 rows x 5 columns]",
      "text/html": "<div>\n<style scoped>\n    .dataframe tbody tr th:only-of-type {\n        vertical-align: middle;\n    }\n\n    .dataframe tbody tr th {\n        vertical-align: top;\n    }\n\n    .dataframe thead th {\n        text-align: right;\n    }\n</style>\n<table border=\"1\" class=\"dataframe\">\n  <thead>\n    <tr style=\"text-align: right;\">\n      <th></th>\n      <th>번호</th>\n      <th>경사도</th>\n      <th>농가까지의 거리(km)</th>\n      <th>최고제한속도(km/h)</th>\n      <th>등산로까지 최단거리(km)</th>\n    </tr>\n  </thead>\n  <tbody>\n    <tr>\n      <th>0</th>\n      <td>1001</td>\n      <td>6</td>\n      <td>0.125686</td>\n      <td>80.0</td>\n      <td>1.903039</td>\n    </tr>\n    <tr>\n      <th>1</th>\n      <td>1002</td>\n      <td>5</td>\n      <td>0.074627</td>\n      <td>60.0</td>\n      <td>0.120319</td>\n    </tr>\n    <tr>\n      <th>2</th>\n      <td>1004</td>\n      <td>2</td>\n      <td>0.110617</td>\n      <td>60.0</td>\n      <td>0.047211</td>\n    </tr>\n    <tr>\n      <th>3</th>\n      <td>1005</td>\n      <td>2</td>\n      <td>0.009030</td>\n      <td>80.0</td>\n      <td>0.233820</td>\n    </tr>\n    <tr>\n      <th>4</th>\n      <td>1006</td>\n      <td>4</td>\n      <td>0.098269</td>\n      <td>80.0</td>\n      <td>2.172428</td>\n    </tr>\n    <tr>\n      <th>...</th>\n      <td>...</td>\n      <td>...</td>\n      <td>...</td>\n      <td>...</td>\n      <td>...</td>\n    </tr>\n    <tr>\n      <th>492</th>\n      <td>1561</td>\n      <td>2</td>\n      <td>0.087448</td>\n      <td>60.0</td>\n      <td>0.000416</td>\n    </tr>\n    <tr>\n      <th>493</th>\n      <td>1562</td>\n      <td>5</td>\n      <td>0.137822</td>\n      <td>80.0</td>\n      <td>2.835246</td>\n    </tr>\n    <tr>\n      <th>494</th>\n      <td>1564</td>\n      <td>4</td>\n      <td>0.054073</td>\n      <td>80.0</td>\n      <td>0.886170</td>\n    </tr>\n    <tr>\n      <th>495</th>\n      <td>1567</td>\n      <td>5</td>\n      <td>0.102655</td>\n      <td>60.0</td>\n      <td>9.125829</td>\n    </tr>\n    <tr>\n      <th>496</th>\n      <td>1568</td>\n      <td>4</td>\n      <td>0.086586</td>\n      <td>60.0</td>\n      <td>0.642351</td>\n    </tr>\n  </tbody>\n</table>\n<p>497 rows × 5 columns</p>\n</div>"
     },
     "execution_count": 9,
     "metadata": {},
     "output_type": "execute_result"
    }
   ],
   "source": [
    "table = load_data_from_rds('변수관계설정', db_connection)\n",
    "table"
   ],
   "metadata": {
    "collapsed": false,
    "pycharm": {
     "name": "#%%\n"
    }
   }
  },
  {
   "cell_type": "code",
   "execution_count": 10,
   "outputs": [
    {
     "data": {
      "text/plain": "       번호  경사도  농가까지의 거리(km)  최고제한속도(km/h)  등산로까지 최단거리(km)  식생\n0    1001    6      0.125686          80.0        1.903039   0\n1    1002    5      0.074627          60.0        0.120319   1\n2    1004    2      0.110617          60.0        0.047211   1\n3    1005    2      0.009030          80.0        0.233820   1\n4    1006    4      0.098269          80.0        2.172428   0\n..    ...  ...           ...           ...             ...  ..\n492  1561    2      0.087448          60.0        0.000416   1\n493  1562    5      0.137822          80.0        2.835246   1\n494  1564    4      0.054073          80.0        0.886170   1\n495  1567    5      0.102655          60.0        9.125829   1\n496  1568    4      0.086586          60.0        0.642351   0\n\n[497 rows x 6 columns]",
      "text/html": "<div>\n<style scoped>\n    .dataframe tbody tr th:only-of-type {\n        vertical-align: middle;\n    }\n\n    .dataframe tbody tr th {\n        vertical-align: top;\n    }\n\n    .dataframe thead th {\n        text-align: right;\n    }\n</style>\n<table border=\"1\" class=\"dataframe\">\n  <thead>\n    <tr style=\"text-align: right;\">\n      <th></th>\n      <th>번호</th>\n      <th>경사도</th>\n      <th>농가까지의 거리(km)</th>\n      <th>최고제한속도(km/h)</th>\n      <th>등산로까지 최단거리(km)</th>\n      <th>식생</th>\n    </tr>\n  </thead>\n  <tbody>\n    <tr>\n      <th>0</th>\n      <td>1001</td>\n      <td>6</td>\n      <td>0.125686</td>\n      <td>80.0</td>\n      <td>1.903039</td>\n      <td>0</td>\n    </tr>\n    <tr>\n      <th>1</th>\n      <td>1002</td>\n      <td>5</td>\n      <td>0.074627</td>\n      <td>60.0</td>\n      <td>0.120319</td>\n      <td>1</td>\n    </tr>\n    <tr>\n      <th>2</th>\n      <td>1004</td>\n      <td>2</td>\n      <td>0.110617</td>\n      <td>60.0</td>\n      <td>0.047211</td>\n      <td>1</td>\n    </tr>\n    <tr>\n      <th>3</th>\n      <td>1005</td>\n      <td>2</td>\n      <td>0.009030</td>\n      <td>80.0</td>\n      <td>0.233820</td>\n      <td>1</td>\n    </tr>\n    <tr>\n      <th>4</th>\n      <td>1006</td>\n      <td>4</td>\n      <td>0.098269</td>\n      <td>80.0</td>\n      <td>2.172428</td>\n      <td>0</td>\n    </tr>\n    <tr>\n      <th>...</th>\n      <td>...</td>\n      <td>...</td>\n      <td>...</td>\n      <td>...</td>\n      <td>...</td>\n      <td>...</td>\n    </tr>\n    <tr>\n      <th>492</th>\n      <td>1561</td>\n      <td>2</td>\n      <td>0.087448</td>\n      <td>60.0</td>\n      <td>0.000416</td>\n      <td>1</td>\n    </tr>\n    <tr>\n      <th>493</th>\n      <td>1562</td>\n      <td>5</td>\n      <td>0.137822</td>\n      <td>80.0</td>\n      <td>2.835246</td>\n      <td>1</td>\n    </tr>\n    <tr>\n      <th>494</th>\n      <td>1564</td>\n      <td>4</td>\n      <td>0.054073</td>\n      <td>80.0</td>\n      <td>0.886170</td>\n      <td>1</td>\n    </tr>\n    <tr>\n      <th>495</th>\n      <td>1567</td>\n      <td>5</td>\n      <td>0.102655</td>\n      <td>60.0</td>\n      <td>9.125829</td>\n      <td>1</td>\n    </tr>\n    <tr>\n      <th>496</th>\n      <td>1568</td>\n      <td>4</td>\n      <td>0.086586</td>\n      <td>60.0</td>\n      <td>0.642351</td>\n      <td>0</td>\n    </tr>\n  </tbody>\n</table>\n<p>497 rows × 6 columns</p>\n</div>"
     },
     "execution_count": 10,
     "metadata": {},
     "output_type": "execute_result"
    }
   ],
   "source": [
    "table= table.merge(df, on='번호')\n",
    "table"
   ],
   "metadata": {
    "collapsed": false,
    "pycharm": {
     "name": "#%%\n"
    }
   }
  },
  {
   "cell_type": "code",
   "execution_count": 11,
   "outputs": [],
   "source": [
    "upload_data_to_rds(table, '변수관계설정', db_connection)"
   ],
   "metadata": {
    "pycharm": {
     "name": "#%%\n"
    },
    "id": "40b3oQVZd1_E",
    "executionInfo": {
     "status": "ok",
     "timestamp": 1660904457141,
     "user_tz": -540,
     "elapsed": 2499,
     "user": {
      "displayName": "인하영",
      "userId": "01602148778798879023"
     }
    }
   }
  },
  {
   "cell_type": "code",
   "execution_count": null,
   "outputs": [],
   "source": [],
   "metadata": {
    "collapsed": false,
    "pycharm": {
     "name": "#%%\n"
    }
   }
  }
 ],
 "metadata": {
  "kernelspec": {
   "display_name": "Python 3",
   "language": "python",
   "name": "python3"
  },
  "language_info": {
   "codemirror_mode": {
    "name": "ipython",
    "version": 2
   },
   "file_extension": ".py",
   "mimetype": "text/x-python",
   "name": "python",
   "nbconvert_exporter": "python",
   "pygments_lexer": "ipython2",
   "version": "2.7.6"
  },
  "colab": {
   "name": "2. 식생.ipynb",
   "provenance": [],
   "collapsed_sections": []
  }
 },
 "nbformat": 4,
 "nbformat_minor": 0
}