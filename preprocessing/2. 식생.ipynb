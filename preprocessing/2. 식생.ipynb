{
 "cells": [
  {
   "cell_type": "code",
   "execution_count": 1,
   "metadata": {
    "collapsed": true
   },
   "outputs": [],
   "source": [
    "import geopandas as gpd\n",
    "import pandas as pd\n",
    "from sqlalchemy import create_engine\n",
    "import pymysql"
   ]
  },
  {
   "cell_type": "code",
   "execution_count": 2,
   "outputs": [],
   "source": [
    "endpoint = 'dao.c51deksujiip.ap-northeast-2.rds.amazonaws.com'\n",
    "schema = 'dao'\n",
    "db_connection_str = 'mysql+pymysql://admin:ekfkawnl@{}/{}'.format(endpoint, schema)\n",
    "try :\n",
    "    db_connection = create_engine(db_connection_str)\n",
    "    conn = db_connection.connect()\n",
    "except :\n",
    "    print('fail to connect db')\n",
    "\n",
    "def load_data_from_rds(tabel_name):\n",
    "  sql = \"SELECT * FROM {}\".format(tabel_name)\n",
    "  df = pd.read_sql(sql, db_connection)\n",
    "  return df"
   ],
   "metadata": {
    "collapsed": false,
    "pycharm": {
     "name": "#%%\n"
    }
   }
  },
  {
   "cell_type": "code",
   "execution_count": 4,
   "outputs": [
    {
     "data": {
      "text/plain": "       번호     위도_십진      경도_십진  생태통로타  차선_수  등산객이용  생태통로효        이용확인종  이용확인   \\\n0    1495  35.36019  128.06375      0     1      1      3          NaN      0   \n1    1277  37.03408  128.40661      1     0      0      3          NaN      0   \n2    1278  36.89832  128.30563      1     0      0      1  고라니 멧돼지 파충류      3   \n3    1279  36.89687  128.30581      1     0      0      1  고라니 멧돼지 파충류      3   \n4    1090  36.71336  127.42200      0     2      5      1    개 고양이 다람쥐      3   \n..    ...       ...        ...    ...   ...    ...    ...          ...    ...   \n492  1089  36.71278  127.42056      0     2      0      0      고라니 멧돼지      2   \n493  1087  36.71722  127.41778      0     1      5      0      고라니 멧돼지      2   \n494  1088  36.71222  127.42528      0     1      5      0      고라니 멧돼지      2   \n495  1091  36.76750  127.47333      0     0      0      0      멧돼지 고라니      2   \n496  1072  36.65293  127.51278      0     2      5      0      고라니 멧돼지      2   \n\n      면적_m^2  ...       join_식물군락명     join_위도    join_경도 join_조사시작일  \\\n0        NaN  ...            소나무군락  128.068519  35.354705        NaN   \n1        NaN  ...       소나무-신갈나무군락  128.397021  37.025322        NaN   \n2        NaN  ...            소나무군락  128.304349  36.896691        NaN   \n3        NaN  ...            소나무군락  128.304349  36.896691        NaN   \n4     312.74  ...  아까시나무-리기다소나무식재림  127.418655  36.715007        NaN   \n..       ...  ...              ...         ...        ...        ...   \n492   674.31  ...  아까시나무-리기다소나무식재림  127.418655  36.715007        NaN   \n493   526.32  ...         아까시나무식재림  127.416540  36.717827        NaN   \n494   674.31  ...  아까시나무-리기다소나무식재림  127.418655  36.715007        NaN   \n495   140.00  ...          상수리나무군락  127.474248  36.764959        NaN   \n496  2460.30  ...           잣나무식재림  127.512965  36.653320        NaN   \n\n    join_조사종료일  join_조사년도  join_시도명              join_layer  \\\n0          NaN       2016      경상남도  전국자연환경조사_4차_식생_2016_전국   \n1          NaN       2018      충청북도  전국자연환경조사_4차_식생_2018_전국   \n2          NaN       2016      충청북도  전국자연환경조사_4차_식생_2016_전국   \n3          NaN       2016      충청북도  전국자연환경조사_4차_식생_2016_전국   \n4          NaN       2016      충청북도  전국자연환경조사_4차_식생_2016_전국   \n..         ...        ...       ...                     ...   \n492        NaN       2016      충청북도  전국자연환경조사_4차_식생_2016_전국   \n493        NaN       2016      충청북도  전국자연환경조사_4차_식생_2016_전국   \n494        NaN       2016      충청북도  전국자연환경조사_4차_식생_2016_전국   \n495        NaN       2017      충청북도  전국자연환경조사_4차_식생_2017_전국   \n496        NaN       2016      충청북도  전국자연환경조사_4차_식생_2016_전국   \n\n                                             join_path    distance  \n0    D:/다람쥐오래걷기/전국자연환경조사 4차 식생/전국자연환경조사_4차_식생_2016_...   30.082630  \n1    D:/다람쥐오래걷기/전국자연환경조사 4차 식생/전국자연환경조사_4차_식생_2018_...    0.000000  \n2    D:/다람쥐오래걷기/전국자연환경조사 4차 식생/전국자연환경조사_4차_식생_2016_...  171.879476  \n3    D:/다람쥐오래걷기/전국자연환경조사 4차 식생/전국자연환경조사_4차_식생_2016_...   29.874623  \n4    D:/다람쥐오래걷기/전국자연환경조사 4차 식생/전국자연환경조사_4차_식생_2016_...   83.135125  \n..                                                 ...         ...  \n492  D:/다람쥐오래걷기/전국자연환경조사 4차 식생/전국자연환경조사_4차_식생_2016_...   47.229682  \n493  D:/다람쥐오래걷기/전국자연환경조사 4차 식생/전국자연환경조사_4차_식생_2016_...   14.763222  \n494  D:/다람쥐오래걷기/전국자연환경조사 4차 식생/전국자연환경조사_4차_식생_2016_...  392.046457  \n495  D:/다람쥐오래걷기/전국자연환경조사 4차 식생/전국자연환경조사_4차_식생_2017_...   71.537445  \n496  D:/다람쥐오래걷기/전국자연환경조사 4차 식생/전국자연환경조사_4차_식생_2016_...    0.000000  \n\n[497 rows x 24 columns]",
      "text/html": "<div>\n<style scoped>\n    .dataframe tbody tr th:only-of-type {\n        vertical-align: middle;\n    }\n\n    .dataframe tbody tr th {\n        vertical-align: top;\n    }\n\n    .dataframe thead th {\n        text-align: right;\n    }\n</style>\n<table border=\"1\" class=\"dataframe\">\n  <thead>\n    <tr style=\"text-align: right;\">\n      <th></th>\n      <th>번호</th>\n      <th>위도_십진</th>\n      <th>경도_십진</th>\n      <th>생태통로타</th>\n      <th>차선_수</th>\n      <th>등산객이용</th>\n      <th>생태통로효</th>\n      <th>이용확인종</th>\n      <th>이용확인</th>\n      <th>면적_m^2</th>\n      <th>...</th>\n      <th>join_식물군락명</th>\n      <th>join_위도</th>\n      <th>join_경도</th>\n      <th>join_조사시작일</th>\n      <th>join_조사종료일</th>\n      <th>join_조사년도</th>\n      <th>join_시도명</th>\n      <th>join_layer</th>\n      <th>join_path</th>\n      <th>distance</th>\n    </tr>\n  </thead>\n  <tbody>\n    <tr>\n      <th>0</th>\n      <td>1495</td>\n      <td>35.36019</td>\n      <td>128.06375</td>\n      <td>0</td>\n      <td>1</td>\n      <td>1</td>\n      <td>3</td>\n      <td>NaN</td>\n      <td>0</td>\n      <td>NaN</td>\n      <td>...</td>\n      <td>소나무군락</td>\n      <td>128.068519</td>\n      <td>35.354705</td>\n      <td>NaN</td>\n      <td>NaN</td>\n      <td>2016</td>\n      <td>경상남도</td>\n      <td>전국자연환경조사_4차_식생_2016_전국</td>\n      <td>D:/다람쥐오래걷기/전국자연환경조사 4차 식생/전국자연환경조사_4차_식생_2016_...</td>\n      <td>30.082630</td>\n    </tr>\n    <tr>\n      <th>1</th>\n      <td>1277</td>\n      <td>37.03408</td>\n      <td>128.40661</td>\n      <td>1</td>\n      <td>0</td>\n      <td>0</td>\n      <td>3</td>\n      <td>NaN</td>\n      <td>0</td>\n      <td>NaN</td>\n      <td>...</td>\n      <td>소나무-신갈나무군락</td>\n      <td>128.397021</td>\n      <td>37.025322</td>\n      <td>NaN</td>\n      <td>NaN</td>\n      <td>2018</td>\n      <td>충청북도</td>\n      <td>전국자연환경조사_4차_식생_2018_전국</td>\n      <td>D:/다람쥐오래걷기/전국자연환경조사 4차 식생/전국자연환경조사_4차_식생_2018_...</td>\n      <td>0.000000</td>\n    </tr>\n    <tr>\n      <th>2</th>\n      <td>1278</td>\n      <td>36.89832</td>\n      <td>128.30563</td>\n      <td>1</td>\n      <td>0</td>\n      <td>0</td>\n      <td>1</td>\n      <td>고라니 멧돼지 파충류</td>\n      <td>3</td>\n      <td>NaN</td>\n      <td>...</td>\n      <td>소나무군락</td>\n      <td>128.304349</td>\n      <td>36.896691</td>\n      <td>NaN</td>\n      <td>NaN</td>\n      <td>2016</td>\n      <td>충청북도</td>\n      <td>전국자연환경조사_4차_식생_2016_전국</td>\n      <td>D:/다람쥐오래걷기/전국자연환경조사 4차 식생/전국자연환경조사_4차_식생_2016_...</td>\n      <td>171.879476</td>\n    </tr>\n    <tr>\n      <th>3</th>\n      <td>1279</td>\n      <td>36.89687</td>\n      <td>128.30581</td>\n      <td>1</td>\n      <td>0</td>\n      <td>0</td>\n      <td>1</td>\n      <td>고라니 멧돼지 파충류</td>\n      <td>3</td>\n      <td>NaN</td>\n      <td>...</td>\n      <td>소나무군락</td>\n      <td>128.304349</td>\n      <td>36.896691</td>\n      <td>NaN</td>\n      <td>NaN</td>\n      <td>2016</td>\n      <td>충청북도</td>\n      <td>전국자연환경조사_4차_식생_2016_전국</td>\n      <td>D:/다람쥐오래걷기/전국자연환경조사 4차 식생/전국자연환경조사_4차_식생_2016_...</td>\n      <td>29.874623</td>\n    </tr>\n    <tr>\n      <th>4</th>\n      <td>1090</td>\n      <td>36.71336</td>\n      <td>127.42200</td>\n      <td>0</td>\n      <td>2</td>\n      <td>5</td>\n      <td>1</td>\n      <td>개 고양이 다람쥐</td>\n      <td>3</td>\n      <td>312.74</td>\n      <td>...</td>\n      <td>아까시나무-리기다소나무식재림</td>\n      <td>127.418655</td>\n      <td>36.715007</td>\n      <td>NaN</td>\n      <td>NaN</td>\n      <td>2016</td>\n      <td>충청북도</td>\n      <td>전국자연환경조사_4차_식생_2016_전국</td>\n      <td>D:/다람쥐오래걷기/전국자연환경조사 4차 식생/전국자연환경조사_4차_식생_2016_...</td>\n      <td>83.135125</td>\n    </tr>\n    <tr>\n      <th>...</th>\n      <td>...</td>\n      <td>...</td>\n      <td>...</td>\n      <td>...</td>\n      <td>...</td>\n      <td>...</td>\n      <td>...</td>\n      <td>...</td>\n      <td>...</td>\n      <td>...</td>\n      <td>...</td>\n      <td>...</td>\n      <td>...</td>\n      <td>...</td>\n      <td>...</td>\n      <td>...</td>\n      <td>...</td>\n      <td>...</td>\n      <td>...</td>\n      <td>...</td>\n      <td>...</td>\n    </tr>\n    <tr>\n      <th>492</th>\n      <td>1089</td>\n      <td>36.71278</td>\n      <td>127.42056</td>\n      <td>0</td>\n      <td>2</td>\n      <td>0</td>\n      <td>0</td>\n      <td>고라니 멧돼지</td>\n      <td>2</td>\n      <td>674.31</td>\n      <td>...</td>\n      <td>아까시나무-리기다소나무식재림</td>\n      <td>127.418655</td>\n      <td>36.715007</td>\n      <td>NaN</td>\n      <td>NaN</td>\n      <td>2016</td>\n      <td>충청북도</td>\n      <td>전국자연환경조사_4차_식생_2016_전국</td>\n      <td>D:/다람쥐오래걷기/전국자연환경조사 4차 식생/전국자연환경조사_4차_식생_2016_...</td>\n      <td>47.229682</td>\n    </tr>\n    <tr>\n      <th>493</th>\n      <td>1087</td>\n      <td>36.71722</td>\n      <td>127.41778</td>\n      <td>0</td>\n      <td>1</td>\n      <td>5</td>\n      <td>0</td>\n      <td>고라니 멧돼지</td>\n      <td>2</td>\n      <td>526.32</td>\n      <td>...</td>\n      <td>아까시나무식재림</td>\n      <td>127.416540</td>\n      <td>36.717827</td>\n      <td>NaN</td>\n      <td>NaN</td>\n      <td>2016</td>\n      <td>충청북도</td>\n      <td>전국자연환경조사_4차_식생_2016_전국</td>\n      <td>D:/다람쥐오래걷기/전국자연환경조사 4차 식생/전국자연환경조사_4차_식생_2016_...</td>\n      <td>14.763222</td>\n    </tr>\n    <tr>\n      <th>494</th>\n      <td>1088</td>\n      <td>36.71222</td>\n      <td>127.42528</td>\n      <td>0</td>\n      <td>1</td>\n      <td>5</td>\n      <td>0</td>\n      <td>고라니 멧돼지</td>\n      <td>2</td>\n      <td>674.31</td>\n      <td>...</td>\n      <td>아까시나무-리기다소나무식재림</td>\n      <td>127.418655</td>\n      <td>36.715007</td>\n      <td>NaN</td>\n      <td>NaN</td>\n      <td>2016</td>\n      <td>충청북도</td>\n      <td>전국자연환경조사_4차_식생_2016_전국</td>\n      <td>D:/다람쥐오래걷기/전국자연환경조사 4차 식생/전국자연환경조사_4차_식생_2016_...</td>\n      <td>392.046457</td>\n    </tr>\n    <tr>\n      <th>495</th>\n      <td>1091</td>\n      <td>36.76750</td>\n      <td>127.47333</td>\n      <td>0</td>\n      <td>0</td>\n      <td>0</td>\n      <td>0</td>\n      <td>멧돼지 고라니</td>\n      <td>2</td>\n      <td>140.00</td>\n      <td>...</td>\n      <td>상수리나무군락</td>\n      <td>127.474248</td>\n      <td>36.764959</td>\n      <td>NaN</td>\n      <td>NaN</td>\n      <td>2017</td>\n      <td>충청북도</td>\n      <td>전국자연환경조사_4차_식생_2017_전국</td>\n      <td>D:/다람쥐오래걷기/전국자연환경조사 4차 식생/전국자연환경조사_4차_식생_2017_...</td>\n      <td>71.537445</td>\n    </tr>\n    <tr>\n      <th>496</th>\n      <td>1072</td>\n      <td>36.65293</td>\n      <td>127.51278</td>\n      <td>0</td>\n      <td>2</td>\n      <td>5</td>\n      <td>0</td>\n      <td>고라니 멧돼지</td>\n      <td>2</td>\n      <td>2460.30</td>\n      <td>...</td>\n      <td>잣나무식재림</td>\n      <td>127.512965</td>\n      <td>36.653320</td>\n      <td>NaN</td>\n      <td>NaN</td>\n      <td>2016</td>\n      <td>충청북도</td>\n      <td>전국자연환경조사_4차_식생_2016_전국</td>\n      <td>D:/다람쥐오래걷기/전국자연환경조사 4차 식생/전국자연환경조사_4차_식생_2016_...</td>\n      <td>0.000000</td>\n    </tr>\n  </tbody>\n</table>\n<p>497 rows × 24 columns</p>\n</div>"
     },
     "execution_count": 4,
     "metadata": {},
     "output_type": "execute_result"
    }
   ],
   "source": [
    "df = pd.read_csv('.././data/CSV/식생_join.csv', encoding='cp949')\n",
    "df"
   ],
   "metadata": {
    "collapsed": false,
    "pycharm": {
     "name": "#%%\n"
    }
   }
  },
  {
   "cell_type": "code",
   "execution_count": 9,
   "outputs": [],
   "source": [
    "df.loc[df[df['distance']>2300].index, 'join_식물군락명'] = '판단 불가'"
   ],
   "metadata": {
    "collapsed": false,
    "pycharm": {
     "name": "#%%\n"
    }
   }
  },
  {
   "cell_type": "markdown",
   "source": [
    "2.3km거리 이상 떨어진 식생의 특성은 사용하지 않고, 대신 판단 불가로 대체함"
   ],
   "metadata": {
    "collapsed": false
   }
  },
  {
   "cell_type": "code",
   "execution_count": 10,
   "outputs": [
    {
     "data": {
      "text/plain": "80"
     },
     "execution_count": 10,
     "metadata": {},
     "output_type": "execute_result"
    }
   ],
   "source": [
    "df['join_식물군락명'].nunique()"
   ],
   "metadata": {
    "collapsed": false,
    "pycharm": {
     "name": "#%%\n"
    }
   }
  },
  {
   "cell_type": "code",
   "execution_count": 11,
   "outputs": [
    {
     "data": {
      "text/plain": "join_식물군락명\n2차초지           4\n개발지            6\n곰솔-상수리나무군락     2\n곰솔-소나무군락       2\n곰솔-소나무식재림      1\n              ..\n졸참나무-신갈나무군락    3\n졸참나무군락         1\n칡군락            1\n판단 불가          4\n편백식재림          1\nName: 번호, Length: 80, dtype: int64"
     },
     "execution_count": 11,
     "metadata": {},
     "output_type": "execute_result"
    }
   ],
   "source": [
    "df.groupby('join_식물군락명')['번호'].count()"
   ],
   "metadata": {
    "collapsed": false,
    "pycharm": {
     "name": "#%%\n"
    }
   }
  },
  {
   "cell_type": "code",
   "execution_count": 12,
   "outputs": [
    {
     "data": {
      "text/plain": "       번호       join_식물군락명\n0    1495            소나무군락\n1    1277       소나무-신갈나무군락\n2    1278            소나무군락\n3    1279            소나무군락\n4    1090  아까시나무-리기다소나무식재림\n..    ...              ...\n492  1089  아까시나무-리기다소나무식재림\n493  1087         아까시나무식재림\n494  1088  아까시나무-리기다소나무식재림\n495  1091          상수리나무군락\n496  1072           잣나무식재림\n\n[497 rows x 2 columns]",
      "text/html": "<div>\n<style scoped>\n    .dataframe tbody tr th:only-of-type {\n        vertical-align: middle;\n    }\n\n    .dataframe tbody tr th {\n        vertical-align: top;\n    }\n\n    .dataframe thead th {\n        text-align: right;\n    }\n</style>\n<table border=\"1\" class=\"dataframe\">\n  <thead>\n    <tr style=\"text-align: right;\">\n      <th></th>\n      <th>번호</th>\n      <th>join_식물군락명</th>\n    </tr>\n  </thead>\n  <tbody>\n    <tr>\n      <th>0</th>\n      <td>1495</td>\n      <td>소나무군락</td>\n    </tr>\n    <tr>\n      <th>1</th>\n      <td>1277</td>\n      <td>소나무-신갈나무군락</td>\n    </tr>\n    <tr>\n      <th>2</th>\n      <td>1278</td>\n      <td>소나무군락</td>\n    </tr>\n    <tr>\n      <th>3</th>\n      <td>1279</td>\n      <td>소나무군락</td>\n    </tr>\n    <tr>\n      <th>4</th>\n      <td>1090</td>\n      <td>아까시나무-리기다소나무식재림</td>\n    </tr>\n    <tr>\n      <th>...</th>\n      <td>...</td>\n      <td>...</td>\n    </tr>\n    <tr>\n      <th>492</th>\n      <td>1089</td>\n      <td>아까시나무-리기다소나무식재림</td>\n    </tr>\n    <tr>\n      <th>493</th>\n      <td>1087</td>\n      <td>아까시나무식재림</td>\n    </tr>\n    <tr>\n      <th>494</th>\n      <td>1088</td>\n      <td>아까시나무-리기다소나무식재림</td>\n    </tr>\n    <tr>\n      <th>495</th>\n      <td>1091</td>\n      <td>상수리나무군락</td>\n    </tr>\n    <tr>\n      <th>496</th>\n      <td>1072</td>\n      <td>잣나무식재림</td>\n    </tr>\n  </tbody>\n</table>\n<p>497 rows × 2 columns</p>\n</div>"
     },
     "metadata": {},
     "output_type": "display_data"
    },
    {
     "name": "stdout",
     "output_type": "stream",
     "text": [
      "번호            0\n",
      "join_식물군락명    0\n",
      "dtype: int64\n"
     ]
    }
   ],
   "source": [
    "df = df[['번호', 'join_식물군락명']]\n",
    "display(df)\n",
    "print(df.isnull().sum())"
   ],
   "metadata": {
    "collapsed": false,
    "pycharm": {
     "name": "#%%\n"
    }
   }
  },
  {
   "cell_type": "code",
   "execution_count": 15,
   "outputs": [
    {
     "data": {
      "text/plain": "       번호  주변 동물종 개수  주변동물 출현빈도 지형기호(5km)     하천거리(km)\n0    1495          2          2         X   134.468063\n1    1277          3          5         X   434.781679\n2    1278          0          0         X    74.780224\n3    1279          0          0         X   125.168772\n4    1090          0          0         X  2275.200182\n..    ...        ...        ...       ...          ...\n492  1089          0          0         X  2274.279975\n493  1087          0          0         X  1722.566263\n494  1088          0          0         X  2532.215687\n495  1091          0          0         X  2096.234333\n496  1072          0          0         X   901.351714\n\n[497 rows x 5 columns]",
      "text/html": "<div>\n<style scoped>\n    .dataframe tbody tr th:only-of-type {\n        vertical-align: middle;\n    }\n\n    .dataframe tbody tr th {\n        vertical-align: top;\n    }\n\n    .dataframe thead th {\n        text-align: right;\n    }\n</style>\n<table border=\"1\" class=\"dataframe\">\n  <thead>\n    <tr style=\"text-align: right;\">\n      <th></th>\n      <th>번호</th>\n      <th>주변 동물종 개수</th>\n      <th>주변동물 출현빈도</th>\n      <th>지형기호(5km)</th>\n      <th>하천거리(km)</th>\n    </tr>\n  </thead>\n  <tbody>\n    <tr>\n      <th>0</th>\n      <td>1495</td>\n      <td>2</td>\n      <td>2</td>\n      <td>X</td>\n      <td>134.468063</td>\n    </tr>\n    <tr>\n      <th>1</th>\n      <td>1277</td>\n      <td>3</td>\n      <td>5</td>\n      <td>X</td>\n      <td>434.781679</td>\n    </tr>\n    <tr>\n      <th>2</th>\n      <td>1278</td>\n      <td>0</td>\n      <td>0</td>\n      <td>X</td>\n      <td>74.780224</td>\n    </tr>\n    <tr>\n      <th>3</th>\n      <td>1279</td>\n      <td>0</td>\n      <td>0</td>\n      <td>X</td>\n      <td>125.168772</td>\n    </tr>\n    <tr>\n      <th>4</th>\n      <td>1090</td>\n      <td>0</td>\n      <td>0</td>\n      <td>X</td>\n      <td>2275.200182</td>\n    </tr>\n    <tr>\n      <th>...</th>\n      <td>...</td>\n      <td>...</td>\n      <td>...</td>\n      <td>...</td>\n      <td>...</td>\n    </tr>\n    <tr>\n      <th>492</th>\n      <td>1089</td>\n      <td>0</td>\n      <td>0</td>\n      <td>X</td>\n      <td>2274.279975</td>\n    </tr>\n    <tr>\n      <th>493</th>\n      <td>1087</td>\n      <td>0</td>\n      <td>0</td>\n      <td>X</td>\n      <td>1722.566263</td>\n    </tr>\n    <tr>\n      <th>494</th>\n      <td>1088</td>\n      <td>0</td>\n      <td>0</td>\n      <td>X</td>\n      <td>2532.215687</td>\n    </tr>\n    <tr>\n      <th>495</th>\n      <td>1091</td>\n      <td>0</td>\n      <td>0</td>\n      <td>X</td>\n      <td>2096.234333</td>\n    </tr>\n    <tr>\n      <th>496</th>\n      <td>1072</td>\n      <td>0</td>\n      <td>0</td>\n      <td>X</td>\n      <td>901.351714</td>\n    </tr>\n  </tbody>\n</table>\n<p>497 rows × 5 columns</p>\n</div>"
     },
     "execution_count": 15,
     "metadata": {},
     "output_type": "execute_result"
    }
   ],
   "source": [
    "HK = load_data_from_rds('MainData_희경')\n",
    "HK"
   ],
   "metadata": {
    "collapsed": false,
    "pycharm": {
     "name": "#%%\n"
    }
   }
  },
  {
   "cell_type": "code",
   "execution_count": 16,
   "outputs": [
    {
     "data": {
      "text/plain": "       번호  주변 동물종 개수  주변동물 출현빈도 지형기호(5km)     하천거리(km)       join_식물군락명\n0    1495          2          2         X   134.468063            소나무군락\n1    1277          3          5         X   434.781679       소나무-신갈나무군락\n2    1278          0          0         X    74.780224            소나무군락\n3    1279          0          0         X   125.168772            소나무군락\n4    1090          0          0         X  2275.200182  아까시나무-리기다소나무식재림\n..    ...        ...        ...       ...          ...              ...\n492  1089          0          0         X  2274.279975  아까시나무-리기다소나무식재림\n493  1087          0          0         X  1722.566263         아까시나무식재림\n494  1088          0          0         X  2532.215687  아까시나무-리기다소나무식재림\n495  1091          0          0         X  2096.234333          상수리나무군락\n496  1072          0          0         X   901.351714           잣나무식재림\n\n[497 rows x 6 columns]",
      "text/html": "<div>\n<style scoped>\n    .dataframe tbody tr th:only-of-type {\n        vertical-align: middle;\n    }\n\n    .dataframe tbody tr th {\n        vertical-align: top;\n    }\n\n    .dataframe thead th {\n        text-align: right;\n    }\n</style>\n<table border=\"1\" class=\"dataframe\">\n  <thead>\n    <tr style=\"text-align: right;\">\n      <th></th>\n      <th>번호</th>\n      <th>주변 동물종 개수</th>\n      <th>주변동물 출현빈도</th>\n      <th>지형기호(5km)</th>\n      <th>하천거리(km)</th>\n      <th>join_식물군락명</th>\n    </tr>\n  </thead>\n  <tbody>\n    <tr>\n      <th>0</th>\n      <td>1495</td>\n      <td>2</td>\n      <td>2</td>\n      <td>X</td>\n      <td>134.468063</td>\n      <td>소나무군락</td>\n    </tr>\n    <tr>\n      <th>1</th>\n      <td>1277</td>\n      <td>3</td>\n      <td>5</td>\n      <td>X</td>\n      <td>434.781679</td>\n      <td>소나무-신갈나무군락</td>\n    </tr>\n    <tr>\n      <th>2</th>\n      <td>1278</td>\n      <td>0</td>\n      <td>0</td>\n      <td>X</td>\n      <td>74.780224</td>\n      <td>소나무군락</td>\n    </tr>\n    <tr>\n      <th>3</th>\n      <td>1279</td>\n      <td>0</td>\n      <td>0</td>\n      <td>X</td>\n      <td>125.168772</td>\n      <td>소나무군락</td>\n    </tr>\n    <tr>\n      <th>4</th>\n      <td>1090</td>\n      <td>0</td>\n      <td>0</td>\n      <td>X</td>\n      <td>2275.200182</td>\n      <td>아까시나무-리기다소나무식재림</td>\n    </tr>\n    <tr>\n      <th>...</th>\n      <td>...</td>\n      <td>...</td>\n      <td>...</td>\n      <td>...</td>\n      <td>...</td>\n      <td>...</td>\n    </tr>\n    <tr>\n      <th>492</th>\n      <td>1089</td>\n      <td>0</td>\n      <td>0</td>\n      <td>X</td>\n      <td>2274.279975</td>\n      <td>아까시나무-리기다소나무식재림</td>\n    </tr>\n    <tr>\n      <th>493</th>\n      <td>1087</td>\n      <td>0</td>\n      <td>0</td>\n      <td>X</td>\n      <td>1722.566263</td>\n      <td>아까시나무식재림</td>\n    </tr>\n    <tr>\n      <th>494</th>\n      <td>1088</td>\n      <td>0</td>\n      <td>0</td>\n      <td>X</td>\n      <td>2532.215687</td>\n      <td>아까시나무-리기다소나무식재림</td>\n    </tr>\n    <tr>\n      <th>495</th>\n      <td>1091</td>\n      <td>0</td>\n      <td>0</td>\n      <td>X</td>\n      <td>2096.234333</td>\n      <td>상수리나무군락</td>\n    </tr>\n    <tr>\n      <th>496</th>\n      <td>1072</td>\n      <td>0</td>\n      <td>0</td>\n      <td>X</td>\n      <td>901.351714</td>\n      <td>잣나무식재림</td>\n    </tr>\n  </tbody>\n</table>\n<p>497 rows × 6 columns</p>\n</div>"
     },
     "execution_count": 16,
     "metadata": {},
     "output_type": "execute_result"
    }
   ],
   "source": [
    "result = HK.merge(df, on='번호')\n",
    "result"
   ],
   "metadata": {
    "collapsed": false,
    "pycharm": {
     "name": "#%%\n"
    }
   }
  },
  {
   "cell_type": "code",
   "execution_count": 24,
   "outputs": [],
   "source": [
    "result.rename(columns={'join_식물군락명': '식물군락명'}, inplace=True)"
   ],
   "metadata": {
    "collapsed": false,
    "pycharm": {
     "name": "#%%\n"
    }
   }
  },
  {
   "cell_type": "code",
   "execution_count": 18,
   "outputs": [
    {
     "data": {
      "text/plain": "497"
     },
     "execution_count": 18,
     "metadata": {},
     "output_type": "execute_result"
    }
   ],
   "source": [
    "result.to_sql('MainData_희경', con=db_connection, if_exists='replace', index=False)"
   ],
   "metadata": {
    "collapsed": false,
    "pycharm": {
     "name": "#%%\n"
    }
   }
  },
  {
   "cell_type": "markdown",
   "source": [
    "# 라벨링"
   ],
   "metadata": {
    "collapsed": false
   }
  },
  {
   "cell_type": "code",
   "execution_count": 22,
   "outputs": [],
   "source": [
    "df = load_data_from_rds('MainData')"
   ],
   "metadata": {
    "collapsed": false,
    "pycharm": {
     "name": "#%%\n"
    }
   }
  },
  {
   "cell_type": "code",
   "execution_count": 23,
   "outputs": [
    {
     "data": {
      "text/plain": "array(['소나무군락', '소나무-신갈나무군락', '아까시나무-리기다소나무식재림', '신갈나무군락', '리기다소나무식재림',\n       '곰솔-소나무군락', '잣나무식재림', '개발지', '신갈나무-소나무군락', '밤나무식재림',\n       '일본잎갈나무-소나무식재림', '판단 불가', '상수리나무-신갈나무군락', '수역', '곰솔-아까시나무군락',\n       '굴참나무-잣나무군락', '소나무-밤나무군락', '상수리나무군락', '소나무-상수리나무군락', '상수리나무-소나무군락',\n       '소나무-굴참나무군락', '굴참나무-소나무군락', '밤나무-소나무식재림', '신갈나무-상수리나무군락',\n       '일본잎갈나무식재림', '상수리나무-리기다소나무군락', '벌채지', '상수리나무-아까시나무군락',\n       '잣나무-일본잎갈나무식재림', '2차초지', '아까시나무-상수리나무식재림', '리기다소나무-밤나무식재림', '곰솔군락',\n       '아까시나무식재림', '아까시나무-소나무식재림', '곰솔-소나무식재림', '상수리나무-곰솔군락',\n       '상수리나무-밤나무군락', '나지', '소나무-곰솔군락', '상수리나무-갈참나무군락', '소나무-일본잎갈나무군락',\n       '신갈나무-아까시나무군락', '졸참나무-굴참나무군락', '졸참나무-신갈나무군락', '신갈나무-리기다소나무군락',\n       '굴참나무군락', '굴참나무-상수리나무군락', '리기다소나무-소나무식재림', '조경식재지',\n       '일본잎갈나무-상수리나무식재림', '소나무-리기다소나무군락', '리기다소나무-신갈나무식재림', '농경지',\n       '리기다소나무-상수리나무식재림', '소나무-편백군락', '일본잎갈나무-잣나무식재림', '곰솔-상수리나무군락',\n       '아까시나무-신갈나무식재림', '아까시나무-밤나무식재림', '소나무-리기다소나무식재림', '굴참나무-곰솔군락',\n       '졸참나무군락', '잣나무-상수리나무식재림', '신갈나무-굴참나무군락', '소나무-졸참나무군락',\n       '신갈나무-졸참나무군락', '때죽나무군락', '굴참나무-리기다소나무군락', '리기다소나무-잣나무식재림',\n       '굴참나무-굴피나무군락', '편백식재림', '삼나무-곰솔식재림', '칡군락', '졸참나무-개서어나무군락',\n       '졸참나무-서어나무군락', '졸참나무-곰솔군락', '리기다소나무-굴참나무식재림', '리기다소나무-아까시나무식재림'],\n      dtype=object)"
     },
     "execution_count": 23,
     "metadata": {},
     "output_type": "execute_result"
    }
   ],
   "source": [
    "df['식물군락명'].unique()"
   ],
   "metadata": {
    "collapsed": false,
    "pycharm": {
     "name": "#%%\n"
    }
   }
  },
  {
   "cell_type": "code",
   "execution_count": 24,
   "outputs": [],
   "source": [
    "df['식물군락명'] = ['판단불가' if x == '판단 불가' else x for x in df['식물군락명'] ]"
   ],
   "metadata": {
    "collapsed": false,
    "pycharm": {
     "name": "#%%\n"
    }
   }
  },
  {
   "cell_type": "code",
   "execution_count": 25,
   "outputs": [
    {
     "data": {
      "text/plain": "array(['소나무', '아까시나무', '신갈나무', '리기다소나무', '곰솔', '잣나무', '개발지', '밤나무',\n       '일본잎갈나무', '판단불가', '상수리나무', '수역', '굴참나무', '벌채지', '2차초지', '나지',\n       '졸참나무', '조경식재지', '농경지', '때죽나무', '편백', '삼나무', '칡'], dtype=object)"
     },
     "execution_count": 25,
     "metadata": {},
     "output_type": "execute_result"
    }
   ],
   "source": [
    "df['식물군락명'] = [x.replace('군락', '') for x in df['식물군락명']]\n",
    "df['식물군락명'] = [x.replace('식재림', '') for x in df['식물군락명']]\n",
    "df['식물군락명'] = [x.split('-')[0] for x in df['식물군락명']]\n",
    "df['식물군락명'].unique()"
   ],
   "metadata": {
    "collapsed": false,
    "pycharm": {
     "name": "#%%\n"
    }
   }
  },
  {
   "cell_type": "code",
   "execution_count": 26,
   "outputs": [
    {
     "data": {
      "text/plain": "식물군락명\n2차초지        4\n개발지         6\n곰솔         23\n굴참나무       28\n나지          3\n농경지         7\n때죽나무        1\n리기다소나무     54\n밤나무        10\n벌채지        11\n삼나무         1\n상수리나무      64\n소나무       150\n수역          3\n신갈나무       45\n아까시나무      18\n일본잎갈나무     25\n잣나무        25\n조경식재지       2\n졸참나무       10\n칡           1\n판단불가        5\n편백          1\nName: 번호, dtype: int64"
     },
     "execution_count": 26,
     "metadata": {},
     "output_type": "execute_result"
    }
   ],
   "source": [
    "df.groupby('식물군락명')['번호'].count()"
   ],
   "metadata": {
    "collapsed": false,
    "pycharm": {
     "name": "#%%\n"
    }
   }
  },
  {
   "cell_type": "code",
   "execution_count": 28,
   "outputs": [],
   "source": [
    "dominant=df['식물군락명']"
   ],
   "metadata": {
    "collapsed": false,
    "pycharm": {
     "name": "#%%\n"
    }
   }
  },
  {
   "cell_type": "code",
   "execution_count": 29,
   "outputs": [],
   "source": [
    "df = load_data_from_rds('MainData')"
   ],
   "metadata": {
    "collapsed": false,
    "pycharm": {
     "name": "#%%\n"
    }
   }
  },
  {
   "cell_type": "code",
   "execution_count": 30,
   "outputs": [
    {
     "data": {
      "text/plain": "       번호        위도         경도  생태통로_유형  차선_수  등산객_이용빈도  생태통로_효율성  이용확인종_수  \\\n0    1495  35.36019  128.06375        0     1         1         3        0   \n1    1277  37.03408  128.40661        1     0         0         3        0   \n2    1278  36.89832  128.30563        1     0         0         1        3   \n3    1279  36.89687  128.30581        1     0         0         1        3   \n4    1090  36.71336  127.42200        0     2         5         1        3   \n..    ...       ...        ...      ...   ...       ...       ...      ...   \n492  1089  36.71278  127.42056        0     2         0         0        2   \n493  1087  36.71722  127.41778        0     1         5         0        2   \n494  1088  36.71222  127.42528        0     1         5         0        2   \n495  1091  36.76750  127.47333        0     0         0         0        2   \n496  1072  36.65293  127.51278        0     2         5         0        2   \n\n      폭(m)  연장(m)  ...            식물군락명  등산로까지 최단거리(km) 유도울타리_위도_2.3km  \\\n0      NaN    NaN  ...            소나무군락        3.157026       0.000000   \n1      NaN    NaN  ...       소나무-신갈나무군락        1.087578       0.000000   \n2      NaN    NaN  ...            소나무군락        3.070682       0.000000   \n3      NaN    NaN  ...            소나무군락        2.921190       0.000000   \n4     8.23   38.0  ...  아까시나무-리기다소나무식재림        0.025083      36.708802   \n..     ...    ...  ...              ...             ...            ...   \n492  13.30   50.7  ...  아까시나무-리기다소나무식재림        0.025617      36.701443   \n493  13.60   38.7  ...         아까시나무식재림        0.021407      36.708802   \n494  13.30   50.7  ...  아까시나무-리기다소나무식재림        0.008204      36.708802   \n495   7.00   20.0  ...          상수리나무군락        0.878327      36.759335   \n496  41.70   59.0  ...           잣나무식재림        0.001197       0.000000   \n\n     유도울타리_경도_2.3km  유도울타리_연장_m  유도울타리_높이_m           교통량  환경영향평가점수  \\\n0          0.000000           0    0.000000   7493.875000         2   \n1          0.000000           0    0.000000   3573.857143         1   \n2          0.000000           0    0.000000   3430.428571         2   \n3          0.000000           0    0.000000   3430.428571         2   \n4        127.437539         886    1.571429  34542.400000         5   \n..              ...         ...         ...           ...       ...   \n492      127.431078         442    1.000000  34270.190476         5   \n493      127.437539         886    1.571429  34542.400000         5   \n494      127.437539         886    1.571429  34270.190476         5   \n495      127.483618         884    1.500000  26748.437500         2   \n496        0.000000           0    0.000000  17114.400000         5   \n\n     건물까지거리(km) 최우점식물군락  \n0      0.196597     소나무  \n1      0.358139     소나무  \n2      0.139054     소나무  \n3      0.044559     소나무  \n4      0.172184   아까시나무  \n..          ...     ...  \n492    0.179017   아까시나무  \n493    0.094304   아까시나무  \n494    0.124789   아까시나무  \n495    0.070303   상수리나무  \n496    0.127489     잣나무  \n\n[497 rows x 31 columns]",
      "text/html": "<div>\n<style scoped>\n    .dataframe tbody tr th:only-of-type {\n        vertical-align: middle;\n    }\n\n    .dataframe tbody tr th {\n        vertical-align: top;\n    }\n\n    .dataframe thead th {\n        text-align: right;\n    }\n</style>\n<table border=\"1\" class=\"dataframe\">\n  <thead>\n    <tr style=\"text-align: right;\">\n      <th></th>\n      <th>번호</th>\n      <th>위도</th>\n      <th>경도</th>\n      <th>생태통로_유형</th>\n      <th>차선_수</th>\n      <th>등산객_이용빈도</th>\n      <th>생태통로_효율성</th>\n      <th>이용확인종_수</th>\n      <th>폭(m)</th>\n      <th>연장(m)</th>\n      <th>...</th>\n      <th>식물군락명</th>\n      <th>등산로까지 최단거리(km)</th>\n      <th>유도울타리_위도_2.3km</th>\n      <th>유도울타리_경도_2.3km</th>\n      <th>유도울타리_연장_m</th>\n      <th>유도울타리_높이_m</th>\n      <th>교통량</th>\n      <th>환경영향평가점수</th>\n      <th>건물까지거리(km)</th>\n      <th>최우점식물군락</th>\n    </tr>\n  </thead>\n  <tbody>\n    <tr>\n      <th>0</th>\n      <td>1495</td>\n      <td>35.36019</td>\n      <td>128.06375</td>\n      <td>0</td>\n      <td>1</td>\n      <td>1</td>\n      <td>3</td>\n      <td>0</td>\n      <td>NaN</td>\n      <td>NaN</td>\n      <td>...</td>\n      <td>소나무군락</td>\n      <td>3.157026</td>\n      <td>0.000000</td>\n      <td>0.000000</td>\n      <td>0</td>\n      <td>0.000000</td>\n      <td>7493.875000</td>\n      <td>2</td>\n      <td>0.196597</td>\n      <td>소나무</td>\n    </tr>\n    <tr>\n      <th>1</th>\n      <td>1277</td>\n      <td>37.03408</td>\n      <td>128.40661</td>\n      <td>1</td>\n      <td>0</td>\n      <td>0</td>\n      <td>3</td>\n      <td>0</td>\n      <td>NaN</td>\n      <td>NaN</td>\n      <td>...</td>\n      <td>소나무-신갈나무군락</td>\n      <td>1.087578</td>\n      <td>0.000000</td>\n      <td>0.000000</td>\n      <td>0</td>\n      <td>0.000000</td>\n      <td>3573.857143</td>\n      <td>1</td>\n      <td>0.358139</td>\n      <td>소나무</td>\n    </tr>\n    <tr>\n      <th>2</th>\n      <td>1278</td>\n      <td>36.89832</td>\n      <td>128.30563</td>\n      <td>1</td>\n      <td>0</td>\n      <td>0</td>\n      <td>1</td>\n      <td>3</td>\n      <td>NaN</td>\n      <td>NaN</td>\n      <td>...</td>\n      <td>소나무군락</td>\n      <td>3.070682</td>\n      <td>0.000000</td>\n      <td>0.000000</td>\n      <td>0</td>\n      <td>0.000000</td>\n      <td>3430.428571</td>\n      <td>2</td>\n      <td>0.139054</td>\n      <td>소나무</td>\n    </tr>\n    <tr>\n      <th>3</th>\n      <td>1279</td>\n      <td>36.89687</td>\n      <td>128.30581</td>\n      <td>1</td>\n      <td>0</td>\n      <td>0</td>\n      <td>1</td>\n      <td>3</td>\n      <td>NaN</td>\n      <td>NaN</td>\n      <td>...</td>\n      <td>소나무군락</td>\n      <td>2.921190</td>\n      <td>0.000000</td>\n      <td>0.000000</td>\n      <td>0</td>\n      <td>0.000000</td>\n      <td>3430.428571</td>\n      <td>2</td>\n      <td>0.044559</td>\n      <td>소나무</td>\n    </tr>\n    <tr>\n      <th>4</th>\n      <td>1090</td>\n      <td>36.71336</td>\n      <td>127.42200</td>\n      <td>0</td>\n      <td>2</td>\n      <td>5</td>\n      <td>1</td>\n      <td>3</td>\n      <td>8.23</td>\n      <td>38.0</td>\n      <td>...</td>\n      <td>아까시나무-리기다소나무식재림</td>\n      <td>0.025083</td>\n      <td>36.708802</td>\n      <td>127.437539</td>\n      <td>886</td>\n      <td>1.571429</td>\n      <td>34542.400000</td>\n      <td>5</td>\n      <td>0.172184</td>\n      <td>아까시나무</td>\n    </tr>\n    <tr>\n      <th>...</th>\n      <td>...</td>\n      <td>...</td>\n      <td>...</td>\n      <td>...</td>\n      <td>...</td>\n      <td>...</td>\n      <td>...</td>\n      <td>...</td>\n      <td>...</td>\n      <td>...</td>\n      <td>...</td>\n      <td>...</td>\n      <td>...</td>\n      <td>...</td>\n      <td>...</td>\n      <td>...</td>\n      <td>...</td>\n      <td>...</td>\n      <td>...</td>\n      <td>...</td>\n      <td>...</td>\n    </tr>\n    <tr>\n      <th>492</th>\n      <td>1089</td>\n      <td>36.71278</td>\n      <td>127.42056</td>\n      <td>0</td>\n      <td>2</td>\n      <td>0</td>\n      <td>0</td>\n      <td>2</td>\n      <td>13.30</td>\n      <td>50.7</td>\n      <td>...</td>\n      <td>아까시나무-리기다소나무식재림</td>\n      <td>0.025617</td>\n      <td>36.701443</td>\n      <td>127.431078</td>\n      <td>442</td>\n      <td>1.000000</td>\n      <td>34270.190476</td>\n      <td>5</td>\n      <td>0.179017</td>\n      <td>아까시나무</td>\n    </tr>\n    <tr>\n      <th>493</th>\n      <td>1087</td>\n      <td>36.71722</td>\n      <td>127.41778</td>\n      <td>0</td>\n      <td>1</td>\n      <td>5</td>\n      <td>0</td>\n      <td>2</td>\n      <td>13.60</td>\n      <td>38.7</td>\n      <td>...</td>\n      <td>아까시나무식재림</td>\n      <td>0.021407</td>\n      <td>36.708802</td>\n      <td>127.437539</td>\n      <td>886</td>\n      <td>1.571429</td>\n      <td>34542.400000</td>\n      <td>5</td>\n      <td>0.094304</td>\n      <td>아까시나무</td>\n    </tr>\n    <tr>\n      <th>494</th>\n      <td>1088</td>\n      <td>36.71222</td>\n      <td>127.42528</td>\n      <td>0</td>\n      <td>1</td>\n      <td>5</td>\n      <td>0</td>\n      <td>2</td>\n      <td>13.30</td>\n      <td>50.7</td>\n      <td>...</td>\n      <td>아까시나무-리기다소나무식재림</td>\n      <td>0.008204</td>\n      <td>36.708802</td>\n      <td>127.437539</td>\n      <td>886</td>\n      <td>1.571429</td>\n      <td>34270.190476</td>\n      <td>5</td>\n      <td>0.124789</td>\n      <td>아까시나무</td>\n    </tr>\n    <tr>\n      <th>495</th>\n      <td>1091</td>\n      <td>36.76750</td>\n      <td>127.47333</td>\n      <td>0</td>\n      <td>0</td>\n      <td>0</td>\n      <td>0</td>\n      <td>2</td>\n      <td>7.00</td>\n      <td>20.0</td>\n      <td>...</td>\n      <td>상수리나무군락</td>\n      <td>0.878327</td>\n      <td>36.759335</td>\n      <td>127.483618</td>\n      <td>884</td>\n      <td>1.500000</td>\n      <td>26748.437500</td>\n      <td>2</td>\n      <td>0.070303</td>\n      <td>상수리나무</td>\n    </tr>\n    <tr>\n      <th>496</th>\n      <td>1072</td>\n      <td>36.65293</td>\n      <td>127.51278</td>\n      <td>0</td>\n      <td>2</td>\n      <td>5</td>\n      <td>0</td>\n      <td>2</td>\n      <td>41.70</td>\n      <td>59.0</td>\n      <td>...</td>\n      <td>잣나무식재림</td>\n      <td>0.001197</td>\n      <td>0.000000</td>\n      <td>0.000000</td>\n      <td>0</td>\n      <td>0.000000</td>\n      <td>17114.400000</td>\n      <td>5</td>\n      <td>0.127489</td>\n      <td>잣나무</td>\n    </tr>\n  </tbody>\n</table>\n<p>497 rows × 31 columns</p>\n</div>"
     },
     "execution_count": 30,
     "metadata": {},
     "output_type": "execute_result"
    }
   ],
   "source": [
    "df['최우점식물군락'] = dominant\n",
    "df"
   ],
   "metadata": {
    "collapsed": false,
    "pycharm": {
     "name": "#%%\n"
    }
   }
  },
  {
   "cell_type": "code",
   "execution_count": 31,
   "outputs": [
    {
     "data": {
      "text/plain": "497"
     },
     "execution_count": 31,
     "metadata": {},
     "output_type": "execute_result"
    }
   ],
   "source": [
    "df.to_sql('MainData', if_exists='replace', index=False, con=db_connection)"
   ],
   "metadata": {
    "collapsed": false,
    "pycharm": {
     "name": "#%%\n"
    }
   }
  },
  {
   "cell_type": "markdown",
   "source": [],
   "metadata": {
    "collapsed": false
   }
  },
  {
   "cell_type": "code",
   "execution_count": 20,
   "outputs": [],
   "source": [
    "tree_list = []\n",
    "for tree_group in df['식물군락명'] :\n",
    "    trees = list(tree_group.split(' '))\n",
    "    for tree in trees :\n",
    "        if tree not in tree_list:\n",
    "            tree_list.append(tree)"
   ],
   "metadata": {
    "collapsed": false,
    "pycharm": {
     "name": "#%%\n"
    }
   }
  },
  {
   "cell_type": "code",
   "execution_count": 21,
   "outputs": [
    {
     "name": "stdout",
     "output_type": "stream",
     "text": [
      "27\n",
      "['소나무', '신갈나무', '아까시나무', '리기다소나무', '곰솔', '잣나무', '개발지', '밤나무', '일본잎갈나무', '판단불가', '상수리나무', '수역', '굴참나무', '벌채지', '2차초지', '나지', '갈참나무', '졸참나무', '조경식재지', '농경지', '편백', '때죽나무', '굴피나무', '삼나무', '칡', '개서어나무', '서어나무']\n"
     ]
    }
   ],
   "source": [
    "print(len(tree_list))\n",
    "print(tree_list)"
   ],
   "metadata": {
    "collapsed": false,
    "pycharm": {
     "name": "#%%\n"
    }
   }
  },
  {
   "cell_type": "code",
   "execution_count": null,
   "outputs": [],
   "source": [
    "tree_dict = {\n",
    "    '소나무' : '산지침엽수림',\n",
    "    ''\n",
    "    '신갈나무' : '산지낙엽활엽수림',\n",
    "    '아까시나무' : '식재림',\n",
    "    '리기다소나무' : '식재림',\n",
    "    '곰솔' : '식재림',\n",
    "    '밤나무' : '식재림',\n",
    "    '편백' : '식재림',\n",
    "    '삼나무' : '식재림',\n",
    "    '잣나무' : '식재림',\n",
    "    '일본잎갈나무' : '식재림',\n",
    "    '판단불가' : '판단불가',\n",
    "    '수역' : '수역',\n",
    "    '벌채지' : '벌채지',\n",
    "    '2차초지'\n",
    "}"
   ],
   "metadata": {
    "collapsed": false,
    "pycharm": {
     "name": "#%%\n"
    }
   }
  }
 ],
 "metadata": {
  "kernelspec": {
   "display_name": "Python 3",
   "language": "python",
   "name": "python3"
  },
  "language_info": {
   "codemirror_mode": {
    "name": "ipython",
    "version": 2
   },
   "file_extension": ".py",
   "mimetype": "text/x-python",
   "name": "python",
   "nbconvert_exporter": "python",
   "pygments_lexer": "ipython2",
   "version": "2.7.6"
  }
 },
 "nbformat": 4,
 "nbformat_minor": 0
}