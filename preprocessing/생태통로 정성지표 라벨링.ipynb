{
 "cells": [
  {
   "cell_type": "code",
   "execution_count": 1,
   "outputs": [],
   "source": [
    "import geopandas as gpd\n",
    "import pandas as pd\n",
    "from sqlalchemy import create_engine\n",
    "from haversine import haversine\n",
    "from tqdm.notebook import tqdm\n",
    "import numpy as np"
   ],
   "metadata": {
    "collapsed": false,
    "pycharm": {
     "name": "#%%\n"
    }
   }
  },
  {
   "cell_type": "code",
   "execution_count": 12,
   "outputs": [],
   "source": [
    "from sklearn.preprocessing import LabelEncoder"
   ],
   "metadata": {
    "collapsed": false,
    "pycharm": {
     "name": "#%%\n"
    }
   }
  },
  {
   "cell_type": "code",
   "execution_count": 2,
   "outputs": [],
   "source": [
    "endpoint = 'dao.cdqd2bwz9q4s.ap-northeast-2.rds.amazonaws.com'\n",
    "schema = 'dao'\n",
    "db_connection_str = 'mysql+pymysql://admin:ekfkawnl@{}/{}'.format(endpoint, schema)\n",
    "try :\n",
    "    db_connection = create_engine(db_connection_str)\n",
    "    conn = db_connection.connect()\n",
    "except :\n",
    "    print('fail to connect db')\n",
    "\n",
    "def load_data_from_rds(tabel_name):\n",
    "  sql = \"SELECT * FROM {}\".format(tabel_name)\n",
    "  df = pd.read_sql(sql, db_connection)\n",
    "  return df"
   ],
   "metadata": {
    "collapsed": false,
    "pycharm": {
     "name": "#%%\n"
    }
   }
  },
  {
   "cell_type": "code",
   "execution_count": 8,
   "outputs": [
    {
     "data": {
      "text/plain": "       번호 생태통로명                        주소     도로명               도로번호   차선_수  \\\n0    1495  가계통로  경상남도 산청군 생비량면 가계리 산279-3    일반국도               20호선  왕복4차선   \n1    1277   가대리          충청북도 단양군 가곡면 가대리      국도               59호선  왕복2차선   \n2    1278   가산리          충청북도 단양군 단성면 가산리      국도               59호선  왕복2차선   \n3    1279  가산리2          충청북도 단양군 단성면 가산리      국도               59호선  왕복2차선   \n4    1090    각리           충청북도 청원군 오창읍 각리     지방도               540호  왕복6차선   \n..    ...   ...                       ...     ...                ...    ...   \n507  1089  None       충청북도 청주시 청원구 오창읍 각리  과학산업2로           구룡리 472도  왕복6차선   \n508  1087  None      충청북도 청주시 청원구 오창읍 구룡리   오창공원로           구룡리 442도  왕복4차선   \n509  1088  None      충청북도 청주시 청원구 오창읍 양청리   오창공원로  양청리 882도(호수공원 주변)  왕복4차선   \n510  1091  None      충청북도 청주시 청원구 오창읍 여천리      리도              213호선  왕복2차선   \n511  1072  None          충청북도 청주시 청원구 율량동    1순환로           산 128-1도  왕복6차선   \n\n     위도_도  위도_분       위도_초  경도_도  ...           생태통로좌표(경도)  \\\n0      35  21.0  36.680000   128  ...     경도 128도 3분 49.5초   \n1      37   2.0   2.700000   128  ...    경도 128도 24분 23.8초   \n2      36  53.0  53.957576   128  ...  경도 128도 18분 20.275초   \n3      36  53.0  48.718150   128  ...  경도 128도 18분 20.917초   \n4      36  42.0  48.100000   127  ...    경도 127도 25분 19.2초   \n..    ...   ...        ...   ...  ...                  ...   \n507    36  42.0  46.000000   127  ...    경도 127도 25분 14.0초   \n508    36  43.0   2.000000   127  ...     경도 127도 25분 4.0초   \n509    36  42.0  44.000000   127  ...    경도 127도 25분 31.0초   \n510    36  46.0   3.000000   127  ...    경도 127도 28분 24.0초   \n511    36  39.0  10.550000   127  ...    경도 127도 30분 46.0초   \n\n                        모니터링기간       수행기관       수행자  모니터링방법  등산객이용빈도  \\\n0    2017.07.17. ~ 2017.07.28.  진주국토관리사무소       박상훈    None    극히 적음   \n1    2016.01.01. ~ 2016.09.20.    도로관리사업소       박찬일    None     None   \n2    2016.01.01. ~ 2016.09.20.    도로관리사업소       박찬일    None     None   \n3    2016.01.01. ~ 2016.09.20.    도로관리사업소       박찬일    None     None   \n4    2016.09.01. ~ 2016.09.30.  충북도로관리사업소       문민규    None    매일 다수   \n..                         ...        ...       ...     ...      ...   \n507  2016.09.26. ~ 2016.09.30.       청원구청  박태동 외 1인    None     None   \n508  2016.09.26. ~ 2016.09.30.        청원구  박태동 외 1인    None    매일 다수   \n509  2016.09.26. ~ 2016.09.30.       청원구청  박태동 외 1인    None    매일 다수   \n510  2016.09.26. ~ 2016.09.30.       청원구청  박태동 외 1인    None     None   \n511  2016.09.26. ~ 2016.09.30.        청주시  박태동 외 1인    None    매일 다수   \n\n                                  모니터링신뢰도            생태통로효율성  \\\n0          추가 조사가 있어야 본 생태통로의 효율성 판단이 가능함              판단 불가   \n1          추가 조사가 있어야 본 생태통로의 효율성 판단이 가능함              판단 불가   \n2          추가 조사가 있어야 본 생태통로의 효율성 판단이 가능함              판단 불가   \n3          추가 조사가 있어야 본 생태통로의 효율성 판단이 가능함              판단 불가   \n4          추가 조사가 있어야 본 생태통로의 효율성 판단이 가능함  보통(주 35회 야생동물 이용)   \n..                                    ...                ...   \n507  금번 조사는 본 생태통로의 효율성에 대한 판단이 가능한 수준이었음              판단 불가   \n508  금번 조사는 본 생태통로의 효율성에 대한 판단이 가능한 수준이었음              판단 불가   \n509  금번 조사는 본 생태통로의 효율성에 대한 판단이 가능한 수준이었음              판단 불가   \n510  금번 조사는 본 생태통로의 효율성에 대한 판단이 가능한 수준이었음              판단 불가   \n511  금번 조사는 본 생태통로의 효율성에 대한 판단이 가능한 수준이었음              판단 불가   \n\n                               이용확인종,이용빈도높은종,멸종위기종이용빈도  개선필요사항  \n0                                                 None    None  \n1                                                 None    None  \n2    종명:  고라니 이용확인종: 1 이용빈도 순위: 멸종위기종 이용빈도 :\\n종명:  ...    None  \n3    종명:  고라니 이용확인종: 1 이용빈도 순위: 멸종위기종 이용빈도 :\\n종명:  ...    None  \n4    종명:  개 이용확인종: 1 이용빈도 순위: 멸종위기종 이용빈도 :\\n종명:  고양...  #NAME?  \n..                                                 ...     ...  \n507  종명:  고라니 이용확인종: 1 이용빈도 순위: 멸종위기종 이용빈도 :\\n종명:  ...  #NAME?  \n508  종명:  고라니 이용확인종: 1 이용빈도 순위: 멸종위기종 이용빈도 :\\n종명:  ...  #NAME?  \n509  종명:  고라니 이용확인종: 1 이용빈도 순위: 멸종위기종 이용빈도 :\\n종명:  ...  #NAME?  \n510  종명:  멧돼지 이용확인종: 1 이용빈도 순위: 멸종위기종 이용빈도 :\\n종명:  ...  #NAME?  \n511  종명:  고라니 이용확인종: 1 이용빈도 순위: 멸종위기종 이용빈도 :\\n종명:  ...  #NAME?  \n\n[512 rows x 33 columns]",
      "text/html": "<div>\n<style scoped>\n    .dataframe tbody tr th:only-of-type {\n        vertical-align: middle;\n    }\n\n    .dataframe tbody tr th {\n        vertical-align: top;\n    }\n\n    .dataframe thead th {\n        text-align: right;\n    }\n</style>\n<table border=\"1\" class=\"dataframe\">\n  <thead>\n    <tr style=\"text-align: right;\">\n      <th></th>\n      <th>번호</th>\n      <th>생태통로명</th>\n      <th>주소</th>\n      <th>도로명</th>\n      <th>도로번호</th>\n      <th>차선_수</th>\n      <th>위도_도</th>\n      <th>위도_분</th>\n      <th>위도_초</th>\n      <th>경도_도</th>\n      <th>...</th>\n      <th>생태통로좌표(경도)</th>\n      <th>모니터링기간</th>\n      <th>수행기관</th>\n      <th>수행자</th>\n      <th>모니터링방법</th>\n      <th>등산객이용빈도</th>\n      <th>모니터링신뢰도</th>\n      <th>생태통로효율성</th>\n      <th>이용확인종,이용빈도높은종,멸종위기종이용빈도</th>\n      <th>개선필요사항</th>\n    </tr>\n  </thead>\n  <tbody>\n    <tr>\n      <th>0</th>\n      <td>1495</td>\n      <td>가계통로</td>\n      <td>경상남도 산청군 생비량면 가계리 산279-3</td>\n      <td>일반국도</td>\n      <td>20호선</td>\n      <td>왕복4차선</td>\n      <td>35</td>\n      <td>21.0</td>\n      <td>36.680000</td>\n      <td>128</td>\n      <td>...</td>\n      <td>경도 128도 3분 49.5초</td>\n      <td>2017.07.17. ~ 2017.07.28.</td>\n      <td>진주국토관리사무소</td>\n      <td>박상훈</td>\n      <td>None</td>\n      <td>극히 적음</td>\n      <td>추가 조사가 있어야 본 생태통로의 효율성 판단이 가능함</td>\n      <td>판단 불가</td>\n      <td>None</td>\n      <td>None</td>\n    </tr>\n    <tr>\n      <th>1</th>\n      <td>1277</td>\n      <td>가대리</td>\n      <td>충청북도 단양군 가곡면 가대리</td>\n      <td>국도</td>\n      <td>59호선</td>\n      <td>왕복2차선</td>\n      <td>37</td>\n      <td>2.0</td>\n      <td>2.700000</td>\n      <td>128</td>\n      <td>...</td>\n      <td>경도 128도 24분 23.8초</td>\n      <td>2016.01.01. ~ 2016.09.20.</td>\n      <td>도로관리사업소</td>\n      <td>박찬일</td>\n      <td>None</td>\n      <td>None</td>\n      <td>추가 조사가 있어야 본 생태통로의 효율성 판단이 가능함</td>\n      <td>판단 불가</td>\n      <td>None</td>\n      <td>None</td>\n    </tr>\n    <tr>\n      <th>2</th>\n      <td>1278</td>\n      <td>가산리</td>\n      <td>충청북도 단양군 단성면 가산리</td>\n      <td>국도</td>\n      <td>59호선</td>\n      <td>왕복2차선</td>\n      <td>36</td>\n      <td>53.0</td>\n      <td>53.957576</td>\n      <td>128</td>\n      <td>...</td>\n      <td>경도 128도 18분 20.275초</td>\n      <td>2016.01.01. ~ 2016.09.20.</td>\n      <td>도로관리사업소</td>\n      <td>박찬일</td>\n      <td>None</td>\n      <td>None</td>\n      <td>추가 조사가 있어야 본 생태통로의 효율성 판단이 가능함</td>\n      <td>판단 불가</td>\n      <td>종명:  고라니 이용확인종: 1 이용빈도 순위: 멸종위기종 이용빈도 :\\n종명:  ...</td>\n      <td>None</td>\n    </tr>\n    <tr>\n      <th>3</th>\n      <td>1279</td>\n      <td>가산리2</td>\n      <td>충청북도 단양군 단성면 가산리</td>\n      <td>국도</td>\n      <td>59호선</td>\n      <td>왕복2차선</td>\n      <td>36</td>\n      <td>53.0</td>\n      <td>48.718150</td>\n      <td>128</td>\n      <td>...</td>\n      <td>경도 128도 18분 20.917초</td>\n      <td>2016.01.01. ~ 2016.09.20.</td>\n      <td>도로관리사업소</td>\n      <td>박찬일</td>\n      <td>None</td>\n      <td>None</td>\n      <td>추가 조사가 있어야 본 생태통로의 효율성 판단이 가능함</td>\n      <td>판단 불가</td>\n      <td>종명:  고라니 이용확인종: 1 이용빈도 순위: 멸종위기종 이용빈도 :\\n종명:  ...</td>\n      <td>None</td>\n    </tr>\n    <tr>\n      <th>4</th>\n      <td>1090</td>\n      <td>각리</td>\n      <td>충청북도 청원군 오창읍 각리</td>\n      <td>지방도</td>\n      <td>540호</td>\n      <td>왕복6차선</td>\n      <td>36</td>\n      <td>42.0</td>\n      <td>48.100000</td>\n      <td>127</td>\n      <td>...</td>\n      <td>경도 127도 25분 19.2초</td>\n      <td>2016.09.01. ~ 2016.09.30.</td>\n      <td>충북도로관리사업소</td>\n      <td>문민규</td>\n      <td>None</td>\n      <td>매일 다수</td>\n      <td>추가 조사가 있어야 본 생태통로의 효율성 판단이 가능함</td>\n      <td>보통(주 35회 야생동물 이용)</td>\n      <td>종명:  개 이용확인종: 1 이용빈도 순위: 멸종위기종 이용빈도 :\\n종명:  고양...</td>\n      <td>#NAME?</td>\n    </tr>\n    <tr>\n      <th>...</th>\n      <td>...</td>\n      <td>...</td>\n      <td>...</td>\n      <td>...</td>\n      <td>...</td>\n      <td>...</td>\n      <td>...</td>\n      <td>...</td>\n      <td>...</td>\n      <td>...</td>\n      <td>...</td>\n      <td>...</td>\n      <td>...</td>\n      <td>...</td>\n      <td>...</td>\n      <td>...</td>\n      <td>...</td>\n      <td>...</td>\n      <td>...</td>\n      <td>...</td>\n      <td>...</td>\n    </tr>\n    <tr>\n      <th>507</th>\n      <td>1089</td>\n      <td>None</td>\n      <td>충청북도 청주시 청원구 오창읍 각리</td>\n      <td>과학산업2로</td>\n      <td>구룡리 472도</td>\n      <td>왕복6차선</td>\n      <td>36</td>\n      <td>42.0</td>\n      <td>46.000000</td>\n      <td>127</td>\n      <td>...</td>\n      <td>경도 127도 25분 14.0초</td>\n      <td>2016.09.26. ~ 2016.09.30.</td>\n      <td>청원구청</td>\n      <td>박태동 외 1인</td>\n      <td>None</td>\n      <td>None</td>\n      <td>금번 조사는 본 생태통로의 효율성에 대한 판단이 가능한 수준이었음</td>\n      <td>판단 불가</td>\n      <td>종명:  고라니 이용확인종: 1 이용빈도 순위: 멸종위기종 이용빈도 :\\n종명:  ...</td>\n      <td>#NAME?</td>\n    </tr>\n    <tr>\n      <th>508</th>\n      <td>1087</td>\n      <td>None</td>\n      <td>충청북도 청주시 청원구 오창읍 구룡리</td>\n      <td>오창공원로</td>\n      <td>구룡리 442도</td>\n      <td>왕복4차선</td>\n      <td>36</td>\n      <td>43.0</td>\n      <td>2.000000</td>\n      <td>127</td>\n      <td>...</td>\n      <td>경도 127도 25분 4.0초</td>\n      <td>2016.09.26. ~ 2016.09.30.</td>\n      <td>청원구</td>\n      <td>박태동 외 1인</td>\n      <td>None</td>\n      <td>매일 다수</td>\n      <td>금번 조사는 본 생태통로의 효율성에 대한 판단이 가능한 수준이었음</td>\n      <td>판단 불가</td>\n      <td>종명:  고라니 이용확인종: 1 이용빈도 순위: 멸종위기종 이용빈도 :\\n종명:  ...</td>\n      <td>#NAME?</td>\n    </tr>\n    <tr>\n      <th>509</th>\n      <td>1088</td>\n      <td>None</td>\n      <td>충청북도 청주시 청원구 오창읍 양청리</td>\n      <td>오창공원로</td>\n      <td>양청리 882도(호수공원 주변)</td>\n      <td>왕복4차선</td>\n      <td>36</td>\n      <td>42.0</td>\n      <td>44.000000</td>\n      <td>127</td>\n      <td>...</td>\n      <td>경도 127도 25분 31.0초</td>\n      <td>2016.09.26. ~ 2016.09.30.</td>\n      <td>청원구청</td>\n      <td>박태동 외 1인</td>\n      <td>None</td>\n      <td>매일 다수</td>\n      <td>금번 조사는 본 생태통로의 효율성에 대한 판단이 가능한 수준이었음</td>\n      <td>판단 불가</td>\n      <td>종명:  고라니 이용확인종: 1 이용빈도 순위: 멸종위기종 이용빈도 :\\n종명:  ...</td>\n      <td>#NAME?</td>\n    </tr>\n    <tr>\n      <th>510</th>\n      <td>1091</td>\n      <td>None</td>\n      <td>충청북도 청주시 청원구 오창읍 여천리</td>\n      <td>리도</td>\n      <td>213호선</td>\n      <td>왕복2차선</td>\n      <td>36</td>\n      <td>46.0</td>\n      <td>3.000000</td>\n      <td>127</td>\n      <td>...</td>\n      <td>경도 127도 28분 24.0초</td>\n      <td>2016.09.26. ~ 2016.09.30.</td>\n      <td>청원구청</td>\n      <td>박태동 외 1인</td>\n      <td>None</td>\n      <td>None</td>\n      <td>금번 조사는 본 생태통로의 효율성에 대한 판단이 가능한 수준이었음</td>\n      <td>판단 불가</td>\n      <td>종명:  멧돼지 이용확인종: 1 이용빈도 순위: 멸종위기종 이용빈도 :\\n종명:  ...</td>\n      <td>#NAME?</td>\n    </tr>\n    <tr>\n      <th>511</th>\n      <td>1072</td>\n      <td>None</td>\n      <td>충청북도 청주시 청원구 율량동</td>\n      <td>1순환로</td>\n      <td>산 128-1도</td>\n      <td>왕복6차선</td>\n      <td>36</td>\n      <td>39.0</td>\n      <td>10.550000</td>\n      <td>127</td>\n      <td>...</td>\n      <td>경도 127도 30분 46.0초</td>\n      <td>2016.09.26. ~ 2016.09.30.</td>\n      <td>청주시</td>\n      <td>박태동 외 1인</td>\n      <td>None</td>\n      <td>매일 다수</td>\n      <td>금번 조사는 본 생태통로의 효율성에 대한 판단이 가능한 수준이었음</td>\n      <td>판단 불가</td>\n      <td>종명:  고라니 이용확인종: 1 이용빈도 순위: 멸종위기종 이용빈도 :\\n종명:  ...</td>\n      <td>#NAME?</td>\n    </tr>\n  </tbody>\n</table>\n<p>512 rows × 33 columns</p>\n</div>"
     },
     "execution_count": 8,
     "metadata": {},
     "output_type": "execute_result"
    }
   ],
   "source": [
    "df = load_data_from_rds('Re_Main_승현')\n",
    "df"
   ],
   "metadata": {
    "collapsed": false,
    "pycharm": {
     "name": "#%%\n"
    }
   }
  },
  {
   "cell_type": "code",
   "execution_count": 10,
   "outputs": [
    {
     "data": {
      "text/plain": "['번호',\n '생태통로명',\n '주소',\n '도로명',\n '도로번호',\n '차선_수',\n '위도_도',\n '위도_분',\n '위도_초',\n '경도_도',\n '경도_분',\n '경도_초',\n '위도_도분초',\n '경도_도분초',\n '위도_십진법',\n '경도_십진법',\n 'num',\n '도로',\n '관리기관',\n '설치기관',\n '생태통로타입',\n '준공년도',\n '생태통로좌표(위도)',\n '생태통로좌표(경도)',\n '모니터링기간',\n '수행기관',\n '수행자',\n '모니터링방법',\n '등산객이용빈도',\n '모니터링신뢰도',\n '생태통로효율성',\n '이용확인종,이용빈도높은종,멸종위기종이용빈도',\n '개선필요사항']"
     },
     "execution_count": 10,
     "metadata": {},
     "output_type": "execute_result"
    }
   ],
   "source": [
    "col = list(df.columns)\n",
    "col"
   ],
   "metadata": {
    "collapsed": false,
    "pycharm": {
     "name": "#%%\n"
    }
   }
  },
  {
   "cell_type": "markdown",
   "source": [
    "# 생태통로타입"
   ],
   "metadata": {
    "collapsed": false
   }
  },
  {
   "cell_type": "code",
   "execution_count": 28,
   "outputs": [
    {
     "data": {
      "text/plain": "번호                           0\n생태통로명                      126\n주소                           0\n도로명                          9\n도로번호                        21\n차선_수                         0\n위도_도                         0\n위도_분                         1\n위도_초                         0\n경도_도                         0\n경도_분                         0\n경도_초                         0\n위도_도분초                       0\n경도_도분초                       0\n위도_십진법                       0\n경도_십진법                       0\nnum                         13\n도로                          14\n관리기관                        13\n설치기관                        13\n생태통로타입                      13\n준공년도                        16\n생태통로좌표(위도)                  13\n생태통로좌표(경도)                  13\n모니터링기간                     104\n수행기관                       137\n수행자                        106\n모니터링방법                     354\n등산객이용빈도                    285\n모니터링신뢰도                    106\n생태통로효율성                     94\n이용확인종,이용빈도높은종,멸종위기종이용빈도    301\n개선필요사항                     314\ndtype: int64"
     },
     "execution_count": 28,
     "metadata": {},
     "output_type": "execute_result"
    }
   ],
   "source": [
    "df.isnull().sum()"
   ],
   "metadata": {
    "collapsed": false,
    "pycharm": {
     "name": "#%%\n"
    }
   }
  },
  {
   "cell_type": "code",
   "execution_count": 11,
   "outputs": [
    {
     "data": {
      "text/plain": "array(['육교형', '터널형', None, '양서·파충류 통로'], dtype=object)"
     },
     "execution_count": 11,
     "metadata": {},
     "output_type": "execute_result"
    }
   ],
   "source": [
    "df['생태통로타입'].unique()"
   ],
   "metadata": {
    "collapsed": false,
    "pycharm": {
     "name": "#%%\n"
    }
   }
  },
  {
   "cell_type": "code",
   "execution_count": 29,
   "outputs": [
    {
     "data": {
      "text/plain": "       번호              생태통로명                       주소   도로명  도로번호   차선_수  \\\n26   1533            고암 생태통로        경기도 양주시 고암동 산44-3   국대도   3호선  왕복6차선   \n101  1521  동해선 117.93k(노학터널)              강원도 속초시 노학동   동해선    65  왕복4차선   \n200  1345               수로암거  경상북도 봉화군 소천면 고선리 산61-22    국도  31호선  왕복2차선   \n259  1543             용화생태통로         경상북도 상주시 화북면 운흥리    국도    37  왕복2차선   \n287  1479                 입암   전라북도 정읍시 입암면 신면리 산18-1    국도   1호선  왕복4차선   \n335  1030           청계산 생태통로          경기도 양평군 양서면 목왕리    군도   1호선  왕복2차선   \n389  1548               None   강원도 인제군 상남면 상남리 1627-5  고속도로    60  왕복4차선   \n390  1549               None   강원도 인제군 상남면 상남리 1649-5    고속    60  왕복4차선   \n405  1551               None          경기도 안성시 삼죽면 진촌리    국도    38  왕복2차선   \n425  1544               None         경상남도 진주시 진성면 구천리    국도     2  왕복4차선   \n433  1556               None         경상북도 김천시 봉산면 광천리    고속     1  왕복6차선   \n467  1555               None         전라북도 장수군 번암면 노단리   지방도   751  왕복2차선   \n485  1560               None         충청남도 천안시 서북구 입장면    지방    57  왕복2차선   \n\n     위도_도  위도_분    위도_초  경도_도  ...  생태통로좌표(경도)  모니터링기간  수행기관   수행자  모니터링방법  \\\n26     37  49.0   36.00   127  ...        None    None  None  None    None   \n101    38  10.0   48.50   128  ...        None    None  None  None    None   \n200    37   0.0    3.92   128  ...        None    None  None  None    None   \n259    36  35.0   40.50   127  ...        None    None  None  None    None   \n287    35  31.0    6.27   126  ...        None    None  None  None    None   \n335    37  34.0  208.00   127  ...        None    None  None  None    None   \n389    37  50.0    3.60   128  ...        None    None  None  None    None   \n390    37  49.0   53.10   128  ...        None    None  None  None    None   \n405    37   4.0    4.50   127  ...        None    None  None  None    None   \n425    35  10.0    8.70   128  ...        None    None  None  None    None   \n433    36  12.0   12.20   128  ...        None    None  None  None    None   \n467    35  31.0   51.60   127  ...        None    None  None  None    None   \n485    36  53.0   16.40   127  ...        None    None  None  None    None   \n\n     등산객이용빈도  모니터링신뢰도 생태통로효율성 이용확인종,이용빈도높은종,멸종위기종이용빈도 개선필요사항  \n26      None     None    None                    None   None  \n101     None     None    None                    None   None  \n200     None     None    None                    None   None  \n259     None     None    None                    None   None  \n287     None     None    None                    None   None  \n335     None     None    None                    None   None  \n389     None     None    None                    None   None  \n390     None     None    None                    None   None  \n405     None     None    None                    None   None  \n425     None     None    None                    None   None  \n433     None     None    None                    None   None  \n467     None     None    None                    None   None  \n485     None     None    None                    None   None  \n\n[13 rows x 33 columns]",
      "text/html": "<div>\n<style scoped>\n    .dataframe tbody tr th:only-of-type {\n        vertical-align: middle;\n    }\n\n    .dataframe tbody tr th {\n        vertical-align: top;\n    }\n\n    .dataframe thead th {\n        text-align: right;\n    }\n</style>\n<table border=\"1\" class=\"dataframe\">\n  <thead>\n    <tr style=\"text-align: right;\">\n      <th></th>\n      <th>번호</th>\n      <th>생태통로명</th>\n      <th>주소</th>\n      <th>도로명</th>\n      <th>도로번호</th>\n      <th>차선_수</th>\n      <th>위도_도</th>\n      <th>위도_분</th>\n      <th>위도_초</th>\n      <th>경도_도</th>\n      <th>...</th>\n      <th>생태통로좌표(경도)</th>\n      <th>모니터링기간</th>\n      <th>수행기관</th>\n      <th>수행자</th>\n      <th>모니터링방법</th>\n      <th>등산객이용빈도</th>\n      <th>모니터링신뢰도</th>\n      <th>생태통로효율성</th>\n      <th>이용확인종,이용빈도높은종,멸종위기종이용빈도</th>\n      <th>개선필요사항</th>\n    </tr>\n  </thead>\n  <tbody>\n    <tr>\n      <th>26</th>\n      <td>1533</td>\n      <td>고암 생태통로</td>\n      <td>경기도 양주시 고암동 산44-3</td>\n      <td>국대도</td>\n      <td>3호선</td>\n      <td>왕복6차선</td>\n      <td>37</td>\n      <td>49.0</td>\n      <td>36.00</td>\n      <td>127</td>\n      <td>...</td>\n      <td>None</td>\n      <td>None</td>\n      <td>None</td>\n      <td>None</td>\n      <td>None</td>\n      <td>None</td>\n      <td>None</td>\n      <td>None</td>\n      <td>None</td>\n      <td>None</td>\n    </tr>\n    <tr>\n      <th>101</th>\n      <td>1521</td>\n      <td>동해선 117.93k(노학터널)</td>\n      <td>강원도 속초시 노학동</td>\n      <td>동해선</td>\n      <td>65</td>\n      <td>왕복4차선</td>\n      <td>38</td>\n      <td>10.0</td>\n      <td>48.50</td>\n      <td>128</td>\n      <td>...</td>\n      <td>None</td>\n      <td>None</td>\n      <td>None</td>\n      <td>None</td>\n      <td>None</td>\n      <td>None</td>\n      <td>None</td>\n      <td>None</td>\n      <td>None</td>\n      <td>None</td>\n    </tr>\n    <tr>\n      <th>200</th>\n      <td>1345</td>\n      <td>수로암거</td>\n      <td>경상북도 봉화군 소천면 고선리 산61-22</td>\n      <td>국도</td>\n      <td>31호선</td>\n      <td>왕복2차선</td>\n      <td>37</td>\n      <td>0.0</td>\n      <td>3.92</td>\n      <td>128</td>\n      <td>...</td>\n      <td>None</td>\n      <td>None</td>\n      <td>None</td>\n      <td>None</td>\n      <td>None</td>\n      <td>None</td>\n      <td>None</td>\n      <td>None</td>\n      <td>None</td>\n      <td>None</td>\n    </tr>\n    <tr>\n      <th>259</th>\n      <td>1543</td>\n      <td>용화생태통로</td>\n      <td>경상북도 상주시 화북면 운흥리</td>\n      <td>국도</td>\n      <td>37</td>\n      <td>왕복2차선</td>\n      <td>36</td>\n      <td>35.0</td>\n      <td>40.50</td>\n      <td>127</td>\n      <td>...</td>\n      <td>None</td>\n      <td>None</td>\n      <td>None</td>\n      <td>None</td>\n      <td>None</td>\n      <td>None</td>\n      <td>None</td>\n      <td>None</td>\n      <td>None</td>\n      <td>None</td>\n    </tr>\n    <tr>\n      <th>287</th>\n      <td>1479</td>\n      <td>입암</td>\n      <td>전라북도 정읍시 입암면 신면리 산18-1</td>\n      <td>국도</td>\n      <td>1호선</td>\n      <td>왕복4차선</td>\n      <td>35</td>\n      <td>31.0</td>\n      <td>6.27</td>\n      <td>126</td>\n      <td>...</td>\n      <td>None</td>\n      <td>None</td>\n      <td>None</td>\n      <td>None</td>\n      <td>None</td>\n      <td>None</td>\n      <td>None</td>\n      <td>None</td>\n      <td>None</td>\n      <td>None</td>\n    </tr>\n    <tr>\n      <th>335</th>\n      <td>1030</td>\n      <td>청계산 생태통로</td>\n      <td>경기도 양평군 양서면 목왕리</td>\n      <td>군도</td>\n      <td>1호선</td>\n      <td>왕복2차선</td>\n      <td>37</td>\n      <td>34.0</td>\n      <td>208.00</td>\n      <td>127</td>\n      <td>...</td>\n      <td>None</td>\n      <td>None</td>\n      <td>None</td>\n      <td>None</td>\n      <td>None</td>\n      <td>None</td>\n      <td>None</td>\n      <td>None</td>\n      <td>None</td>\n      <td>None</td>\n    </tr>\n    <tr>\n      <th>389</th>\n      <td>1548</td>\n      <td>None</td>\n      <td>강원도 인제군 상남면 상남리 1627-5</td>\n      <td>고속도로</td>\n      <td>60</td>\n      <td>왕복4차선</td>\n      <td>37</td>\n      <td>50.0</td>\n      <td>3.60</td>\n      <td>128</td>\n      <td>...</td>\n      <td>None</td>\n      <td>None</td>\n      <td>None</td>\n      <td>None</td>\n      <td>None</td>\n      <td>None</td>\n      <td>None</td>\n      <td>None</td>\n      <td>None</td>\n      <td>None</td>\n    </tr>\n    <tr>\n      <th>390</th>\n      <td>1549</td>\n      <td>None</td>\n      <td>강원도 인제군 상남면 상남리 1649-5</td>\n      <td>고속</td>\n      <td>60</td>\n      <td>왕복4차선</td>\n      <td>37</td>\n      <td>49.0</td>\n      <td>53.10</td>\n      <td>128</td>\n      <td>...</td>\n      <td>None</td>\n      <td>None</td>\n      <td>None</td>\n      <td>None</td>\n      <td>None</td>\n      <td>None</td>\n      <td>None</td>\n      <td>None</td>\n      <td>None</td>\n      <td>None</td>\n    </tr>\n    <tr>\n      <th>405</th>\n      <td>1551</td>\n      <td>None</td>\n      <td>경기도 안성시 삼죽면 진촌리</td>\n      <td>국도</td>\n      <td>38</td>\n      <td>왕복2차선</td>\n      <td>37</td>\n      <td>4.0</td>\n      <td>4.50</td>\n      <td>127</td>\n      <td>...</td>\n      <td>None</td>\n      <td>None</td>\n      <td>None</td>\n      <td>None</td>\n      <td>None</td>\n      <td>None</td>\n      <td>None</td>\n      <td>None</td>\n      <td>None</td>\n      <td>None</td>\n    </tr>\n    <tr>\n      <th>425</th>\n      <td>1544</td>\n      <td>None</td>\n      <td>경상남도 진주시 진성면 구천리</td>\n      <td>국도</td>\n      <td>2</td>\n      <td>왕복4차선</td>\n      <td>35</td>\n      <td>10.0</td>\n      <td>8.70</td>\n      <td>128</td>\n      <td>...</td>\n      <td>None</td>\n      <td>None</td>\n      <td>None</td>\n      <td>None</td>\n      <td>None</td>\n      <td>None</td>\n      <td>None</td>\n      <td>None</td>\n      <td>None</td>\n      <td>None</td>\n    </tr>\n    <tr>\n      <th>433</th>\n      <td>1556</td>\n      <td>None</td>\n      <td>경상북도 김천시 봉산면 광천리</td>\n      <td>고속</td>\n      <td>1</td>\n      <td>왕복6차선</td>\n      <td>36</td>\n      <td>12.0</td>\n      <td>12.20</td>\n      <td>128</td>\n      <td>...</td>\n      <td>None</td>\n      <td>None</td>\n      <td>None</td>\n      <td>None</td>\n      <td>None</td>\n      <td>None</td>\n      <td>None</td>\n      <td>None</td>\n      <td>None</td>\n      <td>None</td>\n    </tr>\n    <tr>\n      <th>467</th>\n      <td>1555</td>\n      <td>None</td>\n      <td>전라북도 장수군 번암면 노단리</td>\n      <td>지방도</td>\n      <td>751</td>\n      <td>왕복2차선</td>\n      <td>35</td>\n      <td>31.0</td>\n      <td>51.60</td>\n      <td>127</td>\n      <td>...</td>\n      <td>None</td>\n      <td>None</td>\n      <td>None</td>\n      <td>None</td>\n      <td>None</td>\n      <td>None</td>\n      <td>None</td>\n      <td>None</td>\n      <td>None</td>\n      <td>None</td>\n    </tr>\n    <tr>\n      <th>485</th>\n      <td>1560</td>\n      <td>None</td>\n      <td>충청남도 천안시 서북구 입장면</td>\n      <td>지방</td>\n      <td>57</td>\n      <td>왕복2차선</td>\n      <td>36</td>\n      <td>53.0</td>\n      <td>16.40</td>\n      <td>127</td>\n      <td>...</td>\n      <td>None</td>\n      <td>None</td>\n      <td>None</td>\n      <td>None</td>\n      <td>None</td>\n      <td>None</td>\n      <td>None</td>\n      <td>None</td>\n      <td>None</td>\n      <td>None</td>\n    </tr>\n  </tbody>\n</table>\n<p>13 rows × 33 columns</p>\n</div>"
     },
     "execution_count": 29,
     "metadata": {},
     "output_type": "execute_result"
    }
   ],
   "source": [
    "df[df['생태통로타입'].isnull()]"
   ],
   "metadata": {
    "collapsed": false,
    "pycharm": {
     "name": "#%%\n"
    }
   }
  },
  {
   "cell_type": "code",
   "execution_count": 27,
   "outputs": [
    {
     "data": {
      "text/plain": "array(['판단 불가', '보통(주 35회 야생동물 이용)', '높음(거의 매일 야생동물 이용)', None,\n       '낮음(주 2회 이하 야생동물 이용)'], dtype=object)"
     },
     "execution_count": 27,
     "metadata": {},
     "output_type": "execute_result"
    }
   ],
   "source": [
    "df['생태통로효율성'].unique()"
   ],
   "metadata": {
    "collapsed": false,
    "pycharm": {
     "name": "#%%\n"
    }
   }
  },
  {
   "cell_type": "code",
   "execution_count": 40,
   "outputs": [
    {
     "data": {
      "text/plain": "       번호             생태통로명                             주소      도로명  \\\n5    1023           갈마치생태통로                경기도 성남시 중원구 갈현동     None   \n8    1515  갈사만진입도로3호선 생태이동로  경상남도 하동군 금성면 가덕리 산173-16번지 일원  갈사만진입도로   \n28   1035         곱든고개 생태통로            경기도 용인시 처인구 원삼면 사암리   소로1-11   \n30   1462      광주대구선 28.80k         전라북도 순창군 순창읍 백산리 366-1    광주대구선   \n35   1181          구룡령 생태통로                 강원도 양양군 서면 갈천리       국도   \n..    ...               ...                            ...      ...   \n453  1135              None               전라남도 구례군 산동면 둔사리   산동-고달간   \n454  1134              None                   전라남도 구례군 신학리    산동고달간   \n482  1107              None               충청남도 금산군 금성면 두곡리       금성   \n496  1075              None               충청북도 보은군 마로면 갈전리       군도   \n497  1076              None               충청북도 보은군 탄부면 평각리    농어촌도로   \n\n                도로번호   차선_수  위도_도  위도_분       위도_초  경도_도  ...  \\\n5                389  왕복2차선    37  25.0  11.000000   127  ...   \n8                3호선  왕복4차선    34  58.0  38.450000   127  ...   \n28              57호선  왕복2차선    37  11.0  13.510000   127  ...   \n30             제12호선  왕복4차선    35  21.0  58.200000   127  ...   \n35            (56호선)  왕복4차선    37  52.0  48.691681   128  ...   \n..               ...    ...   ...   ...        ...   ...  ...   \n453            103호선  왕복2차선    35  18.0  18.520000   127  ...   \n454            103호선  왕복2차선    35  19.0   5.312109   127  ...   \n482             103호  왕복2차선    36   8.0  55.470000   127  ...   \n496      15호선(갈전-법화)  왕복2차선    36  22.0  18.130316   127  ...   \n497  리도 203호선(평각-어암)  왕복1차선    36  27.0  36.396066   127  ...   \n\n              생태통로좌표(경도)                     모니터링기간         수행기관  \\\n5      경도 127도 11분 15.0초  2022.05.02. ~ 2022.06.03.          성남시   \n8     경도 127도 48분 42.25초        20180326 ~ 20180327         None   \n28    경도 127도 17분 46.66초  2020.06.25. ~ 2020.06.25.          용인시   \n30     경도 127도 07분 26.9초  2016.01.01. ~ 2016.12.31.  한국도로공사 광주지사   \n35   경도 128도 30분 51.388초  2021.04.14. ~ 2021.07.15.      원주지방환경청   \n..                   ...                        ...          ...   \n453   경도 127도 23분 42.41초                       None         None   \n454   경도 127도 25분 34.32초                       None         None   \n482   경도 127도 27분 49.77초        20130901 ~ 20131130     금산군환경자원과   \n496  경도 127도 50분 32.554초  2016.10.03. ~ 2016.10.31.          보은군   \n497  경도 127도 45분 31.506초  2016.10.03. ~ 2016.10.31.          보은군   \n\n               수행자     모니터링방법  등산객이용빈도                               모니터링신뢰도  \\\n5      성남시 자연환경모니터       None    극히 적음  금번 조사는 본 생태통로의 효율성에 대한 판단이 가능한 수준이었음   \n8         신희찬, 조현정       시설없음    극히 적음        추가 조사가 있어야 본 생태통로의 효율성 판단이 가능함   \n28             이정미       None    매일 다수  금번 조사는 본 생태통로의 효율성에 대한 판단이 가능한 수준이었음   \n30             장보고       None     None  금번 조사는 본 생태통로의 효율성에 대한 판단이 가능한 수준이었음   \n35   박명종, 김용학, 심완섭       None   월 1~4회  금번 조사는 본 생태통로의 효율성에 대한 판단이 가능한 수준이었음   \n..             ...        ...      ...                                   ...   \n453           None  센서카메라(스틸)   일 1~2회  금번 조사는 본 생태통로의 효율성에 대한 판단이 가능한 수준이었음   \n454           None       None   일 1~2회  금번 조사는 본 생태통로의 효율성에 대한 판단이 가능한 수준이었음   \n482        지권열외 1인       시설없음   일 1~2회  금번 조사는 본 생태통로의 효율성에 대한 판단이 가능한 수준이었음   \n496            김찬식       None     None  금번 조사는 본 생태통로의 효율성에 대한 판단이 가능한 수준이었음   \n497            김찬식       None     None  금번 조사는 본 생태통로의 효율성에 대한 판단이 가능한 수준이었음   \n\n               생태통로효율성                            이용확인종,이용빈도높은종,멸종위기종이용빈도  \\\n5    높음(거의 매일 야생동물 이용)  종명:  고라니 이용확인종: 1 이용빈도 순위: 멸종위기종 이용빈도 :\\n종명:  ...   \n8    높음(거의 매일 야생동물 이용)                                               None   \n28   높음(거의 매일 야생동물 이용)          종명:  고라니 이용확인종: 1 이용빈도 순위: 1 멸종위기종 이용빈도 :   \n30   높음(거의 매일 야생동물 이용)                                               None   \n35   높음(거의 매일 야생동물 이용)  종명:  산양 이용확인종: 1 이용빈도 순위: 멸종위기종 이용빈도 : 극히 적음\\n...   \n..                 ...                                                ...   \n453  높음(거의 매일 야생동물 이용)                                               None   \n454  높음(거의 매일 야생동물 이용)         종명:  삵 이용확인종: 이용빈도 순위: 멸종위기종 이용빈도 : 월 1~4회   \n482  높음(거의 매일 야생동물 이용)  종명:  고라니 이용확인종: 1 이용빈도 순위: 멸종위기종 이용빈도 :\\n종명:  ...   \n496  높음(거의 매일 야생동물 이용)  종명:  고라니 이용확인종: 1 이용빈도 순위: 1 멸종위기종 이용빈도 :\\n종명:...   \n497  높음(거의 매일 야생동물 이용)  종명:  고라니 이용확인종: 1 이용빈도 순위: 1 멸종위기종 이용빈도 :\\n종명:...   \n\n                                                개선필요사항  \n5                                                 None  \n8                                                 None  \n28                                                  없음  \n30                                  센서카메라 시인성 불량, 교체필요  \n35                                                None  \n..                                                 ...  \n453                                               None  \n454                                               None  \n482  - 생태통로 내부 시설 및 토양 등의 상태는 양호하며, 무인센서카메라 1대를 설치하...  \n496                                               None  \n497                                               None  \n\n[90 rows x 33 columns]",
      "text/html": "<div>\n<style scoped>\n    .dataframe tbody tr th:only-of-type {\n        vertical-align: middle;\n    }\n\n    .dataframe tbody tr th {\n        vertical-align: top;\n    }\n\n    .dataframe thead th {\n        text-align: right;\n    }\n</style>\n<table border=\"1\" class=\"dataframe\">\n  <thead>\n    <tr style=\"text-align: right;\">\n      <th></th>\n      <th>번호</th>\n      <th>생태통로명</th>\n      <th>주소</th>\n      <th>도로명</th>\n      <th>도로번호</th>\n      <th>차선_수</th>\n      <th>위도_도</th>\n      <th>위도_분</th>\n      <th>위도_초</th>\n      <th>경도_도</th>\n      <th>...</th>\n      <th>생태통로좌표(경도)</th>\n      <th>모니터링기간</th>\n      <th>수행기관</th>\n      <th>수행자</th>\n      <th>모니터링방법</th>\n      <th>등산객이용빈도</th>\n      <th>모니터링신뢰도</th>\n      <th>생태통로효율성</th>\n      <th>이용확인종,이용빈도높은종,멸종위기종이용빈도</th>\n      <th>개선필요사항</th>\n    </tr>\n  </thead>\n  <tbody>\n    <tr>\n      <th>5</th>\n      <td>1023</td>\n      <td>갈마치생태통로</td>\n      <td>경기도 성남시 중원구 갈현동</td>\n      <td>None</td>\n      <td>389</td>\n      <td>왕복2차선</td>\n      <td>37</td>\n      <td>25.0</td>\n      <td>11.000000</td>\n      <td>127</td>\n      <td>...</td>\n      <td>경도 127도 11분 15.0초</td>\n      <td>2022.05.02. ~ 2022.06.03.</td>\n      <td>성남시</td>\n      <td>성남시 자연환경모니터</td>\n      <td>None</td>\n      <td>극히 적음</td>\n      <td>금번 조사는 본 생태통로의 효율성에 대한 판단이 가능한 수준이었음</td>\n      <td>높음(거의 매일 야생동물 이용)</td>\n      <td>종명:  고라니 이용확인종: 1 이용빈도 순위: 멸종위기종 이용빈도 :\\n종명:  ...</td>\n      <td>None</td>\n    </tr>\n    <tr>\n      <th>8</th>\n      <td>1515</td>\n      <td>갈사만진입도로3호선 생태이동로</td>\n      <td>경상남도 하동군 금성면 가덕리 산173-16번지 일원</td>\n      <td>갈사만진입도로</td>\n      <td>3호선</td>\n      <td>왕복4차선</td>\n      <td>34</td>\n      <td>58.0</td>\n      <td>38.450000</td>\n      <td>127</td>\n      <td>...</td>\n      <td>경도 127도 48분 42.25초</td>\n      <td>20180326 ~ 20180327</td>\n      <td>None</td>\n      <td>신희찬, 조현정</td>\n      <td>시설없음</td>\n      <td>극히 적음</td>\n      <td>추가 조사가 있어야 본 생태통로의 효율성 판단이 가능함</td>\n      <td>높음(거의 매일 야생동물 이용)</td>\n      <td>None</td>\n      <td>None</td>\n    </tr>\n    <tr>\n      <th>28</th>\n      <td>1035</td>\n      <td>곱든고개 생태통로</td>\n      <td>경기도 용인시 처인구 원삼면 사암리</td>\n      <td>소로1-11</td>\n      <td>57호선</td>\n      <td>왕복2차선</td>\n      <td>37</td>\n      <td>11.0</td>\n      <td>13.510000</td>\n      <td>127</td>\n      <td>...</td>\n      <td>경도 127도 17분 46.66초</td>\n      <td>2020.06.25. ~ 2020.06.25.</td>\n      <td>용인시</td>\n      <td>이정미</td>\n      <td>None</td>\n      <td>매일 다수</td>\n      <td>금번 조사는 본 생태통로의 효율성에 대한 판단이 가능한 수준이었음</td>\n      <td>높음(거의 매일 야생동물 이용)</td>\n      <td>종명:  고라니 이용확인종: 1 이용빈도 순위: 1 멸종위기종 이용빈도 :</td>\n      <td>없음</td>\n    </tr>\n    <tr>\n      <th>30</th>\n      <td>1462</td>\n      <td>광주대구선 28.80k</td>\n      <td>전라북도 순창군 순창읍 백산리 366-1</td>\n      <td>광주대구선</td>\n      <td>제12호선</td>\n      <td>왕복4차선</td>\n      <td>35</td>\n      <td>21.0</td>\n      <td>58.200000</td>\n      <td>127</td>\n      <td>...</td>\n      <td>경도 127도 07분 26.9초</td>\n      <td>2016.01.01. ~ 2016.12.31.</td>\n      <td>한국도로공사 광주지사</td>\n      <td>장보고</td>\n      <td>None</td>\n      <td>None</td>\n      <td>금번 조사는 본 생태통로의 효율성에 대한 판단이 가능한 수준이었음</td>\n      <td>높음(거의 매일 야생동물 이용)</td>\n      <td>None</td>\n      <td>센서카메라 시인성 불량, 교체필요</td>\n    </tr>\n    <tr>\n      <th>35</th>\n      <td>1181</td>\n      <td>구룡령 생태통로</td>\n      <td>강원도 양양군 서면 갈천리</td>\n      <td>국도</td>\n      <td>(56호선)</td>\n      <td>왕복4차선</td>\n      <td>37</td>\n      <td>52.0</td>\n      <td>48.691681</td>\n      <td>128</td>\n      <td>...</td>\n      <td>경도 128도 30분 51.388초</td>\n      <td>2021.04.14. ~ 2021.07.15.</td>\n      <td>원주지방환경청</td>\n      <td>박명종, 김용학, 심완섭</td>\n      <td>None</td>\n      <td>월 1~4회</td>\n      <td>금번 조사는 본 생태통로의 효율성에 대한 판단이 가능한 수준이었음</td>\n      <td>높음(거의 매일 야생동물 이용)</td>\n      <td>종명:  산양 이용확인종: 1 이용빈도 순위: 멸종위기종 이용빈도 : 극히 적음\\n...</td>\n      <td>None</td>\n    </tr>\n    <tr>\n      <th>...</th>\n      <td>...</td>\n      <td>...</td>\n      <td>...</td>\n      <td>...</td>\n      <td>...</td>\n      <td>...</td>\n      <td>...</td>\n      <td>...</td>\n      <td>...</td>\n      <td>...</td>\n      <td>...</td>\n      <td>...</td>\n      <td>...</td>\n      <td>...</td>\n      <td>...</td>\n      <td>...</td>\n      <td>...</td>\n      <td>...</td>\n      <td>...</td>\n      <td>...</td>\n      <td>...</td>\n    </tr>\n    <tr>\n      <th>453</th>\n      <td>1135</td>\n      <td>None</td>\n      <td>전라남도 구례군 산동면 둔사리</td>\n      <td>산동-고달간</td>\n      <td>103호선</td>\n      <td>왕복2차선</td>\n      <td>35</td>\n      <td>18.0</td>\n      <td>18.520000</td>\n      <td>127</td>\n      <td>...</td>\n      <td>경도 127도 23분 42.41초</td>\n      <td>None</td>\n      <td>None</td>\n      <td>None</td>\n      <td>센서카메라(스틸)</td>\n      <td>일 1~2회</td>\n      <td>금번 조사는 본 생태통로의 효율성에 대한 판단이 가능한 수준이었음</td>\n      <td>높음(거의 매일 야생동물 이용)</td>\n      <td>None</td>\n      <td>None</td>\n    </tr>\n    <tr>\n      <th>454</th>\n      <td>1134</td>\n      <td>None</td>\n      <td>전라남도 구례군 신학리</td>\n      <td>산동고달간</td>\n      <td>103호선</td>\n      <td>왕복2차선</td>\n      <td>35</td>\n      <td>19.0</td>\n      <td>5.312109</td>\n      <td>127</td>\n      <td>...</td>\n      <td>경도 127도 25분 34.32초</td>\n      <td>None</td>\n      <td>None</td>\n      <td>None</td>\n      <td>None</td>\n      <td>일 1~2회</td>\n      <td>금번 조사는 본 생태통로의 효율성에 대한 판단이 가능한 수준이었음</td>\n      <td>높음(거의 매일 야생동물 이용)</td>\n      <td>종명:  삵 이용확인종: 이용빈도 순위: 멸종위기종 이용빈도 : 월 1~4회</td>\n      <td>None</td>\n    </tr>\n    <tr>\n      <th>482</th>\n      <td>1107</td>\n      <td>None</td>\n      <td>충청남도 금산군 금성면 두곡리</td>\n      <td>금성</td>\n      <td>103호</td>\n      <td>왕복2차선</td>\n      <td>36</td>\n      <td>8.0</td>\n      <td>55.470000</td>\n      <td>127</td>\n      <td>...</td>\n      <td>경도 127도 27분 49.77초</td>\n      <td>20130901 ~ 20131130</td>\n      <td>금산군환경자원과</td>\n      <td>지권열외 1인</td>\n      <td>시설없음</td>\n      <td>일 1~2회</td>\n      <td>금번 조사는 본 생태통로의 효율성에 대한 판단이 가능한 수준이었음</td>\n      <td>높음(거의 매일 야생동물 이용)</td>\n      <td>종명:  고라니 이용확인종: 1 이용빈도 순위: 멸종위기종 이용빈도 :\\n종명:  ...</td>\n      <td>- 생태통로 내부 시설 및 토양 등의 상태는 양호하며, 무인센서카메라 1대를 설치하...</td>\n    </tr>\n    <tr>\n      <th>496</th>\n      <td>1075</td>\n      <td>None</td>\n      <td>충청북도 보은군 마로면 갈전리</td>\n      <td>군도</td>\n      <td>15호선(갈전-법화)</td>\n      <td>왕복2차선</td>\n      <td>36</td>\n      <td>22.0</td>\n      <td>18.130316</td>\n      <td>127</td>\n      <td>...</td>\n      <td>경도 127도 50분 32.554초</td>\n      <td>2016.10.03. ~ 2016.10.31.</td>\n      <td>보은군</td>\n      <td>김찬식</td>\n      <td>None</td>\n      <td>None</td>\n      <td>금번 조사는 본 생태통로의 효율성에 대한 판단이 가능한 수준이었음</td>\n      <td>높음(거의 매일 야생동물 이용)</td>\n      <td>종명:  고라니 이용확인종: 1 이용빈도 순위: 1 멸종위기종 이용빈도 :\\n종명:...</td>\n      <td>None</td>\n    </tr>\n    <tr>\n      <th>497</th>\n      <td>1076</td>\n      <td>None</td>\n      <td>충청북도 보은군 탄부면 평각리</td>\n      <td>농어촌도로</td>\n      <td>리도 203호선(평각-어암)</td>\n      <td>왕복1차선</td>\n      <td>36</td>\n      <td>27.0</td>\n      <td>36.396066</td>\n      <td>127</td>\n      <td>...</td>\n      <td>경도 127도 45분 31.506초</td>\n      <td>2016.10.03. ~ 2016.10.31.</td>\n      <td>보은군</td>\n      <td>김찬식</td>\n      <td>None</td>\n      <td>None</td>\n      <td>금번 조사는 본 생태통로의 효율성에 대한 판단이 가능한 수준이었음</td>\n      <td>높음(거의 매일 야생동물 이용)</td>\n      <td>종명:  고라니 이용확인종: 1 이용빈도 순위: 1 멸종위기종 이용빈도 :\\n종명:...</td>\n      <td>None</td>\n    </tr>\n  </tbody>\n</table>\n<p>90 rows × 33 columns</p>\n</div>"
     },
     "execution_count": 40,
     "metadata": {},
     "output_type": "execute_result"
    }
   ],
   "source": [
    "df[df['생태통로효율성']=='높음(거의 매일 야생동물 이용)']"
   ],
   "metadata": {
    "collapsed": false,
    "pycharm": {
     "name": "#%%\n"
    }
   }
  },
  {
   "cell_type": "code",
   "execution_count": 39,
   "outputs": [
    {
     "data": {
      "text/plain": "254"
     },
     "execution_count": 39,
     "metadata": {},
     "output_type": "execute_result"
    }
   ],
   "source": [
    "# null => 9n개\n",
    "# 판단불가 => 160개\n",
    "94+160\n",
    "# 생태통로 효율성 값 x => 254개\n",
    "# 총 536개 생태통로중에 250제외"
   ],
   "metadata": {
    "collapsed": false,
    "pycharm": {
     "name": "#%%\n"
    }
   }
  },
  {
   "cell_type": "code",
   "execution_count": 26,
   "outputs": [
    {
     "data": {
      "text/plain": "       번호             생태통로명                             주소           도로명  \\\n0    1495              가계통로       경상남도 산청군 생비량면 가계리 산279-3          일반국도   \n1    1277               가대리               충청북도 단양군 가곡면 가대리            국도   \n6    1527            갈매생태통로        경기도 경기 구리시 갈매동 산 69-183  갈매동 산 69-183   \n8    1515  갈사만진입도로3호선 생태이동로  경상남도 하동군 금성면 가덕리 산173-16번지 일원       갈사만진입도로   \n9    1247            갈운생태통로                경기도 양평군 청운면 갈운리            국도   \n..    ...               ...                            ...           ...   \n495  1073              None               충청북도 괴산군 사리면 사담리           사담선   \n503  1482              None        충청북도 청주시 서원구 모충동 260-17           매봉로   \n504  1083              None           충청북도 청주시 서원구 성화동 658          구룡산로   \n505  1084              None        충청북도 청주시 서원구 수곡동 214-30           안뜸로   \n506  1481              None         충청북도 청주시 서원구 수곡동 577-1          1순환로   \n\n       도로번호   차선_수  위도_도  위도_분   위도_초  경도_도  ...          생태통로좌표(경도)  \\\n0      20호선  왕복4차선    35  21.0  36.68   128  ...    경도 128도 3분 49.5초   \n1      59호선  왕복2차선    37   2.0   2.70   128  ...   경도 128도 24분 23.8초   \n6    도로명미부여  왕복4차선    37  62.0   0.00   127  ...   경도 127도 11분 33.0초   \n8       3호선  왕복4차선    34  58.0  38.45   127  ...  경도 127도 48분 42.25초   \n9       6호선  왕복2차선    37  31.0  56.27   127  ...   경도 127도 48분 4.72초   \n..      ...    ...   ...   ...    ...   ...  ...                 ...   \n495    None  왕복2차선    36  49.0  35.80   127  ...   경도 127도 39분 35.8초   \n503     매봉로  왕복2차선    36  37.0  26.71   127  ...  경도 127도 28분 40.23초   \n504    52번길  왕복4차선    36  36.0  53.18   127  ...  경도 127도 27분 24.01초   \n505      47  왕복2차선    36  36.0  51.32   127  ...  경도 127도 28분 51.92초   \n506    1순환로  왕복6차선    36  37.0  20.60   127  ...   경도 127도 28분 2.29초   \n\n                        모니터링기간           수행기관       수행자  모니터링방법  등산객이용빈도  \\\n0    2017.07.17. ~ 2017.07.28.      진주국토관리사무소       박상훈    None    극히 적음   \n1    2016.01.01. ~ 2016.09.20.        도로관리사업소       박찬일    None     None   \n6                         None           None      None    None     None   \n8          20180326 ~ 20180327           None  신희찬, 조현정    시설없음    극히 적음   \n9    2016.04.22. ~ 2016.04.25.  경기도 양평군 환경관리과       전찬운    None    극히 적음   \n..                         ...            ...       ...     ...      ...   \n495  2016.07.27. ~ 2016.07.27.           괴산군청       이세희    시설없음    극히 적음   \n503  2016.12.01. ~ 2016.12.21.           None  생태통로 관리자    시설없음    매일 다수   \n504  2016.10.01. ~ 2016.12.21.            청주시   생태통로수행자    None    매일 다수   \n505  2016.10.01. ~ 2016.12.21.            청주시   생태통로수행자    None   일 1~2회   \n506  2016.12.01. ~ 2016.12.21.           None   생태통로관리자    시설없음    매일 다수   \n\n                                  모니터링신뢰도            생태통로효율성  \\\n0          추가 조사가 있어야 본 생태통로의 효율성 판단이 가능함              판단 불가   \n1          추가 조사가 있어야 본 생태통로의 효율성 판단이 가능함              판단 불가   \n6                                    None               None   \n8          추가 조사가 있어야 본 생태통로의 효율성 판단이 가능함  높음(거의 매일 야생동물 이용)   \n9          추가 조사가 있어야 본 생태통로의 효율성 판단이 가능함              판단 불가   \n..                                    ...                ...   \n495  금번 조사는 본 생태통로의 효율성에 대한 판단이 가능한 수준이었음  보통(주 35회 야생동물 이용)   \n503  금번 조사는 본 생태통로의 효율성에 대한 판단이 가능한 수준이었음              판단 불가   \n504  금번 조사는 본 생태통로의 효율성에 대한 판단이 가능한 수준이었음              판단 불가   \n505  금번 조사는 본 생태통로의 효율성에 대한 판단이 가능한 수준이었음              판단 불가   \n506  금번 조사는 본 생태통로의 효율성에 대한 판단이 가능한 수준이었음              판단 불가   \n\n    이용확인종,이용빈도높은종,멸종위기종이용빈도                                             개선필요사항  \n0                      None                                               None  \n1                      None                                               None  \n6                      None                                               None  \n8                      None                                               None  \n9                      None  도로 횡단 배수로를 생태통로로 지정한 것으로 사실상 생태통로 역할을 수행하기 어렵다...  \n..                      ...                                                ...  \n495                    None              생태통로로서의 기능을 하고 있음. 고라니 배설물 등 사용 흔적 있음  \n503                    None                                               None  \n504                    None                                               None  \n505                    None                                               None  \n506                    None                                               None  \n\n[301 rows x 33 columns]",
      "text/html": "<div>\n<style scoped>\n    .dataframe tbody tr th:only-of-type {\n        vertical-align: middle;\n    }\n\n    .dataframe tbody tr th {\n        vertical-align: top;\n    }\n\n    .dataframe thead th {\n        text-align: right;\n    }\n</style>\n<table border=\"1\" class=\"dataframe\">\n  <thead>\n    <tr style=\"text-align: right;\">\n      <th></th>\n      <th>번호</th>\n      <th>생태통로명</th>\n      <th>주소</th>\n      <th>도로명</th>\n      <th>도로번호</th>\n      <th>차선_수</th>\n      <th>위도_도</th>\n      <th>위도_분</th>\n      <th>위도_초</th>\n      <th>경도_도</th>\n      <th>...</th>\n      <th>생태통로좌표(경도)</th>\n      <th>모니터링기간</th>\n      <th>수행기관</th>\n      <th>수행자</th>\n      <th>모니터링방법</th>\n      <th>등산객이용빈도</th>\n      <th>모니터링신뢰도</th>\n      <th>생태통로효율성</th>\n      <th>이용확인종,이용빈도높은종,멸종위기종이용빈도</th>\n      <th>개선필요사항</th>\n    </tr>\n  </thead>\n  <tbody>\n    <tr>\n      <th>0</th>\n      <td>1495</td>\n      <td>가계통로</td>\n      <td>경상남도 산청군 생비량면 가계리 산279-3</td>\n      <td>일반국도</td>\n      <td>20호선</td>\n      <td>왕복4차선</td>\n      <td>35</td>\n      <td>21.0</td>\n      <td>36.68</td>\n      <td>128</td>\n      <td>...</td>\n      <td>경도 128도 3분 49.5초</td>\n      <td>2017.07.17. ~ 2017.07.28.</td>\n      <td>진주국토관리사무소</td>\n      <td>박상훈</td>\n      <td>None</td>\n      <td>극히 적음</td>\n      <td>추가 조사가 있어야 본 생태통로의 효율성 판단이 가능함</td>\n      <td>판단 불가</td>\n      <td>None</td>\n      <td>None</td>\n    </tr>\n    <tr>\n      <th>1</th>\n      <td>1277</td>\n      <td>가대리</td>\n      <td>충청북도 단양군 가곡면 가대리</td>\n      <td>국도</td>\n      <td>59호선</td>\n      <td>왕복2차선</td>\n      <td>37</td>\n      <td>2.0</td>\n      <td>2.70</td>\n      <td>128</td>\n      <td>...</td>\n      <td>경도 128도 24분 23.8초</td>\n      <td>2016.01.01. ~ 2016.09.20.</td>\n      <td>도로관리사업소</td>\n      <td>박찬일</td>\n      <td>None</td>\n      <td>None</td>\n      <td>추가 조사가 있어야 본 생태통로의 효율성 판단이 가능함</td>\n      <td>판단 불가</td>\n      <td>None</td>\n      <td>None</td>\n    </tr>\n    <tr>\n      <th>6</th>\n      <td>1527</td>\n      <td>갈매생태통로</td>\n      <td>경기도 경기 구리시 갈매동 산 69-183</td>\n      <td>갈매동 산 69-183</td>\n      <td>도로명미부여</td>\n      <td>왕복4차선</td>\n      <td>37</td>\n      <td>62.0</td>\n      <td>0.00</td>\n      <td>127</td>\n      <td>...</td>\n      <td>경도 127도 11분 33.0초</td>\n      <td>None</td>\n      <td>None</td>\n      <td>None</td>\n      <td>None</td>\n      <td>None</td>\n      <td>None</td>\n      <td>None</td>\n      <td>None</td>\n      <td>None</td>\n    </tr>\n    <tr>\n      <th>8</th>\n      <td>1515</td>\n      <td>갈사만진입도로3호선 생태이동로</td>\n      <td>경상남도 하동군 금성면 가덕리 산173-16번지 일원</td>\n      <td>갈사만진입도로</td>\n      <td>3호선</td>\n      <td>왕복4차선</td>\n      <td>34</td>\n      <td>58.0</td>\n      <td>38.45</td>\n      <td>127</td>\n      <td>...</td>\n      <td>경도 127도 48분 42.25초</td>\n      <td>20180326 ~ 20180327</td>\n      <td>None</td>\n      <td>신희찬, 조현정</td>\n      <td>시설없음</td>\n      <td>극히 적음</td>\n      <td>추가 조사가 있어야 본 생태통로의 효율성 판단이 가능함</td>\n      <td>높음(거의 매일 야생동물 이용)</td>\n      <td>None</td>\n      <td>None</td>\n    </tr>\n    <tr>\n      <th>9</th>\n      <td>1247</td>\n      <td>갈운생태통로</td>\n      <td>경기도 양평군 청운면 갈운리</td>\n      <td>국도</td>\n      <td>6호선</td>\n      <td>왕복2차선</td>\n      <td>37</td>\n      <td>31.0</td>\n      <td>56.27</td>\n      <td>127</td>\n      <td>...</td>\n      <td>경도 127도 48분 4.72초</td>\n      <td>2016.04.22. ~ 2016.04.25.</td>\n      <td>경기도 양평군 환경관리과</td>\n      <td>전찬운</td>\n      <td>None</td>\n      <td>극히 적음</td>\n      <td>추가 조사가 있어야 본 생태통로의 효율성 판단이 가능함</td>\n      <td>판단 불가</td>\n      <td>None</td>\n      <td>도로 횡단 배수로를 생태통로로 지정한 것으로 사실상 생태통로 역할을 수행하기 어렵다...</td>\n    </tr>\n    <tr>\n      <th>...</th>\n      <td>...</td>\n      <td>...</td>\n      <td>...</td>\n      <td>...</td>\n      <td>...</td>\n      <td>...</td>\n      <td>...</td>\n      <td>...</td>\n      <td>...</td>\n      <td>...</td>\n      <td>...</td>\n      <td>...</td>\n      <td>...</td>\n      <td>...</td>\n      <td>...</td>\n      <td>...</td>\n      <td>...</td>\n      <td>...</td>\n      <td>...</td>\n      <td>...</td>\n      <td>...</td>\n    </tr>\n    <tr>\n      <th>495</th>\n      <td>1073</td>\n      <td>None</td>\n      <td>충청북도 괴산군 사리면 사담리</td>\n      <td>사담선</td>\n      <td>None</td>\n      <td>왕복2차선</td>\n      <td>36</td>\n      <td>49.0</td>\n      <td>35.80</td>\n      <td>127</td>\n      <td>...</td>\n      <td>경도 127도 39분 35.8초</td>\n      <td>2016.07.27. ~ 2016.07.27.</td>\n      <td>괴산군청</td>\n      <td>이세희</td>\n      <td>시설없음</td>\n      <td>극히 적음</td>\n      <td>금번 조사는 본 생태통로의 효율성에 대한 판단이 가능한 수준이었음</td>\n      <td>보통(주 35회 야생동물 이용)</td>\n      <td>None</td>\n      <td>생태통로로서의 기능을 하고 있음. 고라니 배설물 등 사용 흔적 있음</td>\n    </tr>\n    <tr>\n      <th>503</th>\n      <td>1482</td>\n      <td>None</td>\n      <td>충청북도 청주시 서원구 모충동 260-17</td>\n      <td>매봉로</td>\n      <td>매봉로</td>\n      <td>왕복2차선</td>\n      <td>36</td>\n      <td>37.0</td>\n      <td>26.71</td>\n      <td>127</td>\n      <td>...</td>\n      <td>경도 127도 28분 40.23초</td>\n      <td>2016.12.01. ~ 2016.12.21.</td>\n      <td>None</td>\n      <td>생태통로 관리자</td>\n      <td>시설없음</td>\n      <td>매일 다수</td>\n      <td>금번 조사는 본 생태통로의 효율성에 대한 판단이 가능한 수준이었음</td>\n      <td>판단 불가</td>\n      <td>None</td>\n      <td>None</td>\n    </tr>\n    <tr>\n      <th>504</th>\n      <td>1083</td>\n      <td>None</td>\n      <td>충청북도 청주시 서원구 성화동 658</td>\n      <td>구룡산로</td>\n      <td>52번길</td>\n      <td>왕복4차선</td>\n      <td>36</td>\n      <td>36.0</td>\n      <td>53.18</td>\n      <td>127</td>\n      <td>...</td>\n      <td>경도 127도 27분 24.01초</td>\n      <td>2016.10.01. ~ 2016.12.21.</td>\n      <td>청주시</td>\n      <td>생태통로수행자</td>\n      <td>None</td>\n      <td>매일 다수</td>\n      <td>금번 조사는 본 생태통로의 효율성에 대한 판단이 가능한 수준이었음</td>\n      <td>판단 불가</td>\n      <td>None</td>\n      <td>None</td>\n    </tr>\n    <tr>\n      <th>505</th>\n      <td>1084</td>\n      <td>None</td>\n      <td>충청북도 청주시 서원구 수곡동 214-30</td>\n      <td>안뜸로</td>\n      <td>47</td>\n      <td>왕복2차선</td>\n      <td>36</td>\n      <td>36.0</td>\n      <td>51.32</td>\n      <td>127</td>\n      <td>...</td>\n      <td>경도 127도 28분 51.92초</td>\n      <td>2016.10.01. ~ 2016.12.21.</td>\n      <td>청주시</td>\n      <td>생태통로수행자</td>\n      <td>None</td>\n      <td>일 1~2회</td>\n      <td>금번 조사는 본 생태통로의 효율성에 대한 판단이 가능한 수준이었음</td>\n      <td>판단 불가</td>\n      <td>None</td>\n      <td>None</td>\n    </tr>\n    <tr>\n      <th>506</th>\n      <td>1481</td>\n      <td>None</td>\n      <td>충청북도 청주시 서원구 수곡동 577-1</td>\n      <td>1순환로</td>\n      <td>1순환로</td>\n      <td>왕복6차선</td>\n      <td>36</td>\n      <td>37.0</td>\n      <td>20.60</td>\n      <td>127</td>\n      <td>...</td>\n      <td>경도 127도 28분 2.29초</td>\n      <td>2016.12.01. ~ 2016.12.21.</td>\n      <td>None</td>\n      <td>생태통로관리자</td>\n      <td>시설없음</td>\n      <td>매일 다수</td>\n      <td>금번 조사는 본 생태통로의 효율성에 대한 판단이 가능한 수준이었음</td>\n      <td>판단 불가</td>\n      <td>None</td>\n      <td>None</td>\n    </tr>\n  </tbody>\n</table>\n<p>301 rows × 33 columns</p>\n</div>"
     },
     "execution_count": 26,
     "metadata": {},
     "output_type": "execute_result"
    }
   ],
   "source": [
    "df[df['이용확인종,이용빈도높은종,멸종위기종이용빈도'].isnull()]"
   ],
   "metadata": {
    "collapsed": false,
    "pycharm": {
     "name": "#%%\n"
    }
   }
  },
  {
   "cell_type": "code",
   "execution_count": 43,
   "outputs": [
    {
     "name": "stdout",
     "output_type": "stream",
     "text": [
      "[3 3 3 3 2 1 4 4 1 3 3 3 0 0 0 0 0 3 2 0 4 2 4 2 2 3 4 0 1 4 1 4 4 4 4 1 2\n",
      " 3 4 2 3 3 3 1 3 3 0 3 4 2 1 3 3 4 3 0 0 0 1 3 1 3 0 4 4 0 2 0 2 2 0 4 4 4\n",
      " 3 1 1 0 2 0 3 4 0 1 0 3 3 0 2 2 3 3 3 3 3 3 0 4 0 4 4 4 4 0 0 1 4 3 3 3 4\n",
      " 1 2 4 2 1 1 1 3 0 3 0 3 1 1 2 2 1 3 0 3 3 1 3 2 3 3 3 3 2 1 3 1 1 3 0 2 2\n",
      " 4 4 1 3 1 1 1 4 4 4 4 3 3 4 3 3 3 3 2 3 2 2 2 2 3 3 1 3 4 4 2 4 4 4 3 3 2\n",
      " 3 4 4 2 1 3 0 3 2 0 1 0 0 0 1 4 3 2 2 1 1 2 3 4 1 3 3 0 0 0 3 3 0 0 0 0 3\n",
      " 4 4 2 3 0 3 3 1 0 0 0 0 0 0 1 3 3 0 3 4 3 0 4 0 3 0 3 1 2 3 3 3 4 1 3 3 3\n",
      " 4 2 3 3 3 2 3 0 1 0 0 0 2 1 2 3 1 1 0 4 4 2 2 1 1 3 0 4 4 3 2 2 0 4 0 1 3\n",
      " 1 0 3 0 1 2 1 1 3 1 3 1 4 1 0 2 2 2 2 1 1 1 1 2 3 1 1 2 4 0 0 3 3 3 0 0 1\n",
      " 4 2 4 3 1 1 1 0 1 1 1 1 1 1 1 3 2 3 3 3 0 3 3 0 1 3 1 0 0 0 3 0 3 1 1 3 3\n",
      " 4 0 3 4 1 0 0 4 3 4 0 3 0 3 4 3 4 0 0 4 4 4 2 4 3 3 3 3 1 3 3 3 3 2 1 4 2\n",
      " 3 3 3 3 1 1 1 3 3 4 1 0 0 0 0 0 2 2 4 3 3 4 4 0 3 4 4 4 2 1 0 3 0 1 1 3 0\n",
      " 3 0 3 4 4 0 0 0 1 1 1 4 4 3 2 4 4 4 4 4 4 4 4 4 4 3 3 3 3 3 3 3 3 3 3 3 2\n",
      " 4 1 2 3 4 0 0 0 0 0 0 4 4 0 2 1 1 2 2 2 2 0 3 3 3 3 3 3 3 3 3]\n",
      "['낮음(주 2회 이하 야생동물 이용)' '높음(거의 매일 야생동물 이용)' '보통(주 35회 야생동물 이용)' '판단 불가'\n",
      " None]\n"
     ]
    }
   ],
   "source": [
    "encoder = LabelEncoder()\n",
    "encoder.fit(df['생태통로효율성'])\n",
    "test = df['생태통로효율성']\n",
    "test = encoder.transform(test)\n",
    "print(test)\n",
    "print(encoder.classes_)"
   ],
   "metadata": {
    "collapsed": false,
    "pycharm": {
     "name": "#%%\n"
    }
   }
  },
  {
   "cell_type": "code",
   "execution_count": 34,
   "outputs": [
    {
     "data": {
      "text/plain": "array(['양서·파충류 통로', '육교형', '터널형', None], dtype=object)"
     },
     "execution_count": 34,
     "metadata": {},
     "output_type": "execute_result"
    }
   ],
   "source": [
    "type_encoder.classes_"
   ],
   "metadata": {
    "collapsed": false,
    "pycharm": {
     "name": "#%%\n"
    }
   }
  },
  {
   "cell_type": "code",
   "execution_count": 36,
   "outputs": [
    {
     "data": {
      "text/plain": "array(['추가 조사가 있어야 본 생태통로의 효율성 판단이 가능함',\n       '금번 조사는 본 생태통로의 효율성에 대한 판단이 가능한 수준이었음', None,\n       '환경영향평가 대상사업으로 도로건설에 따른 생태통로 설치',\n       '망마산～대인산 간의 생태통로에서 너구리와 고라니의 분변이 확인되고 있고, 야간을 통해 통로를 이용하고 있음을 확인함.'],\n      dtype=object)"
     },
     "execution_count": 36,
     "metadata": {},
     "output_type": "execute_result"
    }
   ],
   "source": [
    "df['모니터링신뢰도'].unique()"
   ],
   "metadata": {
    "collapsed": false,
    "pycharm": {
     "name": "#%%\n"
    }
   }
  },
  {
   "cell_type": "code",
   "execution_count": null,
   "outputs": [],
   "source": [],
   "metadata": {
    "collapsed": false,
    "pycharm": {
     "name": "#%%\n"
    }
   }
  }
 ],
 "metadata": {
  "kernelspec": {
   "display_name": "Python 3",
   "language": "python",
   "name": "python3"
  },
  "language_info": {
   "codemirror_mode": {
    "name": "ipython",
    "version": 2
   },
   "file_extension": ".py",
   "mimetype": "text/x-python",
   "name": "python",
   "nbconvert_exporter": "python",
   "pygments_lexer": "ipython2",
   "version": "2.7.6"
  }
 },
 "nbformat": 4,
 "nbformat_minor": 0
}