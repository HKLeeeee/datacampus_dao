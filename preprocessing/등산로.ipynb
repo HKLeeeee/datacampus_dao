{
 "cells": [
  {
   "cell_type": "code",
   "execution_count": 1,
   "metadata": {
    "collapsed": true,
    "pycharm": {
     "name": "#%%\n"
    }
   },
   "outputs": [],
   "source": [
    "import geopandas as gpd\n",
    "import pandas as pd\n",
    "from sqlalchemy import create_engine\n",
    "import pymysql\n",
    "\n",
    "endpoint = 'dao.cdqd2bwz9q4s.ap-northeast-2.rds.amazonaws.com'\n",
    "schema = 'dao'\n",
    "db_connection_str = 'mysql+pymysql://admin:ekfkawnl@{}/{}'.format(endpoint, schema)\n",
    "try :\n",
    "    db_connection = create_engine(db_connection_str)\n",
    "    conn = db_connection.connect()\n",
    "except :\n",
    "    print('fail to connect db')\n",
    "\n",
    "def load_data_from_rds(tabel_name):\n",
    "  sql = \"SELECT * FROM {}\".format(tabel_name)\n",
    "  df = pd.read_sql(sql, db_connection)\n",
    "  return df"
   ]
  },
  {
   "cell_type": "code",
   "execution_count": 2,
   "outputs": [
    {
     "data": {
      "text/plain": "       번호          생태통로명                              주소         도로명  \\\n0    1001           중동터널                    서울특별시 구로구 궁동        계남큰길   \n1    1002         개좌생태터널              부산광역시 금정구 회동동 산4-1         개좌로   \n2    1004        곰내 생태통로               부산광역시 기장군 철마면 웅천리          군도   \n3    1005     정관예림리 생태통로               부산광역시 기장군 정관면 예림리         국지도   \n4    1006       을숙도 생태통로                   부산광역시 사하구 하단동        낙동남로   \n..    ...            ...                             ...         ...   \n531  1564           삼척노곡          강원도 삼척시 원덕읍 노곡리 산146-3          국도   \n532  1565           절토육교               경기도 의왕시 월암동 산46-3  서수원~의왕간 도로   \n533  1566         동물이동통로               경기도 의왕시 고천동 산55-5  서수원~의왕간 도로   \n534  1567            NaN          경기도 영중면 거사리 산3-22번지 일원          중로   \n535  1568  한북정맥(비득재) 생태축  경기도 소흘읍 직동리 산9-5번지 일원(죽엽산 비득재)         지방도   \n\n          도로번호   차선_수  위도_도  위도_분      위도_초  경도_도  ...  join_PMNTN_UPPL  \\\n0          NaN  왕복6차로    37  30.0  23.37000   126  ...                5   \n1            0  왕복2차선    35  15.0   6.05000   129  ...               13   \n2         19호선  왕복2차선    35  18.0  20.80000   129  ...               44   \n3          60호  왕복4차선    35  19.0  46.80000   129  ...                9   \n4         1240  왕복7차선    35   6.0  31.84632   128  ...               20   \n..         ...    ...   ...   ...       ...   ...  ...              ...   \n531        7호선  왕복4차선    37  12.0  33.19000   129  ...                6   \n532  지방도 309호선  왕복6차선    37  19.0   2.04000   126  ...               14   \n533   지방도309호선  왕복6차선    37  20.0  11.80000   126  ...               51   \n534       3-30  왕복2차선    37  59.0  30.60000   127  ...               43   \n535        383  왕복2차선    37  47.0  10.60000   127  ...              149   \n\n     join_PMNTN_GODN join_PMNTN_MTRQ join_PMNTN_CNRL  join_PMNTN_CLS  \\\n0                  3             NaN             NaN             NaN   \n1                  9             NaN             NaN             NaN   \n2                 31             NaN             NaN             NaN   \n3                  7             NaN             NaN             NaN   \n4                 14             NaN             NaN             NaN   \n..               ...             ...             ...             ...   \n531                4             NaN             NaN             NaN   \n532               10             NaN             NaN             NaN   \n533               36             NaN             NaN             NaN   \n534               30             NaN             NaN             NaN   \n535              104             NaN             NaN             NaN   \n\n     join_PMNTN_RISK  join_PMNTN_RECO  join_DATA_STDR  join_MNTN_ID  \\\n0                NaN              NaN      2016-12-31  2.115100e+09   \n1                NaN              NaN      2016-12-31  1.203990e+09   \n2                NaN              NaN      2016-12-31  2.671003e+08   \n3                NaN              NaN      2016-12-31  2.671019e+08   \n4                NaN              NaN      2016-12-31  1.211250e+09   \n..               ...              ...             ...           ...   \n531              NaN              NaN      2016-12-31  4.223014e+08   \n532              NaN              NaN      2016-12-31  4.143003e+08   \n533              NaN              NaN      2016-12-31  4.143001e+08   \n534              NaN              NaN      2016-12-31  4.165029e+08   \n535              NaN              NaN      2016-12-31  4.128001e+08   \n\n        distance  \n0    1903.038526  \n1     120.319451  \n2      47.211041  \n3     233.819851  \n4    2172.427680  \n..           ...  \n531   886.170257  \n532    39.351535  \n533     2.280473  \n534  9125.829045  \n535   642.351131  \n\n[536 rows x 33 columns]",
      "text/html": "<div>\n<style scoped>\n    .dataframe tbody tr th:only-of-type {\n        vertical-align: middle;\n    }\n\n    .dataframe tbody tr th {\n        vertical-align: top;\n    }\n\n    .dataframe thead th {\n        text-align: right;\n    }\n</style>\n<table border=\"1\" class=\"dataframe\">\n  <thead>\n    <tr style=\"text-align: right;\">\n      <th></th>\n      <th>번호</th>\n      <th>생태통로명</th>\n      <th>주소</th>\n      <th>도로명</th>\n      <th>도로번호</th>\n      <th>차선_수</th>\n      <th>위도_도</th>\n      <th>위도_분</th>\n      <th>위도_초</th>\n      <th>경도_도</th>\n      <th>...</th>\n      <th>join_PMNTN_UPPL</th>\n      <th>join_PMNTN_GODN</th>\n      <th>join_PMNTN_MTRQ</th>\n      <th>join_PMNTN_CNRL</th>\n      <th>join_PMNTN_CLS</th>\n      <th>join_PMNTN_RISK</th>\n      <th>join_PMNTN_RECO</th>\n      <th>join_DATA_STDR</th>\n      <th>join_MNTN_ID</th>\n      <th>distance</th>\n    </tr>\n  </thead>\n  <tbody>\n    <tr>\n      <th>0</th>\n      <td>1001</td>\n      <td>중동터널</td>\n      <td>서울특별시 구로구 궁동</td>\n      <td>계남큰길</td>\n      <td>NaN</td>\n      <td>왕복6차로</td>\n      <td>37</td>\n      <td>30.0</td>\n      <td>23.37000</td>\n      <td>126</td>\n      <td>...</td>\n      <td>5</td>\n      <td>3</td>\n      <td>NaN</td>\n      <td>NaN</td>\n      <td>NaN</td>\n      <td>NaN</td>\n      <td>NaN</td>\n      <td>2016-12-31</td>\n      <td>2.115100e+09</td>\n      <td>1903.038526</td>\n    </tr>\n    <tr>\n      <th>1</th>\n      <td>1002</td>\n      <td>개좌생태터널</td>\n      <td>부산광역시 금정구 회동동 산4-1</td>\n      <td>개좌로</td>\n      <td>0</td>\n      <td>왕복2차선</td>\n      <td>35</td>\n      <td>15.0</td>\n      <td>6.05000</td>\n      <td>129</td>\n      <td>...</td>\n      <td>13</td>\n      <td>9</td>\n      <td>NaN</td>\n      <td>NaN</td>\n      <td>NaN</td>\n      <td>NaN</td>\n      <td>NaN</td>\n      <td>2016-12-31</td>\n      <td>1.203990e+09</td>\n      <td>120.319451</td>\n    </tr>\n    <tr>\n      <th>2</th>\n      <td>1004</td>\n      <td>곰내 생태통로</td>\n      <td>부산광역시 기장군 철마면 웅천리</td>\n      <td>군도</td>\n      <td>19호선</td>\n      <td>왕복2차선</td>\n      <td>35</td>\n      <td>18.0</td>\n      <td>20.80000</td>\n      <td>129</td>\n      <td>...</td>\n      <td>44</td>\n      <td>31</td>\n      <td>NaN</td>\n      <td>NaN</td>\n      <td>NaN</td>\n      <td>NaN</td>\n      <td>NaN</td>\n      <td>2016-12-31</td>\n      <td>2.671003e+08</td>\n      <td>47.211041</td>\n    </tr>\n    <tr>\n      <th>3</th>\n      <td>1005</td>\n      <td>정관예림리 생태통로</td>\n      <td>부산광역시 기장군 정관면 예림리</td>\n      <td>국지도</td>\n      <td>60호</td>\n      <td>왕복4차선</td>\n      <td>35</td>\n      <td>19.0</td>\n      <td>46.80000</td>\n      <td>129</td>\n      <td>...</td>\n      <td>9</td>\n      <td>7</td>\n      <td>NaN</td>\n      <td>NaN</td>\n      <td>NaN</td>\n      <td>NaN</td>\n      <td>NaN</td>\n      <td>2016-12-31</td>\n      <td>2.671019e+08</td>\n      <td>233.819851</td>\n    </tr>\n    <tr>\n      <th>4</th>\n      <td>1006</td>\n      <td>을숙도 생태통로</td>\n      <td>부산광역시 사하구 하단동</td>\n      <td>낙동남로</td>\n      <td>1240</td>\n      <td>왕복7차선</td>\n      <td>35</td>\n      <td>6.0</td>\n      <td>31.84632</td>\n      <td>128</td>\n      <td>...</td>\n      <td>20</td>\n      <td>14</td>\n      <td>NaN</td>\n      <td>NaN</td>\n      <td>NaN</td>\n      <td>NaN</td>\n      <td>NaN</td>\n      <td>2016-12-31</td>\n      <td>1.211250e+09</td>\n      <td>2172.427680</td>\n    </tr>\n    <tr>\n      <th>...</th>\n      <td>...</td>\n      <td>...</td>\n      <td>...</td>\n      <td>...</td>\n      <td>...</td>\n      <td>...</td>\n      <td>...</td>\n      <td>...</td>\n      <td>...</td>\n      <td>...</td>\n      <td>...</td>\n      <td>...</td>\n      <td>...</td>\n      <td>...</td>\n      <td>...</td>\n      <td>...</td>\n      <td>...</td>\n      <td>...</td>\n      <td>...</td>\n      <td>...</td>\n      <td>...</td>\n    </tr>\n    <tr>\n      <th>531</th>\n      <td>1564</td>\n      <td>삼척노곡</td>\n      <td>강원도 삼척시 원덕읍 노곡리 산146-3</td>\n      <td>국도</td>\n      <td>7호선</td>\n      <td>왕복4차선</td>\n      <td>37</td>\n      <td>12.0</td>\n      <td>33.19000</td>\n      <td>129</td>\n      <td>...</td>\n      <td>6</td>\n      <td>4</td>\n      <td>NaN</td>\n      <td>NaN</td>\n      <td>NaN</td>\n      <td>NaN</td>\n      <td>NaN</td>\n      <td>2016-12-31</td>\n      <td>4.223014e+08</td>\n      <td>886.170257</td>\n    </tr>\n    <tr>\n      <th>532</th>\n      <td>1565</td>\n      <td>절토육교</td>\n      <td>경기도 의왕시 월암동 산46-3</td>\n      <td>서수원~의왕간 도로</td>\n      <td>지방도 309호선</td>\n      <td>왕복6차선</td>\n      <td>37</td>\n      <td>19.0</td>\n      <td>2.04000</td>\n      <td>126</td>\n      <td>...</td>\n      <td>14</td>\n      <td>10</td>\n      <td>NaN</td>\n      <td>NaN</td>\n      <td>NaN</td>\n      <td>NaN</td>\n      <td>NaN</td>\n      <td>2016-12-31</td>\n      <td>4.143003e+08</td>\n      <td>39.351535</td>\n    </tr>\n    <tr>\n      <th>533</th>\n      <td>1566</td>\n      <td>동물이동통로</td>\n      <td>경기도 의왕시 고천동 산55-5</td>\n      <td>서수원~의왕간 도로</td>\n      <td>지방도309호선</td>\n      <td>왕복6차선</td>\n      <td>37</td>\n      <td>20.0</td>\n      <td>11.80000</td>\n      <td>126</td>\n      <td>...</td>\n      <td>51</td>\n      <td>36</td>\n      <td>NaN</td>\n      <td>NaN</td>\n      <td>NaN</td>\n      <td>NaN</td>\n      <td>NaN</td>\n      <td>2016-12-31</td>\n      <td>4.143001e+08</td>\n      <td>2.280473</td>\n    </tr>\n    <tr>\n      <th>534</th>\n      <td>1567</td>\n      <td>NaN</td>\n      <td>경기도 영중면 거사리 산3-22번지 일원</td>\n      <td>중로</td>\n      <td>3-30</td>\n      <td>왕복2차선</td>\n      <td>37</td>\n      <td>59.0</td>\n      <td>30.60000</td>\n      <td>127</td>\n      <td>...</td>\n      <td>43</td>\n      <td>30</td>\n      <td>NaN</td>\n      <td>NaN</td>\n      <td>NaN</td>\n      <td>NaN</td>\n      <td>NaN</td>\n      <td>2016-12-31</td>\n      <td>4.165029e+08</td>\n      <td>9125.829045</td>\n    </tr>\n    <tr>\n      <th>535</th>\n      <td>1568</td>\n      <td>한북정맥(비득재) 생태축</td>\n      <td>경기도 소흘읍 직동리 산9-5번지 일원(죽엽산 비득재)</td>\n      <td>지방도</td>\n      <td>383</td>\n      <td>왕복2차선</td>\n      <td>37</td>\n      <td>47.0</td>\n      <td>10.60000</td>\n      <td>127</td>\n      <td>...</td>\n      <td>149</td>\n      <td>104</td>\n      <td>NaN</td>\n      <td>NaN</td>\n      <td>NaN</td>\n      <td>NaN</td>\n      <td>NaN</td>\n      <td>2016-12-31</td>\n      <td>4.128001e+08</td>\n      <td>642.351131</td>\n    </tr>\n  </tbody>\n</table>\n<p>536 rows × 33 columns</p>\n</div>"
     },
     "execution_count": 2,
     "metadata": {},
     "output_type": "execute_result"
    }
   ],
   "source": [
    "raw_df = pd.read_csv('.././data/등산로_전국/생태통로_등산로_거리.csv', encoding='cp949')\n",
    "raw_df"
   ],
   "metadata": {
    "collapsed": false,
    "pycharm": {
     "name": "#%%\n"
    }
   }
  },
  {
   "cell_type": "code",
   "execution_count": 13,
   "outputs": [
    {
     "data": {
      "text/plain": "       번호     distance\n0    1001  1903.038526\n1    1002   120.319451\n2    1004    47.211041\n3    1005   233.819851\n4    1006  2172.427680\n..    ...          ...\n531  1564   886.170257\n532  1565    39.351535\n533  1566     2.280473\n534  1567  9125.829045\n535  1568   642.351131\n\n[536 rows x 2 columns]",
      "text/html": "<div>\n<style scoped>\n    .dataframe tbody tr th:only-of-type {\n        vertical-align: middle;\n    }\n\n    .dataframe tbody tr th {\n        vertical-align: top;\n    }\n\n    .dataframe thead th {\n        text-align: right;\n    }\n</style>\n<table border=\"1\" class=\"dataframe\">\n  <thead>\n    <tr style=\"text-align: right;\">\n      <th></th>\n      <th>번호</th>\n      <th>distance</th>\n    </tr>\n  </thead>\n  <tbody>\n    <tr>\n      <th>0</th>\n      <td>1001</td>\n      <td>1903.038526</td>\n    </tr>\n    <tr>\n      <th>1</th>\n      <td>1002</td>\n      <td>120.319451</td>\n    </tr>\n    <tr>\n      <th>2</th>\n      <td>1004</td>\n      <td>47.211041</td>\n    </tr>\n    <tr>\n      <th>3</th>\n      <td>1005</td>\n      <td>233.819851</td>\n    </tr>\n    <tr>\n      <th>4</th>\n      <td>1006</td>\n      <td>2172.427680</td>\n    </tr>\n    <tr>\n      <th>...</th>\n      <td>...</td>\n      <td>...</td>\n    </tr>\n    <tr>\n      <th>531</th>\n      <td>1564</td>\n      <td>886.170257</td>\n    </tr>\n    <tr>\n      <th>532</th>\n      <td>1565</td>\n      <td>39.351535</td>\n    </tr>\n    <tr>\n      <th>533</th>\n      <td>1566</td>\n      <td>2.280473</td>\n    </tr>\n    <tr>\n      <th>534</th>\n      <td>1567</td>\n      <td>9125.829045</td>\n    </tr>\n    <tr>\n      <th>535</th>\n      <td>1568</td>\n      <td>642.351131</td>\n    </tr>\n  </tbody>\n</table>\n<p>536 rows × 2 columns</p>\n</div>"
     },
     "execution_count": 13,
     "metadata": {},
     "output_type": "execute_result"
    }
   ],
   "source": [
    "df = raw_df[['번호', 'distance']]\n",
    "df"
   ],
   "metadata": {
    "collapsed": false,
    "pycharm": {
     "name": "#%%\n"
    }
   }
  },
  {
   "cell_type": "code",
   "execution_count": 14,
   "outputs": [
    {
     "name": "stderr",
     "output_type": "stream",
     "text": [
      "C:\\Users\\Administrator\\AppData\\Local\\Temp\\ipykernel_24596\\128785412.py:1: SettingWithCopyWarning: \n",
      "A value is trying to be set on a copy of a slice from a DataFrame.\n",
      "Try using .loc[row_indexer,col_indexer] = value instead\n",
      "\n",
      "See the caveats in the documentation: https://pandas.pydata.org/pandas-docs/stable/user_guide/indexing.html#returning-a-view-versus-a-copy\n",
      "  df['distance'] = df['distance'] / 1000\n",
      "C:\\Users\\Administrator\\AppData\\Local\\Temp\\ipykernel_24596\\128785412.py:2: SettingWithCopyWarning: \n",
      "A value is trying to be set on a copy of a slice from a DataFrame\n",
      "\n",
      "See the caveats in the documentation: https://pandas.pydata.org/pandas-docs/stable/user_guide/indexing.html#returning-a-view-versus-a-copy\n",
      "  df.rename(columns={'distance':'등산로까지 최단거리(km)'}, inplace=True)\n"
     ]
    },
    {
     "data": {
      "text/plain": "       번호  등산로까지 최단거리(km)\n0    1001        1.903039\n1    1002        0.120319\n2    1004        0.047211\n3    1005        0.233820\n4    1006        2.172428\n..    ...             ...\n531  1564        0.886170\n532  1565        0.039352\n533  1566        0.002280\n534  1567        9.125829\n535  1568        0.642351\n\n[536 rows x 2 columns]",
      "text/html": "<div>\n<style scoped>\n    .dataframe tbody tr th:only-of-type {\n        vertical-align: middle;\n    }\n\n    .dataframe tbody tr th {\n        vertical-align: top;\n    }\n\n    .dataframe thead th {\n        text-align: right;\n    }\n</style>\n<table border=\"1\" class=\"dataframe\">\n  <thead>\n    <tr style=\"text-align: right;\">\n      <th></th>\n      <th>번호</th>\n      <th>등산로까지 최단거리(km)</th>\n    </tr>\n  </thead>\n  <tbody>\n    <tr>\n      <th>0</th>\n      <td>1001</td>\n      <td>1.903039</td>\n    </tr>\n    <tr>\n      <th>1</th>\n      <td>1002</td>\n      <td>0.120319</td>\n    </tr>\n    <tr>\n      <th>2</th>\n      <td>1004</td>\n      <td>0.047211</td>\n    </tr>\n    <tr>\n      <th>3</th>\n      <td>1005</td>\n      <td>0.233820</td>\n    </tr>\n    <tr>\n      <th>4</th>\n      <td>1006</td>\n      <td>2.172428</td>\n    </tr>\n    <tr>\n      <th>...</th>\n      <td>...</td>\n      <td>...</td>\n    </tr>\n    <tr>\n      <th>531</th>\n      <td>1564</td>\n      <td>0.886170</td>\n    </tr>\n    <tr>\n      <th>532</th>\n      <td>1565</td>\n      <td>0.039352</td>\n    </tr>\n    <tr>\n      <th>533</th>\n      <td>1566</td>\n      <td>0.002280</td>\n    </tr>\n    <tr>\n      <th>534</th>\n      <td>1567</td>\n      <td>9.125829</td>\n    </tr>\n    <tr>\n      <th>535</th>\n      <td>1568</td>\n      <td>0.642351</td>\n    </tr>\n  </tbody>\n</table>\n<p>536 rows × 2 columns</p>\n</div>"
     },
     "execution_count": 14,
     "metadata": {},
     "output_type": "execute_result"
    }
   ],
   "source": [
    "df['distance'] = df['distance'] / 1000\n",
    "df.rename(columns={'distance':'등산로까지 최단거리(km)'}, inplace=True)\n",
    "df"
   ],
   "metadata": {
    "collapsed": false,
    "pycharm": {
     "name": "#%%\n"
    }
   }
  },
  {
   "cell_type": "code",
   "execution_count": 15,
   "outputs": [
    {
     "data": {
      "text/plain": "       번호  주변 동물종 개수  주변동물 출현빈도  하천까지의 최단 거리(km)            식물군락명 지형기호(5km)\n0    1001          2          2         1.594083   아까시나무-상수리나무식재림      GS26\n1    1002          4         14         1.434181            소나무군락      GS28\n2    1004          4         16         1.248795            소나무군락      GM01\n3    1005          4          8         0.937739        굴참나무-곰솔군락      GM02\n4    1006          3         10         0.215409             곰솔군락      GS22\n..    ...        ...        ...              ...              ...       ...\n531  1564          6         17         0.931150           굴참나무군락         X\n532  1565          1          2         1.508948          상수리나무군락      GS26\n533  1566          3          7         0.602177         아까시나무식재림      GS26\n534  1567          6          9         1.002913      신갈나무-굴참나무군락      GS08\n535  1568          5         19         1.648371  일본잎갈나무-상수리나무식재림         X\n\n[536 rows x 6 columns]",
      "text/html": "<div>\n<style scoped>\n    .dataframe tbody tr th:only-of-type {\n        vertical-align: middle;\n    }\n\n    .dataframe tbody tr th {\n        vertical-align: top;\n    }\n\n    .dataframe thead th {\n        text-align: right;\n    }\n</style>\n<table border=\"1\" class=\"dataframe\">\n  <thead>\n    <tr style=\"text-align: right;\">\n      <th></th>\n      <th>번호</th>\n      <th>주변 동물종 개수</th>\n      <th>주변동물 출현빈도</th>\n      <th>하천까지의 최단 거리(km)</th>\n      <th>식물군락명</th>\n      <th>지형기호(5km)</th>\n    </tr>\n  </thead>\n  <tbody>\n    <tr>\n      <th>0</th>\n      <td>1001</td>\n      <td>2</td>\n      <td>2</td>\n      <td>1.594083</td>\n      <td>아까시나무-상수리나무식재림</td>\n      <td>GS26</td>\n    </tr>\n    <tr>\n      <th>1</th>\n      <td>1002</td>\n      <td>4</td>\n      <td>14</td>\n      <td>1.434181</td>\n      <td>소나무군락</td>\n      <td>GS28</td>\n    </tr>\n    <tr>\n      <th>2</th>\n      <td>1004</td>\n      <td>4</td>\n      <td>16</td>\n      <td>1.248795</td>\n      <td>소나무군락</td>\n      <td>GM01</td>\n    </tr>\n    <tr>\n      <th>3</th>\n      <td>1005</td>\n      <td>4</td>\n      <td>8</td>\n      <td>0.937739</td>\n      <td>굴참나무-곰솔군락</td>\n      <td>GM02</td>\n    </tr>\n    <tr>\n      <th>4</th>\n      <td>1006</td>\n      <td>3</td>\n      <td>10</td>\n      <td>0.215409</td>\n      <td>곰솔군락</td>\n      <td>GS22</td>\n    </tr>\n    <tr>\n      <th>...</th>\n      <td>...</td>\n      <td>...</td>\n      <td>...</td>\n      <td>...</td>\n      <td>...</td>\n      <td>...</td>\n    </tr>\n    <tr>\n      <th>531</th>\n      <td>1564</td>\n      <td>6</td>\n      <td>17</td>\n      <td>0.931150</td>\n      <td>굴참나무군락</td>\n      <td>X</td>\n    </tr>\n    <tr>\n      <th>532</th>\n      <td>1565</td>\n      <td>1</td>\n      <td>2</td>\n      <td>1.508948</td>\n      <td>상수리나무군락</td>\n      <td>GS26</td>\n    </tr>\n    <tr>\n      <th>533</th>\n      <td>1566</td>\n      <td>3</td>\n      <td>7</td>\n      <td>0.602177</td>\n      <td>아까시나무식재림</td>\n      <td>GS26</td>\n    </tr>\n    <tr>\n      <th>534</th>\n      <td>1567</td>\n      <td>6</td>\n      <td>9</td>\n      <td>1.002913</td>\n      <td>신갈나무-굴참나무군락</td>\n      <td>GS08</td>\n    </tr>\n    <tr>\n      <th>535</th>\n      <td>1568</td>\n      <td>5</td>\n      <td>19</td>\n      <td>1.648371</td>\n      <td>일본잎갈나무-상수리나무식재림</td>\n      <td>X</td>\n    </tr>\n  </tbody>\n</table>\n<p>536 rows × 6 columns</p>\n</div>"
     },
     "execution_count": 15,
     "metadata": {},
     "output_type": "execute_result"
    }
   ],
   "source": [
    "HK = load_data_from_rds('re_MainData_inner_HK')\n",
    "HK"
   ],
   "metadata": {
    "collapsed": false,
    "pycharm": {
     "name": "#%%\n"
    }
   }
  },
  {
   "cell_type": "code",
   "execution_count": 16,
   "outputs": [
    {
     "data": {
      "text/plain": "       번호  주변 동물종 개수  주변동물 출현빈도  하천까지의 최단 거리(km)            식물군락명 지형기호(5km)  \\\n0    1001          2          2         1.594083   아까시나무-상수리나무식재림      GS26   \n1    1002          4         14         1.434181            소나무군락      GS28   \n2    1004          4         16         1.248795            소나무군락      GM01   \n3    1005          4          8         0.937739        굴참나무-곰솔군락      GM02   \n4    1006          3         10         0.215409             곰솔군락      GS22   \n..    ...        ...        ...              ...              ...       ...   \n531  1564          6         17         0.931150           굴참나무군락         X   \n532  1565          1          2         1.508948          상수리나무군락      GS26   \n533  1566          3          7         0.602177         아까시나무식재림      GS26   \n534  1567          6          9         1.002913      신갈나무-굴참나무군락      GS08   \n535  1568          5         19         1.648371  일본잎갈나무-상수리나무식재림         X   \n\n     등산로까지 최단거리(km)  \n0          1.903039  \n1          0.120319  \n2          0.047211  \n3          0.233820  \n4          2.172428  \n..              ...  \n531        0.886170  \n532        0.039352  \n533        0.002280  \n534        9.125829  \n535        0.642351  \n\n[536 rows x 7 columns]",
      "text/html": "<div>\n<style scoped>\n    .dataframe tbody tr th:only-of-type {\n        vertical-align: middle;\n    }\n\n    .dataframe tbody tr th {\n        vertical-align: top;\n    }\n\n    .dataframe thead th {\n        text-align: right;\n    }\n</style>\n<table border=\"1\" class=\"dataframe\">\n  <thead>\n    <tr style=\"text-align: right;\">\n      <th></th>\n      <th>번호</th>\n      <th>주변 동물종 개수</th>\n      <th>주변동물 출현빈도</th>\n      <th>하천까지의 최단 거리(km)</th>\n      <th>식물군락명</th>\n      <th>지형기호(5km)</th>\n      <th>등산로까지 최단거리(km)</th>\n    </tr>\n  </thead>\n  <tbody>\n    <tr>\n      <th>0</th>\n      <td>1001</td>\n      <td>2</td>\n      <td>2</td>\n      <td>1.594083</td>\n      <td>아까시나무-상수리나무식재림</td>\n      <td>GS26</td>\n      <td>1.903039</td>\n    </tr>\n    <tr>\n      <th>1</th>\n      <td>1002</td>\n      <td>4</td>\n      <td>14</td>\n      <td>1.434181</td>\n      <td>소나무군락</td>\n      <td>GS28</td>\n      <td>0.120319</td>\n    </tr>\n    <tr>\n      <th>2</th>\n      <td>1004</td>\n      <td>4</td>\n      <td>16</td>\n      <td>1.248795</td>\n      <td>소나무군락</td>\n      <td>GM01</td>\n      <td>0.047211</td>\n    </tr>\n    <tr>\n      <th>3</th>\n      <td>1005</td>\n      <td>4</td>\n      <td>8</td>\n      <td>0.937739</td>\n      <td>굴참나무-곰솔군락</td>\n      <td>GM02</td>\n      <td>0.233820</td>\n    </tr>\n    <tr>\n      <th>4</th>\n      <td>1006</td>\n      <td>3</td>\n      <td>10</td>\n      <td>0.215409</td>\n      <td>곰솔군락</td>\n      <td>GS22</td>\n      <td>2.172428</td>\n    </tr>\n    <tr>\n      <th>...</th>\n      <td>...</td>\n      <td>...</td>\n      <td>...</td>\n      <td>...</td>\n      <td>...</td>\n      <td>...</td>\n      <td>...</td>\n    </tr>\n    <tr>\n      <th>531</th>\n      <td>1564</td>\n      <td>6</td>\n      <td>17</td>\n      <td>0.931150</td>\n      <td>굴참나무군락</td>\n      <td>X</td>\n      <td>0.886170</td>\n    </tr>\n    <tr>\n      <th>532</th>\n      <td>1565</td>\n      <td>1</td>\n      <td>2</td>\n      <td>1.508948</td>\n      <td>상수리나무군락</td>\n      <td>GS26</td>\n      <td>0.039352</td>\n    </tr>\n    <tr>\n      <th>533</th>\n      <td>1566</td>\n      <td>3</td>\n      <td>7</td>\n      <td>0.602177</td>\n      <td>아까시나무식재림</td>\n      <td>GS26</td>\n      <td>0.002280</td>\n    </tr>\n    <tr>\n      <th>534</th>\n      <td>1567</td>\n      <td>6</td>\n      <td>9</td>\n      <td>1.002913</td>\n      <td>신갈나무-굴참나무군락</td>\n      <td>GS08</td>\n      <td>9.125829</td>\n    </tr>\n    <tr>\n      <th>535</th>\n      <td>1568</td>\n      <td>5</td>\n      <td>19</td>\n      <td>1.648371</td>\n      <td>일본잎갈나무-상수리나무식재림</td>\n      <td>X</td>\n      <td>0.642351</td>\n    </tr>\n  </tbody>\n</table>\n<p>536 rows × 7 columns</p>\n</div>"
     },
     "execution_count": 16,
     "metadata": {},
     "output_type": "execute_result"
    }
   ],
   "source": [
    "HK = HK.merge(df, on='번호')\n",
    "HK"
   ],
   "metadata": {
    "collapsed": false,
    "pycharm": {
     "name": "#%%\n"
    }
   }
  },
  {
   "cell_type": "code",
   "execution_count": 17,
   "outputs": [
    {
     "data": {
      "text/plain": "536"
     },
     "execution_count": 17,
     "metadata": {},
     "output_type": "execute_result"
    }
   ],
   "source": [
    "HK.to_sql('re_MainData_inner_HK', index=False, con=db_connection, if_exists='replace')"
   ],
   "metadata": {
    "collapsed": false,
    "pycharm": {
     "name": "#%%\n"
    }
   }
  }
 ],
 "metadata": {
  "kernelspec": {
   "display_name": "Python 3",
   "language": "python",
   "name": "python3"
  },
  "language_info": {
   "codemirror_mode": {
    "name": "ipython",
    "version": 2
   },
   "file_extension": ".py",
   "mimetype": "text/x-python",
   "name": "python",
   "nbconvert_exporter": "python",
   "pygments_lexer": "ipython2",
   "version": "2.7.6"
  }
 },
 "nbformat": 4,
 "nbformat_minor": 0
}