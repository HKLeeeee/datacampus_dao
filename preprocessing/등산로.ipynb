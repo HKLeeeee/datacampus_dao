{
 "cells": [
  {
   "cell_type": "code",
   "execution_count": 1,
   "metadata": {
    "collapsed": true,
    "pycharm": {
     "name": "#%%\n"
    }
   },
   "outputs": [],
   "source": [
    "import geopandas as gpd\n",
    "import pandas as pd\n",
    "from sqlalchemy import create_engine\n",
    "import pymysql\n",
    "\n",
    "endpoint = 'dao.cdqd2bwz9q4s.ap-northeast-2.rds.amazonaws.com'\n",
    "schema = 'dao'\n",
    "db_connection_str = 'mysql+pymysql://admin:ekfkawnl@{}/{}'.format(endpoint, schema)\n",
    "try :\n",
    "    db_connection = create_engine(db_connection_str)\n",
    "    conn = db_connection.connect()\n",
    "except :\n",
    "    print('fail to connect db')\n",
    "\n",
    "def load_data_from_rds(tabel_name):\n",
    "  sql = \"SELECT * FROM {}\".format(tabel_name)\n",
    "  df = pd.read_sql(sql, db_connection)\n",
    "  return df"
   ]
  },
  {
   "cell_type": "code",
   "execution_count": 2,
   "outputs": [
    {
     "data": {
      "text/plain": "       번호     위도_십진      경도_십진  생태통로타  차선_수  등산객이용  생태통로효        이용확인종  이용확인   \\\n0    1495  35.36019  128.06375      0     1      1      3          NaN      0   \n1    1277  37.03408  128.40661      1     0      0      3          NaN      0   \n2    1278  36.89832  128.30563      1     0      0      1  고라니 멧돼지 파충류      3   \n3    1279  36.89687  128.30581      1     0      0      1  고라니 멧돼지 파충류      3   \n4    1090  36.71336  127.42200      0     2      5      1    개 고양이 다람쥐      3   \n..    ...       ...        ...    ...   ...    ...    ...          ...    ...   \n492  1089  36.71278  127.42056      0     2      0      0      고라니 멧돼지      2   \n493  1087  36.71722  127.41778      0     1      5      0      고라니 멧돼지      2   \n494  1088  36.71222  127.42528      0     1      5      0      고라니 멧돼지      2   \n495  1091  36.76750  127.47333      0     0      0      0      멧돼지 고라니      2   \n496  1072  36.65293  127.51278      0     2      5      0      고라니 멧돼지      2   \n\n      면적_m^2  ...  join_PMNTN_UPPL  join_PMNTN_GODN  join_PMNTN_MTRQ  \\\n0        NaN  ...               23               16              NaN   \n1        NaN  ...               81               56              NaN   \n2        NaN  ...                1                0              NaN   \n3        NaN  ...                1                0              NaN   \n4     312.74  ...                5                4              NaN   \n..       ...  ...              ...              ...              ...   \n492   674.31  ...               15               11              NaN   \n493   526.32  ...               15               11              NaN   \n494   674.31  ...                2                1              NaN   \n495   140.00  ...               57               40              NaN   \n496  2460.30  ...               15               11              NaN   \n\n     join_PMNTN_CNRL join_PMNTN_CLS join_PMNTN_RISK join_PMNTN_RECO  \\\n0                NaN            NaN             NaN             NaN   \n1                NaN            NaN             NaN             NaN   \n2                NaN            NaN             NaN             NaN   \n3                NaN            NaN             NaN             NaN   \n4                NaN            NaN             NaN             NaN   \n..               ...            ...             ...             ...   \n492              NaN            NaN             NaN             NaN   \n493              NaN            NaN             NaN             NaN   \n494              NaN            NaN             NaN             NaN   \n495              NaN            NaN             NaN             NaN   \n496              NaN            NaN             NaN             NaN   \n\n     join_DATA_STDR  join_MNTN_ID     distance  \n0        2016-12-31  2.812402e+09  3157.025581  \n1        2016-12-31  4.380032e+08  1087.577778  \n2        2016-12-31  4.380028e+08  3070.682447  \n3        2016-12-31  4.380028e+08  2921.190492  \n4        2016-12-31  2.310124e+09    25.082554  \n..              ...           ...          ...  \n492      2016-12-31  2.310124e+09    25.617176  \n493      2016-12-31  2.310124e+09    21.407056  \n494      2016-12-31  2.310124e+09     8.204429  \n495      2016-12-31  4.311021e+08   878.327119  \n496      2016-12-31  4.311039e+08     1.196585  \n\n[497 rows x 29 columns]",
      "text/html": "<div>\n<style scoped>\n    .dataframe tbody tr th:only-of-type {\n        vertical-align: middle;\n    }\n\n    .dataframe tbody tr th {\n        vertical-align: top;\n    }\n\n    .dataframe thead th {\n        text-align: right;\n    }\n</style>\n<table border=\"1\" class=\"dataframe\">\n  <thead>\n    <tr style=\"text-align: right;\">\n      <th></th>\n      <th>번호</th>\n      <th>위도_십진</th>\n      <th>경도_십진</th>\n      <th>생태통로타</th>\n      <th>차선_수</th>\n      <th>등산객이용</th>\n      <th>생태통로효</th>\n      <th>이용확인종</th>\n      <th>이용확인</th>\n      <th>면적_m^2</th>\n      <th>...</th>\n      <th>join_PMNTN_UPPL</th>\n      <th>join_PMNTN_GODN</th>\n      <th>join_PMNTN_MTRQ</th>\n      <th>join_PMNTN_CNRL</th>\n      <th>join_PMNTN_CLS</th>\n      <th>join_PMNTN_RISK</th>\n      <th>join_PMNTN_RECO</th>\n      <th>join_DATA_STDR</th>\n      <th>join_MNTN_ID</th>\n      <th>distance</th>\n    </tr>\n  </thead>\n  <tbody>\n    <tr>\n      <th>0</th>\n      <td>1495</td>\n      <td>35.36019</td>\n      <td>128.06375</td>\n      <td>0</td>\n      <td>1</td>\n      <td>1</td>\n      <td>3</td>\n      <td>NaN</td>\n      <td>0</td>\n      <td>NaN</td>\n      <td>...</td>\n      <td>23</td>\n      <td>16</td>\n      <td>NaN</td>\n      <td>NaN</td>\n      <td>NaN</td>\n      <td>NaN</td>\n      <td>NaN</td>\n      <td>2016-12-31</td>\n      <td>2.812402e+09</td>\n      <td>3157.025581</td>\n    </tr>\n    <tr>\n      <th>1</th>\n      <td>1277</td>\n      <td>37.03408</td>\n      <td>128.40661</td>\n      <td>1</td>\n      <td>0</td>\n      <td>0</td>\n      <td>3</td>\n      <td>NaN</td>\n      <td>0</td>\n      <td>NaN</td>\n      <td>...</td>\n      <td>81</td>\n      <td>56</td>\n      <td>NaN</td>\n      <td>NaN</td>\n      <td>NaN</td>\n      <td>NaN</td>\n      <td>NaN</td>\n      <td>2016-12-31</td>\n      <td>4.380032e+08</td>\n      <td>1087.577778</td>\n    </tr>\n    <tr>\n      <th>2</th>\n      <td>1278</td>\n      <td>36.89832</td>\n      <td>128.30563</td>\n      <td>1</td>\n      <td>0</td>\n      <td>0</td>\n      <td>1</td>\n      <td>고라니 멧돼지 파충류</td>\n      <td>3</td>\n      <td>NaN</td>\n      <td>...</td>\n      <td>1</td>\n      <td>0</td>\n      <td>NaN</td>\n      <td>NaN</td>\n      <td>NaN</td>\n      <td>NaN</td>\n      <td>NaN</td>\n      <td>2016-12-31</td>\n      <td>4.380028e+08</td>\n      <td>3070.682447</td>\n    </tr>\n    <tr>\n      <th>3</th>\n      <td>1279</td>\n      <td>36.89687</td>\n      <td>128.30581</td>\n      <td>1</td>\n      <td>0</td>\n      <td>0</td>\n      <td>1</td>\n      <td>고라니 멧돼지 파충류</td>\n      <td>3</td>\n      <td>NaN</td>\n      <td>...</td>\n      <td>1</td>\n      <td>0</td>\n      <td>NaN</td>\n      <td>NaN</td>\n      <td>NaN</td>\n      <td>NaN</td>\n      <td>NaN</td>\n      <td>2016-12-31</td>\n      <td>4.380028e+08</td>\n      <td>2921.190492</td>\n    </tr>\n    <tr>\n      <th>4</th>\n      <td>1090</td>\n      <td>36.71336</td>\n      <td>127.42200</td>\n      <td>0</td>\n      <td>2</td>\n      <td>5</td>\n      <td>1</td>\n      <td>개 고양이 다람쥐</td>\n      <td>3</td>\n      <td>312.74</td>\n      <td>...</td>\n      <td>5</td>\n      <td>4</td>\n      <td>NaN</td>\n      <td>NaN</td>\n      <td>NaN</td>\n      <td>NaN</td>\n      <td>NaN</td>\n      <td>2016-12-31</td>\n      <td>2.310124e+09</td>\n      <td>25.082554</td>\n    </tr>\n    <tr>\n      <th>...</th>\n      <td>...</td>\n      <td>...</td>\n      <td>...</td>\n      <td>...</td>\n      <td>...</td>\n      <td>...</td>\n      <td>...</td>\n      <td>...</td>\n      <td>...</td>\n      <td>...</td>\n      <td>...</td>\n      <td>...</td>\n      <td>...</td>\n      <td>...</td>\n      <td>...</td>\n      <td>...</td>\n      <td>...</td>\n      <td>...</td>\n      <td>...</td>\n      <td>...</td>\n      <td>...</td>\n    </tr>\n    <tr>\n      <th>492</th>\n      <td>1089</td>\n      <td>36.71278</td>\n      <td>127.42056</td>\n      <td>0</td>\n      <td>2</td>\n      <td>0</td>\n      <td>0</td>\n      <td>고라니 멧돼지</td>\n      <td>2</td>\n      <td>674.31</td>\n      <td>...</td>\n      <td>15</td>\n      <td>11</td>\n      <td>NaN</td>\n      <td>NaN</td>\n      <td>NaN</td>\n      <td>NaN</td>\n      <td>NaN</td>\n      <td>2016-12-31</td>\n      <td>2.310124e+09</td>\n      <td>25.617176</td>\n    </tr>\n    <tr>\n      <th>493</th>\n      <td>1087</td>\n      <td>36.71722</td>\n      <td>127.41778</td>\n      <td>0</td>\n      <td>1</td>\n      <td>5</td>\n      <td>0</td>\n      <td>고라니 멧돼지</td>\n      <td>2</td>\n      <td>526.32</td>\n      <td>...</td>\n      <td>15</td>\n      <td>11</td>\n      <td>NaN</td>\n      <td>NaN</td>\n      <td>NaN</td>\n      <td>NaN</td>\n      <td>NaN</td>\n      <td>2016-12-31</td>\n      <td>2.310124e+09</td>\n      <td>21.407056</td>\n    </tr>\n    <tr>\n      <th>494</th>\n      <td>1088</td>\n      <td>36.71222</td>\n      <td>127.42528</td>\n      <td>0</td>\n      <td>1</td>\n      <td>5</td>\n      <td>0</td>\n      <td>고라니 멧돼지</td>\n      <td>2</td>\n      <td>674.31</td>\n      <td>...</td>\n      <td>2</td>\n      <td>1</td>\n      <td>NaN</td>\n      <td>NaN</td>\n      <td>NaN</td>\n      <td>NaN</td>\n      <td>NaN</td>\n      <td>2016-12-31</td>\n      <td>2.310124e+09</td>\n      <td>8.204429</td>\n    </tr>\n    <tr>\n      <th>495</th>\n      <td>1091</td>\n      <td>36.76750</td>\n      <td>127.47333</td>\n      <td>0</td>\n      <td>0</td>\n      <td>0</td>\n      <td>0</td>\n      <td>멧돼지 고라니</td>\n      <td>2</td>\n      <td>140.00</td>\n      <td>...</td>\n      <td>57</td>\n      <td>40</td>\n      <td>NaN</td>\n      <td>NaN</td>\n      <td>NaN</td>\n      <td>NaN</td>\n      <td>NaN</td>\n      <td>2016-12-31</td>\n      <td>4.311021e+08</td>\n      <td>878.327119</td>\n    </tr>\n    <tr>\n      <th>496</th>\n      <td>1072</td>\n      <td>36.65293</td>\n      <td>127.51278</td>\n      <td>0</td>\n      <td>2</td>\n      <td>5</td>\n      <td>0</td>\n      <td>고라니 멧돼지</td>\n      <td>2</td>\n      <td>2460.30</td>\n      <td>...</td>\n      <td>15</td>\n      <td>11</td>\n      <td>NaN</td>\n      <td>NaN</td>\n      <td>NaN</td>\n      <td>NaN</td>\n      <td>NaN</td>\n      <td>2016-12-31</td>\n      <td>4.311039e+08</td>\n      <td>1.196585</td>\n    </tr>\n  </tbody>\n</table>\n<p>497 rows × 29 columns</p>\n</div>"
     },
     "execution_count": 2,
     "metadata": {},
     "output_type": "execute_result"
    }
   ],
   "source": [
    "raw_df = pd.read_csv('.././data/CSV/등산로_join.csv', encoding='cp949')\n",
    "raw_df"
   ],
   "metadata": {
    "collapsed": false,
    "pycharm": {
     "name": "#%%\n"
    }
   }
  },
  {
   "cell_type": "code",
   "execution_count": 3,
   "outputs": [
    {
     "data": {
      "text/plain": "       번호     distance\n0    1495  3157.025581\n1    1277  1087.577778\n2    1278  3070.682447\n3    1279  2921.190492\n4    1090    25.082554\n..    ...          ...\n492  1089    25.617176\n493  1087    21.407056\n494  1088     8.204429\n495  1091   878.327119\n496  1072     1.196585\n\n[497 rows x 2 columns]",
      "text/html": "<div>\n<style scoped>\n    .dataframe tbody tr th:only-of-type {\n        vertical-align: middle;\n    }\n\n    .dataframe tbody tr th {\n        vertical-align: top;\n    }\n\n    .dataframe thead th {\n        text-align: right;\n    }\n</style>\n<table border=\"1\" class=\"dataframe\">\n  <thead>\n    <tr style=\"text-align: right;\">\n      <th></th>\n      <th>번호</th>\n      <th>distance</th>\n    </tr>\n  </thead>\n  <tbody>\n    <tr>\n      <th>0</th>\n      <td>1495</td>\n      <td>3157.025581</td>\n    </tr>\n    <tr>\n      <th>1</th>\n      <td>1277</td>\n      <td>1087.577778</td>\n    </tr>\n    <tr>\n      <th>2</th>\n      <td>1278</td>\n      <td>3070.682447</td>\n    </tr>\n    <tr>\n      <th>3</th>\n      <td>1279</td>\n      <td>2921.190492</td>\n    </tr>\n    <tr>\n      <th>4</th>\n      <td>1090</td>\n      <td>25.082554</td>\n    </tr>\n    <tr>\n      <th>...</th>\n      <td>...</td>\n      <td>...</td>\n    </tr>\n    <tr>\n      <th>492</th>\n      <td>1089</td>\n      <td>25.617176</td>\n    </tr>\n    <tr>\n      <th>493</th>\n      <td>1087</td>\n      <td>21.407056</td>\n    </tr>\n    <tr>\n      <th>494</th>\n      <td>1088</td>\n      <td>8.204429</td>\n    </tr>\n    <tr>\n      <th>495</th>\n      <td>1091</td>\n      <td>878.327119</td>\n    </tr>\n    <tr>\n      <th>496</th>\n      <td>1072</td>\n      <td>1.196585</td>\n    </tr>\n  </tbody>\n</table>\n<p>497 rows × 2 columns</p>\n</div>"
     },
     "execution_count": 3,
     "metadata": {},
     "output_type": "execute_result"
    }
   ],
   "source": [
    "df = raw_df[['번호', 'distance']]\n",
    "df"
   ],
   "metadata": {
    "collapsed": false,
    "pycharm": {
     "name": "#%%\n"
    }
   }
  },
  {
   "cell_type": "code",
   "execution_count": 4,
   "outputs": [
    {
     "name": "stderr",
     "output_type": "stream",
     "text": [
      "C:\\Users\\Administrator\\AppData\\Local\\Temp\\ipykernel_24944\\128785412.py:1: SettingWithCopyWarning: \n",
      "A value is trying to be set on a copy of a slice from a DataFrame.\n",
      "Try using .loc[row_indexer,col_indexer] = value instead\n",
      "\n",
      "See the caveats in the documentation: https://pandas.pydata.org/pandas-docs/stable/user_guide/indexing.html#returning-a-view-versus-a-copy\n",
      "  df['distance'] = df['distance'] / 1000\n",
      "C:\\Users\\Administrator\\AppData\\Local\\Temp\\ipykernel_24944\\128785412.py:2: SettingWithCopyWarning: \n",
      "A value is trying to be set on a copy of a slice from a DataFrame\n",
      "\n",
      "See the caveats in the documentation: https://pandas.pydata.org/pandas-docs/stable/user_guide/indexing.html#returning-a-view-versus-a-copy\n",
      "  df.rename(columns={'distance':'등산로까지 최단거리(km)'}, inplace=True)\n"
     ]
    },
    {
     "data": {
      "text/plain": "       번호  등산로까지 최단거리(km)\n0    1495        3.157026\n1    1277        1.087578\n2    1278        3.070682\n3    1279        2.921190\n4    1090        0.025083\n..    ...             ...\n492  1089        0.025617\n493  1087        0.021407\n494  1088        0.008204\n495  1091        0.878327\n496  1072        0.001197\n\n[497 rows x 2 columns]",
      "text/html": "<div>\n<style scoped>\n    .dataframe tbody tr th:only-of-type {\n        vertical-align: middle;\n    }\n\n    .dataframe tbody tr th {\n        vertical-align: top;\n    }\n\n    .dataframe thead th {\n        text-align: right;\n    }\n</style>\n<table border=\"1\" class=\"dataframe\">\n  <thead>\n    <tr style=\"text-align: right;\">\n      <th></th>\n      <th>번호</th>\n      <th>등산로까지 최단거리(km)</th>\n    </tr>\n  </thead>\n  <tbody>\n    <tr>\n      <th>0</th>\n      <td>1495</td>\n      <td>3.157026</td>\n    </tr>\n    <tr>\n      <th>1</th>\n      <td>1277</td>\n      <td>1.087578</td>\n    </tr>\n    <tr>\n      <th>2</th>\n      <td>1278</td>\n      <td>3.070682</td>\n    </tr>\n    <tr>\n      <th>3</th>\n      <td>1279</td>\n      <td>2.921190</td>\n    </tr>\n    <tr>\n      <th>4</th>\n      <td>1090</td>\n      <td>0.025083</td>\n    </tr>\n    <tr>\n      <th>...</th>\n      <td>...</td>\n      <td>...</td>\n    </tr>\n    <tr>\n      <th>492</th>\n      <td>1089</td>\n      <td>0.025617</td>\n    </tr>\n    <tr>\n      <th>493</th>\n      <td>1087</td>\n      <td>0.021407</td>\n    </tr>\n    <tr>\n      <th>494</th>\n      <td>1088</td>\n      <td>0.008204</td>\n    </tr>\n    <tr>\n      <th>495</th>\n      <td>1091</td>\n      <td>0.878327</td>\n    </tr>\n    <tr>\n      <th>496</th>\n      <td>1072</td>\n      <td>0.001197</td>\n    </tr>\n  </tbody>\n</table>\n<p>497 rows × 2 columns</p>\n</div>"
     },
     "execution_count": 4,
     "metadata": {},
     "output_type": "execute_result"
    }
   ],
   "source": [
    "df['distance'] = df['distance'] / 1000\n",
    "df.rename(columns={'distance':'등산로까지 최단거리(km)'}, inplace=True)\n",
    "df"
   ],
   "metadata": {
    "collapsed": false,
    "pycharm": {
     "name": "#%%\n"
    }
   }
  },
  {
   "cell_type": "code",
   "execution_count": 8,
   "outputs": [
    {
     "data": {
      "text/plain": "       번호  주변 동물종 개수  주변동물 출현빈도 지형기호(5km)     하천거리(km)            식물군락명\n0    1495          2          2         X   134.468063            소나무군락\n1    1277          3          5         X   434.781679       소나무-신갈나무군락\n2    1278          0          0         X    74.780224            소나무군락\n3    1279          0          0         X   125.168772            소나무군락\n4    1090          0          0         X  2275.200182  아까시나무-리기다소나무식재림\n..    ...        ...        ...       ...          ...              ...\n492  1089          0          0         X  2274.279975  아까시나무-리기다소나무식재림\n493  1087          0          0         X  1722.566263         아까시나무식재림\n494  1088          0          0         X  2532.215687  아까시나무-리기다소나무식재림\n495  1091          0          0         X  2096.234333          상수리나무군락\n496  1072          0          0         X   901.351714           잣나무식재림\n\n[497 rows x 6 columns]",
      "text/html": "<div>\n<style scoped>\n    .dataframe tbody tr th:only-of-type {\n        vertical-align: middle;\n    }\n\n    .dataframe tbody tr th {\n        vertical-align: top;\n    }\n\n    .dataframe thead th {\n        text-align: right;\n    }\n</style>\n<table border=\"1\" class=\"dataframe\">\n  <thead>\n    <tr style=\"text-align: right;\">\n      <th></th>\n      <th>번호</th>\n      <th>주변 동물종 개수</th>\n      <th>주변동물 출현빈도</th>\n      <th>지형기호(5km)</th>\n      <th>하천거리(km)</th>\n      <th>식물군락명</th>\n    </tr>\n  </thead>\n  <tbody>\n    <tr>\n      <th>0</th>\n      <td>1495</td>\n      <td>2</td>\n      <td>2</td>\n      <td>X</td>\n      <td>134.468063</td>\n      <td>소나무군락</td>\n    </tr>\n    <tr>\n      <th>1</th>\n      <td>1277</td>\n      <td>3</td>\n      <td>5</td>\n      <td>X</td>\n      <td>434.781679</td>\n      <td>소나무-신갈나무군락</td>\n    </tr>\n    <tr>\n      <th>2</th>\n      <td>1278</td>\n      <td>0</td>\n      <td>0</td>\n      <td>X</td>\n      <td>74.780224</td>\n      <td>소나무군락</td>\n    </tr>\n    <tr>\n      <th>3</th>\n      <td>1279</td>\n      <td>0</td>\n      <td>0</td>\n      <td>X</td>\n      <td>125.168772</td>\n      <td>소나무군락</td>\n    </tr>\n    <tr>\n      <th>4</th>\n      <td>1090</td>\n      <td>0</td>\n      <td>0</td>\n      <td>X</td>\n      <td>2275.200182</td>\n      <td>아까시나무-리기다소나무식재림</td>\n    </tr>\n    <tr>\n      <th>...</th>\n      <td>...</td>\n      <td>...</td>\n      <td>...</td>\n      <td>...</td>\n      <td>...</td>\n      <td>...</td>\n    </tr>\n    <tr>\n      <th>492</th>\n      <td>1089</td>\n      <td>0</td>\n      <td>0</td>\n      <td>X</td>\n      <td>2274.279975</td>\n      <td>아까시나무-리기다소나무식재림</td>\n    </tr>\n    <tr>\n      <th>493</th>\n      <td>1087</td>\n      <td>0</td>\n      <td>0</td>\n      <td>X</td>\n      <td>1722.566263</td>\n      <td>아까시나무식재림</td>\n    </tr>\n    <tr>\n      <th>494</th>\n      <td>1088</td>\n      <td>0</td>\n      <td>0</td>\n      <td>X</td>\n      <td>2532.215687</td>\n      <td>아까시나무-리기다소나무식재림</td>\n    </tr>\n    <tr>\n      <th>495</th>\n      <td>1091</td>\n      <td>0</td>\n      <td>0</td>\n      <td>X</td>\n      <td>2096.234333</td>\n      <td>상수리나무군락</td>\n    </tr>\n    <tr>\n      <th>496</th>\n      <td>1072</td>\n      <td>0</td>\n      <td>0</td>\n      <td>X</td>\n      <td>901.351714</td>\n      <td>잣나무식재림</td>\n    </tr>\n  </tbody>\n</table>\n<p>497 rows × 6 columns</p>\n</div>"
     },
     "execution_count": 8,
     "metadata": {},
     "output_type": "execute_result"
    }
   ],
   "source": [
    "HK = load_data_from_rds('MainData_희경')\n",
    "HK"
   ],
   "metadata": {
    "collapsed": false,
    "pycharm": {
     "name": "#%%\n"
    }
   }
  },
  {
   "cell_type": "code",
   "execution_count": 9,
   "outputs": [
    {
     "data": {
      "text/plain": "       번호  주변 동물종 개수  주변동물 출현빈도 지형기호(5km)     하천거리(km)            식물군락명  \\\n0    1495          2          2         X   134.468063            소나무군락   \n1    1277          3          5         X   434.781679       소나무-신갈나무군락   \n2    1278          0          0         X    74.780224            소나무군락   \n3    1279          0          0         X   125.168772            소나무군락   \n4    1090          0          0         X  2275.200182  아까시나무-리기다소나무식재림   \n..    ...        ...        ...       ...          ...              ...   \n492  1089          0          0         X  2274.279975  아까시나무-리기다소나무식재림   \n493  1087          0          0         X  1722.566263         아까시나무식재림   \n494  1088          0          0         X  2532.215687  아까시나무-리기다소나무식재림   \n495  1091          0          0         X  2096.234333          상수리나무군락   \n496  1072          0          0         X   901.351714           잣나무식재림   \n\n     등산로까지 최단거리(km)  \n0          3.157026  \n1          1.087578  \n2          3.070682  \n3          2.921190  \n4          0.025083  \n..              ...  \n492        0.025617  \n493        0.021407  \n494        0.008204  \n495        0.878327  \n496        0.001197  \n\n[497 rows x 7 columns]",
      "text/html": "<div>\n<style scoped>\n    .dataframe tbody tr th:only-of-type {\n        vertical-align: middle;\n    }\n\n    .dataframe tbody tr th {\n        vertical-align: top;\n    }\n\n    .dataframe thead th {\n        text-align: right;\n    }\n</style>\n<table border=\"1\" class=\"dataframe\">\n  <thead>\n    <tr style=\"text-align: right;\">\n      <th></th>\n      <th>번호</th>\n      <th>주변 동물종 개수</th>\n      <th>주변동물 출현빈도</th>\n      <th>지형기호(5km)</th>\n      <th>하천거리(km)</th>\n      <th>식물군락명</th>\n      <th>등산로까지 최단거리(km)</th>\n    </tr>\n  </thead>\n  <tbody>\n    <tr>\n      <th>0</th>\n      <td>1495</td>\n      <td>2</td>\n      <td>2</td>\n      <td>X</td>\n      <td>134.468063</td>\n      <td>소나무군락</td>\n      <td>3.157026</td>\n    </tr>\n    <tr>\n      <th>1</th>\n      <td>1277</td>\n      <td>3</td>\n      <td>5</td>\n      <td>X</td>\n      <td>434.781679</td>\n      <td>소나무-신갈나무군락</td>\n      <td>1.087578</td>\n    </tr>\n    <tr>\n      <th>2</th>\n      <td>1278</td>\n      <td>0</td>\n      <td>0</td>\n      <td>X</td>\n      <td>74.780224</td>\n      <td>소나무군락</td>\n      <td>3.070682</td>\n    </tr>\n    <tr>\n      <th>3</th>\n      <td>1279</td>\n      <td>0</td>\n      <td>0</td>\n      <td>X</td>\n      <td>125.168772</td>\n      <td>소나무군락</td>\n      <td>2.921190</td>\n    </tr>\n    <tr>\n      <th>4</th>\n      <td>1090</td>\n      <td>0</td>\n      <td>0</td>\n      <td>X</td>\n      <td>2275.200182</td>\n      <td>아까시나무-리기다소나무식재림</td>\n      <td>0.025083</td>\n    </tr>\n    <tr>\n      <th>...</th>\n      <td>...</td>\n      <td>...</td>\n      <td>...</td>\n      <td>...</td>\n      <td>...</td>\n      <td>...</td>\n      <td>...</td>\n    </tr>\n    <tr>\n      <th>492</th>\n      <td>1089</td>\n      <td>0</td>\n      <td>0</td>\n      <td>X</td>\n      <td>2274.279975</td>\n      <td>아까시나무-리기다소나무식재림</td>\n      <td>0.025617</td>\n    </tr>\n    <tr>\n      <th>493</th>\n      <td>1087</td>\n      <td>0</td>\n      <td>0</td>\n      <td>X</td>\n      <td>1722.566263</td>\n      <td>아까시나무식재림</td>\n      <td>0.021407</td>\n    </tr>\n    <tr>\n      <th>494</th>\n      <td>1088</td>\n      <td>0</td>\n      <td>0</td>\n      <td>X</td>\n      <td>2532.215687</td>\n      <td>아까시나무-리기다소나무식재림</td>\n      <td>0.008204</td>\n    </tr>\n    <tr>\n      <th>495</th>\n      <td>1091</td>\n      <td>0</td>\n      <td>0</td>\n      <td>X</td>\n      <td>2096.234333</td>\n      <td>상수리나무군락</td>\n      <td>0.878327</td>\n    </tr>\n    <tr>\n      <th>496</th>\n      <td>1072</td>\n      <td>0</td>\n      <td>0</td>\n      <td>X</td>\n      <td>901.351714</td>\n      <td>잣나무식재림</td>\n      <td>0.001197</td>\n    </tr>\n  </tbody>\n</table>\n<p>497 rows × 7 columns</p>\n</div>"
     },
     "execution_count": 9,
     "metadata": {},
     "output_type": "execute_result"
    }
   ],
   "source": [
    "HK = HK.merge(df, on='번호')\n",
    "HK"
   ],
   "metadata": {
    "collapsed": false,
    "pycharm": {
     "name": "#%%\n"
    }
   }
  },
  {
   "cell_type": "code",
   "execution_count": 10,
   "outputs": [
    {
     "data": {
      "text/plain": "497"
     },
     "execution_count": 10,
     "metadata": {},
     "output_type": "execute_result"
    }
   ],
   "source": [
    "HK.to_sql('MainData_희경', index=False, con=db_connection, if_exists='replace')"
   ],
   "metadata": {
    "collapsed": false,
    "pycharm": {
     "name": "#%%\n"
    }
   }
  },
  {
   "cell_type": "code",
   "execution_count": null,
   "outputs": [],
   "source": [],
   "metadata": {
    "collapsed": false,
    "pycharm": {
     "name": "#%%\n"
    }
   }
  }
 ],
 "metadata": {
  "kernelspec": {
   "display_name": "Python 3",
   "language": "python",
   "name": "python3"
  },
  "language_info": {
   "codemirror_mode": {
    "name": "ipython",
    "version": 2
   },
   "file_extension": ".py",
   "mimetype": "text/x-python",
   "name": "python",
   "nbconvert_exporter": "python",
   "pygments_lexer": "ipython2",
   "version": "2.7.6"
  }
 },
 "nbformat": 4,
 "nbformat_minor": 0
}