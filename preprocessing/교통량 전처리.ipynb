{
 "cells": [
  {
   "cell_type": "code",
   "execution_count": 7,
   "id": "1386502a",
   "metadata": {},
   "outputs": [
    {
     "name": "stdout",
     "output_type": "stream",
     "text": [
      "Collecting sqlalchemy\n",
      "  Downloading SQLAlchemy-1.4.39-cp39-cp39-win_amd64.whl (1.6 MB)\n",
      "     ---------------------------------------- 1.6/1.6 MB 7.6 MB/s eta 0:00:00\n",
      "Collecting greenlet!=0.4.17\n",
      "  Downloading greenlet-1.1.2-cp39-cp39-win_amd64.whl (101 kB)\n",
      "     -------------------------------------- 101.9/101.9 kB 6.1 MB/s eta 0:00:00\n",
      "Installing collected packages: greenlet, sqlalchemy\n",
      "Successfully installed greenlet-1.1.2 sqlalchemy-1.4.39\n"
     ]
    }
   ],
   "source": [
    "\n",
    "!pip install sqlalchemy"
   ]
  },
  {
   "cell_type": "code",
   "execution_count": 28,
   "id": "a29d2ab7",
   "metadata": {
    "pycharm": {
     "name": "#%%\n"
    }
   },
   "outputs": [],
   "source": [
    "from sqlalchemy import create_engine\n",
    "import pymysql\n",
    "import pandas as pd"
   ]
  },
  {
   "cell_type": "code",
   "execution_count": 32,
   "id": "af17f687",
   "metadata": {
    "pycharm": {
     "name": "#%%\n"
    }
   },
   "outputs": [],
   "source": [
    "endpoint = 'dao.cdqd2bwz9q4s.ap-northeast-2.rds.amazonaws.com'\n",
    "schema_name = 'dao'\n",
    "db_connection_str = 'mysql+pymysql://admin:ekfkawnl@{}/{}'.format(endpoint, schema_name )\n",
    "try :\n",
    "    db_connection = create_engine(db_connection_str)\n",
    "    conn = db_connection.connect()\n",
    "except :\n",
    "    print('fail to connect db')"
   ]
  },
  {
   "cell_type": "code",
   "execution_count": 33,
   "id": "66e630c1",
   "metadata": {
    "pycharm": {
     "name": "#%%\n"
    }
   },
   "outputs": [],
   "source": [
    "sql = \"SELECT * FROM {}\".format(\"교통량_2021\")\n",
    "df = pd.read_sql(sql, db_connection)"
   ]
  },
  {
   "cell_type": "code",
   "execution_count": 34,
   "id": "f3191a10",
   "metadata": {
    "pycharm": {
     "name": "#%%\n"
    }
   },
   "outputs": [],
   "source": [
    "sql2 = \"select * from {}\".format(\"MainData\")\n",
    "df2 = pd.read_sql(sql2, db_connection)"
   ]
  },
  {
   "cell_type": "code",
   "execution_count": 35,
   "id": "58ced6ae",
   "metadata": {
    "pycharm": {
     "name": "#%%\n"
    },
    "scrolled": true
   },
   "outputs": [
    {
     "data": {
      "text/html": [
       "<div>\n",
       "<style scoped>\n",
       "    .dataframe tbody tr th:only-of-type {\n",
       "        vertical-align: middle;\n",
       "    }\n",
       "\n",
       "    .dataframe tbody tr th {\n",
       "        vertical-align: top;\n",
       "    }\n",
       "\n",
       "    .dataframe thead th {\n",
       "        text-align: right;\n",
       "    }\n",
       "</style>\n",
       "<table border=\"1\" class=\"dataframe\">\n",
       "  <thead>\n",
       "    <tr style=\"text-align: right;\">\n",
       "      <th></th>\n",
       "      <th>번호</th>\n",
       "      <th>위도</th>\n",
       "      <th>경도</th>\n",
       "      <th>생태통로_유형</th>\n",
       "      <th>차선_수</th>\n",
       "      <th>등산객_이용빈도</th>\n",
       "      <th>생태통로_효율성</th>\n",
       "      <th>이용확인종</th>\n",
       "      <th>이용확인종_수</th>\n",
       "      <th>폭(m)</th>\n",
       "      <th>...</th>\n",
       "      <th>식물군락명</th>\n",
       "      <th>등산로까지 최단거리(km)</th>\n",
       "      <th>유도울타리_위도_1km</th>\n",
       "      <th>유도울타리_경도_1km</th>\n",
       "      <th>유도울타리_위도_2.3km</th>\n",
       "      <th>유도울타리_경도_2.3km</th>\n",
       "      <th>유도울타리_위도_5km</th>\n",
       "      <th>유도울타리_경도_5km</th>\n",
       "      <th>유도울타리_연장_m</th>\n",
       "      <th>유도울타리_높이_m</th>\n",
       "    </tr>\n",
       "  </thead>\n",
       "  <tbody>\n",
       "    <tr>\n",
       "      <th>0</th>\n",
       "      <td>1495</td>\n",
       "      <td>35.36019</td>\n",
       "      <td>128.06375</td>\n",
       "      <td>0</td>\n",
       "      <td>1</td>\n",
       "      <td>1</td>\n",
       "      <td>3</td>\n",
       "      <td>None</td>\n",
       "      <td>0</td>\n",
       "      <td>NaN</td>\n",
       "      <td>...</td>\n",
       "      <td>소나무군락</td>\n",
       "      <td>3.157026</td>\n",
       "      <td>0.0</td>\n",
       "      <td>0.0</td>\n",
       "      <td>0.000000</td>\n",
       "      <td>0.000000</td>\n",
       "      <td>0.000000</td>\n",
       "      <td>0.000000</td>\n",
       "      <td>0</td>\n",
       "      <td>0.000000</td>\n",
       "    </tr>\n",
       "    <tr>\n",
       "      <th>1</th>\n",
       "      <td>1277</td>\n",
       "      <td>37.03408</td>\n",
       "      <td>128.40661</td>\n",
       "      <td>1</td>\n",
       "      <td>0</td>\n",
       "      <td>0</td>\n",
       "      <td>3</td>\n",
       "      <td>None</td>\n",
       "      <td>0</td>\n",
       "      <td>NaN</td>\n",
       "      <td>...</td>\n",
       "      <td>소나무-신갈나무군락</td>\n",
       "      <td>1.087578</td>\n",
       "      <td>0.0</td>\n",
       "      <td>0.0</td>\n",
       "      <td>0.000000</td>\n",
       "      <td>0.000000</td>\n",
       "      <td>0.000000</td>\n",
       "      <td>0.000000</td>\n",
       "      <td>0</td>\n",
       "      <td>0.000000</td>\n",
       "    </tr>\n",
       "    <tr>\n",
       "      <th>2</th>\n",
       "      <td>1278</td>\n",
       "      <td>36.89832</td>\n",
       "      <td>128.30563</td>\n",
       "      <td>1</td>\n",
       "      <td>0</td>\n",
       "      <td>0</td>\n",
       "      <td>1</td>\n",
       "      <td>고라니 멧돼지 파충류</td>\n",
       "      <td>3</td>\n",
       "      <td>NaN</td>\n",
       "      <td>...</td>\n",
       "      <td>소나무군락</td>\n",
       "      <td>3.070682</td>\n",
       "      <td>0.0</td>\n",
       "      <td>0.0</td>\n",
       "      <td>0.000000</td>\n",
       "      <td>0.000000</td>\n",
       "      <td>36.927754</td>\n",
       "      <td>128.333896</td>\n",
       "      <td>1028</td>\n",
       "      <td>2.000000</td>\n",
       "    </tr>\n",
       "    <tr>\n",
       "      <th>3</th>\n",
       "      <td>1279</td>\n",
       "      <td>36.89687</td>\n",
       "      <td>128.30581</td>\n",
       "      <td>1</td>\n",
       "      <td>0</td>\n",
       "      <td>0</td>\n",
       "      <td>1</td>\n",
       "      <td>고라니 멧돼지 파충류</td>\n",
       "      <td>3</td>\n",
       "      <td>NaN</td>\n",
       "      <td>...</td>\n",
       "      <td>소나무군락</td>\n",
       "      <td>2.921190</td>\n",
       "      <td>0.0</td>\n",
       "      <td>0.0</td>\n",
       "      <td>0.000000</td>\n",
       "      <td>0.000000</td>\n",
       "      <td>36.927754</td>\n",
       "      <td>128.333896</td>\n",
       "      <td>1028</td>\n",
       "      <td>2.000000</td>\n",
       "    </tr>\n",
       "    <tr>\n",
       "      <th>4</th>\n",
       "      <td>1090</td>\n",
       "      <td>36.71336</td>\n",
       "      <td>127.42200</td>\n",
       "      <td>0</td>\n",
       "      <td>2</td>\n",
       "      <td>5</td>\n",
       "      <td>1</td>\n",
       "      <td>개 고양이 다람쥐</td>\n",
       "      <td>3</td>\n",
       "      <td>8.23</td>\n",
       "      <td>...</td>\n",
       "      <td>아까시나무-리기다소나무식재림</td>\n",
       "      <td>0.025083</td>\n",
       "      <td>0.0</td>\n",
       "      <td>0.0</td>\n",
       "      <td>36.708802</td>\n",
       "      <td>127.437539</td>\n",
       "      <td>36.708802</td>\n",
       "      <td>127.437539</td>\n",
       "      <td>886</td>\n",
       "      <td>1.571429</td>\n",
       "    </tr>\n",
       "    <tr>\n",
       "      <th>...</th>\n",
       "      <td>...</td>\n",
       "      <td>...</td>\n",
       "      <td>...</td>\n",
       "      <td>...</td>\n",
       "      <td>...</td>\n",
       "      <td>...</td>\n",
       "      <td>...</td>\n",
       "      <td>...</td>\n",
       "      <td>...</td>\n",
       "      <td>...</td>\n",
       "      <td>...</td>\n",
       "      <td>...</td>\n",
       "      <td>...</td>\n",
       "      <td>...</td>\n",
       "      <td>...</td>\n",
       "      <td>...</td>\n",
       "      <td>...</td>\n",
       "      <td>...</td>\n",
       "      <td>...</td>\n",
       "      <td>...</td>\n",
       "      <td>...</td>\n",
       "    </tr>\n",
       "    <tr>\n",
       "      <th>492</th>\n",
       "      <td>1089</td>\n",
       "      <td>36.71278</td>\n",
       "      <td>127.42056</td>\n",
       "      <td>0</td>\n",
       "      <td>2</td>\n",
       "      <td>0</td>\n",
       "      <td>0</td>\n",
       "      <td>고라니 멧돼지</td>\n",
       "      <td>2</td>\n",
       "      <td>13.30</td>\n",
       "      <td>...</td>\n",
       "      <td>아까시나무-리기다소나무식재림</td>\n",
       "      <td>0.025617</td>\n",
       "      <td>0.0</td>\n",
       "      <td>0.0</td>\n",
       "      <td>36.701443</td>\n",
       "      <td>127.431078</td>\n",
       "      <td>36.701443</td>\n",
       "      <td>127.431078</td>\n",
       "      <td>442</td>\n",
       "      <td>1.000000</td>\n",
       "    </tr>\n",
       "    <tr>\n",
       "      <th>493</th>\n",
       "      <td>1087</td>\n",
       "      <td>36.71722</td>\n",
       "      <td>127.41778</td>\n",
       "      <td>0</td>\n",
       "      <td>1</td>\n",
       "      <td>5</td>\n",
       "      <td>0</td>\n",
       "      <td>고라니 멧돼지</td>\n",
       "      <td>2</td>\n",
       "      <td>13.60</td>\n",
       "      <td>...</td>\n",
       "      <td>아까시나무식재림</td>\n",
       "      <td>0.021407</td>\n",
       "      <td>0.0</td>\n",
       "      <td>0.0</td>\n",
       "      <td>36.708802</td>\n",
       "      <td>127.437539</td>\n",
       "      <td>36.708802</td>\n",
       "      <td>127.437539</td>\n",
       "      <td>886</td>\n",
       "      <td>1.571429</td>\n",
       "    </tr>\n",
       "    <tr>\n",
       "      <th>494</th>\n",
       "      <td>1088</td>\n",
       "      <td>36.71222</td>\n",
       "      <td>127.42528</td>\n",
       "      <td>0</td>\n",
       "      <td>1</td>\n",
       "      <td>5</td>\n",
       "      <td>0</td>\n",
       "      <td>고라니 멧돼지</td>\n",
       "      <td>2</td>\n",
       "      <td>13.30</td>\n",
       "      <td>...</td>\n",
       "      <td>아까시나무-리기다소나무식재림</td>\n",
       "      <td>0.008204</td>\n",
       "      <td>0.0</td>\n",
       "      <td>0.0</td>\n",
       "      <td>36.708802</td>\n",
       "      <td>127.437539</td>\n",
       "      <td>36.708802</td>\n",
       "      <td>127.437539</td>\n",
       "      <td>886</td>\n",
       "      <td>1.571429</td>\n",
       "    </tr>\n",
       "    <tr>\n",
       "      <th>495</th>\n",
       "      <td>1091</td>\n",
       "      <td>36.76750</td>\n",
       "      <td>127.47333</td>\n",
       "      <td>0</td>\n",
       "      <td>0</td>\n",
       "      <td>0</td>\n",
       "      <td>0</td>\n",
       "      <td>멧돼지 고라니</td>\n",
       "      <td>2</td>\n",
       "      <td>7.00</td>\n",
       "      <td>...</td>\n",
       "      <td>상수리나무군락</td>\n",
       "      <td>0.878327</td>\n",
       "      <td>0.0</td>\n",
       "      <td>0.0</td>\n",
       "      <td>36.759335</td>\n",
       "      <td>127.483618</td>\n",
       "      <td>36.759335</td>\n",
       "      <td>127.483618</td>\n",
       "      <td>884</td>\n",
       "      <td>1.500000</td>\n",
       "    </tr>\n",
       "    <tr>\n",
       "      <th>496</th>\n",
       "      <td>1072</td>\n",
       "      <td>36.65293</td>\n",
       "      <td>127.51278</td>\n",
       "      <td>0</td>\n",
       "      <td>2</td>\n",
       "      <td>5</td>\n",
       "      <td>0</td>\n",
       "      <td>고라니 멧돼지</td>\n",
       "      <td>2</td>\n",
       "      <td>41.70</td>\n",
       "      <td>...</td>\n",
       "      <td>잣나무식재림</td>\n",
       "      <td>0.001197</td>\n",
       "      <td>0.0</td>\n",
       "      <td>0.0</td>\n",
       "      <td>0.000000</td>\n",
       "      <td>0.000000</td>\n",
       "      <td>0.000000</td>\n",
       "      <td>0.000000</td>\n",
       "      <td>0</td>\n",
       "      <td>0.000000</td>\n",
       "    </tr>\n",
       "  </tbody>\n",
       "</table>\n",
       "<p>497 rows × 36 columns</p>\n",
       "</div>"
      ],
      "text/plain": [
       "       번호        위도         경도  생태통로_유형  차선_수  등산객_이용빈도  생태통로_효율성  \\\n",
       "0    1495  35.36019  128.06375        0     1         1         3   \n",
       "1    1277  37.03408  128.40661        1     0         0         3   \n",
       "2    1278  36.89832  128.30563        1     0         0         1   \n",
       "3    1279  36.89687  128.30581        1     0         0         1   \n",
       "4    1090  36.71336  127.42200        0     2         5         1   \n",
       "..    ...       ...        ...      ...   ...       ...       ...   \n",
       "492  1089  36.71278  127.42056        0     2         0         0   \n",
       "493  1087  36.71722  127.41778        0     1         5         0   \n",
       "494  1088  36.71222  127.42528        0     1         5         0   \n",
       "495  1091  36.76750  127.47333        0     0         0         0   \n",
       "496  1072  36.65293  127.51278        0     2         5         0   \n",
       "\n",
       "           이용확인종  이용확인종_수   폭(m)  ...            식물군락명  등산로까지 최단거리(km)  \\\n",
       "0           None        0    NaN  ...            소나무군락        3.157026   \n",
       "1           None        0    NaN  ...       소나무-신갈나무군락        1.087578   \n",
       "2    고라니 멧돼지 파충류        3    NaN  ...            소나무군락        3.070682   \n",
       "3    고라니 멧돼지 파충류        3    NaN  ...            소나무군락        2.921190   \n",
       "4      개 고양이 다람쥐        3   8.23  ...  아까시나무-리기다소나무식재림        0.025083   \n",
       "..           ...      ...    ...  ...              ...             ...   \n",
       "492      고라니 멧돼지        2  13.30  ...  아까시나무-리기다소나무식재림        0.025617   \n",
       "493      고라니 멧돼지        2  13.60  ...         아까시나무식재림        0.021407   \n",
       "494      고라니 멧돼지        2  13.30  ...  아까시나무-리기다소나무식재림        0.008204   \n",
       "495      멧돼지 고라니        2   7.00  ...          상수리나무군락        0.878327   \n",
       "496      고라니 멧돼지        2  41.70  ...           잣나무식재림        0.001197   \n",
       "\n",
       "     유도울타리_위도_1km 유도울타리_경도_1km  유도울타리_위도_2.3km  유도울타리_경도_2.3km  유도울타리_위도_5km  \\\n",
       "0             0.0          0.0        0.000000        0.000000      0.000000   \n",
       "1             0.0          0.0        0.000000        0.000000      0.000000   \n",
       "2             0.0          0.0        0.000000        0.000000     36.927754   \n",
       "3             0.0          0.0        0.000000        0.000000     36.927754   \n",
       "4             0.0          0.0       36.708802      127.437539     36.708802   \n",
       "..            ...          ...             ...             ...           ...   \n",
       "492           0.0          0.0       36.701443      127.431078     36.701443   \n",
       "493           0.0          0.0       36.708802      127.437539     36.708802   \n",
       "494           0.0          0.0       36.708802      127.437539     36.708802   \n",
       "495           0.0          0.0       36.759335      127.483618     36.759335   \n",
       "496           0.0          0.0        0.000000        0.000000      0.000000   \n",
       "\n",
       "     유도울타리_경도_5km  유도울타리_연장_m  유도울타리_높이_m  \n",
       "0        0.000000           0    0.000000  \n",
       "1        0.000000           0    0.000000  \n",
       "2      128.333896        1028    2.000000  \n",
       "3      128.333896        1028    2.000000  \n",
       "4      127.437539         886    1.571429  \n",
       "..            ...         ...         ...  \n",
       "492    127.431078         442    1.000000  \n",
       "493    127.437539         886    1.571429  \n",
       "494    127.437539         886    1.571429  \n",
       "495    127.483618         884    1.500000  \n",
       "496      0.000000           0    0.000000  \n",
       "\n",
       "[497 rows x 36 columns]"
      ]
     },
     "execution_count": 35,
     "metadata": {},
     "output_type": "execute_result"
    }
   ],
   "source": [
    "df2"
   ]
  },
  {
   "cell_type": "code",
   "execution_count": 7,
   "id": "f03aec05",
   "metadata": {
    "pycharm": {
     "name": "#%%\n"
    }
   },
   "outputs": [
    {
     "name": "stdout",
     "output_type": "stream",
     "text": [
      "Collecting haversine\n",
      "  Downloading haversine-2.6.0-py2.py3-none-any.whl (6.8 kB)\n",
      "Installing collected packages: haversine\n",
      "Successfully installed haversine-2.6.0\n"
     ]
    }
   ],
   "source": [
    "!pip install haversine"
   ]
  },
  {
   "cell_type": "code",
   "execution_count": 36,
   "id": "0781401a",
   "metadata": {
    "pycharm": {
     "name": "#%%\n"
    }
   },
   "outputs": [],
   "source": [
    "from haversine import haversine\n",
    "import numpy as np"
   ]
  },
  {
   "cell_type": "code",
   "execution_count": 37,
   "id": "2850be97",
   "metadata": {
    "pycharm": {
     "name": "#%%\n"
    }
   },
   "outputs": [
    {
     "data": {
      "text/plain": [
       "37.03408"
      ]
     },
     "execution_count": 37,
     "metadata": {},
     "output_type": "execute_result"
    }
   ],
   "source": [
    "(df2[:][\"위도\"][1])"
   ]
  },
  {
   "cell_type": "code",
   "execution_count": 38,
   "id": "6b55dc80",
   "metadata": {
    "pycharm": {
     "name": "#%%\n"
    },
    "scrolled": true
   },
   "outputs": [
    {
     "data": {
      "text/plain": [
       "Index(['연도', '도로종류', '지점번호', '호선', '구간', '차로', '도/시', '시/군', '읍/면', '동/리',\n",
       "       '구분', 'AADT', 'XCODE', 'YCODE'],\n",
       "      dtype='object')"
      ]
     },
     "execution_count": 38,
     "metadata": {},
     "output_type": "execute_result"
    }
   ],
   "source": [
    "df.columns"
   ]
  },
  {
   "cell_type": "code",
   "execution_count": 40,
   "id": "3fdeb850",
   "metadata": {
    "pycharm": {
     "name": "#%%\n"
    },
    "scrolled": true
   },
   "outputs": [],
   "source": [
    "count = 0\n",
    "index = []\n",
    "for i in range(len(df2)):\n",
    "    for j in range(len(df)):\n",
    "        dist = haversine((df2[:][\"위도\"][i],df2[:][\"경도\"][i]), (df[:][\"XCODE\"][j],df[:][\"YCODE\"][j]), unit = 'km')\n",
    "        count +=1\n",
    "        if dist <= 7.82 : #각 구간간 거리평균이 7.82\n",
    "            index.append([i,j])\n",
    "            "
   ]
  },
  {
   "cell_type": "code",
   "execution_count": 41,
   "id": "80e95073",
   "metadata": {
    "pycharm": {
     "name": "#%%\n"
    }
   },
   "outputs": [
    {
     "data": {
      "text/html": [
       "<div>\n",
       "<style scoped>\n",
       "    .dataframe tbody tr th:only-of-type {\n",
       "        vertical-align: middle;\n",
       "    }\n",
       "\n",
       "    .dataframe tbody tr th {\n",
       "        vertical-align: top;\n",
       "    }\n",
       "\n",
       "    .dataframe thead th {\n",
       "        text-align: right;\n",
       "    }\n",
       "</style>\n",
       "<table border=\"1\" class=\"dataframe\">\n",
       "  <thead>\n",
       "    <tr style=\"text-align: right;\">\n",
       "      <th></th>\n",
       "      <th>0</th>\n",
       "      <th>1</th>\n",
       "    </tr>\n",
       "  </thead>\n",
       "  <tbody>\n",
       "    <tr>\n",
       "      <th>0</th>\n",
       "      <td>0</td>\n",
       "      <td>1180</td>\n",
       "    </tr>\n",
       "    <tr>\n",
       "      <th>1</th>\n",
       "      <td>0</td>\n",
       "      <td>1182</td>\n",
       "    </tr>\n",
       "    <tr>\n",
       "      <th>2</th>\n",
       "      <td>0</td>\n",
       "      <td>1183</td>\n",
       "    </tr>\n",
       "    <tr>\n",
       "      <th>3</th>\n",
       "      <td>0</td>\n",
       "      <td>1649</td>\n",
       "    </tr>\n",
       "    <tr>\n",
       "      <th>4</th>\n",
       "      <td>0</td>\n",
       "      <td>1651</td>\n",
       "    </tr>\n",
       "    <tr>\n",
       "      <th>...</th>\n",
       "      <td>...</td>\n",
       "      <td>...</td>\n",
       "    </tr>\n",
       "    <tr>\n",
       "      <th>4328</th>\n",
       "      <td>496</td>\n",
       "      <td>1743</td>\n",
       "    </tr>\n",
       "    <tr>\n",
       "      <th>4329</th>\n",
       "      <td>496</td>\n",
       "      <td>2535</td>\n",
       "    </tr>\n",
       "    <tr>\n",
       "      <th>4330</th>\n",
       "      <td>496</td>\n",
       "      <td>2538</td>\n",
       "    </tr>\n",
       "    <tr>\n",
       "      <th>4331</th>\n",
       "      <td>496</td>\n",
       "      <td>2590</td>\n",
       "    </tr>\n",
       "    <tr>\n",
       "      <th>4332</th>\n",
       "      <td>496</td>\n",
       "      <td>2606</td>\n",
       "    </tr>\n",
       "  </tbody>\n",
       "</table>\n",
       "<p>4333 rows × 2 columns</p>\n",
       "</div>"
      ],
      "text/plain": [
       "        0     1\n",
       "0       0  1180\n",
       "1       0  1182\n",
       "2       0  1183\n",
       "3       0  1649\n",
       "4       0  1651\n",
       "...   ...   ...\n",
       "4328  496  1743\n",
       "4329  496  2535\n",
       "4330  496  2538\n",
       "4331  496  2590\n",
       "4332  496  2606\n",
       "\n",
       "[4333 rows x 2 columns]"
      ]
     },
     "execution_count": 41,
     "metadata": {},
     "output_type": "execute_result"
    }
   ],
   "source": [
    "index2 = pd.DataFrame(index)\n",
    "index2"
   ]
  },
  {
   "cell_type": "code",
   "execution_count": 42,
   "id": "f602cae1",
   "metadata": {
    "pycharm": {
     "name": "#%%\n"
    }
   },
   "outputs": [],
   "source": [
    "a=pd.DataFrame(df[[\"차로\", \"AADT\"]].iloc[index2[1]])\n",
    "a = a.reset_index()\n",
    "#index3.head(10)"
   ]
  },
  {
   "cell_type": "code",
   "execution_count": 43,
   "id": "8cb47985",
   "metadata": {},
   "outputs": [
    {
     "data": {
      "text/html": [
       "<div>\n",
       "<style scoped>\n",
       "    .dataframe tbody tr th:only-of-type {\n",
       "        vertical-align: middle;\n",
       "    }\n",
       "\n",
       "    .dataframe tbody tr th {\n",
       "        vertical-align: top;\n",
       "    }\n",
       "\n",
       "    .dataframe thead th {\n",
       "        text-align: right;\n",
       "    }\n",
       "</style>\n",
       "<table border=\"1\" class=\"dataframe\">\n",
       "  <thead>\n",
       "    <tr style=\"text-align: right;\">\n",
       "      <th></th>\n",
       "      <th>AADT</th>\n",
       "    </tr>\n",
       "    <tr>\n",
       "      <th>0</th>\n",
       "      <th></th>\n",
       "    </tr>\n",
       "  </thead>\n",
       "  <tbody>\n",
       "    <tr>\n",
       "      <th>0</th>\n",
       "      <td>7493.875000</td>\n",
       "    </tr>\n",
       "    <tr>\n",
       "      <th>1</th>\n",
       "      <td>3573.857143</td>\n",
       "    </tr>\n",
       "    <tr>\n",
       "      <th>2</th>\n",
       "      <td>3430.428571</td>\n",
       "    </tr>\n",
       "    <tr>\n",
       "      <th>3</th>\n",
       "      <td>3430.428571</td>\n",
       "    </tr>\n",
       "    <tr>\n",
       "      <th>4</th>\n",
       "      <td>34542.400000</td>\n",
       "    </tr>\n",
       "    <tr>\n",
       "      <th>...</th>\n",
       "      <td>...</td>\n",
       "    </tr>\n",
       "    <tr>\n",
       "      <th>492</th>\n",
       "      <td>34270.190476</td>\n",
       "    </tr>\n",
       "    <tr>\n",
       "      <th>493</th>\n",
       "      <td>34542.400000</td>\n",
       "    </tr>\n",
       "    <tr>\n",
       "      <th>494</th>\n",
       "      <td>34270.190476</td>\n",
       "    </tr>\n",
       "    <tr>\n",
       "      <th>495</th>\n",
       "      <td>26748.437500</td>\n",
       "    </tr>\n",
       "    <tr>\n",
       "      <th>496</th>\n",
       "      <td>17114.400000</td>\n",
       "    </tr>\n",
       "  </tbody>\n",
       "</table>\n",
       "<p>487 rows × 1 columns</p>\n",
       "</div>"
      ],
      "text/plain": [
       "             AADT\n",
       "0                \n",
       "0     7493.875000\n",
       "1     3573.857143\n",
       "2     3430.428571\n",
       "3     3430.428571\n",
       "4    34542.400000\n",
       "..            ...\n",
       "492  34270.190476\n",
       "493  34542.400000\n",
       "494  34270.190476\n",
       "495  26748.437500\n",
       "496  17114.400000\n",
       "\n",
       "[487 rows x 1 columns]"
      ]
     },
     "execution_count": 43,
     "metadata": {},
     "output_type": "execute_result"
    }
   ],
   "source": [
    "index3 = pd.concat([index2, a],axis =1)\n",
    "final = index3[[0,\"AADT\"]].groupby(0).mean()\n",
    "final"
   ]
  },
  {
   "cell_type": "code",
   "execution_count": 47,
   "id": "f62a7351",
   "metadata": {},
   "outputs": [
    {
     "data": {
      "text/plain": [
       "번호      497\n",
       "AADT    497\n",
       "dtype: int64"
      ]
     },
     "execution_count": 47,
     "metadata": {},
     "output_type": "execute_result"
    }
   ],
   "source": [
    "final2 = pd.concat([df2, final], axis = 1)\n",
    "final3 = final2[['번호', \"AADT\"]]\n",
    "final3.count()\n",
    "#결측값 약 200개 -> 평균으로 대체함\n",
    "final3 = final3.fillna(final3.mean())\n",
    "final3.count()"
   ]
  },
  {
   "cell_type": "code",
   "execution_count": 49,
   "id": "c9a6368e",
   "metadata": {},
   "outputs": [],
   "source": [
    "#데이터 디비에 올리기\n",
    "final3.to_sql(name = \"MainData_도은\", con=db_connection, if_exists='replace', index=False)"
   ]
  }
 ],
 "metadata": {
  "kernelspec": {
   "display_name": "Python 3",
   "language": "python",
   "name": "python3"
  },
  "language_info": {
   "codemirror_mode": {
    "name": "ipython",
    "version": 3
   },
   "file_extension": ".py",
   "mimetype": "text/x-python",
   "name": "python",
   "nbconvert_exporter": "python",
   "pygments_lexer": "ipython3",
   "version": "3.8.8"
  }
 },
 "nbformat": 4,
 "nbformat_minor": 5
}
