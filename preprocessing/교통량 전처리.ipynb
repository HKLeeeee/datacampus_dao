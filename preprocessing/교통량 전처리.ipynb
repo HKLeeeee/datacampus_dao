{
 "cells": [
  {
   "cell_type": "markdown",
   "id": "f0d63c22",
   "metadata": {},
   "source": [
    "# 데이터 불러오기"
   ]
  },
  {
   "cell_type": "code",
   "execution_count": 1,
   "id": "1386502a",
   "metadata": {},
   "outputs": [
    {
     "name": "stdout",
     "output_type": "stream",
     "text": [
      "Requirement already satisfied: sqlalchemy in c:\\programdata\\anaconda3\\lib\\site-packages (1.4.7)\n",
      "Requirement already satisfied: greenlet!=0.4.17 in c:\\programdata\\anaconda3\\lib\\site-packages (from sqlalchemy) (1.0.0)\n"
     ]
    }
   ],
   "source": [
    "!pip install sqlalchemy"
   ]
  },
  {
   "cell_type": "code",
   "execution_count": 2,
   "id": "a29d2ab7",
   "metadata": {
    "pycharm": {
     "name": "#%%\n"
    }
   },
   "outputs": [],
   "source": [
    "from sqlalchemy import create_engine\n",
    "import pymysql\n",
    "import pandas as pd"
   ]
  },
  {
   "cell_type": "code",
   "execution_count": 6,
   "id": "af17f687",
   "metadata": {
    "pycharm": {
     "name": "#%%\n"
    }
   },
   "outputs": [],
   "source": [
    "endpoint = 'dao.c51deksujiip.ap-northeast-2.rds.amazonaws.com'\n",
    "schema_name = 'dao'\n",
    "db_connection_str = 'mysql+pymysql://admin:ekfkawnl@{}/{}'.format(endpoint, schema_name )\n",
    "try :\n",
    "    db_connection = create_engine(db_connection_str)\n",
    "    conn = db_connection.connect()\n",
    "except :\n",
    "    print('fail to connect db')"
   ]
  },
  {
   "cell_type": "code",
   "execution_count": 7,
   "id": "66e630c1",
   "metadata": {
    "pycharm": {
     "name": "#%%\n"
    }
   },
   "outputs": [],
   "source": [
    "# 교통량 데이터 불러오기\n",
    "sql = \"SELECT * FROM {}\".format(\"교통량_2021\")\n",
    "df = pd.read_sql(sql, db_connection)"
   ]
  },
  {
   "cell_type": "code",
   "execution_count": 8,
   "id": "f3191a10",
   "metadata": {
    "pycharm": {
     "name": "#%%\n"
    }
   },
   "outputs": [],
   "source": [
    "# 메인 데이터 불러오기\n",
    "sql2 = \"select * from {}\".format(\"MainData\")\n",
    "df2 = pd.read_sql(sql2, db_connection)"
   ]
  },
  {
   "cell_type": "markdown",
   "id": "2099e676",
   "metadata": {},
   "source": [
    "# 일정 범위 이내에 교통량 비교하기"
   ]
  },
  {
   "cell_type": "code",
   "execution_count": 7,
   "id": "f03aec05",
   "metadata": {
    "pycharm": {
     "name": "#%%\n"
    },
    "scrolled": true
   },
   "outputs": [
    {
     "name": "stdout",
     "output_type": "stream",
     "text": [
      "Collecting haversine\n",
      "  Downloading haversine-2.6.0-py2.py3-none-any.whl (6.8 kB)\n",
      "Installing collected packages: haversine\n",
      "Successfully installed haversine-2.6.0\n"
     ]
    }
   ],
   "source": [
    "!pip install haversine"
   ]
  },
  {
   "cell_type": "markdown",
   "id": "6be21f33",
   "metadata": {},
   "source": [
    "## 필요한 패키지 불러오기"
   ]
  },
  {
   "cell_type": "code",
   "execution_count": 10,
   "id": "0781401a",
   "metadata": {
    "pycharm": {
     "name": "#%%\n"
    }
   },
   "outputs": [],
   "source": [
    "from haversine import haversine\n",
    "import numpy as np"
   ]
  },
  {
   "cell_type": "code",
   "execution_count": 12,
   "id": "6b55dc80",
   "metadata": {
    "pycharm": {
     "name": "#%%\n"
    },
    "scrolled": true
   },
   "outputs": [
    {
     "data": {
      "text/plain": [
       "Index(['연도', '도로종류', '지점번호', '호선', '구간', '차로', '도/시', '시/군', '읍/면', '동/리',\n",
       "       '구분', 'AADT', 'XCODE', 'YCODE'],\n",
       "      dtype='object')"
      ]
     },
     "execution_count": 12,
     "metadata": {},
     "output_type": "execute_result"
    }
   ],
   "source": [
    "df.columns"
   ]
  },
  {
   "cell_type": "markdown",
   "id": "16866d22",
   "metadata": {},
   "source": [
    "## 7.8km 이내에 교통량 찾기 "
   ]
  },
  {
   "cell_type": "code",
   "execution_count": 13,
   "id": "3fdeb850",
   "metadata": {
    "pycharm": {
     "name": "#%%\n"
    },
    "scrolled": true
   },
   "outputs": [],
   "source": [
    "count = 0\n",
    "index = []\n",
    "for i in range(len(df2)):\n",
    "    for j in range(len(df)):\n",
    "        dist = haversine((df2[:][\"위도\"][i],df2[:][\"경도\"][i]), (df[:][\"XCODE\"][j],df[:][\"YCODE\"][j]), unit = 'km')\n",
    "        count +=1\n",
    "        if dist <= 7.82 : #각 구간간 거리평균이 7.82\n",
    "            index.append([i,j]) # 7.8km 이내에 있는 교통량의 인덱스 리스트에 넣기            "
   ]
  },
  {
   "cell_type": "code",
   "execution_count": 14,
   "id": "80e95073",
   "metadata": {
    "pycharm": {
     "name": "#%%\n"
    }
   },
   "outputs": [
    {
     "data": {
      "text/html": [
       "<div>\n",
       "<style scoped>\n",
       "    .dataframe tbody tr th:only-of-type {\n",
       "        vertical-align: middle;\n",
       "    }\n",
       "\n",
       "    .dataframe tbody tr th {\n",
       "        vertical-align: top;\n",
       "    }\n",
       "\n",
       "    .dataframe thead th {\n",
       "        text-align: right;\n",
       "    }\n",
       "</style>\n",
       "<table border=\"1\" class=\"dataframe\">\n",
       "  <thead>\n",
       "    <tr style=\"text-align: right;\">\n",
       "      <th></th>\n",
       "      <th>0</th>\n",
       "      <th>1</th>\n",
       "    </tr>\n",
       "  </thead>\n",
       "  <tbody>\n",
       "    <tr>\n",
       "      <th>0</th>\n",
       "      <td>0</td>\n",
       "      <td>1180</td>\n",
       "    </tr>\n",
       "    <tr>\n",
       "      <th>1</th>\n",
       "      <td>0</td>\n",
       "      <td>1182</td>\n",
       "    </tr>\n",
       "    <tr>\n",
       "      <th>2</th>\n",
       "      <td>0</td>\n",
       "      <td>1183</td>\n",
       "    </tr>\n",
       "    <tr>\n",
       "      <th>3</th>\n",
       "      <td>0</td>\n",
       "      <td>1649</td>\n",
       "    </tr>\n",
       "    <tr>\n",
       "      <th>4</th>\n",
       "      <td>0</td>\n",
       "      <td>1651</td>\n",
       "    </tr>\n",
       "    <tr>\n",
       "      <th>...</th>\n",
       "      <td>...</td>\n",
       "      <td>...</td>\n",
       "    </tr>\n",
       "    <tr>\n",
       "      <th>4338</th>\n",
       "      <td>496</td>\n",
       "      <td>1743</td>\n",
       "    </tr>\n",
       "    <tr>\n",
       "      <th>4339</th>\n",
       "      <td>496</td>\n",
       "      <td>2535</td>\n",
       "    </tr>\n",
       "    <tr>\n",
       "      <th>4340</th>\n",
       "      <td>496</td>\n",
       "      <td>2538</td>\n",
       "    </tr>\n",
       "    <tr>\n",
       "      <th>4341</th>\n",
       "      <td>496</td>\n",
       "      <td>2590</td>\n",
       "    </tr>\n",
       "    <tr>\n",
       "      <th>4342</th>\n",
       "      <td>496</td>\n",
       "      <td>2606</td>\n",
       "    </tr>\n",
       "  </tbody>\n",
       "</table>\n",
       "<p>4343 rows × 2 columns</p>\n",
       "</div>"
      ],
      "text/plain": [
       "        0     1\n",
       "0       0  1180\n",
       "1       0  1182\n",
       "2       0  1183\n",
       "3       0  1649\n",
       "4       0  1651\n",
       "...   ...   ...\n",
       "4338  496  1743\n",
       "4339  496  2535\n",
       "4340  496  2538\n",
       "4341  496  2590\n",
       "4342  496  2606\n",
       "\n",
       "[4343 rows x 2 columns]"
      ]
     },
     "execution_count": 14,
     "metadata": {},
     "output_type": "execute_result"
    }
   ],
   "source": [
    "# 리스트 데이터 프레임으로 만들기\n",
    "index2 = pd.DataFrame(index) # 0 : 생태통로 index, 1: 교통량 index\n",
    "index2"
   ]
  },
  {
   "cell_type": "code",
   "execution_count": 15,
   "id": "f602cae1",
   "metadata": {
    "pycharm": {
     "name": "#%%\n"
    }
   },
   "outputs": [],
   "source": [
    "# 교통량 값만 불러오기\n",
    "a=pd.DataFrame(df[\"AADT\"].iloc[index2[1]])\n",
    "a = a.reset_index()"
   ]
  },
  {
   "cell_type": "code",
   "execution_count": 16,
   "id": "8cb47985",
   "metadata": {},
   "outputs": [
    {
     "data": {
      "text/html": [
       "<div>\n",
       "<style scoped>\n",
       "    .dataframe tbody tr th:only-of-type {\n",
       "        vertical-align: middle;\n",
       "    }\n",
       "\n",
       "    .dataframe tbody tr th {\n",
       "        vertical-align: top;\n",
       "    }\n",
       "\n",
       "    .dataframe thead th {\n",
       "        text-align: right;\n",
       "    }\n",
       "</style>\n",
       "<table border=\"1\" class=\"dataframe\">\n",
       "  <thead>\n",
       "    <tr style=\"text-align: right;\">\n",
       "      <th></th>\n",
       "      <th>AADT</th>\n",
       "    </tr>\n",
       "    <tr>\n",
       "      <th>0</th>\n",
       "      <th></th>\n",
       "    </tr>\n",
       "  </thead>\n",
       "  <tbody>\n",
       "    <tr>\n",
       "      <th>0</th>\n",
       "      <td>7493.875000</td>\n",
       "    </tr>\n",
       "    <tr>\n",
       "      <th>1</th>\n",
       "      <td>3573.857143</td>\n",
       "    </tr>\n",
       "    <tr>\n",
       "      <th>2</th>\n",
       "      <td>3430.428571</td>\n",
       "    </tr>\n",
       "    <tr>\n",
       "      <th>3</th>\n",
       "      <td>3430.428571</td>\n",
       "    </tr>\n",
       "    <tr>\n",
       "      <th>4</th>\n",
       "      <td>34270.190476</td>\n",
       "    </tr>\n",
       "    <tr>\n",
       "      <th>...</th>\n",
       "      <td>...</td>\n",
       "    </tr>\n",
       "    <tr>\n",
       "      <th>492</th>\n",
       "      <td>34270.190476</td>\n",
       "    </tr>\n",
       "    <tr>\n",
       "      <th>493</th>\n",
       "      <td>34542.400000</td>\n",
       "    </tr>\n",
       "    <tr>\n",
       "      <th>494</th>\n",
       "      <td>34270.190476</td>\n",
       "    </tr>\n",
       "    <tr>\n",
       "      <th>495</th>\n",
       "      <td>26748.437500</td>\n",
       "    </tr>\n",
       "    <tr>\n",
       "      <th>496</th>\n",
       "      <td>17114.400000</td>\n",
       "    </tr>\n",
       "  </tbody>\n",
       "</table>\n",
       "<p>487 rows × 1 columns</p>\n",
       "</div>"
      ],
      "text/plain": [
       "             AADT\n",
       "0                \n",
       "0     7493.875000\n",
       "1     3573.857143\n",
       "2     3430.428571\n",
       "3     3430.428571\n",
       "4    34270.190476\n",
       "..            ...\n",
       "492  34270.190476\n",
       "493  34542.400000\n",
       "494  34270.190476\n",
       "495  26748.437500\n",
       "496  17114.400000\n",
       "\n",
       "[487 rows x 1 columns]"
      ]
     },
     "execution_count": 16,
     "metadata": {},
     "output_type": "execute_result"
    }
   ],
   "source": [
    "# 교통량 값이랑 인덱스 데이터 프레임이랑 합치기 \n",
    "index3 = pd.concat([index2, a],axis =1)\n",
    "\n",
    "# 하나의 생태통로에 여러개의 교통량이 관측되면 평균값으로 계산\n",
    "final = index3[[0,\"AADT\"]].groupby(0).mean()\n",
    "final"
   ]
  },
  {
   "cell_type": "code",
   "execution_count": 62,
   "id": "7e3b72d2",
   "metadata": {},
   "outputs": [
    {
     "data": {
      "text/html": [
       "<div>\n",
       "<style scoped>\n",
       "    .dataframe tbody tr th:only-of-type {\n",
       "        vertical-align: middle;\n",
       "    }\n",
       "\n",
       "    .dataframe tbody tr th {\n",
       "        vertical-align: top;\n",
       "    }\n",
       "\n",
       "    .dataframe thead th {\n",
       "        text-align: right;\n",
       "    }\n",
       "</style>\n",
       "<table border=\"1\" class=\"dataframe\">\n",
       "  <thead>\n",
       "    <tr style=\"text-align: right;\">\n",
       "      <th></th>\n",
       "      <th>번호</th>\n",
       "      <th>AADT</th>\n",
       "    </tr>\n",
       "  </thead>\n",
       "  <tbody>\n",
       "    <tr>\n",
       "      <th>0</th>\n",
       "      <td>1495</td>\n",
       "      <td>7493.875000</td>\n",
       "    </tr>\n",
       "    <tr>\n",
       "      <th>1</th>\n",
       "      <td>1277</td>\n",
       "      <td>3573.857143</td>\n",
       "    </tr>\n",
       "    <tr>\n",
       "      <th>2</th>\n",
       "      <td>1278</td>\n",
       "      <td>3430.428571</td>\n",
       "    </tr>\n",
       "    <tr>\n",
       "      <th>3</th>\n",
       "      <td>1279</td>\n",
       "      <td>3430.428571</td>\n",
       "    </tr>\n",
       "    <tr>\n",
       "      <th>4</th>\n",
       "      <td>1090</td>\n",
       "      <td>34270.190476</td>\n",
       "    </tr>\n",
       "    <tr>\n",
       "      <th>...</th>\n",
       "      <td>...</td>\n",
       "      <td>...</td>\n",
       "    </tr>\n",
       "    <tr>\n",
       "      <th>492</th>\n",
       "      <td>1089</td>\n",
       "      <td>34270.190476</td>\n",
       "    </tr>\n",
       "    <tr>\n",
       "      <th>493</th>\n",
       "      <td>1087</td>\n",
       "      <td>34542.400000</td>\n",
       "    </tr>\n",
       "    <tr>\n",
       "      <th>494</th>\n",
       "      <td>1088</td>\n",
       "      <td>34270.190476</td>\n",
       "    </tr>\n",
       "    <tr>\n",
       "      <th>495</th>\n",
       "      <td>1091</td>\n",
       "      <td>26748.437500</td>\n",
       "    </tr>\n",
       "    <tr>\n",
       "      <th>496</th>\n",
       "      <td>1072</td>\n",
       "      <td>17114.400000</td>\n",
       "    </tr>\n",
       "  </tbody>\n",
       "</table>\n",
       "<p>497 rows × 2 columns</p>\n",
       "</div>"
      ],
      "text/plain": [
       "       번호          AADT\n",
       "0    1495   7493.875000\n",
       "1    1277   3573.857143\n",
       "2    1278   3430.428571\n",
       "3    1279   3430.428571\n",
       "4    1090  34270.190476\n",
       "..    ...           ...\n",
       "492  1089  34270.190476\n",
       "493  1087  34542.400000\n",
       "494  1088  34270.190476\n",
       "495  1091  26748.437500\n",
       "496  1072  17114.400000\n",
       "\n",
       "[497 rows x 2 columns]"
      ]
     },
     "execution_count": 62,
     "metadata": {},
     "output_type": "execute_result"
    }
   ],
   "source": [
    "final2 = pd.concat([df2['번호'], final], axis = 1)\n",
    "final2"
   ]
  },
  {
   "cell_type": "markdown",
   "id": "3142bd05",
   "metadata": {},
   "source": [
    "# 데이터 베이스에 올리기"
   ]
  },
  {
   "cell_type": "code",
   "execution_count": null,
   "id": "325af3cc",
   "metadata": {},
   "outputs": [],
   "source": [
    "final2.to_sql('MainData_도은', con=db_connection, if_exists='replace', index=False)"
   ]
  }
 ],
 "metadata": {
  "kernelspec": {
   "display_name": "Python 3",
   "language": "python",
   "name": "python3"
  },
  "language_info": {
   "codemirror_mode": {
    "name": "ipython",
    "version": 3
   },
   "file_extension": ".py",
   "mimetype": "text/x-python",
   "name": "python",
   "nbconvert_exporter": "python",
   "pygments_lexer": "ipython3",
   "version": "3.8.8"
  }
 },
 "nbformat": 4,
 "nbformat_minor": 5
}
