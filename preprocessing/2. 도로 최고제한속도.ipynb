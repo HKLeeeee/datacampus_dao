{
 "cells": [
  {
   "cell_type": "code",
   "execution_count": 1,
   "metadata": {},
   "outputs": [],
   "source": [
    "from DB import *\n",
    "db_connection = connect_db()"
   ]
  },
  {
   "cell_type": "code",
   "execution_count": 2,
   "metadata": {},
   "outputs": [
    {
     "data": {
      "text/plain": "       번호        위도         경도      폭     연장  높이  개방도  차선_수  생태통로타입  등산객이용빈도  \\\n0    1495  35.36019  128.06375   5.00   45.0 NaN  NaN     4       0        1   \n1    1277  37.03408  128.40661    NaN    NaN NaN  NaN     2       1        0   \n2    1278  36.89832  128.30563    NaN    NaN NaN  NaN     2       1        0   \n3    1279  36.89687  128.30581    NaN    NaN NaN  NaN     2       1        0   \n4    1090  36.71051  127.42222   8.23   38.0 NaN  NaN     6       0        5   \n..    ...       ...        ...    ...    ...  ..  ...   ...     ...      ...   \n492  1089  36.71278  127.42056  13.30   50.7 NaN  NaN     6       0        0   \n493  1087  36.71722  127.41778  13.60   38.7 NaN  NaN     4       0        5   \n494  1088  36.71222  127.42528  13.30   50.7 NaN  NaN     4       0        5   \n495  1091  36.76750  127.47333   7.00   20.0 NaN  NaN     2       0        0   \n496  1072  36.65293  127.51278  35.00  100.0 NaN  NaN     6       0        5   \n\n     생태통로효율성  \n0          3  \n1          3  \n2          1  \n3          1  \n4          1  \n..       ...  \n492        0  \n493        0  \n494        0  \n495        0  \n496        0  \n\n[497 rows x 11 columns]",
      "text/html": "<div>\n<style scoped>\n    .dataframe tbody tr th:only-of-type {\n        vertical-align: middle;\n    }\n\n    .dataframe tbody tr th {\n        vertical-align: top;\n    }\n\n    .dataframe thead th {\n        text-align: right;\n    }\n</style>\n<table border=\"1\" class=\"dataframe\">\n  <thead>\n    <tr style=\"text-align: right;\">\n      <th></th>\n      <th>번호</th>\n      <th>위도</th>\n      <th>경도</th>\n      <th>폭</th>\n      <th>연장</th>\n      <th>높이</th>\n      <th>개방도</th>\n      <th>차선_수</th>\n      <th>생태통로타입</th>\n      <th>등산객이용빈도</th>\n      <th>생태통로효율성</th>\n    </tr>\n  </thead>\n  <tbody>\n    <tr>\n      <th>0</th>\n      <td>1495</td>\n      <td>35.36019</td>\n      <td>128.06375</td>\n      <td>5.00</td>\n      <td>45.0</td>\n      <td>NaN</td>\n      <td>NaN</td>\n      <td>4</td>\n      <td>0</td>\n      <td>1</td>\n      <td>3</td>\n    </tr>\n    <tr>\n      <th>1</th>\n      <td>1277</td>\n      <td>37.03408</td>\n      <td>128.40661</td>\n      <td>NaN</td>\n      <td>NaN</td>\n      <td>NaN</td>\n      <td>NaN</td>\n      <td>2</td>\n      <td>1</td>\n      <td>0</td>\n      <td>3</td>\n    </tr>\n    <tr>\n      <th>2</th>\n      <td>1278</td>\n      <td>36.89832</td>\n      <td>128.30563</td>\n      <td>NaN</td>\n      <td>NaN</td>\n      <td>NaN</td>\n      <td>NaN</td>\n      <td>2</td>\n      <td>1</td>\n      <td>0</td>\n      <td>1</td>\n    </tr>\n    <tr>\n      <th>3</th>\n      <td>1279</td>\n      <td>36.89687</td>\n      <td>128.30581</td>\n      <td>NaN</td>\n      <td>NaN</td>\n      <td>NaN</td>\n      <td>NaN</td>\n      <td>2</td>\n      <td>1</td>\n      <td>0</td>\n      <td>1</td>\n    </tr>\n    <tr>\n      <th>4</th>\n      <td>1090</td>\n      <td>36.71051</td>\n      <td>127.42222</td>\n      <td>8.23</td>\n      <td>38.0</td>\n      <td>NaN</td>\n      <td>NaN</td>\n      <td>6</td>\n      <td>0</td>\n      <td>5</td>\n      <td>1</td>\n    </tr>\n    <tr>\n      <th>...</th>\n      <td>...</td>\n      <td>...</td>\n      <td>...</td>\n      <td>...</td>\n      <td>...</td>\n      <td>...</td>\n      <td>...</td>\n      <td>...</td>\n      <td>...</td>\n      <td>...</td>\n      <td>...</td>\n    </tr>\n    <tr>\n      <th>492</th>\n      <td>1089</td>\n      <td>36.71278</td>\n      <td>127.42056</td>\n      <td>13.30</td>\n      <td>50.7</td>\n      <td>NaN</td>\n      <td>NaN</td>\n      <td>6</td>\n      <td>0</td>\n      <td>0</td>\n      <td>0</td>\n    </tr>\n    <tr>\n      <th>493</th>\n      <td>1087</td>\n      <td>36.71722</td>\n      <td>127.41778</td>\n      <td>13.60</td>\n      <td>38.7</td>\n      <td>NaN</td>\n      <td>NaN</td>\n      <td>4</td>\n      <td>0</td>\n      <td>5</td>\n      <td>0</td>\n    </tr>\n    <tr>\n      <th>494</th>\n      <td>1088</td>\n      <td>36.71222</td>\n      <td>127.42528</td>\n      <td>13.30</td>\n      <td>50.7</td>\n      <td>NaN</td>\n      <td>NaN</td>\n      <td>4</td>\n      <td>0</td>\n      <td>5</td>\n      <td>0</td>\n    </tr>\n    <tr>\n      <th>495</th>\n      <td>1091</td>\n      <td>36.76750</td>\n      <td>127.47333</td>\n      <td>7.00</td>\n      <td>20.0</td>\n      <td>NaN</td>\n      <td>NaN</td>\n      <td>2</td>\n      <td>0</td>\n      <td>0</td>\n      <td>0</td>\n    </tr>\n    <tr>\n      <th>496</th>\n      <td>1072</td>\n      <td>36.65293</td>\n      <td>127.51278</td>\n      <td>35.00</td>\n      <td>100.0</td>\n      <td>NaN</td>\n      <td>NaN</td>\n      <td>6</td>\n      <td>0</td>\n      <td>5</td>\n      <td>0</td>\n    </tr>\n  </tbody>\n</table>\n<p>497 rows × 11 columns</p>\n</div>"
     },
     "execution_count": 2,
     "metadata": {},
     "output_type": "execute_result"
    }
   ],
   "source": [
    "main = load_data_from_rds('생태통로', db_connection)\n",
    "main"
   ]
  },
  {
   "cell_type": "code",
   "execution_count": 26,
   "metadata": {},
   "outputs": [
    {
     "data": {
      "text/plain": "       번호          생태통로명                              주소         도로명  \\\n0    1001           중동터널                    서울특별시 구로구 궁동        계남큰길   \n1    1002         개좌생태터널              부산광역시 금정구 회동동 산4-1         개좌로   \n2    1004        곰내 생태통로               부산광역시 기장군 철마면 웅천리          군도   \n3    1005     정관예림리 생태통로               부산광역시 기장군 정관면 예림리         국지도   \n4    1006       을숙도 생태통로                   부산광역시 사하구 하단동        낙동남로   \n..    ...            ...                             ...         ...   \n531  1564           삼척노곡          강원도 삼척시 원덕읍 노곡리 산146-3         국도    \n532  1565           절토육교               경기도 의왕시 월암동 산46-3  서수원~의왕간 도로   \n533  1566         동물이동통로              경기도 의왕시 고천동 산55-5   서수원~의왕간 도로   \n534  1567            NaN          경기도 영중면 거사리 산3-22번지 일원          중로   \n535  1568  한북정맥(비득재) 생태축  경기도 소흘읍 직동리 산9-5번지 일원(죽엽산 비득재)         지방도   \n\n          도로번호 차선_수_도로정보 위도_도  위도_분              위도_초  경도_도  경도_분  \\\n0          NaN     왕복6차로   37  30.0             23.37   126  49.0   \n1            0     왕복2차선   35  15.0              6.05   129   8.0   \n2         19호선     왕복2차선   35  18.0              20.8   129  10.0   \n3          60호     왕복4차선   35  19.0             46.80   129  12.0   \n4         1240     왕복7차선   35   6.0  31.8463200000076   128  56.0   \n..         ...       ...  ...   ...               ...   ...   ...   \n531        7호선     왕복4차선   37  12.0             33.19   129  20.0   \n532  지방도 309호선     왕복6차선   37  19.0              2.04   126  57.0   \n533   지방도309호선     왕복6차선   37  20.0             11.80   126  58.0   \n534       3-30     왕복2차선   37  59.0              30.6   127  13.0   \n535        383     왕복2차선   37  47.0              10.6   127   9.0   \n\n                경도_초  \n0              51.56  \n1              27.31  \n2               19.2  \n3              11.90  \n4    28.469039999984  \n..               ...  \n531            14.09  \n532               59  \n533            23.42  \n534            43.23  \n535            53.33  \n\n[536 rows x 12 columns]",
      "text/html": "<div>\n<style scoped>\n    .dataframe tbody tr th:only-of-type {\n        vertical-align: middle;\n    }\n\n    .dataframe tbody tr th {\n        vertical-align: top;\n    }\n\n    .dataframe thead th {\n        text-align: right;\n    }\n</style>\n<table border=\"1\" class=\"dataframe\">\n  <thead>\n    <tr style=\"text-align: right;\">\n      <th></th>\n      <th>번호</th>\n      <th>생태통로명</th>\n      <th>주소</th>\n      <th>도로명</th>\n      <th>도로번호</th>\n      <th>차선_수_도로정보</th>\n      <th>위도_도</th>\n      <th>위도_분</th>\n      <th>위도_초</th>\n      <th>경도_도</th>\n      <th>경도_분</th>\n      <th>경도_초</th>\n    </tr>\n  </thead>\n  <tbody>\n    <tr>\n      <th>0</th>\n      <td>1001</td>\n      <td>중동터널</td>\n      <td>서울특별시 구로구 궁동</td>\n      <td>계남큰길</td>\n      <td>NaN</td>\n      <td>왕복6차로</td>\n      <td>37</td>\n      <td>30.0</td>\n      <td>23.37</td>\n      <td>126</td>\n      <td>49.0</td>\n      <td>51.56</td>\n    </tr>\n    <tr>\n      <th>1</th>\n      <td>1002</td>\n      <td>개좌생태터널</td>\n      <td>부산광역시 금정구 회동동 산4-1</td>\n      <td>개좌로</td>\n      <td>0</td>\n      <td>왕복2차선</td>\n      <td>35</td>\n      <td>15.0</td>\n      <td>6.05</td>\n      <td>129</td>\n      <td>8.0</td>\n      <td>27.31</td>\n    </tr>\n    <tr>\n      <th>2</th>\n      <td>1004</td>\n      <td>곰내 생태통로</td>\n      <td>부산광역시 기장군 철마면 웅천리</td>\n      <td>군도</td>\n      <td>19호선</td>\n      <td>왕복2차선</td>\n      <td>35</td>\n      <td>18.0</td>\n      <td>20.8</td>\n      <td>129</td>\n      <td>10.0</td>\n      <td>19.2</td>\n    </tr>\n    <tr>\n      <th>3</th>\n      <td>1005</td>\n      <td>정관예림리 생태통로</td>\n      <td>부산광역시 기장군 정관면 예림리</td>\n      <td>국지도</td>\n      <td>60호</td>\n      <td>왕복4차선</td>\n      <td>35</td>\n      <td>19.0</td>\n      <td>46.80</td>\n      <td>129</td>\n      <td>12.0</td>\n      <td>11.90</td>\n    </tr>\n    <tr>\n      <th>4</th>\n      <td>1006</td>\n      <td>을숙도 생태통로</td>\n      <td>부산광역시 사하구 하단동</td>\n      <td>낙동남로</td>\n      <td>1240</td>\n      <td>왕복7차선</td>\n      <td>35</td>\n      <td>6.0</td>\n      <td>31.8463200000076</td>\n      <td>128</td>\n      <td>56.0</td>\n      <td>28.469039999984</td>\n    </tr>\n    <tr>\n      <th>...</th>\n      <td>...</td>\n      <td>...</td>\n      <td>...</td>\n      <td>...</td>\n      <td>...</td>\n      <td>...</td>\n      <td>...</td>\n      <td>...</td>\n      <td>...</td>\n      <td>...</td>\n      <td>...</td>\n      <td>...</td>\n    </tr>\n    <tr>\n      <th>531</th>\n      <td>1564</td>\n      <td>삼척노곡</td>\n      <td>강원도 삼척시 원덕읍 노곡리 산146-3</td>\n      <td>국도</td>\n      <td>7호선</td>\n      <td>왕복4차선</td>\n      <td>37</td>\n      <td>12.0</td>\n      <td>33.19</td>\n      <td>129</td>\n      <td>20.0</td>\n      <td>14.09</td>\n    </tr>\n    <tr>\n      <th>532</th>\n      <td>1565</td>\n      <td>절토육교</td>\n      <td>경기도 의왕시 월암동 산46-3</td>\n      <td>서수원~의왕간 도로</td>\n      <td>지방도 309호선</td>\n      <td>왕복6차선</td>\n      <td>37</td>\n      <td>19.0</td>\n      <td>2.04</td>\n      <td>126</td>\n      <td>57.0</td>\n      <td>59</td>\n    </tr>\n    <tr>\n      <th>533</th>\n      <td>1566</td>\n      <td>동물이동통로</td>\n      <td>경기도 의왕시 고천동 산55-5</td>\n      <td>서수원~의왕간 도로</td>\n      <td>지방도309호선</td>\n      <td>왕복6차선</td>\n      <td>37</td>\n      <td>20.0</td>\n      <td>11.80</td>\n      <td>126</td>\n      <td>58.0</td>\n      <td>23.42</td>\n    </tr>\n    <tr>\n      <th>534</th>\n      <td>1567</td>\n      <td>NaN</td>\n      <td>경기도 영중면 거사리 산3-22번지 일원</td>\n      <td>중로</td>\n      <td>3-30</td>\n      <td>왕복2차선</td>\n      <td>37</td>\n      <td>59.0</td>\n      <td>30.6</td>\n      <td>127</td>\n      <td>13.0</td>\n      <td>43.23</td>\n    </tr>\n    <tr>\n      <th>535</th>\n      <td>1568</td>\n      <td>한북정맥(비득재) 생태축</td>\n      <td>경기도 소흘읍 직동리 산9-5번지 일원(죽엽산 비득재)</td>\n      <td>지방도</td>\n      <td>383</td>\n      <td>왕복2차선</td>\n      <td>37</td>\n      <td>47.0</td>\n      <td>10.6</td>\n      <td>127</td>\n      <td>9.0</td>\n      <td>53.33</td>\n    </tr>\n  </tbody>\n</table>\n<p>536 rows × 12 columns</p>\n</div>"
     },
     "execution_count": 26,
     "metadata": {},
     "output_type": "execute_result"
    }
   ],
   "source": [
    "ecopath_list = pd.read_csv('../data/main/생태통로현황_2022.csv', encoding='cp949') # 도로 관련 정보를 포함하고 있는 데이터\n",
    "ecopath_list.rename(columns={'차선_수':'차선_수_도로정보'}, inplace=True)\n",
    "ecopath_list"
   ]
  },
  {
   "cell_type": "code",
   "execution_count": 27,
   "metadata": {},
   "outputs": [
    {
     "data": {
      "text/plain": "       번호        위도         경도      폭     연장  높이  개방도  차선_수  생태통로타입  등산객이용빈도  \\\n0    1495  35.36019  128.06375   5.00   45.0 NaN  NaN     4       0        1   \n1    1277  37.03408  128.40661    NaN    NaN NaN  NaN     2       1        0   \n2    1278  36.89832  128.30563    NaN    NaN NaN  NaN     2       1        0   \n3    1279  36.89687  128.30581    NaN    NaN NaN  NaN     2       1        0   \n4    1090  36.71051  127.42222   8.23   38.0 NaN  NaN     6       0        5   \n..    ...       ...        ...    ...    ...  ..  ...   ...     ...      ...   \n492  1089  36.71278  127.42056  13.30   50.7 NaN  NaN     6       0        0   \n493  1087  36.71722  127.41778  13.60   38.7 NaN  NaN     4       0        5   \n494  1088  36.71222  127.42528  13.30   50.7 NaN  NaN     4       0        5   \n495  1091  36.76750  127.47333   7.00   20.0 NaN  NaN     2       0        0   \n496  1072  36.65293  127.51278  35.00  100.0 NaN  NaN     6       0        5   \n\n     생태통로효율성     도로명               도로번호  차선_수_도로정보  \n0          3    일반국도               20호선      왕복4차선  \n1          3      국도               59호선      왕복2차선  \n2          1      국도               59호선      왕복2차선  \n3          1      국도               59호선      왕복2차선  \n4          1     지방도               540호      왕복6차선  \n..       ...     ...                ...        ...  \n492        0  과학산업2로           구룡리 472도      왕복6차선  \n493        0   오창공원로           구룡리 442도      왕복4차선  \n494        0   오창공원로  양청리 882도(호수공원 주변)      왕복4차선  \n495        0      리도              213호선      왕복2차선  \n496        0    1순환로           산 128-1도  하부 왕복 6차선  \n\n[497 rows x 14 columns]",
      "text/html": "<div>\n<style scoped>\n    .dataframe tbody tr th:only-of-type {\n        vertical-align: middle;\n    }\n\n    .dataframe tbody tr th {\n        vertical-align: top;\n    }\n\n    .dataframe thead th {\n        text-align: right;\n    }\n</style>\n<table border=\"1\" class=\"dataframe\">\n  <thead>\n    <tr style=\"text-align: right;\">\n      <th></th>\n      <th>번호</th>\n      <th>위도</th>\n      <th>경도</th>\n      <th>폭</th>\n      <th>연장</th>\n      <th>높이</th>\n      <th>개방도</th>\n      <th>차선_수</th>\n      <th>생태통로타입</th>\n      <th>등산객이용빈도</th>\n      <th>생태통로효율성</th>\n      <th>도로명</th>\n      <th>도로번호</th>\n      <th>차선_수_도로정보</th>\n    </tr>\n  </thead>\n  <tbody>\n    <tr>\n      <th>0</th>\n      <td>1495</td>\n      <td>35.36019</td>\n      <td>128.06375</td>\n      <td>5.00</td>\n      <td>45.0</td>\n      <td>NaN</td>\n      <td>NaN</td>\n      <td>4</td>\n      <td>0</td>\n      <td>1</td>\n      <td>3</td>\n      <td>일반국도</td>\n      <td>20호선</td>\n      <td>왕복4차선</td>\n    </tr>\n    <tr>\n      <th>1</th>\n      <td>1277</td>\n      <td>37.03408</td>\n      <td>128.40661</td>\n      <td>NaN</td>\n      <td>NaN</td>\n      <td>NaN</td>\n      <td>NaN</td>\n      <td>2</td>\n      <td>1</td>\n      <td>0</td>\n      <td>3</td>\n      <td>국도</td>\n      <td>59호선</td>\n      <td>왕복2차선</td>\n    </tr>\n    <tr>\n      <th>2</th>\n      <td>1278</td>\n      <td>36.89832</td>\n      <td>128.30563</td>\n      <td>NaN</td>\n      <td>NaN</td>\n      <td>NaN</td>\n      <td>NaN</td>\n      <td>2</td>\n      <td>1</td>\n      <td>0</td>\n      <td>1</td>\n      <td>국도</td>\n      <td>59호선</td>\n      <td>왕복2차선</td>\n    </tr>\n    <tr>\n      <th>3</th>\n      <td>1279</td>\n      <td>36.89687</td>\n      <td>128.30581</td>\n      <td>NaN</td>\n      <td>NaN</td>\n      <td>NaN</td>\n      <td>NaN</td>\n      <td>2</td>\n      <td>1</td>\n      <td>0</td>\n      <td>1</td>\n      <td>국도</td>\n      <td>59호선</td>\n      <td>왕복2차선</td>\n    </tr>\n    <tr>\n      <th>4</th>\n      <td>1090</td>\n      <td>36.71051</td>\n      <td>127.42222</td>\n      <td>8.23</td>\n      <td>38.0</td>\n      <td>NaN</td>\n      <td>NaN</td>\n      <td>6</td>\n      <td>0</td>\n      <td>5</td>\n      <td>1</td>\n      <td>지방도</td>\n      <td>540호</td>\n      <td>왕복6차선</td>\n    </tr>\n    <tr>\n      <th>...</th>\n      <td>...</td>\n      <td>...</td>\n      <td>...</td>\n      <td>...</td>\n      <td>...</td>\n      <td>...</td>\n      <td>...</td>\n      <td>...</td>\n      <td>...</td>\n      <td>...</td>\n      <td>...</td>\n      <td>...</td>\n      <td>...</td>\n      <td>...</td>\n    </tr>\n    <tr>\n      <th>492</th>\n      <td>1089</td>\n      <td>36.71278</td>\n      <td>127.42056</td>\n      <td>13.30</td>\n      <td>50.7</td>\n      <td>NaN</td>\n      <td>NaN</td>\n      <td>6</td>\n      <td>0</td>\n      <td>0</td>\n      <td>0</td>\n      <td>과학산업2로</td>\n      <td>구룡리 472도</td>\n      <td>왕복6차선</td>\n    </tr>\n    <tr>\n      <th>493</th>\n      <td>1087</td>\n      <td>36.71722</td>\n      <td>127.41778</td>\n      <td>13.60</td>\n      <td>38.7</td>\n      <td>NaN</td>\n      <td>NaN</td>\n      <td>4</td>\n      <td>0</td>\n      <td>5</td>\n      <td>0</td>\n      <td>오창공원로</td>\n      <td>구룡리 442도</td>\n      <td>왕복4차선</td>\n    </tr>\n    <tr>\n      <th>494</th>\n      <td>1088</td>\n      <td>36.71222</td>\n      <td>127.42528</td>\n      <td>13.30</td>\n      <td>50.7</td>\n      <td>NaN</td>\n      <td>NaN</td>\n      <td>4</td>\n      <td>0</td>\n      <td>5</td>\n      <td>0</td>\n      <td>오창공원로</td>\n      <td>양청리 882도(호수공원 주변)</td>\n      <td>왕복4차선</td>\n    </tr>\n    <tr>\n      <th>495</th>\n      <td>1091</td>\n      <td>36.76750</td>\n      <td>127.47333</td>\n      <td>7.00</td>\n      <td>20.0</td>\n      <td>NaN</td>\n      <td>NaN</td>\n      <td>2</td>\n      <td>0</td>\n      <td>0</td>\n      <td>0</td>\n      <td>리도</td>\n      <td>213호선</td>\n      <td>왕복2차선</td>\n    </tr>\n    <tr>\n      <th>496</th>\n      <td>1072</td>\n      <td>36.65293</td>\n      <td>127.51278</td>\n      <td>35.00</td>\n      <td>100.0</td>\n      <td>NaN</td>\n      <td>NaN</td>\n      <td>6</td>\n      <td>0</td>\n      <td>5</td>\n      <td>0</td>\n      <td>1순환로</td>\n      <td>산 128-1도</td>\n      <td>하부 왕복 6차선</td>\n    </tr>\n  </tbody>\n</table>\n<p>497 rows × 14 columns</p>\n</div>"
     },
     "execution_count": 27,
     "metadata": {},
     "output_type": "execute_result"
    }
   ],
   "source": [
    "# main에 있는 생태통로의 도로 정보만 추출 - 번호를 key로 하여 main을 기준으로 도로 정보 left join\n",
    "main2 = pd.merge(main, ecopath_list[['번호', '도로명', '도로번호', '차선_수_도로정보']], how='left', on='번호')\n",
    "main2"
   ]
  },
  {
   "cell_type": "code",
   "execution_count": 28,
   "metadata": {},
   "outputs": [
    {
     "name": "stdout",
     "output_type": "stream",
     "text": [
      "9\n",
      "21\n",
      "0\n"
     ]
    }
   ],
   "source": [
    "print(main2['도로명'].isna().sum())\n",
    "print(main2['도로번호'].isna().sum())\n",
    "print(main2['차선_수_도로정보'].isna().sum())"
   ]
  },
  {
   "cell_type": "markdown",
   "metadata": {
    "id": "cIKoOIRKdSy-"
   },
   "source": [
    "## 기본적인 도로 제한속도 정보\n",
    "[도로 제한속도](https://namu.wiki/w/%EC%86%8D%EB%8F%84%EC%9C%84%EB%B0%98) => MainData의 도로 관련 컬럼을 기반으로 도로마다의 제한속도 추출 \\\n",
    "<img src=\"../data/speed_limit.png\">"
   ]
  },
  {
   "cell_type": "markdown",
   "metadata": {
    "id": "fQcnUMCn9m2q"
   },
   "source": [
    "## 고속국도 (고속도로) \n",
    "한국도로공사_고속도로_제한최고속도_220331.pdf 파일을 참고하여 값 채움"
   ]
  },
  {
   "cell_type": "markdown",
   "metadata": {
    "id": "i53k4QQmVz_d"
   },
   "source": [
    "### 도로번호에 '고속'을 포함한 경우"
   ]
  },
  {
   "cell_type": "code",
   "execution_count": 29,
   "metadata": {
    "executionInfo": {
     "elapsed": 53,
     "status": "ok",
     "timestamp": 1660404752602,
     "user": {
      "displayName": "박예림",
      "userId": "02538636255865811244"
     },
     "user_tz": -540
    },
    "id": "COqiiYpepMxA"
   },
   "outputs": [],
   "source": [
    "highway = []\n",
    "for i, m_row in main2.iterrows():\n",
    "  if m_row['도로번호'] == None: continue\n",
    "  if '고속' in str(m_row['도로번호']):\n",
    "    highway.append(i)"
   ]
  },
  {
   "cell_type": "code",
   "execution_count": 30,
   "metadata": {
    "colab": {
     "base_uri": "https://localhost:8080/"
    },
    "executionInfo": {
     "elapsed": 55,
     "status": "ok",
     "timestamp": 1660404752605,
     "user": {
      "displayName": "박예림",
      "userId": "02538636255865811244"
     },
     "user_tz": -540
    },
    "id": "wOfISmYjqDun",
    "outputId": "898bfb7c-5824-40c4-c865-6200712500d4"
   },
   "outputs": [
    {
     "name": "stdout",
     "output_type": "stream",
     "text": [
      "58\n",
      "[53, 54, 55, 56, 57, 66, 67, 68, 69, 74, 75, 76, 77, 101, 102, 117, 119, 121, 123, 144, 175, 179, 180, 199, 227, 228, 230, 232, 278, 279, 306, 307, 308, 309, 310, 311, 312, 313, 331, 332, 333, 334, 335, 336, 337, 338, 339, 340, 341, 349, 350, 351, 352, 353, 354, 355, 356, 374]\n"
     ]
    }
   ],
   "source": [
    "print(len(highway))\n",
    "print(highway)"
   ]
  },
  {
   "cell_type": "code",
   "execution_count": 31,
   "metadata": {
    "colab": {
     "base_uri": "https://localhost:8080/",
     "height": 1000
    },
    "executionInfo": {
     "elapsed": 180,
     "status": "ok",
     "timestamp": 1660404753465,
     "user": {
      "displayName": "박예림",
      "userId": "02538636255865811244"
     },
     "user_tz": -540
    },
    "id": "L8Q4laiC-2dc",
    "outputId": "95b0a92a-9ab4-42a3-ff76-573d3d1dba4e"
   },
   "outputs": [
    {
     "data": {
      "text/plain": "       도로명          도로번호\n53     남해선   (고속국도 10호선)\n54     남해선   (고속국도 10호선)\n55     남해선   (고속국도 10호선)\n56     남해선   (고속국도 10호선)\n57     남해선   (고속국도 10호선)\n66   당진대전선   (고속국도 30호선)\n67   당진대전선   (고속국도 30호선)\n68   당진대전선   (고속국도 30호선)\n69   당진대전선   (고속국도 30호선)\n74   대구포항선   (고속국도 20호선)\n75   대구포항선   (고속국도 20호선)\n76   대구포항선   (고속국도 20호선)\n77   대구포항선   (고속국도 20호선)\n101    동해선   (고속국도 65호선)\n102    동해선   (고속국도 65호선)\n117  무안광주선   (고속국도 10호선)\n119  무안광주선   (고속국도 12호선)\n121  무안광주선   (고속국도 10호선)\n123  무안광주선   (고속국도 12호선)\n144  부산포항선   (고속국도 65호선)\n175  서울양양선   (고속국도 60호선)\n179  서천공주선  (고속국도 151호선)\n180   서해안선   (고속국도 15호선)\n199  순천완주선   (고속국도 27호선)\n227    영동선   (고속국도 50호선)\n228    영동선   (고속국도 50호선)\n230  영암순천선   (고속국도 10호선)\n232  영암순천선   (고속국도 10호선)\n278  익산장수선   (고속국도 20호선)\n279  익산장수선   (고속국도 20호선)\n306  중부내륙선   (고속국도 45호선)\n307  중부내륙선   (고속국도 45호선)\n308  중부내륙선   (고속국도 45호선)\n309    중부선   (고속국도 35호선)\n310    중부선   (고속국도 35호선)\n311    중부선   (고속국도 35호선)\n312    중부선   (고속국도 35호선)\n313    중앙선   (고속국도 55호선)\n331  청주상주선   (고속국도 30호선)\n332  청주상주선   (고속국도 30호선)\n333  청주상주선   (고속국도 30호선)\n334  청주상주선   (고속국도 30호선)\n335  청주상주선   (고속국도 30호선)\n336  청주상주선   (고속국도 30호선)\n337  청주상주선   (고속국도 30호선)\n338  청주상주선   (고속국도 30호선)\n339  청주상주선   (고속국도 30호선)\n340  청주상주선   (고속국도 30호선)\n341  청주상주선   (고속국도 30호선)\n349  평택제천선   (고속국도 40호선)\n350  평택제천선   (고속국도 40호선)\n351  평택제천선   (고속국도 40호선)\n352  평택제천선   (고속국도 40호선)\n353  평택제천선   (고속국도 40호선)\n354  평택제천선   (고속국도 40호선)\n355  평택제천선    고속국도 제40호선\n356  평택제천선    고속국도 제40호선\n374    호남선   (고속국도 25호선)",
      "text/html": "<div>\n<style scoped>\n    .dataframe tbody tr th:only-of-type {\n        vertical-align: middle;\n    }\n\n    .dataframe tbody tr th {\n        vertical-align: top;\n    }\n\n    .dataframe thead th {\n        text-align: right;\n    }\n</style>\n<table border=\"1\" class=\"dataframe\">\n  <thead>\n    <tr style=\"text-align: right;\">\n      <th></th>\n      <th>도로명</th>\n      <th>도로번호</th>\n    </tr>\n  </thead>\n  <tbody>\n    <tr>\n      <th>53</th>\n      <td>남해선</td>\n      <td>(고속국도 10호선)</td>\n    </tr>\n    <tr>\n      <th>54</th>\n      <td>남해선</td>\n      <td>(고속국도 10호선)</td>\n    </tr>\n    <tr>\n      <th>55</th>\n      <td>남해선</td>\n      <td>(고속국도 10호선)</td>\n    </tr>\n    <tr>\n      <th>56</th>\n      <td>남해선</td>\n      <td>(고속국도 10호선)</td>\n    </tr>\n    <tr>\n      <th>57</th>\n      <td>남해선</td>\n      <td>(고속국도 10호선)</td>\n    </tr>\n    <tr>\n      <th>66</th>\n      <td>당진대전선</td>\n      <td>(고속국도 30호선)</td>\n    </tr>\n    <tr>\n      <th>67</th>\n      <td>당진대전선</td>\n      <td>(고속국도 30호선)</td>\n    </tr>\n    <tr>\n      <th>68</th>\n      <td>당진대전선</td>\n      <td>(고속국도 30호선)</td>\n    </tr>\n    <tr>\n      <th>69</th>\n      <td>당진대전선</td>\n      <td>(고속국도 30호선)</td>\n    </tr>\n    <tr>\n      <th>74</th>\n      <td>대구포항선</td>\n      <td>(고속국도 20호선)</td>\n    </tr>\n    <tr>\n      <th>75</th>\n      <td>대구포항선</td>\n      <td>(고속국도 20호선)</td>\n    </tr>\n    <tr>\n      <th>76</th>\n      <td>대구포항선</td>\n      <td>(고속국도 20호선)</td>\n    </tr>\n    <tr>\n      <th>77</th>\n      <td>대구포항선</td>\n      <td>(고속국도 20호선)</td>\n    </tr>\n    <tr>\n      <th>101</th>\n      <td>동해선</td>\n      <td>(고속국도 65호선)</td>\n    </tr>\n    <tr>\n      <th>102</th>\n      <td>동해선</td>\n      <td>(고속국도 65호선)</td>\n    </tr>\n    <tr>\n      <th>117</th>\n      <td>무안광주선</td>\n      <td>(고속국도 10호선)</td>\n    </tr>\n    <tr>\n      <th>119</th>\n      <td>무안광주선</td>\n      <td>(고속국도 12호선)</td>\n    </tr>\n    <tr>\n      <th>121</th>\n      <td>무안광주선</td>\n      <td>(고속국도 10호선)</td>\n    </tr>\n    <tr>\n      <th>123</th>\n      <td>무안광주선</td>\n      <td>(고속국도 12호선)</td>\n    </tr>\n    <tr>\n      <th>144</th>\n      <td>부산포항선</td>\n      <td>(고속국도 65호선)</td>\n    </tr>\n    <tr>\n      <th>175</th>\n      <td>서울양양선</td>\n      <td>(고속국도 60호선)</td>\n    </tr>\n    <tr>\n      <th>179</th>\n      <td>서천공주선</td>\n      <td>(고속국도 151호선)</td>\n    </tr>\n    <tr>\n      <th>180</th>\n      <td>서해안선</td>\n      <td>(고속국도 15호선)</td>\n    </tr>\n    <tr>\n      <th>199</th>\n      <td>순천완주선</td>\n      <td>(고속국도 27호선)</td>\n    </tr>\n    <tr>\n      <th>227</th>\n      <td>영동선</td>\n      <td>(고속국도 50호선)</td>\n    </tr>\n    <tr>\n      <th>228</th>\n      <td>영동선</td>\n      <td>(고속국도 50호선)</td>\n    </tr>\n    <tr>\n      <th>230</th>\n      <td>영암순천선</td>\n      <td>(고속국도 10호선)</td>\n    </tr>\n    <tr>\n      <th>232</th>\n      <td>영암순천선</td>\n      <td>(고속국도 10호선)</td>\n    </tr>\n    <tr>\n      <th>278</th>\n      <td>익산장수선</td>\n      <td>(고속국도 20호선)</td>\n    </tr>\n    <tr>\n      <th>279</th>\n      <td>익산장수선</td>\n      <td>(고속국도 20호선)</td>\n    </tr>\n    <tr>\n      <th>306</th>\n      <td>중부내륙선</td>\n      <td>(고속국도 45호선)</td>\n    </tr>\n    <tr>\n      <th>307</th>\n      <td>중부내륙선</td>\n      <td>(고속국도 45호선)</td>\n    </tr>\n    <tr>\n      <th>308</th>\n      <td>중부내륙선</td>\n      <td>(고속국도 45호선)</td>\n    </tr>\n    <tr>\n      <th>309</th>\n      <td>중부선</td>\n      <td>(고속국도 35호선)</td>\n    </tr>\n    <tr>\n      <th>310</th>\n      <td>중부선</td>\n      <td>(고속국도 35호선)</td>\n    </tr>\n    <tr>\n      <th>311</th>\n      <td>중부선</td>\n      <td>(고속국도 35호선)</td>\n    </tr>\n    <tr>\n      <th>312</th>\n      <td>중부선</td>\n      <td>(고속국도 35호선)</td>\n    </tr>\n    <tr>\n      <th>313</th>\n      <td>중앙선</td>\n      <td>(고속국도 55호선)</td>\n    </tr>\n    <tr>\n      <th>331</th>\n      <td>청주상주선</td>\n      <td>(고속국도 30호선)</td>\n    </tr>\n    <tr>\n      <th>332</th>\n      <td>청주상주선</td>\n      <td>(고속국도 30호선)</td>\n    </tr>\n    <tr>\n      <th>333</th>\n      <td>청주상주선</td>\n      <td>(고속국도 30호선)</td>\n    </tr>\n    <tr>\n      <th>334</th>\n      <td>청주상주선</td>\n      <td>(고속국도 30호선)</td>\n    </tr>\n    <tr>\n      <th>335</th>\n      <td>청주상주선</td>\n      <td>(고속국도 30호선)</td>\n    </tr>\n    <tr>\n      <th>336</th>\n      <td>청주상주선</td>\n      <td>(고속국도 30호선)</td>\n    </tr>\n    <tr>\n      <th>337</th>\n      <td>청주상주선</td>\n      <td>(고속국도 30호선)</td>\n    </tr>\n    <tr>\n      <th>338</th>\n      <td>청주상주선</td>\n      <td>(고속국도 30호선)</td>\n    </tr>\n    <tr>\n      <th>339</th>\n      <td>청주상주선</td>\n      <td>(고속국도 30호선)</td>\n    </tr>\n    <tr>\n      <th>340</th>\n      <td>청주상주선</td>\n      <td>(고속국도 30호선)</td>\n    </tr>\n    <tr>\n      <th>341</th>\n      <td>청주상주선</td>\n      <td>(고속국도 30호선)</td>\n    </tr>\n    <tr>\n      <th>349</th>\n      <td>평택제천선</td>\n      <td>(고속국도 40호선)</td>\n    </tr>\n    <tr>\n      <th>350</th>\n      <td>평택제천선</td>\n      <td>(고속국도 40호선)</td>\n    </tr>\n    <tr>\n      <th>351</th>\n      <td>평택제천선</td>\n      <td>(고속국도 40호선)</td>\n    </tr>\n    <tr>\n      <th>352</th>\n      <td>평택제천선</td>\n      <td>(고속국도 40호선)</td>\n    </tr>\n    <tr>\n      <th>353</th>\n      <td>평택제천선</td>\n      <td>(고속국도 40호선)</td>\n    </tr>\n    <tr>\n      <th>354</th>\n      <td>평택제천선</td>\n      <td>(고속국도 40호선)</td>\n    </tr>\n    <tr>\n      <th>355</th>\n      <td>평택제천선</td>\n      <td>고속국도 제40호선</td>\n    </tr>\n    <tr>\n      <th>356</th>\n      <td>평택제천선</td>\n      <td>고속국도 제40호선</td>\n    </tr>\n    <tr>\n      <th>374</th>\n      <td>호남선</td>\n      <td>(고속국도 25호선)</td>\n    </tr>\n  </tbody>\n</table>\n</div>"
     },
     "execution_count": 31,
     "metadata": {},
     "output_type": "execute_result"
    }
   ],
   "source": [
    "main2.iloc[highway][['도로명', '도로번호']]"
   ]
  },
  {
   "cell_type": "code",
   "execution_count": 32,
   "metadata": {
    "executionInfo": {
     "elapsed": 177,
     "status": "ok",
     "timestamp": 1660404753466,
     "user": {
      "displayName": "박예림",
      "userId": "02538636255865811244"
     },
     "user_tz": -540
    },
    "id": "cTTvJvIm_PGE"
   },
   "outputs": [],
   "source": [
    "# pdf 파일에서 직접 찾아 값을 넣어줌\n",
    "main2.loc[main2['도로명'] == '남해선', '최고제한속도(km/h)'] = 100\n",
    "main2.loc[main2['도로명'] == '당진대전선', '최고제한속도(km/h)'] = 110\n",
    "main2.loc[main2['도로명'] == '대구포항선', '최고제한속도(km/h)'] = 100\n",
    "main2.loc[main2['도로명'] == '동해선', '최고제한속도(km/h)'] = 100 # 따로 명시돼 있는 부산포항선이 아닌 동해선은 삼척속초선 뿐이므로 이에 따름\n",
    "main2.loc[main2['도로명'] == '무안광주선', '최고제한속도(km/h)'] = 100\n",
    "main2.loc[main2['도로명'] == '부산포항선', '최고제한속도(km/h)'] = 100 # 구간별로 달라 더 긴 구간의 제한 속도를 따름\n",
    "main2.loc[main2['도로명'] == '서울양양선', '최고제한속도(km/h)'] = 100 # 특정 구간은 80이지만, 모두 차선 수가 편도 2차선 이상이므로 모두 100으로 저장\n",
    "main2.loc[main2['도로명'] == '서천공주선', '최고제한속도(km/h)'] = 110 # 차선 수가 편도 2차선 이상이고, 가장 긴 구간의 제한속도가 110이므로 110으로 저장\n",
    "main2.loc[main2['도로명'] == '서천공주선', '최고제한속도(km/h)'] = 110 # 차선 수가 편도 2차선 이상이고, 가장 긴 구간의 제한속도가 110이므로 110으로 저장\n",
    "main2.loc[main2['도로명'] == '순천완주선', '최고제한속도(km/h)'] = 100\n",
    "main2.loc[main2['도로명'] == '영동선', '최고제한속도(km/h)'] = 100\n",
    "main2.loc[main2['도로명'] == '영암순천선', '최고제한속도(km/h)'] = 100\n",
    "main2.loc[main2['도로명'] == '익산장수선', '최고제한속도(km/h)'] = 100\n",
    "main2.loc[main2['도로명'] == '중부내륙선', '최고제한속도(km/h)'] = 110 # 구간별로 달라 가장 긴 구간의 제한 속도를 따름\n",
    "main2.loc[main2['도로명'] == '중부선', '최고제한속도(km/h)'] = 100 # 구간별로 달라 가장 긴 구간의 제한 속도를 따름\n",
    "main2.loc[main2['도로명'] == '중앙선', '최고제한속도(km/h)'] = 100 # 구간별로 달라 가장 긴 구간의 제한 속도를 따름\n",
    "main2.loc[main2['도로명'] == '청주상주선', '최고제한속도(km/h)'] = 110\n",
    "main2.loc[main2['도로명'] == '평택제천선', '최고제한속도(km/h)'] = 100\n",
    "main2.loc[main2['도로명'] == '호남선', '최고제한속도(km/h)'] = 100\n",
    "main2.loc[main2['도로명'] == '서해안선', '최고제한속도(km/h)'] = 110 # 구간별로 달라 더 긴 구간의 제한 속도를 따름"
   ]
  },
  {
   "cell_type": "code",
   "execution_count": 33,
   "metadata": {
    "colab": {
     "base_uri": "https://localhost:8080/"
    },
    "executionInfo": {
     "elapsed": 181,
     "status": "ok",
     "timestamp": 1660404753518,
     "user": {
      "displayName": "박예림",
      "userId": "02538636255865811244"
     },
     "user_tz": -540
    },
    "id": "2WOVLoYJMA_x",
    "outputId": "39c4b1e7-d152-498f-c909-4037351e689a"
   },
   "outputs": [
    {
     "data": {
      "text/plain": "0"
     },
     "execution_count": 33,
     "metadata": {},
     "output_type": "execute_result"
    }
   ],
   "source": [
    "main2.iloc[highway]['최고제한속도(km/h)'].isna().sum()"
   ]
  },
  {
   "cell_type": "markdown",
   "metadata": {
    "id": "FnZbp14KP8XI"
   },
   "source": [
    "=> 결측치 없으므로 완료 !"
   ]
  },
  {
   "cell_type": "markdown",
   "metadata": {
    "id": "DaYXPq5IV6hb"
   },
   "source": [
    "### 도로명에 '고속'을 포함한 경우"
   ]
  },
  {
   "cell_type": "code",
   "execution_count": 34,
   "metadata": {
    "executionInfo": {
     "elapsed": 171,
     "status": "ok",
     "timestamp": 1660404753520,
     "user": {
      "displayName": "박예림",
      "userId": "02538636255865811244"
     },
     "user_tz": -540
    },
    "id": "LBiZyVpFVZV9"
   },
   "outputs": [],
   "source": [
    "highway2 = []\n",
    "for i, m_row in main2.iterrows():\n",
    "  if m_row['도로명'] == None: continue\n",
    "  if '고속' in str(m_row['도로명']):\n",
    "    highway2.append(i)"
   ]
  },
  {
   "cell_type": "code",
   "execution_count": 35,
   "metadata": {
    "colab": {
     "base_uri": "https://localhost:8080/",
     "height": 494
    },
    "executionInfo": {
     "elapsed": 162,
     "status": "ok",
     "timestamp": 1660404753526,
     "user": {
      "displayName": "박예림",
      "userId": "02538636255865811244"
     },
     "user_tz": -540
    },
    "id": "E5Ifm_wyWHut",
    "outputId": "ca50bef5-2171-4b95-8fac-f17cede27a92"
   },
   "outputs": [
    {
     "data": {
      "text/plain": "       번호        위도         경도     폭     연장  높이  개방도  차선_수  생태통로타입  등산객이용빈도  \\\n97   1516  37.33661  126.97317  40.0   55.0 NaN  NaN     6       0        1   \n116  1138  35.06678  126.58747  10.6   70.0 NaN  NaN     4       1        0   \n233  1440  34.80761  127.15794  40.0   42.0 NaN  NaN     4       0        0   \n292  1517  37.31723  126.96639  14.5   41.5 NaN  NaN     6       0        5   \n383  1547  37.78822  128.12467  48.0   68.0 NaN  NaN     4       0        0   \n385  1546  37.75767  128.01514  26.8   47.0 NaN  NaN     4       0        0   \n435  1013  36.28339  127.38732  32.0  143.0 NaN  NaN     4       0        5   \n437  1559  35.68328  129.18131   NaN    NaN NaN  NaN     4       0        0   \n441  1133  34.98639  127.58556  11.0   40.0 NaN  NaN     4       0        4   \n456  1554  35.47802  127.54584   NaN    NaN NaN  NaN     4       1        0   \n\n     생태통로효율성               도로명    도로번호 차선_수_도로정보  최고제한속도(km/h)  \n97         0  서수원∼의왕간고속화도로 지방도  309호선    왕복6~8차선           NaN  \n116        0          무안광주고속도로    12호선     왕복4차선           NaN  \n233        2              고속국도    10호선     왕복4차선           NaN  \n292        0  서수원∼의왕간고속화도로 지방도  309호선    왕복6~8차선           NaN  \n383        3              고속도로      60     왕복4차선           NaN  \n385        3              고속도로      60     왕복4차선           NaN  \n435        3        대전남부순환고속도로  남부순환도로     왕복4차선           NaN  \n437        3                고속       1     왕복4차선           NaN  \n441        2            남해고속도로     NaN     왕복4차선           NaN  \n456        3                고속      12     왕복4차선           NaN  ",
      "text/html": "<div>\n<style scoped>\n    .dataframe tbody tr th:only-of-type {\n        vertical-align: middle;\n    }\n\n    .dataframe tbody tr th {\n        vertical-align: top;\n    }\n\n    .dataframe thead th {\n        text-align: right;\n    }\n</style>\n<table border=\"1\" class=\"dataframe\">\n  <thead>\n    <tr style=\"text-align: right;\">\n      <th></th>\n      <th>번호</th>\n      <th>위도</th>\n      <th>경도</th>\n      <th>폭</th>\n      <th>연장</th>\n      <th>높이</th>\n      <th>개방도</th>\n      <th>차선_수</th>\n      <th>생태통로타입</th>\n      <th>등산객이용빈도</th>\n      <th>생태통로효율성</th>\n      <th>도로명</th>\n      <th>도로번호</th>\n      <th>차선_수_도로정보</th>\n      <th>최고제한속도(km/h)</th>\n    </tr>\n  </thead>\n  <tbody>\n    <tr>\n      <th>97</th>\n      <td>1516</td>\n      <td>37.33661</td>\n      <td>126.97317</td>\n      <td>40.0</td>\n      <td>55.0</td>\n      <td>NaN</td>\n      <td>NaN</td>\n      <td>6</td>\n      <td>0</td>\n      <td>1</td>\n      <td>0</td>\n      <td>서수원∼의왕간고속화도로 지방도</td>\n      <td>309호선</td>\n      <td>왕복6~8차선</td>\n      <td>NaN</td>\n    </tr>\n    <tr>\n      <th>116</th>\n      <td>1138</td>\n      <td>35.06678</td>\n      <td>126.58747</td>\n      <td>10.6</td>\n      <td>70.0</td>\n      <td>NaN</td>\n      <td>NaN</td>\n      <td>4</td>\n      <td>1</td>\n      <td>0</td>\n      <td>0</td>\n      <td>무안광주고속도로</td>\n      <td>12호선</td>\n      <td>왕복4차선</td>\n      <td>NaN</td>\n    </tr>\n    <tr>\n      <th>233</th>\n      <td>1440</td>\n      <td>34.80761</td>\n      <td>127.15794</td>\n      <td>40.0</td>\n      <td>42.0</td>\n      <td>NaN</td>\n      <td>NaN</td>\n      <td>4</td>\n      <td>0</td>\n      <td>0</td>\n      <td>2</td>\n      <td>고속국도</td>\n      <td>10호선</td>\n      <td>왕복4차선</td>\n      <td>NaN</td>\n    </tr>\n    <tr>\n      <th>292</th>\n      <td>1517</td>\n      <td>37.31723</td>\n      <td>126.96639</td>\n      <td>14.5</td>\n      <td>41.5</td>\n      <td>NaN</td>\n      <td>NaN</td>\n      <td>6</td>\n      <td>0</td>\n      <td>5</td>\n      <td>0</td>\n      <td>서수원∼의왕간고속화도로 지방도</td>\n      <td>309호선</td>\n      <td>왕복6~8차선</td>\n      <td>NaN</td>\n    </tr>\n    <tr>\n      <th>383</th>\n      <td>1547</td>\n      <td>37.78822</td>\n      <td>128.12467</td>\n      <td>48.0</td>\n      <td>68.0</td>\n      <td>NaN</td>\n      <td>NaN</td>\n      <td>4</td>\n      <td>0</td>\n      <td>0</td>\n      <td>3</td>\n      <td>고속도로</td>\n      <td>60</td>\n      <td>왕복4차선</td>\n      <td>NaN</td>\n    </tr>\n    <tr>\n      <th>385</th>\n      <td>1546</td>\n      <td>37.75767</td>\n      <td>128.01514</td>\n      <td>26.8</td>\n      <td>47.0</td>\n      <td>NaN</td>\n      <td>NaN</td>\n      <td>4</td>\n      <td>0</td>\n      <td>0</td>\n      <td>3</td>\n      <td>고속도로</td>\n      <td>60</td>\n      <td>왕복4차선</td>\n      <td>NaN</td>\n    </tr>\n    <tr>\n      <th>435</th>\n      <td>1013</td>\n      <td>36.28339</td>\n      <td>127.38732</td>\n      <td>32.0</td>\n      <td>143.0</td>\n      <td>NaN</td>\n      <td>NaN</td>\n      <td>4</td>\n      <td>0</td>\n      <td>5</td>\n      <td>3</td>\n      <td>대전남부순환고속도로</td>\n      <td>남부순환도로</td>\n      <td>왕복4차선</td>\n      <td>NaN</td>\n    </tr>\n    <tr>\n      <th>437</th>\n      <td>1559</td>\n      <td>35.68328</td>\n      <td>129.18131</td>\n      <td>NaN</td>\n      <td>NaN</td>\n      <td>NaN</td>\n      <td>NaN</td>\n      <td>4</td>\n      <td>0</td>\n      <td>0</td>\n      <td>3</td>\n      <td>고속</td>\n      <td>1</td>\n      <td>왕복4차선</td>\n      <td>NaN</td>\n    </tr>\n    <tr>\n      <th>441</th>\n      <td>1133</td>\n      <td>34.98639</td>\n      <td>127.58556</td>\n      <td>11.0</td>\n      <td>40.0</td>\n      <td>NaN</td>\n      <td>NaN</td>\n      <td>4</td>\n      <td>0</td>\n      <td>4</td>\n      <td>2</td>\n      <td>남해고속도로</td>\n      <td>NaN</td>\n      <td>왕복4차선</td>\n      <td>NaN</td>\n    </tr>\n    <tr>\n      <th>456</th>\n      <td>1554</td>\n      <td>35.47802</td>\n      <td>127.54584</td>\n      <td>NaN</td>\n      <td>NaN</td>\n      <td>NaN</td>\n      <td>NaN</td>\n      <td>4</td>\n      <td>1</td>\n      <td>0</td>\n      <td>3</td>\n      <td>고속</td>\n      <td>12</td>\n      <td>왕복4차선</td>\n      <td>NaN</td>\n    </tr>\n  </tbody>\n</table>\n</div>"
     },
     "execution_count": 35,
     "metadata": {},
     "output_type": "execute_result"
    }
   ],
   "source": [
    "main2.iloc[highway2]"
   ]
  },
  {
   "cell_type": "code",
   "execution_count": 36,
   "metadata": {
    "executionInfo": {
     "elapsed": 148,
     "status": "ok",
     "timestamp": 1660404753530,
     "user": {
      "displayName": "박예림",
      "userId": "02538636255865811244"
     },
     "user_tz": -540
    },
    "id": "e8d36Et6Wpwj"
   },
   "outputs": [],
   "source": [
    "main2.loc[[97, 292], '최고제한속도(km/h)'] = 60 # 지방도에 속함 (https://namu.wiki/w/309%EB%B2%88%20%EC%A7%80%EB%B0%A9%EB%8F%84) # 편도 2차선 이상인 일반도로이고 여러 정보를 취합한 결과 60으로 결정\n",
    "main2.loc[[116, 233, 456], '최고제한속도(km/h)'] = 100 # 고속국도 10번, 12번은 모두 최고제한속도가 100\n",
    "main2.loc[[383, 385], '최고제한속도(km/h)'] = 100 # 일부 구간은 80이나, 대부분의 구간이 100이므로 100으로 저장\n",
    "main2.loc[435, '최고제한속도(km/h)'] = 100 # 고속국도 300번 대전남부순환선의 최고제한속도는 100\n",
    "main2.loc[437, '최고제한속도(km/h)'] = 100 # 가장 긴 구간의 제한속도를 따름\n",
    "main2.loc[441, '최고제한속도(km/h)'] = 100 # 남해선의 가장 긴 구간의 제한속도를 따름"
   ]
  },
  {
   "cell_type": "code",
   "execution_count": 37,
   "metadata": {
    "colab": {
     "base_uri": "https://localhost:8080/"
    },
    "executionInfo": {
     "elapsed": 138,
     "status": "ok",
     "timestamp": 1660404753537,
     "user": {
      "displayName": "박예림",
      "userId": "02538636255865811244"
     },
     "user_tz": -540
    },
    "id": "QVVZ0hHkbkX6",
    "outputId": "1bbb1284-d8b8-4eeb-d537-24f2b8c2562f"
   },
   "outputs": [
    {
     "data": {
      "text/plain": "0"
     },
     "execution_count": 37,
     "metadata": {},
     "output_type": "execute_result"
    }
   ],
   "source": [
    "main2.iloc[highway2]['최고제한속도(km/h)'].isna().sum()"
   ]
  },
  {
   "cell_type": "markdown",
   "metadata": {
    "id": "EFJhgWcGbkX7"
   },
   "source": [
    "=> 결측치 없으므로 완료 !"
   ]
  },
  {
   "cell_type": "markdown",
   "metadata": {
    "id": "pGeMxOB6eqrK"
   },
   "source": [
    "### 도로명이 고속국도 이름인 것 같은 경우"
   ]
  },
  {
   "cell_type": "code",
   "execution_count": 38,
   "metadata": {
    "colab": {
     "base_uri": "https://localhost:8080/",
     "height": 1000
    },
    "executionInfo": {
     "elapsed": 629,
     "status": "ok",
     "timestamp": 1660404754053,
     "user": {
      "displayName": "박예림",
      "userId": "02538636255865811244"
     },
     "user_tz": -540
    },
    "id": "69OrY0ZYeqX7",
    "outputId": "89c458ff-d359-4868-9c0d-56a1f4a0abaf"
   },
   "outputs": [
    {
     "data": {
      "text/plain": "       번호        위도         경도      폭     연장   높이   개방도  차선_수  생태통로타입  \\\n28   1460  35.70748  127.96741    NaN    NaN  NaN   NaN     4       1   \n29   1462  35.36617  127.12414    NaN    NaN  NaN   NaN     4       1   \n30   1466  35.38675  127.24964    NaN    NaN  NaN   NaN     4       1   \n31   1464  35.42317  127.36178   47.7   34.8  NaN   NaN     4       0   \n32   1465  35.47836  127.56028  126.6   32.0  NaN   NaN     4       0   \n33   1467  35.54294  127.69214    NaN    NaN  NaN   NaN     4       1   \n98   1519  38.12875  128.57922  137.4   53.0  NaN   NaN     4       0   \n99   1520  38.15042  128.58506   65.0   31.0  NaN   NaN     4       0   \n100  1518  37.50025  129.09139    6.8   40.0  NaN   NaN     4       0   \n101  1362  37.69003  128.91754    NaN    NaN  NaN   NaN     4       0   \n102  1367  38.00937  128.71221    8.0   36.1  NaN   NaN     4       0   \n117  1382  35.05775  126.55600   20.0   30.4  NaN   NaN     4       1   \n118  1431  35.06066  126.55665    NaN    NaN  NaN   NaN     4       1   \n119  1404  35.06871  126.60520    NaN    NaN  NaN   NaN     4       1   \n120  1436  35.07136  126.60582    1.0   48.0  1.0  48.0     4       1   \n121  1381  35.07634  126.62818  224.8   50.6  NaN   NaN     4       0   \n122  1430  35.07947  126.63966    NaN    NaN  NaN   NaN     4       1   \n123  1358  35.13901  126.74818   29.1   47.7  NaN   NaN     4       0   \n124  1429  35.13905  126.74825    2.0   70.1  2.0  70.1     4       0   \n149  1512  37.73694  127.02944  108.0   39.0  NaN   NaN     6       0   \n173  1525  37.83157  128.22627   58.0   55.8  NaN   NaN     4       0   \n174  1526  37.83097  128.22722   58.0   55.8  NaN   NaN     4       0   \n175  1368  37.75531  127.88125    NaN    NaN  NaN   NaN     4       1   \n176  1522  37.75775  128.01519    2.5   78.6  2.5   0.1     4       0   \n177  1523  37.75469  128.04289   38.0   41.4  NaN   NaN     4       0   \n178  1524  37.78808  128.12425   84.0   52.0  NaN   NaN     4       0   \n199  1396  35.13906  126.74826   30.0   50.0  NaN   NaN     4       0   \n200  1432  35.34308  127.34967   19.8   53.0  NaN   NaN     4       0   \n229  1437  34.70697  126.64222    5.0   56.6  3.0   0.3     4       1   \n230  1413  34.71368  126.63661    NaN    NaN  NaN   NaN     4       1   \n231  1439  34.70667  126.64511    NaN    NaN  NaN   NaN     4       1   \n232  1397  34.67984  126.82821   38.0   60.0  NaN   NaN     4       0   \n238  1535  36.58562  126.63291   12.6  105.0  NaN   NaN     4       0   \n284  1269  36.75369  127.28183    NaN    NaN  NaN   NaN     4       0   \n376  1268  36.75336  127.27933   12.5   56.0  NaN   NaN     4       0   \n433  1012  36.34806  127.46056    NaN    NaN  NaN   NaN     4       1   \n434  1011  36.34083  127.45944    NaN    NaN  NaN   NaN     4       1   \n484  1077  36.57472  127.37861   10.0   30.0  NaN   NaN     2       0   \n\n     등산객이용빈도  생태통로효율성           도로명         도로번호  차선_수_도로정보  최고제한속도(km/h)  \n28         0        3  광주대구선 125.8k           12      왕복4차선           NaN  \n29         0        2         광주대구선        제12호선      왕복4차선           NaN  \n30         0        3         광주대구선        제12호선      왕복4차선           NaN  \n31         0        3         광주대구선        제12호선      왕복4차선           NaN  \n32         0        3         광주대구선        제12호선      왕복4차선           NaN  \n33         0        3         광주대구선        제12호선      왕복4차선           NaN  \n98         0        3           동해선           65      왕복4차선         100.0  \n99         0        3           동해선           65      왕복4차선         100.0  \n100        0        3           동해선           65      왕복4차선         100.0  \n101        0        0           동해선  (고속국도 65호선)      왕복4차선         100.0  \n102        0        2           동해선  (고속국도 65호선)      왕복4차선         100.0  \n117        0        0         무안광주선  (고속국도 10호선)      왕복4차선         100.0  \n118        0        0         무안광주선       16.94k      왕복4차선         100.0  \n119        0        3         무안광주선  (고속국도 12호선)      왕복4차선         100.0  \n120        0        2         무안광주선       21.60k      왕복4차선         100.0  \n121        0        2         무안광주선  (고속국도 10호선)      왕복4차선         100.0  \n122        1        1         무안광주선       24.90k      왕복4차선         100.0  \n123        1        1         무안광주선  (고속국도 12호선)      왕복4차선         100.0  \n124        0        2         무안광주선       37.48k      왕복4차선         100.0  \n149        5        2         서부순환로        광로3-1      왕복6차선           NaN  \n173        0        3         서울양양선           60      왕복4차선         100.0  \n174        0        3         서울양양선           60      왕복4차선         100.0  \n175        0        1         서울양양선  (고속국도 60호선)      왕복4차선         100.0  \n176        0        3         서울양양선           60      왕복4차선         100.0  \n177        0        3         서울양양선           60      왕복4차선         100.0  \n178        0        3         서울양양선           60      왕복4차선         100.0  \n199        2        1         순천완주선  (고속국도 27호선)      왕복4차선         100.0  \n200        1        1         순천완주선       49.98k      왕복4차선         100.0  \n229        0        0         영암순천선       12.64k      왕복4차선         100.0  \n230        2        0         영암순천선  (고속국도 10호선)  왕복왕복4차선차선         100.0  \n231        4        0         영암순천선       12.94k      왕복4차선         100.0  \n232        1        0         영암순천선  (고속국도 10호선)      왕복4차선         100.0  \n238        0        3         남부순환로     (국도29호선)      왕복4차선           NaN  \n284        1        1          남부대로     (국도21호선)      왕복4차선           NaN  \n376        1        0          남부대로     (국도21호선)      왕복4차선           NaN  \n433        2        0        동부순환도로          NaN      왕복4차선           NaN  \n434        2        0        동부순환도로          NaN      왕복4차선           NaN  \n484        0        1         군현∼연정     면도 103호선      왕복2차선           NaN  ",
      "text/html": "<div>\n<style scoped>\n    .dataframe tbody tr th:only-of-type {\n        vertical-align: middle;\n    }\n\n    .dataframe tbody tr th {\n        vertical-align: top;\n    }\n\n    .dataframe thead th {\n        text-align: right;\n    }\n</style>\n<table border=\"1\" class=\"dataframe\">\n  <thead>\n    <tr style=\"text-align: right;\">\n      <th></th>\n      <th>번호</th>\n      <th>위도</th>\n      <th>경도</th>\n      <th>폭</th>\n      <th>연장</th>\n      <th>높이</th>\n      <th>개방도</th>\n      <th>차선_수</th>\n      <th>생태통로타입</th>\n      <th>등산객이용빈도</th>\n      <th>생태통로효율성</th>\n      <th>도로명</th>\n      <th>도로번호</th>\n      <th>차선_수_도로정보</th>\n      <th>최고제한속도(km/h)</th>\n    </tr>\n  </thead>\n  <tbody>\n    <tr>\n      <th>28</th>\n      <td>1460</td>\n      <td>35.70748</td>\n      <td>127.96741</td>\n      <td>NaN</td>\n      <td>NaN</td>\n      <td>NaN</td>\n      <td>NaN</td>\n      <td>4</td>\n      <td>1</td>\n      <td>0</td>\n      <td>3</td>\n      <td>광주대구선 125.8k</td>\n      <td>12</td>\n      <td>왕복4차선</td>\n      <td>NaN</td>\n    </tr>\n    <tr>\n      <th>29</th>\n      <td>1462</td>\n      <td>35.36617</td>\n      <td>127.12414</td>\n      <td>NaN</td>\n      <td>NaN</td>\n      <td>NaN</td>\n      <td>NaN</td>\n      <td>4</td>\n      <td>1</td>\n      <td>0</td>\n      <td>2</td>\n      <td>광주대구선</td>\n      <td>제12호선</td>\n      <td>왕복4차선</td>\n      <td>NaN</td>\n    </tr>\n    <tr>\n      <th>30</th>\n      <td>1466</td>\n      <td>35.38675</td>\n      <td>127.24964</td>\n      <td>NaN</td>\n      <td>NaN</td>\n      <td>NaN</td>\n      <td>NaN</td>\n      <td>4</td>\n      <td>1</td>\n      <td>0</td>\n      <td>3</td>\n      <td>광주대구선</td>\n      <td>제12호선</td>\n      <td>왕복4차선</td>\n      <td>NaN</td>\n    </tr>\n    <tr>\n      <th>31</th>\n      <td>1464</td>\n      <td>35.42317</td>\n      <td>127.36178</td>\n      <td>47.7</td>\n      <td>34.8</td>\n      <td>NaN</td>\n      <td>NaN</td>\n      <td>4</td>\n      <td>0</td>\n      <td>0</td>\n      <td>3</td>\n      <td>광주대구선</td>\n      <td>제12호선</td>\n      <td>왕복4차선</td>\n      <td>NaN</td>\n    </tr>\n    <tr>\n      <th>32</th>\n      <td>1465</td>\n      <td>35.47836</td>\n      <td>127.56028</td>\n      <td>126.6</td>\n      <td>32.0</td>\n      <td>NaN</td>\n      <td>NaN</td>\n      <td>4</td>\n      <td>0</td>\n      <td>0</td>\n      <td>3</td>\n      <td>광주대구선</td>\n      <td>제12호선</td>\n      <td>왕복4차선</td>\n      <td>NaN</td>\n    </tr>\n    <tr>\n      <th>33</th>\n      <td>1467</td>\n      <td>35.54294</td>\n      <td>127.69214</td>\n      <td>NaN</td>\n      <td>NaN</td>\n      <td>NaN</td>\n      <td>NaN</td>\n      <td>4</td>\n      <td>1</td>\n      <td>0</td>\n      <td>3</td>\n      <td>광주대구선</td>\n      <td>제12호선</td>\n      <td>왕복4차선</td>\n      <td>NaN</td>\n    </tr>\n    <tr>\n      <th>98</th>\n      <td>1519</td>\n      <td>38.12875</td>\n      <td>128.57922</td>\n      <td>137.4</td>\n      <td>53.0</td>\n      <td>NaN</td>\n      <td>NaN</td>\n      <td>4</td>\n      <td>0</td>\n      <td>0</td>\n      <td>3</td>\n      <td>동해선</td>\n      <td>65</td>\n      <td>왕복4차선</td>\n      <td>100.0</td>\n    </tr>\n    <tr>\n      <th>99</th>\n      <td>1520</td>\n      <td>38.15042</td>\n      <td>128.58506</td>\n      <td>65.0</td>\n      <td>31.0</td>\n      <td>NaN</td>\n      <td>NaN</td>\n      <td>4</td>\n      <td>0</td>\n      <td>0</td>\n      <td>3</td>\n      <td>동해선</td>\n      <td>65</td>\n      <td>왕복4차선</td>\n      <td>100.0</td>\n    </tr>\n    <tr>\n      <th>100</th>\n      <td>1518</td>\n      <td>37.50025</td>\n      <td>129.09139</td>\n      <td>6.8</td>\n      <td>40.0</td>\n      <td>NaN</td>\n      <td>NaN</td>\n      <td>4</td>\n      <td>0</td>\n      <td>0</td>\n      <td>3</td>\n      <td>동해선</td>\n      <td>65</td>\n      <td>왕복4차선</td>\n      <td>100.0</td>\n    </tr>\n    <tr>\n      <th>101</th>\n      <td>1362</td>\n      <td>37.69003</td>\n      <td>128.91754</td>\n      <td>NaN</td>\n      <td>NaN</td>\n      <td>NaN</td>\n      <td>NaN</td>\n      <td>4</td>\n      <td>0</td>\n      <td>0</td>\n      <td>0</td>\n      <td>동해선</td>\n      <td>(고속국도 65호선)</td>\n      <td>왕복4차선</td>\n      <td>100.0</td>\n    </tr>\n    <tr>\n      <th>102</th>\n      <td>1367</td>\n      <td>38.00937</td>\n      <td>128.71221</td>\n      <td>8.0</td>\n      <td>36.1</td>\n      <td>NaN</td>\n      <td>NaN</td>\n      <td>4</td>\n      <td>0</td>\n      <td>0</td>\n      <td>2</td>\n      <td>동해선</td>\n      <td>(고속국도 65호선)</td>\n      <td>왕복4차선</td>\n      <td>100.0</td>\n    </tr>\n    <tr>\n      <th>117</th>\n      <td>1382</td>\n      <td>35.05775</td>\n      <td>126.55600</td>\n      <td>20.0</td>\n      <td>30.4</td>\n      <td>NaN</td>\n      <td>NaN</td>\n      <td>4</td>\n      <td>1</td>\n      <td>0</td>\n      <td>0</td>\n      <td>무안광주선</td>\n      <td>(고속국도 10호선)</td>\n      <td>왕복4차선</td>\n      <td>100.0</td>\n    </tr>\n    <tr>\n      <th>118</th>\n      <td>1431</td>\n      <td>35.06066</td>\n      <td>126.55665</td>\n      <td>NaN</td>\n      <td>NaN</td>\n      <td>NaN</td>\n      <td>NaN</td>\n      <td>4</td>\n      <td>1</td>\n      <td>0</td>\n      <td>0</td>\n      <td>무안광주선</td>\n      <td>16.94k</td>\n      <td>왕복4차선</td>\n      <td>100.0</td>\n    </tr>\n    <tr>\n      <th>119</th>\n      <td>1404</td>\n      <td>35.06871</td>\n      <td>126.60520</td>\n      <td>NaN</td>\n      <td>NaN</td>\n      <td>NaN</td>\n      <td>NaN</td>\n      <td>4</td>\n      <td>1</td>\n      <td>0</td>\n      <td>3</td>\n      <td>무안광주선</td>\n      <td>(고속국도 12호선)</td>\n      <td>왕복4차선</td>\n      <td>100.0</td>\n    </tr>\n    <tr>\n      <th>120</th>\n      <td>1436</td>\n      <td>35.07136</td>\n      <td>126.60582</td>\n      <td>1.0</td>\n      <td>48.0</td>\n      <td>1.0</td>\n      <td>48.0</td>\n      <td>4</td>\n      <td>1</td>\n      <td>0</td>\n      <td>2</td>\n      <td>무안광주선</td>\n      <td>21.60k</td>\n      <td>왕복4차선</td>\n      <td>100.0</td>\n    </tr>\n    <tr>\n      <th>121</th>\n      <td>1381</td>\n      <td>35.07634</td>\n      <td>126.62818</td>\n      <td>224.8</td>\n      <td>50.6</td>\n      <td>NaN</td>\n      <td>NaN</td>\n      <td>4</td>\n      <td>0</td>\n      <td>0</td>\n      <td>2</td>\n      <td>무안광주선</td>\n      <td>(고속국도 10호선)</td>\n      <td>왕복4차선</td>\n      <td>100.0</td>\n    </tr>\n    <tr>\n      <th>122</th>\n      <td>1430</td>\n      <td>35.07947</td>\n      <td>126.63966</td>\n      <td>NaN</td>\n      <td>NaN</td>\n      <td>NaN</td>\n      <td>NaN</td>\n      <td>4</td>\n      <td>1</td>\n      <td>1</td>\n      <td>1</td>\n      <td>무안광주선</td>\n      <td>24.90k</td>\n      <td>왕복4차선</td>\n      <td>100.0</td>\n    </tr>\n    <tr>\n      <th>123</th>\n      <td>1358</td>\n      <td>35.13901</td>\n      <td>126.74818</td>\n      <td>29.1</td>\n      <td>47.7</td>\n      <td>NaN</td>\n      <td>NaN</td>\n      <td>4</td>\n      <td>0</td>\n      <td>1</td>\n      <td>1</td>\n      <td>무안광주선</td>\n      <td>(고속국도 12호선)</td>\n      <td>왕복4차선</td>\n      <td>100.0</td>\n    </tr>\n    <tr>\n      <th>124</th>\n      <td>1429</td>\n      <td>35.13905</td>\n      <td>126.74825</td>\n      <td>2.0</td>\n      <td>70.1</td>\n      <td>2.0</td>\n      <td>70.1</td>\n      <td>4</td>\n      <td>0</td>\n      <td>0</td>\n      <td>2</td>\n      <td>무안광주선</td>\n      <td>37.48k</td>\n      <td>왕복4차선</td>\n      <td>100.0</td>\n    </tr>\n    <tr>\n      <th>149</th>\n      <td>1512</td>\n      <td>37.73694</td>\n      <td>127.02944</td>\n      <td>108.0</td>\n      <td>39.0</td>\n      <td>NaN</td>\n      <td>NaN</td>\n      <td>6</td>\n      <td>0</td>\n      <td>5</td>\n      <td>2</td>\n      <td>서부순환로</td>\n      <td>광로3-1</td>\n      <td>왕복6차선</td>\n      <td>NaN</td>\n    </tr>\n    <tr>\n      <th>173</th>\n      <td>1525</td>\n      <td>37.83157</td>\n      <td>128.22627</td>\n      <td>58.0</td>\n      <td>55.8</td>\n      <td>NaN</td>\n      <td>NaN</td>\n      <td>4</td>\n      <td>0</td>\n      <td>0</td>\n      <td>3</td>\n      <td>서울양양선</td>\n      <td>60</td>\n      <td>왕복4차선</td>\n      <td>100.0</td>\n    </tr>\n    <tr>\n      <th>174</th>\n      <td>1526</td>\n      <td>37.83097</td>\n      <td>128.22722</td>\n      <td>58.0</td>\n      <td>55.8</td>\n      <td>NaN</td>\n      <td>NaN</td>\n      <td>4</td>\n      <td>0</td>\n      <td>0</td>\n      <td>3</td>\n      <td>서울양양선</td>\n      <td>60</td>\n      <td>왕복4차선</td>\n      <td>100.0</td>\n    </tr>\n    <tr>\n      <th>175</th>\n      <td>1368</td>\n      <td>37.75531</td>\n      <td>127.88125</td>\n      <td>NaN</td>\n      <td>NaN</td>\n      <td>NaN</td>\n      <td>NaN</td>\n      <td>4</td>\n      <td>1</td>\n      <td>0</td>\n      <td>1</td>\n      <td>서울양양선</td>\n      <td>(고속국도 60호선)</td>\n      <td>왕복4차선</td>\n      <td>100.0</td>\n    </tr>\n    <tr>\n      <th>176</th>\n      <td>1522</td>\n      <td>37.75775</td>\n      <td>128.01519</td>\n      <td>2.5</td>\n      <td>78.6</td>\n      <td>2.5</td>\n      <td>0.1</td>\n      <td>4</td>\n      <td>0</td>\n      <td>0</td>\n      <td>3</td>\n      <td>서울양양선</td>\n      <td>60</td>\n      <td>왕복4차선</td>\n      <td>100.0</td>\n    </tr>\n    <tr>\n      <th>177</th>\n      <td>1523</td>\n      <td>37.75469</td>\n      <td>128.04289</td>\n      <td>38.0</td>\n      <td>41.4</td>\n      <td>NaN</td>\n      <td>NaN</td>\n      <td>4</td>\n      <td>0</td>\n      <td>0</td>\n      <td>3</td>\n      <td>서울양양선</td>\n      <td>60</td>\n      <td>왕복4차선</td>\n      <td>100.0</td>\n    </tr>\n    <tr>\n      <th>178</th>\n      <td>1524</td>\n      <td>37.78808</td>\n      <td>128.12425</td>\n      <td>84.0</td>\n      <td>52.0</td>\n      <td>NaN</td>\n      <td>NaN</td>\n      <td>4</td>\n      <td>0</td>\n      <td>0</td>\n      <td>3</td>\n      <td>서울양양선</td>\n      <td>60</td>\n      <td>왕복4차선</td>\n      <td>100.0</td>\n    </tr>\n    <tr>\n      <th>199</th>\n      <td>1396</td>\n      <td>35.13906</td>\n      <td>126.74826</td>\n      <td>30.0</td>\n      <td>50.0</td>\n      <td>NaN</td>\n      <td>NaN</td>\n      <td>4</td>\n      <td>0</td>\n      <td>2</td>\n      <td>1</td>\n      <td>순천완주선</td>\n      <td>(고속국도 27호선)</td>\n      <td>왕복4차선</td>\n      <td>100.0</td>\n    </tr>\n    <tr>\n      <th>200</th>\n      <td>1432</td>\n      <td>35.34308</td>\n      <td>127.34967</td>\n      <td>19.8</td>\n      <td>53.0</td>\n      <td>NaN</td>\n      <td>NaN</td>\n      <td>4</td>\n      <td>0</td>\n      <td>1</td>\n      <td>1</td>\n      <td>순천완주선</td>\n      <td>49.98k</td>\n      <td>왕복4차선</td>\n      <td>100.0</td>\n    </tr>\n    <tr>\n      <th>229</th>\n      <td>1437</td>\n      <td>34.70697</td>\n      <td>126.64222</td>\n      <td>5.0</td>\n      <td>56.6</td>\n      <td>3.0</td>\n      <td>0.3</td>\n      <td>4</td>\n      <td>1</td>\n      <td>0</td>\n      <td>0</td>\n      <td>영암순천선</td>\n      <td>12.64k</td>\n      <td>왕복4차선</td>\n      <td>100.0</td>\n    </tr>\n    <tr>\n      <th>230</th>\n      <td>1413</td>\n      <td>34.71368</td>\n      <td>126.63661</td>\n      <td>NaN</td>\n      <td>NaN</td>\n      <td>NaN</td>\n      <td>NaN</td>\n      <td>4</td>\n      <td>1</td>\n      <td>2</td>\n      <td>0</td>\n      <td>영암순천선</td>\n      <td>(고속국도 10호선)</td>\n      <td>왕복왕복4차선차선</td>\n      <td>100.0</td>\n    </tr>\n    <tr>\n      <th>231</th>\n      <td>1439</td>\n      <td>34.70667</td>\n      <td>126.64511</td>\n      <td>NaN</td>\n      <td>NaN</td>\n      <td>NaN</td>\n      <td>NaN</td>\n      <td>4</td>\n      <td>1</td>\n      <td>4</td>\n      <td>0</td>\n      <td>영암순천선</td>\n      <td>12.94k</td>\n      <td>왕복4차선</td>\n      <td>100.0</td>\n    </tr>\n    <tr>\n      <th>232</th>\n      <td>1397</td>\n      <td>34.67984</td>\n      <td>126.82821</td>\n      <td>38.0</td>\n      <td>60.0</td>\n      <td>NaN</td>\n      <td>NaN</td>\n      <td>4</td>\n      <td>0</td>\n      <td>1</td>\n      <td>0</td>\n      <td>영암순천선</td>\n      <td>(고속국도 10호선)</td>\n      <td>왕복4차선</td>\n      <td>100.0</td>\n    </tr>\n    <tr>\n      <th>238</th>\n      <td>1535</td>\n      <td>36.58562</td>\n      <td>126.63291</td>\n      <td>12.6</td>\n      <td>105.0</td>\n      <td>NaN</td>\n      <td>NaN</td>\n      <td>4</td>\n      <td>0</td>\n      <td>0</td>\n      <td>3</td>\n      <td>남부순환로</td>\n      <td>(국도29호선)</td>\n      <td>왕복4차선</td>\n      <td>NaN</td>\n    </tr>\n    <tr>\n      <th>284</th>\n      <td>1269</td>\n      <td>36.75369</td>\n      <td>127.28183</td>\n      <td>NaN</td>\n      <td>NaN</td>\n      <td>NaN</td>\n      <td>NaN</td>\n      <td>4</td>\n      <td>0</td>\n      <td>1</td>\n      <td>1</td>\n      <td>남부대로</td>\n      <td>(국도21호선)</td>\n      <td>왕복4차선</td>\n      <td>NaN</td>\n    </tr>\n    <tr>\n      <th>376</th>\n      <td>1268</td>\n      <td>36.75336</td>\n      <td>127.27933</td>\n      <td>12.5</td>\n      <td>56.0</td>\n      <td>NaN</td>\n      <td>NaN</td>\n      <td>4</td>\n      <td>0</td>\n      <td>1</td>\n      <td>0</td>\n      <td>남부대로</td>\n      <td>(국도21호선)</td>\n      <td>왕복4차선</td>\n      <td>NaN</td>\n    </tr>\n    <tr>\n      <th>433</th>\n      <td>1012</td>\n      <td>36.34806</td>\n      <td>127.46056</td>\n      <td>NaN</td>\n      <td>NaN</td>\n      <td>NaN</td>\n      <td>NaN</td>\n      <td>4</td>\n      <td>1</td>\n      <td>2</td>\n      <td>0</td>\n      <td>동부순환도로</td>\n      <td>NaN</td>\n      <td>왕복4차선</td>\n      <td>NaN</td>\n    </tr>\n    <tr>\n      <th>434</th>\n      <td>1011</td>\n      <td>36.34083</td>\n      <td>127.45944</td>\n      <td>NaN</td>\n      <td>NaN</td>\n      <td>NaN</td>\n      <td>NaN</td>\n      <td>4</td>\n      <td>1</td>\n      <td>2</td>\n      <td>0</td>\n      <td>동부순환도로</td>\n      <td>NaN</td>\n      <td>왕복4차선</td>\n      <td>NaN</td>\n    </tr>\n    <tr>\n      <th>484</th>\n      <td>1077</td>\n      <td>36.57472</td>\n      <td>127.37861</td>\n      <td>10.0</td>\n      <td>30.0</td>\n      <td>NaN</td>\n      <td>NaN</td>\n      <td>2</td>\n      <td>0</td>\n      <td>0</td>\n      <td>1</td>\n      <td>군현∼연정</td>\n      <td>면도 103호선</td>\n      <td>왕복2차선</td>\n      <td>NaN</td>\n    </tr>\n  </tbody>\n</table>\n</div>"
     },
     "execution_count": 38,
     "metadata": {},
     "output_type": "execute_result"
    }
   ],
   "source": [
    "main2[(main2['도로명'] == '광주대구선 125.8k') | (main2['도로명'] == '광주대구선') | (main2['도로명'] == '동해선') |\n",
    "      (main2['도로명'] == '무안광주선') | (main2['도로명'] == '서부순환로') | (main2['도로명'] == '서울양양선') |\n",
    "      (main2['도로명'] == '순천완주선') | (main2['도로명'] == '영암순천선') | (main2['도로명'] ==  '남부순환로') | \n",
    "      (main2['도로명'] == '남부대로') | (main2['도로명'] == '동부순환도로') | (main2['도로명'] ==  '군현∼연정')]"
   ]
  },
  {
   "cell_type": "code",
   "execution_count": 39,
   "metadata": {
    "executionInfo": {
     "elapsed": 12,
     "status": "ok",
     "timestamp": 1660404754055,
     "user": {
      "displayName": "박예림",
      "userId": "02538636255865811244"
     },
     "user_tz": -540
    },
    "id": "9nFCDdI6gBmU"
   },
   "outputs": [],
   "source": [
    "# 광주대구선 고속도로 최고제한속도는 100\n",
    "main2.loc[28:34, '최고제한속도(km/h)'] = 100"
   ]
  },
  {
   "cell_type": "markdown",
   "metadata": {
    "id": "I796gSM9hzmP"
   },
   "source": [
    "=> 서부순환로, 남부순환로, 남부대로, 동부순환도로, 군현~연정은 모두 일반국도로 아래에서 처리"
   ]
  },
  {
   "cell_type": "markdown",
   "metadata": {
    "id": "aF-mu4JbMVmU"
   },
   "source": [
    "## 일반국도 (고속도로 이외 도로)\n",
    "일반국도 : 국도, 지방도, 시도, 구도, 군도 등 \\\n",
    "*[국도](https://namu.wiki/w/%EA%B5%AD%EB%8F%84)는 고속국도와 일반국도로 분류되지만, 고속국도는 보통 고속도로로 칭하고 일반적으로는 일반국도만을 '국도'라고 부른다. "
   ]
  },
  {
   "cell_type": "code",
   "execution_count": 40,
   "metadata": {
    "colab": {
     "base_uri": "https://localhost:8080/"
    },
    "executionInfo": {
     "elapsed": 376,
     "status": "ok",
     "timestamp": 1660404757166,
     "user": {
      "displayName": "박예림",
      "userId": "02538636255865811244"
     },
     "user_tz": -540
    },
    "id": "1HP_adY8GIgO",
    "outputId": "d0ff8bd2-a5c7-4fa4-8563-e0926ba93a64"
   },
   "outputs": [
    {
     "data": {
      "text/plain": "407"
     },
     "execution_count": 40,
     "metadata": {},
     "output_type": "execute_result"
    }
   ],
   "source": [
    "main2['최고제한속도(km/h)'].isna().sum()"
   ]
  },
  {
   "cell_type": "code",
   "execution_count": 41,
   "metadata": {
    "colab": {
     "base_uri": "https://localhost:8080/",
     "height": 589
    },
    "executionInfo": {
     "elapsed": 413,
     "status": "ok",
     "timestamp": 1660404761690,
     "user": {
      "displayName": "박예림",
      "userId": "02538636255865811244"
     },
     "user_tz": -540
    },
    "id": "DV8owD7bizn2",
    "outputId": "832e0522-5cd3-44c9-d099-fa3de8403903"
   },
   "outputs": [
    {
     "data": {
      "text/plain": "       번호        위도         경도      폭     연장  높이  개방도  차선_수  생태통로타입  등산객이용빈도  \\\n0    1495  35.36019  128.06375   5.00   45.0 NaN  NaN     4       0        1   \n1    1277  37.03408  128.40661    NaN    NaN NaN  NaN     2       1        0   \n2    1278  36.89832  128.30563    NaN    NaN NaN  NaN     2       1        0   \n3    1279  36.89687  128.30581    NaN    NaN NaN  NaN     2       1        0   \n4    1090  36.71051  127.42222   8.23   38.0 NaN  NaN     6       0        5   \n..    ...       ...        ...    ...    ...  ..  ...   ...     ...      ...   \n492  1089  36.71278  127.42056  13.30   50.7 NaN  NaN     6       0        0   \n493  1087  36.71722  127.41778  13.60   38.7 NaN  NaN     4       0        5   \n494  1088  36.71222  127.42528  13.30   50.7 NaN  NaN     4       0        5   \n495  1091  36.76750  127.47333   7.00   20.0 NaN  NaN     2       0        0   \n496  1072  36.65293  127.51278  35.00  100.0 NaN  NaN     6       0        5   \n\n     생태통로효율성     도로명               도로번호  차선_수_도로정보  최고제한속도(km/h)  \n0          3    일반국도               20호선      왕복4차선           NaN  \n1          3      국도               59호선      왕복2차선           NaN  \n2          1      국도               59호선      왕복2차선           NaN  \n3          1      국도               59호선      왕복2차선           NaN  \n4          1     지방도               540호      왕복6차선           NaN  \n..       ...     ...                ...        ...           ...  \n492        0  과학산업2로           구룡리 472도      왕복6차선           NaN  \n493        0   오창공원로           구룡리 442도      왕복4차선           NaN  \n494        0   오창공원로  양청리 882도(호수공원 주변)      왕복4차선           NaN  \n495        0      리도              213호선      왕복2차선           NaN  \n496        0    1순환로           산 128-1도  하부 왕복 6차선           NaN  \n\n[407 rows x 15 columns]",
      "text/html": "<div>\n<style scoped>\n    .dataframe tbody tr th:only-of-type {\n        vertical-align: middle;\n    }\n\n    .dataframe tbody tr th {\n        vertical-align: top;\n    }\n\n    .dataframe thead th {\n        text-align: right;\n    }\n</style>\n<table border=\"1\" class=\"dataframe\">\n  <thead>\n    <tr style=\"text-align: right;\">\n      <th></th>\n      <th>번호</th>\n      <th>위도</th>\n      <th>경도</th>\n      <th>폭</th>\n      <th>연장</th>\n      <th>높이</th>\n      <th>개방도</th>\n      <th>차선_수</th>\n      <th>생태통로타입</th>\n      <th>등산객이용빈도</th>\n      <th>생태통로효율성</th>\n      <th>도로명</th>\n      <th>도로번호</th>\n      <th>차선_수_도로정보</th>\n      <th>최고제한속도(km/h)</th>\n    </tr>\n  </thead>\n  <tbody>\n    <tr>\n      <th>0</th>\n      <td>1495</td>\n      <td>35.36019</td>\n      <td>128.06375</td>\n      <td>5.00</td>\n      <td>45.0</td>\n      <td>NaN</td>\n      <td>NaN</td>\n      <td>4</td>\n      <td>0</td>\n      <td>1</td>\n      <td>3</td>\n      <td>일반국도</td>\n      <td>20호선</td>\n      <td>왕복4차선</td>\n      <td>NaN</td>\n    </tr>\n    <tr>\n      <th>1</th>\n      <td>1277</td>\n      <td>37.03408</td>\n      <td>128.40661</td>\n      <td>NaN</td>\n      <td>NaN</td>\n      <td>NaN</td>\n      <td>NaN</td>\n      <td>2</td>\n      <td>1</td>\n      <td>0</td>\n      <td>3</td>\n      <td>국도</td>\n      <td>59호선</td>\n      <td>왕복2차선</td>\n      <td>NaN</td>\n    </tr>\n    <tr>\n      <th>2</th>\n      <td>1278</td>\n      <td>36.89832</td>\n      <td>128.30563</td>\n      <td>NaN</td>\n      <td>NaN</td>\n      <td>NaN</td>\n      <td>NaN</td>\n      <td>2</td>\n      <td>1</td>\n      <td>0</td>\n      <td>1</td>\n      <td>국도</td>\n      <td>59호선</td>\n      <td>왕복2차선</td>\n      <td>NaN</td>\n    </tr>\n    <tr>\n      <th>3</th>\n      <td>1279</td>\n      <td>36.89687</td>\n      <td>128.30581</td>\n      <td>NaN</td>\n      <td>NaN</td>\n      <td>NaN</td>\n      <td>NaN</td>\n      <td>2</td>\n      <td>1</td>\n      <td>0</td>\n      <td>1</td>\n      <td>국도</td>\n      <td>59호선</td>\n      <td>왕복2차선</td>\n      <td>NaN</td>\n    </tr>\n    <tr>\n      <th>4</th>\n      <td>1090</td>\n      <td>36.71051</td>\n      <td>127.42222</td>\n      <td>8.23</td>\n      <td>38.0</td>\n      <td>NaN</td>\n      <td>NaN</td>\n      <td>6</td>\n      <td>0</td>\n      <td>5</td>\n      <td>1</td>\n      <td>지방도</td>\n      <td>540호</td>\n      <td>왕복6차선</td>\n      <td>NaN</td>\n    </tr>\n    <tr>\n      <th>...</th>\n      <td>...</td>\n      <td>...</td>\n      <td>...</td>\n      <td>...</td>\n      <td>...</td>\n      <td>...</td>\n      <td>...</td>\n      <td>...</td>\n      <td>...</td>\n      <td>...</td>\n      <td>...</td>\n      <td>...</td>\n      <td>...</td>\n      <td>...</td>\n      <td>...</td>\n    </tr>\n    <tr>\n      <th>492</th>\n      <td>1089</td>\n      <td>36.71278</td>\n      <td>127.42056</td>\n      <td>13.30</td>\n      <td>50.7</td>\n      <td>NaN</td>\n      <td>NaN</td>\n      <td>6</td>\n      <td>0</td>\n      <td>0</td>\n      <td>0</td>\n      <td>과학산업2로</td>\n      <td>구룡리 472도</td>\n      <td>왕복6차선</td>\n      <td>NaN</td>\n    </tr>\n    <tr>\n      <th>493</th>\n      <td>1087</td>\n      <td>36.71722</td>\n      <td>127.41778</td>\n      <td>13.60</td>\n      <td>38.7</td>\n      <td>NaN</td>\n      <td>NaN</td>\n      <td>4</td>\n      <td>0</td>\n      <td>5</td>\n      <td>0</td>\n      <td>오창공원로</td>\n      <td>구룡리 442도</td>\n      <td>왕복4차선</td>\n      <td>NaN</td>\n    </tr>\n    <tr>\n      <th>494</th>\n      <td>1088</td>\n      <td>36.71222</td>\n      <td>127.42528</td>\n      <td>13.30</td>\n      <td>50.7</td>\n      <td>NaN</td>\n      <td>NaN</td>\n      <td>4</td>\n      <td>0</td>\n      <td>5</td>\n      <td>0</td>\n      <td>오창공원로</td>\n      <td>양청리 882도(호수공원 주변)</td>\n      <td>왕복4차선</td>\n      <td>NaN</td>\n    </tr>\n    <tr>\n      <th>495</th>\n      <td>1091</td>\n      <td>36.76750</td>\n      <td>127.47333</td>\n      <td>7.00</td>\n      <td>20.0</td>\n      <td>NaN</td>\n      <td>NaN</td>\n      <td>2</td>\n      <td>0</td>\n      <td>0</td>\n      <td>0</td>\n      <td>리도</td>\n      <td>213호선</td>\n      <td>왕복2차선</td>\n      <td>NaN</td>\n    </tr>\n    <tr>\n      <th>496</th>\n      <td>1072</td>\n      <td>36.65293</td>\n      <td>127.51278</td>\n      <td>35.00</td>\n      <td>100.0</td>\n      <td>NaN</td>\n      <td>NaN</td>\n      <td>6</td>\n      <td>0</td>\n      <td>5</td>\n      <td>0</td>\n      <td>1순환로</td>\n      <td>산 128-1도</td>\n      <td>하부 왕복 6차선</td>\n      <td>NaN</td>\n    </tr>\n  </tbody>\n</table>\n<p>407 rows × 15 columns</p>\n</div>"
     },
     "execution_count": 41,
     "metadata": {},
     "output_type": "execute_result"
    }
   ],
   "source": [
    "general = main2[main2['최고제한속도(km/h)'].isna()] # 고속도로 이외 일반도로\n",
    "general"
   ]
  },
  {
   "cell_type": "code",
   "execution_count": 42,
   "metadata": {
    "colab": {
     "base_uri": "https://localhost:8080/"
    },
    "executionInfo": {
     "elapsed": 363,
     "status": "ok",
     "timestamp": 1660404766919,
     "user": {
      "displayName": "박예림",
      "userId": "02538636255865811244"
     },
     "user_tz": -540
    },
    "id": "pMeYMp2BMvdO",
    "outputId": "bffdb902-d603-484d-dd3e-dca924f3c010"
   },
   "outputs": [
    {
     "data": {
      "text/plain": "array(['일반국도', '국도', '지방도', nan, '갈매동 산 69-183', '군도', '갈사만진입도로', '국지도',\n       '개좌로', '계룡대로', '범안로', '지방도 ', '소로1-11', '충절로', '구항길', '민락로',\n       '농어촌도로', '신평화로', '하면~일동', '논현로', '시도', '국도 ', '돌마로', '만덕고갯길',\n       '농어촌101호선', '국대도', '금하로', '후광대로', '-', '서부순환로', '아차산로', '현동로',\n       '산115', '서원구', '논고개로', '태조산', '신단로', '위임국도', '앵고개로', '부흥로',\n       '천성대항길', '대로', '예천군 호명면 종산리 산46-1', '남부순환로', '농어촌', '충무로72번길',\n       '신월로', '원적로', '공단', '상원사진입도로', '은봉로', '낙동남로', '하능마을로', '남부대로',\n       '동일로', '계남큰길', '지방산업단지진입도로', '경명로', '어하고개로', '북부산업로', '보삼길', '시청로',\n       '학령로', '516로', '마을진입로', '현문로', '중로', '학고개터널', '도시계획도로소', '원설로',\n       '군도6호', '1002호선', '행암로', '다산산단로', '봉산로', '동부순환도로', '산동-고달간',\n       '산동고달간', '농어촌도', '516도로', '평화로', '1100도로', '국도대체우회도로', '금성',\n       '대(보)', '소로2-5', '사담선', '군현∼연정', '면도', '매봉로', '구룡산로', '안뜸로',\n       '1순환로', '과학산업2로', '오창공원로', '리도'], dtype=object)"
     },
     "execution_count": 42,
     "metadata": {},
     "output_type": "execute_result"
    }
   ],
   "source": [
    "general['도로명'].unique()"
   ]
  },
  {
   "cell_type": "markdown",
   "metadata": {
    "id": "gk2EPPaSemRW"
   },
   "source": [
    "### 도로명이 결측치인 경우"
   ]
  },
  {
   "cell_type": "code",
   "execution_count": 43,
   "metadata": {
    "colab": {
     "base_uri": "https://localhost:8080/",
     "height": 222
    },
    "executionInfo": {
     "elapsed": 396,
     "status": "ok",
     "timestamp": 1660404769721,
     "user": {
      "displayName": "박예림",
      "userId": "02538636255865811244"
     },
     "user_tz": -540
    },
    "id": "dJJOUkLvQPM4",
    "outputId": "782616f0-de80-4d8b-dc76-68474a6e4a4c"
   },
   "outputs": [
    {
     "data": {
      "text/plain": "       번호        위도         경도     폭     연장  높이  개방도  차선_수  생태통로타입  등산객이용빈도  \\\n146  1506  37.19361  126.95028  56.8   60.6 NaN  NaN     4       0        0   \n221  1063  37.29661  127.05875  29.1  329.0 NaN  NaN    16       0        5   \n236  1018  37.35452  127.16786  68.0   64.0 NaN  NaN     4       0        2   \n\n     생태통로효율성 도로명  도로번호 차선_수_도로정보  최고제한속도(km/h)  \n146        3   -     -     왕복4차선           NaN  \n221        1   -     -    왕복16차선           NaN  \n236        0   -  57호선     왕복4차선           NaN  ",
      "text/html": "<div>\n<style scoped>\n    .dataframe tbody tr th:only-of-type {\n        vertical-align: middle;\n    }\n\n    .dataframe tbody tr th {\n        vertical-align: top;\n    }\n\n    .dataframe thead th {\n        text-align: right;\n    }\n</style>\n<table border=\"1\" class=\"dataframe\">\n  <thead>\n    <tr style=\"text-align: right;\">\n      <th></th>\n      <th>번호</th>\n      <th>위도</th>\n      <th>경도</th>\n      <th>폭</th>\n      <th>연장</th>\n      <th>높이</th>\n      <th>개방도</th>\n      <th>차선_수</th>\n      <th>생태통로타입</th>\n      <th>등산객이용빈도</th>\n      <th>생태통로효율성</th>\n      <th>도로명</th>\n      <th>도로번호</th>\n      <th>차선_수_도로정보</th>\n      <th>최고제한속도(km/h)</th>\n    </tr>\n  </thead>\n  <tbody>\n    <tr>\n      <th>146</th>\n      <td>1506</td>\n      <td>37.19361</td>\n      <td>126.95028</td>\n      <td>56.8</td>\n      <td>60.6</td>\n      <td>NaN</td>\n      <td>NaN</td>\n      <td>4</td>\n      <td>0</td>\n      <td>0</td>\n      <td>3</td>\n      <td>-</td>\n      <td>-</td>\n      <td>왕복4차선</td>\n      <td>NaN</td>\n    </tr>\n    <tr>\n      <th>221</th>\n      <td>1063</td>\n      <td>37.29661</td>\n      <td>127.05875</td>\n      <td>29.1</td>\n      <td>329.0</td>\n      <td>NaN</td>\n      <td>NaN</td>\n      <td>16</td>\n      <td>0</td>\n      <td>5</td>\n      <td>1</td>\n      <td>-</td>\n      <td>-</td>\n      <td>왕복16차선</td>\n      <td>NaN</td>\n    </tr>\n    <tr>\n      <th>236</th>\n      <td>1018</td>\n      <td>37.35452</td>\n      <td>127.16786</td>\n      <td>68.0</td>\n      <td>64.0</td>\n      <td>NaN</td>\n      <td>NaN</td>\n      <td>4</td>\n      <td>0</td>\n      <td>2</td>\n      <td>0</td>\n      <td>-</td>\n      <td>57호선</td>\n      <td>왕복4차선</td>\n      <td>NaN</td>\n    </tr>\n  </tbody>\n</table>\n</div>"
     },
     "execution_count": 43,
     "metadata": {},
     "output_type": "execute_result"
    }
   ],
   "source": [
    "general[(general['도로명'] == None) | (general['도로명'] == '-')]"
   ]
  },
  {
   "cell_type": "markdown",
   "metadata": {
    "id": "NO2Q1t9hufyF"
   },
   "source": [
    "=> 차선 수에 기반해 아래에서 처리"
   ]
  },
  {
   "cell_type": "markdown",
   "metadata": {
    "id": "ZtdlhtYwjhFo"
   },
   "source": [
    "### 일반국도는 **차선 수**에 기반해 최고제한속도 저장\n",
    "* 일반도로 (보통의 경우)\n",
    "  * 편도 1차로 → 60km/h 이내\n",
    "  * 편도 2차로 이상 → 80km/h 이내\n",
    "\n",
    "참고 : [도로교통공단 - 법정 속도](https://www.koroad.or.kr/kp_web/knCarSafe1-03.do)"
   ]
  },
  {
   "cell_type": "code",
   "execution_count": 44,
   "metadata": {
    "colab": {
     "base_uri": "https://localhost:8080/"
    },
    "executionInfo": {
     "elapsed": 396,
     "status": "ok",
     "timestamp": 1660404773508,
     "user": {
      "displayName": "박예림",
      "userId": "02538636255865811244"
     },
     "user_tz": -540
    },
    "id": "Kq93GOEmif7Y",
    "outputId": "eed84ef1-d666-4b37-f135-a3d5f31cf11e"
   },
   "outputs": [
    {
     "data": {
      "text/plain": "array(['왕복4차선', '왕복2차선', '왕복6차선', '왕복8차선', '하천횡단', '왕복 1 차선', '왕복 6 차선',\n       '왕복3차선', '왕복5', '왕복5차선', '왕복16차선', '왕복1차선', '왕복6차로', '2차선',\n       '왕복7차선', '왕복12차선', '왕복3차선(오르막차로1차로포함)', '1차로', '하부 왕복 6차선'],\n      dtype=object)"
     },
     "execution_count": 44,
     "metadata": {},
     "output_type": "execute_result"
    }
   ],
   "source": [
    "general['차선_수_도로정보'].unique()"
   ]
  },
  {
   "cell_type": "markdown",
   "metadata": {
    "id": "kzGvprvct-YQ"
   },
   "source": [
    "#### 편도 2차로 미만인 경우"
   ]
  },
  {
   "cell_type": "code",
   "execution_count": 45,
   "metadata": {
    "colab": {
     "base_uri": "https://localhost:8080/",
     "height": 659
    },
    "executionInfo": {
     "elapsed": 539,
     "status": "ok",
     "timestamp": 1660404775865,
     "user": {
      "displayName": "박예림",
      "userId": "02538636255865811244"
     },
     "user_tz": -540
    },
    "id": "h-cIokWwuCSB",
    "outputId": "986860bc-f344-46ac-ae77-06dcb389e3a1"
   },
   "outputs": [
    {
     "data": {
      "text/plain": "       번호        위도         경도     폭    연장  높이  개방도  차선_수  생태통로타입  등산객이용빈도  \\\n1    1277  37.03408  128.40661   NaN   NaN NaN  NaN     2       1        0   \n2    1278  36.89832  128.30563   NaN   NaN NaN  NaN     2       1        0   \n3    1279  36.89687  128.30581   NaN   NaN NaN  NaN     2       1        0   \n5    1023  37.41972  127.18750  15.0  38.0 NaN  NaN     2       0        1   \n7    1453  36.40691  129.04714  37.3  12.4 NaN  NaN     2       0        0   \n..    ...       ...        ...   ...   ...  ..  ...   ...     ...      ...   \n486  1080  36.60484  127.54735  30.0  15.0 NaN  NaN     2       0        0   \n487  1081  36.67299  127.66779  37.0  35.0 NaN  NaN     2       0        0   \n488  1482  36.62409  127.47784  22.6  31.2 NaN  NaN     2       0        5   \n490  1084  36.61426  127.48109   7.2  23.8 NaN  NaN     2       0        4   \n495  1091  36.76750  127.47333   7.0  20.0 NaN  NaN     2       0        0   \n\n     생태통로효율성  도로명    도로번호 차선_수_도로정보  최고제한속도(km/h)  \n1          3   국도    59호선     왕복2차선           NaN  \n2          1   국도    59호선     왕복2차선           NaN  \n3          1   국도    59호선     왕복2차선           NaN  \n5          2  NaN     389     왕복2차선           NaN  \n7          1   군도  금곡2-신흥     왕복2차선           NaN  \n..       ...  ...     ...       ...           ...  \n486        1   면도   106호선     왕복2차선           NaN  \n487        0   면도   101호선     왕복2차선           NaN  \n488        3  매봉로     매봉로     왕복2차선           NaN  \n490        3  안뜸로      47     왕복2차선           NaN  \n495        0   리도   213호선     왕복2차선           NaN  \n\n[224 rows x 15 columns]",
      "text/html": "<div>\n<style scoped>\n    .dataframe tbody tr th:only-of-type {\n        vertical-align: middle;\n    }\n\n    .dataframe tbody tr th {\n        vertical-align: top;\n    }\n\n    .dataframe thead th {\n        text-align: right;\n    }\n</style>\n<table border=\"1\" class=\"dataframe\">\n  <thead>\n    <tr style=\"text-align: right;\">\n      <th></th>\n      <th>번호</th>\n      <th>위도</th>\n      <th>경도</th>\n      <th>폭</th>\n      <th>연장</th>\n      <th>높이</th>\n      <th>개방도</th>\n      <th>차선_수</th>\n      <th>생태통로타입</th>\n      <th>등산객이용빈도</th>\n      <th>생태통로효율성</th>\n      <th>도로명</th>\n      <th>도로번호</th>\n      <th>차선_수_도로정보</th>\n      <th>최고제한속도(km/h)</th>\n    </tr>\n  </thead>\n  <tbody>\n    <tr>\n      <th>1</th>\n      <td>1277</td>\n      <td>37.03408</td>\n      <td>128.40661</td>\n      <td>NaN</td>\n      <td>NaN</td>\n      <td>NaN</td>\n      <td>NaN</td>\n      <td>2</td>\n      <td>1</td>\n      <td>0</td>\n      <td>3</td>\n      <td>국도</td>\n      <td>59호선</td>\n      <td>왕복2차선</td>\n      <td>NaN</td>\n    </tr>\n    <tr>\n      <th>2</th>\n      <td>1278</td>\n      <td>36.89832</td>\n      <td>128.30563</td>\n      <td>NaN</td>\n      <td>NaN</td>\n      <td>NaN</td>\n      <td>NaN</td>\n      <td>2</td>\n      <td>1</td>\n      <td>0</td>\n      <td>1</td>\n      <td>국도</td>\n      <td>59호선</td>\n      <td>왕복2차선</td>\n      <td>NaN</td>\n    </tr>\n    <tr>\n      <th>3</th>\n      <td>1279</td>\n      <td>36.89687</td>\n      <td>128.30581</td>\n      <td>NaN</td>\n      <td>NaN</td>\n      <td>NaN</td>\n      <td>NaN</td>\n      <td>2</td>\n      <td>1</td>\n      <td>0</td>\n      <td>1</td>\n      <td>국도</td>\n      <td>59호선</td>\n      <td>왕복2차선</td>\n      <td>NaN</td>\n    </tr>\n    <tr>\n      <th>5</th>\n      <td>1023</td>\n      <td>37.41972</td>\n      <td>127.18750</td>\n      <td>15.0</td>\n      <td>38.0</td>\n      <td>NaN</td>\n      <td>NaN</td>\n      <td>2</td>\n      <td>0</td>\n      <td>1</td>\n      <td>2</td>\n      <td>NaN</td>\n      <td>389</td>\n      <td>왕복2차선</td>\n      <td>NaN</td>\n    </tr>\n    <tr>\n      <th>7</th>\n      <td>1453</td>\n      <td>36.40691</td>\n      <td>129.04714</td>\n      <td>37.3</td>\n      <td>12.4</td>\n      <td>NaN</td>\n      <td>NaN</td>\n      <td>2</td>\n      <td>0</td>\n      <td>0</td>\n      <td>1</td>\n      <td>군도</td>\n      <td>금곡2-신흥</td>\n      <td>왕복2차선</td>\n      <td>NaN</td>\n    </tr>\n    <tr>\n      <th>...</th>\n      <td>...</td>\n      <td>...</td>\n      <td>...</td>\n      <td>...</td>\n      <td>...</td>\n      <td>...</td>\n      <td>...</td>\n      <td>...</td>\n      <td>...</td>\n      <td>...</td>\n      <td>...</td>\n      <td>...</td>\n      <td>...</td>\n      <td>...</td>\n      <td>...</td>\n    </tr>\n    <tr>\n      <th>486</th>\n      <td>1080</td>\n      <td>36.60484</td>\n      <td>127.54735</td>\n      <td>30.0</td>\n      <td>15.0</td>\n      <td>NaN</td>\n      <td>NaN</td>\n      <td>2</td>\n      <td>0</td>\n      <td>0</td>\n      <td>1</td>\n      <td>면도</td>\n      <td>106호선</td>\n      <td>왕복2차선</td>\n      <td>NaN</td>\n    </tr>\n    <tr>\n      <th>487</th>\n      <td>1081</td>\n      <td>36.67299</td>\n      <td>127.66779</td>\n      <td>37.0</td>\n      <td>35.0</td>\n      <td>NaN</td>\n      <td>NaN</td>\n      <td>2</td>\n      <td>0</td>\n      <td>0</td>\n      <td>0</td>\n      <td>면도</td>\n      <td>101호선</td>\n      <td>왕복2차선</td>\n      <td>NaN</td>\n    </tr>\n    <tr>\n      <th>488</th>\n      <td>1482</td>\n      <td>36.62409</td>\n      <td>127.47784</td>\n      <td>22.6</td>\n      <td>31.2</td>\n      <td>NaN</td>\n      <td>NaN</td>\n      <td>2</td>\n      <td>0</td>\n      <td>5</td>\n      <td>3</td>\n      <td>매봉로</td>\n      <td>매봉로</td>\n      <td>왕복2차선</td>\n      <td>NaN</td>\n    </tr>\n    <tr>\n      <th>490</th>\n      <td>1084</td>\n      <td>36.61426</td>\n      <td>127.48109</td>\n      <td>7.2</td>\n      <td>23.8</td>\n      <td>NaN</td>\n      <td>NaN</td>\n      <td>2</td>\n      <td>0</td>\n      <td>4</td>\n      <td>3</td>\n      <td>안뜸로</td>\n      <td>47</td>\n      <td>왕복2차선</td>\n      <td>NaN</td>\n    </tr>\n    <tr>\n      <th>495</th>\n      <td>1091</td>\n      <td>36.76750</td>\n      <td>127.47333</td>\n      <td>7.0</td>\n      <td>20.0</td>\n      <td>NaN</td>\n      <td>NaN</td>\n      <td>2</td>\n      <td>0</td>\n      <td>0</td>\n      <td>0</td>\n      <td>리도</td>\n      <td>213호선</td>\n      <td>왕복2차선</td>\n      <td>NaN</td>\n    </tr>\n  </tbody>\n</table>\n<p>224 rows × 15 columns</p>\n</div>"
     },
     "execution_count": 45,
     "metadata": {},
     "output_type": "execute_result"
    }
   ],
   "source": [
    "general[(general['차선_수_도로정보'] == '왕복2차선') | (general['차선_수_도로정보'] == '왕복 1 차선') |\n",
    "        (general['차선_수_도로정보'] == '왕복3차선') | (general['차선_수_도로정보'] == '왕복1차선') |\n",
    "        (general['차선_수_도로정보'] == '2차선') | (general['차선_수_도로정보'] == '왕복3차선(오르막차로1차로포함)') |\n",
    "        (general['차선_수_도로정보'] == '1차로')]"
   ]
  },
  {
   "cell_type": "code",
   "execution_count": 46,
   "metadata": {
    "colab": {
     "base_uri": "https://localhost:8080/"
    },
    "executionInfo": {
     "elapsed": 492,
     "status": "ok",
     "timestamp": 1660404779479,
     "user": {
      "displayName": "박예림",
      "userId": "02538636255865811244"
     },
     "user_tz": -540
    },
    "id": "1l1DKvYPrDBh",
    "outputId": "6599c614-5ee6-4fd4-9afb-c6a492b32b23"
   },
   "outputs": [
    {
     "data": {
      "text/plain": "Int64Index([  1,   2,   3,   5,   7,   9,  10,  12,  13,  14,\n            ...\n            481, 482, 483, 484, 485, 486, 487, 488, 490, 495],\n           dtype='int64', length=224)"
     },
     "execution_count": 46,
     "metadata": {},
     "output_type": "execute_result"
    }
   ],
   "source": [
    "less2_idx = general[(general['차선_수_도로정보'] == '왕복2차선') | (general['차선_수_도로정보'] == '왕복 1 차선') |\n",
    "                    (general['차선_수_도로정보'] == '왕복3차선') | (general['차선_수_도로정보'] == '왕복1차선') |\n",
    "                    (general['차선_수_도로정보'] == '2차선') | (general['차선_수_도로정보'] == '왕복3차선(오르막차로1차로포함)') |\n",
    "                    (general['차선_수_도로정보'] == '1차로')].index\n",
    "less2_idx"
   ]
  },
  {
   "cell_type": "code",
   "execution_count": 47,
   "metadata": {
    "colab": {
     "base_uri": "https://localhost:8080/",
     "height": 659
    },
    "executionInfo": {
     "elapsed": 11,
     "status": "ok",
     "timestamp": 1660404780907,
     "user": {
      "displayName": "박예림",
      "userId": "02538636255865811244"
     },
     "user_tz": -540
    },
    "id": "9ad4hM_dthi6",
    "outputId": "bd9380e3-4b11-4306-8c6a-9cb6bb2ccc30"
   },
   "outputs": [
    {
     "data": {
      "text/plain": "       번호        위도         경도     폭    연장  높이  개방도  차선_수  생태통로타입  등산객이용빈도  \\\n1    1277  37.03408  128.40661   NaN   NaN NaN  NaN     2       1        0   \n2    1278  36.89832  128.30563   NaN   NaN NaN  NaN     2       1        0   \n3    1279  36.89687  128.30581   NaN   NaN NaN  NaN     2       1        0   \n5    1023  37.41972  127.18750  15.0  38.0 NaN  NaN     2       0        1   \n7    1453  36.40691  129.04714  37.3  12.4 NaN  NaN     2       0        0   \n..    ...       ...        ...   ...   ...  ..  ...   ...     ...      ...   \n486  1080  36.60484  127.54735  30.0  15.0 NaN  NaN     2       0        0   \n487  1081  36.67299  127.66779  37.0  35.0 NaN  NaN     2       0        0   \n488  1482  36.62409  127.47784  22.6  31.2 NaN  NaN     2       0        5   \n490  1084  36.61426  127.48109   7.2  23.8 NaN  NaN     2       0        4   \n495  1091  36.76750  127.47333   7.0  20.0 NaN  NaN     2       0        0   \n\n     생태통로효율성  도로명    도로번호 차선_수_도로정보  최고제한속도(km/h)  \n1          3   국도    59호선     왕복2차선          60.0  \n2          1   국도    59호선     왕복2차선          60.0  \n3          1   국도    59호선     왕복2차선          60.0  \n5          2  NaN     389     왕복2차선          60.0  \n7          1   군도  금곡2-신흥     왕복2차선          60.0  \n..       ...  ...     ...       ...           ...  \n486        1   면도   106호선     왕복2차선          60.0  \n487        0   면도   101호선     왕복2차선          60.0  \n488        3  매봉로     매봉로     왕복2차선          60.0  \n490        3  안뜸로      47     왕복2차선          60.0  \n495        0   리도   213호선     왕복2차선          60.0  \n\n[224 rows x 15 columns]",
      "text/html": "<div>\n<style scoped>\n    .dataframe tbody tr th:only-of-type {\n        vertical-align: middle;\n    }\n\n    .dataframe tbody tr th {\n        vertical-align: top;\n    }\n\n    .dataframe thead th {\n        text-align: right;\n    }\n</style>\n<table border=\"1\" class=\"dataframe\">\n  <thead>\n    <tr style=\"text-align: right;\">\n      <th></th>\n      <th>번호</th>\n      <th>위도</th>\n      <th>경도</th>\n      <th>폭</th>\n      <th>연장</th>\n      <th>높이</th>\n      <th>개방도</th>\n      <th>차선_수</th>\n      <th>생태통로타입</th>\n      <th>등산객이용빈도</th>\n      <th>생태통로효율성</th>\n      <th>도로명</th>\n      <th>도로번호</th>\n      <th>차선_수_도로정보</th>\n      <th>최고제한속도(km/h)</th>\n    </tr>\n  </thead>\n  <tbody>\n    <tr>\n      <th>1</th>\n      <td>1277</td>\n      <td>37.03408</td>\n      <td>128.40661</td>\n      <td>NaN</td>\n      <td>NaN</td>\n      <td>NaN</td>\n      <td>NaN</td>\n      <td>2</td>\n      <td>1</td>\n      <td>0</td>\n      <td>3</td>\n      <td>국도</td>\n      <td>59호선</td>\n      <td>왕복2차선</td>\n      <td>60.0</td>\n    </tr>\n    <tr>\n      <th>2</th>\n      <td>1278</td>\n      <td>36.89832</td>\n      <td>128.30563</td>\n      <td>NaN</td>\n      <td>NaN</td>\n      <td>NaN</td>\n      <td>NaN</td>\n      <td>2</td>\n      <td>1</td>\n      <td>0</td>\n      <td>1</td>\n      <td>국도</td>\n      <td>59호선</td>\n      <td>왕복2차선</td>\n      <td>60.0</td>\n    </tr>\n    <tr>\n      <th>3</th>\n      <td>1279</td>\n      <td>36.89687</td>\n      <td>128.30581</td>\n      <td>NaN</td>\n      <td>NaN</td>\n      <td>NaN</td>\n      <td>NaN</td>\n      <td>2</td>\n      <td>1</td>\n      <td>0</td>\n      <td>1</td>\n      <td>국도</td>\n      <td>59호선</td>\n      <td>왕복2차선</td>\n      <td>60.0</td>\n    </tr>\n    <tr>\n      <th>5</th>\n      <td>1023</td>\n      <td>37.41972</td>\n      <td>127.18750</td>\n      <td>15.0</td>\n      <td>38.0</td>\n      <td>NaN</td>\n      <td>NaN</td>\n      <td>2</td>\n      <td>0</td>\n      <td>1</td>\n      <td>2</td>\n      <td>NaN</td>\n      <td>389</td>\n      <td>왕복2차선</td>\n      <td>60.0</td>\n    </tr>\n    <tr>\n      <th>7</th>\n      <td>1453</td>\n      <td>36.40691</td>\n      <td>129.04714</td>\n      <td>37.3</td>\n      <td>12.4</td>\n      <td>NaN</td>\n      <td>NaN</td>\n      <td>2</td>\n      <td>0</td>\n      <td>0</td>\n      <td>1</td>\n      <td>군도</td>\n      <td>금곡2-신흥</td>\n      <td>왕복2차선</td>\n      <td>60.0</td>\n    </tr>\n    <tr>\n      <th>...</th>\n      <td>...</td>\n      <td>...</td>\n      <td>...</td>\n      <td>...</td>\n      <td>...</td>\n      <td>...</td>\n      <td>...</td>\n      <td>...</td>\n      <td>...</td>\n      <td>...</td>\n      <td>...</td>\n      <td>...</td>\n      <td>...</td>\n      <td>...</td>\n      <td>...</td>\n    </tr>\n    <tr>\n      <th>486</th>\n      <td>1080</td>\n      <td>36.60484</td>\n      <td>127.54735</td>\n      <td>30.0</td>\n      <td>15.0</td>\n      <td>NaN</td>\n      <td>NaN</td>\n      <td>2</td>\n      <td>0</td>\n      <td>0</td>\n      <td>1</td>\n      <td>면도</td>\n      <td>106호선</td>\n      <td>왕복2차선</td>\n      <td>60.0</td>\n    </tr>\n    <tr>\n      <th>487</th>\n      <td>1081</td>\n      <td>36.67299</td>\n      <td>127.66779</td>\n      <td>37.0</td>\n      <td>35.0</td>\n      <td>NaN</td>\n      <td>NaN</td>\n      <td>2</td>\n      <td>0</td>\n      <td>0</td>\n      <td>0</td>\n      <td>면도</td>\n      <td>101호선</td>\n      <td>왕복2차선</td>\n      <td>60.0</td>\n    </tr>\n    <tr>\n      <th>488</th>\n      <td>1482</td>\n      <td>36.62409</td>\n      <td>127.47784</td>\n      <td>22.6</td>\n      <td>31.2</td>\n      <td>NaN</td>\n      <td>NaN</td>\n      <td>2</td>\n      <td>0</td>\n      <td>5</td>\n      <td>3</td>\n      <td>매봉로</td>\n      <td>매봉로</td>\n      <td>왕복2차선</td>\n      <td>60.0</td>\n    </tr>\n    <tr>\n      <th>490</th>\n      <td>1084</td>\n      <td>36.61426</td>\n      <td>127.48109</td>\n      <td>7.2</td>\n      <td>23.8</td>\n      <td>NaN</td>\n      <td>NaN</td>\n      <td>2</td>\n      <td>0</td>\n      <td>4</td>\n      <td>3</td>\n      <td>안뜸로</td>\n      <td>47</td>\n      <td>왕복2차선</td>\n      <td>60.0</td>\n    </tr>\n    <tr>\n      <th>495</th>\n      <td>1091</td>\n      <td>36.76750</td>\n      <td>127.47333</td>\n      <td>7.0</td>\n      <td>20.0</td>\n      <td>NaN</td>\n      <td>NaN</td>\n      <td>2</td>\n      <td>0</td>\n      <td>0</td>\n      <td>0</td>\n      <td>리도</td>\n      <td>213호선</td>\n      <td>왕복2차선</td>\n      <td>60.0</td>\n    </tr>\n  </tbody>\n</table>\n<p>224 rows × 15 columns</p>\n</div>"
     },
     "execution_count": 47,
     "metadata": {},
     "output_type": "execute_result"
    }
   ],
   "source": [
    "main2.loc[less2_idx, '최고제한속도(km/h)'] = 60\n",
    "main2.loc[less2_idx]"
   ]
  },
  {
   "cell_type": "markdown",
   "metadata": {
    "id": "4meggIZEu6mV"
   },
   "source": [
    "#### 나머지 - 편도 2차선 이상 도로"
   ]
  },
  {
   "cell_type": "code",
   "execution_count": 48,
   "metadata": {
    "colab": {
     "base_uri": "https://localhost:8080/",
     "height": 607
    },
    "executionInfo": {
     "elapsed": 388,
     "status": "ok",
     "timestamp": 1660404786969,
     "user": {
      "displayName": "박예림",
      "userId": "02538636255865811244"
     },
     "user_tz": -540
    },
    "id": "GNgeHtyLvaTh",
    "outputId": "f089a5fc-3b4d-4a95-a1cd-6b85dfbc34b0"
   },
   "outputs": [
    {
     "data": {
      "text/plain": "       번호        위도         경도       폭     연장  높이  개방도  차선_수  생태통로타입  등산객이용빈도  \\\n0    1495  35.36019  128.06375    5.00   45.0 NaN  NaN     4       0        1   \n4    1090  36.71051  127.42222    8.23   38.0 NaN  NaN     6       0        5   \n6    1527  37.61974  127.11887     NaN    NaN NaN  NaN     4       0        0   \n8    1515  34.97735  127.81174   30.10   47.5 NaN  NaN     4       0        1   \n11   1060  37.28256  127.05281  100.00   60.0 NaN  NaN     8       0        0   \n..    ...       ...        ...     ...    ...  ..  ...   ...     ...      ...   \n491  1481  36.62239  127.46730    6.00   50.9 NaN  NaN     6       0        5   \n492  1089  36.71278  127.42056   13.30   50.7 NaN  NaN     6       0        0   \n493  1087  36.71722  127.41778   13.60   38.7 NaN  NaN     4       0        5   \n494  1088  36.71222  127.42528   13.30   50.7 NaN  NaN     4       0        5   \n496  1072  36.65293  127.51278   35.00  100.0 NaN  NaN     6       0        5   \n\n     생태통로효율성           도로명               도로번호  차선_수_도로정보  최고제한속도(km/h)  \n0          3          일반국도               20호선      왕복4차선           NaN  \n4          1           지방도               540호      왕복6차선           NaN  \n6          3  갈매동 산 69-183             도로명미부여      왕복4차선           NaN  \n8          2       갈사만진입도로                3호선      왕복4차선           NaN  \n11         3           지방도                  1      왕복8차선           NaN  \n..       ...           ...                ...        ...           ...  \n491        3          1순환로               1순환로      왕복6차선           NaN  \n492        0        과학산업2로           구룡리 472도      왕복6차선           NaN  \n493        0         오창공원로           구룡리 442도      왕복4차선           NaN  \n494        0         오창공원로  양청리 882도(호수공원 주변)      왕복4차선           NaN  \n496        0          1순환로           산 128-1도  하부 왕복 6차선           NaN  \n\n[183 rows x 15 columns]",
      "text/html": "<div>\n<style scoped>\n    .dataframe tbody tr th:only-of-type {\n        vertical-align: middle;\n    }\n\n    .dataframe tbody tr th {\n        vertical-align: top;\n    }\n\n    .dataframe thead th {\n        text-align: right;\n    }\n</style>\n<table border=\"1\" class=\"dataframe\">\n  <thead>\n    <tr style=\"text-align: right;\">\n      <th></th>\n      <th>번호</th>\n      <th>위도</th>\n      <th>경도</th>\n      <th>폭</th>\n      <th>연장</th>\n      <th>높이</th>\n      <th>개방도</th>\n      <th>차선_수</th>\n      <th>생태통로타입</th>\n      <th>등산객이용빈도</th>\n      <th>생태통로효율성</th>\n      <th>도로명</th>\n      <th>도로번호</th>\n      <th>차선_수_도로정보</th>\n      <th>최고제한속도(km/h)</th>\n    </tr>\n  </thead>\n  <tbody>\n    <tr>\n      <th>0</th>\n      <td>1495</td>\n      <td>35.36019</td>\n      <td>128.06375</td>\n      <td>5.00</td>\n      <td>45.0</td>\n      <td>NaN</td>\n      <td>NaN</td>\n      <td>4</td>\n      <td>0</td>\n      <td>1</td>\n      <td>3</td>\n      <td>일반국도</td>\n      <td>20호선</td>\n      <td>왕복4차선</td>\n      <td>NaN</td>\n    </tr>\n    <tr>\n      <th>4</th>\n      <td>1090</td>\n      <td>36.71051</td>\n      <td>127.42222</td>\n      <td>8.23</td>\n      <td>38.0</td>\n      <td>NaN</td>\n      <td>NaN</td>\n      <td>6</td>\n      <td>0</td>\n      <td>5</td>\n      <td>1</td>\n      <td>지방도</td>\n      <td>540호</td>\n      <td>왕복6차선</td>\n      <td>NaN</td>\n    </tr>\n    <tr>\n      <th>6</th>\n      <td>1527</td>\n      <td>37.61974</td>\n      <td>127.11887</td>\n      <td>NaN</td>\n      <td>NaN</td>\n      <td>NaN</td>\n      <td>NaN</td>\n      <td>4</td>\n      <td>0</td>\n      <td>0</td>\n      <td>3</td>\n      <td>갈매동 산 69-183</td>\n      <td>도로명미부여</td>\n      <td>왕복4차선</td>\n      <td>NaN</td>\n    </tr>\n    <tr>\n      <th>8</th>\n      <td>1515</td>\n      <td>34.97735</td>\n      <td>127.81174</td>\n      <td>30.10</td>\n      <td>47.5</td>\n      <td>NaN</td>\n      <td>NaN</td>\n      <td>4</td>\n      <td>0</td>\n      <td>1</td>\n      <td>2</td>\n      <td>갈사만진입도로</td>\n      <td>3호선</td>\n      <td>왕복4차선</td>\n      <td>NaN</td>\n    </tr>\n    <tr>\n      <th>11</th>\n      <td>1060</td>\n      <td>37.28256</td>\n      <td>127.05281</td>\n      <td>100.00</td>\n      <td>60.0</td>\n      <td>NaN</td>\n      <td>NaN</td>\n      <td>8</td>\n      <td>0</td>\n      <td>0</td>\n      <td>3</td>\n      <td>지방도</td>\n      <td>1</td>\n      <td>왕복8차선</td>\n      <td>NaN</td>\n    </tr>\n    <tr>\n      <th>...</th>\n      <td>...</td>\n      <td>...</td>\n      <td>...</td>\n      <td>...</td>\n      <td>...</td>\n      <td>...</td>\n      <td>...</td>\n      <td>...</td>\n      <td>...</td>\n      <td>...</td>\n      <td>...</td>\n      <td>...</td>\n      <td>...</td>\n      <td>...</td>\n      <td>...</td>\n    </tr>\n    <tr>\n      <th>491</th>\n      <td>1481</td>\n      <td>36.62239</td>\n      <td>127.46730</td>\n      <td>6.00</td>\n      <td>50.9</td>\n      <td>NaN</td>\n      <td>NaN</td>\n      <td>6</td>\n      <td>0</td>\n      <td>5</td>\n      <td>3</td>\n      <td>1순환로</td>\n      <td>1순환로</td>\n      <td>왕복6차선</td>\n      <td>NaN</td>\n    </tr>\n    <tr>\n      <th>492</th>\n      <td>1089</td>\n      <td>36.71278</td>\n      <td>127.42056</td>\n      <td>13.30</td>\n      <td>50.7</td>\n      <td>NaN</td>\n      <td>NaN</td>\n      <td>6</td>\n      <td>0</td>\n      <td>0</td>\n      <td>0</td>\n      <td>과학산업2로</td>\n      <td>구룡리 472도</td>\n      <td>왕복6차선</td>\n      <td>NaN</td>\n    </tr>\n    <tr>\n      <th>493</th>\n      <td>1087</td>\n      <td>36.71722</td>\n      <td>127.41778</td>\n      <td>13.60</td>\n      <td>38.7</td>\n      <td>NaN</td>\n      <td>NaN</td>\n      <td>4</td>\n      <td>0</td>\n      <td>5</td>\n      <td>0</td>\n      <td>오창공원로</td>\n      <td>구룡리 442도</td>\n      <td>왕복4차선</td>\n      <td>NaN</td>\n    </tr>\n    <tr>\n      <th>494</th>\n      <td>1088</td>\n      <td>36.71222</td>\n      <td>127.42528</td>\n      <td>13.30</td>\n      <td>50.7</td>\n      <td>NaN</td>\n      <td>NaN</td>\n      <td>4</td>\n      <td>0</td>\n      <td>5</td>\n      <td>0</td>\n      <td>오창공원로</td>\n      <td>양청리 882도(호수공원 주변)</td>\n      <td>왕복4차선</td>\n      <td>NaN</td>\n    </tr>\n    <tr>\n      <th>496</th>\n      <td>1072</td>\n      <td>36.65293</td>\n      <td>127.51278</td>\n      <td>35.00</td>\n      <td>100.0</td>\n      <td>NaN</td>\n      <td>NaN</td>\n      <td>6</td>\n      <td>0</td>\n      <td>5</td>\n      <td>0</td>\n      <td>1순환로</td>\n      <td>산 128-1도</td>\n      <td>하부 왕복 6차선</td>\n      <td>NaN</td>\n    </tr>\n  </tbody>\n</table>\n<p>183 rows × 15 columns</p>\n</div>"
     },
     "execution_count": 48,
     "metadata": {},
     "output_type": "execute_result"
    }
   ],
   "source": [
    "main2[main2['최고제한속도(km/h)'].isna()]"
   ]
  },
  {
   "cell_type": "code",
   "execution_count": 49,
   "metadata": {
    "executionInfo": {
     "elapsed": 375,
     "status": "ok",
     "timestamp": 1660404791991,
     "user": {
      "displayName": "박예림",
      "userId": "02538636255865811244"
     },
     "user_tz": -540
    },
    "id": "jm1OcPnrs_m-"
   },
   "outputs": [],
   "source": [
    "main2['최고제한속도(km/h)'].fillna(80, inplace=True)"
   ]
  },
  {
   "cell_type": "code",
   "execution_count": 50,
   "metadata": {
    "colab": {
     "base_uri": "https://localhost:8080/",
     "height": 589
    },
    "executionInfo": {
     "elapsed": 382,
     "status": "ok",
     "timestamp": 1660404794370,
     "user": {
      "displayName": "박예림",
      "userId": "02538636255865811244"
     },
     "user_tz": -540
    },
    "id": "i_Gb6SOqvm7z",
    "outputId": "ee0048ed-57e6-468c-b0ff-c732cbc72608"
   },
   "outputs": [
    {
     "data": {
      "text/plain": "       번호        위도         경도      폭     연장  높이  개방도  차선_수  생태통로타입  등산객이용빈도  \\\n0    1495  35.36019  128.06375   5.00   45.0 NaN  NaN     4       0        1   \n1    1277  37.03408  128.40661    NaN    NaN NaN  NaN     2       1        0   \n2    1278  36.89832  128.30563    NaN    NaN NaN  NaN     2       1        0   \n3    1279  36.89687  128.30581    NaN    NaN NaN  NaN     2       1        0   \n4    1090  36.71051  127.42222   8.23   38.0 NaN  NaN     6       0        5   \n..    ...       ...        ...    ...    ...  ..  ...   ...     ...      ...   \n492  1089  36.71278  127.42056  13.30   50.7 NaN  NaN     6       0        0   \n493  1087  36.71722  127.41778  13.60   38.7 NaN  NaN     4       0        5   \n494  1088  36.71222  127.42528  13.30   50.7 NaN  NaN     4       0        5   \n495  1091  36.76750  127.47333   7.00   20.0 NaN  NaN     2       0        0   \n496  1072  36.65293  127.51278  35.00  100.0 NaN  NaN     6       0        5   \n\n     생태통로효율성     도로명               도로번호  차선_수_도로정보  최고제한속도(km/h)  \n0          3    일반국도               20호선      왕복4차선          80.0  \n1          3      국도               59호선      왕복2차선          60.0  \n2          1      국도               59호선      왕복2차선          60.0  \n3          1      국도               59호선      왕복2차선          60.0  \n4          1     지방도               540호      왕복6차선          80.0  \n..       ...     ...                ...        ...           ...  \n492        0  과학산업2로           구룡리 472도      왕복6차선          80.0  \n493        0   오창공원로           구룡리 442도      왕복4차선          80.0  \n494        0   오창공원로  양청리 882도(호수공원 주변)      왕복4차선          80.0  \n495        0      리도              213호선      왕복2차선          60.0  \n496        0    1순환로           산 128-1도  하부 왕복 6차선          80.0  \n\n[497 rows x 15 columns]",
      "text/html": "<div>\n<style scoped>\n    .dataframe tbody tr th:only-of-type {\n        vertical-align: middle;\n    }\n\n    .dataframe tbody tr th {\n        vertical-align: top;\n    }\n\n    .dataframe thead th {\n        text-align: right;\n    }\n</style>\n<table border=\"1\" class=\"dataframe\">\n  <thead>\n    <tr style=\"text-align: right;\">\n      <th></th>\n      <th>번호</th>\n      <th>위도</th>\n      <th>경도</th>\n      <th>폭</th>\n      <th>연장</th>\n      <th>높이</th>\n      <th>개방도</th>\n      <th>차선_수</th>\n      <th>생태통로타입</th>\n      <th>등산객이용빈도</th>\n      <th>생태통로효율성</th>\n      <th>도로명</th>\n      <th>도로번호</th>\n      <th>차선_수_도로정보</th>\n      <th>최고제한속도(km/h)</th>\n    </tr>\n  </thead>\n  <tbody>\n    <tr>\n      <th>0</th>\n      <td>1495</td>\n      <td>35.36019</td>\n      <td>128.06375</td>\n      <td>5.00</td>\n      <td>45.0</td>\n      <td>NaN</td>\n      <td>NaN</td>\n      <td>4</td>\n      <td>0</td>\n      <td>1</td>\n      <td>3</td>\n      <td>일반국도</td>\n      <td>20호선</td>\n      <td>왕복4차선</td>\n      <td>80.0</td>\n    </tr>\n    <tr>\n      <th>1</th>\n      <td>1277</td>\n      <td>37.03408</td>\n      <td>128.40661</td>\n      <td>NaN</td>\n      <td>NaN</td>\n      <td>NaN</td>\n      <td>NaN</td>\n      <td>2</td>\n      <td>1</td>\n      <td>0</td>\n      <td>3</td>\n      <td>국도</td>\n      <td>59호선</td>\n      <td>왕복2차선</td>\n      <td>60.0</td>\n    </tr>\n    <tr>\n      <th>2</th>\n      <td>1278</td>\n      <td>36.89832</td>\n      <td>128.30563</td>\n      <td>NaN</td>\n      <td>NaN</td>\n      <td>NaN</td>\n      <td>NaN</td>\n      <td>2</td>\n      <td>1</td>\n      <td>0</td>\n      <td>1</td>\n      <td>국도</td>\n      <td>59호선</td>\n      <td>왕복2차선</td>\n      <td>60.0</td>\n    </tr>\n    <tr>\n      <th>3</th>\n      <td>1279</td>\n      <td>36.89687</td>\n      <td>128.30581</td>\n      <td>NaN</td>\n      <td>NaN</td>\n      <td>NaN</td>\n      <td>NaN</td>\n      <td>2</td>\n      <td>1</td>\n      <td>0</td>\n      <td>1</td>\n      <td>국도</td>\n      <td>59호선</td>\n      <td>왕복2차선</td>\n      <td>60.0</td>\n    </tr>\n    <tr>\n      <th>4</th>\n      <td>1090</td>\n      <td>36.71051</td>\n      <td>127.42222</td>\n      <td>8.23</td>\n      <td>38.0</td>\n      <td>NaN</td>\n      <td>NaN</td>\n      <td>6</td>\n      <td>0</td>\n      <td>5</td>\n      <td>1</td>\n      <td>지방도</td>\n      <td>540호</td>\n      <td>왕복6차선</td>\n      <td>80.0</td>\n    </tr>\n    <tr>\n      <th>...</th>\n      <td>...</td>\n      <td>...</td>\n      <td>...</td>\n      <td>...</td>\n      <td>...</td>\n      <td>...</td>\n      <td>...</td>\n      <td>...</td>\n      <td>...</td>\n      <td>...</td>\n      <td>...</td>\n      <td>...</td>\n      <td>...</td>\n      <td>...</td>\n      <td>...</td>\n    </tr>\n    <tr>\n      <th>492</th>\n      <td>1089</td>\n      <td>36.71278</td>\n      <td>127.42056</td>\n      <td>13.30</td>\n      <td>50.7</td>\n      <td>NaN</td>\n      <td>NaN</td>\n      <td>6</td>\n      <td>0</td>\n      <td>0</td>\n      <td>0</td>\n      <td>과학산업2로</td>\n      <td>구룡리 472도</td>\n      <td>왕복6차선</td>\n      <td>80.0</td>\n    </tr>\n    <tr>\n      <th>493</th>\n      <td>1087</td>\n      <td>36.71722</td>\n      <td>127.41778</td>\n      <td>13.60</td>\n      <td>38.7</td>\n      <td>NaN</td>\n      <td>NaN</td>\n      <td>4</td>\n      <td>0</td>\n      <td>5</td>\n      <td>0</td>\n      <td>오창공원로</td>\n      <td>구룡리 442도</td>\n      <td>왕복4차선</td>\n      <td>80.0</td>\n    </tr>\n    <tr>\n      <th>494</th>\n      <td>1088</td>\n      <td>36.71222</td>\n      <td>127.42528</td>\n      <td>13.30</td>\n      <td>50.7</td>\n      <td>NaN</td>\n      <td>NaN</td>\n      <td>4</td>\n      <td>0</td>\n      <td>5</td>\n      <td>0</td>\n      <td>오창공원로</td>\n      <td>양청리 882도(호수공원 주변)</td>\n      <td>왕복4차선</td>\n      <td>80.0</td>\n    </tr>\n    <tr>\n      <th>495</th>\n      <td>1091</td>\n      <td>36.76750</td>\n      <td>127.47333</td>\n      <td>7.00</td>\n      <td>20.0</td>\n      <td>NaN</td>\n      <td>NaN</td>\n      <td>2</td>\n      <td>0</td>\n      <td>0</td>\n      <td>0</td>\n      <td>리도</td>\n      <td>213호선</td>\n      <td>왕복2차선</td>\n      <td>60.0</td>\n    </tr>\n    <tr>\n      <th>496</th>\n      <td>1072</td>\n      <td>36.65293</td>\n      <td>127.51278</td>\n      <td>35.00</td>\n      <td>100.0</td>\n      <td>NaN</td>\n      <td>NaN</td>\n      <td>6</td>\n      <td>0</td>\n      <td>5</td>\n      <td>0</td>\n      <td>1순환로</td>\n      <td>산 128-1도</td>\n      <td>하부 왕복 6차선</td>\n      <td>80.0</td>\n    </tr>\n  </tbody>\n</table>\n<p>497 rows × 15 columns</p>\n</div>"
     },
     "execution_count": 50,
     "metadata": {},
     "output_type": "execute_result"
    }
   ],
   "source": [
    "main2"
   ]
  },
  {
   "cell_type": "code",
   "execution_count": 51,
   "metadata": {
    "colab": {
     "base_uri": "https://localhost:8080/"
    },
    "executionInfo": {
     "elapsed": 369,
     "status": "ok",
     "timestamp": 1660404798134,
     "user": {
      "displayName": "박예림",
      "userId": "02538636255865811244"
     },
     "user_tz": -540
    },
    "id": "FpLZzI81v3d6",
    "outputId": "33535786-b792-42cd-ec87-ddc0cc5824be"
   },
   "outputs": [
    {
     "data": {
      "text/plain": "0"
     },
     "execution_count": 51,
     "metadata": {},
     "output_type": "execute_result"
    }
   ],
   "source": [
    "main2['최고제한속도(km/h)'].isna().sum()"
   ]
  },
  {
   "cell_type": "markdown",
   "metadata": {
    "id": "RA2lKDlpwWYN"
   },
   "source": [
    "## 최종 데이터"
   ]
  },
  {
   "cell_type": "code",
   "execution_count": 52,
   "metadata": {
    "colab": {
     "base_uri": "https://localhost:8080/"
    },
    "executionInfo": {
     "elapsed": 361,
     "status": "ok",
     "timestamp": 1660404801307,
     "user": {
      "displayName": "박예림",
      "userId": "02538636255865811244"
     },
     "user_tz": -540
    },
    "id": "iJewSVsmwazp",
    "outputId": "f810eaaf-8495-46cc-d9aa-46076dc547dc"
   },
   "outputs": [
    {
     "data": {
      "text/plain": "       번호  최고제한속도(km/h)\n0    1495          80.0\n1    1277          60.0\n2    1278          60.0\n3    1279          60.0\n4    1090          80.0\n..    ...           ...\n492  1089          80.0\n493  1087          80.0\n494  1088          80.0\n495  1091          60.0\n496  1072          80.0\n\n[497 rows x 2 columns]",
      "text/html": "<div>\n<style scoped>\n    .dataframe tbody tr th:only-of-type {\n        vertical-align: middle;\n    }\n\n    .dataframe tbody tr th {\n        vertical-align: top;\n    }\n\n    .dataframe thead th {\n        text-align: right;\n    }\n</style>\n<table border=\"1\" class=\"dataframe\">\n  <thead>\n    <tr style=\"text-align: right;\">\n      <th></th>\n      <th>번호</th>\n      <th>최고제한속도(km/h)</th>\n    </tr>\n  </thead>\n  <tbody>\n    <tr>\n      <th>0</th>\n      <td>1495</td>\n      <td>80.0</td>\n    </tr>\n    <tr>\n      <th>1</th>\n      <td>1277</td>\n      <td>60.0</td>\n    </tr>\n    <tr>\n      <th>2</th>\n      <td>1278</td>\n      <td>60.0</td>\n    </tr>\n    <tr>\n      <th>3</th>\n      <td>1279</td>\n      <td>60.0</td>\n    </tr>\n    <tr>\n      <th>4</th>\n      <td>1090</td>\n      <td>80.0</td>\n    </tr>\n    <tr>\n      <th>...</th>\n      <td>...</td>\n      <td>...</td>\n    </tr>\n    <tr>\n      <th>492</th>\n      <td>1089</td>\n      <td>80.0</td>\n    </tr>\n    <tr>\n      <th>493</th>\n      <td>1087</td>\n      <td>80.0</td>\n    </tr>\n    <tr>\n      <th>494</th>\n      <td>1088</td>\n      <td>80.0</td>\n    </tr>\n    <tr>\n      <th>495</th>\n      <td>1091</td>\n      <td>60.0</td>\n    </tr>\n    <tr>\n      <th>496</th>\n      <td>1072</td>\n      <td>80.0</td>\n    </tr>\n  </tbody>\n</table>\n<p>497 rows × 2 columns</p>\n</div>"
     },
     "execution_count": 52,
     "metadata": {},
     "output_type": "execute_result"
    }
   ],
   "source": [
    "df = main2[['번호', '최고제한속도(km/h)']]\n",
    "df"
   ]
  },
  {
   "cell_type": "markdown",
   "metadata": {},
   "source": [
    "## RDS에 데이터 업로드"
   ]
  },
  {
   "cell_type": "code",
   "execution_count": 53,
   "metadata": {},
   "outputs": [
    {
     "data": {
      "text/plain": "       번호  경사도  농가까지의 거리(km)\n0    1001    6      0.125686\n1    1002    5      0.074627\n2    1004    2      0.110617\n3    1005    2      0.009030\n4    1006    4      0.098269\n..    ...  ...           ...\n492  1561    2      0.087448\n493  1562    5      0.137822\n494  1564    4      0.054073\n495  1567    5      0.102655\n496  1568    4      0.086586\n\n[497 rows x 3 columns]",
      "text/html": "<div>\n<style scoped>\n    .dataframe tbody tr th:only-of-type {\n        vertical-align: middle;\n    }\n\n    .dataframe tbody tr th {\n        vertical-align: top;\n    }\n\n    .dataframe thead th {\n        text-align: right;\n    }\n</style>\n<table border=\"1\" class=\"dataframe\">\n  <thead>\n    <tr style=\"text-align: right;\">\n      <th></th>\n      <th>번호</th>\n      <th>경사도</th>\n      <th>농가까지의 거리(km)</th>\n    </tr>\n  </thead>\n  <tbody>\n    <tr>\n      <th>0</th>\n      <td>1001</td>\n      <td>6</td>\n      <td>0.125686</td>\n    </tr>\n    <tr>\n      <th>1</th>\n      <td>1002</td>\n      <td>5</td>\n      <td>0.074627</td>\n    </tr>\n    <tr>\n      <th>2</th>\n      <td>1004</td>\n      <td>2</td>\n      <td>0.110617</td>\n    </tr>\n    <tr>\n      <th>3</th>\n      <td>1005</td>\n      <td>2</td>\n      <td>0.009030</td>\n    </tr>\n    <tr>\n      <th>4</th>\n      <td>1006</td>\n      <td>4</td>\n      <td>0.098269</td>\n    </tr>\n    <tr>\n      <th>...</th>\n      <td>...</td>\n      <td>...</td>\n      <td>...</td>\n    </tr>\n    <tr>\n      <th>492</th>\n      <td>1561</td>\n      <td>2</td>\n      <td>0.087448</td>\n    </tr>\n    <tr>\n      <th>493</th>\n      <td>1562</td>\n      <td>5</td>\n      <td>0.137822</td>\n    </tr>\n    <tr>\n      <th>494</th>\n      <td>1564</td>\n      <td>4</td>\n      <td>0.054073</td>\n    </tr>\n    <tr>\n      <th>495</th>\n      <td>1567</td>\n      <td>5</td>\n      <td>0.102655</td>\n    </tr>\n    <tr>\n      <th>496</th>\n      <td>1568</td>\n      <td>4</td>\n      <td>0.086586</td>\n    </tr>\n  </tbody>\n</table>\n<p>497 rows × 3 columns</p>\n</div>"
     },
     "execution_count": 53,
     "metadata": {},
     "output_type": "execute_result"
    }
   ],
   "source": [
    "table = load_data_from_rds('변수관계설정', db_connection)\n",
    "table"
   ]
  },
  {
   "cell_type": "code",
   "execution_count": 54,
   "metadata": {},
   "outputs": [
    {
     "data": {
      "text/plain": "       번호  경사도  농가까지의 거리(km)  최고제한속도(km/h)\n0    1001    6      0.125686          80.0\n1    1002    5      0.074627          60.0\n2    1004    2      0.110617          60.0\n3    1005    2      0.009030          80.0\n4    1006    4      0.098269          80.0\n..    ...  ...           ...           ...\n492  1561    2      0.087448          60.0\n493  1562    5      0.137822          80.0\n494  1564    4      0.054073          80.0\n495  1567    5      0.102655          60.0\n496  1568    4      0.086586          60.0\n\n[497 rows x 4 columns]",
      "text/html": "<div>\n<style scoped>\n    .dataframe tbody tr th:only-of-type {\n        vertical-align: middle;\n    }\n\n    .dataframe tbody tr th {\n        vertical-align: top;\n    }\n\n    .dataframe thead th {\n        text-align: right;\n    }\n</style>\n<table border=\"1\" class=\"dataframe\">\n  <thead>\n    <tr style=\"text-align: right;\">\n      <th></th>\n      <th>번호</th>\n      <th>경사도</th>\n      <th>농가까지의 거리(km)</th>\n      <th>최고제한속도(km/h)</th>\n    </tr>\n  </thead>\n  <tbody>\n    <tr>\n      <th>0</th>\n      <td>1001</td>\n      <td>6</td>\n      <td>0.125686</td>\n      <td>80.0</td>\n    </tr>\n    <tr>\n      <th>1</th>\n      <td>1002</td>\n      <td>5</td>\n      <td>0.074627</td>\n      <td>60.0</td>\n    </tr>\n    <tr>\n      <th>2</th>\n      <td>1004</td>\n      <td>2</td>\n      <td>0.110617</td>\n      <td>60.0</td>\n    </tr>\n    <tr>\n      <th>3</th>\n      <td>1005</td>\n      <td>2</td>\n      <td>0.009030</td>\n      <td>80.0</td>\n    </tr>\n    <tr>\n      <th>4</th>\n      <td>1006</td>\n      <td>4</td>\n      <td>0.098269</td>\n      <td>80.0</td>\n    </tr>\n    <tr>\n      <th>...</th>\n      <td>...</td>\n      <td>...</td>\n      <td>...</td>\n      <td>...</td>\n    </tr>\n    <tr>\n      <th>492</th>\n      <td>1561</td>\n      <td>2</td>\n      <td>0.087448</td>\n      <td>60.0</td>\n    </tr>\n    <tr>\n      <th>493</th>\n      <td>1562</td>\n      <td>5</td>\n      <td>0.137822</td>\n      <td>80.0</td>\n    </tr>\n    <tr>\n      <th>494</th>\n      <td>1564</td>\n      <td>4</td>\n      <td>0.054073</td>\n      <td>80.0</td>\n    </tr>\n    <tr>\n      <th>495</th>\n      <td>1567</td>\n      <td>5</td>\n      <td>0.102655</td>\n      <td>60.0</td>\n    </tr>\n    <tr>\n      <th>496</th>\n      <td>1568</td>\n      <td>4</td>\n      <td>0.086586</td>\n      <td>60.0</td>\n    </tr>\n  </tbody>\n</table>\n<p>497 rows × 4 columns</p>\n</div>"
     },
     "execution_count": 54,
     "metadata": {},
     "output_type": "execute_result"
    }
   ],
   "source": [
    "table = table.merge(df, on='번호')\n",
    "table"
   ]
  },
  {
   "cell_type": "code",
   "execution_count": 55,
   "metadata": {},
   "outputs": [],
   "source": [
    "upload_data_to_rds(table, '변수관계설정', db_connection)"
   ]
  },
  {
   "cell_type": "code",
   "execution_count": null,
   "outputs": [],
   "source": [],
   "metadata": {
    "collapsed": false,
    "pycharm": {
     "name": "#%%\n"
    }
   }
  }
 ],
 "metadata": {
  "kernelspec": {
   "display_name": "Python 3.8.11 ('base')",
   "language": "python",
   "name": "python3"
  },
  "language_info": {
   "codemirror_mode": {
    "name": "ipython",
    "version": 3
   },
   "file_extension": ".py",
   "mimetype": "text/x-python",
   "name": "python",
   "nbconvert_exporter": "python",
   "pygments_lexer": "ipython3",
   "version": "3.8.11"
  },
  "orig_nbformat": 4,
  "vscode": {
   "interpreter": {
    "hash": "06f5ec8c6d43280c87799fbde2fb29fbfcf5d2d4062a31ee84a6ee8649311409"
   }
  }
 },
 "nbformat": 4,
 "nbformat_minor": 2
}