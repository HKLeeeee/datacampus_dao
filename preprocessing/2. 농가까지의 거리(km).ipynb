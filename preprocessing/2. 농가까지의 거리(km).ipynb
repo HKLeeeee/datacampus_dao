{
 "cells": [
  {
   "cell_type": "code",
   "execution_count": 1,
   "metadata": {},
   "outputs": [],
   "source": [
    "from DB import *\n",
    "db_connection = connect_db()"
   ]
  },
  {
   "cell_type": "code",
   "execution_count": 2,
   "metadata": {},
   "outputs": [
    {
     "data": {
      "text/plain": "       번호        위도         경도      폭     연장  높이  개방도  차선_수  생태통로타입  등산객이용빈도  \\\n0    1495  35.36019  128.06375   5.00   45.0 NaN  NaN     4       0        1   \n1    1277  37.03408  128.40661    NaN    NaN NaN  NaN     2       1        0   \n2    1278  36.89832  128.30563    NaN    NaN NaN  NaN     2       1        0   \n3    1279  36.89687  128.30581    NaN    NaN NaN  NaN     2       1        0   \n4    1090  36.71051  127.42222   8.23   38.0 NaN  NaN     6       0        5   \n..    ...       ...        ...    ...    ...  ..  ...   ...     ...      ...   \n492  1089  36.71278  127.42056  13.30   50.7 NaN  NaN     6       0        0   \n493  1087  36.71722  127.41778  13.60   38.7 NaN  NaN     4       0        5   \n494  1088  36.71222  127.42528  13.30   50.7 NaN  NaN     4       0        5   \n495  1091  36.76750  127.47333   7.00   20.0 NaN  NaN     2       0        0   \n496  1072  36.65293  127.51278  35.00  100.0 NaN  NaN     6       0        5   \n\n     생태통로효율성  \n0          3  \n1          3  \n2          1  \n3          1  \n4          1  \n..       ...  \n492        0  \n493        0  \n494        0  \n495        0  \n496        0  \n\n[497 rows x 11 columns]",
      "text/html": "<div>\n<style scoped>\n    .dataframe tbody tr th:only-of-type {\n        vertical-align: middle;\n    }\n\n    .dataframe tbody tr th {\n        vertical-align: top;\n    }\n\n    .dataframe thead th {\n        text-align: right;\n    }\n</style>\n<table border=\"1\" class=\"dataframe\">\n  <thead>\n    <tr style=\"text-align: right;\">\n      <th></th>\n      <th>번호</th>\n      <th>위도</th>\n      <th>경도</th>\n      <th>폭</th>\n      <th>연장</th>\n      <th>높이</th>\n      <th>개방도</th>\n      <th>차선_수</th>\n      <th>생태통로타입</th>\n      <th>등산객이용빈도</th>\n      <th>생태통로효율성</th>\n    </tr>\n  </thead>\n  <tbody>\n    <tr>\n      <th>0</th>\n      <td>1495</td>\n      <td>35.36019</td>\n      <td>128.06375</td>\n      <td>5.00</td>\n      <td>45.0</td>\n      <td>NaN</td>\n      <td>NaN</td>\n      <td>4</td>\n      <td>0</td>\n      <td>1</td>\n      <td>3</td>\n    </tr>\n    <tr>\n      <th>1</th>\n      <td>1277</td>\n      <td>37.03408</td>\n      <td>128.40661</td>\n      <td>NaN</td>\n      <td>NaN</td>\n      <td>NaN</td>\n      <td>NaN</td>\n      <td>2</td>\n      <td>1</td>\n      <td>0</td>\n      <td>3</td>\n    </tr>\n    <tr>\n      <th>2</th>\n      <td>1278</td>\n      <td>36.89832</td>\n      <td>128.30563</td>\n      <td>NaN</td>\n      <td>NaN</td>\n      <td>NaN</td>\n      <td>NaN</td>\n      <td>2</td>\n      <td>1</td>\n      <td>0</td>\n      <td>1</td>\n    </tr>\n    <tr>\n      <th>3</th>\n      <td>1279</td>\n      <td>36.89687</td>\n      <td>128.30581</td>\n      <td>NaN</td>\n      <td>NaN</td>\n      <td>NaN</td>\n      <td>NaN</td>\n      <td>2</td>\n      <td>1</td>\n      <td>0</td>\n      <td>1</td>\n    </tr>\n    <tr>\n      <th>4</th>\n      <td>1090</td>\n      <td>36.71051</td>\n      <td>127.42222</td>\n      <td>8.23</td>\n      <td>38.0</td>\n      <td>NaN</td>\n      <td>NaN</td>\n      <td>6</td>\n      <td>0</td>\n      <td>5</td>\n      <td>1</td>\n    </tr>\n    <tr>\n      <th>...</th>\n      <td>...</td>\n      <td>...</td>\n      <td>...</td>\n      <td>...</td>\n      <td>...</td>\n      <td>...</td>\n      <td>...</td>\n      <td>...</td>\n      <td>...</td>\n      <td>...</td>\n      <td>...</td>\n    </tr>\n    <tr>\n      <th>492</th>\n      <td>1089</td>\n      <td>36.71278</td>\n      <td>127.42056</td>\n      <td>13.30</td>\n      <td>50.7</td>\n      <td>NaN</td>\n      <td>NaN</td>\n      <td>6</td>\n      <td>0</td>\n      <td>0</td>\n      <td>0</td>\n    </tr>\n    <tr>\n      <th>493</th>\n      <td>1087</td>\n      <td>36.71722</td>\n      <td>127.41778</td>\n      <td>13.60</td>\n      <td>38.7</td>\n      <td>NaN</td>\n      <td>NaN</td>\n      <td>4</td>\n      <td>0</td>\n      <td>5</td>\n      <td>0</td>\n    </tr>\n    <tr>\n      <th>494</th>\n      <td>1088</td>\n      <td>36.71222</td>\n      <td>127.42528</td>\n      <td>13.30</td>\n      <td>50.7</td>\n      <td>NaN</td>\n      <td>NaN</td>\n      <td>4</td>\n      <td>0</td>\n      <td>5</td>\n      <td>0</td>\n    </tr>\n    <tr>\n      <th>495</th>\n      <td>1091</td>\n      <td>36.76750</td>\n      <td>127.47333</td>\n      <td>7.00</td>\n      <td>20.0</td>\n      <td>NaN</td>\n      <td>NaN</td>\n      <td>2</td>\n      <td>0</td>\n      <td>0</td>\n      <td>0</td>\n    </tr>\n    <tr>\n      <th>496</th>\n      <td>1072</td>\n      <td>36.65293</td>\n      <td>127.51278</td>\n      <td>35.00</td>\n      <td>100.0</td>\n      <td>NaN</td>\n      <td>NaN</td>\n      <td>6</td>\n      <td>0</td>\n      <td>5</td>\n      <td>0</td>\n    </tr>\n  </tbody>\n</table>\n<p>497 rows × 11 columns</p>\n</div>"
     },
     "execution_count": 2,
     "metadata": {},
     "output_type": "execute_result"
    }
   ],
   "source": [
    "main = load_data_from_rds('생태통로', db_connection)\n",
    "main"
   ]
  },
  {
   "cell_type": "code",
   "execution_count": 3,
   "metadata": {
    "executionInfo": {
     "elapsed": 985,
     "status": "ok",
     "timestamp": 1660404412406,
     "user": {
      "displayName": "박예림",
      "userId": "02538636255865811244"
     },
     "user_tz": -540
    },
    "id": "DZBif971Ndof"
   },
   "outputs": [],
   "source": [
    "# 경지계 데이터가 커 두 개로 나눠져 있음\n",
    "farm1 = pd.read_csv('../data/variables/경지계1-3.csv')\n",
    "farm2 = pd.read_csv('../data/variables/경지계4-7.csv')"
   ]
  },
  {
   "cell_type": "code",
   "execution_count": 4,
   "metadata": {
    "colab": {
     "base_uri": "https://localhost:8080/",
     "height": 398
    },
    "executionInfo": {
     "elapsed": 44,
     "status": "ok",
     "timestamp": 1660404412407,
     "user": {
      "displayName": "박예림",
      "userId": "02538636255865811244"
     },
     "user_tz": -540
    },
    "id": "CPCD4IdeOXh0",
    "outputId": "19ac72cf-3bdb-4444-ff52-22f21052da86"
   },
   "outputs": [
    {
     "data": {
      "text/plain": "     번호     위도_십진      경도_십진  생태통로타  차선_수  등산객이용  생태통로효        이용확인종  이용확인   \\\n0  1495  35.36019  128.06375      0     1      1      3          NaN      0   \n1  1277  37.03408  128.40661      1     0      0      3          NaN      0   \n2  1278  36.89832  128.30563      1     0      0      1  고라니 멧돼지 파충류      3   \n\n   면적_m^2  너비_m  길이_m          join_UFID join_DIVI  join_SCLS  join_FMTA  \\\n0     NaN   NaN   NaN  VGT0100000037M3BF    FLD002        NaN        NaN   \n1     NaN   NaN   NaN  VGT010000000CPZX2    FLD002        NaN        NaN   \n2     NaN   NaN   NaN  VGT010000000R9IM9    FLD002        NaN        NaN   \n\n                                     join_layer  \\\n0  NGII_CDM_寃쎌�怨�3 �� Z_NGII_N3A_D0010000_C.shp   \n1  NGII_CDM_寃쎌�怨�1 �� Z_NGII_N3A_D0010000_A.shp   \n2  NGII_CDM_寃쎌�怨�1 �� Z_NGII_N3A_D0010000_A.shp   \n\n                                           join_path      distance  \n0  /vsizip/C:/Users/tkfkd/Downloads/NGII_CDM_寃쎌�怨...  20874.160929  \n1  /vsizip/C:/Users/tkfkd/Downloads/NGII_CDM_寃쎌�怨...    303.690012  \n2  /vsizip/C:/Users/tkfkd/Downloads/NGII_CDM_寃쎌�怨...     11.153787  ",
      "text/html": "<div>\n<style scoped>\n    .dataframe tbody tr th:only-of-type {\n        vertical-align: middle;\n    }\n\n    .dataframe tbody tr th {\n        vertical-align: top;\n    }\n\n    .dataframe thead th {\n        text-align: right;\n    }\n</style>\n<table border=\"1\" class=\"dataframe\">\n  <thead>\n    <tr style=\"text-align: right;\">\n      <th></th>\n      <th>번호</th>\n      <th>위도_십진</th>\n      <th>경도_십진</th>\n      <th>생태통로타</th>\n      <th>차선_수</th>\n      <th>등산객이용</th>\n      <th>생태통로효</th>\n      <th>이용확인종</th>\n      <th>이용확인</th>\n      <th>면적_m^2</th>\n      <th>너비_m</th>\n      <th>길이_m</th>\n      <th>join_UFID</th>\n      <th>join_DIVI</th>\n      <th>join_SCLS</th>\n      <th>join_FMTA</th>\n      <th>join_layer</th>\n      <th>join_path</th>\n      <th>distance</th>\n    </tr>\n  </thead>\n  <tbody>\n    <tr>\n      <th>0</th>\n      <td>1495</td>\n      <td>35.36019</td>\n      <td>128.06375</td>\n      <td>0</td>\n      <td>1</td>\n      <td>1</td>\n      <td>3</td>\n      <td>NaN</td>\n      <td>0</td>\n      <td>NaN</td>\n      <td>NaN</td>\n      <td>NaN</td>\n      <td>VGT0100000037M3BF</td>\n      <td>FLD002</td>\n      <td>NaN</td>\n      <td>NaN</td>\n      <td>NGII_CDM_寃쎌�怨�3 �� Z_NGII_N3A_D0010000_C.shp</td>\n      <td>/vsizip/C:/Users/tkfkd/Downloads/NGII_CDM_寃쎌�怨...</td>\n      <td>20874.160929</td>\n    </tr>\n    <tr>\n      <th>1</th>\n      <td>1277</td>\n      <td>37.03408</td>\n      <td>128.40661</td>\n      <td>1</td>\n      <td>0</td>\n      <td>0</td>\n      <td>3</td>\n      <td>NaN</td>\n      <td>0</td>\n      <td>NaN</td>\n      <td>NaN</td>\n      <td>NaN</td>\n      <td>VGT010000000CPZX2</td>\n      <td>FLD002</td>\n      <td>NaN</td>\n      <td>NaN</td>\n      <td>NGII_CDM_寃쎌�怨�1 �� Z_NGII_N3A_D0010000_A.shp</td>\n      <td>/vsizip/C:/Users/tkfkd/Downloads/NGII_CDM_寃쎌�怨...</td>\n      <td>303.690012</td>\n    </tr>\n    <tr>\n      <th>2</th>\n      <td>1278</td>\n      <td>36.89832</td>\n      <td>128.30563</td>\n      <td>1</td>\n      <td>0</td>\n      <td>0</td>\n      <td>1</td>\n      <td>고라니 멧돼지 파충류</td>\n      <td>3</td>\n      <td>NaN</td>\n      <td>NaN</td>\n      <td>NaN</td>\n      <td>VGT010000000R9IM9</td>\n      <td>FLD002</td>\n      <td>NaN</td>\n      <td>NaN</td>\n      <td>NGII_CDM_寃쎌�怨�1 �� Z_NGII_N3A_D0010000_A.shp</td>\n      <td>/vsizip/C:/Users/tkfkd/Downloads/NGII_CDM_寃쎌�怨...</td>\n      <td>11.153787</td>\n    </tr>\n  </tbody>\n</table>\n</div>"
     },
     "execution_count": 4,
     "metadata": {},
     "output_type": "execute_result"
    }
   ],
   "source": [
    "farm1.head(3)"
   ]
  },
  {
   "cell_type": "code",
   "execution_count": 5,
   "metadata": {
    "executionInfo": {
     "elapsed": 34,
     "status": "ok",
     "timestamp": 1660404412409,
     "user": {
      "displayName": "박예림",
      "userId": "02538636255865811244"
     },
     "user_tz": -540
    },
    "id": "m0yDeWMBOtOm"
   },
   "outputs": [],
   "source": [
    "# 필요 없는 컬럼 drop\n",
    "farm1.drop(['join_UFID',\t'join_DIVI',\t'join_SCLS',\t'join_FMTA',\t'join_layer',\t'join_path'], axis=1, inplace=True)\n",
    "farm2.drop(['join_UFID',\t'join_DIVI',\t'join_SCLS',\t'join_FMTA',\t'join_layer',\t'join_path'], axis=1, inplace=True)"
   ]
  },
  {
   "cell_type": "code",
   "execution_count": 6,
   "metadata": {
    "executionInfo": {
     "elapsed": 538,
     "status": "ok",
     "timestamp": 1660404412927,
     "user": {
      "displayName": "박예림",
      "userId": "02538636255865811244"
     },
     "user_tz": -540
    },
    "id": "MHzaXhpZRKzS"
   },
   "outputs": [],
   "source": [
    "# 농가(경지계)까지의 최단 거리 저장 - farm1, farm2 두 데이터의 거리를 비교해 더 작은 것을 저장\n",
    "for i in range(len(farm1)):\n",
    "  dist_km = min(farm1['distance'][i], farm2['distance'][i]) / 1000 # 기존 distance는 미터 단위이므로 킬로미터 단위로 바꾸어 저장\n",
    "  main.loc[i, '농가까지의 거리(km)'] = dist_km"
   ]
  },
  {
   "cell_type": "code",
   "execution_count": 7,
   "metadata": {
    "colab": {
     "base_uri": "https://localhost:8080/",
     "height": 485
    },
    "executionInfo": {
     "elapsed": 18,
     "status": "ok",
     "timestamp": 1660404412928,
     "user": {
      "displayName": "박예림",
      "userId": "02538636255865811244"
     },
     "user_tz": -540
    },
    "id": "QSu0P7LUVBOR",
    "outputId": "fb324e5e-c22a-4a1d-d97e-02f86426dfb5"
   },
   "outputs": [
    {
     "data": {
      "text/plain": "       번호        위도         경도      폭     연장  높이  개방도  차선_수  생태통로타입  등산객이용빈도  \\\n0    1495  35.36019  128.06375   5.00   45.0 NaN  NaN     4       0        1   \n1    1277  37.03408  128.40661    NaN    NaN NaN  NaN     2       1        0   \n2    1278  36.89832  128.30563    NaN    NaN NaN  NaN     2       1        0   \n3    1279  36.89687  128.30581    NaN    NaN NaN  NaN     2       1        0   \n4    1090  36.71051  127.42222   8.23   38.0 NaN  NaN     6       0        5   \n..    ...       ...        ...    ...    ...  ..  ...   ...     ...      ...   \n492  1089  36.71278  127.42056  13.30   50.7 NaN  NaN     6       0        0   \n493  1087  36.71722  127.41778  13.60   38.7 NaN  NaN     4       0        5   \n494  1088  36.71222  127.42528  13.30   50.7 NaN  NaN     4       0        5   \n495  1091  36.76750  127.47333   7.00   20.0 NaN  NaN     2       0        0   \n496  1072  36.65293  127.51278  35.00  100.0 NaN  NaN     6       0        5   \n\n     생태통로효율성  농가까지의 거리(km)  \n0          3      0.223706  \n1          3      0.303690  \n2          1      0.011154  \n3          1      0.012767  \n4          1      0.183505  \n..       ...           ...  \n492        0      0.287976  \n493        0      0.119958  \n494        0      0.116240  \n495        0      0.023978  \n496        0      0.013048  \n\n[497 rows x 12 columns]",
      "text/html": "<div>\n<style scoped>\n    .dataframe tbody tr th:only-of-type {\n        vertical-align: middle;\n    }\n\n    .dataframe tbody tr th {\n        vertical-align: top;\n    }\n\n    .dataframe thead th {\n        text-align: right;\n    }\n</style>\n<table border=\"1\" class=\"dataframe\">\n  <thead>\n    <tr style=\"text-align: right;\">\n      <th></th>\n      <th>번호</th>\n      <th>위도</th>\n      <th>경도</th>\n      <th>폭</th>\n      <th>연장</th>\n      <th>높이</th>\n      <th>개방도</th>\n      <th>차선_수</th>\n      <th>생태통로타입</th>\n      <th>등산객이용빈도</th>\n      <th>생태통로효율성</th>\n      <th>농가까지의 거리(km)</th>\n    </tr>\n  </thead>\n  <tbody>\n    <tr>\n      <th>0</th>\n      <td>1495</td>\n      <td>35.36019</td>\n      <td>128.06375</td>\n      <td>5.00</td>\n      <td>45.0</td>\n      <td>NaN</td>\n      <td>NaN</td>\n      <td>4</td>\n      <td>0</td>\n      <td>1</td>\n      <td>3</td>\n      <td>0.223706</td>\n    </tr>\n    <tr>\n      <th>1</th>\n      <td>1277</td>\n      <td>37.03408</td>\n      <td>128.40661</td>\n      <td>NaN</td>\n      <td>NaN</td>\n      <td>NaN</td>\n      <td>NaN</td>\n      <td>2</td>\n      <td>1</td>\n      <td>0</td>\n      <td>3</td>\n      <td>0.303690</td>\n    </tr>\n    <tr>\n      <th>2</th>\n      <td>1278</td>\n      <td>36.89832</td>\n      <td>128.30563</td>\n      <td>NaN</td>\n      <td>NaN</td>\n      <td>NaN</td>\n      <td>NaN</td>\n      <td>2</td>\n      <td>1</td>\n      <td>0</td>\n      <td>1</td>\n      <td>0.011154</td>\n    </tr>\n    <tr>\n      <th>3</th>\n      <td>1279</td>\n      <td>36.89687</td>\n      <td>128.30581</td>\n      <td>NaN</td>\n      <td>NaN</td>\n      <td>NaN</td>\n      <td>NaN</td>\n      <td>2</td>\n      <td>1</td>\n      <td>0</td>\n      <td>1</td>\n      <td>0.012767</td>\n    </tr>\n    <tr>\n      <th>4</th>\n      <td>1090</td>\n      <td>36.71051</td>\n      <td>127.42222</td>\n      <td>8.23</td>\n      <td>38.0</td>\n      <td>NaN</td>\n      <td>NaN</td>\n      <td>6</td>\n      <td>0</td>\n      <td>5</td>\n      <td>1</td>\n      <td>0.183505</td>\n    </tr>\n    <tr>\n      <th>...</th>\n      <td>...</td>\n      <td>...</td>\n      <td>...</td>\n      <td>...</td>\n      <td>...</td>\n      <td>...</td>\n      <td>...</td>\n      <td>...</td>\n      <td>...</td>\n      <td>...</td>\n      <td>...</td>\n      <td>...</td>\n    </tr>\n    <tr>\n      <th>492</th>\n      <td>1089</td>\n      <td>36.71278</td>\n      <td>127.42056</td>\n      <td>13.30</td>\n      <td>50.7</td>\n      <td>NaN</td>\n      <td>NaN</td>\n      <td>6</td>\n      <td>0</td>\n      <td>0</td>\n      <td>0</td>\n      <td>0.287976</td>\n    </tr>\n    <tr>\n      <th>493</th>\n      <td>1087</td>\n      <td>36.71722</td>\n      <td>127.41778</td>\n      <td>13.60</td>\n      <td>38.7</td>\n      <td>NaN</td>\n      <td>NaN</td>\n      <td>4</td>\n      <td>0</td>\n      <td>5</td>\n      <td>0</td>\n      <td>0.119958</td>\n    </tr>\n    <tr>\n      <th>494</th>\n      <td>1088</td>\n      <td>36.71222</td>\n      <td>127.42528</td>\n      <td>13.30</td>\n      <td>50.7</td>\n      <td>NaN</td>\n      <td>NaN</td>\n      <td>4</td>\n      <td>0</td>\n      <td>5</td>\n      <td>0</td>\n      <td>0.116240</td>\n    </tr>\n    <tr>\n      <th>495</th>\n      <td>1091</td>\n      <td>36.76750</td>\n      <td>127.47333</td>\n      <td>7.00</td>\n      <td>20.0</td>\n      <td>NaN</td>\n      <td>NaN</td>\n      <td>2</td>\n      <td>0</td>\n      <td>0</td>\n      <td>0</td>\n      <td>0.023978</td>\n    </tr>\n    <tr>\n      <th>496</th>\n      <td>1072</td>\n      <td>36.65293</td>\n      <td>127.51278</td>\n      <td>35.00</td>\n      <td>100.0</td>\n      <td>NaN</td>\n      <td>NaN</td>\n      <td>6</td>\n      <td>0</td>\n      <td>5</td>\n      <td>0</td>\n      <td>0.013048</td>\n    </tr>\n  </tbody>\n</table>\n<p>497 rows × 12 columns</p>\n</div>"
     },
     "execution_count": 7,
     "metadata": {},
     "output_type": "execute_result"
    }
   ],
   "source": [
    "main"
   ]
  },
  {
   "cell_type": "markdown",
   "metadata": {
    "id": "RA2lKDlpwWYN"
   },
   "source": [
    "## 최종 데이터"
   ]
  },
  {
   "cell_type": "code",
   "execution_count": 8,
   "metadata": {
    "colab": {
     "base_uri": "https://localhost:8080/"
    },
    "executionInfo": {
     "elapsed": 361,
     "status": "ok",
     "timestamp": 1660404801307,
     "user": {
      "displayName": "박예림",
      "userId": "02538636255865811244"
     },
     "user_tz": -540
    },
    "id": "iJewSVsmwazp",
    "outputId": "f810eaaf-8495-46cc-d9aa-46076dc547dc"
   },
   "outputs": [
    {
     "data": {
      "text/plain": "       번호  농가까지의 거리(km)\n0    1495      0.223706\n1    1277      0.303690\n2    1278      0.011154\n3    1279      0.012767\n4    1090      0.183505\n..    ...           ...\n492  1089      0.287976\n493  1087      0.119958\n494  1088      0.116240\n495  1091      0.023978\n496  1072      0.013048\n\n[497 rows x 2 columns]",
      "text/html": "<div>\n<style scoped>\n    .dataframe tbody tr th:only-of-type {\n        vertical-align: middle;\n    }\n\n    .dataframe tbody tr th {\n        vertical-align: top;\n    }\n\n    .dataframe thead th {\n        text-align: right;\n    }\n</style>\n<table border=\"1\" class=\"dataframe\">\n  <thead>\n    <tr style=\"text-align: right;\">\n      <th></th>\n      <th>번호</th>\n      <th>농가까지의 거리(km)</th>\n    </tr>\n  </thead>\n  <tbody>\n    <tr>\n      <th>0</th>\n      <td>1495</td>\n      <td>0.223706</td>\n    </tr>\n    <tr>\n      <th>1</th>\n      <td>1277</td>\n      <td>0.303690</td>\n    </tr>\n    <tr>\n      <th>2</th>\n      <td>1278</td>\n      <td>0.011154</td>\n    </tr>\n    <tr>\n      <th>3</th>\n      <td>1279</td>\n      <td>0.012767</td>\n    </tr>\n    <tr>\n      <th>4</th>\n      <td>1090</td>\n      <td>0.183505</td>\n    </tr>\n    <tr>\n      <th>...</th>\n      <td>...</td>\n      <td>...</td>\n    </tr>\n    <tr>\n      <th>492</th>\n      <td>1089</td>\n      <td>0.287976</td>\n    </tr>\n    <tr>\n      <th>493</th>\n      <td>1087</td>\n      <td>0.119958</td>\n    </tr>\n    <tr>\n      <th>494</th>\n      <td>1088</td>\n      <td>0.116240</td>\n    </tr>\n    <tr>\n      <th>495</th>\n      <td>1091</td>\n      <td>0.023978</td>\n    </tr>\n    <tr>\n      <th>496</th>\n      <td>1072</td>\n      <td>0.013048</td>\n    </tr>\n  </tbody>\n</table>\n<p>497 rows × 2 columns</p>\n</div>"
     },
     "execution_count": 8,
     "metadata": {},
     "output_type": "execute_result"
    }
   ],
   "source": [
    "df = main[['번호', '농가까지의 거리(km)']]\n",
    "df"
   ]
  },
  {
   "cell_type": "markdown",
   "metadata": {},
   "source": [
    "## RDS에 데이터 업로드"
   ]
  },
  {
   "cell_type": "code",
   "execution_count": 9,
   "metadata": {},
   "outputs": [
    {
     "data": {
      "text/plain": "       번호  경사도\n0    1001    6\n1    1002    5\n2    1004    2\n3    1005    2\n4    1006    4\n..    ...  ...\n492  1561    2\n493  1562    5\n494  1564    4\n495  1567    5\n496  1568    4\n\n[497 rows x 2 columns]",
      "text/html": "<div>\n<style scoped>\n    .dataframe tbody tr th:only-of-type {\n        vertical-align: middle;\n    }\n\n    .dataframe tbody tr th {\n        vertical-align: top;\n    }\n\n    .dataframe thead th {\n        text-align: right;\n    }\n</style>\n<table border=\"1\" class=\"dataframe\">\n  <thead>\n    <tr style=\"text-align: right;\">\n      <th></th>\n      <th>번호</th>\n      <th>경사도</th>\n    </tr>\n  </thead>\n  <tbody>\n    <tr>\n      <th>0</th>\n      <td>1001</td>\n      <td>6</td>\n    </tr>\n    <tr>\n      <th>1</th>\n      <td>1002</td>\n      <td>5</td>\n    </tr>\n    <tr>\n      <th>2</th>\n      <td>1004</td>\n      <td>2</td>\n    </tr>\n    <tr>\n      <th>3</th>\n      <td>1005</td>\n      <td>2</td>\n    </tr>\n    <tr>\n      <th>4</th>\n      <td>1006</td>\n      <td>4</td>\n    </tr>\n    <tr>\n      <th>...</th>\n      <td>...</td>\n      <td>...</td>\n    </tr>\n    <tr>\n      <th>492</th>\n      <td>1561</td>\n      <td>2</td>\n    </tr>\n    <tr>\n      <th>493</th>\n      <td>1562</td>\n      <td>5</td>\n    </tr>\n    <tr>\n      <th>494</th>\n      <td>1564</td>\n      <td>4</td>\n    </tr>\n    <tr>\n      <th>495</th>\n      <td>1567</td>\n      <td>5</td>\n    </tr>\n    <tr>\n      <th>496</th>\n      <td>1568</td>\n      <td>4</td>\n    </tr>\n  </tbody>\n</table>\n<p>497 rows × 2 columns</p>\n</div>"
     },
     "execution_count": 9,
     "metadata": {},
     "output_type": "execute_result"
    }
   ],
   "source": [
    "table = load_data_from_rds('변수관계설정', db_connection)\n",
    "table"
   ]
  },
  {
   "cell_type": "code",
   "execution_count": 10,
   "metadata": {},
   "outputs": [
    {
     "data": {
      "text/plain": "       번호  경사도  농가까지의 거리(km)\n0    1001    6      0.125686\n1    1002    5      0.074627\n2    1004    2      0.110617\n3    1005    2      0.009030\n4    1006    4      0.098269\n..    ...  ...           ...\n492  1561    2      0.087448\n493  1562    5      0.137822\n494  1564    4      0.054073\n495  1567    5      0.102655\n496  1568    4      0.086586\n\n[497 rows x 3 columns]",
      "text/html": "<div>\n<style scoped>\n    .dataframe tbody tr th:only-of-type {\n        vertical-align: middle;\n    }\n\n    .dataframe tbody tr th {\n        vertical-align: top;\n    }\n\n    .dataframe thead th {\n        text-align: right;\n    }\n</style>\n<table border=\"1\" class=\"dataframe\">\n  <thead>\n    <tr style=\"text-align: right;\">\n      <th></th>\n      <th>번호</th>\n      <th>경사도</th>\n      <th>농가까지의 거리(km)</th>\n    </tr>\n  </thead>\n  <tbody>\n    <tr>\n      <th>0</th>\n      <td>1001</td>\n      <td>6</td>\n      <td>0.125686</td>\n    </tr>\n    <tr>\n      <th>1</th>\n      <td>1002</td>\n      <td>5</td>\n      <td>0.074627</td>\n    </tr>\n    <tr>\n      <th>2</th>\n      <td>1004</td>\n      <td>2</td>\n      <td>0.110617</td>\n    </tr>\n    <tr>\n      <th>3</th>\n      <td>1005</td>\n      <td>2</td>\n      <td>0.009030</td>\n    </tr>\n    <tr>\n      <th>4</th>\n      <td>1006</td>\n      <td>4</td>\n      <td>0.098269</td>\n    </tr>\n    <tr>\n      <th>...</th>\n      <td>...</td>\n      <td>...</td>\n      <td>...</td>\n    </tr>\n    <tr>\n      <th>492</th>\n      <td>1561</td>\n      <td>2</td>\n      <td>0.087448</td>\n    </tr>\n    <tr>\n      <th>493</th>\n      <td>1562</td>\n      <td>5</td>\n      <td>0.137822</td>\n    </tr>\n    <tr>\n      <th>494</th>\n      <td>1564</td>\n      <td>4</td>\n      <td>0.054073</td>\n    </tr>\n    <tr>\n      <th>495</th>\n      <td>1567</td>\n      <td>5</td>\n      <td>0.102655</td>\n    </tr>\n    <tr>\n      <th>496</th>\n      <td>1568</td>\n      <td>4</td>\n      <td>0.086586</td>\n    </tr>\n  </tbody>\n</table>\n<p>497 rows × 3 columns</p>\n</div>"
     },
     "execution_count": 10,
     "metadata": {},
     "output_type": "execute_result"
    }
   ],
   "source": [
    "table = table.merge(df, on='번호')\n",
    "table"
   ]
  },
  {
   "cell_type": "code",
   "execution_count": 11,
   "metadata": {
    "pycharm": {
     "name": "#%%\n"
    }
   },
   "outputs": [],
   "source": [
    "upload_data_to_rds(table, '변수관계설정', db_connection)"
   ]
  }
 ],
 "metadata": {
  "kernelspec": {
   "display_name": "Python 3.8.11 ('base')",
   "language": "python",
   "name": "python3"
  },
  "language_info": {
   "codemirror_mode": {
    "name": "ipython",
    "version": 3
   },
   "file_extension": ".py",
   "mimetype": "text/x-python",
   "name": "python",
   "nbconvert_exporter": "python",
   "pygments_lexer": "ipython3",
   "version": "3.8.11"
  },
  "orig_nbformat": 4,
  "vscode": {
   "interpreter": {
    "hash": "06f5ec8c6d43280c87799fbde2fb29fbfcf5d2d4062a31ee84a6ee8649311409"
   }
  }
 },
 "nbformat": 4,
 "nbformat_minor": 2
}