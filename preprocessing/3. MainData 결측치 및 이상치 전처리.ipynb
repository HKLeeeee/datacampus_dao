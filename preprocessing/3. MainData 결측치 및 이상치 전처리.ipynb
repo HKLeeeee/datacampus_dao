{
 "nbformat": 4,
 "nbformat_minor": 0,
 "metadata": {
  "colab": {
   "name": "MainData 결측치 및 이상치 전처리.ipynb",
   "provenance": [],
   "collapsed_sections": []
  },
  "kernelspec": {
   "name": "python3",
   "display_name": "Python 3"
  },
  "language_info": {
   "name": "python"
  }
 },
 "cells": [
  {
   "cell_type": "code",
   "source": [
    "%reset"
   ],
   "metadata": {
    "collapsed": false,
    "pycharm": {
     "name": "#%%\n"
    }
   },
   "execution_count": 135,
   "outputs": []
  },
  {
   "cell_type": "markdown",
   "source": [
    "## 패키지"
   ],
   "metadata": {
    "id": "ss0qV6_-UQjc"
   }
  },
  {
   "cell_type": "code",
   "source": [
    "!pip install pymysql\n",
    "!sudo apt-get install -y fonts-nanum # 나눔 폰트 설치 (설치 후 런타임 재시작하고 코드 실행)\n",
    "!sudo fc-cache -fv\n",
    "!rm ~/.cache/matplotlib -rf"
   ],
   "metadata": {
    "colab": {
     "base_uri": "https://localhost:8080/"
    },
    "id": "QeQ_MhffCKgY",
    "executionInfo": {
     "status": "ok",
     "timestamp": 1660806505125,
     "user_tz": -540,
     "elapsed": 7674,
     "user": {
      "displayName": "박예림",
      "userId": "02538636255865811244"
     }
    },
    "outputId": "82d585b0-bad2-4885-c3cb-1809f3474845"
   },
   "execution_count": 573,
   "outputs": [
    {
     "output_type": "stream",
     "name": "stdout",
     "text": [
      "Looking in indexes: https://pypi.org/simple, https://us-python.pkg.dev/colab-wheels/public/simple/\n",
      "Requirement already satisfied: pymysql in /usr/local/lib/python3.7/dist-packages (1.0.2)\n",
      "Reading package lists... Done\n",
      "Building dependency tree       \n",
      "Reading state information... Done\n",
      "fonts-nanum is already the newest version (20170925-1).\n",
      "The following package was automatically installed and is no longer required:\n",
      "  libnvidia-common-460\n",
      "Use 'sudo apt autoremove' to remove it.\n",
      "0 upgraded, 0 newly installed, 0 to remove and 20 not upgraded.\n",
      "/usr/share/fonts: caching, new cache contents: 0 fonts, 1 dirs\n",
      "/usr/share/fonts/truetype: caching, new cache contents: 0 fonts, 3 dirs\n",
      "/usr/share/fonts/truetype/humor-sans: caching, new cache contents: 1 fonts, 0 dirs\n",
      "/usr/share/fonts/truetype/liberation: caching, new cache contents: 16 fonts, 0 dirs\n",
      "/usr/share/fonts/truetype/nanum: caching, new cache contents: 10 fonts, 0 dirs\n",
      "/usr/local/share/fonts: caching, new cache contents: 0 fonts, 0 dirs\n",
      "/root/.local/share/fonts: skipping, no such directory\n",
      "/root/.fonts: skipping, no such directory\n",
      "/var/cache/fontconfig: cleaning cache directory\n",
      "/root/.cache/fontconfig: not cleaning non-existent cache directory\n",
      "/root/.fontconfig: not cleaning non-existent cache directory\n",
      "fc-cache: succeeded\n"
     ]
    }
   ]
  },
  {
   "cell_type": "code",
   "execution_count": 1,
   "metadata": {
    "id": "rLg0zPcOpI1I",
    "executionInfo": {
     "status": "ok",
     "timestamp": 1660806505126,
     "user_tz": -540,
     "elapsed": 13,
     "user": {
      "displayName": "박예림",
      "userId": "02538636255865811244"
     }
    }
   },
   "outputs": [],
   "source": [
    "import numpy as np\n",
    "import pandas as pd\n",
    "import pymysql\n",
    "from sqlalchemy import create_engine\n",
    "from sklearn.impute import KNNImputer\n",
    "import matplotlib.pyplot as plt\n",
    "import matplotlib.font_manager as fm\n",
    "from matplotlib import font_manager, rc\n",
    "import random\n",
    "font_name = fm.FontProperties().get_name()\n",
    "plt.rc('font', family=font_name) # 한글 출력"
   ]
  },
  {
   "cell_type": "code",
   "source": [
    "from google.colab import drive\n",
    "drive.mount('/content/drive')"
   ],
   "metadata": {
    "colab": {
     "base_uri": "https://localhost:8080/"
    },
    "id": "mnZJM76CK1Z6",
    "executionInfo": {
     "status": "ok",
     "timestamp": 1660806507554,
     "user_tz": -540,
     "elapsed": 2440,
     "user": {
      "displayName": "박예림",
      "userId": "02538636255865811244"
     }
    },
    "outputId": "476a995d-b88a-4d12-9a60-079560754f1b"
   },
   "execution_count": 575,
   "outputs": [
    {
     "output_type": "stream",
     "name": "stdout",
     "text": [
      "Drive already mounted at /content/drive; to attempt to forcibly remount, call drive.mount(\"/content/drive\", force_remount=True).\n"
     ]
    }
   ]
  },
  {
   "cell_type": "markdown",
   "source": [
    "## 데이터 로드"
   ],
   "metadata": {
    "id": "8qOfaRfSUVJe"
   }
  },
  {
   "cell_type": "code",
   "source": [
    "# DB 연결\n",
    "endpoint = 'dao.c51deksujiip.ap-northeast-2.rds.amazonaws.com'\n",
    "schema_name = 'dao'\n",
    "db_connection_str = 'mysql+pymysql://admin:ekfkawnl@{}/{}'.format(endpoint, schema_name )\n",
    "try :\n",
    "    db_connection = create_engine(db_connection_str)\n",
    "    conn = db_connection.connect()\n",
    "except :\n",
    "    print('fail to connect db')"
   ],
   "metadata": {
    "id": "g1OMYhxzpUrB",
    "executionInfo": {
     "status": "ok",
     "timestamp": 1660806509541,
     "user_tz": -540,
     "elapsed": 2008,
     "user": {
      "displayName": "박예림",
      "userId": "02538636255865811244"
     }
    }
   },
   "execution_count": 2,
   "outputs": []
  },
  {
   "cell_type": "code",
   "source": [
    "def sql_to_df(table_name):\n",
    "    sql = \"SELECT * FROM {}\".format(table_name)\n",
    "    df = pd.read_sql(sql, db_connection)\n",
    "    return df"
   ],
   "metadata": {
    "id": "cYSdVBpiUDFs",
    "executionInfo": {
     "status": "ok",
     "timestamp": 1660806509542,
     "user_tz": -540,
     "elapsed": 10,
     "user": {
      "displayName": "박예림",
      "userId": "02538636255865811244"
     }
    }
   },
   "execution_count": 3,
   "outputs": []
  },
  {
   "cell_type": "code",
   "execution_count": 4,
   "outputs": [
    {
     "name": "stdout",
     "output_type": "stream",
     "text": [
      "<class 'pandas.core.frame.DataFrame'>\n",
      "RangeIndex: 497 entries, 0 to 496\n",
      "Data columns (total 32 columns):\n",
      " #   Column            Non-Null Count  Dtype  \n",
      "---  ------            --------------  -----  \n",
      " 0   번호                497 non-null    int64  \n",
      " 1   위도                497 non-null    float64\n",
      " 2   경도                497 non-null    float64\n",
      " 3   생태통로_유형           497 non-null    int64  \n",
      " 4   등산객_이용빈도          497 non-null    int64  \n",
      " 5   생태통로_효율성          497 non-null    int64  \n",
      " 6   이용확인종_수           497 non-null    int64  \n",
      " 7   폭(m)              309 non-null    float64\n",
      " 8   연장(m)             309 non-null    float64\n",
      " 9   높이(m)             44 non-null     float64\n",
      " 10  개방도               44 non-null     float64\n",
      " 11  경사도               497 non-null    object \n",
      " 12  주변 로드킬 빈도         497 non-null    int64  \n",
      " 13  산책로까지의 최단 거리(km)  497 non-null    float64\n",
      " 14  농가까지의 거리(km)      497 non-null    float64\n",
      " 15  도로 최고제한속도(km/h)   497 non-null    int64  \n",
      " 16  지형기호(2.3km)       497 non-null    object \n",
      " 17  하천거리(km)          497 non-null    float64\n",
      " 18  식물군락명             497 non-null    object \n",
      " 19  등산로까지 최단거리(km)    497 non-null    float64\n",
      " 20  환경영향평가점수          497 non-null    int64  \n",
      " 21  건물까지거리(km)        497 non-null    float64\n",
      " 22  최우점식물군락           497 non-null    object \n",
      " 23  차선_수              497 non-null    int64  \n",
      " 24  교통량               487 non-null    float64\n",
      " 25  주변 동물종 개수         259 non-null    float64\n",
      " 26  주변동물 출현빈도         259 non-null    float64\n",
      " 27  유도울타리_위도_2.3km    154 non-null    float64\n",
      " 28  유도울타리_경도_2.3km    154 non-null    float64\n",
      " 29  유도울타리_연장_m        154 non-null    float64\n",
      " 30  유도울타리_높이_m        154 non-null    float64\n",
      " 31  일평균이용빈도           16 non-null     float64\n",
      "dtypes: float64(19), int64(9), object(4)\n",
      "memory usage: 124.4+ KB\n"
     ]
    }
   ],
   "source": [
    "df = sql_to_df('MainData_차선수_이산형')\n",
    "df.info()"
   ],
   "metadata": {
    "collapsed": false,
    "pycharm": {
     "name": "#%%\n"
    }
   }
  },
  {
   "cell_type": "markdown",
   "source": [
    "### 사용하지 않는 열 삭제"
   ],
   "metadata": {
    "collapsed": false
   }
  },
  {
   "cell_type": "code",
   "execution_count": 5,
   "outputs": [],
   "source": [
    "df.drop(['최우점식물군락', '주변 로드킬 빈도'], axis=1, inplace=True)"
   ],
   "metadata": {
    "collapsed": false,
    "pycharm": {
     "name": "#%%\n"
    }
   }
  },
  {
   "cell_type": "markdown",
   "source": [
    "## 식생, 지형 내용 변경"
   ],
   "metadata": {
    "collapsed": false
   }
  },
  {
   "cell_type": "code",
   "execution_count": 6,
   "outputs": [
    {
     "data": {
      "text/plain": "array([1, 0], dtype=int64)"
     },
     "execution_count": 6,
     "metadata": {},
     "output_type": "execute_result"
    }
   ],
   "source": [
    "df['식물군락명'] = [0 if ((not '나무' in x) | (not '군락' in x)) else x for x in df['식물군락명']]\n",
    "df['식물군락명'] = [1 if x!=0 else x for x in df['식물군락명']]\n",
    "df['식물군락명'].unique()"
   ],
   "metadata": {
    "collapsed": false,
    "pycharm": {
     "name": "#%%\n"
    }
   }
  },
  {
   "cell_type": "code",
   "source": [
    "df['지형기호(2.3km)'] = [x.split('-')[0] for x in df['지형기호(2.3km)']]\n",
    "df['지형기호(2.3km)'].unique()"
   ],
   "metadata": {
    "collapsed": false,
    "pycharm": {
     "name": "#%%\n"
    }
   },
   "execution_count": 7,
   "outputs": [
    {
     "data": {
      "text/plain": "array(['X', '하천', '산지', '기타', '해안', '화산'], dtype=object)"
     },
     "execution_count": 7,
     "metadata": {},
     "output_type": "execute_result"
    }
   ]
  },
  {
   "cell_type": "code",
   "execution_count": 8,
   "outputs": [],
   "source": [
    "df.rename(columns={'식물군락명':'식생'}, inplace=True)"
   ],
   "metadata": {
    "collapsed": false,
    "pycharm": {
     "name": "#%%\n"
    }
   }
  },
  {
   "cell_type": "code",
   "execution_count": 9,
   "outputs": [
    {
     "name": "stdout",
     "output_type": "stream",
     "text": [
      "<class 'pandas.core.frame.DataFrame'>\n",
      "RangeIndex: 497 entries, 0 to 496\n",
      "Data columns (total 30 columns):\n",
      " #   Column            Non-Null Count  Dtype  \n",
      "---  ------            --------------  -----  \n",
      " 0   번호                497 non-null    int64  \n",
      " 1   위도                497 non-null    float64\n",
      " 2   경도                497 non-null    float64\n",
      " 3   생태통로_유형           497 non-null    int64  \n",
      " 4   등산객_이용빈도          497 non-null    int64  \n",
      " 5   생태통로_효율성          497 non-null    int64  \n",
      " 6   이용확인종_수           497 non-null    int64  \n",
      " 7   폭(m)              309 non-null    float64\n",
      " 8   연장(m)             309 non-null    float64\n",
      " 9   높이(m)             44 non-null     float64\n",
      " 10  개방도               44 non-null     float64\n",
      " 11  경사도               497 non-null    object \n",
      " 12  산책로까지의 최단 거리(km)  497 non-null    float64\n",
      " 13  농가까지의 거리(km)      497 non-null    float64\n",
      " 14  도로 최고제한속도(km/h)   497 non-null    int64  \n",
      " 15  지형기호(2.3km)       497 non-null    object \n",
      " 16  하천거리(km)          497 non-null    float64\n",
      " 17  식생                497 non-null    int64  \n",
      " 18  등산로까지 최단거리(km)    497 non-null    float64\n",
      " 19  환경영향평가점수          497 non-null    int64  \n",
      " 20  건물까지거리(km)        497 non-null    float64\n",
      " 21  차선_수              497 non-null    int64  \n",
      " 22  교통량               487 non-null    float64\n",
      " 23  주변 동물종 개수         259 non-null    float64\n",
      " 24  주변동물 출현빈도         259 non-null    float64\n",
      " 25  유도울타리_위도_2.3km    154 non-null    float64\n",
      " 26  유도울타리_경도_2.3km    154 non-null    float64\n",
      " 27  유도울타리_연장_m        154 non-null    float64\n",
      " 28  유도울타리_높이_m        154 non-null    float64\n",
      " 29  일평균이용빈도           16 non-null     float64\n",
      "dtypes: float64(19), int64(9), object(2)\n",
      "memory usage: 116.6+ KB\n"
     ]
    }
   ],
   "source": [
    "df.info()"
   ],
   "metadata": {
    "collapsed": false,
    "pycharm": {
     "name": "#%%\n"
    }
   }
  },
  {
   "cell_type": "markdown",
   "source": [
    "# Split 터널형/육교형"
   ],
   "metadata": {
    "collapsed": false
   }
  },
  {
   "cell_type": "code",
   "execution_count": 10,
   "outputs": [
    {
     "name": "stderr",
     "output_type": "stream",
     "text": [
      "C:\\Users\\Administrator\\AppData\\Local\\Temp\\ipykernel_10520\\1395931904.py:3: SettingWithCopyWarning: \n",
      "A value is trying to be set on a copy of a slice from a DataFrame\n",
      "\n",
      "See the caveats in the documentation: https://pandas.pydata.org/pandas-docs/stable/user_guide/indexing.html#returning-a-view-versus-a-copy\n",
      "  df_overpass.drop(['개방도', '높이(m)'], axis=1, inplace=True)\n"
     ]
    }
   ],
   "source": [
    "df_overpass = df[df['생태통로_유형']==0]\n",
    "df_tunnel = df[df['생태통로_유형']!=0]\n",
    "df_overpass.drop(['개방도', '높이(m)'], axis=1, inplace=True)"
   ],
   "metadata": {
    "collapsed": false,
    "pycharm": {
     "name": "#%%\n"
    }
   }
  },
  {
   "cell_type": "code",
   "execution_count": 11,
   "outputs": [
    {
     "name": "stdout",
     "output_type": "stream",
     "text": [
      "<class 'pandas.core.frame.DataFrame'>\n",
      "Int64Index: 300 entries, 0 to 496\n",
      "Data columns (total 28 columns):\n",
      " #   Column            Non-Null Count  Dtype  \n",
      "---  ------            --------------  -----  \n",
      " 0   번호                300 non-null    int64  \n",
      " 1   위도                300 non-null    float64\n",
      " 2   경도                300 non-null    float64\n",
      " 3   생태통로_유형           300 non-null    int64  \n",
      " 4   등산객_이용빈도          300 non-null    int64  \n",
      " 5   생태통로_효율성          300 non-null    int64  \n",
      " 6   이용확인종_수           300 non-null    int64  \n",
      " 7   폭(m)              264 non-null    float64\n",
      " 8   연장(m)             264 non-null    float64\n",
      " 9   경사도               300 non-null    object \n",
      " 10  산책로까지의 최단 거리(km)  300 non-null    float64\n",
      " 11  농가까지의 거리(km)      300 non-null    float64\n",
      " 12  도로 최고제한속도(km/h)   300 non-null    int64  \n",
      " 13  지형기호(2.3km)       300 non-null    object \n",
      " 14  하천거리(km)          300 non-null    float64\n",
      " 15  식생                300 non-null    int64  \n",
      " 16  등산로까지 최단거리(km)    300 non-null    float64\n",
      " 17  환경영향평가점수          300 non-null    int64  \n",
      " 18  건물까지거리(km)        300 non-null    float64\n",
      " 19  차선_수              300 non-null    int64  \n",
      " 20  교통량               292 non-null    float64\n",
      " 21  주변 동물종 개수         154 non-null    float64\n",
      " 22  주변동물 출현빈도         154 non-null    float64\n",
      " 23  유도울타리_위도_2.3km    85 non-null     float64\n",
      " 24  유도울타리_경도_2.3km    85 non-null     float64\n",
      " 25  유도울타리_연장_m        85 non-null     float64\n",
      " 26  유도울타리_높이_m        85 non-null     float64\n",
      " 27  일평균이용빈도           6 non-null      float64\n",
      "dtypes: float64(17), int64(9), object(2)\n",
      "memory usage: 68.0+ KB\n"
     ]
    }
   ],
   "source": [
    "# 육교형 생태통로 MainData DF 정보\n",
    "df_overpass.info()"
   ],
   "metadata": {
    "collapsed": false,
    "pycharm": {
     "name": "#%%\n"
    }
   }
  },
  {
   "cell_type": "code",
   "execution_count": 12,
   "outputs": [
    {
     "name": "stdout",
     "output_type": "stream",
     "text": [
      "<class 'pandas.core.frame.DataFrame'>\n",
      "Int64Index: 197 entries, 1 to 477\n",
      "Data columns (total 30 columns):\n",
      " #   Column            Non-Null Count  Dtype  \n",
      "---  ------            --------------  -----  \n",
      " 0   번호                197 non-null    int64  \n",
      " 1   위도                197 non-null    float64\n",
      " 2   경도                197 non-null    float64\n",
      " 3   생태통로_유형           197 non-null    int64  \n",
      " 4   등산객_이용빈도          197 non-null    int64  \n",
      " 5   생태통로_효율성          197 non-null    int64  \n",
      " 6   이용확인종_수           197 non-null    int64  \n",
      " 7   폭(m)              45 non-null     float64\n",
      " 8   연장(m)             45 non-null     float64\n",
      " 9   높이(m)             43 non-null     float64\n",
      " 10  개방도               43 non-null     float64\n",
      " 11  경사도               197 non-null    object \n",
      " 12  산책로까지의 최단 거리(km)  197 non-null    float64\n",
      " 13  농가까지의 거리(km)      197 non-null    float64\n",
      " 14  도로 최고제한속도(km/h)   197 non-null    int64  \n",
      " 15  지형기호(2.3km)       197 non-null    object \n",
      " 16  하천거리(km)          197 non-null    float64\n",
      " 17  식생                197 non-null    int64  \n",
      " 18  등산로까지 최단거리(km)    197 non-null    float64\n",
      " 19  환경영향평가점수          197 non-null    int64  \n",
      " 20  건물까지거리(km)        197 non-null    float64\n",
      " 21  차선_수              197 non-null    int64  \n",
      " 22  교통량               195 non-null    float64\n",
      " 23  주변 동물종 개수         105 non-null    float64\n",
      " 24  주변동물 출현빈도         105 non-null    float64\n",
      " 25  유도울타리_위도_2.3km    69 non-null     float64\n",
      " 26  유도울타리_경도_2.3km    69 non-null     float64\n",
      " 27  유도울타리_연장_m        69 non-null     float64\n",
      " 28  유도울타리_높이_m        69 non-null     float64\n",
      " 29  일평균이용빈도           10 non-null     float64\n",
      "dtypes: float64(19), int64(9), object(2)\n",
      "memory usage: 47.7+ KB\n"
     ]
    }
   ],
   "source": [
    "# 터널형 생태통로 MainData DF 정보\n",
    "df_tunnel.info()"
   ],
   "metadata": {
    "collapsed": false,
    "pycharm": {
     "name": "#%%\n"
    }
   }
  },
  {
   "cell_type": "markdown",
   "source": [
    "# 이상치"
   ],
   "metadata": {
    "collapsed": false
   }
  },
  {
   "cell_type": "markdown",
   "source": [
    "## 이상치 확인"
   ],
   "metadata": {
    "collapsed": false
   }
  },
  {
   "cell_type": "code",
   "source": [
    "# 이상치 처리해야 할 컬럼 목록\n",
    "overpass_check = ['차선_수', '이용확인종_수', '폭(m)', '연장(m)', '산책로까지의 최단 거리(km)',\n",
    "                  '농가까지의 거리(km)', '도로 최고제한속도(km/h)', '주변 동물종 개수', '주변동물 출현빈도', '하천거리(km)', \n",
    "                  '등산로까지 최단거리(km)', '유도울타리_연장_m', '유도울타리_높이_m', '교통량', '건물까지거리(km)']\n",
    "\n",
    "tunnel_check = ['차선_수', '이용확인종_수', '폭(m)', '연장(m)', '높이(m)', '개방도',\n",
    "                '산책로까지의 최단 거리(km)', '농가까지의 거리(km)', '도로 최고제한속도(km/h)', '주변 동물종 개수', '주변동물 출현빈도', \n",
    "                '하천거리(km)', '등산로까지 최단거리(km)', '유도울타리_연장_m', '유도울타리_높이_m', '교통량', '건물까지거리(km)']\n",
    "\n",
    "print(len(overpass_check))\n",
    "print(len(tunnel_check))"
   ],
   "metadata": {
    "colab": {
     "base_uri": "https://localhost:8080/"
    },
    "id": "71MD7NKT_jRH",
    "executionInfo": {
     "status": "ok",
     "timestamp": 1660806512704,
     "user_tz": -540,
     "elapsed": 13,
     "user": {
      "displayName": "박예림",
      "userId": "02538636255865811244"
     }
    },
    "outputId": "cf846124-5488-4475-efc8-4fc1a1ca7f72"
   },
   "execution_count": 13,
   "outputs": [
    {
     "name": "stdout",
     "output_type": "stream",
     "text": [
      "15\n",
      "17\n"
     ]
    }
   ]
  },
  {
   "cell_type": "code",
   "source": [
    "# 육교형 생태통로 Boxplot\n",
    "plt.figure(figsize=(16, 10))\n",
    "\n",
    "for i, col in enumerate(overpass_check):\n",
    "  plt.subplot(3, 6, i+1)\n",
    "  df_overpass.boxplot(col)\n",
    "\n",
    "plt.tight_layout()\n",
    "plt.show()"
   ],
   "metadata": {
    "colab": {
     "base_uri": "https://localhost:8080/",
     "height": 729
    },
    "id": "F7hS5TAK8VoX",
    "executionInfo": {
     "status": "ok",
     "timestamp": 1660806518160,
     "user_tz": -540,
     "elapsed": 5047,
     "user": {
      "displayName": "박예림",
      "userId": "02538636255865811244"
     }
    },
    "outputId": "36f1c005-b054-40b2-88b5-111da289409d"
   },
   "execution_count": 14,
   "outputs": [
    {
     "name": "stderr",
     "output_type": "stream",
     "text": [
      "C:\\Users\\Administrator\\AppData\\Local\\Temp\\ipykernel_10520\\4157520446.py:8: UserWarning: Glyph 52264 (\\N{HANGUL SYLLABLE CA}) missing from current font.\n",
      "  plt.tight_layout()\n",
      "C:\\Users\\Administrator\\AppData\\Local\\Temp\\ipykernel_10520\\4157520446.py:8: UserWarning: Glyph 49440 (\\N{HANGUL SYLLABLE SEON}) missing from current font.\n",
      "  plt.tight_layout()\n",
      "C:\\Users\\Administrator\\AppData\\Local\\Temp\\ipykernel_10520\\4157520446.py:8: UserWarning: Glyph 49688 (\\N{HANGUL SYLLABLE SU}) missing from current font.\n",
      "  plt.tight_layout()\n",
      "C:\\Users\\Administrator\\AppData\\Local\\Temp\\ipykernel_10520\\4157520446.py:8: UserWarning: Glyph 51060 (\\N{HANGUL SYLLABLE I}) missing from current font.\n",
      "  plt.tight_layout()\n",
      "C:\\Users\\Administrator\\AppData\\Local\\Temp\\ipykernel_10520\\4157520446.py:8: UserWarning: Glyph 50857 (\\N{HANGUL SYLLABLE YONG}) missing from current font.\n",
      "  plt.tight_layout()\n",
      "C:\\Users\\Administrator\\AppData\\Local\\Temp\\ipykernel_10520\\4157520446.py:8: UserWarning: Glyph 54869 (\\N{HANGUL SYLLABLE HWAG}) missing from current font.\n",
      "  plt.tight_layout()\n",
      "C:\\Users\\Administrator\\AppData\\Local\\Temp\\ipykernel_10520\\4157520446.py:8: UserWarning: Glyph 51064 (\\N{HANGUL SYLLABLE IN}) missing from current font.\n",
      "  plt.tight_layout()\n",
      "C:\\Users\\Administrator\\AppData\\Local\\Temp\\ipykernel_10520\\4157520446.py:8: UserWarning: Glyph 51333 (\\N{HANGUL SYLLABLE JONG}) missing from current font.\n",
      "  plt.tight_layout()\n",
      "C:\\Users\\Administrator\\AppData\\Local\\Temp\\ipykernel_10520\\4157520446.py:8: UserWarning: Glyph 54253 (\\N{HANGUL SYLLABLE POG}) missing from current font.\n",
      "  plt.tight_layout()\n",
      "C:\\Users\\Administrator\\AppData\\Local\\Temp\\ipykernel_10520\\4157520446.py:8: UserWarning: Glyph 50672 (\\N{HANGUL SYLLABLE YEON}) missing from current font.\n",
      "  plt.tight_layout()\n",
      "C:\\Users\\Administrator\\AppData\\Local\\Temp\\ipykernel_10520\\4157520446.py:8: UserWarning: Glyph 51109 (\\N{HANGUL SYLLABLE JANG}) missing from current font.\n",
      "  plt.tight_layout()\n",
      "C:\\Users\\Administrator\\AppData\\Local\\Temp\\ipykernel_10520\\4157520446.py:8: UserWarning: Glyph 49328 (\\N{HANGUL SYLLABLE SAN}) missing from current font.\n",
      "  plt.tight_layout()\n",
      "C:\\Users\\Administrator\\AppData\\Local\\Temp\\ipykernel_10520\\4157520446.py:8: UserWarning: Glyph 52293 (\\N{HANGUL SYLLABLE CAEG}) missing from current font.\n",
      "  plt.tight_layout()\n",
      "C:\\Users\\Administrator\\AppData\\Local\\Temp\\ipykernel_10520\\4157520446.py:8: UserWarning: Glyph 47196 (\\N{HANGUL SYLLABLE RO}) missing from current font.\n",
      "  plt.tight_layout()\n",
      "C:\\Users\\Administrator\\AppData\\Local\\Temp\\ipykernel_10520\\4157520446.py:8: UserWarning: Glyph 44620 (\\N{HANGUL SYLLABLE GGA}) missing from current font.\n",
      "  plt.tight_layout()\n",
      "C:\\Users\\Administrator\\AppData\\Local\\Temp\\ipykernel_10520\\4157520446.py:8: UserWarning: Glyph 51648 (\\N{HANGUL SYLLABLE JI}) missing from current font.\n",
      "  plt.tight_layout()\n",
      "C:\\Users\\Administrator\\AppData\\Local\\Temp\\ipykernel_10520\\4157520446.py:8: UserWarning: Glyph 51032 (\\N{HANGUL SYLLABLE YI}) missing from current font.\n",
      "  plt.tight_layout()\n",
      "C:\\Users\\Administrator\\AppData\\Local\\Temp\\ipykernel_10520\\4157520446.py:8: UserWarning: Glyph 52572 (\\N{HANGUL SYLLABLE COE}) missing from current font.\n",
      "  plt.tight_layout()\n",
      "C:\\Users\\Administrator\\AppData\\Local\\Temp\\ipykernel_10520\\4157520446.py:8: UserWarning: Glyph 45800 (\\N{HANGUL SYLLABLE DAN}) missing from current font.\n",
      "  plt.tight_layout()\n",
      "C:\\Users\\Administrator\\AppData\\Local\\Temp\\ipykernel_10520\\4157520446.py:8: UserWarning: Glyph 44144 (\\N{HANGUL SYLLABLE GEO}) missing from current font.\n",
      "  plt.tight_layout()\n",
      "C:\\Users\\Administrator\\AppData\\Local\\Temp\\ipykernel_10520\\4157520446.py:8: UserWarning: Glyph 47532 (\\N{HANGUL SYLLABLE RI}) missing from current font.\n",
      "  plt.tight_layout()\n",
      "C:\\Users\\Administrator\\AppData\\Local\\Temp\\ipykernel_10520\\4157520446.py:8: UserWarning: Glyph 45453 (\\N{HANGUL SYLLABLE NONG}) missing from current font.\n",
      "  plt.tight_layout()\n",
      "C:\\Users\\Administrator\\AppData\\Local\\Temp\\ipykernel_10520\\4157520446.py:8: UserWarning: Glyph 44032 (\\N{HANGUL SYLLABLE GA}) missing from current font.\n",
      "  plt.tight_layout()\n",
      "C:\\Users\\Administrator\\AppData\\Local\\Temp\\ipykernel_10520\\4157520446.py:8: UserWarning: Glyph 46020 (\\N{HANGUL SYLLABLE DO}) missing from current font.\n",
      "  plt.tight_layout()\n",
      "C:\\Users\\Administrator\\AppData\\Local\\Temp\\ipykernel_10520\\4157520446.py:8: UserWarning: Glyph 44256 (\\N{HANGUL SYLLABLE GO}) missing from current font.\n",
      "  plt.tight_layout()\n",
      "C:\\Users\\Administrator\\AppData\\Local\\Temp\\ipykernel_10520\\4157520446.py:8: UserWarning: Glyph 51228 (\\N{HANGUL SYLLABLE JE}) missing from current font.\n",
      "  plt.tight_layout()\n",
      "C:\\Users\\Administrator\\AppData\\Local\\Temp\\ipykernel_10520\\4157520446.py:8: UserWarning: Glyph 54620 (\\N{HANGUL SYLLABLE HAN}) missing from current font.\n",
      "  plt.tight_layout()\n",
      "C:\\Users\\Administrator\\AppData\\Local\\Temp\\ipykernel_10520\\4157520446.py:8: UserWarning: Glyph 49549 (\\N{HANGUL SYLLABLE SOG}) missing from current font.\n",
      "  plt.tight_layout()\n",
      "C:\\Users\\Administrator\\AppData\\Local\\Temp\\ipykernel_10520\\4157520446.py:8: UserWarning: Glyph 51452 (\\N{HANGUL SYLLABLE JU}) missing from current font.\n",
      "  plt.tight_layout()\n",
      "C:\\Users\\Administrator\\AppData\\Local\\Temp\\ipykernel_10520\\4157520446.py:8: UserWarning: Glyph 48320 (\\N{HANGUL SYLLABLE BYEON}) missing from current font.\n",
      "  plt.tight_layout()\n",
      "C:\\Users\\Administrator\\AppData\\Local\\Temp\\ipykernel_10520\\4157520446.py:8: UserWarning: Glyph 46041 (\\N{HANGUL SYLLABLE DONG}) missing from current font.\n",
      "  plt.tight_layout()\n",
      "C:\\Users\\Administrator\\AppData\\Local\\Temp\\ipykernel_10520\\4157520446.py:8: UserWarning: Glyph 47932 (\\N{HANGUL SYLLABLE MUL}) missing from current font.\n",
      "  plt.tight_layout()\n",
      "C:\\Users\\Administrator\\AppData\\Local\\Temp\\ipykernel_10520\\4157520446.py:8: UserWarning: Glyph 44060 (\\N{HANGUL SYLLABLE GAE}) missing from current font.\n",
      "  plt.tight_layout()\n",
      "C:\\Users\\Administrator\\AppData\\Local\\Temp\\ipykernel_10520\\4157520446.py:8: UserWarning: Glyph 52636 (\\N{HANGUL SYLLABLE CUL}) missing from current font.\n",
      "  plt.tight_layout()\n",
      "C:\\Users\\Administrator\\AppData\\Local\\Temp\\ipykernel_10520\\4157520446.py:8: UserWarning: Glyph 54788 (\\N{HANGUL SYLLABLE HYEON}) missing from current font.\n",
      "  plt.tight_layout()\n",
      "C:\\Users\\Administrator\\AppData\\Local\\Temp\\ipykernel_10520\\4157520446.py:8: UserWarning: Glyph 48712 (\\N{HANGUL SYLLABLE BIN}) missing from current font.\n",
      "  plt.tight_layout()\n",
      "C:\\Users\\Administrator\\AppData\\Local\\Temp\\ipykernel_10520\\4157520446.py:8: UserWarning: Glyph 54616 (\\N{HANGUL SYLLABLE HA}) missing from current font.\n",
      "  plt.tight_layout()\n",
      "C:\\Users\\Administrator\\AppData\\Local\\Temp\\ipykernel_10520\\4157520446.py:8: UserWarning: Glyph 52380 (\\N{HANGUL SYLLABLE CEON}) missing from current font.\n",
      "  plt.tight_layout()\n",
      "C:\\Users\\Administrator\\AppData\\Local\\Temp\\ipykernel_10520\\4157520446.py:8: UserWarning: Glyph 46321 (\\N{HANGUL SYLLABLE DEUNG}) missing from current font.\n",
      "  plt.tight_layout()\n",
      "C:\\Users\\Administrator\\AppData\\Local\\Temp\\ipykernel_10520\\4157520446.py:8: UserWarning: Glyph 50976 (\\N{HANGUL SYLLABLE YU}) missing from current font.\n",
      "  plt.tight_layout()\n",
      "C:\\Users\\Administrator\\AppData\\Local\\Temp\\ipykernel_10520\\4157520446.py:8: UserWarning: Glyph 50872 (\\N{HANGUL SYLLABLE UL}) missing from current font.\n",
      "  plt.tight_layout()\n",
      "C:\\Users\\Administrator\\AppData\\Local\\Temp\\ipykernel_10520\\4157520446.py:8: UserWarning: Glyph 53440 (\\N{HANGUL SYLLABLE TA}) missing from current font.\n",
      "  plt.tight_layout()\n",
      "C:\\Users\\Administrator\\AppData\\Local\\Temp\\ipykernel_10520\\4157520446.py:8: UserWarning: Glyph 45458 (\\N{HANGUL SYLLABLE NOP}) missing from current font.\n",
      "  plt.tight_layout()\n",
      "C:\\Users\\Administrator\\AppData\\Local\\Temp\\ipykernel_10520\\4157520446.py:8: UserWarning: Glyph 44368 (\\N{HANGUL SYLLABLE GYO}) missing from current font.\n",
      "  plt.tight_layout()\n",
      "C:\\Users\\Administrator\\AppData\\Local\\Temp\\ipykernel_10520\\4157520446.py:8: UserWarning: Glyph 53685 (\\N{HANGUL SYLLABLE TONG}) missing from current font.\n",
      "  plt.tight_layout()\n",
      "C:\\Users\\Administrator\\AppData\\Local\\Temp\\ipykernel_10520\\4157520446.py:8: UserWarning: Glyph 47049 (\\N{HANGUL SYLLABLE RYANG}) missing from current font.\n",
      "  plt.tight_layout()\n",
      "C:\\Users\\Administrator\\AppData\\Local\\Temp\\ipykernel_10520\\4157520446.py:8: UserWarning: Glyph 44148 (\\N{HANGUL SYLLABLE GEON}) missing from current font.\n",
      "  plt.tight_layout()\n",
      "C:\\ProgramData\\Anaconda3\\envs\\machine\\lib\\site-packages\\IPython\\core\\pylabtools.py:151: UserWarning: Glyph 52264 (\\N{HANGUL SYLLABLE CA}) missing from current font.\n",
      "  fig.canvas.print_figure(bytes_io, **kw)\n",
      "C:\\ProgramData\\Anaconda3\\envs\\machine\\lib\\site-packages\\IPython\\core\\pylabtools.py:151: UserWarning: Glyph 49440 (\\N{HANGUL SYLLABLE SEON}) missing from current font.\n",
      "  fig.canvas.print_figure(bytes_io, **kw)\n",
      "C:\\ProgramData\\Anaconda3\\envs\\machine\\lib\\site-packages\\IPython\\core\\pylabtools.py:151: UserWarning: Glyph 49688 (\\N{HANGUL SYLLABLE SU}) missing from current font.\n",
      "  fig.canvas.print_figure(bytes_io, **kw)\n",
      "C:\\ProgramData\\Anaconda3\\envs\\machine\\lib\\site-packages\\IPython\\core\\pylabtools.py:151: UserWarning: Glyph 51060 (\\N{HANGUL SYLLABLE I}) missing from current font.\n",
      "  fig.canvas.print_figure(bytes_io, **kw)\n",
      "C:\\ProgramData\\Anaconda3\\envs\\machine\\lib\\site-packages\\IPython\\core\\pylabtools.py:151: UserWarning: Glyph 50857 (\\N{HANGUL SYLLABLE YONG}) missing from current font.\n",
      "  fig.canvas.print_figure(bytes_io, **kw)\n",
      "C:\\ProgramData\\Anaconda3\\envs\\machine\\lib\\site-packages\\IPython\\core\\pylabtools.py:151: UserWarning: Glyph 54869 (\\N{HANGUL SYLLABLE HWAG}) missing from current font.\n",
      "  fig.canvas.print_figure(bytes_io, **kw)\n",
      "C:\\ProgramData\\Anaconda3\\envs\\machine\\lib\\site-packages\\IPython\\core\\pylabtools.py:151: UserWarning: Glyph 51064 (\\N{HANGUL SYLLABLE IN}) missing from current font.\n",
      "  fig.canvas.print_figure(bytes_io, **kw)\n",
      "C:\\ProgramData\\Anaconda3\\envs\\machine\\lib\\site-packages\\IPython\\core\\pylabtools.py:151: UserWarning: Glyph 51333 (\\N{HANGUL SYLLABLE JONG}) missing from current font.\n",
      "  fig.canvas.print_figure(bytes_io, **kw)\n",
      "C:\\ProgramData\\Anaconda3\\envs\\machine\\lib\\site-packages\\IPython\\core\\pylabtools.py:151: UserWarning: Glyph 54253 (\\N{HANGUL SYLLABLE POG}) missing from current font.\n",
      "  fig.canvas.print_figure(bytes_io, **kw)\n",
      "C:\\ProgramData\\Anaconda3\\envs\\machine\\lib\\site-packages\\IPython\\core\\pylabtools.py:151: UserWarning: Glyph 50672 (\\N{HANGUL SYLLABLE YEON}) missing from current font.\n",
      "  fig.canvas.print_figure(bytes_io, **kw)\n",
      "C:\\ProgramData\\Anaconda3\\envs\\machine\\lib\\site-packages\\IPython\\core\\pylabtools.py:151: UserWarning: Glyph 51109 (\\N{HANGUL SYLLABLE JANG}) missing from current font.\n",
      "  fig.canvas.print_figure(bytes_io, **kw)\n",
      "C:\\ProgramData\\Anaconda3\\envs\\machine\\lib\\site-packages\\IPython\\core\\pylabtools.py:151: UserWarning: Glyph 49328 (\\N{HANGUL SYLLABLE SAN}) missing from current font.\n",
      "  fig.canvas.print_figure(bytes_io, **kw)\n",
      "C:\\ProgramData\\Anaconda3\\envs\\machine\\lib\\site-packages\\IPython\\core\\pylabtools.py:151: UserWarning: Glyph 52293 (\\N{HANGUL SYLLABLE CAEG}) missing from current font.\n",
      "  fig.canvas.print_figure(bytes_io, **kw)\n",
      "C:\\ProgramData\\Anaconda3\\envs\\machine\\lib\\site-packages\\IPython\\core\\pylabtools.py:151: UserWarning: Glyph 47196 (\\N{HANGUL SYLLABLE RO}) missing from current font.\n",
      "  fig.canvas.print_figure(bytes_io, **kw)\n",
      "C:\\ProgramData\\Anaconda3\\envs\\machine\\lib\\site-packages\\IPython\\core\\pylabtools.py:151: UserWarning: Glyph 44620 (\\N{HANGUL SYLLABLE GGA}) missing from current font.\n",
      "  fig.canvas.print_figure(bytes_io, **kw)\n",
      "C:\\ProgramData\\Anaconda3\\envs\\machine\\lib\\site-packages\\IPython\\core\\pylabtools.py:151: UserWarning: Glyph 51648 (\\N{HANGUL SYLLABLE JI}) missing from current font.\n",
      "  fig.canvas.print_figure(bytes_io, **kw)\n",
      "C:\\ProgramData\\Anaconda3\\envs\\machine\\lib\\site-packages\\IPython\\core\\pylabtools.py:151: UserWarning: Glyph 51032 (\\N{HANGUL SYLLABLE YI}) missing from current font.\n",
      "  fig.canvas.print_figure(bytes_io, **kw)\n",
      "C:\\ProgramData\\Anaconda3\\envs\\machine\\lib\\site-packages\\IPython\\core\\pylabtools.py:151: UserWarning: Glyph 52572 (\\N{HANGUL SYLLABLE COE}) missing from current font.\n",
      "  fig.canvas.print_figure(bytes_io, **kw)\n",
      "C:\\ProgramData\\Anaconda3\\envs\\machine\\lib\\site-packages\\IPython\\core\\pylabtools.py:151: UserWarning: Glyph 45800 (\\N{HANGUL SYLLABLE DAN}) missing from current font.\n",
      "  fig.canvas.print_figure(bytes_io, **kw)\n",
      "C:\\ProgramData\\Anaconda3\\envs\\machine\\lib\\site-packages\\IPython\\core\\pylabtools.py:151: UserWarning: Glyph 44144 (\\N{HANGUL SYLLABLE GEO}) missing from current font.\n",
      "  fig.canvas.print_figure(bytes_io, **kw)\n",
      "C:\\ProgramData\\Anaconda3\\envs\\machine\\lib\\site-packages\\IPython\\core\\pylabtools.py:151: UserWarning: Glyph 47532 (\\N{HANGUL SYLLABLE RI}) missing from current font.\n",
      "  fig.canvas.print_figure(bytes_io, **kw)\n",
      "C:\\ProgramData\\Anaconda3\\envs\\machine\\lib\\site-packages\\IPython\\core\\pylabtools.py:151: UserWarning: Glyph 45453 (\\N{HANGUL SYLLABLE NONG}) missing from current font.\n",
      "  fig.canvas.print_figure(bytes_io, **kw)\n",
      "C:\\ProgramData\\Anaconda3\\envs\\machine\\lib\\site-packages\\IPython\\core\\pylabtools.py:151: UserWarning: Glyph 44032 (\\N{HANGUL SYLLABLE GA}) missing from current font.\n",
      "  fig.canvas.print_figure(bytes_io, **kw)\n",
      "C:\\ProgramData\\Anaconda3\\envs\\machine\\lib\\site-packages\\IPython\\core\\pylabtools.py:151: UserWarning: Glyph 46020 (\\N{HANGUL SYLLABLE DO}) missing from current font.\n",
      "  fig.canvas.print_figure(bytes_io, **kw)\n",
      "C:\\ProgramData\\Anaconda3\\envs\\machine\\lib\\site-packages\\IPython\\core\\pylabtools.py:151: UserWarning: Glyph 44256 (\\N{HANGUL SYLLABLE GO}) missing from current font.\n",
      "  fig.canvas.print_figure(bytes_io, **kw)\n",
      "C:\\ProgramData\\Anaconda3\\envs\\machine\\lib\\site-packages\\IPython\\core\\pylabtools.py:151: UserWarning: Glyph 51228 (\\N{HANGUL SYLLABLE JE}) missing from current font.\n",
      "  fig.canvas.print_figure(bytes_io, **kw)\n",
      "C:\\ProgramData\\Anaconda3\\envs\\machine\\lib\\site-packages\\IPython\\core\\pylabtools.py:151: UserWarning: Glyph 54620 (\\N{HANGUL SYLLABLE HAN}) missing from current font.\n",
      "  fig.canvas.print_figure(bytes_io, **kw)\n",
      "C:\\ProgramData\\Anaconda3\\envs\\machine\\lib\\site-packages\\IPython\\core\\pylabtools.py:151: UserWarning: Glyph 49549 (\\N{HANGUL SYLLABLE SOG}) missing from current font.\n",
      "  fig.canvas.print_figure(bytes_io, **kw)\n",
      "C:\\ProgramData\\Anaconda3\\envs\\machine\\lib\\site-packages\\IPython\\core\\pylabtools.py:151: UserWarning: Glyph 51452 (\\N{HANGUL SYLLABLE JU}) missing from current font.\n",
      "  fig.canvas.print_figure(bytes_io, **kw)\n",
      "C:\\ProgramData\\Anaconda3\\envs\\machine\\lib\\site-packages\\IPython\\core\\pylabtools.py:151: UserWarning: Glyph 48320 (\\N{HANGUL SYLLABLE BYEON}) missing from current font.\n",
      "  fig.canvas.print_figure(bytes_io, **kw)\n",
      "C:\\ProgramData\\Anaconda3\\envs\\machine\\lib\\site-packages\\IPython\\core\\pylabtools.py:151: UserWarning: Glyph 46041 (\\N{HANGUL SYLLABLE DONG}) missing from current font.\n",
      "  fig.canvas.print_figure(bytes_io, **kw)\n",
      "C:\\ProgramData\\Anaconda3\\envs\\machine\\lib\\site-packages\\IPython\\core\\pylabtools.py:151: UserWarning: Glyph 47932 (\\N{HANGUL SYLLABLE MUL}) missing from current font.\n",
      "  fig.canvas.print_figure(bytes_io, **kw)\n",
      "C:\\ProgramData\\Anaconda3\\envs\\machine\\lib\\site-packages\\IPython\\core\\pylabtools.py:151: UserWarning: Glyph 44060 (\\N{HANGUL SYLLABLE GAE}) missing from current font.\n",
      "  fig.canvas.print_figure(bytes_io, **kw)\n",
      "C:\\ProgramData\\Anaconda3\\envs\\machine\\lib\\site-packages\\IPython\\core\\pylabtools.py:151: UserWarning: Glyph 52636 (\\N{HANGUL SYLLABLE CUL}) missing from current font.\n",
      "  fig.canvas.print_figure(bytes_io, **kw)\n",
      "C:\\ProgramData\\Anaconda3\\envs\\machine\\lib\\site-packages\\IPython\\core\\pylabtools.py:151: UserWarning: Glyph 54788 (\\N{HANGUL SYLLABLE HYEON}) missing from current font.\n",
      "  fig.canvas.print_figure(bytes_io, **kw)\n",
      "C:\\ProgramData\\Anaconda3\\envs\\machine\\lib\\site-packages\\IPython\\core\\pylabtools.py:151: UserWarning: Glyph 48712 (\\N{HANGUL SYLLABLE BIN}) missing from current font.\n",
      "  fig.canvas.print_figure(bytes_io, **kw)\n",
      "C:\\ProgramData\\Anaconda3\\envs\\machine\\lib\\site-packages\\IPython\\core\\pylabtools.py:151: UserWarning: Glyph 54616 (\\N{HANGUL SYLLABLE HA}) missing from current font.\n",
      "  fig.canvas.print_figure(bytes_io, **kw)\n",
      "C:\\ProgramData\\Anaconda3\\envs\\machine\\lib\\site-packages\\IPython\\core\\pylabtools.py:151: UserWarning: Glyph 52380 (\\N{HANGUL SYLLABLE CEON}) missing from current font.\n",
      "  fig.canvas.print_figure(bytes_io, **kw)\n",
      "C:\\ProgramData\\Anaconda3\\envs\\machine\\lib\\site-packages\\IPython\\core\\pylabtools.py:151: UserWarning: Glyph 46321 (\\N{HANGUL SYLLABLE DEUNG}) missing from current font.\n",
      "  fig.canvas.print_figure(bytes_io, **kw)\n",
      "C:\\ProgramData\\Anaconda3\\envs\\machine\\lib\\site-packages\\IPython\\core\\pylabtools.py:151: UserWarning: Glyph 50976 (\\N{HANGUL SYLLABLE YU}) missing from current font.\n",
      "  fig.canvas.print_figure(bytes_io, **kw)\n",
      "C:\\ProgramData\\Anaconda3\\envs\\machine\\lib\\site-packages\\IPython\\core\\pylabtools.py:151: UserWarning: Glyph 50872 (\\N{HANGUL SYLLABLE UL}) missing from current font.\n",
      "  fig.canvas.print_figure(bytes_io, **kw)\n",
      "C:\\ProgramData\\Anaconda3\\envs\\machine\\lib\\site-packages\\IPython\\core\\pylabtools.py:151: UserWarning: Glyph 53440 (\\N{HANGUL SYLLABLE TA}) missing from current font.\n",
      "  fig.canvas.print_figure(bytes_io, **kw)\n",
      "C:\\ProgramData\\Anaconda3\\envs\\machine\\lib\\site-packages\\IPython\\core\\pylabtools.py:151: UserWarning: Glyph 45458 (\\N{HANGUL SYLLABLE NOP}) missing from current font.\n",
      "  fig.canvas.print_figure(bytes_io, **kw)\n",
      "C:\\ProgramData\\Anaconda3\\envs\\machine\\lib\\site-packages\\IPython\\core\\pylabtools.py:151: UserWarning: Glyph 44368 (\\N{HANGUL SYLLABLE GYO}) missing from current font.\n",
      "  fig.canvas.print_figure(bytes_io, **kw)\n",
      "C:\\ProgramData\\Anaconda3\\envs\\machine\\lib\\site-packages\\IPython\\core\\pylabtools.py:151: UserWarning: Glyph 53685 (\\N{HANGUL SYLLABLE TONG}) missing from current font.\n",
      "  fig.canvas.print_figure(bytes_io, **kw)\n",
      "C:\\ProgramData\\Anaconda3\\envs\\machine\\lib\\site-packages\\IPython\\core\\pylabtools.py:151: UserWarning: Glyph 47049 (\\N{HANGUL SYLLABLE RYANG}) missing from current font.\n",
      "  fig.canvas.print_figure(bytes_io, **kw)\n",
      "C:\\ProgramData\\Anaconda3\\envs\\machine\\lib\\site-packages\\IPython\\core\\pylabtools.py:151: UserWarning: Glyph 44148 (\\N{HANGUL SYLLABLE GEON}) missing from current font.\n",
      "  fig.canvas.print_figure(bytes_io, **kw)\n"
     ]
    },
    {
     "data": {
      "text/plain": "<Figure size 1152x720 with 15 Axes>",
      "image/png": "[encoded data removed]"
     },
     "metadata": {
      "needs_background": "light"
     },
     "output_type": "display_data"
    }
   ]
  },
  {
   "cell_type": "code",
   "source": [
    "# 터널형 생태통로 Boxplot\n",
    "plt.figure(figsize=(16, 10))\n",
    "\n",
    "for i, col in enumerate(tunnel_check):\n",
    "  plt.subplot(4, 5, i+1)\n",
    "  df_tunnel.boxplot(col)\n",
    "\n",
    "plt.tight_layout()\n",
    "plt.show()"
   ],
   "metadata": {
    "colab": {
     "base_uri": "https://localhost:8080/",
     "height": 729
    },
    "id": "rJz1uqzNEKKp",
    "executionInfo": {
     "status": "ok",
     "timestamp": 1660806522979,
     "user_tz": -540,
     "elapsed": 4855,
     "user": {
      "displayName": "박예림",
      "userId": "02538636255865811244"
     }
    },
    "outputId": "f99a6ec1-fcb9-4770-cbe5-22e323cc5a71"
   },
   "execution_count": 15,
   "outputs": [
    {
     "name": "stderr",
     "output_type": "stream",
     "text": [
      "C:\\Users\\Administrator\\AppData\\Local\\Temp\\ipykernel_10520\\3783662249.py:8: UserWarning: Glyph 52264 (\\N{HANGUL SYLLABLE CA}) missing from current font.\n",
      "  plt.tight_layout()\n",
      "C:\\Users\\Administrator\\AppData\\Local\\Temp\\ipykernel_10520\\3783662249.py:8: UserWarning: Glyph 49440 (\\N{HANGUL SYLLABLE SEON}) missing from current font.\n",
      "  plt.tight_layout()\n",
      "C:\\Users\\Administrator\\AppData\\Local\\Temp\\ipykernel_10520\\3783662249.py:8: UserWarning: Glyph 49688 (\\N{HANGUL SYLLABLE SU}) missing from current font.\n",
      "  plt.tight_layout()\n",
      "C:\\Users\\Administrator\\AppData\\Local\\Temp\\ipykernel_10520\\3783662249.py:8: UserWarning: Glyph 51060 (\\N{HANGUL SYLLABLE I}) missing from current font.\n",
      "  plt.tight_layout()\n",
      "C:\\Users\\Administrator\\AppData\\Local\\Temp\\ipykernel_10520\\3783662249.py:8: UserWarning: Glyph 50857 (\\N{HANGUL SYLLABLE YONG}) missing from current font.\n",
      "  plt.tight_layout()\n",
      "C:\\Users\\Administrator\\AppData\\Local\\Temp\\ipykernel_10520\\3783662249.py:8: UserWarning: Glyph 54869 (\\N{HANGUL SYLLABLE HWAG}) missing from current font.\n",
      "  plt.tight_layout()\n",
      "C:\\Users\\Administrator\\AppData\\Local\\Temp\\ipykernel_10520\\3783662249.py:8: UserWarning: Glyph 51064 (\\N{HANGUL SYLLABLE IN}) missing from current font.\n",
      "  plt.tight_layout()\n",
      "C:\\Users\\Administrator\\AppData\\Local\\Temp\\ipykernel_10520\\3783662249.py:8: UserWarning: Glyph 51333 (\\N{HANGUL SYLLABLE JONG}) missing from current font.\n",
      "  plt.tight_layout()\n",
      "C:\\Users\\Administrator\\AppData\\Local\\Temp\\ipykernel_10520\\3783662249.py:8: UserWarning: Glyph 54253 (\\N{HANGUL SYLLABLE POG}) missing from current font.\n",
      "  plt.tight_layout()\n",
      "C:\\Users\\Administrator\\AppData\\Local\\Temp\\ipykernel_10520\\3783662249.py:8: UserWarning: Glyph 50672 (\\N{HANGUL SYLLABLE YEON}) missing from current font.\n",
      "  plt.tight_layout()\n",
      "C:\\Users\\Administrator\\AppData\\Local\\Temp\\ipykernel_10520\\3783662249.py:8: UserWarning: Glyph 51109 (\\N{HANGUL SYLLABLE JANG}) missing from current font.\n",
      "  plt.tight_layout()\n",
      "C:\\Users\\Administrator\\AppData\\Local\\Temp\\ipykernel_10520\\3783662249.py:8: UserWarning: Glyph 45458 (\\N{HANGUL SYLLABLE NOP}) missing from current font.\n",
      "  plt.tight_layout()\n",
      "C:\\Users\\Administrator\\AppData\\Local\\Temp\\ipykernel_10520\\3783662249.py:8: UserWarning: Glyph 44060 (\\N{HANGUL SYLLABLE GAE}) missing from current font.\n",
      "  plt.tight_layout()\n",
      "C:\\Users\\Administrator\\AppData\\Local\\Temp\\ipykernel_10520\\3783662249.py:8: UserWarning: Glyph 48169 (\\N{HANGUL SYLLABLE BANG}) missing from current font.\n",
      "  plt.tight_layout()\n",
      "C:\\Users\\Administrator\\AppData\\Local\\Temp\\ipykernel_10520\\3783662249.py:8: UserWarning: Glyph 46020 (\\N{HANGUL SYLLABLE DO}) missing from current font.\n",
      "  plt.tight_layout()\n",
      "C:\\Users\\Administrator\\AppData\\Local\\Temp\\ipykernel_10520\\3783662249.py:8: UserWarning: Glyph 49328 (\\N{HANGUL SYLLABLE SAN}) missing from current font.\n",
      "  plt.tight_layout()\n",
      "C:\\Users\\Administrator\\AppData\\Local\\Temp\\ipykernel_10520\\3783662249.py:8: UserWarning: Glyph 52293 (\\N{HANGUL SYLLABLE CAEG}) missing from current font.\n",
      "  plt.tight_layout()\n",
      "C:\\Users\\Administrator\\AppData\\Local\\Temp\\ipykernel_10520\\3783662249.py:8: UserWarning: Glyph 47196 (\\N{HANGUL SYLLABLE RO}) missing from current font.\n",
      "  plt.tight_layout()\n",
      "C:\\Users\\Administrator\\AppData\\Local\\Temp\\ipykernel_10520\\3783662249.py:8: UserWarning: Glyph 44620 (\\N{HANGUL SYLLABLE GGA}) missing from current font.\n",
      "  plt.tight_layout()\n",
      "C:\\Users\\Administrator\\AppData\\Local\\Temp\\ipykernel_10520\\3783662249.py:8: UserWarning: Glyph 51648 (\\N{HANGUL SYLLABLE JI}) missing from current font.\n",
      "  plt.tight_layout()\n",
      "C:\\Users\\Administrator\\AppData\\Local\\Temp\\ipykernel_10520\\3783662249.py:8: UserWarning: Glyph 51032 (\\N{HANGUL SYLLABLE YI}) missing from current font.\n",
      "  plt.tight_layout()\n",
      "C:\\Users\\Administrator\\AppData\\Local\\Temp\\ipykernel_10520\\3783662249.py:8: UserWarning: Glyph 52572 (\\N{HANGUL SYLLABLE COE}) missing from current font.\n",
      "  plt.tight_layout()\n",
      "C:\\Users\\Administrator\\AppData\\Local\\Temp\\ipykernel_10520\\3783662249.py:8: UserWarning: Glyph 45800 (\\N{HANGUL SYLLABLE DAN}) missing from current font.\n",
      "  plt.tight_layout()\n",
      "C:\\Users\\Administrator\\AppData\\Local\\Temp\\ipykernel_10520\\3783662249.py:8: UserWarning: Glyph 44144 (\\N{HANGUL SYLLABLE GEO}) missing from current font.\n",
      "  plt.tight_layout()\n",
      "C:\\Users\\Administrator\\AppData\\Local\\Temp\\ipykernel_10520\\3783662249.py:8: UserWarning: Glyph 47532 (\\N{HANGUL SYLLABLE RI}) missing from current font.\n",
      "  plt.tight_layout()\n",
      "C:\\Users\\Administrator\\AppData\\Local\\Temp\\ipykernel_10520\\3783662249.py:8: UserWarning: Glyph 45453 (\\N{HANGUL SYLLABLE NONG}) missing from current font.\n",
      "  plt.tight_layout()\n",
      "C:\\Users\\Administrator\\AppData\\Local\\Temp\\ipykernel_10520\\3783662249.py:8: UserWarning: Glyph 44032 (\\N{HANGUL SYLLABLE GA}) missing from current font.\n",
      "  plt.tight_layout()\n",
      "C:\\Users\\Administrator\\AppData\\Local\\Temp\\ipykernel_10520\\3783662249.py:8: UserWarning: Glyph 44256 (\\N{HANGUL SYLLABLE GO}) missing from current font.\n",
      "  plt.tight_layout()\n",
      "C:\\Users\\Administrator\\AppData\\Local\\Temp\\ipykernel_10520\\3783662249.py:8: UserWarning: Glyph 51228 (\\N{HANGUL SYLLABLE JE}) missing from current font.\n",
      "  plt.tight_layout()\n",
      "C:\\Users\\Administrator\\AppData\\Local\\Temp\\ipykernel_10520\\3783662249.py:8: UserWarning: Glyph 54620 (\\N{HANGUL SYLLABLE HAN}) missing from current font.\n",
      "  plt.tight_layout()\n",
      "C:\\Users\\Administrator\\AppData\\Local\\Temp\\ipykernel_10520\\3783662249.py:8: UserWarning: Glyph 49549 (\\N{HANGUL SYLLABLE SOG}) missing from current font.\n",
      "  plt.tight_layout()\n",
      "C:\\Users\\Administrator\\AppData\\Local\\Temp\\ipykernel_10520\\3783662249.py:8: UserWarning: Glyph 51452 (\\N{HANGUL SYLLABLE JU}) missing from current font.\n",
      "  plt.tight_layout()\n",
      "C:\\Users\\Administrator\\AppData\\Local\\Temp\\ipykernel_10520\\3783662249.py:8: UserWarning: Glyph 48320 (\\N{HANGUL SYLLABLE BYEON}) missing from current font.\n",
      "  plt.tight_layout()\n",
      "C:\\Users\\Administrator\\AppData\\Local\\Temp\\ipykernel_10520\\3783662249.py:8: UserWarning: Glyph 46041 (\\N{HANGUL SYLLABLE DONG}) missing from current font.\n",
      "  plt.tight_layout()\n",
      "C:\\Users\\Administrator\\AppData\\Local\\Temp\\ipykernel_10520\\3783662249.py:8: UserWarning: Glyph 47932 (\\N{HANGUL SYLLABLE MUL}) missing from current font.\n",
      "  plt.tight_layout()\n",
      "C:\\Users\\Administrator\\AppData\\Local\\Temp\\ipykernel_10520\\3783662249.py:8: UserWarning: Glyph 52636 (\\N{HANGUL SYLLABLE CUL}) missing from current font.\n",
      "  plt.tight_layout()\n",
      "C:\\Users\\Administrator\\AppData\\Local\\Temp\\ipykernel_10520\\3783662249.py:8: UserWarning: Glyph 54788 (\\N{HANGUL SYLLABLE HYEON}) missing from current font.\n",
      "  plt.tight_layout()\n",
      "C:\\Users\\Administrator\\AppData\\Local\\Temp\\ipykernel_10520\\3783662249.py:8: UserWarning: Glyph 48712 (\\N{HANGUL SYLLABLE BIN}) missing from current font.\n",
      "  plt.tight_layout()\n",
      "C:\\Users\\Administrator\\AppData\\Local\\Temp\\ipykernel_10520\\3783662249.py:8: UserWarning: Glyph 54616 (\\N{HANGUL SYLLABLE HA}) missing from current font.\n",
      "  plt.tight_layout()\n",
      "C:\\Users\\Administrator\\AppData\\Local\\Temp\\ipykernel_10520\\3783662249.py:8: UserWarning: Glyph 52380 (\\N{HANGUL SYLLABLE CEON}) missing from current font.\n",
      "  plt.tight_layout()\n",
      "C:\\Users\\Administrator\\AppData\\Local\\Temp\\ipykernel_10520\\3783662249.py:8: UserWarning: Glyph 46321 (\\N{HANGUL SYLLABLE DEUNG}) missing from current font.\n",
      "  plt.tight_layout()\n",
      "C:\\Users\\Administrator\\AppData\\Local\\Temp\\ipykernel_10520\\3783662249.py:8: UserWarning: Glyph 50976 (\\N{HANGUL SYLLABLE YU}) missing from current font.\n",
      "  plt.tight_layout()\n",
      "C:\\Users\\Administrator\\AppData\\Local\\Temp\\ipykernel_10520\\3783662249.py:8: UserWarning: Glyph 50872 (\\N{HANGUL SYLLABLE UL}) missing from current font.\n",
      "  plt.tight_layout()\n",
      "C:\\Users\\Administrator\\AppData\\Local\\Temp\\ipykernel_10520\\3783662249.py:8: UserWarning: Glyph 53440 (\\N{HANGUL SYLLABLE TA}) missing from current font.\n",
      "  plt.tight_layout()\n",
      "C:\\Users\\Administrator\\AppData\\Local\\Temp\\ipykernel_10520\\3783662249.py:8: UserWarning: Glyph 44368 (\\N{HANGUL SYLLABLE GYO}) missing from current font.\n",
      "  plt.tight_layout()\n",
      "C:\\Users\\Administrator\\AppData\\Local\\Temp\\ipykernel_10520\\3783662249.py:8: UserWarning: Glyph 53685 (\\N{HANGUL SYLLABLE TONG}) missing from current font.\n",
      "  plt.tight_layout()\n",
      "C:\\Users\\Administrator\\AppData\\Local\\Temp\\ipykernel_10520\\3783662249.py:8: UserWarning: Glyph 47049 (\\N{HANGUL SYLLABLE RYANG}) missing from current font.\n",
      "  plt.tight_layout()\n",
      "C:\\Users\\Administrator\\AppData\\Local\\Temp\\ipykernel_10520\\3783662249.py:8: UserWarning: Glyph 44148 (\\N{HANGUL SYLLABLE GEON}) missing from current font.\n",
      "  plt.tight_layout()\n",
      "C:\\ProgramData\\Anaconda3\\envs\\machine\\lib\\site-packages\\IPython\\core\\pylabtools.py:151: UserWarning: Glyph 52264 (\\N{HANGUL SYLLABLE CA}) missing from current font.\n",
      "  fig.canvas.print_figure(bytes_io, **kw)\n",
      "C:\\ProgramData\\Anaconda3\\envs\\machine\\lib\\site-packages\\IPython\\core\\pylabtools.py:151: UserWarning: Glyph 49440 (\\N{HANGUL SYLLABLE SEON}) missing from current font.\n",
      "  fig.canvas.print_figure(bytes_io, **kw)\n",
      "C:\\ProgramData\\Anaconda3\\envs\\machine\\lib\\site-packages\\IPython\\core\\pylabtools.py:151: UserWarning: Glyph 49688 (\\N{HANGUL SYLLABLE SU}) missing from current font.\n",
      "  fig.canvas.print_figure(bytes_io, **kw)\n",
      "C:\\ProgramData\\Anaconda3\\envs\\machine\\lib\\site-packages\\IPython\\core\\pylabtools.py:151: UserWarning: Glyph 51060 (\\N{HANGUL SYLLABLE I}) missing from current font.\n",
      "  fig.canvas.print_figure(bytes_io, **kw)\n",
      "C:\\ProgramData\\Anaconda3\\envs\\machine\\lib\\site-packages\\IPython\\core\\pylabtools.py:151: UserWarning: Glyph 50857 (\\N{HANGUL SYLLABLE YONG}) missing from current font.\n",
      "  fig.canvas.print_figure(bytes_io, **kw)\n",
      "C:\\ProgramData\\Anaconda3\\envs\\machine\\lib\\site-packages\\IPython\\core\\pylabtools.py:151: UserWarning: Glyph 54869 (\\N{HANGUL SYLLABLE HWAG}) missing from current font.\n",
      "  fig.canvas.print_figure(bytes_io, **kw)\n",
      "C:\\ProgramData\\Anaconda3\\envs\\machine\\lib\\site-packages\\IPython\\core\\pylabtools.py:151: UserWarning: Glyph 51064 (\\N{HANGUL SYLLABLE IN}) missing from current font.\n",
      "  fig.canvas.print_figure(bytes_io, **kw)\n",
      "C:\\ProgramData\\Anaconda3\\envs\\machine\\lib\\site-packages\\IPython\\core\\pylabtools.py:151: UserWarning: Glyph 51333 (\\N{HANGUL SYLLABLE JONG}) missing from current font.\n",
      "  fig.canvas.print_figure(bytes_io, **kw)\n",
      "C:\\ProgramData\\Anaconda3\\envs\\machine\\lib\\site-packages\\IPython\\core\\pylabtools.py:151: UserWarning: Glyph 54253 (\\N{HANGUL SYLLABLE POG}) missing from current font.\n",
      "  fig.canvas.print_figure(bytes_io, **kw)\n",
      "C:\\ProgramData\\Anaconda3\\envs\\machine\\lib\\site-packages\\IPython\\core\\pylabtools.py:151: UserWarning: Glyph 50672 (\\N{HANGUL SYLLABLE YEON}) missing from current font.\n",
      "  fig.canvas.print_figure(bytes_io, **kw)\n",
      "C:\\ProgramData\\Anaconda3\\envs\\machine\\lib\\site-packages\\IPython\\core\\pylabtools.py:151: UserWarning: Glyph 51109 (\\N{HANGUL SYLLABLE JANG}) missing from current font.\n",
      "  fig.canvas.print_figure(bytes_io, **kw)\n",
      "C:\\ProgramData\\Anaconda3\\envs\\machine\\lib\\site-packages\\IPython\\core\\pylabtools.py:151: UserWarning: Glyph 45458 (\\N{HANGUL SYLLABLE NOP}) missing from current font.\n",
      "  fig.canvas.print_figure(bytes_io, **kw)\n",
      "C:\\ProgramData\\Anaconda3\\envs\\machine\\lib\\site-packages\\IPython\\core\\pylabtools.py:151: UserWarning: Glyph 44060 (\\N{HANGUL SYLLABLE GAE}) missing from current font.\n",
      "  fig.canvas.print_figure(bytes_io, **kw)\n",
      "C:\\ProgramData\\Anaconda3\\envs\\machine\\lib\\site-packages\\IPython\\core\\pylabtools.py:151: UserWarning: Glyph 48169 (\\N{HANGUL SYLLABLE BANG}) missing from current font.\n",
      "  fig.canvas.print_figure(bytes_io, **kw)\n",
      "C:\\ProgramData\\Anaconda3\\envs\\machine\\lib\\site-packages\\IPython\\core\\pylabtools.py:151: UserWarning: Glyph 46020 (\\N{HANGUL SYLLABLE DO}) missing from current font.\n",
      "  fig.canvas.print_figure(bytes_io, **kw)\n",
      "C:\\ProgramData\\Anaconda3\\envs\\machine\\lib\\site-packages\\IPython\\core\\pylabtools.py:151: UserWarning: Glyph 49328 (\\N{HANGUL SYLLABLE SAN}) missing from current font.\n",
      "  fig.canvas.print_figure(bytes_io, **kw)\n",
      "C:\\ProgramData\\Anaconda3\\envs\\machine\\lib\\site-packages\\IPython\\core\\pylabtools.py:151: UserWarning: Glyph 52293 (\\N{HANGUL SYLLABLE CAEG}) missing from current font.\n",
      "  fig.canvas.print_figure(bytes_io, **kw)\n",
      "C:\\ProgramData\\Anaconda3\\envs\\machine\\lib\\site-packages\\IPython\\core\\pylabtools.py:151: UserWarning: Glyph 47196 (\\N{HANGUL SYLLABLE RO}) missing from current font.\n",
      "  fig.canvas.print_figure(bytes_io, **kw)\n",
      "C:\\ProgramData\\Anaconda3\\envs\\machine\\lib\\site-packages\\IPython\\core\\pylabtools.py:151: UserWarning: Glyph 44620 (\\N{HANGUL SYLLABLE GGA}) missing from current font.\n",
      "  fig.canvas.print_figure(bytes_io, **kw)\n",
      "C:\\ProgramData\\Anaconda3\\envs\\machine\\lib\\site-packages\\IPython\\core\\pylabtools.py:151: UserWarning: Glyph 51648 (\\N{HANGUL SYLLABLE JI}) missing from current font.\n",
      "  fig.canvas.print_figure(bytes_io, **kw)\n",
      "C:\\ProgramData\\Anaconda3\\envs\\machine\\lib\\site-packages\\IPython\\core\\pylabtools.py:151: UserWarning: Glyph 51032 (\\N{HANGUL SYLLABLE YI}) missing from current font.\n",
      "  fig.canvas.print_figure(bytes_io, **kw)\n",
      "C:\\ProgramData\\Anaconda3\\envs\\machine\\lib\\site-packages\\IPython\\core\\pylabtools.py:151: UserWarning: Glyph 52572 (\\N{HANGUL SYLLABLE COE}) missing from current font.\n",
      "  fig.canvas.print_figure(bytes_io, **kw)\n",
      "C:\\ProgramData\\Anaconda3\\envs\\machine\\lib\\site-packages\\IPython\\core\\pylabtools.py:151: UserWarning: Glyph 45800 (\\N{HANGUL SYLLABLE DAN}) missing from current font.\n",
      "  fig.canvas.print_figure(bytes_io, **kw)\n",
      "C:\\ProgramData\\Anaconda3\\envs\\machine\\lib\\site-packages\\IPython\\core\\pylabtools.py:151: UserWarning: Glyph 44144 (\\N{HANGUL SYLLABLE GEO}) missing from current font.\n",
      "  fig.canvas.print_figure(bytes_io, **kw)\n",
      "C:\\ProgramData\\Anaconda3\\envs\\machine\\lib\\site-packages\\IPython\\core\\pylabtools.py:151: UserWarning: Glyph 47532 (\\N{HANGUL SYLLABLE RI}) missing from current font.\n",
      "  fig.canvas.print_figure(bytes_io, **kw)\n",
      "C:\\ProgramData\\Anaconda3\\envs\\machine\\lib\\site-packages\\IPython\\core\\pylabtools.py:151: UserWarning: Glyph 45453 (\\N{HANGUL SYLLABLE NONG}) missing from current font.\n",
      "  fig.canvas.print_figure(bytes_io, **kw)\n",
      "C:\\ProgramData\\Anaconda3\\envs\\machine\\lib\\site-packages\\IPython\\core\\pylabtools.py:151: UserWarning: Glyph 44032 (\\N{HANGUL SYLLABLE GA}) missing from current font.\n",
      "  fig.canvas.print_figure(bytes_io, **kw)\n",
      "C:\\ProgramData\\Anaconda3\\envs\\machine\\lib\\site-packages\\IPython\\core\\pylabtools.py:151: UserWarning: Glyph 44256 (\\N{HANGUL SYLLABLE GO}) missing from current font.\n",
      "  fig.canvas.print_figure(bytes_io, **kw)\n",
      "C:\\ProgramData\\Anaconda3\\envs\\machine\\lib\\site-packages\\IPython\\core\\pylabtools.py:151: UserWarning: Glyph 51228 (\\N{HANGUL SYLLABLE JE}) missing from current font.\n",
      "  fig.canvas.print_figure(bytes_io, **kw)\n",
      "C:\\ProgramData\\Anaconda3\\envs\\machine\\lib\\site-packages\\IPython\\core\\pylabtools.py:151: UserWarning: Glyph 54620 (\\N{HANGUL SYLLABLE HAN}) missing from current font.\n",
      "  fig.canvas.print_figure(bytes_io, **kw)\n",
      "C:\\ProgramData\\Anaconda3\\envs\\machine\\lib\\site-packages\\IPython\\core\\pylabtools.py:151: UserWarning: Glyph 49549 (\\N{HANGUL SYLLABLE SOG}) missing from current font.\n",
      "  fig.canvas.print_figure(bytes_io, **kw)\n",
      "C:\\ProgramData\\Anaconda3\\envs\\machine\\lib\\site-packages\\IPython\\core\\pylabtools.py:151: UserWarning: Glyph 51452 (\\N{HANGUL SYLLABLE JU}) missing from current font.\n",
      "  fig.canvas.print_figure(bytes_io, **kw)\n",
      "C:\\ProgramData\\Anaconda3\\envs\\machine\\lib\\site-packages\\IPython\\core\\pylabtools.py:151: UserWarning: Glyph 48320 (\\N{HANGUL SYLLABLE BYEON}) missing from current font.\n",
      "  fig.canvas.print_figure(bytes_io, **kw)\n",
      "C:\\ProgramData\\Anaconda3\\envs\\machine\\lib\\site-packages\\IPython\\core\\pylabtools.py:151: UserWarning: Glyph 46041 (\\N{HANGUL SYLLABLE DONG}) missing from current font.\n",
      "  fig.canvas.print_figure(bytes_io, **kw)\n",
      "C:\\ProgramData\\Anaconda3\\envs\\machine\\lib\\site-packages\\IPython\\core\\pylabtools.py:151: UserWarning: Glyph 47932 (\\N{HANGUL SYLLABLE MUL}) missing from current font.\n",
      "  fig.canvas.print_figure(bytes_io, **kw)\n",
      "C:\\ProgramData\\Anaconda3\\envs\\machine\\lib\\site-packages\\IPython\\core\\pylabtools.py:151: UserWarning: Glyph 52636 (\\N{HANGUL SYLLABLE CUL}) missing from current font.\n",
      "  fig.canvas.print_figure(bytes_io, **kw)\n",
      "C:\\ProgramData\\Anaconda3\\envs\\machine\\lib\\site-packages\\IPython\\core\\pylabtools.py:151: UserWarning: Glyph 54788 (\\N{HANGUL SYLLABLE HYEON}) missing from current font.\n",
      "  fig.canvas.print_figure(bytes_io, **kw)\n",
      "C:\\ProgramData\\Anaconda3\\envs\\machine\\lib\\site-packages\\IPython\\core\\pylabtools.py:151: UserWarning: Glyph 48712 (\\N{HANGUL SYLLABLE BIN}) missing from current font.\n",
      "  fig.canvas.print_figure(bytes_io, **kw)\n",
      "C:\\ProgramData\\Anaconda3\\envs\\machine\\lib\\site-packages\\IPython\\core\\pylabtools.py:151: UserWarning: Glyph 54616 (\\N{HANGUL SYLLABLE HA}) missing from current font.\n",
      "  fig.canvas.print_figure(bytes_io, **kw)\n",
      "C:\\ProgramData\\Anaconda3\\envs\\machine\\lib\\site-packages\\IPython\\core\\pylabtools.py:151: UserWarning: Glyph 52380 (\\N{HANGUL SYLLABLE CEON}) missing from current font.\n",
      "  fig.canvas.print_figure(bytes_io, **kw)\n",
      "C:\\ProgramData\\Anaconda3\\envs\\machine\\lib\\site-packages\\IPython\\core\\pylabtools.py:151: UserWarning: Glyph 46321 (\\N{HANGUL SYLLABLE DEUNG}) missing from current font.\n",
      "  fig.canvas.print_figure(bytes_io, **kw)\n",
      "C:\\ProgramData\\Anaconda3\\envs\\machine\\lib\\site-packages\\IPython\\core\\pylabtools.py:151: UserWarning: Glyph 50976 (\\N{HANGUL SYLLABLE YU}) missing from current font.\n",
      "  fig.canvas.print_figure(bytes_io, **kw)\n",
      "C:\\ProgramData\\Anaconda3\\envs\\machine\\lib\\site-packages\\IPython\\core\\pylabtools.py:151: UserWarning: Glyph 50872 (\\N{HANGUL SYLLABLE UL}) missing from current font.\n",
      "  fig.canvas.print_figure(bytes_io, **kw)\n",
      "C:\\ProgramData\\Anaconda3\\envs\\machine\\lib\\site-packages\\IPython\\core\\pylabtools.py:151: UserWarning: Glyph 53440 (\\N{HANGUL SYLLABLE TA}) missing from current font.\n",
      "  fig.canvas.print_figure(bytes_io, **kw)\n",
      "C:\\ProgramData\\Anaconda3\\envs\\machine\\lib\\site-packages\\IPython\\core\\pylabtools.py:151: UserWarning: Glyph 44368 (\\N{HANGUL SYLLABLE GYO}) missing from current font.\n",
      "  fig.canvas.print_figure(bytes_io, **kw)\n",
      "C:\\ProgramData\\Anaconda3\\envs\\machine\\lib\\site-packages\\IPython\\core\\pylabtools.py:151: UserWarning: Glyph 53685 (\\N{HANGUL SYLLABLE TONG}) missing from current font.\n",
      "  fig.canvas.print_figure(bytes_io, **kw)\n",
      "C:\\ProgramData\\Anaconda3\\envs\\machine\\lib\\site-packages\\IPython\\core\\pylabtools.py:151: UserWarning: Glyph 47049 (\\N{HANGUL SYLLABLE RYANG}) missing from current font.\n",
      "  fig.canvas.print_figure(bytes_io, **kw)\n",
      "C:\\ProgramData\\Anaconda3\\envs\\machine\\lib\\site-packages\\IPython\\core\\pylabtools.py:151: UserWarning: Glyph 44148 (\\N{HANGUL SYLLABLE GEON}) missing from current font.\n",
      "  fig.canvas.print_figure(bytes_io, **kw)\n"
     ]
    },
    {
     "data": {
      "text/plain": "<Figure size 1152x720 with 17 Axes>",
      "image/png": "[encoded data removed]"
     },
     "metadata": {
      "needs_background": "light"
     },
     "output_type": "display_data"
    }
   ]
  },
  {
   "cell_type": "markdown",
   "source": [
    "## 이상치 처리\n",
    "\n",
    "tukey fence 방식으로 처리"
   ],
   "metadata": {
    "id": "twSeXWLvUaC9"
   }
  },
  {
   "cell_type": "code",
   "execution_count": 16,
   "outputs": [],
   "source": [
    "# 높은 이상치는 Boxplot의 상한값으로, 낮은 이상치는 Boxplot의 하한값으로 대체하는 함수\n",
    "def change_outlier(df, col_list):\n",
    "  for col_name in col_list:\n",
    "      Q1 = df[col_name].quantile(q=0.25)\n",
    "      Q3 = df[col_name].quantile(q=0.75)\n",
    "      IQR = Q3-Q1\n",
    "\n",
    "      print('[' + col_name + ']', end=' ')\n",
    "      high_idx = df[df[col_name] > (Q3+1.5*IQR)].index\n",
    "      df.loc[high_idx, col_name] = round(Q3+1.5*IQR, 1)\n",
    "      print(str(len(high_idx)) +'개가 상한값으로 변경됨', end=' / ')\n",
    "\n",
    "      low_idx = df[df[col_name] < (Q1-1.5*IQR)].index\n",
    "      df.loc[low_idx, col_name] = round(Q1-1.5*IQR, 1)\n",
    "      print(str(len(low_idx)) +'개가 하한값으로 변경됨')\n",
    "\n",
    "  return df"
   ],
   "metadata": {
    "collapsed": false,
    "pycharm": {
     "name": "#%%\n"
    }
   }
  },
  {
   "cell_type": "code",
   "execution_count": 17,
   "outputs": [
    {
     "name": "stdout",
     "output_type": "stream",
     "text": [
      "[차선_수] 8개가 상한값으로 변경됨 / 0개가 하한값으로 변경됨\n",
      "[이용확인종_수] 2개가 상한값으로 변경됨 / 0개가 하한값으로 변경됨\n",
      "[폭(m)] 21개가 상한값으로 변경됨 / 0개가 하한값으로 변경됨\n",
      "[연장(m)] 9개가 상한값으로 변경됨 / 0개가 하한값으로 변경됨\n",
      "[산책로까지의 최단 거리(km)] 0개가 상한값으로 변경됨 / 0개가 하한값으로 변경됨\n",
      "[농가까지의 거리(km)] 26개가 상한값으로 변경됨 / 0개가 하한값으로 변경됨\n",
      "[도로 최고제한속도(km/h)] 0개가 상한값으로 변경됨 / 0개가 하한값으로 변경됨\n",
      "[주변 동물종 개수] 3개가 상한값으로 변경됨 / 0개가 하한값으로 변경됨\n",
      "[주변동물 출현빈도] 10개가 상한값으로 변경됨 / 0개가 하한값으로 변경됨\n",
      "[하천거리(km)] 15개가 상한값으로 변경됨 / 0개가 하한값으로 변경됨\n",
      "[등산로까지 최단거리(km)] 16개가 상한값으로 변경됨 / 0개가 하한값으로 변경됨\n",
      "[유도울타리_연장_m] 1개가 상한값으로 변경됨 / 0개가 하한값으로 변경됨\n",
      "[유도울타리_높이_m] 0개가 상한값으로 변경됨 / 0개가 하한값으로 변경됨\n",
      "[교통량] 29개가 상한값으로 변경됨 / 0개가 하한값으로 변경됨\n",
      "[건물까지거리(km)] 23개가 상한값으로 변경됨 / 0개가 하한값으로 변경됨\n"
     ]
    }
   ],
   "source": [
    "# 육교형 이상치 처리\n",
    "df_overpass = change_outlier(df_overpass, overpass_check)"
   ],
   "metadata": {
    "collapsed": false,
    "pycharm": {
     "name": "#%%\n"
    }
   }
  },
  {
   "cell_type": "code",
   "source": [
    "# 터널형 이상치 처리\n",
    "df_tunnel = change_outlier(df_tunnel, tunnel_check) "
   ],
   "metadata": {
    "colab": {
     "base_uri": "https://localhost:8080/"
    },
    "id": "ZoTdZp0gIsw3",
    "executionInfo": {
     "status": "ok",
     "timestamp": 1660806523532,
     "user_tz": -540,
     "elapsed": 565,
     "user": {
      "displayName": "박예림",
      "userId": "02538636255865811244"
     }
    },
    "outputId": "2201eb0d-6c49-468d-c502-14c76c0c1078"
   },
   "execution_count": 18,
   "outputs": [
    {
     "name": "stdout",
     "output_type": "stream",
     "text": [
      "[차선_수] 5개가 상한값으로 변경됨 / 0개가 하한값으로 변경됨\n",
      "[이용확인종_수] 8개가 상한값으로 변경됨 / 0개가 하한값으로 변경됨\n",
      "[폭(m)] 2개가 상한값으로 변경됨 / 0개가 하한값으로 변경됨\n",
      "[연장(m)] 2개가 상한값으로 변경됨 / 0개가 하한값으로 변경됨\n",
      "[높이(m)] 0개가 상한값으로 변경됨 / 0개가 하한값으로 변경됨\n",
      "[개방도] 1개가 상한값으로 변경됨 / 0개가 하한값으로 변경됨\n",
      "[산책로까지의 최단 거리(km)] 0개가 상한값으로 변경됨 / 0개가 하한값으로 변경됨\n",
      "[농가까지의 거리(km)] 27개가 상한값으로 변경됨 / 0개가 하한값으로 변경됨\n",
      "[도로 최고제한속도(km/h)] 0개가 상한값으로 변경됨 / 0개가 하한값으로 변경됨\n",
      "[주변 동물종 개수] 0개가 상한값으로 변경됨 / 0개가 하한값으로 변경됨\n",
      "[주변동물 출현빈도] 8개가 상한값으로 변경됨 / 0개가 하한값으로 변경됨\n",
      "[하천거리(km)] 7개가 상한값으로 변경됨 / 0개가 하한값으로 변경됨\n",
      "[등산로까지 최단거리(km)] 12개가 상한값으로 변경됨 / 0개가 하한값으로 변경됨\n",
      "[유도울타리_연장_m] 1개가 상한값으로 변경됨 / 0개가 하한값으로 변경됨\n",
      "[유도울타리_높이_m] 0개가 상한값으로 변경됨 / 0개가 하한값으로 변경됨\n",
      "[교통량] 14개가 상한값으로 변경됨 / 0개가 하한값으로 변경됨\n",
      "[건물까지거리(km)] 14개가 상한값으로 변경됨 / 0개가 하한값으로 변경됨\n"
     ]
    }
   ]
  },
  {
   "cell_type": "code",
   "source": [
    "# 이상치 처리된 MainData DF → DB로 업로드\n",
    "# df_overpass.to_sql(name='MainData_outlier_overpass', con=db_connection, if_exists='replace', index=False)\n",
    "# df_tunnel.to_sql(name='MainData_outlier_tunnel', con=db_connection, if_exists='replace', index=False)"
   ],
   "metadata": {
    "id": "GdKEDtv_HA-N",
    "executionInfo": {
     "status": "ok",
     "timestamp": 1660806523534,
     "user_tz": -540,
     "elapsed": 57,
     "user": {
      "displayName": "박예림",
      "userId": "02538636255865811244"
     }
    }
   },
   "execution_count": 19,
   "outputs": []
  },
  {
   "cell_type": "markdown",
   "source": [
    "# 생태통로 규격 데이터 결측치 처리\n",
    "유도울타리 높이, 연장, 주변동물 출현빈도, 주변 동물종 개수 => 존재하지 않는 것이므로 0으로 처리\n",
    "\n",
    "규격 데이터 (육교형 : 폭, 연장 / 터널형 : 폭, 연장, 높이, 개방도) 결측치 처리 필요 \\\n",
    "**!! 두 가지 방법(평균, KNN) 중 하나 선택 !!**"
   ],
   "metadata": {
    "id": "wghpa-P9Uo2l"
   }
  },
  {
   "cell_type": "code",
   "execution_count": 20,
   "outputs": [
    {
     "name": "stderr",
     "output_type": "stream",
     "text": [
      "C:\\Users\\Administrator\\AppData\\Local\\Temp\\ipykernel_10520\\3411756429.py:1: SettingWithCopyWarning: \n",
      "A value is trying to be set on a copy of a slice from a DataFrame\n",
      "\n",
      "See the caveats in the documentation: https://pandas.pydata.org/pandas-docs/stable/user_guide/indexing.html#returning-a-view-versus-a-copy\n",
      "  df_overpass[['유도울타리_높이_m', '유도울타리_연장_m', '주변동물 출현빈도', '주변 동물종 개수']].fillna(0, inplace=True)\n",
      "C:\\Users\\Administrator\\AppData\\Local\\Temp\\ipykernel_10520\\3411756429.py:2: SettingWithCopyWarning: \n",
      "A value is trying to be set on a copy of a slice from a DataFrame\n",
      "\n",
      "See the caveats in the documentation: https://pandas.pydata.org/pandas-docs/stable/user_guide/indexing.html#returning-a-view-versus-a-copy\n",
      "  df_tunnel[['유도울타리_높이_m', '유도울타리_연장_m', '주변동물 출현빈도', '주변 동물종 개수']].fillna(0, inplace=True)\n"
     ]
    }
   ],
   "source": [
    "df_overpass[['유도울타리_높이_m', '유도울타리_연장_m', '주변동물 출현빈도', '주변 동물종 개수']].fillna(0, inplace=True)\n",
    "df_tunnel[['유도울타리_높이_m', '유도울타리_연장_m', '주변동물 출현빈도', '주변 동물종 개수']].fillna(0, inplace=True)"
   ],
   "metadata": {
    "collapsed": false,
    "pycharm": {
     "name": "#%%\n"
    }
   }
  },
  {
   "cell_type": "code",
   "source": [
    "overpass_standard = ['폭(m)', '연장(m)', '교통량'] # 육교형 규격 컬럼 리스트\n",
    "tunnel_standard = ['폭(m)', '연장(m)', '높이(m)', '개방도', '교통량'] # 터널형 규격 컬럼 리스트"
   ],
   "metadata": {
    "id": "Fwtm-fYkVu-l",
    "executionInfo": {
     "status": "ok",
     "timestamp": 1660806523536,
     "user_tz": -540,
     "elapsed": 56,
     "user": {
      "displayName": "박예림",
      "userId": "02538636255865811244"
     }
    }
   },
   "execution_count": 21,
   "outputs": []
  },
  {
   "cell_type": "markdown",
   "source": [
    "### Case 1. 평균으로 대체"
   ],
   "metadata": {
    "id": "pUyUf-WSVpBD"
   }
  },
  {
   "cell_type": "code",
   "source": [
    "# 규격 데이터의 결측치를 평균으로 대치하는 함수(평균)\n",
    "def MeanImputation(df, col_list):\n",
    "  df_copy = df.copy()\n",
    "  for col_name in col_list:\n",
    "    df_copy[col_name].fillna(np.round(df_copy[col_name].mean(), 1), inplace=True)\n",
    "  return df_copy"
   ],
   "metadata": {
    "id": "TdLxIEBnM1py",
    "executionInfo": {
     "status": "ok",
     "timestamp": 1660806523538,
     "user_tz": -540,
     "elapsed": 56,
     "user": {
      "displayName": "박예림",
      "userId": "02538636255865811244"
     }
    }
   },
   "execution_count": 22,
   "outputs": []
  },
  {
   "cell_type": "markdown",
   "source": [
    "### Case 2. KNN으로 대체"
   ],
   "metadata": {
    "id": "-ofD8hGAVsqj"
   }
  },
  {
   "cell_type": "code",
   "source": [
    "# KNN 알고리즘으로 결측값 대체 함수\n",
    "def KNNImputation(df, col_list, n_neighbors):\n",
    "  df_copy = df.copy()\n",
    "  imputer = KNNImputer(n_neighbors=n_neighbors)\n",
    "  df_imputed = np.round(imputer.fit_transform(df_copy[col_list]), 1)\n",
    "  df_copy[col_list] = pd.DataFrame(df_imputed)\n",
    "  return df_copy"
   ],
   "metadata": {
    "id": "RC2UI_b6MKHV",
    "executionInfo": {
     "status": "ok",
     "timestamp": 1660806523540,
     "user_tz": -540,
     "elapsed": 56,
     "user": {
      "displayName": "박예림",
      "userId": "02538636255865811244"
     }
    }
   },
   "execution_count": 23,
   "outputs": []
  },
  {
   "cell_type": "markdown",
   "source": [
    "### 처리 수행"
   ],
   "metadata": {
    "id": "v-uJFy1osJpl"
   }
  },
  {
   "cell_type": "code",
   "source": [
    "# [Case 1] 평균으로 대체\n",
    "df_overpass_mean = MeanImputation(df_overpass, overpass_standard)\n",
    "df_tunnel_mean = MeanImputation(df_tunnel, tunnel_standard)\n",
    "\n",
    "# [Case 2] KNN으로 대체\n",
    "for i in range(1, 6):\n",
    "  globals()['df_overpass_knn{}'.format(i)] = KNNImputation(df_overpass, overpass_standard, i)\n",
    "  globals()['df_tunnel_knn{}'.format(i)] = KNNImputation(df_tunnel, tunnel_standard, i)"
   ],
   "metadata": {
    "id": "-jMO4nrnnqv2",
    "executionInfo": {
     "status": "ok",
     "timestamp": 1660806523543,
     "user_tz": -540,
     "elapsed": 57,
     "user": {
      "displayName": "박예림",
      "userId": "02538636255865811244"
     }
    }
   },
   "execution_count": 24,
   "outputs": []
  },
  {
   "cell_type": "markdown",
   "source": [
    "# 생태통로 효율성 데이터 처리\n",
    "**!! 두 가지 방법(보통, 삭제) 중 하나 선택 !!**"
   ],
   "metadata": {
    "id": "2cGQQjLGV6jy"
   }
  },
  {
   "cell_type": "code",
   "source": [
    "# 효율성이 '판단불가'인 값의 인덱스 목록\n",
    "overpass_efm_idx = df_overpass[df_overpass['생태통로_효율성'] == 3].index # 육교형\n",
    "tunnel_efm_idx = df_tunnel[df_tunnel['생태통로_효율성'] == 3].index # 터널형\n",
    "print(len(overpass_efm_idx))\n",
    "print(overpass_efm_idx)\n",
    "print(len(tunnel_efm_idx))\n",
    "print(tunnel_efm_idx)"
   ],
   "metadata": {
    "colab": {
     "base_uri": "https://localhost:8080/"
    },
    "id": "rhJYmERFh0a7",
    "executionInfo": {
     "status": "ok",
     "timestamp": 1660806523545,
     "user_tz": -540,
     "elapsed": 58,
     "user": {
      "displayName": "박예림",
      "userId": "02538636255865811244"
     }
    },
    "outputId": "acd526d1-fd2a-45e4-f2ec-70c86e49c026"
   },
   "execution_count": 25,
   "outputs": [
    {
     "name": "stdout",
     "output_type": "stream",
     "text": [
      "117\n",
      "Int64Index([  0,   6,  10,  11,  20,  22,  31,  32,  36,  37,\n",
      "            ...\n",
      "            452, 453, 454, 455, 478, 479, 488, 489, 490, 491],\n",
      "           dtype='int64', length=117)\n",
      "75\n",
      "Int64Index([  1,   9,  17,  25,  28,  30,  33,  39,  40,  41,  50,  53,  58,\n",
      "             79,  85, 103, 107, 119, 133, 134, 138, 141, 154, 155, 157, 159,\n",
      "            160, 161, 162, 172, 179, 189, 198, 204, 207, 208, 235, 245, 248,\n",
      "            249, 250, 253, 257, 258, 259, 261, 270, 283, 290, 319, 324, 344,\n",
      "            345, 348, 349, 352, 363, 364, 372, 377, 386, 387, 388, 389, 391,\n",
      "            392, 393, 394, 398, 399, 416, 448, 449, 450, 456],\n",
      "           dtype='int64')\n"
     ]
    }
   ]
  },
  {
   "cell_type": "markdown",
   "source": [
    "### Case 1. '판단불가' 값을 '보통'으로 변경"
   ],
   "metadata": {
    "id": "6C-rKhHUV8x_"
   }
  },
  {
   "cell_type": "code",
   "source": [
    "# 생태통로 효율성 데이터의 '판단불가' 값을 중앙값('보통')으로 변경하는 함수\n",
    "def change_median(df, change_idx):\n",
    "  df_copy = df.copy() # 파라미터로 넣은 데이터프레임 원본이 바뀌지 않도록 복사\n",
    "  df_copy.iloc[change_idx] = 1 # 1은 효율성 '보통'을 의미\n",
    "  return df_copy"
   ],
   "metadata": {
    "id": "0wiYQEgCO0t-",
    "executionInfo": {
     "status": "ok",
     "timestamp": 1660806523546,
     "user_tz": -540,
     "elapsed": 47,
     "user": {
      "displayName": "박예림",
      "userId": "02538636255865811244"
     }
    }
   },
   "execution_count": 26,
   "outputs": []
  },
  {
   "cell_type": "markdown",
   "source": [
    "### Case 2. '판단불가' 값을 삭제"
   ],
   "metadata": {
    "id": "7GxPwbjQWCq-"
   }
  },
  {
   "cell_type": "code",
   "source": [
    "# 생태통로 효율성 데이터가 '판단불가' 값이면 삭제하는 함수\n",
    "def drop_value(df, drop_idx):\n",
    "  df_copy = df.copy()\n",
    "  df_copy.drop(drop_idx, inplace=True)\n",
    "  return df_copy"
   ],
   "metadata": {
    "id": "BGDdBHfyRd-t",
    "executionInfo": {
     "status": "ok",
     "timestamp": 1660806523547,
     "user_tz": -540,
     "elapsed": 46,
     "user": {
      "displayName": "박예림",
      "userId": "02538636255865811244"
     }
    }
   },
   "execution_count": 27,
   "outputs": []
  },
  {
   "cell_type": "code",
   "execution_count": 28,
   "outputs": [],
   "source": [
    "def drop_value2(df) :\n",
    "    df_copy = df.copy()\n",
    "    idx = list(df_copy[df_copy['생태통로_효율성']==3].index)\n",
    "    df_copy.drop(idx, inplace=True)\n",
    "    return df_copy"
   ],
   "metadata": {
    "collapsed": false,
    "pycharm": {
     "name": "#%%\n"
    }
   }
  },
  {
   "cell_type": "markdown",
   "source": [
    "Case 1, 2 삭제\n",
    "## Case 3. 이항 변수 처리"
   ],
   "metadata": {
    "collapsed": false
   }
  },
  {
   "cell_type": "code",
   "execution_count": 37,
   "outputs": [],
   "source": [
    "# 생태통로 효율성 컬럼의 각 고유값의 개수, 비율 확인 함수\n",
    "def check_vc(df):\n",
    "  vc = df['생태통로_효율성'].value_counts() # 각 값의 개수\n",
    "  print(vc)\n",
    "  print(df['생태통로_효율성'].value_counts(normalize=True)) # 각 값의 비율\n",
    "  return vc\n",
    "\n",
    "# 이항 변수 처리 함수 : 종속변수(생태통로 효율성)를 이항 변수로 변경\n",
    "def dep_to_binary(df_ori, is_droped=False):\n",
    "  df = df_ori.copy()\n",
    "\n",
    "  # 0은 0(낮음)으로 유지 / 1,2를 1(보통 이상)으로 변경\n",
    "  df.loc[(df['생태통로_효율성'] == 1) | (df['생태통로_효율성'] == 2), '생태통로_효율성'] = 1\n",
    "  if is_droped :\n",
    "      return df\n",
    "\n",
    "  print('-----' * 20)\n",
    "  print('[분배 전]')\n",
    "  vc = check_vc(df)\n",
    "  print('-----' * 20)\n",
    "\n",
    "  # 3(판단불가) 값을 0, 1에 각 분포가 비슷해지도록 랜덤 분배\n",
    "  n0 = int((df.shape[0] / 2) - vc[0]) # 0에 채워야 하는 개수\n",
    "  n1 = int((df.shape[0] / 2) - vc[1]) # 1에 채워야 하는 개수\n",
    "\n",
    "  random.seed(100)\n",
    "  idx_list = list(df[df['생태통로_효율성'] == 3].index)\n",
    "  n0_idx_list = random.sample(idx_list, n0)\n",
    "  n1_idx_list = list(set(idx_list) - set(n0_idx_list))\n",
    "\n",
    "  df.loc[n0_idx_list, '생태통로_효율성'] = 0\n",
    "  df.loc[n1_idx_list, '생태통로_효율성'] = 1\n",
    "\n",
    "  print('[분배 후]')\n",
    "  check_vc(df)\n",
    "  print('-----' * 20)\n",
    "  print('\\n' * 2)\n",
    "  return df"
   ],
   "metadata": {
    "collapsed": false,
    "pycharm": {
     "name": "#%%\n"
    }
   }
  },
  {
   "cell_type": "markdown",
   "source": [
    "## 처리 수행\n",
    "(삭제)"
   ],
   "metadata": {
    "id": "IooS7rHcFjAR"
   }
  },
  {
   "cell_type": "code",
   "source": [
    "# [Case 1 & 1] 결측치 : 평균 / 효율성 : 보통\n",
    "overpass_mean_median = change_median(df_overpass_mean, overpass_efm_idx)\n",
    "tunnel_mean_median = change_median(df_tunnel_mean, tunnel_efm_idx)"
   ],
   "metadata": {
    "id": "F-rbx44TrVPG",
    "executionInfo": {
     "status": "ok",
     "timestamp": 1660806523549,
     "user_tz": -540,
     "elapsed": 46,
     "user": {
      "displayName": "박예림",
      "userId": "02538636255865811244"
     }
    },
    "pycharm": {
     "name": "#%%\n"
    }
   },
   "execution_count": null,
   "outputs": []
  },
  {
   "cell_type": "code",
   "source": [
    "# [Case 1 & 2] 결측치 : 평균 / 효율성 : 삭제\n",
    "overpass_mean_drop = drop_value(df_overpass_mean, overpass_efm_idx)\n",
    "tunnel_mean_drop = drop_value(df_tunnel_mean, tunnel_efm_idx)"
   ],
   "metadata": {
    "id": "EW8FD5eJrpqX",
    "executionInfo": {
     "status": "ok",
     "timestamp": 1660806523550,
     "user_tz": -540,
     "elapsed": 46,
     "user": {
      "displayName": "박예림",
      "userId": "02538636255865811244"
     }
    },
    "pycharm": {
     "name": "#%%\n"
    }
   },
   "execution_count": null,
   "outputs": []
  },
  {
   "cell_type": "code",
   "source": [
    "# [Case 2 & 1] 결측치 : KNN / 효율성 : 보통\n",
    "for i in range(1, 6):\n",
    "  globals()['overpass_knn{}_median'.format(i)] = change_median(globals()['df_overpass_knn{}'.format(i)], overpass_efm_idx)\n",
    "  globals()['tunnel_knn{}_median'.format(i)] = change_median(globals()['df_tunnel_knn{}'.format(i)], tunnel_efm_idx)"
   ],
   "metadata": {
    "id": "Be8jfwmupLm8",
    "executionInfo": {
     "status": "ok",
     "timestamp": 1660806523844,
     "user_tz": -540,
     "elapsed": 336,
     "user": {
      "displayName": "박예림",
      "userId": "02538636255865811244"
     }
    },
    "pycharm": {
     "name": "#%%\n"
    }
   },
   "execution_count": null,
   "outputs": []
  },
  {
   "cell_type": "code",
   "source": [
    "# [Case 2 & 2] 결측치 : KNN / 효율성 : 삭제\n",
    "for i in range(1, 6):\n",
    "  globals()['overpass_knn{}_drop'.format(i)] = drop_value(globals()['df_overpass_knn{}'.format(i)], overpass_efm_idx)\n",
    "  globals()['tunnel_knn{}_drop'.format(i)] = drop_value(globals()['df_tunnel_knn{}'.format(i)], tunnel_efm_idx)"
   ],
   "metadata": {
    "id": "m_Z_R_tltcXw",
    "executionInfo": {
     "status": "ok",
     "timestamp": 1660806523846,
     "user_tz": -540,
     "elapsed": 9,
     "user": {
      "displayName": "박예림",
      "userId": "02538636255865811244"
     }
    }
   },
   "execution_count": 106,
   "outputs": []
  },
  {
   "cell_type": "markdown",
   "source": [
    "## 처리수행 - 2"
   ],
   "metadata": {
    "collapsed": false
   }
  },
  {
   "cell_type": "code",
   "execution_count": 38,
   "outputs": [],
   "source": [
    "# [Case 1 & 2] 결측치 : 평균 / 효율성 : 삭제 후 binary\n",
    "overpass_mean_drop = drop_value2(df_overpass_mean)\n",
    "overpass_mean_drop = dep_to_binary(overpass_mean_drop, is_droped=True)\n",
    "\n",
    "tunnel_mean_drop = drop_value2(df_tunnel_mean)\n",
    "tunnel_mean_drop = dep_to_binary(tunnel_mean_drop, is_droped=True)"
   ],
   "metadata": {
    "collapsed": false,
    "pycharm": {
     "name": "#%%\n"
    }
   }
  },
  {
   "cell_type": "code",
   "execution_count": 39,
   "outputs": [
    {
     "name": "stdout",
     "output_type": "stream",
     "text": [
      "----------------------------------------------------------------------------------------------------\n",
      "[분배 전]\n",
      "3    117\n",
      "1    108\n",
      "0     75\n",
      "Name: 생태통로_효율성, dtype: int64\n",
      "3    0.39\n",
      "1    0.36\n",
      "0    0.25\n",
      "Name: 생태통로_효율성, dtype: float64\n",
      "----------------------------------------------------------------------------------------------------\n",
      "[분배 후]\n",
      "0    150\n",
      "1    150\n",
      "Name: 생태통로_효율성, dtype: int64\n",
      "0    0.5\n",
      "1    0.5\n",
      "Name: 생태통로_효율성, dtype: float64\n",
      "----------------------------------------------------------------------------------------------------\n",
      "\n",
      "\n",
      "\n",
      "----------------------------------------------------------------------------------------------------\n",
      "[분배 전]\n",
      "3    75\n",
      "1    67\n",
      "0    55\n",
      "Name: 생태통로_효율성, dtype: int64\n",
      "3    0.380711\n",
      "1    0.340102\n",
      "0    0.279188\n",
      "Name: 생태통로_효율성, dtype: float64\n",
      "----------------------------------------------------------------------------------------------------\n",
      "[분배 후]\n",
      "1    99\n",
      "0    98\n",
      "Name: 생태통로_효율성, dtype: int64\n",
      "1    0.502538\n",
      "0    0.497462\n",
      "Name: 생태통로_효율성, dtype: float64\n",
      "----------------------------------------------------------------------------------------------------\n",
      "\n",
      "\n",
      "\n"
     ]
    }
   ],
   "source": [
    "# [Case 1 & 3] 결측치 : 평균 / 효율성 : 이항\n",
    "overpass_mean_binary = dep_to_binary(df_overpass_mean)\n",
    "tunnel_mean_binary = dep_to_binary(df_tunnel_mean)"
   ],
   "metadata": {
    "collapsed": false,
    "pycharm": {
     "name": "#%%\n"
    }
   }
  },
  {
   "cell_type": "code",
   "execution_count": 40,
   "outputs": [],
   "source": [
    "# [Case 2 & 2] 결측치 : KNN / 효율성 : 삭제 후 binary\n",
    "for i in range(1, 6):\n",
    "  globals()['overpass_knn{}_drop'.format(i)] = drop_value2(globals()['df_overpass_knn{}'.format(i)])\n",
    "  globals()['overpass_knn{}_drop'.format(i)] = dep_to_binary(globals()['overpass_knn{}_drop'.format(i)],  is_droped=True)\n",
    "\n",
    "  globals()['tunnel_knn{}_drop'.format(i)] = drop_value2(globals()['df_tunnel_knn{}'.format(i)])\n",
    "  globals()['tunnel_knn{}_drop'.format(i)] = dep_to_binary(globals()['tunnel_knn{}_drop'.format(i)],  is_droped=True)"
   ],
   "metadata": {
    "collapsed": false,
    "pycharm": {
     "name": "#%%\n"
    }
   }
  },
  {
   "cell_type": "code",
   "execution_count": 41,
   "outputs": [
    {
     "name": "stdout",
     "output_type": "stream",
     "text": [
      "----------------------------------------------------------------------------------------------------\n",
      "[분배 전]\n",
      "3    117\n",
      "1    108\n",
      "0     75\n",
      "Name: 생태통로_효율성, dtype: int64\n",
      "3    0.39\n",
      "1    0.36\n",
      "0    0.25\n",
      "Name: 생태통로_효율성, dtype: float64\n",
      "----------------------------------------------------------------------------------------------------\n",
      "[분배 후]\n",
      "0    150\n",
      "1    150\n",
      "Name: 생태통로_효율성, dtype: int64\n",
      "0    0.5\n",
      "1    0.5\n",
      "Name: 생태통로_효율성, dtype: float64\n",
      "----------------------------------------------------------------------------------------------------\n",
      "\n",
      "\n",
      "\n",
      "----------------------------------------------------------------------------------------------------\n",
      "[분배 전]\n",
      "3    75\n",
      "1    67\n",
      "0    55\n",
      "Name: 생태통로_효율성, dtype: int64\n",
      "3    0.380711\n",
      "1    0.340102\n",
      "0    0.279188\n",
      "Name: 생태통로_효율성, dtype: float64\n",
      "----------------------------------------------------------------------------------------------------\n",
      "[분배 후]\n",
      "1    99\n",
      "0    98\n",
      "Name: 생태통로_효율성, dtype: int64\n",
      "1    0.502538\n",
      "0    0.497462\n",
      "Name: 생태통로_효율성, dtype: float64\n",
      "----------------------------------------------------------------------------------------------------\n",
      "\n",
      "\n",
      "\n",
      "----------------------------------------------------------------------------------------------------\n",
      "[분배 전]\n",
      "3    117\n",
      "1    108\n",
      "0     75\n",
      "Name: 생태통로_효율성, dtype: int64\n",
      "3    0.39\n",
      "1    0.36\n",
      "0    0.25\n",
      "Name: 생태통로_효율성, dtype: float64\n",
      "----------------------------------------------------------------------------------------------------\n",
      "[분배 후]\n",
      "0    150\n",
      "1    150\n",
      "Name: 생태통로_효율성, dtype: int64\n",
      "0    0.5\n",
      "1    0.5\n",
      "Name: 생태통로_효율성, dtype: float64\n",
      "----------------------------------------------------------------------------------------------------\n",
      "\n",
      "\n",
      "\n",
      "----------------------------------------------------------------------------------------------------\n",
      "[분배 전]\n",
      "3    75\n",
      "1    67\n",
      "0    55\n",
      "Name: 생태통로_효율성, dtype: int64\n",
      "3    0.380711\n",
      "1    0.340102\n",
      "0    0.279188\n",
      "Name: 생태통로_효율성, dtype: float64\n",
      "----------------------------------------------------------------------------------------------------\n",
      "[분배 후]\n",
      "1    99\n",
      "0    98\n",
      "Name: 생태통로_효율성, dtype: int64\n",
      "1    0.502538\n",
      "0    0.497462\n",
      "Name: 생태통로_효율성, dtype: float64\n",
      "----------------------------------------------------------------------------------------------------\n",
      "\n",
      "\n",
      "\n",
      "----------------------------------------------------------------------------------------------------\n",
      "[분배 전]\n",
      "3    117\n",
      "1    108\n",
      "0     75\n",
      "Name: 생태통로_효율성, dtype: int64\n",
      "3    0.39\n",
      "1    0.36\n",
      "0    0.25\n",
      "Name: 생태통로_효율성, dtype: float64\n",
      "----------------------------------------------------------------------------------------------------\n",
      "[분배 후]\n",
      "0    150\n",
      "1    150\n",
      "Name: 생태통로_효율성, dtype: int64\n",
      "0    0.5\n",
      "1    0.5\n",
      "Name: 생태통로_효율성, dtype: float64\n",
      "----------------------------------------------------------------------------------------------------\n",
      "\n",
      "\n",
      "\n",
      "----------------------------------------------------------------------------------------------------\n",
      "[분배 전]\n",
      "3    75\n",
      "1    67\n",
      "0    55\n",
      "Name: 생태통로_효율성, dtype: int64\n",
      "3    0.380711\n",
      "1    0.340102\n",
      "0    0.279188\n",
      "Name: 생태통로_효율성, dtype: float64\n",
      "----------------------------------------------------------------------------------------------------\n",
      "[분배 후]\n",
      "1    99\n",
      "0    98\n",
      "Name: 생태통로_효율성, dtype: int64\n",
      "1    0.502538\n",
      "0    0.497462\n",
      "Name: 생태통로_효율성, dtype: float64\n",
      "----------------------------------------------------------------------------------------------------\n",
      "\n",
      "\n",
      "\n",
      "----------------------------------------------------------------------------------------------------\n",
      "[분배 전]\n",
      "3    117\n",
      "1    108\n",
      "0     75\n",
      "Name: 생태통로_효율성, dtype: int64\n",
      "3    0.39\n",
      "1    0.36\n",
      "0    0.25\n",
      "Name: 생태통로_효율성, dtype: float64\n",
      "----------------------------------------------------------------------------------------------------\n",
      "[분배 후]\n",
      "0    150\n",
      "1    150\n",
      "Name: 생태통로_효율성, dtype: int64\n",
      "0    0.5\n",
      "1    0.5\n",
      "Name: 생태통로_효율성, dtype: float64\n",
      "----------------------------------------------------------------------------------------------------\n",
      "\n",
      "\n",
      "\n",
      "----------------------------------------------------------------------------------------------------\n",
      "[분배 전]\n",
      "3    75\n",
      "1    67\n",
      "0    55\n",
      "Name: 생태통로_효율성, dtype: int64\n",
      "3    0.380711\n",
      "1    0.340102\n",
      "0    0.279188\n",
      "Name: 생태통로_효율성, dtype: float64\n",
      "----------------------------------------------------------------------------------------------------\n",
      "[분배 후]\n",
      "1    99\n",
      "0    98\n",
      "Name: 생태통로_효율성, dtype: int64\n",
      "1    0.502538\n",
      "0    0.497462\n",
      "Name: 생태통로_효율성, dtype: float64\n",
      "----------------------------------------------------------------------------------------------------\n",
      "\n",
      "\n",
      "\n",
      "----------------------------------------------------------------------------------------------------\n",
      "[분배 전]\n",
      "3    117\n",
      "1    108\n",
      "0     75\n",
      "Name: 생태통로_효율성, dtype: int64\n",
      "3    0.39\n",
      "1    0.36\n",
      "0    0.25\n",
      "Name: 생태통로_효율성, dtype: float64\n",
      "----------------------------------------------------------------------------------------------------\n",
      "[분배 후]\n",
      "0    150\n",
      "1    150\n",
      "Name: 생태통로_효율성, dtype: int64\n",
      "0    0.5\n",
      "1    0.5\n",
      "Name: 생태통로_효율성, dtype: float64\n",
      "----------------------------------------------------------------------------------------------------\n",
      "\n",
      "\n",
      "\n",
      "----------------------------------------------------------------------------------------------------\n",
      "[분배 전]\n",
      "3    75\n",
      "1    67\n",
      "0    55\n",
      "Name: 생태통로_효율성, dtype: int64\n",
      "3    0.380711\n",
      "1    0.340102\n",
      "0    0.279188\n",
      "Name: 생태통로_효율성, dtype: float64\n",
      "----------------------------------------------------------------------------------------------------\n",
      "[분배 후]\n",
      "1    99\n",
      "0    98\n",
      "Name: 생태통로_효율성, dtype: int64\n",
      "1    0.502538\n",
      "0    0.497462\n",
      "Name: 생태통로_효율성, dtype: float64\n",
      "----------------------------------------------------------------------------------------------------\n",
      "\n",
      "\n",
      "\n"
     ]
    }
   ],
   "source": [
    "# [Case 2 & 3] 결측치 : KNN / 효율성 : 이항\n",
    "for i in range(1, 6):\n",
    "  globals()['overpass_knn{}_binary'.format(i)] = dep_to_binary(globals()['df_overpass_knn{}'.format(i)])\n",
    "  globals()['tunnel_knn{}_binary'.format(i)] = dep_to_binary(globals()['df_tunnel_knn{}'.format(i)])"
   ],
   "metadata": {
    "collapsed": false,
    "pycharm": {
     "name": "#%%\n"
    }
   }
  },
  {
   "cell_type": "markdown",
   "source": [
    "# 최종 데이터"
   ],
   "metadata": {
    "id": "H3UUTc2AWGyG"
   }
  },
  {
   "cell_type": "code",
   "source": [
    "df_list = [overpass_mean_binary, tunnel_mean_binary, overpass_mean_drop, tunnel_mean_drop] + [globals()['overpass_knn{}_binary'.format(i)] for i in range(1, 6)] + [globals()['tunnel_knn{}_binary'.format(i)] for i in range(1, 6)] + [globals()['overpass_knn{}_drop'.format(i)] for i in range(1, 6)] + [globals()['tunnel_knn{}_drop'.format(i)] for i in range(1, 6)]\n",
    "print(len(df_list))"
   ],
   "metadata": {
    "colab": {
     "base_uri": "https://localhost:8080/"
    },
    "id": "jMStC2hGufLC",
    "executionInfo": {
     "status": "ok",
     "timestamp": 1660806531359,
     "user_tz": -540,
     "elapsed": 343,
     "user": {
      "displayName": "박예림",
      "userId": "02538636255865811244"
     }
    },
    "outputId": "9c559db8-6d5a-4f7d-9561-0cd2dca776e0"
   },
   "execution_count": 42,
   "outputs": [
    {
     "name": "stdout",
     "output_type": "stream",
     "text": [
      "24\n"
     ]
    }
   ]
  },
  {
   "cell_type": "code",
   "source": [
    "print([df.shape for df in df_list])"
   ],
   "metadata": {
    "colab": {
     "base_uri": "https://localhost:8080/"
    },
    "id": "p8gWQBhzvZ-v",
    "executionInfo": {
     "status": "ok",
     "timestamp": 1660806532998,
     "user_tz": -540,
     "elapsed": 6,
     "user": {
      "displayName": "박예림",
      "userId": "02538636255865811244"
     }
    },
    "outputId": "2069b00e-d62f-412c-9262-2a85e8784dd5"
   },
   "execution_count": 43,
   "outputs": [
    {
     "name": "stdout",
     "output_type": "stream",
     "text": [
      "[(300, 28), (197, 30), (183, 28), (122, 30), (300, 28), (300, 28), (300, 28), (300, 28), (300, 28), (197, 30), (197, 30), (197, 30), (197, 30), (197, 30), (183, 28), (183, 28), (183, 28), (183, 28), (183, 28), (122, 30), (122, 30), (122, 30), (122, 30), (122, 30)]\n"
     ]
    }
   ]
  },
  {
   "cell_type": "code",
   "source": [
    "# DF to CSV\n",
    "path = '.././data/MainData_v5/'\n",
    "\n",
    "overpass_mean_binary.to_csv(path + 'overpass_mean_binary.csv', index=False, encoding='cp949')\n",
    "tunnel_mean_binary.to_csv(path + 'tunnel_mean_binary.csv', index=False, encoding='cp949')\n",
    "overpass_mean_drop.to_csv(path + 'overpass_mean_drop.csv', index=False, encoding='cp949')\n",
    "tunnel_mean_drop.to_csv(path + 'tunnel_mean_drop.csv', index=False, encoding='cp949')\n",
    "for i in range(1, 6):\n",
    "  globals()['overpass_knn{}_binary'.format(i)].to_csv(path + 'overpass_knn{}_binary.csv'.format(i), index=False, encoding='cp949')\n",
    "  globals()['tunnel_knn{}_binary'.format(i)].to_csv(path + 'tunnel_knn{}_binary.csv'.format(i), index=False, encoding='cp949')\n",
    "  globals()['overpass_knn{}_drop'.format(i)].to_csv(path + 'overpass_knn{}_drop.csv'.format(i), index=False, encoding='cp949')\n",
    "  globals()['tunnel_knn{}_drop'.format(i)].to_csv(path + 'tunnel_knn{}_drop.csv'.format(i), index=False, encoding='cp949')"
   ],
   "metadata": {
    "id": "VDK__uUvbbKC",
    "executionInfo": {
     "status": "ok",
     "timestamp": 1660806547662,
     "user_tz": -540,
     "elapsed": 398,
     "user": {
      "displayName": "박예림",
      "userId": "02538636255865811244"
     }
    }
   },
   "execution_count": 46,
   "outputs": []
  },
  {
   "cell_type": "code",
   "execution_count": null,
   "outputs": [],
   "source": [],
   "metadata": {
    "collapsed": false,
    "pycharm": {
     "name": "#%%\n"
    }
   }
  }
 ]
}