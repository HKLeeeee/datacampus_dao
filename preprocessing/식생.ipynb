{
 "cells": [
  {
   "cell_type": "code",
   "execution_count": 1,
   "metadata": {
    "collapsed": true
   },
   "outputs": [],
   "source": [
    "import geopandas as gpd\n",
    "import pandas as pd\n",
    "from sqlalchemy import create_engine\n",
    "import pymysql"
   ]
  },
  {
   "cell_type": "code",
   "execution_count": 2,
   "outputs": [],
   "source": [
    "endpoint = 'dao.cdqd2bwz9q4s.ap-northeast-2.rds.amazonaws.com'\n",
    "schema = 'dao'\n",
    "db_connection_str = 'mysql+pymysql://admin:ekfkawnl@{}/{}'.format(endpoint, schema)\n",
    "try :\n",
    "    db_connection = create_engine(db_connection_str)\n",
    "    conn = db_connection.connect()\n",
    "except :\n",
    "    print('fail to connect db')\n",
    "\n",
    "def load_data_from_rds(tabel_name):\n",
    "  sql = \"SELECT * FROM {}\".format(tabel_name)\n",
    "  df = pd.read_sql(sql, db_connection)\n",
    "  return df"
   ],
   "metadata": {
    "collapsed": false,
    "pycharm": {
     "name": "#%%\n"
    }
   }
  },
  {
   "cell_type": "code",
   "execution_count": 3,
   "outputs": [],
   "source": [
    "HK = load_data_from_rds('re_MainData_inner_HK')"
   ],
   "metadata": {
    "collapsed": false,
    "pycharm": {
     "name": "#%%\n"
    }
   }
  },
  {
   "cell_type": "code",
   "execution_count": 4,
   "outputs": [],
   "source": [
    "df = pd.read_csv('생태통로_목록_식생_병합.csv', encoding='cp949')"
   ],
   "metadata": {
    "collapsed": false,
    "pycharm": {
     "name": "#%%\n"
    }
   }
  },
  {
   "cell_type": "code",
   "execution_count": 2,
   "outputs": [],
   "source": [
    "#df = gpd.read_file('./202011_자연환경조사_식생_면/tbl_big_ntee_vtn_pyn.shp', encoding='cp949')"
   ],
   "metadata": {
    "collapsed": false,
    "pycharm": {
     "name": "#%%\n"
    }
   }
  },
  {
   "cell_type": "code",
   "execution_count": 5,
   "outputs": [
    {
     "data": {
      "text/plain": "       번호          생태통로명                              주소         도로명  \\\n0    1001           중동터널                    서울특별시 구로구 궁동        계남큰길   \n1    1002         개좌생태터널              부산광역시 금정구 회동동 산4-1         개좌로   \n2    1004        곰내 생태통로               부산광역시 기장군 철마면 웅천리          군도   \n3    1005     정관예림리 생태통로               부산광역시 기장군 정관면 예림리         국지도   \n4    1006       을숙도 생태통로                   부산광역시 사하구 하단동        낙동남로   \n..    ...            ...                             ...         ...   \n531  1564           삼척노곡          강원도 삼척시 원덕읍 노곡리 산146-3          국도   \n532  1565           절토육교               경기도 의왕시 월암동 산46-3  서수원~의왕간 도로   \n533  1566         동물이동통로               경기도 의왕시 고천동 산55-5  서수원~의왕간 도로   \n534  1567            NaN          경기도 영중면 거사리 산3-22번지 일원          중로   \n535  1568  한북정맥(비득재) 생태축  경기도 소흘읍 직동리 산9-5번지 일원(죽엽산 비득재)         지방도   \n\n          도로번호   차선_수  위도_도  위도_분      위도_초  경도_도  ...       join_식물군락명  \\\n0          NaN  왕복6차로    37  30.0  23.37000   126  ...   아까시나무-상수리나무식재림   \n1            0  왕복2차선    35  15.0   6.05000   129  ...            소나무군락   \n2         19호선  왕복2차선    35  18.0  20.80000   129  ...            소나무군락   \n3          60호  왕복4차선    35  19.0  46.80000   129  ...        굴참나무-곰솔군락   \n4         1240  왕복7차선    35   6.0  31.84632   128  ...             곰솔군락   \n..         ...    ...   ...   ...       ...   ...  ...              ...   \n531        7호선  왕복4차선    37  12.0  33.19000   129  ...           굴참나무군락   \n532  지방도 309호선  왕복6차선    37  19.0   2.04000   126  ...          상수리나무군락   \n533   지방도309호선  왕복6차선    37  20.0  11.80000   126  ...         아까시나무식재림   \n534       3-30  왕복2차선    37  59.0  30.60000   127  ...      신갈나무-굴참나무군락   \n535        383  왕복2차선    37  47.0  10.60000   127  ...  일본잎갈나무-상수리나무식재림   \n\n        join_위도    join_경도 join_조사시작일  join_조사종료일  join_조사년도  join_시도명  \\\n0    126.836966  37.504219        NaN         NaN       2017     서울특별시   \n1    129.132271  35.258938        NaN         NaN       2016     부산광역시   \n2    129.170778  35.306671        NaN         NaN       2016     부산광역시   \n3    129.199985  35.332477        NaN         NaN       2016     부산광역시   \n4    128.963292  35.109221        NaN         NaN       2016     부산광역시   \n..          ...        ...        ...         ...        ...       ...   \n531  129.336308  37.208672        NaN         NaN       2018       강원도   \n532  126.970395  37.315534        NaN         NaN       2017       경기도   \n533  126.975101  37.336508        NaN         NaN       2017       경기도   \n534  127.228933  37.993006        NaN         NaN       2014       경기도   \n535  127.162162  37.787528        NaN         NaN       2014       경기도   \n\n                 join_layer  \\\n0    전국자연환경조사_4차_식생_2017_전국   \n1    전국자연환경조사_4차_식생_2016_전국   \n2    전국자연환경조사_4차_식생_2016_전국   \n3    전국자연환경조사_4차_식생_2016_전국   \n4    전국자연환경조사_4차_식생_2016_전국   \n..                      ...   \n531  전국자연환경조사_4차_식생_2018_전국   \n532  전국자연환경조사_4차_식생_2017_전국   \n533  전국자연환경조사_4차_식생_2017_전국   \n534  전국자연환경조사_4차_식생_2014_전국   \n535  전국자연환경조사_4차_식생_2014_전국   \n\n                                             join_path     distance  \n0    D:/다람쥐오래걷기/전국자연환경조사 4차 식생/전국자연환경조사_4차_식생_2017_...     0.000000  \n1    D:/다람쥐오래걷기/전국자연환경조사 4차 식생/전국자연환경조사_4차_식생_2016_...    20.515002  \n2    D:/다람쥐오래걷기/전국자연환경조사 4차 식생/전국자연환경조사_4차_식생_2016_...    18.677273  \n3    D:/다람쥐오래걷기/전국자연환경조사 4차 식생/전국자연환경조사_4차_식생_2016_...    12.253120  \n4    D:/다람쥐오래걷기/전국자연환경조사 4차 식생/전국자연환경조사_4차_식생_2016_...  1802.096678  \n..                                                 ...          ...  \n531  D:/다람쥐오래걷기/전국자연환경조사 4차 식생/전국자연환경조사_4차_식생_2018_...    48.240910  \n532  D:/다람쥐오래걷기/전국자연환경조사 4차 식생/전국자연환경조사_4차_식생_2017_...    40.324567  \n533  D:/다람쥐오래걷기/전국자연환경조사 4차 식생/전국자연환경조사_4차_식생_2017_...    30.271100  \n534  D:/다람쥐오래걷기/전국자연환경조사 4차 식생/전국자연환경조사_4차_식생_2014_...     0.000000  \n535  D:/다람쥐오래걷기/전국자연환경조사 4차 식생/전국자연환경조사_4차_식생_2014_...     0.000000  \n\n[536 rows x 28 columns]",
      "text/html": "<div>\n<style scoped>\n    .dataframe tbody tr th:only-of-type {\n        vertical-align: middle;\n    }\n\n    .dataframe tbody tr th {\n        vertical-align: top;\n    }\n\n    .dataframe thead th {\n        text-align: right;\n    }\n</style>\n<table border=\"1\" class=\"dataframe\">\n  <thead>\n    <tr style=\"text-align: right;\">\n      <th></th>\n      <th>번호</th>\n      <th>생태통로명</th>\n      <th>주소</th>\n      <th>도로명</th>\n      <th>도로번호</th>\n      <th>차선_수</th>\n      <th>위도_도</th>\n      <th>위도_분</th>\n      <th>위도_초</th>\n      <th>경도_도</th>\n      <th>...</th>\n      <th>join_식물군락명</th>\n      <th>join_위도</th>\n      <th>join_경도</th>\n      <th>join_조사시작일</th>\n      <th>join_조사종료일</th>\n      <th>join_조사년도</th>\n      <th>join_시도명</th>\n      <th>join_layer</th>\n      <th>join_path</th>\n      <th>distance</th>\n    </tr>\n  </thead>\n  <tbody>\n    <tr>\n      <th>0</th>\n      <td>1001</td>\n      <td>중동터널</td>\n      <td>서울특별시 구로구 궁동</td>\n      <td>계남큰길</td>\n      <td>NaN</td>\n      <td>왕복6차로</td>\n      <td>37</td>\n      <td>30.0</td>\n      <td>23.37000</td>\n      <td>126</td>\n      <td>...</td>\n      <td>아까시나무-상수리나무식재림</td>\n      <td>126.836966</td>\n      <td>37.504219</td>\n      <td>NaN</td>\n      <td>NaN</td>\n      <td>2017</td>\n      <td>서울특별시</td>\n      <td>전국자연환경조사_4차_식생_2017_전국</td>\n      <td>D:/다람쥐오래걷기/전국자연환경조사 4차 식생/전국자연환경조사_4차_식생_2017_...</td>\n      <td>0.000000</td>\n    </tr>\n    <tr>\n      <th>1</th>\n      <td>1002</td>\n      <td>개좌생태터널</td>\n      <td>부산광역시 금정구 회동동 산4-1</td>\n      <td>개좌로</td>\n      <td>0</td>\n      <td>왕복2차선</td>\n      <td>35</td>\n      <td>15.0</td>\n      <td>6.05000</td>\n      <td>129</td>\n      <td>...</td>\n      <td>소나무군락</td>\n      <td>129.132271</td>\n      <td>35.258938</td>\n      <td>NaN</td>\n      <td>NaN</td>\n      <td>2016</td>\n      <td>부산광역시</td>\n      <td>전국자연환경조사_4차_식생_2016_전국</td>\n      <td>D:/다람쥐오래걷기/전국자연환경조사 4차 식생/전국자연환경조사_4차_식생_2016_...</td>\n      <td>20.515002</td>\n    </tr>\n    <tr>\n      <th>2</th>\n      <td>1004</td>\n      <td>곰내 생태통로</td>\n      <td>부산광역시 기장군 철마면 웅천리</td>\n      <td>군도</td>\n      <td>19호선</td>\n      <td>왕복2차선</td>\n      <td>35</td>\n      <td>18.0</td>\n      <td>20.80000</td>\n      <td>129</td>\n      <td>...</td>\n      <td>소나무군락</td>\n      <td>129.170778</td>\n      <td>35.306671</td>\n      <td>NaN</td>\n      <td>NaN</td>\n      <td>2016</td>\n      <td>부산광역시</td>\n      <td>전국자연환경조사_4차_식생_2016_전국</td>\n      <td>D:/다람쥐오래걷기/전국자연환경조사 4차 식생/전국자연환경조사_4차_식생_2016_...</td>\n      <td>18.677273</td>\n    </tr>\n    <tr>\n      <th>3</th>\n      <td>1005</td>\n      <td>정관예림리 생태통로</td>\n      <td>부산광역시 기장군 정관면 예림리</td>\n      <td>국지도</td>\n      <td>60호</td>\n      <td>왕복4차선</td>\n      <td>35</td>\n      <td>19.0</td>\n      <td>46.80000</td>\n      <td>129</td>\n      <td>...</td>\n      <td>굴참나무-곰솔군락</td>\n      <td>129.199985</td>\n      <td>35.332477</td>\n      <td>NaN</td>\n      <td>NaN</td>\n      <td>2016</td>\n      <td>부산광역시</td>\n      <td>전국자연환경조사_4차_식생_2016_전국</td>\n      <td>D:/다람쥐오래걷기/전국자연환경조사 4차 식생/전국자연환경조사_4차_식생_2016_...</td>\n      <td>12.253120</td>\n    </tr>\n    <tr>\n      <th>4</th>\n      <td>1006</td>\n      <td>을숙도 생태통로</td>\n      <td>부산광역시 사하구 하단동</td>\n      <td>낙동남로</td>\n      <td>1240</td>\n      <td>왕복7차선</td>\n      <td>35</td>\n      <td>6.0</td>\n      <td>31.84632</td>\n      <td>128</td>\n      <td>...</td>\n      <td>곰솔군락</td>\n      <td>128.963292</td>\n      <td>35.109221</td>\n      <td>NaN</td>\n      <td>NaN</td>\n      <td>2016</td>\n      <td>부산광역시</td>\n      <td>전국자연환경조사_4차_식생_2016_전국</td>\n      <td>D:/다람쥐오래걷기/전국자연환경조사 4차 식생/전국자연환경조사_4차_식생_2016_...</td>\n      <td>1802.096678</td>\n    </tr>\n    <tr>\n      <th>...</th>\n      <td>...</td>\n      <td>...</td>\n      <td>...</td>\n      <td>...</td>\n      <td>...</td>\n      <td>...</td>\n      <td>...</td>\n      <td>...</td>\n      <td>...</td>\n      <td>...</td>\n      <td>...</td>\n      <td>...</td>\n      <td>...</td>\n      <td>...</td>\n      <td>...</td>\n      <td>...</td>\n      <td>...</td>\n      <td>...</td>\n      <td>...</td>\n      <td>...</td>\n      <td>...</td>\n    </tr>\n    <tr>\n      <th>531</th>\n      <td>1564</td>\n      <td>삼척노곡</td>\n      <td>강원도 삼척시 원덕읍 노곡리 산146-3</td>\n      <td>국도</td>\n      <td>7호선</td>\n      <td>왕복4차선</td>\n      <td>37</td>\n      <td>12.0</td>\n      <td>33.19000</td>\n      <td>129</td>\n      <td>...</td>\n      <td>굴참나무군락</td>\n      <td>129.336308</td>\n      <td>37.208672</td>\n      <td>NaN</td>\n      <td>NaN</td>\n      <td>2018</td>\n      <td>강원도</td>\n      <td>전국자연환경조사_4차_식생_2018_전국</td>\n      <td>D:/다람쥐오래걷기/전국자연환경조사 4차 식생/전국자연환경조사_4차_식생_2018_...</td>\n      <td>48.240910</td>\n    </tr>\n    <tr>\n      <th>532</th>\n      <td>1565</td>\n      <td>절토육교</td>\n      <td>경기도 의왕시 월암동 산46-3</td>\n      <td>서수원~의왕간 도로</td>\n      <td>지방도 309호선</td>\n      <td>왕복6차선</td>\n      <td>37</td>\n      <td>19.0</td>\n      <td>2.04000</td>\n      <td>126</td>\n      <td>...</td>\n      <td>상수리나무군락</td>\n      <td>126.970395</td>\n      <td>37.315534</td>\n      <td>NaN</td>\n      <td>NaN</td>\n      <td>2017</td>\n      <td>경기도</td>\n      <td>전국자연환경조사_4차_식생_2017_전국</td>\n      <td>D:/다람쥐오래걷기/전국자연환경조사 4차 식생/전국자연환경조사_4차_식생_2017_...</td>\n      <td>40.324567</td>\n    </tr>\n    <tr>\n      <th>533</th>\n      <td>1566</td>\n      <td>동물이동통로</td>\n      <td>경기도 의왕시 고천동 산55-5</td>\n      <td>서수원~의왕간 도로</td>\n      <td>지방도309호선</td>\n      <td>왕복6차선</td>\n      <td>37</td>\n      <td>20.0</td>\n      <td>11.80000</td>\n      <td>126</td>\n      <td>...</td>\n      <td>아까시나무식재림</td>\n      <td>126.975101</td>\n      <td>37.336508</td>\n      <td>NaN</td>\n      <td>NaN</td>\n      <td>2017</td>\n      <td>경기도</td>\n      <td>전국자연환경조사_4차_식생_2017_전국</td>\n      <td>D:/다람쥐오래걷기/전국자연환경조사 4차 식생/전국자연환경조사_4차_식생_2017_...</td>\n      <td>30.271100</td>\n    </tr>\n    <tr>\n      <th>534</th>\n      <td>1567</td>\n      <td>NaN</td>\n      <td>경기도 영중면 거사리 산3-22번지 일원</td>\n      <td>중로</td>\n      <td>3-30</td>\n      <td>왕복2차선</td>\n      <td>37</td>\n      <td>59.0</td>\n      <td>30.60000</td>\n      <td>127</td>\n      <td>...</td>\n      <td>신갈나무-굴참나무군락</td>\n      <td>127.228933</td>\n      <td>37.993006</td>\n      <td>NaN</td>\n      <td>NaN</td>\n      <td>2014</td>\n      <td>경기도</td>\n      <td>전국자연환경조사_4차_식생_2014_전국</td>\n      <td>D:/다람쥐오래걷기/전국자연환경조사 4차 식생/전국자연환경조사_4차_식생_2014_...</td>\n      <td>0.000000</td>\n    </tr>\n    <tr>\n      <th>535</th>\n      <td>1568</td>\n      <td>한북정맥(비득재) 생태축</td>\n      <td>경기도 소흘읍 직동리 산9-5번지 일원(죽엽산 비득재)</td>\n      <td>지방도</td>\n      <td>383</td>\n      <td>왕복2차선</td>\n      <td>37</td>\n      <td>47.0</td>\n      <td>10.60000</td>\n      <td>127</td>\n      <td>...</td>\n      <td>일본잎갈나무-상수리나무식재림</td>\n      <td>127.162162</td>\n      <td>37.787528</td>\n      <td>NaN</td>\n      <td>NaN</td>\n      <td>2014</td>\n      <td>경기도</td>\n      <td>전국자연환경조사_4차_식생_2014_전국</td>\n      <td>D:/다람쥐오래걷기/전국자연환경조사 4차 식생/전국자연환경조사_4차_식생_2014_...</td>\n      <td>0.000000</td>\n    </tr>\n  </tbody>\n</table>\n<p>536 rows × 28 columns</p>\n</div>"
     },
     "execution_count": 5,
     "metadata": {},
     "output_type": "execute_result"
    }
   ],
   "source": [
    "df"
   ],
   "metadata": {
    "collapsed": false,
    "pycharm": {
     "name": "#%%\n"
    }
   }
  },
  {
   "cell_type": "code",
   "execution_count": 6,
   "outputs": [
    {
     "data": {
      "text/plain": "       번호       join_식물군락명\n0    1001   아까시나무-상수리나무식재림\n1    1002            소나무군락\n2    1004            소나무군락\n3    1005        굴참나무-곰솔군락\n4    1006             곰솔군락\n..    ...              ...\n531  1564           굴참나무군락\n532  1565          상수리나무군락\n533  1566         아까시나무식재림\n534  1567      신갈나무-굴참나무군락\n535  1568  일본잎갈나무-상수리나무식재림\n\n[536 rows x 2 columns]",
      "text/html": "<div>\n<style scoped>\n    .dataframe tbody tr th:only-of-type {\n        vertical-align: middle;\n    }\n\n    .dataframe tbody tr th {\n        vertical-align: top;\n    }\n\n    .dataframe thead th {\n        text-align: right;\n    }\n</style>\n<table border=\"1\" class=\"dataframe\">\n  <thead>\n    <tr style=\"text-align: right;\">\n      <th></th>\n      <th>번호</th>\n      <th>join_식물군락명</th>\n    </tr>\n  </thead>\n  <tbody>\n    <tr>\n      <th>0</th>\n      <td>1001</td>\n      <td>아까시나무-상수리나무식재림</td>\n    </tr>\n    <tr>\n      <th>1</th>\n      <td>1002</td>\n      <td>소나무군락</td>\n    </tr>\n    <tr>\n      <th>2</th>\n      <td>1004</td>\n      <td>소나무군락</td>\n    </tr>\n    <tr>\n      <th>3</th>\n      <td>1005</td>\n      <td>굴참나무-곰솔군락</td>\n    </tr>\n    <tr>\n      <th>4</th>\n      <td>1006</td>\n      <td>곰솔군락</td>\n    </tr>\n    <tr>\n      <th>...</th>\n      <td>...</td>\n      <td>...</td>\n    </tr>\n    <tr>\n      <th>531</th>\n      <td>1564</td>\n      <td>굴참나무군락</td>\n    </tr>\n    <tr>\n      <th>532</th>\n      <td>1565</td>\n      <td>상수리나무군락</td>\n    </tr>\n    <tr>\n      <th>533</th>\n      <td>1566</td>\n      <td>아까시나무식재림</td>\n    </tr>\n    <tr>\n      <th>534</th>\n      <td>1567</td>\n      <td>신갈나무-굴참나무군락</td>\n    </tr>\n    <tr>\n      <th>535</th>\n      <td>1568</td>\n      <td>일본잎갈나무-상수리나무식재림</td>\n    </tr>\n  </tbody>\n</table>\n<p>536 rows × 2 columns</p>\n</div>"
     },
     "metadata": {},
     "output_type": "display_data"
    },
    {
     "name": "stdout",
     "output_type": "stream",
     "text": [
      "번호            0\n",
      "join_식물군락명    0\n",
      "dtype: int64\n"
     ]
    }
   ],
   "source": [
    "df = df[['번호', 'join_식물군락명']]\n",
    "display(df)\n",
    "print(df.isnull().sum())"
   ],
   "metadata": {
    "collapsed": false,
    "pycharm": {
     "name": "#%%\n"
    }
   }
  },
  {
   "cell_type": "code",
   "execution_count": 7,
   "outputs": [
    {
     "data": {
      "text/plain": "       번호  주변 동물종 개수  주변동물 출현빈도  하천까지의 최단 거리(km)       join_식물군락명\n0    1001          2          2         1.594083   아까시나무-상수리나무식재림\n1    1002          4         14         1.434181            소나무군락\n2    1004          4         16         1.248795            소나무군락\n3    1005          4          8         0.937739        굴참나무-곰솔군락\n4    1006          3         10         0.215409             곰솔군락\n..    ...        ...        ...              ...              ...\n531  1564          6         17         0.931150           굴참나무군락\n532  1565          1          2         1.508948          상수리나무군락\n533  1566          3          7         0.602177         아까시나무식재림\n534  1567          6          9         1.002913      신갈나무-굴참나무군락\n535  1568          5         19         1.648371  일본잎갈나무-상수리나무식재림\n\n[536 rows x 5 columns]",
      "text/html": "<div>\n<style scoped>\n    .dataframe tbody tr th:only-of-type {\n        vertical-align: middle;\n    }\n\n    .dataframe tbody tr th {\n        vertical-align: top;\n    }\n\n    .dataframe thead th {\n        text-align: right;\n    }\n</style>\n<table border=\"1\" class=\"dataframe\">\n  <thead>\n    <tr style=\"text-align: right;\">\n      <th></th>\n      <th>번호</th>\n      <th>주변 동물종 개수</th>\n      <th>주변동물 출현빈도</th>\n      <th>하천까지의 최단 거리(km)</th>\n      <th>join_식물군락명</th>\n    </tr>\n  </thead>\n  <tbody>\n    <tr>\n      <th>0</th>\n      <td>1001</td>\n      <td>2</td>\n      <td>2</td>\n      <td>1.594083</td>\n      <td>아까시나무-상수리나무식재림</td>\n    </tr>\n    <tr>\n      <th>1</th>\n      <td>1002</td>\n      <td>4</td>\n      <td>14</td>\n      <td>1.434181</td>\n      <td>소나무군락</td>\n    </tr>\n    <tr>\n      <th>2</th>\n      <td>1004</td>\n      <td>4</td>\n      <td>16</td>\n      <td>1.248795</td>\n      <td>소나무군락</td>\n    </tr>\n    <tr>\n      <th>3</th>\n      <td>1005</td>\n      <td>4</td>\n      <td>8</td>\n      <td>0.937739</td>\n      <td>굴참나무-곰솔군락</td>\n    </tr>\n    <tr>\n      <th>4</th>\n      <td>1006</td>\n      <td>3</td>\n      <td>10</td>\n      <td>0.215409</td>\n      <td>곰솔군락</td>\n    </tr>\n    <tr>\n      <th>...</th>\n      <td>...</td>\n      <td>...</td>\n      <td>...</td>\n      <td>...</td>\n      <td>...</td>\n    </tr>\n    <tr>\n      <th>531</th>\n      <td>1564</td>\n      <td>6</td>\n      <td>17</td>\n      <td>0.931150</td>\n      <td>굴참나무군락</td>\n    </tr>\n    <tr>\n      <th>532</th>\n      <td>1565</td>\n      <td>1</td>\n      <td>2</td>\n      <td>1.508948</td>\n      <td>상수리나무군락</td>\n    </tr>\n    <tr>\n      <th>533</th>\n      <td>1566</td>\n      <td>3</td>\n      <td>7</td>\n      <td>0.602177</td>\n      <td>아까시나무식재림</td>\n    </tr>\n    <tr>\n      <th>534</th>\n      <td>1567</td>\n      <td>6</td>\n      <td>9</td>\n      <td>1.002913</td>\n      <td>신갈나무-굴참나무군락</td>\n    </tr>\n    <tr>\n      <th>535</th>\n      <td>1568</td>\n      <td>5</td>\n      <td>19</td>\n      <td>1.648371</td>\n      <td>일본잎갈나무-상수리나무식재림</td>\n    </tr>\n  </tbody>\n</table>\n<p>536 rows × 5 columns</p>\n</div>"
     },
     "execution_count": 7,
     "metadata": {},
     "output_type": "execute_result"
    }
   ],
   "source": [
    "result = HK.merge(df, on='번호')\n",
    "result"
   ],
   "metadata": {
    "collapsed": false,
    "pycharm": {
     "name": "#%%\n"
    }
   }
  },
  {
   "cell_type": "code",
   "execution_count": 10,
   "outputs": [
    {
     "data": {
      "text/plain": "536"
     },
     "execution_count": 10,
     "metadata": {},
     "output_type": "execute_result"
    }
   ],
   "source": [
    "result.to_sql('re_MainData_inner_HK', con=db_connection, if_exists='replace', index=False)"
   ],
   "metadata": {
    "collapsed": false,
    "pycharm": {
     "name": "#%%\n"
    }
   }
  },
  {
   "cell_type": "code",
   "execution_count": null,
   "outputs": [],
   "source": [],
   "metadata": {
    "collapsed": false,
    "pycharm": {
     "name": "#%%\n"
    }
   }
  },
  {
   "cell_type": "code",
   "execution_count": null,
   "outputs": [],
   "source": [
    "core = resul"
   ],
   "metadata": {
    "collapsed": false,
    "pycharm": {
     "name": "#%%\n"
    }
   }
  }
 ],
 "metadata": {
  "kernelspec": {
   "display_name": "Python 3",
   "language": "python",
   "name": "python3"
  },
  "language_info": {
   "codemirror_mode": {
    "name": "ipython",
    "version": 2
   },
   "file_extension": ".py",
   "mimetype": "text/x-python",
   "name": "python",
   "nbconvert_exporter": "python",
   "pygments_lexer": "ipython2",
   "version": "2.7.6"
  }
 },
 "nbformat": 4,
 "nbformat_minor": 0
}