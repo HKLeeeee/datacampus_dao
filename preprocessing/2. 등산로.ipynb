{
 "cells": [
  {
   "cell_type": "code",
   "execution_count": 10,
   "metadata": {
    "collapsed": true,
    "pycharm": {
     "name": "#%%\n"
    }
   },
   "outputs": [],
   "source": [
    "import pandas as pd\n",
    "from DB import *\n",
    "\n",
    "db_connection = connect_db()"
   ]
  },
  {
   "cell_type": "code",
   "execution_count": 11,
   "outputs": [
    {
     "data": {
      "text/plain": "       번호  join_PMNTN_SN  join_MNTN_CODE join_MNTN_NM join_PMNTN_NM  \\\n0    1495          47603       481702801          집현산          도리구간   \n1    1277            106       438003204      가대리문화마을         가대리구간   \n2    1278          12966       438002801          도락산         가산리구간   \n3    1279          12966       438002801          도락산         가산리구간   \n4    1090          17094       431101701          몽령산         양청리구간   \n..    ...            ...             ...          ...           ...   \n492  1089          17091       431101701          몽령산           NaN   \n493  1087          17091       431101701          몽령산           NaN   \n494  1088          17100       431101701          몽령산           NaN   \n495  1091          22461       431102101          범백산          원리구간   \n496  1072          40945       431103901          우암산         율량동구간   \n\n    join_PMNTN_MAIN  join_PMNTN_LT join_PMNTN_DFFL  join_PMNTN_UPPL  \\\n0               NaN           1.29              쉬움               23   \n1               NaN           2.15              쉬움               81   \n2               NaN           0.03              쉬움                1   \n3               NaN           0.03              쉬움                1   \n4               NaN           0.31              쉬움                5   \n..              ...            ...             ...              ...   \n492             NaN           0.86              쉬움               15   \n493             NaN           0.86              쉬움               15   \n494             NaN           0.11              쉬움                2   \n495             NaN           3.24              쉬움               57   \n496             NaN           0.86              쉬움               15   \n\n     join_PMNTN_GODN join_PMNTN_MTRQ join_PMNTN_CNRL join_PMNTN_CLS  \\\n0                 16             NaN             NaN            NaN   \n1                 56             NaN             NaN            NaN   \n2                  0             NaN             NaN            NaN   \n3                  0             NaN             NaN            NaN   \n4                  4             NaN             NaN            NaN   \n..               ...             ...             ...            ...   \n492               11             NaN             NaN            NaN   \n493               11             NaN             NaN            NaN   \n494                1             NaN             NaN            NaN   \n495               40             NaN             NaN            NaN   \n496               11             NaN             NaN            NaN   \n\n    join_PMNTN_RISK join_PMNTN_RECO join_DATA_STDR  join_MNTN_ID     distance  \n0               NaN             NaN     2016-12-31  2.812402e+09  3157.025581  \n1               NaN             NaN     2016-12-31  4.380032e+08  1087.577778  \n2               NaN             NaN     2016-12-31  4.380028e+08  3070.682447  \n3               NaN             NaN     2016-12-31  4.380028e+08  2921.190492  \n4               NaN             NaN     2016-12-31  2.310124e+09    25.082554  \n..              ...             ...            ...           ...          ...  \n492             NaN             NaN     2016-12-31  2.310124e+09    25.617176  \n493             NaN             NaN     2016-12-31  2.310124e+09    21.407056  \n494             NaN             NaN     2016-12-31  2.310124e+09     8.204429  \n495             NaN             NaN     2016-12-31  4.311021e+08   878.327119  \n496             NaN             NaN     2016-12-31  4.311039e+08     1.196585  \n\n[497 rows x 18 columns]",
      "text/html": "<div>\n<style scoped>\n    .dataframe tbody tr th:only-of-type {\n        vertical-align: middle;\n    }\n\n    .dataframe tbody tr th {\n        vertical-align: top;\n    }\n\n    .dataframe thead th {\n        text-align: right;\n    }\n</style>\n<table border=\"1\" class=\"dataframe\">\n  <thead>\n    <tr style=\"text-align: right;\">\n      <th></th>\n      <th>번호</th>\n      <th>join_PMNTN_SN</th>\n      <th>join_MNTN_CODE</th>\n      <th>join_MNTN_NM</th>\n      <th>join_PMNTN_NM</th>\n      <th>join_PMNTN_MAIN</th>\n      <th>join_PMNTN_LT</th>\n      <th>join_PMNTN_DFFL</th>\n      <th>join_PMNTN_UPPL</th>\n      <th>join_PMNTN_GODN</th>\n      <th>join_PMNTN_MTRQ</th>\n      <th>join_PMNTN_CNRL</th>\n      <th>join_PMNTN_CLS</th>\n      <th>join_PMNTN_RISK</th>\n      <th>join_PMNTN_RECO</th>\n      <th>join_DATA_STDR</th>\n      <th>join_MNTN_ID</th>\n      <th>distance</th>\n    </tr>\n  </thead>\n  <tbody>\n    <tr>\n      <th>0</th>\n      <td>1495</td>\n      <td>47603</td>\n      <td>481702801</td>\n      <td>집현산</td>\n      <td>도리구간</td>\n      <td>NaN</td>\n      <td>1.29</td>\n      <td>쉬움</td>\n      <td>23</td>\n      <td>16</td>\n      <td>NaN</td>\n      <td>NaN</td>\n      <td>NaN</td>\n      <td>NaN</td>\n      <td>NaN</td>\n      <td>2016-12-31</td>\n      <td>2.812402e+09</td>\n      <td>3157.025581</td>\n    </tr>\n    <tr>\n      <th>1</th>\n      <td>1277</td>\n      <td>106</td>\n      <td>438003204</td>\n      <td>가대리문화마을</td>\n      <td>가대리구간</td>\n      <td>NaN</td>\n      <td>2.15</td>\n      <td>쉬움</td>\n      <td>81</td>\n      <td>56</td>\n      <td>NaN</td>\n      <td>NaN</td>\n      <td>NaN</td>\n      <td>NaN</td>\n      <td>NaN</td>\n      <td>2016-12-31</td>\n      <td>4.380032e+08</td>\n      <td>1087.577778</td>\n    </tr>\n    <tr>\n      <th>2</th>\n      <td>1278</td>\n      <td>12966</td>\n      <td>438002801</td>\n      <td>도락산</td>\n      <td>가산리구간</td>\n      <td>NaN</td>\n      <td>0.03</td>\n      <td>쉬움</td>\n      <td>1</td>\n      <td>0</td>\n      <td>NaN</td>\n      <td>NaN</td>\n      <td>NaN</td>\n      <td>NaN</td>\n      <td>NaN</td>\n      <td>2016-12-31</td>\n      <td>4.380028e+08</td>\n      <td>3070.682447</td>\n    </tr>\n    <tr>\n      <th>3</th>\n      <td>1279</td>\n      <td>12966</td>\n      <td>438002801</td>\n      <td>도락산</td>\n      <td>가산리구간</td>\n      <td>NaN</td>\n      <td>0.03</td>\n      <td>쉬움</td>\n      <td>1</td>\n      <td>0</td>\n      <td>NaN</td>\n      <td>NaN</td>\n      <td>NaN</td>\n      <td>NaN</td>\n      <td>NaN</td>\n      <td>2016-12-31</td>\n      <td>4.380028e+08</td>\n      <td>2921.190492</td>\n    </tr>\n    <tr>\n      <th>4</th>\n      <td>1090</td>\n      <td>17094</td>\n      <td>431101701</td>\n      <td>몽령산</td>\n      <td>양청리구간</td>\n      <td>NaN</td>\n      <td>0.31</td>\n      <td>쉬움</td>\n      <td>5</td>\n      <td>4</td>\n      <td>NaN</td>\n      <td>NaN</td>\n      <td>NaN</td>\n      <td>NaN</td>\n      <td>NaN</td>\n      <td>2016-12-31</td>\n      <td>2.310124e+09</td>\n      <td>25.082554</td>\n    </tr>\n    <tr>\n      <th>...</th>\n      <td>...</td>\n      <td>...</td>\n      <td>...</td>\n      <td>...</td>\n      <td>...</td>\n      <td>...</td>\n      <td>...</td>\n      <td>...</td>\n      <td>...</td>\n      <td>...</td>\n      <td>...</td>\n      <td>...</td>\n      <td>...</td>\n      <td>...</td>\n      <td>...</td>\n      <td>...</td>\n      <td>...</td>\n      <td>...</td>\n    </tr>\n    <tr>\n      <th>492</th>\n      <td>1089</td>\n      <td>17091</td>\n      <td>431101701</td>\n      <td>몽령산</td>\n      <td>NaN</td>\n      <td>NaN</td>\n      <td>0.86</td>\n      <td>쉬움</td>\n      <td>15</td>\n      <td>11</td>\n      <td>NaN</td>\n      <td>NaN</td>\n      <td>NaN</td>\n      <td>NaN</td>\n      <td>NaN</td>\n      <td>2016-12-31</td>\n      <td>2.310124e+09</td>\n      <td>25.617176</td>\n    </tr>\n    <tr>\n      <th>493</th>\n      <td>1087</td>\n      <td>17091</td>\n      <td>431101701</td>\n      <td>몽령산</td>\n      <td>NaN</td>\n      <td>NaN</td>\n      <td>0.86</td>\n      <td>쉬움</td>\n      <td>15</td>\n      <td>11</td>\n      <td>NaN</td>\n      <td>NaN</td>\n      <td>NaN</td>\n      <td>NaN</td>\n      <td>NaN</td>\n      <td>2016-12-31</td>\n      <td>2.310124e+09</td>\n      <td>21.407056</td>\n    </tr>\n    <tr>\n      <th>494</th>\n      <td>1088</td>\n      <td>17100</td>\n      <td>431101701</td>\n      <td>몽령산</td>\n      <td>NaN</td>\n      <td>NaN</td>\n      <td>0.11</td>\n      <td>쉬움</td>\n      <td>2</td>\n      <td>1</td>\n      <td>NaN</td>\n      <td>NaN</td>\n      <td>NaN</td>\n      <td>NaN</td>\n      <td>NaN</td>\n      <td>2016-12-31</td>\n      <td>2.310124e+09</td>\n      <td>8.204429</td>\n    </tr>\n    <tr>\n      <th>495</th>\n      <td>1091</td>\n      <td>22461</td>\n      <td>431102101</td>\n      <td>범백산</td>\n      <td>원리구간</td>\n      <td>NaN</td>\n      <td>3.24</td>\n      <td>쉬움</td>\n      <td>57</td>\n      <td>40</td>\n      <td>NaN</td>\n      <td>NaN</td>\n      <td>NaN</td>\n      <td>NaN</td>\n      <td>NaN</td>\n      <td>2016-12-31</td>\n      <td>4.311021e+08</td>\n      <td>878.327119</td>\n    </tr>\n    <tr>\n      <th>496</th>\n      <td>1072</td>\n      <td>40945</td>\n      <td>431103901</td>\n      <td>우암산</td>\n      <td>율량동구간</td>\n      <td>NaN</td>\n      <td>0.86</td>\n      <td>쉬움</td>\n      <td>15</td>\n      <td>11</td>\n      <td>NaN</td>\n      <td>NaN</td>\n      <td>NaN</td>\n      <td>NaN</td>\n      <td>NaN</td>\n      <td>2016-12-31</td>\n      <td>4.311039e+08</td>\n      <td>1.196585</td>\n    </tr>\n  </tbody>\n</table>\n<p>497 rows × 18 columns</p>\n</div>"
     },
     "execution_count": 11,
     "metadata": {},
     "output_type": "execute_result"
    }
   ],
   "source": [
    "raw_df = pd.read_csv('.././data/variables/등산로_join.csv', encoding='cp949')\n",
    "raw_df"
   ],
   "metadata": {
    "collapsed": false,
    "pycharm": {
     "name": "#%%\n"
    }
   }
  },
  {
   "cell_type": "code",
   "execution_count": 12,
   "outputs": [
    {
     "data": {
      "text/plain": "       번호     distance\n0    1495  3157.025581\n1    1277  1087.577778\n2    1278  3070.682447\n3    1279  2921.190492\n4    1090    25.082554\n..    ...          ...\n492  1089    25.617176\n493  1087    21.407056\n494  1088     8.204429\n495  1091   878.327119\n496  1072     1.196585\n\n[497 rows x 2 columns]",
      "text/html": "<div>\n<style scoped>\n    .dataframe tbody tr th:only-of-type {\n        vertical-align: middle;\n    }\n\n    .dataframe tbody tr th {\n        vertical-align: top;\n    }\n\n    .dataframe thead th {\n        text-align: right;\n    }\n</style>\n<table border=\"1\" class=\"dataframe\">\n  <thead>\n    <tr style=\"text-align: right;\">\n      <th></th>\n      <th>번호</th>\n      <th>distance</th>\n    </tr>\n  </thead>\n  <tbody>\n    <tr>\n      <th>0</th>\n      <td>1495</td>\n      <td>3157.025581</td>\n    </tr>\n    <tr>\n      <th>1</th>\n      <td>1277</td>\n      <td>1087.577778</td>\n    </tr>\n    <tr>\n      <th>2</th>\n      <td>1278</td>\n      <td>3070.682447</td>\n    </tr>\n    <tr>\n      <th>3</th>\n      <td>1279</td>\n      <td>2921.190492</td>\n    </tr>\n    <tr>\n      <th>4</th>\n      <td>1090</td>\n      <td>25.082554</td>\n    </tr>\n    <tr>\n      <th>...</th>\n      <td>...</td>\n      <td>...</td>\n    </tr>\n    <tr>\n      <th>492</th>\n      <td>1089</td>\n      <td>25.617176</td>\n    </tr>\n    <tr>\n      <th>493</th>\n      <td>1087</td>\n      <td>21.407056</td>\n    </tr>\n    <tr>\n      <th>494</th>\n      <td>1088</td>\n      <td>8.204429</td>\n    </tr>\n    <tr>\n      <th>495</th>\n      <td>1091</td>\n      <td>878.327119</td>\n    </tr>\n    <tr>\n      <th>496</th>\n      <td>1072</td>\n      <td>1.196585</td>\n    </tr>\n  </tbody>\n</table>\n<p>497 rows × 2 columns</p>\n</div>"
     },
     "execution_count": 12,
     "metadata": {},
     "output_type": "execute_result"
    }
   ],
   "source": [
    "df = raw_df[['번호', 'distance']]\n",
    "df"
   ],
   "metadata": {
    "collapsed": false,
    "pycharm": {
     "name": "#%%\n"
    }
   }
  },
  {
   "cell_type": "code",
   "execution_count": 13,
   "outputs": [
    {
     "name": "stderr",
     "output_type": "stream",
     "text": [
      "C:\\Users\\Administrator\\AppData\\Local\\Temp\\ipykernel_24392\\128785412.py:1: SettingWithCopyWarning: \n",
      "A value is trying to be set on a copy of a slice from a DataFrame.\n",
      "Try using .loc[row_indexer,col_indexer] = value instead\n",
      "\n",
      "See the caveats in the documentation: https://pandas.pydata.org/pandas-docs/stable/user_guide/indexing.html#returning-a-view-versus-a-copy\n",
      "  df['distance'] = df['distance'] / 1000\n",
      "C:\\Users\\Administrator\\AppData\\Local\\Temp\\ipykernel_24392\\128785412.py:2: SettingWithCopyWarning: \n",
      "A value is trying to be set on a copy of a slice from a DataFrame\n",
      "\n",
      "See the caveats in the documentation: https://pandas.pydata.org/pandas-docs/stable/user_guide/indexing.html#returning-a-view-versus-a-copy\n",
      "  df.rename(columns={'distance':'등산로까지 최단거리(km)'}, inplace=True)\n"
     ]
    },
    {
     "data": {
      "text/plain": "       번호  등산로까지 최단거리(km)\n0    1495        3.157026\n1    1277        1.087578\n2    1278        3.070682\n3    1279        2.921190\n4    1090        0.025083\n..    ...             ...\n492  1089        0.025617\n493  1087        0.021407\n494  1088        0.008204\n495  1091        0.878327\n496  1072        0.001197\n\n[497 rows x 2 columns]",
      "text/html": "<div>\n<style scoped>\n    .dataframe tbody tr th:only-of-type {\n        vertical-align: middle;\n    }\n\n    .dataframe tbody tr th {\n        vertical-align: top;\n    }\n\n    .dataframe thead th {\n        text-align: right;\n    }\n</style>\n<table border=\"1\" class=\"dataframe\">\n  <thead>\n    <tr style=\"text-align: right;\">\n      <th></th>\n      <th>번호</th>\n      <th>등산로까지 최단거리(km)</th>\n    </tr>\n  </thead>\n  <tbody>\n    <tr>\n      <th>0</th>\n      <td>1495</td>\n      <td>3.157026</td>\n    </tr>\n    <tr>\n      <th>1</th>\n      <td>1277</td>\n      <td>1.087578</td>\n    </tr>\n    <tr>\n      <th>2</th>\n      <td>1278</td>\n      <td>3.070682</td>\n    </tr>\n    <tr>\n      <th>3</th>\n      <td>1279</td>\n      <td>2.921190</td>\n    </tr>\n    <tr>\n      <th>4</th>\n      <td>1090</td>\n      <td>0.025083</td>\n    </tr>\n    <tr>\n      <th>...</th>\n      <td>...</td>\n      <td>...</td>\n    </tr>\n    <tr>\n      <th>492</th>\n      <td>1089</td>\n      <td>0.025617</td>\n    </tr>\n    <tr>\n      <th>493</th>\n      <td>1087</td>\n      <td>0.021407</td>\n    </tr>\n    <tr>\n      <th>494</th>\n      <td>1088</td>\n      <td>0.008204</td>\n    </tr>\n    <tr>\n      <th>495</th>\n      <td>1091</td>\n      <td>0.878327</td>\n    </tr>\n    <tr>\n      <th>496</th>\n      <td>1072</td>\n      <td>0.001197</td>\n    </tr>\n  </tbody>\n</table>\n<p>497 rows × 2 columns</p>\n</div>"
     },
     "execution_count": 13,
     "metadata": {},
     "output_type": "execute_result"
    }
   ],
   "source": [
    "df['distance'] = df['distance'] / 1000\n",
    "df.rename(columns={'distance':'등산로까지 최단거리(km)'}, inplace=True)\n",
    "df"
   ],
   "metadata": {
    "collapsed": false,
    "pycharm": {
     "name": "#%%\n"
    }
   }
  },
  {
   "cell_type": "code",
   "execution_count": 14,
   "outputs": [
    {
     "data": {
      "text/plain": "       번호\n0    1001\n1    1002\n2    1004\n3    1005\n4    1006\n..    ...\n531  1564\n532  1565\n533  1566\n534  1567\n535  1568\n\n[536 rows x 1 columns]",
      "text/html": "<div>\n<style scoped>\n    .dataframe tbody tr th:only-of-type {\n        vertical-align: middle;\n    }\n\n    .dataframe tbody tr th {\n        vertical-align: top;\n    }\n\n    .dataframe thead th {\n        text-align: right;\n    }\n</style>\n<table border=\"1\" class=\"dataframe\">\n  <thead>\n    <tr style=\"text-align: right;\">\n      <th></th>\n      <th>번호</th>\n    </tr>\n  </thead>\n  <tbody>\n    <tr>\n      <th>0</th>\n      <td>1001</td>\n    </tr>\n    <tr>\n      <th>1</th>\n      <td>1002</td>\n    </tr>\n    <tr>\n      <th>2</th>\n      <td>1004</td>\n    </tr>\n    <tr>\n      <th>3</th>\n      <td>1005</td>\n    </tr>\n    <tr>\n      <th>4</th>\n      <td>1006</td>\n    </tr>\n    <tr>\n      <th>...</th>\n      <td>...</td>\n    </tr>\n    <tr>\n      <th>531</th>\n      <td>1564</td>\n    </tr>\n    <tr>\n      <th>532</th>\n      <td>1565</td>\n    </tr>\n    <tr>\n      <th>533</th>\n      <td>1566</td>\n    </tr>\n    <tr>\n      <th>534</th>\n      <td>1567</td>\n    </tr>\n    <tr>\n      <th>535</th>\n      <td>1568</td>\n    </tr>\n  </tbody>\n</table>\n<p>536 rows × 1 columns</p>\n</div>"
     },
     "execution_count": 14,
     "metadata": {},
     "output_type": "execute_result"
    }
   ],
   "source": [
    "table = load_data_from_rds('변수관계설정', db_connection)\n",
    "table"
   ],
   "metadata": {
    "collapsed": false,
    "pycharm": {
     "name": "#%%\n"
    }
   }
  },
  {
   "cell_type": "code",
   "execution_count": 16,
   "outputs": [
    {
     "data": {
      "text/plain": "       번호  등산로까지 최단거리(km)\n0    1001        1.903039\n1    1002        0.120319\n2    1004        0.047211\n3    1005        0.233820\n4    1006        2.172428\n..    ...             ...\n492  1561        0.000416\n493  1562        2.835246\n494  1564        0.886170\n495  1567        9.125829\n496  1568        0.642351\n\n[497 rows x 2 columns]",
      "text/html": "<div>\n<style scoped>\n    .dataframe tbody tr th:only-of-type {\n        vertical-align: middle;\n    }\n\n    .dataframe tbody tr th {\n        vertical-align: top;\n    }\n\n    .dataframe thead th {\n        text-align: right;\n    }\n</style>\n<table border=\"1\" class=\"dataframe\">\n  <thead>\n    <tr style=\"text-align: right;\">\n      <th></th>\n      <th>번호</th>\n      <th>등산로까지 최단거리(km)</th>\n    </tr>\n  </thead>\n  <tbody>\n    <tr>\n      <th>0</th>\n      <td>1001</td>\n      <td>1.903039</td>\n    </tr>\n    <tr>\n      <th>1</th>\n      <td>1002</td>\n      <td>0.120319</td>\n    </tr>\n    <tr>\n      <th>2</th>\n      <td>1004</td>\n      <td>0.047211</td>\n    </tr>\n    <tr>\n      <th>3</th>\n      <td>1005</td>\n      <td>0.233820</td>\n    </tr>\n    <tr>\n      <th>4</th>\n      <td>1006</td>\n      <td>2.172428</td>\n    </tr>\n    <tr>\n      <th>...</th>\n      <td>...</td>\n      <td>...</td>\n    </tr>\n    <tr>\n      <th>492</th>\n      <td>1561</td>\n      <td>0.000416</td>\n    </tr>\n    <tr>\n      <th>493</th>\n      <td>1562</td>\n      <td>2.835246</td>\n    </tr>\n    <tr>\n      <th>494</th>\n      <td>1564</td>\n      <td>0.886170</td>\n    </tr>\n    <tr>\n      <th>495</th>\n      <td>1567</td>\n      <td>9.125829</td>\n    </tr>\n    <tr>\n      <th>496</th>\n      <td>1568</td>\n      <td>0.642351</td>\n    </tr>\n  </tbody>\n</table>\n<p>497 rows × 2 columns</p>\n</div>"
     },
     "execution_count": 16,
     "metadata": {},
     "output_type": "execute_result"
    }
   ],
   "source": [
    "table= table.merge(df, on='번호')\n",
    "table"
   ],
   "metadata": {
    "collapsed": false,
    "pycharm": {
     "name": "#%%\n"
    }
   }
  },
  {
   "cell_type": "code",
   "execution_count": 17,
   "outputs": [],
   "source": [
    "upload_data_to_rds(table, '변수관계설정', db_connection)"
   ],
   "metadata": {
    "collapsed": false,
    "pycharm": {
     "name": "#%%\n"
    }
   }
  }
 ],
 "metadata": {
  "kernelspec": {
   "display_name": "Python 3",
   "language": "python",
   "name": "python3"
  },
  "language_info": {
   "codemirror_mode": {
    "name": "ipython",
    "version": 2
   },
   "file_extension": ".py",
   "mimetype": "text/x-python",
   "name": "python",
   "nbconvert_exporter": "python",
   "pygments_lexer": "ipython2",
   "version": "2.7.6"
  }
 },
 "nbformat": 4,
 "nbformat_minor": 0
}