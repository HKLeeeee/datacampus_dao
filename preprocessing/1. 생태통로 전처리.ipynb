{
 "cells": [
  {
   "cell_type": "code",
   "execution_count": 3,
   "metadata": {
    "collapsed": true
   },
   "outputs": [],
   "source": [
    "import pandas as pd\n",
    "import numpy as np\n",
    "from DB import *\n",
    "\n",
    "db_connection = connect_db()"
   ]
  },
  {
   "cell_type": "code",
   "execution_count": 4,
   "metadata": {
    "collapsed": false,
    "pycharm": {
     "name": "#%%\n"
    }
   },
   "outputs": [
    {
     "data": {
      "text/plain": "       번호 생태통로명                        주소     도로명               도로번호   차선_수  \\\n0    1495  가계통로  경상남도 산청군 생비량면 가계리 산279-3    일반국도               20호선  왕복4차선   \n1    1277   가대리          충청북도 단양군 가곡면 가대리      국도               59호선  왕복2차선   \n2    1278   가산리          충청북도 단양군 단성면 가산리      국도               59호선  왕복2차선   \n3    1279  가산리2          충청북도 단양군 단성면 가산리      국도               59호선  왕복2차선   \n4    1090    각리           충청북도 청원군 오창읍 각리     지방도               540호  왕복6차선   \n..    ...   ...                       ...     ...                ...    ...   \n512  1089   NaN       충청북도 청주시 청원구 오창읍 각리  과학산업2로           구룡리 472도  왕복6차선   \n513  1087   NaN      충청북도 청주시 청원구 오창읍 구룡리   오창공원로           구룡리 442도  왕복4차선   \n514  1088   NaN      충청북도 청주시 청원구 오창읍 양청리   오창공원로  양청리 882도(호수공원 주변)  왕복4차선   \n515  1091   NaN      충청북도 청주시 청원구 오창읍 여천리      리도              213호선  왕복2차선   \n516  1072   NaN          충청북도 청주시 청원구 율량동    1순환로           산 128-1도  왕복6차선   \n\n     위도_도  위도_분       위도_초  경도_도  ...           생태통로좌표(경도)  \\\n0      35  21.0  36.680000   128  ...     경도 128도 3분 49.5초   \n1      37   2.0   2.700000   128  ...    경도 128도 24분 23.8초   \n2      36  53.0  53.957576   128  ...  경도 128도 18분 20.275초   \n3      36  53.0  48.718150   128  ...  경도 128도 18분 20.917초   \n4      36  42.0  48.100000   127  ...    경도 127도 25분 19.2초   \n..    ...   ...        ...   ...  ...                  ...   \n512    36  42.0  46.000000   127  ...    경도 127도 25분 14.0초   \n513    36  43.0   2.000000   127  ...     경도 127도 25분 4.0초   \n514    36  42.0  44.000000   127  ...    경도 127도 25분 31.0초   \n515    36  46.0   3.000000   127  ...    경도 127도 28분 24.0초   \n516    36  39.0  10.550000   127  ...    경도 127도 30분 46.0초   \n\n                        모니터링기간       수행기관       수행자  모니터링방법  등산객이용빈도  \\\n0    2017.07.17. ~ 2017.07.28.  진주국토관리사무소       박상훈     NaN    극히 적음   \n1    2016.01.01. ~ 2016.09.20.    도로관리사업소       박찬일     NaN      NaN   \n2    2016.01.01. ~ 2016.09.20.    도로관리사업소       박찬일     NaN      NaN   \n3    2016.01.01. ~ 2016.09.20.    도로관리사업소       박찬일     NaN      NaN   \n4    2016.09.01. ~ 2016.09.30.  충북도로관리사업소       문민규     NaN    매일 다수   \n..                         ...        ...       ...     ...      ...   \n512  2016.09.26. ~ 2016.09.30.       청원구청  박태동 외 1인     NaN      NaN   \n513  2016.09.26. ~ 2016.09.30.        청원구  박태동 외 1인     NaN    매일 다수   \n514  2016.09.26. ~ 2016.09.30.       청원구청  박태동 외 1인     NaN    매일 다수   \n515  2016.09.26. ~ 2016.09.30.       청원구청  박태동 외 1인     NaN      NaN   \n516  2016.09.26. ~ 2016.09.30.        청주시  박태동 외 1인     NaN    매일 다수   \n\n                                  모니터링신뢰도            생태통로효율성  \\\n0          추가 조사가 있어야 본 생태통로의 효율성 판단이 가능함              판단 불가   \n1          추가 조사가 있어야 본 생태통로의 효율성 판단이 가능함              판단 불가   \n2          추가 조사가 있어야 본 생태통로의 효율성 판단이 가능함              판단 불가   \n3          추가 조사가 있어야 본 생태통로의 효율성 판단이 가능함              판단 불가   \n4          추가 조사가 있어야 본 생태통로의 효율성 판단이 가능함  보통(주 35회 야생동물 이용)   \n..                                    ...                ...   \n512  금번 조사는 본 생태통로의 효율성에 대한 판단이 가능한 수준이었음              판단 불가   \n513  금번 조사는 본 생태통로의 효율성에 대한 판단이 가능한 수준이었음              판단 불가   \n514  금번 조사는 본 생태통로의 효율성에 대한 판단이 가능한 수준이었음              판단 불가   \n515  금번 조사는 본 생태통로의 효율성에 대한 판단이 가능한 수준이었음              판단 불가   \n516  금번 조사는 본 생태통로의 효율성에 대한 판단이 가능한 수준이었음              판단 불가   \n\n                               이용확인종,이용빈도높은종,멸종위기종이용빈도  개선필요사항  \n0                                                  NaN     NaN  \n1                                                  NaN     NaN  \n2    종명:  고라니 이용확인종: 1 이용빈도 순위: 멸종위기종 이용빈도 :\\n종명:  ...     NaN  \n3    종명:  고라니 이용확인종: 1 이용빈도 순위: 멸종위기종 이용빈도 :\\n종명:  ...     NaN  \n4    종명:  개 이용확인종: 1 이용빈도 순위: 멸종위기종 이용빈도 :\\n종명:  고양...  #NAME?  \n..                                                 ...     ...  \n512  종명:  고라니 이용확인종: 1 이용빈도 순위: 멸종위기종 이용빈도 :\\n종명:  ...  #NAME?  \n513  종명:  고라니 이용확인종: 1 이용빈도 순위: 멸종위기종 이용빈도 :\\n종명:  ...  #NAME?  \n514  종명:  고라니 이용확인종: 1 이용빈도 순위: 멸종위기종 이용빈도 :\\n종명:  ...  #NAME?  \n515  종명:  멧돼지 이용확인종: 1 이용빈도 순위: 멸종위기종 이용빈도 :\\n종명:  ...  #NAME?  \n516  종명:  고라니 이용확인종: 1 이용빈도 순위: 멸종위기종 이용빈도 :\\n종명:  ...  #NAME?  \n\n[517 rows x 33 columns]",
      "text/html": "<div>\n<style scoped>\n    .dataframe tbody tr th:only-of-type {\n        vertical-align: middle;\n    }\n\n    .dataframe tbody tr th {\n        vertical-align: top;\n    }\n\n    .dataframe thead th {\n        text-align: right;\n    }\n</style>\n<table border=\"1\" class=\"dataframe\">\n  <thead>\n    <tr style=\"text-align: right;\">\n      <th></th>\n      <th>번호</th>\n      <th>생태통로명</th>\n      <th>주소</th>\n      <th>도로명</th>\n      <th>도로번호</th>\n      <th>차선_수</th>\n      <th>위도_도</th>\n      <th>위도_분</th>\n      <th>위도_초</th>\n      <th>경도_도</th>\n      <th>...</th>\n      <th>생태통로좌표(경도)</th>\n      <th>모니터링기간</th>\n      <th>수행기관</th>\n      <th>수행자</th>\n      <th>모니터링방법</th>\n      <th>등산객이용빈도</th>\n      <th>모니터링신뢰도</th>\n      <th>생태통로효율성</th>\n      <th>이용확인종,이용빈도높은종,멸종위기종이용빈도</th>\n      <th>개선필요사항</th>\n    </tr>\n  </thead>\n  <tbody>\n    <tr>\n      <th>0</th>\n      <td>1495</td>\n      <td>가계통로</td>\n      <td>경상남도 산청군 생비량면 가계리 산279-3</td>\n      <td>일반국도</td>\n      <td>20호선</td>\n      <td>왕복4차선</td>\n      <td>35</td>\n      <td>21.0</td>\n      <td>36.680000</td>\n      <td>128</td>\n      <td>...</td>\n      <td>경도 128도 3분 49.5초</td>\n      <td>2017.07.17. ~ 2017.07.28.</td>\n      <td>진주국토관리사무소</td>\n      <td>박상훈</td>\n      <td>NaN</td>\n      <td>극히 적음</td>\n      <td>추가 조사가 있어야 본 생태통로의 효율성 판단이 가능함</td>\n      <td>판단 불가</td>\n      <td>NaN</td>\n      <td>NaN</td>\n    </tr>\n    <tr>\n      <th>1</th>\n      <td>1277</td>\n      <td>가대리</td>\n      <td>충청북도 단양군 가곡면 가대리</td>\n      <td>국도</td>\n      <td>59호선</td>\n      <td>왕복2차선</td>\n      <td>37</td>\n      <td>2.0</td>\n      <td>2.700000</td>\n      <td>128</td>\n      <td>...</td>\n      <td>경도 128도 24분 23.8초</td>\n      <td>2016.01.01. ~ 2016.09.20.</td>\n      <td>도로관리사업소</td>\n      <td>박찬일</td>\n      <td>NaN</td>\n      <td>NaN</td>\n      <td>추가 조사가 있어야 본 생태통로의 효율성 판단이 가능함</td>\n      <td>판단 불가</td>\n      <td>NaN</td>\n      <td>NaN</td>\n    </tr>\n    <tr>\n      <th>2</th>\n      <td>1278</td>\n      <td>가산리</td>\n      <td>충청북도 단양군 단성면 가산리</td>\n      <td>국도</td>\n      <td>59호선</td>\n      <td>왕복2차선</td>\n      <td>36</td>\n      <td>53.0</td>\n      <td>53.957576</td>\n      <td>128</td>\n      <td>...</td>\n      <td>경도 128도 18분 20.275초</td>\n      <td>2016.01.01. ~ 2016.09.20.</td>\n      <td>도로관리사업소</td>\n      <td>박찬일</td>\n      <td>NaN</td>\n      <td>NaN</td>\n      <td>추가 조사가 있어야 본 생태통로의 효율성 판단이 가능함</td>\n      <td>판단 불가</td>\n      <td>종명:  고라니 이용확인종: 1 이용빈도 순위: 멸종위기종 이용빈도 :\\n종명:  ...</td>\n      <td>NaN</td>\n    </tr>\n    <tr>\n      <th>3</th>\n      <td>1279</td>\n      <td>가산리2</td>\n      <td>충청북도 단양군 단성면 가산리</td>\n      <td>국도</td>\n      <td>59호선</td>\n      <td>왕복2차선</td>\n      <td>36</td>\n      <td>53.0</td>\n      <td>48.718150</td>\n      <td>128</td>\n      <td>...</td>\n      <td>경도 128도 18분 20.917초</td>\n      <td>2016.01.01. ~ 2016.09.20.</td>\n      <td>도로관리사업소</td>\n      <td>박찬일</td>\n      <td>NaN</td>\n      <td>NaN</td>\n      <td>추가 조사가 있어야 본 생태통로의 효율성 판단이 가능함</td>\n      <td>판단 불가</td>\n      <td>종명:  고라니 이용확인종: 1 이용빈도 순위: 멸종위기종 이용빈도 :\\n종명:  ...</td>\n      <td>NaN</td>\n    </tr>\n    <tr>\n      <th>4</th>\n      <td>1090</td>\n      <td>각리</td>\n      <td>충청북도 청원군 오창읍 각리</td>\n      <td>지방도</td>\n      <td>540호</td>\n      <td>왕복6차선</td>\n      <td>36</td>\n      <td>42.0</td>\n      <td>48.100000</td>\n      <td>127</td>\n      <td>...</td>\n      <td>경도 127도 25분 19.2초</td>\n      <td>2016.09.01. ~ 2016.09.30.</td>\n      <td>충북도로관리사업소</td>\n      <td>문민규</td>\n      <td>NaN</td>\n      <td>매일 다수</td>\n      <td>추가 조사가 있어야 본 생태통로의 효율성 판단이 가능함</td>\n      <td>보통(주 35회 야생동물 이용)</td>\n      <td>종명:  개 이용확인종: 1 이용빈도 순위: 멸종위기종 이용빈도 :\\n종명:  고양...</td>\n      <td>#NAME?</td>\n    </tr>\n    <tr>\n      <th>...</th>\n      <td>...</td>\n      <td>...</td>\n      <td>...</td>\n      <td>...</td>\n      <td>...</td>\n      <td>...</td>\n      <td>...</td>\n      <td>...</td>\n      <td>...</td>\n      <td>...</td>\n      <td>...</td>\n      <td>...</td>\n      <td>...</td>\n      <td>...</td>\n      <td>...</td>\n      <td>...</td>\n      <td>...</td>\n      <td>...</td>\n      <td>...</td>\n      <td>...</td>\n      <td>...</td>\n    </tr>\n    <tr>\n      <th>512</th>\n      <td>1089</td>\n      <td>NaN</td>\n      <td>충청북도 청주시 청원구 오창읍 각리</td>\n      <td>과학산업2로</td>\n      <td>구룡리 472도</td>\n      <td>왕복6차선</td>\n      <td>36</td>\n      <td>42.0</td>\n      <td>46.000000</td>\n      <td>127</td>\n      <td>...</td>\n      <td>경도 127도 25분 14.0초</td>\n      <td>2016.09.26. ~ 2016.09.30.</td>\n      <td>청원구청</td>\n      <td>박태동 외 1인</td>\n      <td>NaN</td>\n      <td>NaN</td>\n      <td>금번 조사는 본 생태통로의 효율성에 대한 판단이 가능한 수준이었음</td>\n      <td>판단 불가</td>\n      <td>종명:  고라니 이용확인종: 1 이용빈도 순위: 멸종위기종 이용빈도 :\\n종명:  ...</td>\n      <td>#NAME?</td>\n    </tr>\n    <tr>\n      <th>513</th>\n      <td>1087</td>\n      <td>NaN</td>\n      <td>충청북도 청주시 청원구 오창읍 구룡리</td>\n      <td>오창공원로</td>\n      <td>구룡리 442도</td>\n      <td>왕복4차선</td>\n      <td>36</td>\n      <td>43.0</td>\n      <td>2.000000</td>\n      <td>127</td>\n      <td>...</td>\n      <td>경도 127도 25분 4.0초</td>\n      <td>2016.09.26. ~ 2016.09.30.</td>\n      <td>청원구</td>\n      <td>박태동 외 1인</td>\n      <td>NaN</td>\n      <td>매일 다수</td>\n      <td>금번 조사는 본 생태통로의 효율성에 대한 판단이 가능한 수준이었음</td>\n      <td>판단 불가</td>\n      <td>종명:  고라니 이용확인종: 1 이용빈도 순위: 멸종위기종 이용빈도 :\\n종명:  ...</td>\n      <td>#NAME?</td>\n    </tr>\n    <tr>\n      <th>514</th>\n      <td>1088</td>\n      <td>NaN</td>\n      <td>충청북도 청주시 청원구 오창읍 양청리</td>\n      <td>오창공원로</td>\n      <td>양청리 882도(호수공원 주변)</td>\n      <td>왕복4차선</td>\n      <td>36</td>\n      <td>42.0</td>\n      <td>44.000000</td>\n      <td>127</td>\n      <td>...</td>\n      <td>경도 127도 25분 31.0초</td>\n      <td>2016.09.26. ~ 2016.09.30.</td>\n      <td>청원구청</td>\n      <td>박태동 외 1인</td>\n      <td>NaN</td>\n      <td>매일 다수</td>\n      <td>금번 조사는 본 생태통로의 효율성에 대한 판단이 가능한 수준이었음</td>\n      <td>판단 불가</td>\n      <td>종명:  고라니 이용확인종: 1 이용빈도 순위: 멸종위기종 이용빈도 :\\n종명:  ...</td>\n      <td>#NAME?</td>\n    </tr>\n    <tr>\n      <th>515</th>\n      <td>1091</td>\n      <td>NaN</td>\n      <td>충청북도 청주시 청원구 오창읍 여천리</td>\n      <td>리도</td>\n      <td>213호선</td>\n      <td>왕복2차선</td>\n      <td>36</td>\n      <td>46.0</td>\n      <td>3.000000</td>\n      <td>127</td>\n      <td>...</td>\n      <td>경도 127도 28분 24.0초</td>\n      <td>2016.09.26. ~ 2016.09.30.</td>\n      <td>청원구청</td>\n      <td>박태동 외 1인</td>\n      <td>NaN</td>\n      <td>NaN</td>\n      <td>금번 조사는 본 생태통로의 효율성에 대한 판단이 가능한 수준이었음</td>\n      <td>판단 불가</td>\n      <td>종명:  멧돼지 이용확인종: 1 이용빈도 순위: 멸종위기종 이용빈도 :\\n종명:  ...</td>\n      <td>#NAME?</td>\n    </tr>\n    <tr>\n      <th>516</th>\n      <td>1072</td>\n      <td>NaN</td>\n      <td>충청북도 청주시 청원구 율량동</td>\n      <td>1순환로</td>\n      <td>산 128-1도</td>\n      <td>왕복6차선</td>\n      <td>36</td>\n      <td>39.0</td>\n      <td>10.550000</td>\n      <td>127</td>\n      <td>...</td>\n      <td>경도 127도 30분 46.0초</td>\n      <td>2016.09.26. ~ 2016.09.30.</td>\n      <td>청주시</td>\n      <td>박태동 외 1인</td>\n      <td>NaN</td>\n      <td>매일 다수</td>\n      <td>금번 조사는 본 생태통로의 효율성에 대한 판단이 가능한 수준이었음</td>\n      <td>판단 불가</td>\n      <td>종명:  고라니 이용확인종: 1 이용빈도 순위: 멸종위기종 이용빈도 :\\n종명:  ...</td>\n      <td>#NAME?</td>\n    </tr>\n  </tbody>\n</table>\n<p>517 rows × 33 columns</p>\n</div>"
     },
     "execution_count": 4,
     "metadata": {},
     "output_type": "execute_result"
    }
   ],
   "source": [
    "df_main = pd.read_csv('../data/main/maindata_수정.csv')\n",
    "df_main"
   ]
  },
  {
   "cell_type": "code",
   "execution_count": 5,
   "metadata": {
    "collapsed": false,
    "pycharm": {
     "name": "#%%\n"
    }
   },
   "outputs": [
    {
     "data": {
      "text/plain": "       번호 생태통로명   차선_수 생태통로타입 등산객이용빈도            생태통로효율성  \\\n0    1495  가계통로  왕복4차선    육교형   극히 적음              판단 불가   \n1    1277   가대리  왕복2차선    터널형     NaN              판단 불가   \n2    1278   가산리  왕복2차선    터널형     NaN              판단 불가   \n3    1279  가산리2  왕복2차선    터널형     NaN              판단 불가   \n4    1090    각리  왕복6차선    육교형   매일 다수  보통(주 35회 야생동물 이용)   \n..    ...   ...    ...    ...     ...                ...   \n512  1089   NaN  왕복6차선    육교형     NaN              판단 불가   \n513  1087   NaN  왕복4차선    육교형   매일 다수              판단 불가   \n514  1088   NaN  왕복4차선    육교형   매일 다수              판단 불가   \n515  1091   NaN  왕복2차선    육교형     NaN              판단 불가   \n516  1072   NaN  왕복6차선    육교형   매일 다수              판단 불가   \n\n                               이용확인종,이용빈도높은종,멸종위기종이용빈도  \n0                                                  NaN  \n1                                                  NaN  \n2    종명:  고라니 이용확인종: 1 이용빈도 순위: 멸종위기종 이용빈도 :\\n종명:  ...  \n3    종명:  고라니 이용확인종: 1 이용빈도 순위: 멸종위기종 이용빈도 :\\n종명:  ...  \n4    종명:  개 이용확인종: 1 이용빈도 순위: 멸종위기종 이용빈도 :\\n종명:  고양...  \n..                                                 ...  \n512  종명:  고라니 이용확인종: 1 이용빈도 순위: 멸종위기종 이용빈도 :\\n종명:  ...  \n513  종명:  고라니 이용확인종: 1 이용빈도 순위: 멸종위기종 이용빈도 :\\n종명:  ...  \n514  종명:  고라니 이용확인종: 1 이용빈도 순위: 멸종위기종 이용빈도 :\\n종명:  ...  \n515  종명:  멧돼지 이용확인종: 1 이용빈도 순위: 멸종위기종 이용빈도 :\\n종명:  ...  \n516  종명:  고라니 이용확인종: 1 이용빈도 순위: 멸종위기종 이용빈도 :\\n종명:  ...  \n\n[517 rows x 7 columns]",
      "text/html": "<div>\n<style scoped>\n    .dataframe tbody tr th:only-of-type {\n        vertical-align: middle;\n    }\n\n    .dataframe tbody tr th {\n        vertical-align: top;\n    }\n\n    .dataframe thead th {\n        text-align: right;\n    }\n</style>\n<table border=\"1\" class=\"dataframe\">\n  <thead>\n    <tr style=\"text-align: right;\">\n      <th></th>\n      <th>번호</th>\n      <th>생태통로명</th>\n      <th>차선_수</th>\n      <th>생태통로타입</th>\n      <th>등산객이용빈도</th>\n      <th>생태통로효율성</th>\n      <th>이용확인종,이용빈도높은종,멸종위기종이용빈도</th>\n    </tr>\n  </thead>\n  <tbody>\n    <tr>\n      <th>0</th>\n      <td>1495</td>\n      <td>가계통로</td>\n      <td>왕복4차선</td>\n      <td>육교형</td>\n      <td>극히 적음</td>\n      <td>판단 불가</td>\n      <td>NaN</td>\n    </tr>\n    <tr>\n      <th>1</th>\n      <td>1277</td>\n      <td>가대리</td>\n      <td>왕복2차선</td>\n      <td>터널형</td>\n      <td>NaN</td>\n      <td>판단 불가</td>\n      <td>NaN</td>\n    </tr>\n    <tr>\n      <th>2</th>\n      <td>1278</td>\n      <td>가산리</td>\n      <td>왕복2차선</td>\n      <td>터널형</td>\n      <td>NaN</td>\n      <td>판단 불가</td>\n      <td>종명:  고라니 이용확인종: 1 이용빈도 순위: 멸종위기종 이용빈도 :\\n종명:  ...</td>\n    </tr>\n    <tr>\n      <th>3</th>\n      <td>1279</td>\n      <td>가산리2</td>\n      <td>왕복2차선</td>\n      <td>터널형</td>\n      <td>NaN</td>\n      <td>판단 불가</td>\n      <td>종명:  고라니 이용확인종: 1 이용빈도 순위: 멸종위기종 이용빈도 :\\n종명:  ...</td>\n    </tr>\n    <tr>\n      <th>4</th>\n      <td>1090</td>\n      <td>각리</td>\n      <td>왕복6차선</td>\n      <td>육교형</td>\n      <td>매일 다수</td>\n      <td>보통(주 35회 야생동물 이용)</td>\n      <td>종명:  개 이용확인종: 1 이용빈도 순위: 멸종위기종 이용빈도 :\\n종명:  고양...</td>\n    </tr>\n    <tr>\n      <th>...</th>\n      <td>...</td>\n      <td>...</td>\n      <td>...</td>\n      <td>...</td>\n      <td>...</td>\n      <td>...</td>\n      <td>...</td>\n    </tr>\n    <tr>\n      <th>512</th>\n      <td>1089</td>\n      <td>NaN</td>\n      <td>왕복6차선</td>\n      <td>육교형</td>\n      <td>NaN</td>\n      <td>판단 불가</td>\n      <td>종명:  고라니 이용확인종: 1 이용빈도 순위: 멸종위기종 이용빈도 :\\n종명:  ...</td>\n    </tr>\n    <tr>\n      <th>513</th>\n      <td>1087</td>\n      <td>NaN</td>\n      <td>왕복4차선</td>\n      <td>육교형</td>\n      <td>매일 다수</td>\n      <td>판단 불가</td>\n      <td>종명:  고라니 이용확인종: 1 이용빈도 순위: 멸종위기종 이용빈도 :\\n종명:  ...</td>\n    </tr>\n    <tr>\n      <th>514</th>\n      <td>1088</td>\n      <td>NaN</td>\n      <td>왕복4차선</td>\n      <td>육교형</td>\n      <td>매일 다수</td>\n      <td>판단 불가</td>\n      <td>종명:  고라니 이용확인종: 1 이용빈도 순위: 멸종위기종 이용빈도 :\\n종명:  ...</td>\n    </tr>\n    <tr>\n      <th>515</th>\n      <td>1091</td>\n      <td>NaN</td>\n      <td>왕복2차선</td>\n      <td>육교형</td>\n      <td>NaN</td>\n      <td>판단 불가</td>\n      <td>종명:  멧돼지 이용확인종: 1 이용빈도 순위: 멸종위기종 이용빈도 :\\n종명:  ...</td>\n    </tr>\n    <tr>\n      <th>516</th>\n      <td>1072</td>\n      <td>NaN</td>\n      <td>왕복6차선</td>\n      <td>육교형</td>\n      <td>매일 다수</td>\n      <td>판단 불가</td>\n      <td>종명:  고라니 이용확인종: 1 이용빈도 순위: 멸종위기종 이용빈도 :\\n종명:  ...</td>\n    </tr>\n  </tbody>\n</table>\n<p>517 rows × 7 columns</p>\n</div>"
     },
     "execution_count": 5,
     "metadata": {},
     "output_type": "execute_result"
    }
   ],
   "source": [
    "df_main = df_main[['번호', '생태통로명', '차선_수', '생태통로타입', '등산객이용빈도', '생태통로효율성', '이용확인종,이용빈도높은종,멸종위기종이용빈도']]\n",
    "df_main"
   ]
  },
  {
   "cell_type": "markdown",
   "metadata": {
    "collapsed": false
   },
   "source": [
    "# 이용확인종 문자열 처리"
   ]
  },
  {
   "cell_type": "code",
   "execution_count": 6,
   "metadata": {
    "collapsed": false,
    "pycharm": {
     "name": "#%%\n"
    }
   },
   "outputs": [
    {
     "name": "stdout",
     "output_type": "stream",
     "text": [
      "[None, None, ['고라니', '멧돼지', '파충류'], ['고라니', '멧돼지', '파충류'], ['개', '고양이', '다람쥐'], ['고라니', '너구리', '멧돼지', '다람쥐'], None, ['고라니', '너구리', '멧돼지'], None, None, None, None, None, None, None, None, None, None, ['다람쥐', '고라니'], ['고라니', '청설모'], None, ['개구리', '고라니', '너구리'], None, None, ['다람쥐', '고라니', '멧돼지'], None, None, None, ['고라니'], None, None, None, None, None, None, ['산양', '삵', '담비', '노루', '멧돼지', '너구리', '다람쥐', '고라니', '청설모', '고양이', '오소리', '흰배지빠귀', '조류', '들꿩', '멧비둘기'], ['고라니', '너구리'], None, None, ['삵', '너구리', '고라니'], None, None, None, ['멧돼지', '고라니'], None, None, None, None, None, ['고라니'], ['고라니', '멧돼지'], None, ['개', '고양이'], None, None, None, None, None, ['개', '조류'], None, ['너구리', '다람쥐', '고라니'], ['고라니', '멧돼지'], None, ['고라니', '너구리', '멧돼지'], None, ['고라니', '너구리', '삵', '멧돼지'], ['고라니', '두꺼비', '너구리', '개구리'], ['고라니', '너구리', '멧돼지'], ['고라니', '멧돼지'], ['고라니', '너구리', '고양이'], ['고양이'], None, None, None, None, ['고라니', '너구리', '멧돼지'], ['고라니', '너구리', '멧돼지'], ['고라니', '멧토끼'], ['너구리', '고라니', '멧돼지'], None, None, None, ['고라니', '오소리'], None, ['고라니'], None, None, ['개구리'], ['개구리', '고라니', '담비'], ['다람쥐', '무당개구리', '고라니'], None, ['멧돼지', '고라니'], None, ['고라니', '너구리'], None, None, ['고라니'], None, ['고양이', '고라니'], None, None, None, None, ['고라니', '너구리'], ['고라니', '너구리', '멧토끼'], ['삵', '너구리', '고라니', '멧돼지', '멧토끼'], None, None, ['고라니', '멧돼지'], None, None, ['멧토끼', '너구리'], ['고라니'], None, None, ['고라니'], ['고라니', '멧돼지', '두꺼비'], ['고라니', '다람쥐', '무당개구리'], None, None, ['개', '고양이'], None, None, ['고양이', '개'], ['수달', '삵'], None, None, ['고라니', '너구리', '삵'], None, None, None, None, None, None, ['고라니', '너구리', '멧토끼'], ['고라니', '너구리'], None, None, None, ['고라니', '너구리', '노루', '담비', '멧돼지', '오소리'], ['멧토끼'], None, ['고라니', '두꺼비', '청설모'], None, None, ['고라니', '고양이', '개구리'], ['고라니', '너구리', '멧돼지'], ['고라니', '멧돼지', '고양이'], ['고라니', '너구리', '멧돼지'], ['고라니', '담비', '다람쥐', '고양이', '오소리', '산까치', '멧비둘기'], ['삵'], None, None, None, ['멧돼지', '고라니'], ['고라니', '다람쥐', '두꺼비'], ['다람쥐', '멧돼지', '고라니'], None, None, None, None, None, None, ['고라니', '너구리', '멧돼지'], None, None, None, None, None, None, ['다람쥐', '너구리'], ['다람쥐', '고라니'], ['다람쥐', '고라니'], None, None, None, ['고라니', '산개구리', '청설모'], None, None, None, ['고양이', '너구리'], None, None, None, None, None, ['고라니', '멧돼지'], None, None, None, None, ['고라니', '너구리', '산개구리'], None, None, None, ['고라니', '고양이'], ['고라니'], None, None, None, None, None, None, None, ['고라니'], None, ['고라니', '고양이'], ['다람쥐', '두꺼비', '멧돼지'], ['오소리', '다람쥐', '노루'], None, None, ['개구리'], None, None, None, ['고라니', '너구리'], None, ['고라니'], ['고라니', '멧돼지'], None, ['고라니', '너구리', '뱀', '청설모'], ['고라니', '다람쥐', '뱀', '청설모'], ['고라니', '다람쥐', '뱀', '청설모'], None, None, None, None, ['고라니', '노루'], ['고라니'], None, None, ['고라니', '너구리'], ['고양이', '고라니'], ['고양이', '고라니', '너구리', '족제비', '개'], None, ['수달'], None, ['고라니', '멧돼지'], ['너구리', '삵'], None, None, ['고라니'], None, None, ['고라니', '너구리', '멧돼지'], None, None, ['멧돼지', '고라니', '너구리', '멧토끼'], ['너구리', '고라니'], ['너구리'], None, None, ['고라니', '너구리'], None, None, None, None, ['족제비', '너구리'], None, ['고라니', '멧돼지'], ['고라니', '멧돼지'], None, ['개', '청설모', '고양이'], None, None, None, ['고라니', '너구리'], None, ['고라니', '멧토끼'], ['족제비', '고양이', '개'], None, None, None, ['고라니', '족제비'], ['들개', '청설모', '고양이'], None, None, ['고라니', '다람쥐', '오소리', '삵', '너구리', '멧토끼', '족제비'], None, ['고라니'], None, None, ['고라니'], ['다람쥐', '고라니', '멧돼지'], ['너구리', '삵', '고라니'], ['고라니', '너구리', '오소리'], None, None, None, None, None, ['고라니', '너구리'], ['고라니', '너구리'], None, None, ['고라니'], ['고라니', '멧돼지'], None, None, ['고양이', '고라니'], ['고라니', '멧돼지'], None, None, ['고라니', '다람쥐', '노루', '멧돼지', '삵', '오소리', '족제비', '담비', '조류', '멧비둘기', '조류'], ['고라니', '노루', '다람쥐', '담비', '멧돼지', '삵', '오소리', '족제비', '청설모', '조류', '멧비둘기', '조류', '조류'], None, None, None, None, None, None, None, None, ['너구리', '고라니', '멧돼지'], ['고라니', '너구리', '멧돼지'], ['고라니', '너구리', '족제비'], ['고라니', '너구리', '삵'], ['오소리', '너구리'], ['오소리', '족제비'], ['고라니', '고양이'], ['고라니', '너구리', '삵', '고양이', '개', '조류'], ['고양이', '오소리', '족제비'], None, None, None, ['오소리', '족제비', '삵', '고양이', '개', '흰배지빠귀', '다람쥐', '너구리', '딱새'], None, None, ['고라니'], None, None, None, ['고라니', '개'], None, ['너구리', '삵', '족제비', '청설모', '개', '고양이'], None, ['고라니', '멧돼지'], None, None, None, None, ['고라니', '너구리', '삵'], ['너구리', '삵', '족제비'], ['삵', '너구리', '오소리'], ['너구리'], None, None, ['오소리'], ['삵', '너구리', '오소리'], None, ['고라니'], ['고라니'], None, None, None, None, None, None, ['고양이', '조류'], ['고라니', '멧토끼', '너구리'], None, ['고라니', '오소리'], ['너구리', '고라니', '고양이'], ['고라니'], ['고양이'], None, ['고라니'], None, None, None, None, None, None, None, None, ['산양', '담비', '멧돼지', '고라니', '너구리'], None, ['노루', '족제비', '꿩', '멧비둘기', '들개', '고양이', '오소리', '다람쥐'], ['고라니'], None, None, None, ['고라니'], None, None, None, None, None, None, None, None, None, None, None, ['고라니'], None, None, None, None, None, None, None, None, None, None, ['고라니', '멧돼지'], None, None, ['고라니', '멧돼지'], None, None, ['고라니', '너구리'], ['고라니', '고양이'], None, None, ['멧돼지', '고라니', '오소리'], None, None, None, None, None, None, None, None, ['고라니', '멧돼지'], ['고라니', '멧돼지'], ['고라니', '삵'], ['고라니', '삵'], None, None, ['고라니'], None, None, ['고라니', '너구리'], ['고라니'], None, None, None, ['고라니', '너구리', '멧돼지'], ['고라니'], ['고라니'], ['너구리'], ['고라니'], ['고라니', '너구리', '멧토끼'], ['고라니'], ['노루', '고라니'], ['족제비', '멧토끼', '등줄쥐'], ['고라니', '너구리'], ['고라니', '너구리'], None, None, None, None, None, None, ['고라니', '너구리', '삵', '멧돼지'], None, ['삵'], None, None, None, None, ['고라니', '너구리', '멧돼지'], None, None, None, None, None, None, None, None, None, None, ['고라니', '너구리', '삵', '멧돼지'], ['고라니', '너구리', '삵', '멧돼지'], ['고라니', '너구리', '삵', '멧돼지'], ['고라니', '너구리', '삵', '멧돼지'], ['고라니', '너구리', '삵', '멧돼지'], ['고라니', '너구리', '삵', '멧돼지'], ['고라니', '너구리', '삵', '멧돼지'], ['고라니', '너구리', '삵', '멧돼지'], ['고라니', '너구리', '삵', '멧돼지'], ['고라니', '너구리', '삵', '멧돼지'], ['고라니', '너구리', '삵', '멧돼지'], ['고라니'], ['고라니'], ['고라니', '너구리', '멧돼지'], ['고라니', '너구리'], ['고라니', '너구리'], ['고라니'], None, None, None, None, None, None, ['고라니', '너구리'], None, None, None, None, ['고라니', '너구리', '멧돼지'], ['고라니', '너구리', '멧돼지'], ['고라니', '멧돼지'], ['고라니', '멧돼지'], ['고라니'], ['고라니', '멧돼지'], ['고라니', '멧돼지'], None, None, None, None, ['고라니', '멧돼지'], ['고라니', '멧돼지'], ['고라니', '멧돼지'], ['멧돼지', '고라니'], ['고라니', '멧돼지']]\n"
     ]
    }
   ],
   "source": [
    "monitored = df_main['이용확인종,이용빈도높은종,멸종위기종이용빈도'].to_list()\n",
    "monitored = [x.split('\\n') if type(x)==str else None for x in monitored]\n",
    "\n",
    "for i, m in enumerate(monitored):\n",
    "    if m is None :\n",
    "        continue\n",
    "    else:\n",
    "        monitored[i] = [x.split('이용확인종')[0].split()[-1] for x in m]\n",
    "\n",
    "print(monitored)"
   ]
  },
  {
   "cell_type": "code",
   "execution_count": 7,
   "metadata": {
    "collapsed": false,
    "pycharm": {
     "name": "#%%\n"
    }
   },
   "outputs": [
    {
     "name": "stderr",
     "output_type": "stream",
     "text": [
      "C:\\Users\\Administrator\\AppData\\Local\\Temp\\ipykernel_25928\\3441695554.py:1: SettingWithCopyWarning: \n",
      "A value is trying to be set on a copy of a slice from a DataFrame.\n",
      "Try using .loc[row_indexer,col_indexer] = value instead\n",
      "\n",
      "See the caveats in the documentation: https://pandas.pydata.org/pandas-docs/stable/user_guide/indexing.html#returning-a-view-versus-a-copy\n",
      "  df_main['이용확인종,이용빈도높은종,멸종위기종이용빈도']=monitored\n",
      "C:\\Users\\Administrator\\AppData\\Local\\Temp\\ipykernel_25928\\3441695554.py:2: SettingWithCopyWarning: \n",
      "A value is trying to be set on a copy of a slice from a DataFrame\n",
      "\n",
      "See the caveats in the documentation: https://pandas.pydata.org/pandas-docs/stable/user_guide/indexing.html#returning-a-view-versus-a-copy\n",
      "  df_main.rename(columns={'이용확인종,이용빈도높은종,멸종위기종이용빈도':'이용확인종'}, inplace=True)\n",
      "C:\\Users\\Administrator\\AppData\\Local\\Temp\\ipykernel_25928\\3441695554.py:3: SettingWithCopyWarning: \n",
      "A value is trying to be set on a copy of a slice from a DataFrame.\n",
      "Try using .loc[row_indexer,col_indexer] = value instead\n",
      "\n",
      "See the caveats in the documentation: https://pandas.pydata.org/pandas-docs/stable/user_guide/indexing.html#returning-a-view-versus-a-copy\n",
      "  df_main['이용확인 종 수'] = [len(x) if x is not None else 0 for x in df_main['이용확인종']]\n"
     ]
    },
    {
     "data": {
      "text/plain": "       번호 생태통로명   차선_수 생태통로타입 등산객이용빈도            생태통로효율성            이용확인종  \\\n0    1495  가계통로  왕복4차선    육교형   극히 적음              판단 불가             None   \n1    1277   가대리  왕복2차선    터널형     NaN              판단 불가             None   \n2    1278   가산리  왕복2차선    터널형     NaN              판단 불가  [고라니, 멧돼지, 파충류]   \n3    1279  가산리2  왕복2차선    터널형     NaN              판단 불가  [고라니, 멧돼지, 파충류]   \n4    1090    각리  왕복6차선    육교형   매일 다수  보통(주 35회 야생동물 이용)    [개, 고양이, 다람쥐]   \n..    ...   ...    ...    ...     ...                ...              ...   \n512  1089   NaN  왕복6차선    육교형     NaN              판단 불가       [고라니, 멧돼지]   \n513  1087   NaN  왕복4차선    육교형   매일 다수              판단 불가       [고라니, 멧돼지]   \n514  1088   NaN  왕복4차선    육교형   매일 다수              판단 불가       [고라니, 멧돼지]   \n515  1091   NaN  왕복2차선    육교형     NaN              판단 불가       [멧돼지, 고라니]   \n516  1072   NaN  왕복6차선    육교형   매일 다수              판단 불가       [고라니, 멧돼지]   \n\n     이용확인 종 수  \n0           0  \n1           0  \n2           3  \n3           3  \n4           3  \n..        ...  \n512         2  \n513         2  \n514         2  \n515         2  \n516         2  \n\n[517 rows x 8 columns]",
      "text/html": "<div>\n<style scoped>\n    .dataframe tbody tr th:only-of-type {\n        vertical-align: middle;\n    }\n\n    .dataframe tbody tr th {\n        vertical-align: top;\n    }\n\n    .dataframe thead th {\n        text-align: right;\n    }\n</style>\n<table border=\"1\" class=\"dataframe\">\n  <thead>\n    <tr style=\"text-align: right;\">\n      <th></th>\n      <th>번호</th>\n      <th>생태통로명</th>\n      <th>차선_수</th>\n      <th>생태통로타입</th>\n      <th>등산객이용빈도</th>\n      <th>생태통로효율성</th>\n      <th>이용확인종</th>\n      <th>이용확인 종 수</th>\n    </tr>\n  </thead>\n  <tbody>\n    <tr>\n      <th>0</th>\n      <td>1495</td>\n      <td>가계통로</td>\n      <td>왕복4차선</td>\n      <td>육교형</td>\n      <td>극히 적음</td>\n      <td>판단 불가</td>\n      <td>None</td>\n      <td>0</td>\n    </tr>\n    <tr>\n      <th>1</th>\n      <td>1277</td>\n      <td>가대리</td>\n      <td>왕복2차선</td>\n      <td>터널형</td>\n      <td>NaN</td>\n      <td>판단 불가</td>\n      <td>None</td>\n      <td>0</td>\n    </tr>\n    <tr>\n      <th>2</th>\n      <td>1278</td>\n      <td>가산리</td>\n      <td>왕복2차선</td>\n      <td>터널형</td>\n      <td>NaN</td>\n      <td>판단 불가</td>\n      <td>[고라니, 멧돼지, 파충류]</td>\n      <td>3</td>\n    </tr>\n    <tr>\n      <th>3</th>\n      <td>1279</td>\n      <td>가산리2</td>\n      <td>왕복2차선</td>\n      <td>터널형</td>\n      <td>NaN</td>\n      <td>판단 불가</td>\n      <td>[고라니, 멧돼지, 파충류]</td>\n      <td>3</td>\n    </tr>\n    <tr>\n      <th>4</th>\n      <td>1090</td>\n      <td>각리</td>\n      <td>왕복6차선</td>\n      <td>육교형</td>\n      <td>매일 다수</td>\n      <td>보통(주 35회 야생동물 이용)</td>\n      <td>[개, 고양이, 다람쥐]</td>\n      <td>3</td>\n    </tr>\n    <tr>\n      <th>...</th>\n      <td>...</td>\n      <td>...</td>\n      <td>...</td>\n      <td>...</td>\n      <td>...</td>\n      <td>...</td>\n      <td>...</td>\n      <td>...</td>\n    </tr>\n    <tr>\n      <th>512</th>\n      <td>1089</td>\n      <td>NaN</td>\n      <td>왕복6차선</td>\n      <td>육교형</td>\n      <td>NaN</td>\n      <td>판단 불가</td>\n      <td>[고라니, 멧돼지]</td>\n      <td>2</td>\n    </tr>\n    <tr>\n      <th>513</th>\n      <td>1087</td>\n      <td>NaN</td>\n      <td>왕복4차선</td>\n      <td>육교형</td>\n      <td>매일 다수</td>\n      <td>판단 불가</td>\n      <td>[고라니, 멧돼지]</td>\n      <td>2</td>\n    </tr>\n    <tr>\n      <th>514</th>\n      <td>1088</td>\n      <td>NaN</td>\n      <td>왕복4차선</td>\n      <td>육교형</td>\n      <td>매일 다수</td>\n      <td>판단 불가</td>\n      <td>[고라니, 멧돼지]</td>\n      <td>2</td>\n    </tr>\n    <tr>\n      <th>515</th>\n      <td>1091</td>\n      <td>NaN</td>\n      <td>왕복2차선</td>\n      <td>육교형</td>\n      <td>NaN</td>\n      <td>판단 불가</td>\n      <td>[멧돼지, 고라니]</td>\n      <td>2</td>\n    </tr>\n    <tr>\n      <th>516</th>\n      <td>1072</td>\n      <td>NaN</td>\n      <td>왕복6차선</td>\n      <td>육교형</td>\n      <td>매일 다수</td>\n      <td>판단 불가</td>\n      <td>[고라니, 멧돼지]</td>\n      <td>2</td>\n    </tr>\n  </tbody>\n</table>\n<p>517 rows × 8 columns</p>\n</div>"
     },
     "execution_count": 7,
     "metadata": {},
     "output_type": "execute_result"
    }
   ],
   "source": [
    "df_main['이용확인종,이용빈도높은종,멸종위기종이용빈도']=monitored\n",
    "df_main.rename(columns={'이용확인종,이용빈도높은종,멸종위기종이용빈도':'이용확인종'}, inplace=True)\n",
    "df_main['이용확인 종 수'] = [len(x) if x is not None else 0 for x in df_main['이용확인종']]\n",
    "df_main"
   ]
  },
  {
   "cell_type": "markdown",
   "metadata": {
    "collapsed": false
   },
   "source": [
    "# 생태통로 효율성 결측치 1차 처리\n",
    "효율성값이 판단불가 또는 null인데 이용확인 종 수가 존재하는 경우"
   ]
  },
  {
   "cell_type": "code",
   "execution_count": 8,
   "metadata": {
    "collapsed": false,
    "pycharm": {
     "name": "#%%\n"
    }
   },
   "outputs": [],
   "source": [
    "eff_preprocess_index = list(df_main[((df_main['생태통로효율성']=='판단 불가') | df_main['생태통로효율성'].isnull()) & (df_main['이용확인 종 수']>0)].index)\n",
    "eff_preprocess_dict = {\n",
    "    1: '낮음',\n",
    "    2: '낮음',\n",
    "    3: '보통',\n",
    "    4: '높음',\n",
    "    5: '높음'\n",
    "}\n",
    "for idx in eff_preprocess_index:\n",
    "    df_main.loc[idx, '생태통로효율성']=eff_preprocess_dict[df_main.loc[idx,'이용확인 종 수']]"
   ]
  },
  {
   "cell_type": "markdown",
   "metadata": {
    "collapsed": false
   },
   "source": [
    "처리후 효율성 값이 null인 것 판단 불가 처리, 문자열 길이 줄이기"
   ]
  },
  {
   "cell_type": "code",
   "execution_count": 9,
   "metadata": {
    "collapsed": false,
    "pycharm": {
     "name": "#%%\n"
    }
   },
   "outputs": [
    {
     "name": "stderr",
     "output_type": "stream",
     "text": [
      "C:\\Users\\Administrator\\AppData\\Local\\Temp\\ipykernel_25928\\3689056347.py:1: SettingWithCopyWarning: \n",
      "A value is trying to be set on a copy of a slice from a DataFrame\n",
      "\n",
      "See the caveats in the documentation: https://pandas.pydata.org/pandas-docs/stable/user_guide/indexing.html#returning-a-view-versus-a-copy\n",
      "  df_main['생태통로효율성'].fillna('판단 불가', inplace=True)\n",
      "C:\\Users\\Administrator\\AppData\\Local\\Temp\\ipykernel_25928\\3689056347.py:2: SettingWithCopyWarning: \n",
      "A value is trying to be set on a copy of a slice from a DataFrame.\n",
      "Try using .loc[row_indexer,col_indexer] = value instead\n",
      "\n",
      "See the caveats in the documentation: https://pandas.pydata.org/pandas-docs/stable/user_guide/indexing.html#returning-a-view-versus-a-copy\n",
      "  df_main['생태통로효율성'] = df_main['생태통로효율성'].apply(lambda x : x.split('(')[0])\n"
     ]
    },
    {
     "data": {
      "text/plain": "       번호 생태통로명   차선_수 생태통로타입 등산객이용빈도 생태통로효율성            이용확인종  이용확인 종 수\n0    1495  가계통로  왕복4차선    육교형   극히 적음   판단 불가             None         0\n1    1277   가대리  왕복2차선    터널형     NaN   판단 불가             None         0\n2    1278   가산리  왕복2차선    터널형     NaN      보통  [고라니, 멧돼지, 파충류]         3\n3    1279  가산리2  왕복2차선    터널형     NaN      보통  [고라니, 멧돼지, 파충류]         3\n4    1090    각리  왕복6차선    육교형   매일 다수      보통    [개, 고양이, 다람쥐]         3\n..    ...   ...    ...    ...     ...     ...              ...       ...\n512  1089   NaN  왕복6차선    육교형     NaN      낮음       [고라니, 멧돼지]         2\n513  1087   NaN  왕복4차선    육교형   매일 다수      낮음       [고라니, 멧돼지]         2\n514  1088   NaN  왕복4차선    육교형   매일 다수      낮음       [고라니, 멧돼지]         2\n515  1091   NaN  왕복2차선    육교형     NaN      낮음       [멧돼지, 고라니]         2\n516  1072   NaN  왕복6차선    육교형   매일 다수      낮음       [고라니, 멧돼지]         2\n\n[517 rows x 8 columns]",
      "text/html": "<div>\n<style scoped>\n    .dataframe tbody tr th:only-of-type {\n        vertical-align: middle;\n    }\n\n    .dataframe tbody tr th {\n        vertical-align: top;\n    }\n\n    .dataframe thead th {\n        text-align: right;\n    }\n</style>\n<table border=\"1\" class=\"dataframe\">\n  <thead>\n    <tr style=\"text-align: right;\">\n      <th></th>\n      <th>번호</th>\n      <th>생태통로명</th>\n      <th>차선_수</th>\n      <th>생태통로타입</th>\n      <th>등산객이용빈도</th>\n      <th>생태통로효율성</th>\n      <th>이용확인종</th>\n      <th>이용확인 종 수</th>\n    </tr>\n  </thead>\n  <tbody>\n    <tr>\n      <th>0</th>\n      <td>1495</td>\n      <td>가계통로</td>\n      <td>왕복4차선</td>\n      <td>육교형</td>\n      <td>극히 적음</td>\n      <td>판단 불가</td>\n      <td>None</td>\n      <td>0</td>\n    </tr>\n    <tr>\n      <th>1</th>\n      <td>1277</td>\n      <td>가대리</td>\n      <td>왕복2차선</td>\n      <td>터널형</td>\n      <td>NaN</td>\n      <td>판단 불가</td>\n      <td>None</td>\n      <td>0</td>\n    </tr>\n    <tr>\n      <th>2</th>\n      <td>1278</td>\n      <td>가산리</td>\n      <td>왕복2차선</td>\n      <td>터널형</td>\n      <td>NaN</td>\n      <td>보통</td>\n      <td>[고라니, 멧돼지, 파충류]</td>\n      <td>3</td>\n    </tr>\n    <tr>\n      <th>3</th>\n      <td>1279</td>\n      <td>가산리2</td>\n      <td>왕복2차선</td>\n      <td>터널형</td>\n      <td>NaN</td>\n      <td>보통</td>\n      <td>[고라니, 멧돼지, 파충류]</td>\n      <td>3</td>\n    </tr>\n    <tr>\n      <th>4</th>\n      <td>1090</td>\n      <td>각리</td>\n      <td>왕복6차선</td>\n      <td>육교형</td>\n      <td>매일 다수</td>\n      <td>보통</td>\n      <td>[개, 고양이, 다람쥐]</td>\n      <td>3</td>\n    </tr>\n    <tr>\n      <th>...</th>\n      <td>...</td>\n      <td>...</td>\n      <td>...</td>\n      <td>...</td>\n      <td>...</td>\n      <td>...</td>\n      <td>...</td>\n      <td>...</td>\n    </tr>\n    <tr>\n      <th>512</th>\n      <td>1089</td>\n      <td>NaN</td>\n      <td>왕복6차선</td>\n      <td>육교형</td>\n      <td>NaN</td>\n      <td>낮음</td>\n      <td>[고라니, 멧돼지]</td>\n      <td>2</td>\n    </tr>\n    <tr>\n      <th>513</th>\n      <td>1087</td>\n      <td>NaN</td>\n      <td>왕복4차선</td>\n      <td>육교형</td>\n      <td>매일 다수</td>\n      <td>낮음</td>\n      <td>[고라니, 멧돼지]</td>\n      <td>2</td>\n    </tr>\n    <tr>\n      <th>514</th>\n      <td>1088</td>\n      <td>NaN</td>\n      <td>왕복4차선</td>\n      <td>육교형</td>\n      <td>매일 다수</td>\n      <td>낮음</td>\n      <td>[고라니, 멧돼지]</td>\n      <td>2</td>\n    </tr>\n    <tr>\n      <th>515</th>\n      <td>1091</td>\n      <td>NaN</td>\n      <td>왕복2차선</td>\n      <td>육교형</td>\n      <td>NaN</td>\n      <td>낮음</td>\n      <td>[멧돼지, 고라니]</td>\n      <td>2</td>\n    </tr>\n    <tr>\n      <th>516</th>\n      <td>1072</td>\n      <td>NaN</td>\n      <td>왕복6차선</td>\n      <td>육교형</td>\n      <td>매일 다수</td>\n      <td>낮음</td>\n      <td>[고라니, 멧돼지]</td>\n      <td>2</td>\n    </tr>\n  </tbody>\n</table>\n<p>517 rows × 8 columns</p>\n</div>"
     },
     "execution_count": 9,
     "metadata": {},
     "output_type": "execute_result"
    }
   ],
   "source": [
    "df_main['생태통로효율성'].fillna('판단 불가', inplace=True)\n",
    "df_main['생태통로효율성'] = df_main['생태통로효율성'].apply(lambda x : x.split('(')[0])\n",
    "df_main"
   ]
  },
  {
   "cell_type": "markdown",
   "metadata": {
    "collapsed": false
   },
   "source": [
    "생태통로 타입이 null인 생태통로 제외"
   ]
  },
  {
   "cell_type": "code",
   "execution_count": 10,
   "metadata": {
    "collapsed": false,
    "pycharm": {
     "name": "#%%\n"
    }
   },
   "outputs": [
    {
     "name": "stdout",
     "output_type": "stream",
     "text": [
      "drop 12 row\n",
      "505\n"
     ]
    },
    {
     "name": "stderr",
     "output_type": "stream",
     "text": [
      "C:\\Users\\Administrator\\AppData\\Local\\Temp\\ipykernel_25928\\2884141118.py:3: SettingWithCopyWarning: \n",
      "A value is trying to be set on a copy of a slice from a DataFrame\n",
      "\n",
      "See the caveats in the documentation: https://pandas.pydata.org/pandas-docs/stable/user_guide/indexing.html#returning-a-view-versus-a-copy\n",
      "  df_main.drop(drop_list, axis=0, inplace=True)\n"
     ]
    }
   ],
   "source": [
    "drop_list = list(df_main[df_main['생태통로타입'].isnull()].index)\n",
    "print('drop {} row'.format(len(drop_list)))\n",
    "df_main.drop(drop_list, axis=0, inplace=True)\n",
    "print(len(df_main))"
   ]
  },
  {
   "cell_type": "markdown",
   "metadata": {
    "collapsed": false
   },
   "source": [
    "# 등산객이용빈도 결측치 처리"
   ]
  },
  {
   "cell_type": "code",
   "execution_count": 11,
   "metadata": {
    "collapsed": false,
    "pycharm": {
     "name": "#%%\n"
    }
   },
   "outputs": [
    {
     "name": "stdout",
     "output_type": "stream",
     "text": [
      "['극히 적음' nan '매일 다수' '월 1~4회' '일 1~2회' '주 2~5회' '월 4회 이하']\n"
     ]
    },
    {
     "data": {
      "text/plain": "등산객이용빈도\n극히 적음      132\n매일 다수       41\n월 1~4회       7\n월 4회 이하     34\n일 1~2회      10\n주 2~5회       8\nName: 번호, dtype: int64"
     },
     "execution_count": 11,
     "metadata": {},
     "output_type": "execute_result"
    }
   ],
   "source": [
    "print(df_main['등산객이용빈도'].unique())\n",
    "df_main.groupby('등산객이용빈도')['번호'].count()"
   ]
  },
  {
   "cell_type": "code",
   "execution_count": 12,
   "metadata": {
    "collapsed": false,
    "pycharm": {
     "name": "#%%\n"
    }
   },
   "outputs": [
    {
     "name": "stderr",
     "output_type": "stream",
     "text": [
      "C:\\Users\\Administrator\\AppData\\Local\\Temp\\ipykernel_25928\\1002909671.py:1: SettingWithCopyWarning: \n",
      "A value is trying to be set on a copy of a slice from a DataFrame\n",
      "\n",
      "See the caveats in the documentation: https://pandas.pydata.org/pandas-docs/stable/user_guide/indexing.html#returning-a-view-versus-a-copy\n",
      "  df_main['등산객이용빈도'].fillna('없음', inplace=True)\n"
     ]
    },
    {
     "data": {
      "text/plain": "등산객이용빈도\n극히 적음      132\n매일 다수       41\n없음         273\n월 1~4회       7\n월 4회 이하     34\n일 1~2회      10\n주 2~5회       8\nName: 번호, dtype: int64"
     },
     "execution_count": 12,
     "metadata": {},
     "output_type": "execute_result"
    }
   ],
   "source": [
    "df_main['등산객이용빈도'].fillna('없음', inplace=True)\n",
    "df_main.groupby('등산객이용빈도')['번호'].count()"
   ]
  },
  {
   "cell_type": "markdown",
   "metadata": {
    "collapsed": false
   },
   "source": [
    "# 차선_수 결측치 처리"
   ]
  },
  {
   "cell_type": "code",
   "execution_count": 13,
   "metadata": {
    "collapsed": false,
    "pycharm": {
     "name": "#%%\n"
    }
   },
   "outputs": [
    {
     "name": "stdout",
     "output_type": "stream",
     "text": [
      "['왕복12차선', '왕복16차선', '왕복1차선', '왕복2차선', '왕복3차선', '왕복4차선', '왕복5차선', '왕복6차선', '왕복7차선', '왕복8차선', '하천횡단']\n"
     ]
    },
    {
     "data": {
      "text/plain": "차선_수\n왕복12차선      1\n왕복16차선      1\n왕복1차선       5\n왕복2차선     211\n왕복3차선       9\n왕복4차선     229\n왕복5차선       4\n왕복6차선      32\n왕복7차선       1\n왕복8차선      11\n하천횡단        1\nName: 번호, dtype: int64"
     },
     "execution_count": 13,
     "metadata": {},
     "output_type": "execute_result"
    }
   ],
   "source": [
    "print(sorted(df_main['차선_수'].unique()))\n",
    "df_main.groupby('차선_수')['번호'].count()"
   ]
  },
  {
   "cell_type": "code",
   "execution_count": 14,
   "metadata": {
    "collapsed": false,
    "pycharm": {
     "name": "#%%\n"
    }
   },
   "outputs": [
    {
     "name": "stderr",
     "output_type": "stream",
     "text": [
      "C:\\Users\\Administrator\\AppData\\Local\\Temp\\ipykernel_25928\\2674156515.py:1: SettingWithCopyWarning: \n",
      "A value is trying to be set on a copy of a slice from a DataFrame.\n",
      "Try using .loc[row_indexer,col_indexer] = value instead\n",
      "\n",
      "See the caveats in the documentation: https://pandas.pydata.org/pandas-docs/stable/user_guide/indexing.html#returning-a-view-versus-a-copy\n",
      "  df_main['차선_수'] = [x.replace('왕복', '').replace('차선', '') for x in df_main['차선_수']]\n"
     ]
    },
    {
     "data": {
      "text/plain": "       번호 생태통로명 차선_수 생태통로타입 등산객이용빈도 생태통로효율성            이용확인종  이용확인 종 수\n0    1495  가계통로    4    육교형   극히 적음   판단 불가             None         0\n1    1277   가대리    2    터널형      없음   판단 불가             None         0\n2    1278   가산리    2    터널형      없음      보통  [고라니, 멧돼지, 파충류]         3\n3    1279  가산리2    2    터널형      없음      보통  [고라니, 멧돼지, 파충류]         3\n4    1090    각리    6    육교형   매일 다수      보통    [개, 고양이, 다람쥐]         3\n..    ...   ...  ...    ...     ...     ...              ...       ...\n512  1089   NaN    6    육교형      없음      낮음       [고라니, 멧돼지]         2\n513  1087   NaN    4    육교형   매일 다수      낮음       [고라니, 멧돼지]         2\n514  1088   NaN    4    육교형   매일 다수      낮음       [고라니, 멧돼지]         2\n515  1091   NaN    2    육교형      없음      낮음       [멧돼지, 고라니]         2\n516  1072   NaN    6    육교형   매일 다수      낮음       [고라니, 멧돼지]         2\n\n[505 rows x 8 columns]",
      "text/html": "<div>\n<style scoped>\n    .dataframe tbody tr th:only-of-type {\n        vertical-align: middle;\n    }\n\n    .dataframe tbody tr th {\n        vertical-align: top;\n    }\n\n    .dataframe thead th {\n        text-align: right;\n    }\n</style>\n<table border=\"1\" class=\"dataframe\">\n  <thead>\n    <tr style=\"text-align: right;\">\n      <th></th>\n      <th>번호</th>\n      <th>생태통로명</th>\n      <th>차선_수</th>\n      <th>생태통로타입</th>\n      <th>등산객이용빈도</th>\n      <th>생태통로효율성</th>\n      <th>이용확인종</th>\n      <th>이용확인 종 수</th>\n    </tr>\n  </thead>\n  <tbody>\n    <tr>\n      <th>0</th>\n      <td>1495</td>\n      <td>가계통로</td>\n      <td>4</td>\n      <td>육교형</td>\n      <td>극히 적음</td>\n      <td>판단 불가</td>\n      <td>None</td>\n      <td>0</td>\n    </tr>\n    <tr>\n      <th>1</th>\n      <td>1277</td>\n      <td>가대리</td>\n      <td>2</td>\n      <td>터널형</td>\n      <td>없음</td>\n      <td>판단 불가</td>\n      <td>None</td>\n      <td>0</td>\n    </tr>\n    <tr>\n      <th>2</th>\n      <td>1278</td>\n      <td>가산리</td>\n      <td>2</td>\n      <td>터널형</td>\n      <td>없음</td>\n      <td>보통</td>\n      <td>[고라니, 멧돼지, 파충류]</td>\n      <td>3</td>\n    </tr>\n    <tr>\n      <th>3</th>\n      <td>1279</td>\n      <td>가산리2</td>\n      <td>2</td>\n      <td>터널형</td>\n      <td>없음</td>\n      <td>보통</td>\n      <td>[고라니, 멧돼지, 파충류]</td>\n      <td>3</td>\n    </tr>\n    <tr>\n      <th>4</th>\n      <td>1090</td>\n      <td>각리</td>\n      <td>6</td>\n      <td>육교형</td>\n      <td>매일 다수</td>\n      <td>보통</td>\n      <td>[개, 고양이, 다람쥐]</td>\n      <td>3</td>\n    </tr>\n    <tr>\n      <th>...</th>\n      <td>...</td>\n      <td>...</td>\n      <td>...</td>\n      <td>...</td>\n      <td>...</td>\n      <td>...</td>\n      <td>...</td>\n      <td>...</td>\n    </tr>\n    <tr>\n      <th>512</th>\n      <td>1089</td>\n      <td>NaN</td>\n      <td>6</td>\n      <td>육교형</td>\n      <td>없음</td>\n      <td>낮음</td>\n      <td>[고라니, 멧돼지]</td>\n      <td>2</td>\n    </tr>\n    <tr>\n      <th>513</th>\n      <td>1087</td>\n      <td>NaN</td>\n      <td>4</td>\n      <td>육교형</td>\n      <td>매일 다수</td>\n      <td>낮음</td>\n      <td>[고라니, 멧돼지]</td>\n      <td>2</td>\n    </tr>\n    <tr>\n      <th>514</th>\n      <td>1088</td>\n      <td>NaN</td>\n      <td>4</td>\n      <td>육교형</td>\n      <td>매일 다수</td>\n      <td>낮음</td>\n      <td>[고라니, 멧돼지]</td>\n      <td>2</td>\n    </tr>\n    <tr>\n      <th>515</th>\n      <td>1091</td>\n      <td>NaN</td>\n      <td>2</td>\n      <td>육교형</td>\n      <td>없음</td>\n      <td>낮음</td>\n      <td>[멧돼지, 고라니]</td>\n      <td>2</td>\n    </tr>\n    <tr>\n      <th>516</th>\n      <td>1072</td>\n      <td>NaN</td>\n      <td>6</td>\n      <td>육교형</td>\n      <td>매일 다수</td>\n      <td>낮음</td>\n      <td>[고라니, 멧돼지]</td>\n      <td>2</td>\n    </tr>\n  </tbody>\n</table>\n<p>505 rows × 8 columns</p>\n</div>"
     },
     "execution_count": 14,
     "metadata": {},
     "output_type": "execute_result"
    }
   ],
   "source": [
    "df_main['차선_수'] = [x.replace('왕복', '').replace('차선', '') for x in df_main['차선_수']]\n",
    "\n",
    "df_main"
   ]
  },
  {
   "cell_type": "code",
   "execution_count": 15,
   "metadata": {
    "collapsed": false,
    "pycharm": {
     "name": "#%%\n"
    }
   },
   "outputs": [],
   "source": [
    "df_main.loc[df_main['차선_수']=='하천횡단', '차선_수'] = 0"
   ]
  },
  {
   "cell_type": "code",
   "execution_count": 16,
   "outputs": [
    {
     "name": "stderr",
     "output_type": "stream",
     "text": [
      "C:\\Users\\Administrator\\AppData\\Local\\Temp\\ipykernel_25928\\2833697645.py:1: SettingWithCopyWarning: \n",
      "A value is trying to be set on a copy of a slice from a DataFrame.\n",
      "Try using .loc[row_indexer,col_indexer] = value instead\n",
      "\n",
      "See the caveats in the documentation: https://pandas.pydata.org/pandas-docs/stable/user_guide/indexing.html#returning-a-view-versus-a-copy\n",
      "  df_main['차선_수'] = df_main['차선_수'].astype('int64')\n"
     ]
    }
   ],
   "source": [
    "df_main['차선_수'] = df_main['차선_수'].astype('int64')"
   ],
   "metadata": {
    "collapsed": false,
    "pycharm": {
     "name": "#%%\n"
    }
   }
  },
  {
   "cell_type": "markdown",
   "metadata": {
    "collapsed": false
   },
   "source": [
    "# 라벨링"
   ]
  },
  {
   "cell_type": "code",
   "execution_count": 17,
   "metadata": {
    "collapsed": false,
    "pycharm": {
     "name": "#%%\n"
    }
   },
   "outputs": [],
   "source": [
    "labeling_columns = ['생태통로효율성', '등산객이용빈도', '생태통로타입']\n",
    "\n",
    "eff = { # 생태통로 효율성\n",
    "    '낮음' : 0,\n",
    "    '보통' : 1,\n",
    "    '높음' : 2,\n",
    "    '판단 불가': 3\n",
    "}\n",
    "hiker = { # 등산객 이용빈도\n",
    "    '없음' : 0,\n",
    "    '극히 적음' : 1,\n",
    "    '월 1~4회' : 2,\n",
    "    '월 4회 이하': 2,\n",
    "    '주 2~5회': 3,\n",
    "    '일 1~2회': 4,\n",
    "    '매일 다수' : 5\n",
    "}\n",
    "\n",
    "bridge_type = { # 생태통로 타입\n",
    "    '육교형': 0,\n",
    "    '터널형': 1,\n",
    "    '양서·파충류 통로': 2\n",
    "}\n",
    "\n",
    "labeling_dict = {\n",
    "    labeling_columns[0] : eff,\n",
    "    labeling_columns[1] : hiker,\n",
    "    labeling_columns[2] : bridge_type\n",
    "}"
   ]
  },
  {
   "cell_type": "code",
   "execution_count": 18,
   "metadata": {
    "collapsed": false,
    "pycharm": {
     "name": "#%%\n"
    }
   },
   "outputs": [
    {
     "name": "stderr",
     "output_type": "stream",
     "text": [
      "C:\\Users\\Administrator\\AppData\\Local\\Temp\\ipykernel_25928\\446310423.py:2: SettingWithCopyWarning: \n",
      "A value is trying to be set on a copy of a slice from a DataFrame.\n",
      "Try using .loc[row_indexer,col_indexer] = value instead\n",
      "\n",
      "See the caveats in the documentation: https://pandas.pydata.org/pandas-docs/stable/user_guide/indexing.html#returning-a-view-versus-a-copy\n",
      "  df_main[c] = [labeling_dict[c][x] for x in df_main[c]]\n"
     ]
    },
    {
     "data": {
      "text/plain": "       번호 생태통로명  차선_수  생태통로타입  등산객이용빈도  생태통로효율성            이용확인종  이용확인 종 수\n0    1495  가계통로     4       0        1        3             None         0\n1    1277   가대리     2       1        0        3             None         0\n2    1278   가산리     2       1        0        1  [고라니, 멧돼지, 파충류]         3\n3    1279  가산리2     2       1        0        1  [고라니, 멧돼지, 파충류]         3\n4    1090    각리     6       0        5        1    [개, 고양이, 다람쥐]         3\n..    ...   ...   ...     ...      ...      ...              ...       ...\n512  1089   NaN     6       0        0        0       [고라니, 멧돼지]         2\n513  1087   NaN     4       0        5        0       [고라니, 멧돼지]         2\n514  1088   NaN     4       0        5        0       [고라니, 멧돼지]         2\n515  1091   NaN     2       0        0        0       [멧돼지, 고라니]         2\n516  1072   NaN     6       0        5        0       [고라니, 멧돼지]         2\n\n[505 rows x 8 columns]",
      "text/html": "<div>\n<style scoped>\n    .dataframe tbody tr th:only-of-type {\n        vertical-align: middle;\n    }\n\n    .dataframe tbody tr th {\n        vertical-align: top;\n    }\n\n    .dataframe thead th {\n        text-align: right;\n    }\n</style>\n<table border=\"1\" class=\"dataframe\">\n  <thead>\n    <tr style=\"text-align: right;\">\n      <th></th>\n      <th>번호</th>\n      <th>생태통로명</th>\n      <th>차선_수</th>\n      <th>생태통로타입</th>\n      <th>등산객이용빈도</th>\n      <th>생태통로효율성</th>\n      <th>이용확인종</th>\n      <th>이용확인 종 수</th>\n    </tr>\n  </thead>\n  <tbody>\n    <tr>\n      <th>0</th>\n      <td>1495</td>\n      <td>가계통로</td>\n      <td>4</td>\n      <td>0</td>\n      <td>1</td>\n      <td>3</td>\n      <td>None</td>\n      <td>0</td>\n    </tr>\n    <tr>\n      <th>1</th>\n      <td>1277</td>\n      <td>가대리</td>\n      <td>2</td>\n      <td>1</td>\n      <td>0</td>\n      <td>3</td>\n      <td>None</td>\n      <td>0</td>\n    </tr>\n    <tr>\n      <th>2</th>\n      <td>1278</td>\n      <td>가산리</td>\n      <td>2</td>\n      <td>1</td>\n      <td>0</td>\n      <td>1</td>\n      <td>[고라니, 멧돼지, 파충류]</td>\n      <td>3</td>\n    </tr>\n    <tr>\n      <th>3</th>\n      <td>1279</td>\n      <td>가산리2</td>\n      <td>2</td>\n      <td>1</td>\n      <td>0</td>\n      <td>1</td>\n      <td>[고라니, 멧돼지, 파충류]</td>\n      <td>3</td>\n    </tr>\n    <tr>\n      <th>4</th>\n      <td>1090</td>\n      <td>각리</td>\n      <td>6</td>\n      <td>0</td>\n      <td>5</td>\n      <td>1</td>\n      <td>[개, 고양이, 다람쥐]</td>\n      <td>3</td>\n    </tr>\n    <tr>\n      <th>...</th>\n      <td>...</td>\n      <td>...</td>\n      <td>...</td>\n      <td>...</td>\n      <td>...</td>\n      <td>...</td>\n      <td>...</td>\n      <td>...</td>\n    </tr>\n    <tr>\n      <th>512</th>\n      <td>1089</td>\n      <td>NaN</td>\n      <td>6</td>\n      <td>0</td>\n      <td>0</td>\n      <td>0</td>\n      <td>[고라니, 멧돼지]</td>\n      <td>2</td>\n    </tr>\n    <tr>\n      <th>513</th>\n      <td>1087</td>\n      <td>NaN</td>\n      <td>4</td>\n      <td>0</td>\n      <td>5</td>\n      <td>0</td>\n      <td>[고라니, 멧돼지]</td>\n      <td>2</td>\n    </tr>\n    <tr>\n      <th>514</th>\n      <td>1088</td>\n      <td>NaN</td>\n      <td>4</td>\n      <td>0</td>\n      <td>5</td>\n      <td>0</td>\n      <td>[고라니, 멧돼지]</td>\n      <td>2</td>\n    </tr>\n    <tr>\n      <th>515</th>\n      <td>1091</td>\n      <td>NaN</td>\n      <td>2</td>\n      <td>0</td>\n      <td>0</td>\n      <td>0</td>\n      <td>[멧돼지, 고라니]</td>\n      <td>2</td>\n    </tr>\n    <tr>\n      <th>516</th>\n      <td>1072</td>\n      <td>NaN</td>\n      <td>6</td>\n      <td>0</td>\n      <td>5</td>\n      <td>0</td>\n      <td>[고라니, 멧돼지]</td>\n      <td>2</td>\n    </tr>\n  </tbody>\n</table>\n<p>505 rows × 8 columns</p>\n</div>"
     },
     "execution_count": 18,
     "metadata": {},
     "output_type": "execute_result"
    }
   ],
   "source": [
    "for c in labeling_columns :\n",
    "    df_main[c] = [labeling_dict[c][x] for x in df_main[c]]\n",
    "\n",
    "df_main"
   ]
  },
  {
   "cell_type": "code",
   "execution_count": 19,
   "outputs": [
    {
     "name": "stderr",
     "output_type": "stream",
     "text": [
      "C:\\Users\\Administrator\\AppData\\Local\\Temp\\ipykernel_25928\\1621548934.py:7: SettingWithCopyWarning: \n",
      "A value is trying to be set on a copy of a slice from a DataFrame.\n",
      "Try using .loc[row_indexer,col_indexer] = value instead\n",
      "\n",
      "See the caveats in the documentation: https://pandas.pydata.org/pandas-docs/stable/user_guide/indexing.html#returning-a-view-versus-a-copy\n",
      "  df_main['이용확인종'] = df_main['이용확인종'].apply(list2string)\n"
     ]
    },
    {
     "data": {
      "text/plain": "       번호 생태통로명  차선_수  생태통로타입  등산객이용빈도  생태통로효율성        이용확인종  이용확인 종 수\n0    1495  가계통로     4       0        1        3         None         0\n1    1277   가대리     2       1        0        3         None         0\n2    1278   가산리     2       1        0        1  고라니 멧돼지 파충류         3\n3    1279  가산리2     2       1        0        1  고라니 멧돼지 파충류         3\n4    1090    각리     6       0        5        1    개 고양이 다람쥐         3\n..    ...   ...   ...     ...      ...      ...          ...       ...\n512  1089   NaN     6       0        0        0      고라니 멧돼지         2\n513  1087   NaN     4       0        5        0      고라니 멧돼지         2\n514  1088   NaN     4       0        5        0      고라니 멧돼지         2\n515  1091   NaN     2       0        0        0      멧돼지 고라니         2\n516  1072   NaN     6       0        5        0      고라니 멧돼지         2\n\n[505 rows x 8 columns]",
      "text/html": "<div>\n<style scoped>\n    .dataframe tbody tr th:only-of-type {\n        vertical-align: middle;\n    }\n\n    .dataframe tbody tr th {\n        vertical-align: top;\n    }\n\n    .dataframe thead th {\n        text-align: right;\n    }\n</style>\n<table border=\"1\" class=\"dataframe\">\n  <thead>\n    <tr style=\"text-align: right;\">\n      <th></th>\n      <th>번호</th>\n      <th>생태통로명</th>\n      <th>차선_수</th>\n      <th>생태통로타입</th>\n      <th>등산객이용빈도</th>\n      <th>생태통로효율성</th>\n      <th>이용확인종</th>\n      <th>이용확인 종 수</th>\n    </tr>\n  </thead>\n  <tbody>\n    <tr>\n      <th>0</th>\n      <td>1495</td>\n      <td>가계통로</td>\n      <td>4</td>\n      <td>0</td>\n      <td>1</td>\n      <td>3</td>\n      <td>None</td>\n      <td>0</td>\n    </tr>\n    <tr>\n      <th>1</th>\n      <td>1277</td>\n      <td>가대리</td>\n      <td>2</td>\n      <td>1</td>\n      <td>0</td>\n      <td>3</td>\n      <td>None</td>\n      <td>0</td>\n    </tr>\n    <tr>\n      <th>2</th>\n      <td>1278</td>\n      <td>가산리</td>\n      <td>2</td>\n      <td>1</td>\n      <td>0</td>\n      <td>1</td>\n      <td>고라니 멧돼지 파충류</td>\n      <td>3</td>\n    </tr>\n    <tr>\n      <th>3</th>\n      <td>1279</td>\n      <td>가산리2</td>\n      <td>2</td>\n      <td>1</td>\n      <td>0</td>\n      <td>1</td>\n      <td>고라니 멧돼지 파충류</td>\n      <td>3</td>\n    </tr>\n    <tr>\n      <th>4</th>\n      <td>1090</td>\n      <td>각리</td>\n      <td>6</td>\n      <td>0</td>\n      <td>5</td>\n      <td>1</td>\n      <td>개 고양이 다람쥐</td>\n      <td>3</td>\n    </tr>\n    <tr>\n      <th>...</th>\n      <td>...</td>\n      <td>...</td>\n      <td>...</td>\n      <td>...</td>\n      <td>...</td>\n      <td>...</td>\n      <td>...</td>\n      <td>...</td>\n    </tr>\n    <tr>\n      <th>512</th>\n      <td>1089</td>\n      <td>NaN</td>\n      <td>6</td>\n      <td>0</td>\n      <td>0</td>\n      <td>0</td>\n      <td>고라니 멧돼지</td>\n      <td>2</td>\n    </tr>\n    <tr>\n      <th>513</th>\n      <td>1087</td>\n      <td>NaN</td>\n      <td>4</td>\n      <td>0</td>\n      <td>5</td>\n      <td>0</td>\n      <td>고라니 멧돼지</td>\n      <td>2</td>\n    </tr>\n    <tr>\n      <th>514</th>\n      <td>1088</td>\n      <td>NaN</td>\n      <td>4</td>\n      <td>0</td>\n      <td>5</td>\n      <td>0</td>\n      <td>고라니 멧돼지</td>\n      <td>2</td>\n    </tr>\n    <tr>\n      <th>515</th>\n      <td>1091</td>\n      <td>NaN</td>\n      <td>2</td>\n      <td>0</td>\n      <td>0</td>\n      <td>0</td>\n      <td>멧돼지 고라니</td>\n      <td>2</td>\n    </tr>\n    <tr>\n      <th>516</th>\n      <td>1072</td>\n      <td>NaN</td>\n      <td>6</td>\n      <td>0</td>\n      <td>5</td>\n      <td>0</td>\n      <td>고라니 멧돼지</td>\n      <td>2</td>\n    </tr>\n  </tbody>\n</table>\n<p>505 rows × 8 columns</p>\n</div>"
     },
     "execution_count": 19,
     "metadata": {},
     "output_type": "execute_result"
    }
   ],
   "source": [
    "def list2string(row):\n",
    "    if row is None :\n",
    "        return row\n",
    "    else :\n",
    "        return ' '.join(row)\n",
    "\n",
    "df_main['이용확인종'] = df_main['이용확인종'].apply(list2string)\n",
    "df_main"
   ],
   "metadata": {
    "collapsed": false,
    "pycharm": {
     "name": "#%%\n"
    }
   }
  },
  {
   "cell_type": "markdown",
   "source": [],
   "metadata": {
    "collapsed": false
   }
  },
  {
   "cell_type": "markdown",
   "source": [
    "# 생태통로 규격"
   ],
   "metadata": {
    "collapsed": false
   }
  },
  {
   "cell_type": "code",
   "execution_count": 38,
   "outputs": [],
   "source": [
    "df_eco = load_data_from_rds('생태통로', db_connection)\n",
    "df_eco = df_eco[['번호', '위도', '경도']]"
   ],
   "metadata": {
    "collapsed": false,
    "pycharm": {
     "name": "#%%\n"
    }
   }
  },
  {
   "cell_type": "code",
   "execution_count": 39,
   "outputs": [
    {
     "name": "stdout",
     "output_type": "stream",
     "text": [
      "<class 'pandas.core.frame.DataFrame'>\n",
      "RangeIndex: 497 entries, 0 to 496\n",
      "Data columns (total 3 columns):\n",
      " #   Column  Non-Null Count  Dtype  \n",
      "---  ------  --------------  -----  \n",
      " 0   번호      497 non-null    int64  \n",
      " 1   위도      497 non-null    float64\n",
      " 2   경도      497 non-null    float64\n",
      "dtypes: float64(2), int64(1)\n",
      "memory usage: 11.8 KB\n"
     ]
    }
   ],
   "source": [
    "df_eco.info()"
   ],
   "metadata": {
    "collapsed": false,
    "pycharm": {
     "name": "#%%\n"
    }
   }
  },
  {
   "cell_type": "code",
   "execution_count": 40,
   "outputs": [
    {
     "name": "stdout",
     "output_type": "stream",
     "text": [
      "<class 'pandas.core.frame.DataFrame'>\n",
      "RangeIndex: 66 entries, 0 to 65\n",
      "Data columns (total 6 columns):\n",
      " #   Column  Non-Null Count  Dtype  \n",
      "---  ------  --------------  -----  \n",
      " 0   위도      66 non-null     float64\n",
      " 1   경도      66 non-null     float64\n",
      " 2   연장      66 non-null     float64\n",
      " 3   폭       65 non-null     float64\n",
      " 4   높이      20 non-null     float64\n",
      " 5   개방도     20 non-null     float64\n",
      "dtypes: float64(6)\n",
      "memory usage: 3.2 KB\n"
     ]
    }
   ],
   "source": [
    "# df1 : 국립생태원 PDF 규격 데이터\n",
    "df1 = pd.read_csv('.././data/main/생태통로_국립생태원PDF.csv')\n",
    "df1.info()"
   ],
   "metadata": {
    "collapsed": false,
    "pycharm": {
     "name": "#%%\n"
    }
   }
  },
  {
   "cell_type": "code",
   "execution_count": 41,
   "outputs": [
    {
     "name": "stdout",
     "output_type": "stream",
     "text": [
      "<class 'pandas.core.frame.DataFrame'>\n",
      "RangeIndex: 152 entries, 0 to 151\n",
      "Data columns (total 6 columns):\n",
      " #   Column  Non-Null Count  Dtype  \n",
      "---  ------  --------------  -----  \n",
      " 0   위도      150 non-null    float64\n",
      " 1   경도      150 non-null    float64\n",
      " 2   연장      152 non-null    float64\n",
      " 3   폭       152 non-null    float64\n",
      " 4   높이      30 non-null     float64\n",
      " 5   개방도     30 non-null     float64\n",
      "dtypes: float64(6)\n",
      "memory usage: 7.2 KB\n"
     ]
    }
   ],
   "source": [
    "# df2 : 환경부 PDF 규격 데이터\n",
    "df2 = pd.read_csv('.././data/main/생태통로_환경부PDF.csv')\n",
    "df2.info()"
   ],
   "metadata": {
    "collapsed": false,
    "pycharm": {
     "name": "#%%\n"
    }
   }
  },
  {
   "cell_type": "code",
   "execution_count": 42,
   "outputs": [],
   "source": [
    "# df_eco와 df를 좌표 기준으로 병합\n",
    "df1 = pd.merge(df_eco, df1, how='outer', on=['위도','경도'])\n",
    "df2 = pd.merge(df_eco, df2, how='outer', on=['위도','경도'])"
   ],
   "metadata": {
    "collapsed": false,
    "pycharm": {
     "name": "#%%\n"
    }
   }
  },
  {
   "cell_type": "code",
   "execution_count": 43,
   "outputs": [
    {
     "name": "stdout",
     "output_type": "stream",
     "text": [
      "<class 'pandas.core.frame.DataFrame'>\n",
      "RangeIndex: 497 entries, 0 to 496\n",
      "Data columns (total 7 columns):\n",
      " #   Column  Non-Null Count  Dtype  \n",
      "---  ------  --------------  -----  \n",
      " 0   번호      497 non-null    int64  \n",
      " 1   위도      497 non-null    float64\n",
      " 2   경도      497 non-null    float64\n",
      " 3   폭       65 non-null     float64\n",
      " 4   연장      66 non-null     float64\n",
      " 5   높이      20 non-null     float64\n",
      " 6   개방도     20 non-null     float64\n",
      "dtypes: float64(6), int64(1)\n",
      "memory usage: 27.3 KB\n"
     ]
    }
   ],
   "source": [
    "# df_eco에 df1의 규격 데이터 추가\n",
    "col_list = ['폭', '연장', '높이', '개방도']\n",
    "df_eco = pd.concat([df_eco, df1[col_list]], axis=1)\n",
    "df_eco.info()"
   ],
   "metadata": {
    "collapsed": false,
    "pycharm": {
     "name": "#%%\n"
    }
   }
  },
  {
   "cell_type": "code",
   "execution_count": 44,
   "outputs": [
    {
     "name": "stdout",
     "output_type": "stream",
     "text": [
      "<class 'pandas.core.frame.DataFrame'>\n",
      "RangeIndex: 497 entries, 0 to 496\n",
      "Data columns (total 7 columns):\n",
      " #   Column  Non-Null Count  Dtype  \n",
      "---  ------  --------------  -----  \n",
      " 0   번호      497 non-null    int64  \n",
      " 1   위도      497 non-null    float64\n",
      " 2   경도      497 non-null    float64\n",
      " 3   폭       187 non-null    float64\n",
      " 4   연장      187 non-null    float64\n",
      " 5   높이      43 non-null     float64\n",
      " 6   개방도     43 non-null     float64\n",
      "dtypes: float64(6), int64(1)\n",
      "memory usage: 27.3 KB\n"
     ]
    }
   ],
   "source": [
    "# df_eco에 df2의 규격 데이터 추가\n",
    "idx = list(df_eco[((df_eco[col_list[0]].isnull()) | df_eco[col_list[1]].isnull())].index)\n",
    "for i in idx:\n",
    "  for col in col_list:\n",
    "    df_eco.loc[i, col] = df2.loc[i, col]\n",
    "df_eco.info()"
   ],
   "metadata": {
    "collapsed": false,
    "pycharm": {
     "name": "#%%\n"
    }
   }
  },
  {
   "cell_type": "code",
   "execution_count": 45,
   "outputs": [
    {
     "name": "stdout",
     "output_type": "stream",
     "text": [
      "<class 'pandas.core.frame.DataFrame'>\n",
      "RangeIndex: 497 entries, 0 to 496\n",
      "Data columns (total 7 columns):\n",
      " #   Column  Non-Null Count  Dtype  \n",
      "---  ------  --------------  -----  \n",
      " 0   번호      497 non-null    int64  \n",
      " 1   위도      497 non-null    float64\n",
      " 2   경도      497 non-null    float64\n",
      " 3   폭       187 non-null    float64\n",
      " 4   연장      187 non-null    float64\n",
      " 5   높이      43 non-null     float64\n",
      " 6   개방도     43 non-null     float64\n",
      "dtypes: float64(6), int64(1)\n",
      "memory usage: 27.3 KB\n"
     ]
    }
   ],
   "source": [
    "df_eco.info()"
   ],
   "metadata": {
    "collapsed": false,
    "pycharm": {
     "name": "#%%\n"
    }
   }
  },
  {
   "cell_type": "markdown",
   "source": [],
   "metadata": {
    "collapsed": false
   }
  },
  {
   "cell_type": "markdown",
   "source": [
    "# 규격 추가 데이터"
   ],
   "metadata": {
    "collapsed": false
   }
  },
  {
   "cell_type": "code",
   "execution_count": 46,
   "outputs": [
    {
     "data": {
      "text/plain": "       번호    위도_십진법     경도_십진법      폭    연장\n0    1495  35.36019  128.06375   5.00  45.0\n1    1090  36.71051  127.42222   8.23  38.0\n2    1023  37.41972  127.18750  25.10  13.0\n3    1527  37.61974  127.11887    NaN   NaN\n4    1453  36.40691  129.04714  37.30  12.4\n..    ...       ...        ...    ...   ...\n301  1089  36.71278  127.42056  13.30  50.7\n302  1087  36.71722  127.41778  13.60  38.7\n303  1088  36.71222  127.42528  13.30  50.7\n304  1091  36.76750  127.47333   7.00  20.0\n305  1072  36.65293  127.51278  41.70  59.0\n\n[306 rows x 5 columns]",
      "text/html": "<div>\n<style scoped>\n    .dataframe tbody tr th:only-of-type {\n        vertical-align: middle;\n    }\n\n    .dataframe tbody tr th {\n        vertical-align: top;\n    }\n\n    .dataframe thead th {\n        text-align: right;\n    }\n</style>\n<table border=\"1\" class=\"dataframe\">\n  <thead>\n    <tr style=\"text-align: right;\">\n      <th></th>\n      <th>번호</th>\n      <th>위도_십진법</th>\n      <th>경도_십진법</th>\n      <th>폭</th>\n      <th>연장</th>\n    </tr>\n  </thead>\n  <tbody>\n    <tr>\n      <th>0</th>\n      <td>1495</td>\n      <td>35.36019</td>\n      <td>128.06375</td>\n      <td>5.00</td>\n      <td>45.0</td>\n    </tr>\n    <tr>\n      <th>1</th>\n      <td>1090</td>\n      <td>36.71051</td>\n      <td>127.42222</td>\n      <td>8.23</td>\n      <td>38.0</td>\n    </tr>\n    <tr>\n      <th>2</th>\n      <td>1023</td>\n      <td>37.41972</td>\n      <td>127.18750</td>\n      <td>25.10</td>\n      <td>13.0</td>\n    </tr>\n    <tr>\n      <th>3</th>\n      <td>1527</td>\n      <td>37.61974</td>\n      <td>127.11887</td>\n      <td>NaN</td>\n      <td>NaN</td>\n    </tr>\n    <tr>\n      <th>4</th>\n      <td>1453</td>\n      <td>36.40691</td>\n      <td>129.04714</td>\n      <td>37.30</td>\n      <td>12.4</td>\n    </tr>\n    <tr>\n      <th>...</th>\n      <td>...</td>\n      <td>...</td>\n      <td>...</td>\n      <td>...</td>\n      <td>...</td>\n    </tr>\n    <tr>\n      <th>301</th>\n      <td>1089</td>\n      <td>36.71278</td>\n      <td>127.42056</td>\n      <td>13.30</td>\n      <td>50.7</td>\n    </tr>\n    <tr>\n      <th>302</th>\n      <td>1087</td>\n      <td>36.71722</td>\n      <td>127.41778</td>\n      <td>13.60</td>\n      <td>38.7</td>\n    </tr>\n    <tr>\n      <th>303</th>\n      <td>1088</td>\n      <td>36.71222</td>\n      <td>127.42528</td>\n      <td>13.30</td>\n      <td>50.7</td>\n    </tr>\n    <tr>\n      <th>304</th>\n      <td>1091</td>\n      <td>36.76750</td>\n      <td>127.47333</td>\n      <td>7.00</td>\n      <td>20.0</td>\n    </tr>\n    <tr>\n      <th>305</th>\n      <td>1072</td>\n      <td>36.65293</td>\n      <td>127.51278</td>\n      <td>41.70</td>\n      <td>59.0</td>\n    </tr>\n  </tbody>\n</table>\n<p>306 rows × 5 columns</p>\n</div>"
     },
     "execution_count": 46,
     "metadata": {},
     "output_type": "execute_result"
    }
   ],
   "source": [
    "df = pd.read_csv('../data/main/생태통로_규격계산.csv')\n",
    "df\n",
    "df_worked = df.drop(['Unnamed: 0', '생태통로타입'], axis=1)\n",
    "df_worked = df_worked.rename(columns={'너비_m':'폭'})\n",
    "df_worked = df_worked.rename(columns={'길이_m':'연장'})\n",
    "df_worked"
   ],
   "metadata": {
    "collapsed": false,
    "pycharm": {
     "name": "#%%\n"
    }
   }
  },
  {
   "cell_type": "code",
   "execution_count": 47,
   "outputs": [
    {
     "name": "stdout",
     "output_type": "stream",
     "text": [
      "<class 'pandas.core.frame.DataFrame'>\n",
      "RangeIndex: 306 entries, 0 to 305\n",
      "Data columns (total 5 columns):\n",
      " #   Column  Non-Null Count  Dtype  \n",
      "---  ------  --------------  -----  \n",
      " 0   번호      306 non-null    int64  \n",
      " 1   위도_십진법  306 non-null    float64\n",
      " 2   경도_십진법  306 non-null    float64\n",
      " 3   폭       240 non-null    float64\n",
      " 4   연장      240 non-null    float64\n",
      "dtypes: float64(4), int64(1)\n",
      "memory usage: 12.1 KB\n"
     ]
    }
   ],
   "source": [
    "df_worked.info()"
   ],
   "metadata": {
    "collapsed": false,
    "pycharm": {
     "name": "#%%\n"
    }
   }
  },
  {
   "cell_type": "code",
   "execution_count": 48,
   "outputs": [
    {
     "data": {
      "text/plain": "       번호        위도         경도      폭     연장  높이  개방도\n0    1495  35.36019  128.06375   5.00   45.0 NaN  NaN\n1    1277  37.03408  128.40661    NaN    NaN NaN  NaN\n2    1278  36.89832  128.30563    NaN    NaN NaN  NaN\n3    1279  36.89687  128.30581    NaN    NaN NaN  NaN\n4    1090  36.71051  127.42222   8.23   38.0 NaN  NaN\n..    ...       ...        ...    ...    ...  ..  ...\n492  1089  36.71278  127.42056  13.30   50.7 NaN  NaN\n493  1087  36.71722  127.41778  13.60   38.7 NaN  NaN\n494  1088  36.71222  127.42528  13.30   50.7 NaN  NaN\n495  1091  36.76750  127.47333   7.00   20.0 NaN  NaN\n496  1072  36.65293  127.51278  35.00  100.0 NaN  NaN\n\n[497 rows x 7 columns]",
      "text/html": "<div>\n<style scoped>\n    .dataframe tbody tr th:only-of-type {\n        vertical-align: middle;\n    }\n\n    .dataframe tbody tr th {\n        vertical-align: top;\n    }\n\n    .dataframe thead th {\n        text-align: right;\n    }\n</style>\n<table border=\"1\" class=\"dataframe\">\n  <thead>\n    <tr style=\"text-align: right;\">\n      <th></th>\n      <th>번호</th>\n      <th>위도</th>\n      <th>경도</th>\n      <th>폭</th>\n      <th>연장</th>\n      <th>높이</th>\n      <th>개방도</th>\n    </tr>\n  </thead>\n  <tbody>\n    <tr>\n      <th>0</th>\n      <td>1495</td>\n      <td>35.36019</td>\n      <td>128.06375</td>\n      <td>5.00</td>\n      <td>45.0</td>\n      <td>NaN</td>\n      <td>NaN</td>\n    </tr>\n    <tr>\n      <th>1</th>\n      <td>1277</td>\n      <td>37.03408</td>\n      <td>128.40661</td>\n      <td>NaN</td>\n      <td>NaN</td>\n      <td>NaN</td>\n      <td>NaN</td>\n    </tr>\n    <tr>\n      <th>2</th>\n      <td>1278</td>\n      <td>36.89832</td>\n      <td>128.30563</td>\n      <td>NaN</td>\n      <td>NaN</td>\n      <td>NaN</td>\n      <td>NaN</td>\n    </tr>\n    <tr>\n      <th>3</th>\n      <td>1279</td>\n      <td>36.89687</td>\n      <td>128.30581</td>\n      <td>NaN</td>\n      <td>NaN</td>\n      <td>NaN</td>\n      <td>NaN</td>\n    </tr>\n    <tr>\n      <th>4</th>\n      <td>1090</td>\n      <td>36.71051</td>\n      <td>127.42222</td>\n      <td>8.23</td>\n      <td>38.0</td>\n      <td>NaN</td>\n      <td>NaN</td>\n    </tr>\n    <tr>\n      <th>...</th>\n      <td>...</td>\n      <td>...</td>\n      <td>...</td>\n      <td>...</td>\n      <td>...</td>\n      <td>...</td>\n      <td>...</td>\n    </tr>\n    <tr>\n      <th>492</th>\n      <td>1089</td>\n      <td>36.71278</td>\n      <td>127.42056</td>\n      <td>13.30</td>\n      <td>50.7</td>\n      <td>NaN</td>\n      <td>NaN</td>\n    </tr>\n    <tr>\n      <th>493</th>\n      <td>1087</td>\n      <td>36.71722</td>\n      <td>127.41778</td>\n      <td>13.60</td>\n      <td>38.7</td>\n      <td>NaN</td>\n      <td>NaN</td>\n    </tr>\n    <tr>\n      <th>494</th>\n      <td>1088</td>\n      <td>36.71222</td>\n      <td>127.42528</td>\n      <td>13.30</td>\n      <td>50.7</td>\n      <td>NaN</td>\n      <td>NaN</td>\n    </tr>\n    <tr>\n      <th>495</th>\n      <td>1091</td>\n      <td>36.76750</td>\n      <td>127.47333</td>\n      <td>7.00</td>\n      <td>20.0</td>\n      <td>NaN</td>\n      <td>NaN</td>\n    </tr>\n    <tr>\n      <th>496</th>\n      <td>1072</td>\n      <td>36.65293</td>\n      <td>127.51278</td>\n      <td>35.00</td>\n      <td>100.0</td>\n      <td>NaN</td>\n      <td>NaN</td>\n    </tr>\n  </tbody>\n</table>\n<p>497 rows × 7 columns</p>\n</div>"
     },
     "execution_count": 48,
     "metadata": {},
     "output_type": "execute_result"
    }
   ],
   "source": [
    "df_processed = df_eco.copy()\n",
    "\n",
    "for idx in range(len(df_processed)):\n",
    "    for j in range(len(df_worked)):\n",
    "        # 번호 같은지 확인\n",
    "        if df_processed.iloc[idx, 0] == df_worked.iloc[j,0]:\n",
    "            # 폭, 연장 추가\n",
    "            if np.isnan(df_processed.loc[idx, \"폭\"]):\n",
    "                df_processed.loc[idx, \"폭\"] = df_worked.iloc[j,3]\n",
    "            if np.isnan(df_processed.loc[idx, \"연장\"]):\n",
    "                df_processed.loc[idx, \"연장\"] = df_worked.iloc[j,4]\n",
    "\n",
    "df_processed"
   ],
   "metadata": {
    "collapsed": false,
    "pycharm": {
     "name": "#%%\n"
    }
   }
  },
  {
   "cell_type": "code",
   "execution_count": 49,
   "outputs": [
    {
     "name": "stdout",
     "output_type": "stream",
     "text": [
      "<class 'pandas.core.frame.DataFrame'>\n",
      "RangeIndex: 497 entries, 0 to 496\n",
      "Data columns (total 7 columns):\n",
      " #   Column  Non-Null Count  Dtype  \n",
      "---  ------  --------------  -----  \n",
      " 0   번호      497 non-null    int64  \n",
      " 1   위도      497 non-null    float64\n",
      " 2   경도      497 non-null    float64\n",
      " 3   폭       318 non-null    float64\n",
      " 4   연장      318 non-null    float64\n",
      " 5   높이      43 non-null     float64\n",
      " 6   개방도     43 non-null     float64\n",
      "dtypes: float64(6), int64(1)\n",
      "memory usage: 27.3 KB\n"
     ]
    }
   ],
   "source": [
    "df_processed.info()"
   ],
   "metadata": {
    "collapsed": false,
    "pycharm": {
     "name": "#%%\n"
    }
   }
  },
  {
   "cell_type": "markdown",
   "source": [
    "# merge"
   ],
   "metadata": {
    "collapsed": false
   }
  },
  {
   "cell_type": "code",
   "execution_count": 50,
   "outputs": [
    {
     "name": "stdout",
     "output_type": "stream",
     "text": [
      "<class 'pandas.core.frame.DataFrame'>\n",
      "Int64Index: 505 entries, 0 to 516\n",
      "Data columns (total 8 columns):\n",
      " #   Column    Non-Null Count  Dtype \n",
      "---  ------    --------------  ----- \n",
      " 0   번호        505 non-null    int64 \n",
      " 1   생태통로명     383 non-null    object\n",
      " 2   차선_수      505 non-null    int64 \n",
      " 3   생태통로타입    505 non-null    int64 \n",
      " 4   등산객이용빈도   505 non-null    int64 \n",
      " 5   생태통로효율성   505 non-null    int64 \n",
      " 6   이용확인종     215 non-null    object\n",
      " 7   이용확인 종 수  505 non-null    int64 \n",
      "dtypes: int64(6), object(2)\n",
      "memory usage: 35.5+ KB\n"
     ]
    }
   ],
   "source": [
    "df_main.info()"
   ],
   "metadata": {
    "collapsed": false,
    "pycharm": {
     "name": "#%%\n"
    }
   }
  },
  {
   "cell_type": "code",
   "execution_count": 51,
   "outputs": [
    {
     "name": "stdout",
     "output_type": "stream",
     "text": [
      "<class 'pandas.core.frame.DataFrame'>\n",
      "RangeIndex: 497 entries, 0 to 496\n",
      "Data columns (total 7 columns):\n",
      " #   Column  Non-Null Count  Dtype  \n",
      "---  ------  --------------  -----  \n",
      " 0   번호      497 non-null    int64  \n",
      " 1   위도      497 non-null    float64\n",
      " 2   경도      497 non-null    float64\n",
      " 3   폭       318 non-null    float64\n",
      " 4   연장      318 non-null    float64\n",
      " 5   높이      43 non-null     float64\n",
      " 6   개방도     43 non-null     float64\n",
      "dtypes: float64(6), int64(1)\n",
      "memory usage: 27.3 KB\n"
     ]
    }
   ],
   "source": [
    "df_processed.info()"
   ],
   "metadata": {
    "collapsed": false,
    "pycharm": {
     "name": "#%%\n"
    }
   }
  },
  {
   "cell_type": "code",
   "execution_count": 53,
   "outputs": [
    {
     "data": {
      "text/plain": "       번호        위도         경도      폭     연장  높이  개방도 생태통로명  차선_수  생태통로타입  \\\n0    1495  35.36019  128.06375   5.00   45.0 NaN  NaN  가계통로     4       0   \n1    1277  37.03408  128.40661    NaN    NaN NaN  NaN   가대리     2       1   \n2    1278  36.89832  128.30563    NaN    NaN NaN  NaN   가산리     2       1   \n3    1279  36.89687  128.30581    NaN    NaN NaN  NaN  가산리2     2       1   \n4    1090  36.71051  127.42222   8.23   38.0 NaN  NaN    각리     6       0   \n..    ...       ...        ...    ...    ...  ..  ...   ...   ...     ...   \n492  1089  36.71278  127.42056  13.30   50.7 NaN  NaN   NaN     6       0   \n493  1087  36.71722  127.41778  13.60   38.7 NaN  NaN   NaN     4       0   \n494  1088  36.71222  127.42528  13.30   50.7 NaN  NaN   NaN     4       0   \n495  1091  36.76750  127.47333   7.00   20.0 NaN  NaN   NaN     2       0   \n496  1072  36.65293  127.51278  35.00  100.0 NaN  NaN   NaN     6       0   \n\n     등산객이용빈도  생태통로효율성        이용확인종  이용확인 종 수  \n0          1        3         None         0  \n1          0        3         None         0  \n2          0        1  고라니 멧돼지 파충류         3  \n3          0        1  고라니 멧돼지 파충류         3  \n4          5        1    개 고양이 다람쥐         3  \n..       ...      ...          ...       ...  \n492        0        0      고라니 멧돼지         2  \n493        5        0      고라니 멧돼지         2  \n494        5        0      고라니 멧돼지         2  \n495        0        0      멧돼지 고라니         2  \n496        5        0      고라니 멧돼지         2  \n\n[497 rows x 14 columns]",
      "text/html": "<div>\n<style scoped>\n    .dataframe tbody tr th:only-of-type {\n        vertical-align: middle;\n    }\n\n    .dataframe tbody tr th {\n        vertical-align: top;\n    }\n\n    .dataframe thead th {\n        text-align: right;\n    }\n</style>\n<table border=\"1\" class=\"dataframe\">\n  <thead>\n    <tr style=\"text-align: right;\">\n      <th></th>\n      <th>번호</th>\n      <th>위도</th>\n      <th>경도</th>\n      <th>폭</th>\n      <th>연장</th>\n      <th>높이</th>\n      <th>개방도</th>\n      <th>생태통로명</th>\n      <th>차선_수</th>\n      <th>생태통로타입</th>\n      <th>등산객이용빈도</th>\n      <th>생태통로효율성</th>\n      <th>이용확인종</th>\n      <th>이용확인 종 수</th>\n    </tr>\n  </thead>\n  <tbody>\n    <tr>\n      <th>0</th>\n      <td>1495</td>\n      <td>35.36019</td>\n      <td>128.06375</td>\n      <td>5.00</td>\n      <td>45.0</td>\n      <td>NaN</td>\n      <td>NaN</td>\n      <td>가계통로</td>\n      <td>4</td>\n      <td>0</td>\n      <td>1</td>\n      <td>3</td>\n      <td>None</td>\n      <td>0</td>\n    </tr>\n    <tr>\n      <th>1</th>\n      <td>1277</td>\n      <td>37.03408</td>\n      <td>128.40661</td>\n      <td>NaN</td>\n      <td>NaN</td>\n      <td>NaN</td>\n      <td>NaN</td>\n      <td>가대리</td>\n      <td>2</td>\n      <td>1</td>\n      <td>0</td>\n      <td>3</td>\n      <td>None</td>\n      <td>0</td>\n    </tr>\n    <tr>\n      <th>2</th>\n      <td>1278</td>\n      <td>36.89832</td>\n      <td>128.30563</td>\n      <td>NaN</td>\n      <td>NaN</td>\n      <td>NaN</td>\n      <td>NaN</td>\n      <td>가산리</td>\n      <td>2</td>\n      <td>1</td>\n      <td>0</td>\n      <td>1</td>\n      <td>고라니 멧돼지 파충류</td>\n      <td>3</td>\n    </tr>\n    <tr>\n      <th>3</th>\n      <td>1279</td>\n      <td>36.89687</td>\n      <td>128.30581</td>\n      <td>NaN</td>\n      <td>NaN</td>\n      <td>NaN</td>\n      <td>NaN</td>\n      <td>가산리2</td>\n      <td>2</td>\n      <td>1</td>\n      <td>0</td>\n      <td>1</td>\n      <td>고라니 멧돼지 파충류</td>\n      <td>3</td>\n    </tr>\n    <tr>\n      <th>4</th>\n      <td>1090</td>\n      <td>36.71051</td>\n      <td>127.42222</td>\n      <td>8.23</td>\n      <td>38.0</td>\n      <td>NaN</td>\n      <td>NaN</td>\n      <td>각리</td>\n      <td>6</td>\n      <td>0</td>\n      <td>5</td>\n      <td>1</td>\n      <td>개 고양이 다람쥐</td>\n      <td>3</td>\n    </tr>\n    <tr>\n      <th>...</th>\n      <td>...</td>\n      <td>...</td>\n      <td>...</td>\n      <td>...</td>\n      <td>...</td>\n      <td>...</td>\n      <td>...</td>\n      <td>...</td>\n      <td>...</td>\n      <td>...</td>\n      <td>...</td>\n      <td>...</td>\n      <td>...</td>\n      <td>...</td>\n    </tr>\n    <tr>\n      <th>492</th>\n      <td>1089</td>\n      <td>36.71278</td>\n      <td>127.42056</td>\n      <td>13.30</td>\n      <td>50.7</td>\n      <td>NaN</td>\n      <td>NaN</td>\n      <td>NaN</td>\n      <td>6</td>\n      <td>0</td>\n      <td>0</td>\n      <td>0</td>\n      <td>고라니 멧돼지</td>\n      <td>2</td>\n    </tr>\n    <tr>\n      <th>493</th>\n      <td>1087</td>\n      <td>36.71722</td>\n      <td>127.41778</td>\n      <td>13.60</td>\n      <td>38.7</td>\n      <td>NaN</td>\n      <td>NaN</td>\n      <td>NaN</td>\n      <td>4</td>\n      <td>0</td>\n      <td>5</td>\n      <td>0</td>\n      <td>고라니 멧돼지</td>\n      <td>2</td>\n    </tr>\n    <tr>\n      <th>494</th>\n      <td>1088</td>\n      <td>36.71222</td>\n      <td>127.42528</td>\n      <td>13.30</td>\n      <td>50.7</td>\n      <td>NaN</td>\n      <td>NaN</td>\n      <td>NaN</td>\n      <td>4</td>\n      <td>0</td>\n      <td>5</td>\n      <td>0</td>\n      <td>고라니 멧돼지</td>\n      <td>2</td>\n    </tr>\n    <tr>\n      <th>495</th>\n      <td>1091</td>\n      <td>36.76750</td>\n      <td>127.47333</td>\n      <td>7.00</td>\n      <td>20.0</td>\n      <td>NaN</td>\n      <td>NaN</td>\n      <td>NaN</td>\n      <td>2</td>\n      <td>0</td>\n      <td>0</td>\n      <td>0</td>\n      <td>멧돼지 고라니</td>\n      <td>2</td>\n    </tr>\n    <tr>\n      <th>496</th>\n      <td>1072</td>\n      <td>36.65293</td>\n      <td>127.51278</td>\n      <td>35.00</td>\n      <td>100.0</td>\n      <td>NaN</td>\n      <td>NaN</td>\n      <td>NaN</td>\n      <td>6</td>\n      <td>0</td>\n      <td>5</td>\n      <td>0</td>\n      <td>고라니 멧돼지</td>\n      <td>2</td>\n    </tr>\n  </tbody>\n</table>\n<p>497 rows × 14 columns</p>\n</div>"
     },
     "execution_count": 53,
     "metadata": {},
     "output_type": "execute_result"
    }
   ],
   "source": [
    "df_merge = pd.merge(df_processed, df_main, on='번호', how='left')\n",
    "df_merge"
   ],
   "metadata": {
    "collapsed": false,
    "pycharm": {
     "name": "#%%\n"
    }
   }
  },
  {
   "cell_type": "code",
   "execution_count": 54,
   "outputs": [],
   "source": [
    "df_merge.drop(['생태통로명', '이용확인종', '이용확인 종 수'], axis=1, inplace=True)"
   ],
   "metadata": {
    "collapsed": false,
    "pycharm": {
     "name": "#%%\n"
    }
   }
  },
  {
   "cell_type": "code",
   "execution_count": 55,
   "outputs": [
    {
     "name": "stdout",
     "output_type": "stream",
     "text": [
      "<class 'pandas.core.frame.DataFrame'>\n",
      "Int64Index: 497 entries, 0 to 496\n",
      "Data columns (total 11 columns):\n",
      " #   Column   Non-Null Count  Dtype  \n",
      "---  ------   --------------  -----  \n",
      " 0   번호       497 non-null    int64  \n",
      " 1   위도       497 non-null    float64\n",
      " 2   경도       497 non-null    float64\n",
      " 3   폭        318 non-null    float64\n",
      " 4   연장       318 non-null    float64\n",
      " 5   높이       43 non-null     float64\n",
      " 6   개방도      43 non-null     float64\n",
      " 7   차선_수     497 non-null    int64  \n",
      " 8   생태통로타입   497 non-null    int64  \n",
      " 9   등산객이용빈도  497 non-null    int64  \n",
      " 10  생태통로효율성  497 non-null    int64  \n",
      "dtypes: float64(6), int64(5)\n",
      "memory usage: 46.6 KB\n"
     ]
    }
   ],
   "source": [
    "df_merge.info()"
   ],
   "metadata": {
    "collapsed": false,
    "pycharm": {
     "name": "#%%\n"
    }
   }
  },
  {
   "cell_type": "code",
   "execution_count": 56,
   "outputs": [],
   "source": [
    "upload_data_to_rds(df_merge, '생태통로', db_connection)"
   ],
   "metadata": {
    "collapsed": false,
    "pycharm": {
     "name": "#%%\n"
    }
   }
  },
  {
   "cell_type": "code",
   "execution_count": 37,
   "outputs": [],
   "source": [],
   "metadata": {
    "collapsed": false,
    "pycharm": {
     "name": "#%%\n"
    }
   }
  }
 ],
 "metadata": {
  "kernelspec": {
   "display_name": "Python 3",
   "language": "python",
   "name": "python3"
  },
  "language_info": {
   "codemirror_mode": {
    "name": "ipython",
    "version": 2
   },
   "file_extension": ".py",
   "mimetype": "text/x-python",
   "name": "python",
   "nbconvert_exporter": "python",
   "pygments_lexer": "ipython2",
   "version": "2.7.6"
  }
 },
 "nbformat": 4,
 "nbformat_minor": 0
}