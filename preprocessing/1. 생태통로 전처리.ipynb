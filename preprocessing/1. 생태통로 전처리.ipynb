{
 "cells": [
  {
   "cell_type": "code",
   "execution_count": 1,
   "metadata": {
    "collapsed": true
   },
   "outputs": [],
   "source": [
    "import pandas as pd\n",
    "import numpy as np\n",
    "from DB import *\n",
    "\n",
    "db_connection = connect_db()"
   ]
  },
  {
   "cell_type": "code",
   "execution_count": 22,
   "outputs": [
    {
     "data": {
      "text/plain": "       번호 생태통로명                        주소     도로명               도로번호   차선_수  \\\n0    1495  가계통로  경상남도 산청군 생비량면 가계리 산279-3    일반국도               20호선  왕복4차선   \n1    1277   가대리          충청북도 단양군 가곡면 가대리      국도               59호선  왕복2차선   \n2    1278   가산리          충청북도 단양군 단성면 가산리      국도               59호선  왕복2차선   \n3    1279  가산리2          충청북도 단양군 단성면 가산리      국도               59호선  왕복2차선   \n4    1090    각리           충청북도 청원군 오창읍 각리     지방도               540호  왕복6차선   \n..    ...   ...                       ...     ...                ...    ...   \n512  1089   NaN       충청북도 청주시 청원구 오창읍 각리  과학산업2로           구룡리 472도  왕복6차선   \n513  1087   NaN      충청북도 청주시 청원구 오창읍 구룡리   오창공원로           구룡리 442도  왕복4차선   \n514  1088   NaN      충청북도 청주시 청원구 오창읍 양청리   오창공원로  양청리 882도(호수공원 주변)  왕복4차선   \n515  1091   NaN      충청북도 청주시 청원구 오창읍 여천리      리도              213호선  왕복2차선   \n516  1072   NaN          충청북도 청주시 청원구 율량동    1순환로           산 128-1도  왕복6차선   \n\n     위도_도  위도_분       위도_초  경도_도  ...           생태통로좌표(경도)  \\\n0      35  21.0  36.680000   128  ...     경도 128도 3분 49.5초   \n1      37   2.0   2.700000   128  ...    경도 128도 24분 23.8초   \n2      36  53.0  53.957576   128  ...  경도 128도 18분 20.275초   \n3      36  53.0  48.718150   128  ...  경도 128도 18분 20.917초   \n4      36  42.0  48.100000   127  ...    경도 127도 25분 19.2초   \n..    ...   ...        ...   ...  ...                  ...   \n512    36  42.0  46.000000   127  ...    경도 127도 25분 14.0초   \n513    36  43.0   2.000000   127  ...     경도 127도 25분 4.0초   \n514    36  42.0  44.000000   127  ...    경도 127도 25분 31.0초   \n515    36  46.0   3.000000   127  ...    경도 127도 28분 24.0초   \n516    36  39.0  10.550000   127  ...    경도 127도 30분 46.0초   \n\n                        모니터링기간       수행기관       수행자  모니터링방법  등산객이용빈도  \\\n0    2017.07.17. ~ 2017.07.28.  진주국토관리사무소       박상훈     NaN    극히 적음   \n1    2016.01.01. ~ 2016.09.20.    도로관리사업소       박찬일     NaN      NaN   \n2    2016.01.01. ~ 2016.09.20.    도로관리사업소       박찬일     NaN      NaN   \n3    2016.01.01. ~ 2016.09.20.    도로관리사업소       박찬일     NaN      NaN   \n4    2016.09.01. ~ 2016.09.30.  충북도로관리사업소       문민규     NaN    매일 다수   \n..                         ...        ...       ...     ...      ...   \n512  2016.09.26. ~ 2016.09.30.       청원구청  박태동 외 1인     NaN      NaN   \n513  2016.09.26. ~ 2016.09.30.        청원구  박태동 외 1인     NaN    매일 다수   \n514  2016.09.26. ~ 2016.09.30.       청원구청  박태동 외 1인     NaN    매일 다수   \n515  2016.09.26. ~ 2016.09.30.       청원구청  박태동 외 1인     NaN      NaN   \n516  2016.09.26. ~ 2016.09.30.        청주시  박태동 외 1인     NaN    매일 다수   \n\n                                  모니터링신뢰도            생태통로효율성  \\\n0          추가 조사가 있어야 본 생태통로의 효율성 판단이 가능함              판단 불가   \n1          추가 조사가 있어야 본 생태통로의 효율성 판단이 가능함              판단 불가   \n2          추가 조사가 있어야 본 생태통로의 효율성 판단이 가능함              판단 불가   \n3          추가 조사가 있어야 본 생태통로의 효율성 판단이 가능함              판단 불가   \n4          추가 조사가 있어야 본 생태통로의 효율성 판단이 가능함  보통(주 35회 야생동물 이용)   \n..                                    ...                ...   \n512  금번 조사는 본 생태통로의 효율성에 대한 판단이 가능한 수준이었음              판단 불가   \n513  금번 조사는 본 생태통로의 효율성에 대한 판단이 가능한 수준이었음              판단 불가   \n514  금번 조사는 본 생태통로의 효율성에 대한 판단이 가능한 수준이었음              판단 불가   \n515  금번 조사는 본 생태통로의 효율성에 대한 판단이 가능한 수준이었음              판단 불가   \n516  금번 조사는 본 생태통로의 효율성에 대한 판단이 가능한 수준이었음              판단 불가   \n\n                               이용확인종,이용빈도높은종,멸종위기종이용빈도  개선필요사항  \n0                                                  NaN     NaN  \n1                                                  NaN     NaN  \n2    종명:  고라니 이용확인종: 1 이용빈도 순위: 멸종위기종 이용빈도 :\\n종명:  ...     NaN  \n3    종명:  고라니 이용확인종: 1 이용빈도 순위: 멸종위기종 이용빈도 :\\n종명:  ...     NaN  \n4    종명:  개 이용확인종: 1 이용빈도 순위: 멸종위기종 이용빈도 :\\n종명:  고양...  #NAME?  \n..                                                 ...     ...  \n512  종명:  고라니 이용확인종: 1 이용빈도 순위: 멸종위기종 이용빈도 :\\n종명:  ...  #NAME?  \n513  종명:  고라니 이용확인종: 1 이용빈도 순위: 멸종위기종 이용빈도 :\\n종명:  ...  #NAME?  \n514  종명:  고라니 이용확인종: 1 이용빈도 순위: 멸종위기종 이용빈도 :\\n종명:  ...  #NAME?  \n515  종명:  멧돼지 이용확인종: 1 이용빈도 순위: 멸종위기종 이용빈도 :\\n종명:  ...  #NAME?  \n516  종명:  고라니 이용확인종: 1 이용빈도 순위: 멸종위기종 이용빈도 :\\n종명:  ...  #NAME?  \n\n[517 rows x 33 columns]",
      "text/html": "<div>\n<style scoped>\n    .dataframe tbody tr th:only-of-type {\n        vertical-align: middle;\n    }\n\n    .dataframe tbody tr th {\n        vertical-align: top;\n    }\n\n    .dataframe thead th {\n        text-align: right;\n    }\n</style>\n<table border=\"1\" class=\"dataframe\">\n  <thead>\n    <tr style=\"text-align: right;\">\n      <th></th>\n      <th>번호</th>\n      <th>생태통로명</th>\n      <th>주소</th>\n      <th>도로명</th>\n      <th>도로번호</th>\n      <th>차선_수</th>\n      <th>위도_도</th>\n      <th>위도_분</th>\n      <th>위도_초</th>\n      <th>경도_도</th>\n      <th>...</th>\n      <th>생태통로좌표(경도)</th>\n      <th>모니터링기간</th>\n      <th>수행기관</th>\n      <th>수행자</th>\n      <th>모니터링방법</th>\n      <th>등산객이용빈도</th>\n      <th>모니터링신뢰도</th>\n      <th>생태통로효율성</th>\n      <th>이용확인종,이용빈도높은종,멸종위기종이용빈도</th>\n      <th>개선필요사항</th>\n    </tr>\n  </thead>\n  <tbody>\n    <tr>\n      <th>0</th>\n      <td>1495</td>\n      <td>가계통로</td>\n      <td>경상남도 산청군 생비량면 가계리 산279-3</td>\n      <td>일반국도</td>\n      <td>20호선</td>\n      <td>왕복4차선</td>\n      <td>35</td>\n      <td>21.0</td>\n      <td>36.680000</td>\n      <td>128</td>\n      <td>...</td>\n      <td>경도 128도 3분 49.5초</td>\n      <td>2017.07.17. ~ 2017.07.28.</td>\n      <td>진주국토관리사무소</td>\n      <td>박상훈</td>\n      <td>NaN</td>\n      <td>극히 적음</td>\n      <td>추가 조사가 있어야 본 생태통로의 효율성 판단이 가능함</td>\n      <td>판단 불가</td>\n      <td>NaN</td>\n      <td>NaN</td>\n    </tr>\n    <tr>\n      <th>1</th>\n      <td>1277</td>\n      <td>가대리</td>\n      <td>충청북도 단양군 가곡면 가대리</td>\n      <td>국도</td>\n      <td>59호선</td>\n      <td>왕복2차선</td>\n      <td>37</td>\n      <td>2.0</td>\n      <td>2.700000</td>\n      <td>128</td>\n      <td>...</td>\n      <td>경도 128도 24분 23.8초</td>\n      <td>2016.01.01. ~ 2016.09.20.</td>\n      <td>도로관리사업소</td>\n      <td>박찬일</td>\n      <td>NaN</td>\n      <td>NaN</td>\n      <td>추가 조사가 있어야 본 생태통로의 효율성 판단이 가능함</td>\n      <td>판단 불가</td>\n      <td>NaN</td>\n      <td>NaN</td>\n    </tr>\n    <tr>\n      <th>2</th>\n      <td>1278</td>\n      <td>가산리</td>\n      <td>충청북도 단양군 단성면 가산리</td>\n      <td>국도</td>\n      <td>59호선</td>\n      <td>왕복2차선</td>\n      <td>36</td>\n      <td>53.0</td>\n      <td>53.957576</td>\n      <td>128</td>\n      <td>...</td>\n      <td>경도 128도 18분 20.275초</td>\n      <td>2016.01.01. ~ 2016.09.20.</td>\n      <td>도로관리사업소</td>\n      <td>박찬일</td>\n      <td>NaN</td>\n      <td>NaN</td>\n      <td>추가 조사가 있어야 본 생태통로의 효율성 판단이 가능함</td>\n      <td>판단 불가</td>\n      <td>종명:  고라니 이용확인종: 1 이용빈도 순위: 멸종위기종 이용빈도 :\\n종명:  ...</td>\n      <td>NaN</td>\n    </tr>\n    <tr>\n      <th>3</th>\n      <td>1279</td>\n      <td>가산리2</td>\n      <td>충청북도 단양군 단성면 가산리</td>\n      <td>국도</td>\n      <td>59호선</td>\n      <td>왕복2차선</td>\n      <td>36</td>\n      <td>53.0</td>\n      <td>48.718150</td>\n      <td>128</td>\n      <td>...</td>\n      <td>경도 128도 18분 20.917초</td>\n      <td>2016.01.01. ~ 2016.09.20.</td>\n      <td>도로관리사업소</td>\n      <td>박찬일</td>\n      <td>NaN</td>\n      <td>NaN</td>\n      <td>추가 조사가 있어야 본 생태통로의 효율성 판단이 가능함</td>\n      <td>판단 불가</td>\n      <td>종명:  고라니 이용확인종: 1 이용빈도 순위: 멸종위기종 이용빈도 :\\n종명:  ...</td>\n      <td>NaN</td>\n    </tr>\n    <tr>\n      <th>4</th>\n      <td>1090</td>\n      <td>각리</td>\n      <td>충청북도 청원군 오창읍 각리</td>\n      <td>지방도</td>\n      <td>540호</td>\n      <td>왕복6차선</td>\n      <td>36</td>\n      <td>42.0</td>\n      <td>48.100000</td>\n      <td>127</td>\n      <td>...</td>\n      <td>경도 127도 25분 19.2초</td>\n      <td>2016.09.01. ~ 2016.09.30.</td>\n      <td>충북도로관리사업소</td>\n      <td>문민규</td>\n      <td>NaN</td>\n      <td>매일 다수</td>\n      <td>추가 조사가 있어야 본 생태통로의 효율성 판단이 가능함</td>\n      <td>보통(주 35회 야생동물 이용)</td>\n      <td>종명:  개 이용확인종: 1 이용빈도 순위: 멸종위기종 이용빈도 :\\n종명:  고양...</td>\n      <td>#NAME?</td>\n    </tr>\n    <tr>\n      <th>...</th>\n      <td>...</td>\n      <td>...</td>\n      <td>...</td>\n      <td>...</td>\n      <td>...</td>\n      <td>...</td>\n      <td>...</td>\n      <td>...</td>\n      <td>...</td>\n      <td>...</td>\n      <td>...</td>\n      <td>...</td>\n      <td>...</td>\n      <td>...</td>\n      <td>...</td>\n      <td>...</td>\n      <td>...</td>\n      <td>...</td>\n      <td>...</td>\n      <td>...</td>\n      <td>...</td>\n    </tr>\n    <tr>\n      <th>512</th>\n      <td>1089</td>\n      <td>NaN</td>\n      <td>충청북도 청주시 청원구 오창읍 각리</td>\n      <td>과학산업2로</td>\n      <td>구룡리 472도</td>\n      <td>왕복6차선</td>\n      <td>36</td>\n      <td>42.0</td>\n      <td>46.000000</td>\n      <td>127</td>\n      <td>...</td>\n      <td>경도 127도 25분 14.0초</td>\n      <td>2016.09.26. ~ 2016.09.30.</td>\n      <td>청원구청</td>\n      <td>박태동 외 1인</td>\n      <td>NaN</td>\n      <td>NaN</td>\n      <td>금번 조사는 본 생태통로의 효율성에 대한 판단이 가능한 수준이었음</td>\n      <td>판단 불가</td>\n      <td>종명:  고라니 이용확인종: 1 이용빈도 순위: 멸종위기종 이용빈도 :\\n종명:  ...</td>\n      <td>#NAME?</td>\n    </tr>\n    <tr>\n      <th>513</th>\n      <td>1087</td>\n      <td>NaN</td>\n      <td>충청북도 청주시 청원구 오창읍 구룡리</td>\n      <td>오창공원로</td>\n      <td>구룡리 442도</td>\n      <td>왕복4차선</td>\n      <td>36</td>\n      <td>43.0</td>\n      <td>2.000000</td>\n      <td>127</td>\n      <td>...</td>\n      <td>경도 127도 25분 4.0초</td>\n      <td>2016.09.26. ~ 2016.09.30.</td>\n      <td>청원구</td>\n      <td>박태동 외 1인</td>\n      <td>NaN</td>\n      <td>매일 다수</td>\n      <td>금번 조사는 본 생태통로의 효율성에 대한 판단이 가능한 수준이었음</td>\n      <td>판단 불가</td>\n      <td>종명:  고라니 이용확인종: 1 이용빈도 순위: 멸종위기종 이용빈도 :\\n종명:  ...</td>\n      <td>#NAME?</td>\n    </tr>\n    <tr>\n      <th>514</th>\n      <td>1088</td>\n      <td>NaN</td>\n      <td>충청북도 청주시 청원구 오창읍 양청리</td>\n      <td>오창공원로</td>\n      <td>양청리 882도(호수공원 주변)</td>\n      <td>왕복4차선</td>\n      <td>36</td>\n      <td>42.0</td>\n      <td>44.000000</td>\n      <td>127</td>\n      <td>...</td>\n      <td>경도 127도 25분 31.0초</td>\n      <td>2016.09.26. ~ 2016.09.30.</td>\n      <td>청원구청</td>\n      <td>박태동 외 1인</td>\n      <td>NaN</td>\n      <td>매일 다수</td>\n      <td>금번 조사는 본 생태통로의 효율성에 대한 판단이 가능한 수준이었음</td>\n      <td>판단 불가</td>\n      <td>종명:  고라니 이용확인종: 1 이용빈도 순위: 멸종위기종 이용빈도 :\\n종명:  ...</td>\n      <td>#NAME?</td>\n    </tr>\n    <tr>\n      <th>515</th>\n      <td>1091</td>\n      <td>NaN</td>\n      <td>충청북도 청주시 청원구 오창읍 여천리</td>\n      <td>리도</td>\n      <td>213호선</td>\n      <td>왕복2차선</td>\n      <td>36</td>\n      <td>46.0</td>\n      <td>3.000000</td>\n      <td>127</td>\n      <td>...</td>\n      <td>경도 127도 28분 24.0초</td>\n      <td>2016.09.26. ~ 2016.09.30.</td>\n      <td>청원구청</td>\n      <td>박태동 외 1인</td>\n      <td>NaN</td>\n      <td>NaN</td>\n      <td>금번 조사는 본 생태통로의 효율성에 대한 판단이 가능한 수준이었음</td>\n      <td>판단 불가</td>\n      <td>종명:  멧돼지 이용확인종: 1 이용빈도 순위: 멸종위기종 이용빈도 :\\n종명:  ...</td>\n      <td>#NAME?</td>\n    </tr>\n    <tr>\n      <th>516</th>\n      <td>1072</td>\n      <td>NaN</td>\n      <td>충청북도 청주시 청원구 율량동</td>\n      <td>1순환로</td>\n      <td>산 128-1도</td>\n      <td>왕복6차선</td>\n      <td>36</td>\n      <td>39.0</td>\n      <td>10.550000</td>\n      <td>127</td>\n      <td>...</td>\n      <td>경도 127도 30분 46.0초</td>\n      <td>2016.09.26. ~ 2016.09.30.</td>\n      <td>청주시</td>\n      <td>박태동 외 1인</td>\n      <td>NaN</td>\n      <td>매일 다수</td>\n      <td>금번 조사는 본 생태통로의 효율성에 대한 판단이 가능한 수준이었음</td>\n      <td>판단 불가</td>\n      <td>종명:  고라니 이용확인종: 1 이용빈도 순위: 멸종위기종 이용빈도 :\\n종명:  ...</td>\n      <td>#NAME?</td>\n    </tr>\n  </tbody>\n</table>\n<p>517 rows × 33 columns</p>\n</div>"
     },
     "execution_count": 22,
     "metadata": {},
     "output_type": "execute_result"
    }
   ],
   "source": [
    "df = pd.read_csv('.././data/main/main_수정.csv')\n",
    "df"
   ],
   "metadata": {
    "collapsed": false,
    "pycharm": {
     "name": "#%%\n"
    }
   }
  },
  {
   "cell_type": "code",
   "execution_count": 23,
   "outputs": [
    {
     "data": {
      "text/plain": "       번호 생태통로명   차선_수 생태통로타입 등산객이용빈도            생태통로효율성  \\\n0    1495  가계통로  왕복4차선    육교형   극히 적음              판단 불가   \n1    1277   가대리  왕복2차선    터널형     NaN              판단 불가   \n2    1278   가산리  왕복2차선    터널형     NaN              판단 불가   \n3    1279  가산리2  왕복2차선    터널형     NaN              판단 불가   \n4    1090    각리  왕복6차선    육교형   매일 다수  보통(주 35회 야생동물 이용)   \n..    ...   ...    ...    ...     ...                ...   \n512  1089   NaN  왕복6차선    육교형     NaN              판단 불가   \n513  1087   NaN  왕복4차선    육교형   매일 다수              판단 불가   \n514  1088   NaN  왕복4차선    육교형   매일 다수              판단 불가   \n515  1091   NaN  왕복2차선    육교형     NaN              판단 불가   \n516  1072   NaN  왕복6차선    육교형   매일 다수              판단 불가   \n\n                               이용확인종,이용빈도높은종,멸종위기종이용빈도  \n0                                                  NaN  \n1                                                  NaN  \n2    종명:  고라니 이용확인종: 1 이용빈도 순위: 멸종위기종 이용빈도 :\\n종명:  ...  \n3    종명:  고라니 이용확인종: 1 이용빈도 순위: 멸종위기종 이용빈도 :\\n종명:  ...  \n4    종명:  개 이용확인종: 1 이용빈도 순위: 멸종위기종 이용빈도 :\\n종명:  고양...  \n..                                                 ...  \n512  종명:  고라니 이용확인종: 1 이용빈도 순위: 멸종위기종 이용빈도 :\\n종명:  ...  \n513  종명:  고라니 이용확인종: 1 이용빈도 순위: 멸종위기종 이용빈도 :\\n종명:  ...  \n514  종명:  고라니 이용확인종: 1 이용빈도 순위: 멸종위기종 이용빈도 :\\n종명:  ...  \n515  종명:  멧돼지 이용확인종: 1 이용빈도 순위: 멸종위기종 이용빈도 :\\n종명:  ...  \n516  종명:  고라니 이용확인종: 1 이용빈도 순위: 멸종위기종 이용빈도 :\\n종명:  ...  \n\n[517 rows x 7 columns]",
      "text/html": "<div>\n<style scoped>\n    .dataframe tbody tr th:only-of-type {\n        vertical-align: middle;\n    }\n\n    .dataframe tbody tr th {\n        vertical-align: top;\n    }\n\n    .dataframe thead th {\n        text-align: right;\n    }\n</style>\n<table border=\"1\" class=\"dataframe\">\n  <thead>\n    <tr style=\"text-align: right;\">\n      <th></th>\n      <th>번호</th>\n      <th>생태통로명</th>\n      <th>차선_수</th>\n      <th>생태통로타입</th>\n      <th>등산객이용빈도</th>\n      <th>생태통로효율성</th>\n      <th>이용확인종,이용빈도높은종,멸종위기종이용빈도</th>\n    </tr>\n  </thead>\n  <tbody>\n    <tr>\n      <th>0</th>\n      <td>1495</td>\n      <td>가계통로</td>\n      <td>왕복4차선</td>\n      <td>육교형</td>\n      <td>극히 적음</td>\n      <td>판단 불가</td>\n      <td>NaN</td>\n    </tr>\n    <tr>\n      <th>1</th>\n      <td>1277</td>\n      <td>가대리</td>\n      <td>왕복2차선</td>\n      <td>터널형</td>\n      <td>NaN</td>\n      <td>판단 불가</td>\n      <td>NaN</td>\n    </tr>\n    <tr>\n      <th>2</th>\n      <td>1278</td>\n      <td>가산리</td>\n      <td>왕복2차선</td>\n      <td>터널형</td>\n      <td>NaN</td>\n      <td>판단 불가</td>\n      <td>종명:  고라니 이용확인종: 1 이용빈도 순위: 멸종위기종 이용빈도 :\\n종명:  ...</td>\n    </tr>\n    <tr>\n      <th>3</th>\n      <td>1279</td>\n      <td>가산리2</td>\n      <td>왕복2차선</td>\n      <td>터널형</td>\n      <td>NaN</td>\n      <td>판단 불가</td>\n      <td>종명:  고라니 이용확인종: 1 이용빈도 순위: 멸종위기종 이용빈도 :\\n종명:  ...</td>\n    </tr>\n    <tr>\n      <th>4</th>\n      <td>1090</td>\n      <td>각리</td>\n      <td>왕복6차선</td>\n      <td>육교형</td>\n      <td>매일 다수</td>\n      <td>보통(주 35회 야생동물 이용)</td>\n      <td>종명:  개 이용확인종: 1 이용빈도 순위: 멸종위기종 이용빈도 :\\n종명:  고양...</td>\n    </tr>\n    <tr>\n      <th>...</th>\n      <td>...</td>\n      <td>...</td>\n      <td>...</td>\n      <td>...</td>\n      <td>...</td>\n      <td>...</td>\n      <td>...</td>\n    </tr>\n    <tr>\n      <th>512</th>\n      <td>1089</td>\n      <td>NaN</td>\n      <td>왕복6차선</td>\n      <td>육교형</td>\n      <td>NaN</td>\n      <td>판단 불가</td>\n      <td>종명:  고라니 이용확인종: 1 이용빈도 순위: 멸종위기종 이용빈도 :\\n종명:  ...</td>\n    </tr>\n    <tr>\n      <th>513</th>\n      <td>1087</td>\n      <td>NaN</td>\n      <td>왕복4차선</td>\n      <td>육교형</td>\n      <td>매일 다수</td>\n      <td>판단 불가</td>\n      <td>종명:  고라니 이용확인종: 1 이용빈도 순위: 멸종위기종 이용빈도 :\\n종명:  ...</td>\n    </tr>\n    <tr>\n      <th>514</th>\n      <td>1088</td>\n      <td>NaN</td>\n      <td>왕복4차선</td>\n      <td>육교형</td>\n      <td>매일 다수</td>\n      <td>판단 불가</td>\n      <td>종명:  고라니 이용확인종: 1 이용빈도 순위: 멸종위기종 이용빈도 :\\n종명:  ...</td>\n    </tr>\n    <tr>\n      <th>515</th>\n      <td>1091</td>\n      <td>NaN</td>\n      <td>왕복2차선</td>\n      <td>육교형</td>\n      <td>NaN</td>\n      <td>판단 불가</td>\n      <td>종명:  멧돼지 이용확인종: 1 이용빈도 순위: 멸종위기종 이용빈도 :\\n종명:  ...</td>\n    </tr>\n    <tr>\n      <th>516</th>\n      <td>1072</td>\n      <td>NaN</td>\n      <td>왕복6차선</td>\n      <td>육교형</td>\n      <td>매일 다수</td>\n      <td>판단 불가</td>\n      <td>종명:  고라니 이용확인종: 1 이용빈도 순위: 멸종위기종 이용빈도 :\\n종명:  ...</td>\n    </tr>\n  </tbody>\n</table>\n<p>517 rows × 7 columns</p>\n</div>"
     },
     "execution_count": 23,
     "metadata": {},
     "output_type": "execute_result"
    }
   ],
   "source": [
    "df = df[['번호', '생태통로명', '차선_수', '생태통로타입', '등산객이용빈도', '생태통로효율성', '이용확인종,이용빈도높은종,멸종위기종이용빈도']]\n",
    "df"
   ],
   "metadata": {
    "collapsed": false,
    "pycharm": {
     "name": "#%%\n"
    }
   }
  },
  {
   "cell_type": "markdown",
   "source": [
    "# 이용확인종 문자열 처리"
   ],
   "metadata": {
    "collapsed": false
   }
  },
  {
   "cell_type": "code",
   "execution_count": 24,
   "outputs": [
    {
     "name": "stdout",
     "output_type": "stream",
     "text": [
      "[None, None, ['고라니', '멧돼지', '파충류'], ['고라니', '멧돼지', '파충류'], ['개', '고양이', '다람쥐'], ['고라니', '너구리', '멧돼지', '다람쥐'], None, ['고라니', '너구리', '멧돼지'], None, None, None, None, None, None, None, None, None, None, ['다람쥐', '고라니'], ['고라니', '청설모'], None, ['개구리', '고라니', '너구리'], None, None, ['다람쥐', '고라니', '멧돼지'], None, None, None, ['고라니'], None, None, None, None, None, None, ['산양', '삵', '담비', '노루', '멧돼지', '너구리', '다람쥐', '고라니', '청설모', '고양이', '오소리', '흰배지빠귀', '조류', '들꿩', '멧비둘기'], ['고라니', '너구리'], None, None, ['삵', '너구리', '고라니'], None, None, None, ['멧돼지', '고라니'], None, None, None, None, None, ['고라니'], ['고라니', '멧돼지'], None, ['개', '고양이'], None, None, None, None, None, ['개', '조류'], None, ['너구리', '다람쥐', '고라니'], ['고라니', '멧돼지'], None, ['고라니', '너구리', '멧돼지'], None, ['고라니', '너구리', '삵', '멧돼지'], ['고라니', '두꺼비', '너구리', '개구리'], ['고라니', '너구리', '멧돼지'], ['고라니', '멧돼지'], ['고라니', '너구리', '고양이'], ['고양이'], None, None, None, None, ['고라니', '너구리', '멧돼지'], ['고라니', '너구리', '멧돼지'], ['고라니', '멧토끼'], ['너구리', '고라니', '멧돼지'], None, None, None, ['고라니', '오소리'], None, ['고라니'], None, None, ['개구리'], ['개구리', '고라니', '담비'], ['다람쥐', '무당개구리', '고라니'], None, ['멧돼지', '고라니'], None, ['고라니', '너구리'], None, None, ['고라니'], None, ['고양이', '고라니'], None, None, None, None, ['고라니', '너구리'], ['고라니', '너구리', '멧토끼'], ['삵', '너구리', '고라니', '멧돼지', '멧토끼'], None, None, ['고라니', '멧돼지'], None, None, ['멧토끼', '너구리'], ['고라니'], None, None, ['고라니'], ['고라니', '멧돼지', '두꺼비'], ['고라니', '다람쥐', '무당개구리'], None, None, ['개', '고양이'], None, None, ['고양이', '개'], ['수달', '삵'], None, None, ['고라니', '너구리', '삵'], None, None, None, None, None, None, ['고라니', '너구리', '멧토끼'], ['고라니', '너구리'], None, None, None, ['고라니', '너구리', '노루', '담비', '멧돼지', '오소리'], ['멧토끼'], None, ['고라니', '두꺼비', '청설모'], None, None, ['고라니', '고양이', '개구리'], ['고라니', '너구리', '멧돼지'], ['고라니', '멧돼지', '고양이'], ['고라니', '너구리', '멧돼지'], ['고라니', '담비', '다람쥐', '고양이', '오소리', '산까치', '멧비둘기'], ['삵'], None, None, None, ['멧돼지', '고라니'], ['고라니', '다람쥐', '두꺼비'], ['다람쥐', '멧돼지', '고라니'], None, None, None, None, None, None, ['고라니', '너구리', '멧돼지'], None, None, None, None, None, None, ['다람쥐', '너구리'], ['다람쥐', '고라니'], ['다람쥐', '고라니'], None, None, None, ['고라니', '산개구리', '청설모'], None, None, None, ['고양이', '너구리'], None, None, None, None, None, ['고라니', '멧돼지'], None, None, None, None, ['고라니', '너구리', '산개구리'], None, None, None, ['고라니', '고양이'], ['고라니'], None, None, None, None, None, None, None, ['고라니'], None, ['고라니', '고양이'], ['다람쥐', '두꺼비', '멧돼지'], ['오소리', '다람쥐', '노루'], None, None, ['개구리'], None, None, None, ['고라니', '너구리'], None, ['고라니'], ['고라니', '멧돼지'], None, ['고라니', '너구리', '뱀', '청설모'], ['고라니', '다람쥐', '뱀', '청설모'], ['고라니', '다람쥐', '뱀', '청설모'], None, None, None, None, ['고라니', '노루'], ['고라니'], None, None, ['고라니', '너구리'], ['고양이', '고라니'], ['고양이', '고라니', '너구리', '족제비', '개'], None, ['수달'], None, ['고라니', '멧돼지'], ['너구리', '삵'], None, None, ['고라니'], None, None, ['고라니', '너구리', '멧돼지'], None, None, ['멧돼지', '고라니', '너구리', '멧토끼'], ['너구리', '고라니'], ['너구리'], None, None, ['고라니', '너구리'], None, None, None, None, ['족제비', '너구리'], None, ['고라니', '멧돼지'], ['고라니', '멧돼지'], None, ['개', '청설모', '고양이'], None, None, None, ['고라니', '너구리'], None, ['고라니', '멧토끼'], ['족제비', '고양이', '개'], None, None, None, ['고라니', '족제비'], ['들개', '청설모', '고양이'], None, None, ['고라니', '다람쥐', '오소리', '삵', '너구리', '멧토끼', '족제비'], None, ['고라니'], None, None, ['고라니'], ['다람쥐', '고라니', '멧돼지'], ['너구리', '삵', '고라니'], ['고라니', '너구리', '오소리'], None, None, None, None, None, ['고라니', '너구리'], ['고라니', '너구리'], None, None, ['고라니'], ['고라니', '멧돼지'], None, None, ['고양이', '고라니'], ['고라니', '멧돼지'], None, None, ['고라니', '다람쥐', '노루', '멧돼지', '삵', '오소리', '족제비', '담비', '조류', '멧비둘기', '조류'], ['고라니', '노루', '다람쥐', '담비', '멧돼지', '삵', '오소리', '족제비', '청설모', '조류', '멧비둘기', '조류', '조류'], None, None, None, None, None, None, None, None, ['너구리', '고라니', '멧돼지'], ['고라니', '너구리', '멧돼지'], ['고라니', '너구리', '족제비'], ['고라니', '너구리', '삵'], ['오소리', '너구리'], ['오소리', '족제비'], ['고라니', '고양이'], ['고라니', '너구리', '삵', '고양이', '개', '조류'], ['고양이', '오소리', '족제비'], None, None, None, ['오소리', '족제비', '삵', '고양이', '개', '흰배지빠귀', '다람쥐', '너구리', '딱새'], None, None, ['고라니'], None, None, None, ['고라니', '개'], None, ['너구리', '삵', '족제비', '청설모', '개', '고양이'], None, ['고라니', '멧돼지'], None, None, None, None, ['고라니', '너구리', '삵'], ['너구리', '삵', '족제비'], ['삵', '너구리', '오소리'], ['너구리'], None, None, ['오소리'], ['삵', '너구리', '오소리'], None, ['고라니'], ['고라니'], None, None, None, None, None, None, ['고양이', '조류'], ['고라니', '멧토끼', '너구리'], None, ['고라니', '오소리'], ['너구리', '고라니', '고양이'], ['고라니'], ['고양이'], None, ['고라니'], None, None, None, None, None, None, None, None, ['산양', '담비', '멧돼지', '고라니', '너구리'], None, ['노루', '족제비', '꿩', '멧비둘기', '들개', '고양이', '오소리', '다람쥐'], ['고라니'], None, None, None, ['고라니'], None, None, None, None, None, None, None, None, None, None, None, ['고라니'], None, None, None, None, None, None, None, None, None, None, ['고라니', '멧돼지'], None, None, ['고라니', '멧돼지'], None, None, ['고라니', '너구리'], ['고라니', '고양이'], None, None, ['멧돼지', '고라니', '오소리'], None, None, None, None, None, None, None, None, ['고라니', '멧돼지'], ['고라니', '멧돼지'], ['고라니', '삵'], ['고라니', '삵'], None, None, ['고라니'], None, None, ['고라니', '너구리'], ['고라니'], None, None, None, ['고라니', '너구리', '멧돼지'], ['고라니'], ['고라니'], ['너구리'], ['고라니'], ['고라니', '너구리', '멧토끼'], ['고라니'], ['노루', '고라니'], ['족제비', '멧토끼', '등줄쥐'], ['고라니', '너구리'], ['고라니', '너구리'], None, None, None, None, None, None, ['고라니', '너구리', '삵', '멧돼지'], None, ['삵'], None, None, None, None, ['고라니', '너구리', '멧돼지'], None, None, None, None, None, None, None, None, None, None, ['고라니', '너구리', '삵', '멧돼지'], ['고라니', '너구리', '삵', '멧돼지'], ['고라니', '너구리', '삵', '멧돼지'], ['고라니', '너구리', '삵', '멧돼지'], ['고라니', '너구리', '삵', '멧돼지'], ['고라니', '너구리', '삵', '멧돼지'], ['고라니', '너구리', '삵', '멧돼지'], ['고라니', '너구리', '삵', '멧돼지'], ['고라니', '너구리', '삵', '멧돼지'], ['고라니', '너구리', '삵', '멧돼지'], ['고라니', '너구리', '삵', '멧돼지'], ['고라니'], ['고라니'], ['고라니', '너구리', '멧돼지'], ['고라니', '너구리'], ['고라니', '너구리'], ['고라니'], None, None, None, None, None, None, ['고라니', '너구리'], None, None, None, None, ['고라니', '너구리', '멧돼지'], ['고라니', '너구리', '멧돼지'], ['고라니', '멧돼지'], ['고라니', '멧돼지'], ['고라니'], ['고라니', '멧돼지'], ['고라니', '멧돼지'], None, None, None, None, ['고라니', '멧돼지'], ['고라니', '멧돼지'], ['고라니', '멧돼지'], ['멧돼지', '고라니'], ['고라니', '멧돼지']]\n"
     ]
    }
   ],
   "source": [
    "monitored = df['이용확인종,이용빈도높은종,멸종위기종이용빈도'].to_list()\n",
    "monitored = [x.split('\\n') if type(x)==str else None for x in monitored]\n",
    "\n",
    "for i, m in enumerate(monitored):\n",
    "    if m is None :\n",
    "        continue\n",
    "    else:\n",
    "        monitored[i] = [x.split('이용확인종')[0].split()[-1] for x in m]\n",
    "\n",
    "print(monitored)"
   ],
   "metadata": {
    "collapsed": false,
    "pycharm": {
     "name": "#%%\n"
    }
   }
  },
  {
   "cell_type": "code",
   "execution_count": 25,
   "outputs": [
    {
     "name": "stderr",
     "output_type": "stream",
     "text": [
      "C:\\Users\\Administrator\\AppData\\Local\\Temp\\ipykernel_10308\\967038548.py:1: SettingWithCopyWarning: \n",
      "A value is trying to be set on a copy of a slice from a DataFrame.\n",
      "Try using .loc[row_indexer,col_indexer] = value instead\n",
      "\n",
      "See the caveats in the documentation: https://pandas.pydata.org/pandas-docs/stable/user_guide/indexing.html#returning-a-view-versus-a-copy\n",
      "  df['이용확인종,이용빈도높은종,멸종위기종이용빈도']=monitored\n",
      "C:\\Users\\Administrator\\AppData\\Local\\Temp\\ipykernel_10308\\967038548.py:2: SettingWithCopyWarning: \n",
      "A value is trying to be set on a copy of a slice from a DataFrame\n",
      "\n",
      "See the caveats in the documentation: https://pandas.pydata.org/pandas-docs/stable/user_guide/indexing.html#returning-a-view-versus-a-copy\n",
      "  df.rename(columns={'이용확인종,이용빈도높은종,멸종위기종이용빈도':'이용확인종'}, inplace=True)\n",
      "C:\\Users\\Administrator\\AppData\\Local\\Temp\\ipykernel_10308\\967038548.py:3: SettingWithCopyWarning: \n",
      "A value is trying to be set on a copy of a slice from a DataFrame.\n",
      "Try using .loc[row_indexer,col_indexer] = value instead\n",
      "\n",
      "See the caveats in the documentation: https://pandas.pydata.org/pandas-docs/stable/user_guide/indexing.html#returning-a-view-versus-a-copy\n",
      "  df['이용확인 종 수'] = [len(x) if x is not None else 0 for x in df['이용확인종']]\n"
     ]
    },
    {
     "data": {
      "text/plain": "       번호 생태통로명   차선_수 생태통로타입 등산객이용빈도            생태통로효율성            이용확인종  \\\n0    1495  가계통로  왕복4차선    육교형   극히 적음              판단 불가             None   \n1    1277   가대리  왕복2차선    터널형     NaN              판단 불가             None   \n2    1278   가산리  왕복2차선    터널형     NaN              판단 불가  [고라니, 멧돼지, 파충류]   \n3    1279  가산리2  왕복2차선    터널형     NaN              판단 불가  [고라니, 멧돼지, 파충류]   \n4    1090    각리  왕복6차선    육교형   매일 다수  보통(주 35회 야생동물 이용)    [개, 고양이, 다람쥐]   \n..    ...   ...    ...    ...     ...                ...              ...   \n512  1089   NaN  왕복6차선    육교형     NaN              판단 불가       [고라니, 멧돼지]   \n513  1087   NaN  왕복4차선    육교형   매일 다수              판단 불가       [고라니, 멧돼지]   \n514  1088   NaN  왕복4차선    육교형   매일 다수              판단 불가       [고라니, 멧돼지]   \n515  1091   NaN  왕복2차선    육교형     NaN              판단 불가       [멧돼지, 고라니]   \n516  1072   NaN  왕복6차선    육교형   매일 다수              판단 불가       [고라니, 멧돼지]   \n\n     이용확인 종 수  \n0           0  \n1           0  \n2           3  \n3           3  \n4           3  \n..        ...  \n512         2  \n513         2  \n514         2  \n515         2  \n516         2  \n\n[517 rows x 8 columns]",
      "text/html": "<div>\n<style scoped>\n    .dataframe tbody tr th:only-of-type {\n        vertical-align: middle;\n    }\n\n    .dataframe tbody tr th {\n        vertical-align: top;\n    }\n\n    .dataframe thead th {\n        text-align: right;\n    }\n</style>\n<table border=\"1\" class=\"dataframe\">\n  <thead>\n    <tr style=\"text-align: right;\">\n      <th></th>\n      <th>번호</th>\n      <th>생태통로명</th>\n      <th>차선_수</th>\n      <th>생태통로타입</th>\n      <th>등산객이용빈도</th>\n      <th>생태통로효율성</th>\n      <th>이용확인종</th>\n      <th>이용확인 종 수</th>\n    </tr>\n  </thead>\n  <tbody>\n    <tr>\n      <th>0</th>\n      <td>1495</td>\n      <td>가계통로</td>\n      <td>왕복4차선</td>\n      <td>육교형</td>\n      <td>극히 적음</td>\n      <td>판단 불가</td>\n      <td>None</td>\n      <td>0</td>\n    </tr>\n    <tr>\n      <th>1</th>\n      <td>1277</td>\n      <td>가대리</td>\n      <td>왕복2차선</td>\n      <td>터널형</td>\n      <td>NaN</td>\n      <td>판단 불가</td>\n      <td>None</td>\n      <td>0</td>\n    </tr>\n    <tr>\n      <th>2</th>\n      <td>1278</td>\n      <td>가산리</td>\n      <td>왕복2차선</td>\n      <td>터널형</td>\n      <td>NaN</td>\n      <td>판단 불가</td>\n      <td>[고라니, 멧돼지, 파충류]</td>\n      <td>3</td>\n    </tr>\n    <tr>\n      <th>3</th>\n      <td>1279</td>\n      <td>가산리2</td>\n      <td>왕복2차선</td>\n      <td>터널형</td>\n      <td>NaN</td>\n      <td>판단 불가</td>\n      <td>[고라니, 멧돼지, 파충류]</td>\n      <td>3</td>\n    </tr>\n    <tr>\n      <th>4</th>\n      <td>1090</td>\n      <td>각리</td>\n      <td>왕복6차선</td>\n      <td>육교형</td>\n      <td>매일 다수</td>\n      <td>보통(주 35회 야생동물 이용)</td>\n      <td>[개, 고양이, 다람쥐]</td>\n      <td>3</td>\n    </tr>\n    <tr>\n      <th>...</th>\n      <td>...</td>\n      <td>...</td>\n      <td>...</td>\n      <td>...</td>\n      <td>...</td>\n      <td>...</td>\n      <td>...</td>\n      <td>...</td>\n    </tr>\n    <tr>\n      <th>512</th>\n      <td>1089</td>\n      <td>NaN</td>\n      <td>왕복6차선</td>\n      <td>육교형</td>\n      <td>NaN</td>\n      <td>판단 불가</td>\n      <td>[고라니, 멧돼지]</td>\n      <td>2</td>\n    </tr>\n    <tr>\n      <th>513</th>\n      <td>1087</td>\n      <td>NaN</td>\n      <td>왕복4차선</td>\n      <td>육교형</td>\n      <td>매일 다수</td>\n      <td>판단 불가</td>\n      <td>[고라니, 멧돼지]</td>\n      <td>2</td>\n    </tr>\n    <tr>\n      <th>514</th>\n      <td>1088</td>\n      <td>NaN</td>\n      <td>왕복4차선</td>\n      <td>육교형</td>\n      <td>매일 다수</td>\n      <td>판단 불가</td>\n      <td>[고라니, 멧돼지]</td>\n      <td>2</td>\n    </tr>\n    <tr>\n      <th>515</th>\n      <td>1091</td>\n      <td>NaN</td>\n      <td>왕복2차선</td>\n      <td>육교형</td>\n      <td>NaN</td>\n      <td>판단 불가</td>\n      <td>[멧돼지, 고라니]</td>\n      <td>2</td>\n    </tr>\n    <tr>\n      <th>516</th>\n      <td>1072</td>\n      <td>NaN</td>\n      <td>왕복6차선</td>\n      <td>육교형</td>\n      <td>매일 다수</td>\n      <td>판단 불가</td>\n      <td>[고라니, 멧돼지]</td>\n      <td>2</td>\n    </tr>\n  </tbody>\n</table>\n<p>517 rows × 8 columns</p>\n</div>"
     },
     "execution_count": 25,
     "metadata": {},
     "output_type": "execute_result"
    }
   ],
   "source": [
    "df['이용확인종,이용빈도높은종,멸종위기종이용빈도']=monitored\n",
    "df.rename(columns={'이용확인종,이용빈도높은종,멸종위기종이용빈도':'이용확인종'}, inplace=True)\n",
    "df['이용확인 종 수'] = [len(x) if x is not None else 0 for x in df['이용확인종']]\n",
    "df"
   ],
   "metadata": {
    "collapsed": false,
    "pycharm": {
     "name": "#%%\n"
    }
   }
  },
  {
   "cell_type": "markdown",
   "source": [
    "# 생태통로 효율성 결측치 1차 처리\n",
    "효율성값이 판단불가 또는 null인데 이용확인 종 수가 존재하는 경우"
   ],
   "metadata": {
    "collapsed": false
   }
  },
  {
   "cell_type": "code",
   "execution_count": 26,
   "outputs": [],
   "source": [
    "eff_preprocess_index = list(df[((df['생태통로효율성']=='판단 불가') | df['생태통로효율성'].isnull()) & (df['이용확인 종 수']>0)].index)\n",
    "eff_preprocess_dict = {\n",
    "    1: '낮음',\n",
    "    2: '낮음',\n",
    "    3: '보통',\n",
    "    4: '높음',\n",
    "    5: '높음'\n",
    "}\n",
    "for idx in eff_preprocess_index:\n",
    "    df.loc[idx, '생태통로효율성']=eff_preprocess_dict[df.loc[idx,'이용확인 종 수']]"
   ],
   "metadata": {
    "collapsed": false,
    "pycharm": {
     "name": "#%%\n"
    }
   }
  },
  {
   "cell_type": "markdown",
   "source": [
    "처리후 효율성 값이 null인 것 판단 불가 처리, 문자열 길이 줄이기"
   ],
   "metadata": {
    "collapsed": false
   }
  },
  {
   "cell_type": "code",
   "execution_count": 27,
   "outputs": [
    {
     "name": "stderr",
     "output_type": "stream",
     "text": [
      "C:\\Users\\Administrator\\AppData\\Local\\Temp\\ipykernel_10308\\2082324647.py:1: SettingWithCopyWarning: \n",
      "A value is trying to be set on a copy of a slice from a DataFrame\n",
      "\n",
      "See the caveats in the documentation: https://pandas.pydata.org/pandas-docs/stable/user_guide/indexing.html#returning-a-view-versus-a-copy\n",
      "  df['생태통로효율성'].fillna('판단 불가', inplace=True)\n",
      "C:\\Users\\Administrator\\AppData\\Local\\Temp\\ipykernel_10308\\2082324647.py:2: SettingWithCopyWarning: \n",
      "A value is trying to be set on a copy of a slice from a DataFrame.\n",
      "Try using .loc[row_indexer,col_indexer] = value instead\n",
      "\n",
      "See the caveats in the documentation: https://pandas.pydata.org/pandas-docs/stable/user_guide/indexing.html#returning-a-view-versus-a-copy\n",
      "  df['생태통로효율성'] = df['생태통로효율성'].apply(lambda x : x.split('(')[0])\n"
     ]
    },
    {
     "data": {
      "text/plain": "       번호 생태통로명   차선_수 생태통로타입 등산객이용빈도 생태통로효율성            이용확인종  이용확인 종 수\n0    1495  가계통로  왕복4차선    육교형   극히 적음   판단 불가             None         0\n1    1277   가대리  왕복2차선    터널형     NaN   판단 불가             None         0\n2    1278   가산리  왕복2차선    터널형     NaN      보통  [고라니, 멧돼지, 파충류]         3\n3    1279  가산리2  왕복2차선    터널형     NaN      보통  [고라니, 멧돼지, 파충류]         3\n4    1090    각리  왕복6차선    육교형   매일 다수      보통    [개, 고양이, 다람쥐]         3\n..    ...   ...    ...    ...     ...     ...              ...       ...\n512  1089   NaN  왕복6차선    육교형     NaN      낮음       [고라니, 멧돼지]         2\n513  1087   NaN  왕복4차선    육교형   매일 다수      낮음       [고라니, 멧돼지]         2\n514  1088   NaN  왕복4차선    육교형   매일 다수      낮음       [고라니, 멧돼지]         2\n515  1091   NaN  왕복2차선    육교형     NaN      낮음       [멧돼지, 고라니]         2\n516  1072   NaN  왕복6차선    육교형   매일 다수      낮음       [고라니, 멧돼지]         2\n\n[517 rows x 8 columns]",
      "text/html": "<div>\n<style scoped>\n    .dataframe tbody tr th:only-of-type {\n        vertical-align: middle;\n    }\n\n    .dataframe tbody tr th {\n        vertical-align: top;\n    }\n\n    .dataframe thead th {\n        text-align: right;\n    }\n</style>\n<table border=\"1\" class=\"dataframe\">\n  <thead>\n    <tr style=\"text-align: right;\">\n      <th></th>\n      <th>번호</th>\n      <th>생태통로명</th>\n      <th>차선_수</th>\n      <th>생태통로타입</th>\n      <th>등산객이용빈도</th>\n      <th>생태통로효율성</th>\n      <th>이용확인종</th>\n      <th>이용확인 종 수</th>\n    </tr>\n  </thead>\n  <tbody>\n    <tr>\n      <th>0</th>\n      <td>1495</td>\n      <td>가계통로</td>\n      <td>왕복4차선</td>\n      <td>육교형</td>\n      <td>극히 적음</td>\n      <td>판단 불가</td>\n      <td>None</td>\n      <td>0</td>\n    </tr>\n    <tr>\n      <th>1</th>\n      <td>1277</td>\n      <td>가대리</td>\n      <td>왕복2차선</td>\n      <td>터널형</td>\n      <td>NaN</td>\n      <td>판단 불가</td>\n      <td>None</td>\n      <td>0</td>\n    </tr>\n    <tr>\n      <th>2</th>\n      <td>1278</td>\n      <td>가산리</td>\n      <td>왕복2차선</td>\n      <td>터널형</td>\n      <td>NaN</td>\n      <td>보통</td>\n      <td>[고라니, 멧돼지, 파충류]</td>\n      <td>3</td>\n    </tr>\n    <tr>\n      <th>3</th>\n      <td>1279</td>\n      <td>가산리2</td>\n      <td>왕복2차선</td>\n      <td>터널형</td>\n      <td>NaN</td>\n      <td>보통</td>\n      <td>[고라니, 멧돼지, 파충류]</td>\n      <td>3</td>\n    </tr>\n    <tr>\n      <th>4</th>\n      <td>1090</td>\n      <td>각리</td>\n      <td>왕복6차선</td>\n      <td>육교형</td>\n      <td>매일 다수</td>\n      <td>보통</td>\n      <td>[개, 고양이, 다람쥐]</td>\n      <td>3</td>\n    </tr>\n    <tr>\n      <th>...</th>\n      <td>...</td>\n      <td>...</td>\n      <td>...</td>\n      <td>...</td>\n      <td>...</td>\n      <td>...</td>\n      <td>...</td>\n      <td>...</td>\n    </tr>\n    <tr>\n      <th>512</th>\n      <td>1089</td>\n      <td>NaN</td>\n      <td>왕복6차선</td>\n      <td>육교형</td>\n      <td>NaN</td>\n      <td>낮음</td>\n      <td>[고라니, 멧돼지]</td>\n      <td>2</td>\n    </tr>\n    <tr>\n      <th>513</th>\n      <td>1087</td>\n      <td>NaN</td>\n      <td>왕복4차선</td>\n      <td>육교형</td>\n      <td>매일 다수</td>\n      <td>낮음</td>\n      <td>[고라니, 멧돼지]</td>\n      <td>2</td>\n    </tr>\n    <tr>\n      <th>514</th>\n      <td>1088</td>\n      <td>NaN</td>\n      <td>왕복4차선</td>\n      <td>육교형</td>\n      <td>매일 다수</td>\n      <td>낮음</td>\n      <td>[고라니, 멧돼지]</td>\n      <td>2</td>\n    </tr>\n    <tr>\n      <th>515</th>\n      <td>1091</td>\n      <td>NaN</td>\n      <td>왕복2차선</td>\n      <td>육교형</td>\n      <td>NaN</td>\n      <td>낮음</td>\n      <td>[멧돼지, 고라니]</td>\n      <td>2</td>\n    </tr>\n    <tr>\n      <th>516</th>\n      <td>1072</td>\n      <td>NaN</td>\n      <td>왕복6차선</td>\n      <td>육교형</td>\n      <td>매일 다수</td>\n      <td>낮음</td>\n      <td>[고라니, 멧돼지]</td>\n      <td>2</td>\n    </tr>\n  </tbody>\n</table>\n<p>517 rows × 8 columns</p>\n</div>"
     },
     "execution_count": 27,
     "metadata": {},
     "output_type": "execute_result"
    }
   ],
   "source": [
    "df['생태통로효율성'].fillna('판단 불가', inplace=True)\n",
    "df['생태통로효율성'] = df['생태통로효율성'].apply(lambda x : x.split('(')[0])\n",
    "df"
   ],
   "metadata": {
    "collapsed": false,
    "pycharm": {
     "name": "#%%\n"
    }
   }
  },
  {
   "cell_type": "markdown",
   "source": [
    "생태통로 타입이 null인 생태통로 제외"
   ],
   "metadata": {
    "collapsed": false
   }
  },
  {
   "cell_type": "code",
   "execution_count": 28,
   "outputs": [
    {
     "name": "stdout",
     "output_type": "stream",
     "text": [
      "drop 13 row\n",
      "504\n"
     ]
    },
    {
     "name": "stderr",
     "output_type": "stream",
     "text": [
      "C:\\Users\\Administrator\\AppData\\Local\\Temp\\ipykernel_10308\\641583994.py:3: SettingWithCopyWarning: \n",
      "A value is trying to be set on a copy of a slice from a DataFrame\n",
      "\n",
      "See the caveats in the documentation: https://pandas.pydata.org/pandas-docs/stable/user_guide/indexing.html#returning-a-view-versus-a-copy\n",
      "  df.drop(drop_list, axis=0, inplace=True)\n"
     ]
    }
   ],
   "source": [
    "drop_list = list(df[df['생태통로타입'].isnull()].index)\n",
    "print('drop {} row'.format(len(drop_list)))\n",
    "df.drop(drop_list, axis=0, inplace=True)\n",
    "print(len(df))"
   ],
   "metadata": {
    "collapsed": false,
    "pycharm": {
     "name": "#%%\n"
    }
   }
  },
  {
   "cell_type": "markdown",
   "source": [
    "# 등산객이용빈도 결측치 처리"
   ],
   "metadata": {
    "collapsed": false
   }
  },
  {
   "cell_type": "code",
   "execution_count": 29,
   "outputs": [
    {
     "name": "stdout",
     "output_type": "stream",
     "text": [
      "['극히 적음' nan '매일 다수' '월 1~4회' '일 1~2회' '주 2~5회' '월 4회 이하']\n"
     ]
    },
    {
     "data": {
      "text/plain": "등산객이용빈도\n극히 적음      132\n매일 다수       41\n월 1~4회       7\n월 4회 이하     34\n일 1~2회      10\n주 2~5회       8\nName: 번호, dtype: int64"
     },
     "execution_count": 29,
     "metadata": {},
     "output_type": "execute_result"
    }
   ],
   "source": [
    "print(df['등산객이용빈도'].unique())\n",
    "df.groupby('등산객이용빈도')['번호'].count()"
   ],
   "metadata": {
    "collapsed": false,
    "pycharm": {
     "name": "#%%\n"
    }
   }
  },
  {
   "cell_type": "code",
   "execution_count": 30,
   "outputs": [
    {
     "name": "stderr",
     "output_type": "stream",
     "text": [
      "C:\\Users\\Administrator\\AppData\\Local\\Temp\\ipykernel_10308\\1353357996.py:1: SettingWithCopyWarning: \n",
      "A value is trying to be set on a copy of a slice from a DataFrame\n",
      "\n",
      "See the caveats in the documentation: https://pandas.pydata.org/pandas-docs/stable/user_guide/indexing.html#returning-a-view-versus-a-copy\n",
      "  df['등산객이용빈도'].fillna('없음', inplace=True)\n"
     ]
    },
    {
     "data": {
      "text/plain": "등산객이용빈도\n극히 적음      132\n매일 다수       41\n없음         272\n월 1~4회       7\n월 4회 이하     34\n일 1~2회      10\n주 2~5회       8\nName: 번호, dtype: int64"
     },
     "execution_count": 30,
     "metadata": {},
     "output_type": "execute_result"
    }
   ],
   "source": [
    "df['등산객이용빈도'].fillna('없음', inplace=True)\n",
    "df.groupby('등산객이용빈도')['번호'].count()"
   ],
   "metadata": {
    "collapsed": false,
    "pycharm": {
     "name": "#%%\n"
    }
   }
  },
  {
   "cell_type": "markdown",
   "source": [
    "# 차선_수 결측치 처리"
   ],
   "metadata": {
    "collapsed": false
   }
  },
  {
   "cell_type": "code",
   "execution_count": 31,
   "outputs": [
    {
     "name": "stdout",
     "output_type": "stream",
     "text": [
      "['왕복12차선', '왕복16차선', '왕복1차선', '왕복2차선', '왕복3차선', '왕복4차선', '왕복5차선', '왕복6차선', '왕복7차선', '왕복8차선', '하천횡단']\n"
     ]
    },
    {
     "data": {
      "text/plain": "차선_수\n왕복12차선      1\n왕복16차선      1\n왕복1차선       5\n왕복2차선     210\n왕복3차선       9\n왕복4차선     229\n왕복5차선       4\n왕복6차선      32\n왕복7차선       1\n왕복8차선      11\n하천횡단        1\nName: 번호, dtype: int64"
     },
     "execution_count": 31,
     "metadata": {},
     "output_type": "execute_result"
    }
   ],
   "source": [
    "print(sorted(df['차선_수'].unique()))\n",
    "df.groupby('차선_수')['번호'].count()"
   ],
   "metadata": {
    "collapsed": false,
    "pycharm": {
     "name": "#%%\n"
    }
   }
  },
  {
   "cell_type": "code",
   "execution_count": 32,
   "outputs": [
    {
     "name": "stderr",
     "output_type": "stream",
     "text": [
      "C:\\Users\\Administrator\\AppData\\Local\\Temp\\ipykernel_10308\\2632918888.py:1: SettingWithCopyWarning: \n",
      "A value is trying to be set on a copy of a slice from a DataFrame.\n",
      "Try using .loc[row_indexer,col_indexer] = value instead\n",
      "\n",
      "See the caveats in the documentation: https://pandas.pydata.org/pandas-docs/stable/user_guide/indexing.html#returning-a-view-versus-a-copy\n",
      "  df['차선_수'] = [x.replace('왕복', '').replace('차선', '') for x in df['차선_수']]\n"
     ]
    },
    {
     "data": {
      "text/plain": "       번호 생태통로명 차선_수 생태통로타입 등산객이용빈도 생태통로효율성            이용확인종  이용확인 종 수\n0    1495  가계통로    4    육교형   극히 적음   판단 불가             None         0\n1    1277   가대리    2    터널형      없음   판단 불가             None         0\n2    1278   가산리    2    터널형      없음      보통  [고라니, 멧돼지, 파충류]         3\n3    1279  가산리2    2    터널형      없음      보통  [고라니, 멧돼지, 파충류]         3\n4    1090    각리    6    육교형   매일 다수      보통    [개, 고양이, 다람쥐]         3\n..    ...   ...  ...    ...     ...     ...              ...       ...\n512  1089   NaN    6    육교형      없음      낮음       [고라니, 멧돼지]         2\n513  1087   NaN    4    육교형   매일 다수      낮음       [고라니, 멧돼지]         2\n514  1088   NaN    4    육교형   매일 다수      낮음       [고라니, 멧돼지]         2\n515  1091   NaN    2    육교형      없음      낮음       [멧돼지, 고라니]         2\n516  1072   NaN    6    육교형   매일 다수      낮음       [고라니, 멧돼지]         2\n\n[504 rows x 8 columns]",
      "text/html": "<div>\n<style scoped>\n    .dataframe tbody tr th:only-of-type {\n        vertical-align: middle;\n    }\n\n    .dataframe tbody tr th {\n        vertical-align: top;\n    }\n\n    .dataframe thead th {\n        text-align: right;\n    }\n</style>\n<table border=\"1\" class=\"dataframe\">\n  <thead>\n    <tr style=\"text-align: right;\">\n      <th></th>\n      <th>번호</th>\n      <th>생태통로명</th>\n      <th>차선_수</th>\n      <th>생태통로타입</th>\n      <th>등산객이용빈도</th>\n      <th>생태통로효율성</th>\n      <th>이용확인종</th>\n      <th>이용확인 종 수</th>\n    </tr>\n  </thead>\n  <tbody>\n    <tr>\n      <th>0</th>\n      <td>1495</td>\n      <td>가계통로</td>\n      <td>4</td>\n      <td>육교형</td>\n      <td>극히 적음</td>\n      <td>판단 불가</td>\n      <td>None</td>\n      <td>0</td>\n    </tr>\n    <tr>\n      <th>1</th>\n      <td>1277</td>\n      <td>가대리</td>\n      <td>2</td>\n      <td>터널형</td>\n      <td>없음</td>\n      <td>판단 불가</td>\n      <td>None</td>\n      <td>0</td>\n    </tr>\n    <tr>\n      <th>2</th>\n      <td>1278</td>\n      <td>가산리</td>\n      <td>2</td>\n      <td>터널형</td>\n      <td>없음</td>\n      <td>보통</td>\n      <td>[고라니, 멧돼지, 파충류]</td>\n      <td>3</td>\n    </tr>\n    <tr>\n      <th>3</th>\n      <td>1279</td>\n      <td>가산리2</td>\n      <td>2</td>\n      <td>터널형</td>\n      <td>없음</td>\n      <td>보통</td>\n      <td>[고라니, 멧돼지, 파충류]</td>\n      <td>3</td>\n    </tr>\n    <tr>\n      <th>4</th>\n      <td>1090</td>\n      <td>각리</td>\n      <td>6</td>\n      <td>육교형</td>\n      <td>매일 다수</td>\n      <td>보통</td>\n      <td>[개, 고양이, 다람쥐]</td>\n      <td>3</td>\n    </tr>\n    <tr>\n      <th>...</th>\n      <td>...</td>\n      <td>...</td>\n      <td>...</td>\n      <td>...</td>\n      <td>...</td>\n      <td>...</td>\n      <td>...</td>\n      <td>...</td>\n    </tr>\n    <tr>\n      <th>512</th>\n      <td>1089</td>\n      <td>NaN</td>\n      <td>6</td>\n      <td>육교형</td>\n      <td>없음</td>\n      <td>낮음</td>\n      <td>[고라니, 멧돼지]</td>\n      <td>2</td>\n    </tr>\n    <tr>\n      <th>513</th>\n      <td>1087</td>\n      <td>NaN</td>\n      <td>4</td>\n      <td>육교형</td>\n      <td>매일 다수</td>\n      <td>낮음</td>\n      <td>[고라니, 멧돼지]</td>\n      <td>2</td>\n    </tr>\n    <tr>\n      <th>514</th>\n      <td>1088</td>\n      <td>NaN</td>\n      <td>4</td>\n      <td>육교형</td>\n      <td>매일 다수</td>\n      <td>낮음</td>\n      <td>[고라니, 멧돼지]</td>\n      <td>2</td>\n    </tr>\n    <tr>\n      <th>515</th>\n      <td>1091</td>\n      <td>NaN</td>\n      <td>2</td>\n      <td>육교형</td>\n      <td>없음</td>\n      <td>낮음</td>\n      <td>[멧돼지, 고라니]</td>\n      <td>2</td>\n    </tr>\n    <tr>\n      <th>516</th>\n      <td>1072</td>\n      <td>NaN</td>\n      <td>6</td>\n      <td>육교형</td>\n      <td>매일 다수</td>\n      <td>낮음</td>\n      <td>[고라니, 멧돼지]</td>\n      <td>2</td>\n    </tr>\n  </tbody>\n</table>\n<p>504 rows × 8 columns</p>\n</div>"
     },
     "execution_count": 32,
     "metadata": {},
     "output_type": "execute_result"
    }
   ],
   "source": [
    "df['차선_수'] = [x.replace('왕복', '').replace('차선', '') for x in df['차선_수']]\n",
    "\n",
    "df"
   ],
   "metadata": {
    "collapsed": false,
    "pycharm": {
     "name": "#%%\n"
    }
   }
  },
  {
   "cell_type": "code",
   "execution_count": 35,
   "outputs": [],
   "source": [
    "df.loc[df['차선_수']=='하천횡단', '차선_수'] = 0"
   ],
   "metadata": {
    "collapsed": false,
    "pycharm": {
     "name": "#%%\n"
    }
   }
  },
  {
   "cell_type": "markdown",
   "source": [
    "# 라벨링"
   ],
   "metadata": {
    "collapsed": false
   }
  },
  {
   "cell_type": "code",
   "execution_count": 37,
   "outputs": [],
   "source": [
    "labeling_columns = ['생태통로효율성', '등산객이용빈도', '생태통로타입']\n",
    "\n",
    "eff = { # 생태통로 효율성\n",
    "    '낮음' : 0,\n",
    "    '보통' : 1,\n",
    "    '높음' : 2,\n",
    "    '판단 불가': 3\n",
    "}\n",
    "hiker = { # 등산객 이용빈도\n",
    "    '없음' : 0,\n",
    "    '극히 적음' : 1,\n",
    "    '월 1~4회' : 2,\n",
    "    '월 4회 이하': 2,\n",
    "    '주 2~5회': 3,\n",
    "    '일 1~2회': 4,\n",
    "    '매일 다수' : 5\n",
    "}\n",
    "\n",
    "bridge_type = { # 생태통로 타입\n",
    "    '육교형': 0,\n",
    "    '터널형': 1,\n",
    "    '양서·파충류 통로': 2\n",
    "}\n",
    "\n",
    "labeling_dict = {\n",
    "    labeling_columns[0] : eff,\n",
    "    labeling_columns[1] : hiker,\n",
    "    labeling_columns[2] : bridge_type\n",
    "}"
   ],
   "metadata": {
    "collapsed": false,
    "pycharm": {
     "name": "#%%\n"
    }
   }
  },
  {
   "cell_type": "code",
   "execution_count": 38,
   "outputs": [
    {
     "name": "stderr",
     "output_type": "stream",
     "text": [
      "C:\\Users\\Administrator\\AppData\\Local\\Temp\\ipykernel_10308\\2383293335.py:2: SettingWithCopyWarning: \n",
      "A value is trying to be set on a copy of a slice from a DataFrame.\n",
      "Try using .loc[row_indexer,col_indexer] = value instead\n",
      "\n",
      "See the caveats in the documentation: https://pandas.pydata.org/pandas-docs/stable/user_guide/indexing.html#returning-a-view-versus-a-copy\n",
      "  df[c] = [labeling_dict[c][x] for x in df[c]]\n"
     ]
    },
    {
     "data": {
      "text/plain": "       번호 생태통로명 차선_수  생태통로타입  등산객이용빈도  생태통로효율성            이용확인종  이용확인 종 수\n0    1495  가계통로    4       0        1        3             None         0\n1    1277   가대리    2       1        0        3             None         0\n2    1278   가산리    2       1        0        1  [고라니, 멧돼지, 파충류]         3\n3    1279  가산리2    2       1        0        1  [고라니, 멧돼지, 파충류]         3\n4    1090    각리    6       0        5        1    [개, 고양이, 다람쥐]         3\n..    ...   ...  ...     ...      ...      ...              ...       ...\n512  1089   NaN    6       0        0        0       [고라니, 멧돼지]         2\n513  1087   NaN    4       0        5        0       [고라니, 멧돼지]         2\n514  1088   NaN    4       0        5        0       [고라니, 멧돼지]         2\n515  1091   NaN    2       0        0        0       [멧돼지, 고라니]         2\n516  1072   NaN    6       0        5        0       [고라니, 멧돼지]         2\n\n[504 rows x 8 columns]",
      "text/html": "<div>\n<style scoped>\n    .dataframe tbody tr th:only-of-type {\n        vertical-align: middle;\n    }\n\n    .dataframe tbody tr th {\n        vertical-align: top;\n    }\n\n    .dataframe thead th {\n        text-align: right;\n    }\n</style>\n<table border=\"1\" class=\"dataframe\">\n  <thead>\n    <tr style=\"text-align: right;\">\n      <th></th>\n      <th>번호</th>\n      <th>생태통로명</th>\n      <th>차선_수</th>\n      <th>생태통로타입</th>\n      <th>등산객이용빈도</th>\n      <th>생태통로효율성</th>\n      <th>이용확인종</th>\n      <th>이용확인 종 수</th>\n    </tr>\n  </thead>\n  <tbody>\n    <tr>\n      <th>0</th>\n      <td>1495</td>\n      <td>가계통로</td>\n      <td>4</td>\n      <td>0</td>\n      <td>1</td>\n      <td>3</td>\n      <td>None</td>\n      <td>0</td>\n    </tr>\n    <tr>\n      <th>1</th>\n      <td>1277</td>\n      <td>가대리</td>\n      <td>2</td>\n      <td>1</td>\n      <td>0</td>\n      <td>3</td>\n      <td>None</td>\n      <td>0</td>\n    </tr>\n    <tr>\n      <th>2</th>\n      <td>1278</td>\n      <td>가산리</td>\n      <td>2</td>\n      <td>1</td>\n      <td>0</td>\n      <td>1</td>\n      <td>[고라니, 멧돼지, 파충류]</td>\n      <td>3</td>\n    </tr>\n    <tr>\n      <th>3</th>\n      <td>1279</td>\n      <td>가산리2</td>\n      <td>2</td>\n      <td>1</td>\n      <td>0</td>\n      <td>1</td>\n      <td>[고라니, 멧돼지, 파충류]</td>\n      <td>3</td>\n    </tr>\n    <tr>\n      <th>4</th>\n      <td>1090</td>\n      <td>각리</td>\n      <td>6</td>\n      <td>0</td>\n      <td>5</td>\n      <td>1</td>\n      <td>[개, 고양이, 다람쥐]</td>\n      <td>3</td>\n    </tr>\n    <tr>\n      <th>...</th>\n      <td>...</td>\n      <td>...</td>\n      <td>...</td>\n      <td>...</td>\n      <td>...</td>\n      <td>...</td>\n      <td>...</td>\n      <td>...</td>\n    </tr>\n    <tr>\n      <th>512</th>\n      <td>1089</td>\n      <td>NaN</td>\n      <td>6</td>\n      <td>0</td>\n      <td>0</td>\n      <td>0</td>\n      <td>[고라니, 멧돼지]</td>\n      <td>2</td>\n    </tr>\n    <tr>\n      <th>513</th>\n      <td>1087</td>\n      <td>NaN</td>\n      <td>4</td>\n      <td>0</td>\n      <td>5</td>\n      <td>0</td>\n      <td>[고라니, 멧돼지]</td>\n      <td>2</td>\n    </tr>\n    <tr>\n      <th>514</th>\n      <td>1088</td>\n      <td>NaN</td>\n      <td>4</td>\n      <td>0</td>\n      <td>5</td>\n      <td>0</td>\n      <td>[고라니, 멧돼지]</td>\n      <td>2</td>\n    </tr>\n    <tr>\n      <th>515</th>\n      <td>1091</td>\n      <td>NaN</td>\n      <td>2</td>\n      <td>0</td>\n      <td>0</td>\n      <td>0</td>\n      <td>[멧돼지, 고라니]</td>\n      <td>2</td>\n    </tr>\n    <tr>\n      <th>516</th>\n      <td>1072</td>\n      <td>NaN</td>\n      <td>6</td>\n      <td>0</td>\n      <td>5</td>\n      <td>0</td>\n      <td>[고라니, 멧돼지]</td>\n      <td>2</td>\n    </tr>\n  </tbody>\n</table>\n<p>504 rows × 8 columns</p>\n</div>"
     },
     "execution_count": 38,
     "metadata": {},
     "output_type": "execute_result"
    }
   ],
   "source": [
    "for c in labeling_columns :\n",
    "    df[c] = [labeling_dict[c][x] for x in df[c]]\n",
    "\n",
    "df"
   ],
   "metadata": {
    "collapsed": false,
    "pycharm": {
     "name": "#%%\n"
    }
   }
  }
 ],
 "metadata": {
  "kernelspec": {
   "display_name": "Python 3",
   "language": "python",
   "name": "python3"
  },
  "language_info": {
   "codemirror_mode": {
    "name": "ipython",
    "version": 2
   },
   "file_extension": ".py",
   "mimetype": "text/x-python",
   "name": "python",
   "nbconvert_exporter": "python",
   "pygments_lexer": "ipython2",
   "version": "2.7.6"
  }
 },
 "nbformat": 4,
 "nbformat_minor": 0
}