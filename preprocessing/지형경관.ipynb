{
 "cells": [
  {
   "cell_type": "code",
   "execution_count": 1,
   "metadata": {
    "collapsed": true
   },
   "outputs": [],
   "source": [
    "import geopandas as gpd\n",
    "import pandas as pd\n",
    "from sqlalchemy import create_engine\n",
    "import pymysql"
   ]
  },
  {
   "cell_type": "code",
   "execution_count": 2,
   "outputs": [],
   "source": [
    "endpoint = 'dao.cdqd2bwz9q4s.ap-northeast-2.rds.amazonaws.com'\n",
    "schema = 'dao'\n",
    "db_connection_str = 'mysql+pymysql://admin:ekfkawnl@{}/{}'.format(endpoint, schema)\n",
    "try :\n",
    "    db_connection = create_engine(db_connection_str)\n",
    "    conn = db_connection.connect()\n",
    "except :\n",
    "    print('fail to connect db')\n",
    "\n",
    "def load_data_from_rds(tabel_name):\n",
    "  sql = \"SELECT * FROM {}\".format(tabel_name)\n",
    "  df = pd.read_sql(sql, db_connection)\n",
    "  return df"
   ],
   "metadata": {
    "collapsed": false,
    "pycharm": {
     "name": "#%%\n"
    }
   }
  },
  {
   "cell_type": "markdown",
   "source": [
    "# 지형경관\n",
    "전국자연환경조사 4차 지형경관 자료 이용\n",
    "생태통로 위치와 가장 가까운 지형경관 특성 join 후 5km 이상 떨어진 곳의 지형경관과 병합된 것은\n",
    "지형경관의 영향이 생태통로에 끼치지 않는다고 판단하여 지형경관 특성이 없음으로 처리"
   ],
   "metadata": {
    "collapsed": false
   }
  },
  {
   "cell_type": "code",
   "execution_count": 36,
   "outputs": [
    {
     "data": {
      "text/plain": "       번호          생태통로명                              주소         도로명  \\\n0    1001           중동터널                    서울특별시 구로구 궁동        계남큰길   \n1    1002         개좌생태터널              부산광역시 금정구 회동동 산4-1         개좌로   \n2    1004        곰내 생태통로               부산광역시 기장군 철마면 웅천리          군도   \n3    1005     정관예림리 생태통로               부산광역시 기장군 정관면 예림리         국지도   \n4    1006       을숙도 생태통로                   부산광역시 사하구 하단동        낙동남로   \n..    ...            ...                             ...         ...   \n531  1564           삼척노곡          강원도 삼척시 원덕읍 노곡리 산146-3          국도   \n532  1565           절토육교               경기도 의왕시 월암동 산46-3  서수원~의왕간 도로   \n533  1566         동물이동통로               경기도 의왕시 고천동 산55-5  서수원~의왕간 도로   \n534  1567            NaN          경기도 영중면 거사리 산3-22번지 일원          중로   \n535  1568  한북정맥(비득재) 생태축  경기도 소흘읍 직동리 산9-5번지 일원(죽엽산 비득재)         지방도   \n\n          도로번호   차선_수  위도_도  위도_분      위도_초  경도_도  ...  join_지형명  join_지형기호  \\\n0          NaN  왕복6차로    37  30.0  23.37000   126  ...       NaN       GS26   \n1            0  왕복2차선    35  15.0   6.05000   129  ...     기반암하상       GS28   \n2         19호선  왕복2차선    35  18.0  20.80000   129  ...        급애       GM01   \n3          60호  왕복4차선    35  19.0  46.80000   129  ...       암석돔       GM02   \n4         1240  왕복7차선    35   6.0  31.84632   128  ...      하천습지       GS22   \n..         ...    ...   ...   ...       ...   ...  ...       ...        ...   \n531        7호선  왕복4차선    37  12.0  33.19000   129  ...       NaN        NaN   \n532  지방도 309호선  왕복6차선    37  19.0   2.04000   126  ...       NaN       GS26   \n533   지방도309호선  왕복6차선    37  20.0  11.80000   126  ...       NaN       GS26   \n534       3-30  왕복2차선    37  59.0  30.60000   127  ...       하식애       GS08   \n535        383  왕복2차선    37  47.0  10.60000   127  ...       범람원       GS30   \n\n        join_위도    join_경도   join_조사일자  join_조사년도  join_시도명  \\\n0    126.823475  37.483557  2017-10-07       2017     서울특별시   \n1    129.139970  35.278507  2016-07-21       2016     부산광역시   \n2    129.156314  35.318431  2016-07-19       2016     부산광역시   \n3    129.210855  35.308516  2016-07-21       2016     부산광역시   \n4    128.941622  35.104201         NaN       2015     부산광역시   \n..          ...        ...         ...        ...       ...   \n531  129.335797  37.163877         NaN       2016       강원도   \n532  126.994901  37.328700  2017-10-13       2017       경기도   \n533  126.994901  37.328700  2017-10-13       2017       경기도   \n534  127.226541  38.006813  2016-08-12       2016       경기도   \n535  127.172546  37.697258  2014-08-20       2014       경기도   \n\n                     join_layer  \\\n0    전국자연환경조사_4차_지형경관_면_2017_전국   \n1    전국자연환경조사_4차_지형경관_면_2016_전국   \n2    전국자연환경조사_4차_지형경관_면_2016_전국   \n3    전국자연환경조사_4차_지형경관_면_2016_전국   \n4    전국자연환경조사_4차_지형경관_면_2015_전국   \n..                          ...   \n531  전국자연환경조사_4차_지형경관_면_2016_전국   \n532  전국자연환경조사_4차_지형경관_면_2017_전국   \n533  전국자연환경조사_4차_지형경관_면_2017_전국   \n534  전국자연환경조사_4차_지형경관_면_2016_전국   \n535  전국자연환경조사_4차_지형경관_면_2014_전국   \n\n                                             join_path     distance  \n0    D:/datacampus_dao/data/전국자연환경조사 4차 지형경관_면/전국자연...  2565.175059  \n1    D:/datacampus_dao/data/전국자연환경조사 4차 지형경관_면/전국자연...  2917.936856  \n2    D:/datacampus_dao/data/전국자연환경조사 4차 지형경관_면/전국자연...  1983.069883  \n3    D:/datacampus_dao/data/전국자연환경조사 4차 지형경관_면/전국자연...  2350.251716  \n4    D:/datacampus_dao/data/전국자연환경조사 4차 지형경관_면/전국자연...   383.236674  \n..                                                 ...          ...  \n531  D:/datacampus_dao/data/전국자연환경조사 4차 지형경관_면/전국자연...  4655.980992  \n532  D:/datacampus_dao/data/전국자연환경조사 4차 지형경관_면/전국자연...  2688.784863  \n533  D:/datacampus_dao/data/전국자연환경조사 4차 지형경관_면/전국자연...  1974.953931  \n534  D:/datacampus_dao/data/전국자연환경조사 4차 지형경관_면/전국자연...  1616.644256  \n535  D:/datacampus_dao/data/전국자연환경조사 4차 지형경관_면/전국자연...  8273.777818  \n\n[536 rows x 27 columns]",
      "text/html": "<div>\n<style scoped>\n    .dataframe tbody tr th:only-of-type {\n        vertical-align: middle;\n    }\n\n    .dataframe tbody tr th {\n        vertical-align: top;\n    }\n\n    .dataframe thead th {\n        text-align: right;\n    }\n</style>\n<table border=\"1\" class=\"dataframe\">\n  <thead>\n    <tr style=\"text-align: right;\">\n      <th></th>\n      <th>번호</th>\n      <th>생태통로명</th>\n      <th>주소</th>\n      <th>도로명</th>\n      <th>도로번호</th>\n      <th>차선_수</th>\n      <th>위도_도</th>\n      <th>위도_분</th>\n      <th>위도_초</th>\n      <th>경도_도</th>\n      <th>...</th>\n      <th>join_지형명</th>\n      <th>join_지형기호</th>\n      <th>join_위도</th>\n      <th>join_경도</th>\n      <th>join_조사일자</th>\n      <th>join_조사년도</th>\n      <th>join_시도명</th>\n      <th>join_layer</th>\n      <th>join_path</th>\n      <th>distance</th>\n    </tr>\n  </thead>\n  <tbody>\n    <tr>\n      <th>0</th>\n      <td>1001</td>\n      <td>중동터널</td>\n      <td>서울특별시 구로구 궁동</td>\n      <td>계남큰길</td>\n      <td>NaN</td>\n      <td>왕복6차로</td>\n      <td>37</td>\n      <td>30.0</td>\n      <td>23.37000</td>\n      <td>126</td>\n      <td>...</td>\n      <td>NaN</td>\n      <td>GS26</td>\n      <td>126.823475</td>\n      <td>37.483557</td>\n      <td>2017-10-07</td>\n      <td>2017</td>\n      <td>서울특별시</td>\n      <td>전국자연환경조사_4차_지형경관_면_2017_전국</td>\n      <td>D:/datacampus_dao/data/전국자연환경조사 4차 지형경관_면/전국자연...</td>\n      <td>2565.175059</td>\n    </tr>\n    <tr>\n      <th>1</th>\n      <td>1002</td>\n      <td>개좌생태터널</td>\n      <td>부산광역시 금정구 회동동 산4-1</td>\n      <td>개좌로</td>\n      <td>0</td>\n      <td>왕복2차선</td>\n      <td>35</td>\n      <td>15.0</td>\n      <td>6.05000</td>\n      <td>129</td>\n      <td>...</td>\n      <td>기반암하상</td>\n      <td>GS28</td>\n      <td>129.139970</td>\n      <td>35.278507</td>\n      <td>2016-07-21</td>\n      <td>2016</td>\n      <td>부산광역시</td>\n      <td>전국자연환경조사_4차_지형경관_면_2016_전국</td>\n      <td>D:/datacampus_dao/data/전국자연환경조사 4차 지형경관_면/전국자연...</td>\n      <td>2917.936856</td>\n    </tr>\n    <tr>\n      <th>2</th>\n      <td>1004</td>\n      <td>곰내 생태통로</td>\n      <td>부산광역시 기장군 철마면 웅천리</td>\n      <td>군도</td>\n      <td>19호선</td>\n      <td>왕복2차선</td>\n      <td>35</td>\n      <td>18.0</td>\n      <td>20.80000</td>\n      <td>129</td>\n      <td>...</td>\n      <td>급애</td>\n      <td>GM01</td>\n      <td>129.156314</td>\n      <td>35.318431</td>\n      <td>2016-07-19</td>\n      <td>2016</td>\n      <td>부산광역시</td>\n      <td>전국자연환경조사_4차_지형경관_면_2016_전국</td>\n      <td>D:/datacampus_dao/data/전국자연환경조사 4차 지형경관_면/전국자연...</td>\n      <td>1983.069883</td>\n    </tr>\n    <tr>\n      <th>3</th>\n      <td>1005</td>\n      <td>정관예림리 생태통로</td>\n      <td>부산광역시 기장군 정관면 예림리</td>\n      <td>국지도</td>\n      <td>60호</td>\n      <td>왕복4차선</td>\n      <td>35</td>\n      <td>19.0</td>\n      <td>46.80000</td>\n      <td>129</td>\n      <td>...</td>\n      <td>암석돔</td>\n      <td>GM02</td>\n      <td>129.210855</td>\n      <td>35.308516</td>\n      <td>2016-07-21</td>\n      <td>2016</td>\n      <td>부산광역시</td>\n      <td>전국자연환경조사_4차_지형경관_면_2016_전국</td>\n      <td>D:/datacampus_dao/data/전국자연환경조사 4차 지형경관_면/전국자연...</td>\n      <td>2350.251716</td>\n    </tr>\n    <tr>\n      <th>4</th>\n      <td>1006</td>\n      <td>을숙도 생태통로</td>\n      <td>부산광역시 사하구 하단동</td>\n      <td>낙동남로</td>\n      <td>1240</td>\n      <td>왕복7차선</td>\n      <td>35</td>\n      <td>6.0</td>\n      <td>31.84632</td>\n      <td>128</td>\n      <td>...</td>\n      <td>하천습지</td>\n      <td>GS22</td>\n      <td>128.941622</td>\n      <td>35.104201</td>\n      <td>NaN</td>\n      <td>2015</td>\n      <td>부산광역시</td>\n      <td>전국자연환경조사_4차_지형경관_면_2015_전국</td>\n      <td>D:/datacampus_dao/data/전국자연환경조사 4차 지형경관_면/전국자연...</td>\n      <td>383.236674</td>\n    </tr>\n    <tr>\n      <th>...</th>\n      <td>...</td>\n      <td>...</td>\n      <td>...</td>\n      <td>...</td>\n      <td>...</td>\n      <td>...</td>\n      <td>...</td>\n      <td>...</td>\n      <td>...</td>\n      <td>...</td>\n      <td>...</td>\n      <td>...</td>\n      <td>...</td>\n      <td>...</td>\n      <td>...</td>\n      <td>...</td>\n      <td>...</td>\n      <td>...</td>\n      <td>...</td>\n      <td>...</td>\n      <td>...</td>\n    </tr>\n    <tr>\n      <th>531</th>\n      <td>1564</td>\n      <td>삼척노곡</td>\n      <td>강원도 삼척시 원덕읍 노곡리 산146-3</td>\n      <td>국도</td>\n      <td>7호선</td>\n      <td>왕복4차선</td>\n      <td>37</td>\n      <td>12.0</td>\n      <td>33.19000</td>\n      <td>129</td>\n      <td>...</td>\n      <td>NaN</td>\n      <td>NaN</td>\n      <td>129.335797</td>\n      <td>37.163877</td>\n      <td>NaN</td>\n      <td>2016</td>\n      <td>강원도</td>\n      <td>전국자연환경조사_4차_지형경관_면_2016_전국</td>\n      <td>D:/datacampus_dao/data/전국자연환경조사 4차 지형경관_면/전국자연...</td>\n      <td>4655.980992</td>\n    </tr>\n    <tr>\n      <th>532</th>\n      <td>1565</td>\n      <td>절토육교</td>\n      <td>경기도 의왕시 월암동 산46-3</td>\n      <td>서수원~의왕간 도로</td>\n      <td>지방도 309호선</td>\n      <td>왕복6차선</td>\n      <td>37</td>\n      <td>19.0</td>\n      <td>2.04000</td>\n      <td>126</td>\n      <td>...</td>\n      <td>NaN</td>\n      <td>GS26</td>\n      <td>126.994901</td>\n      <td>37.328700</td>\n      <td>2017-10-13</td>\n      <td>2017</td>\n      <td>경기도</td>\n      <td>전국자연환경조사_4차_지형경관_면_2017_전국</td>\n      <td>D:/datacampus_dao/data/전국자연환경조사 4차 지형경관_면/전국자연...</td>\n      <td>2688.784863</td>\n    </tr>\n    <tr>\n      <th>533</th>\n      <td>1566</td>\n      <td>동물이동통로</td>\n      <td>경기도 의왕시 고천동 산55-5</td>\n      <td>서수원~의왕간 도로</td>\n      <td>지방도309호선</td>\n      <td>왕복6차선</td>\n      <td>37</td>\n      <td>20.0</td>\n      <td>11.80000</td>\n      <td>126</td>\n      <td>...</td>\n      <td>NaN</td>\n      <td>GS26</td>\n      <td>126.994901</td>\n      <td>37.328700</td>\n      <td>2017-10-13</td>\n      <td>2017</td>\n      <td>경기도</td>\n      <td>전국자연환경조사_4차_지형경관_면_2017_전국</td>\n      <td>D:/datacampus_dao/data/전국자연환경조사 4차 지형경관_면/전국자연...</td>\n      <td>1974.953931</td>\n    </tr>\n    <tr>\n      <th>534</th>\n      <td>1567</td>\n      <td>NaN</td>\n      <td>경기도 영중면 거사리 산3-22번지 일원</td>\n      <td>중로</td>\n      <td>3-30</td>\n      <td>왕복2차선</td>\n      <td>37</td>\n      <td>59.0</td>\n      <td>30.60000</td>\n      <td>127</td>\n      <td>...</td>\n      <td>하식애</td>\n      <td>GS08</td>\n      <td>127.226541</td>\n      <td>38.006813</td>\n      <td>2016-08-12</td>\n      <td>2016</td>\n      <td>경기도</td>\n      <td>전국자연환경조사_4차_지형경관_면_2016_전국</td>\n      <td>D:/datacampus_dao/data/전국자연환경조사 4차 지형경관_면/전국자연...</td>\n      <td>1616.644256</td>\n    </tr>\n    <tr>\n      <th>535</th>\n      <td>1568</td>\n      <td>한북정맥(비득재) 생태축</td>\n      <td>경기도 소흘읍 직동리 산9-5번지 일원(죽엽산 비득재)</td>\n      <td>지방도</td>\n      <td>383</td>\n      <td>왕복2차선</td>\n      <td>37</td>\n      <td>47.0</td>\n      <td>10.60000</td>\n      <td>127</td>\n      <td>...</td>\n      <td>범람원</td>\n      <td>GS30</td>\n      <td>127.172546</td>\n      <td>37.697258</td>\n      <td>2014-08-20</td>\n      <td>2014</td>\n      <td>경기도</td>\n      <td>전국자연환경조사_4차_지형경관_면_2014_전국</td>\n      <td>D:/datacampus_dao/data/전국자연환경조사 4차 지형경관_면/전국자연...</td>\n      <td>8273.777818</td>\n    </tr>\n  </tbody>\n</table>\n<p>536 rows × 27 columns</p>\n</div>"
     },
     "execution_count": 36,
     "metadata": {},
     "output_type": "execute_result"
    }
   ],
   "source": [
    "raw_df = pd.read_csv('.././data/전국자연환경조사 4차 지형경관_면/생태통로_지형경관_병합_final.csv', encoding='cp949')\n",
    "raw_df"
   ],
   "metadata": {
    "collapsed": false,
    "pycharm": {
     "name": "#%%\n"
    }
   }
  },
  {
   "cell_type": "code",
   "execution_count": 38,
   "outputs": [],
   "source": [
    "df = raw_df[['번호', 'join_지형명', 'join_지형기호', 'distance']]"
   ],
   "metadata": {
    "collapsed": false,
    "pycharm": {
     "name": "#%%\n"
    }
   }
  },
  {
   "cell_type": "markdown",
   "source": [
    "생태통로와의 거리가 5km 이상인 지형경관 특성 => 특성없음. X 처리"
   ],
   "metadata": {
    "collapsed": false
   }
  },
  {
   "cell_type": "code",
   "execution_count": 40,
   "outputs": [
    {
     "name": "stdout",
     "output_type": "stream",
     "text": [
      "5km: 70\n",
      "1km: 453\n"
     ]
    }
   ],
   "source": [
    "print(\"5km:\",len(df[df['distance'] > 5000].index))\n",
    "print(\"1km:\",len(df[df['distance'] > 1000].index))"
   ],
   "metadata": {
    "collapsed": false,
    "pycharm": {
     "name": "#%%\n"
    }
   }
  },
  {
   "cell_type": "code",
   "execution_count": 41,
   "outputs": [],
   "source": [
    "indexs = list(df[df['distance'] > 5000].index)\n",
    "for idx in indexs :\n",
    "    df.loc[idx, 'join_지형명'] = '특성없음'\n",
    "    df.loc[idx, 'join_지형기호'] = 'X'\n",
    "    df.loc[idx, 'distance'] = -1"
   ],
   "metadata": {
    "collapsed": false,
    "pycharm": {
     "name": "#%%\n"
    }
   }
  },
  {
   "cell_type": "markdown",
   "source": [
    "결측값 확인"
   ],
   "metadata": {
    "collapsed": false
   }
  },
  {
   "cell_type": "code",
   "execution_count": 42,
   "outputs": [
    {
     "data": {
      "text/plain": "       번호 join_지형명 join_지형기호     distance\n0    1001      NaN      GS26  2565.175059\n7    1009      NaN      GM02  3603.695370\n8    1010      NaN      GS22  1504.208528\n9    1011      NaN      GS26  2202.628293\n10   1012      NaN      GS26  1636.064458\n..    ...      ...       ...          ...\n506  1538      NaN      GS26  2688.784863\n529  1561      NaN      GM01  1607.932814\n531  1564      NaN       NaN  4655.980992\n532  1565      NaN      GS26  2688.784863\n533  1566      NaN      GS26  1974.953931\n\n[100 rows x 4 columns]",
      "text/html": "<div>\n<style scoped>\n    .dataframe tbody tr th:only-of-type {\n        vertical-align: middle;\n    }\n\n    .dataframe tbody tr th {\n        vertical-align: top;\n    }\n\n    .dataframe thead th {\n        text-align: right;\n    }\n</style>\n<table border=\"1\" class=\"dataframe\">\n  <thead>\n    <tr style=\"text-align: right;\">\n      <th></th>\n      <th>번호</th>\n      <th>join_지형명</th>\n      <th>join_지형기호</th>\n      <th>distance</th>\n    </tr>\n  </thead>\n  <tbody>\n    <tr>\n      <th>0</th>\n      <td>1001</td>\n      <td>NaN</td>\n      <td>GS26</td>\n      <td>2565.175059</td>\n    </tr>\n    <tr>\n      <th>7</th>\n      <td>1009</td>\n      <td>NaN</td>\n      <td>GM02</td>\n      <td>3603.695370</td>\n    </tr>\n    <tr>\n      <th>8</th>\n      <td>1010</td>\n      <td>NaN</td>\n      <td>GS22</td>\n      <td>1504.208528</td>\n    </tr>\n    <tr>\n      <th>9</th>\n      <td>1011</td>\n      <td>NaN</td>\n      <td>GS26</td>\n      <td>2202.628293</td>\n    </tr>\n    <tr>\n      <th>10</th>\n      <td>1012</td>\n      <td>NaN</td>\n      <td>GS26</td>\n      <td>1636.064458</td>\n    </tr>\n    <tr>\n      <th>...</th>\n      <td>...</td>\n      <td>...</td>\n      <td>...</td>\n      <td>...</td>\n    </tr>\n    <tr>\n      <th>506</th>\n      <td>1538</td>\n      <td>NaN</td>\n      <td>GS26</td>\n      <td>2688.784863</td>\n    </tr>\n    <tr>\n      <th>529</th>\n      <td>1561</td>\n      <td>NaN</td>\n      <td>GM01</td>\n      <td>1607.932814</td>\n    </tr>\n    <tr>\n      <th>531</th>\n      <td>1564</td>\n      <td>NaN</td>\n      <td>NaN</td>\n      <td>4655.980992</td>\n    </tr>\n    <tr>\n      <th>532</th>\n      <td>1565</td>\n      <td>NaN</td>\n      <td>GS26</td>\n      <td>2688.784863</td>\n    </tr>\n    <tr>\n      <th>533</th>\n      <td>1566</td>\n      <td>NaN</td>\n      <td>GS26</td>\n      <td>1974.953931</td>\n    </tr>\n  </tbody>\n</table>\n<p>100 rows × 4 columns</p>\n</div>"
     },
     "execution_count": 42,
     "metadata": {},
     "output_type": "execute_result"
    }
   ],
   "source": [
    "df[df['join_지형명'].isnull()]"
   ],
   "metadata": {
    "collapsed": false,
    "pycharm": {
     "name": "#%%\n"
    }
   }
  },
  {
   "cell_type": "code",
   "execution_count": 43,
   "outputs": [
    {
     "data": {
      "text/plain": "       번호       join_지형명 join_지형기호     distance\n14   1016            NaN       NaN   626.173085\n102  1109       기타(침식산지)       NaN  2031.919017\n145  1159            NaN       NaN  4573.914369\n146  1160            NaN       NaN  4023.890343\n153  1167        기타(타포니)       NaN  1516.027542\n170  1184  기타(솔리플럭션 퇴적층)       NaN  4619.389779\n183  1199         기타(산정)       NaN  4382.257515\n198  1214         기타(산정)       NaN  3934.354309\n224  1240            NaN       NaN  3607.786987\n225  1241            NaN       NaN  3524.301257\n226  1242            NaN       NaN  3478.303212\n227  1243            NaN       NaN  3544.010650\n228  1244            NaN       NaN  3786.661165\n229  1245            NaN       NaN  4025.730565\n257  1273           인공지형       NaN   982.773315\n327  1347            NaN       NaN  3835.161110\n328  1348            NaN       NaN  4127.594527\n357  1377        기타(논습지)       NaN  1289.569495\n447  1476  기타(솔리플럭션 퇴적층)       NaN  4654.369445\n469  1501           침식산지       NaN  3690.730789\n531  1564            NaN       NaN  4655.980992",
      "text/html": "<div>\n<style scoped>\n    .dataframe tbody tr th:only-of-type {\n        vertical-align: middle;\n    }\n\n    .dataframe tbody tr th {\n        vertical-align: top;\n    }\n\n    .dataframe thead th {\n        text-align: right;\n    }\n</style>\n<table border=\"1\" class=\"dataframe\">\n  <thead>\n    <tr style=\"text-align: right;\">\n      <th></th>\n      <th>번호</th>\n      <th>join_지형명</th>\n      <th>join_지형기호</th>\n      <th>distance</th>\n    </tr>\n  </thead>\n  <tbody>\n    <tr>\n      <th>14</th>\n      <td>1016</td>\n      <td>NaN</td>\n      <td>NaN</td>\n      <td>626.173085</td>\n    </tr>\n    <tr>\n      <th>102</th>\n      <td>1109</td>\n      <td>기타(침식산지)</td>\n      <td>NaN</td>\n      <td>2031.919017</td>\n    </tr>\n    <tr>\n      <th>145</th>\n      <td>1159</td>\n      <td>NaN</td>\n      <td>NaN</td>\n      <td>4573.914369</td>\n    </tr>\n    <tr>\n      <th>146</th>\n      <td>1160</td>\n      <td>NaN</td>\n      <td>NaN</td>\n      <td>4023.890343</td>\n    </tr>\n    <tr>\n      <th>153</th>\n      <td>1167</td>\n      <td>기타(타포니)</td>\n      <td>NaN</td>\n      <td>1516.027542</td>\n    </tr>\n    <tr>\n      <th>170</th>\n      <td>1184</td>\n      <td>기타(솔리플럭션 퇴적층)</td>\n      <td>NaN</td>\n      <td>4619.389779</td>\n    </tr>\n    <tr>\n      <th>183</th>\n      <td>1199</td>\n      <td>기타(산정)</td>\n      <td>NaN</td>\n      <td>4382.257515</td>\n    </tr>\n    <tr>\n      <th>198</th>\n      <td>1214</td>\n      <td>기타(산정)</td>\n      <td>NaN</td>\n      <td>3934.354309</td>\n    </tr>\n    <tr>\n      <th>224</th>\n      <td>1240</td>\n      <td>NaN</td>\n      <td>NaN</td>\n      <td>3607.786987</td>\n    </tr>\n    <tr>\n      <th>225</th>\n      <td>1241</td>\n      <td>NaN</td>\n      <td>NaN</td>\n      <td>3524.301257</td>\n    </tr>\n    <tr>\n      <th>226</th>\n      <td>1242</td>\n      <td>NaN</td>\n      <td>NaN</td>\n      <td>3478.303212</td>\n    </tr>\n    <tr>\n      <th>227</th>\n      <td>1243</td>\n      <td>NaN</td>\n      <td>NaN</td>\n      <td>3544.010650</td>\n    </tr>\n    <tr>\n      <th>228</th>\n      <td>1244</td>\n      <td>NaN</td>\n      <td>NaN</td>\n      <td>3786.661165</td>\n    </tr>\n    <tr>\n      <th>229</th>\n      <td>1245</td>\n      <td>NaN</td>\n      <td>NaN</td>\n      <td>4025.730565</td>\n    </tr>\n    <tr>\n      <th>257</th>\n      <td>1273</td>\n      <td>인공지형</td>\n      <td>NaN</td>\n      <td>982.773315</td>\n    </tr>\n    <tr>\n      <th>327</th>\n      <td>1347</td>\n      <td>NaN</td>\n      <td>NaN</td>\n      <td>3835.161110</td>\n    </tr>\n    <tr>\n      <th>328</th>\n      <td>1348</td>\n      <td>NaN</td>\n      <td>NaN</td>\n      <td>4127.594527</td>\n    </tr>\n    <tr>\n      <th>357</th>\n      <td>1377</td>\n      <td>기타(논습지)</td>\n      <td>NaN</td>\n      <td>1289.569495</td>\n    </tr>\n    <tr>\n      <th>447</th>\n      <td>1476</td>\n      <td>기타(솔리플럭션 퇴적층)</td>\n      <td>NaN</td>\n      <td>4654.369445</td>\n    </tr>\n    <tr>\n      <th>469</th>\n      <td>1501</td>\n      <td>침식산지</td>\n      <td>NaN</td>\n      <td>3690.730789</td>\n    </tr>\n    <tr>\n      <th>531</th>\n      <td>1564</td>\n      <td>NaN</td>\n      <td>NaN</td>\n      <td>4655.980992</td>\n    </tr>\n  </tbody>\n</table>\n</div>"
     },
     "execution_count": 43,
     "metadata": {},
     "output_type": "execute_result"
    }
   ],
   "source": [
    "df[df['join_지형기호'].isnull()]"
   ],
   "metadata": {
    "collapsed": false,
    "pycharm": {
     "name": "#%%\n"
    }
   }
  },
  {
   "cell_type": "markdown",
   "source": [
    "지형명이 null인데 지형기호가 있는 것은 기호에 따른 지형명을 찾아 채움"
   ],
   "metadata": {
    "collapsed": false
   }
  },
  {
   "cell_type": "code",
   "execution_count": 44,
   "outputs": [
    {
     "data": {
      "text/plain": "       번호 join_지형명 join_지형기호     distance\n0    1001      NaN      GS26  2565.175059\n7    1009      NaN      GM02  3603.695370\n8    1010      NaN      GS22  1504.208528\n9    1011      NaN      GS26  2202.628293\n10   1012      NaN      GS26  1636.064458\n..    ...      ...       ...          ...\n506  1538      NaN      GS26  2688.784863\n529  1561      NaN      GM01  1607.932814\n531  1564      NaN       NaN  4655.980992\n532  1565      NaN      GS26  2688.784863\n533  1566      NaN      GS26  1974.953931\n\n[100 rows x 4 columns]",
      "text/html": "<div>\n<style scoped>\n    .dataframe tbody tr th:only-of-type {\n        vertical-align: middle;\n    }\n\n    .dataframe tbody tr th {\n        vertical-align: top;\n    }\n\n    .dataframe thead th {\n        text-align: right;\n    }\n</style>\n<table border=\"1\" class=\"dataframe\">\n  <thead>\n    <tr style=\"text-align: right;\">\n      <th></th>\n      <th>번호</th>\n      <th>join_지형명</th>\n      <th>join_지형기호</th>\n      <th>distance</th>\n    </tr>\n  </thead>\n  <tbody>\n    <tr>\n      <th>0</th>\n      <td>1001</td>\n      <td>NaN</td>\n      <td>GS26</td>\n      <td>2565.175059</td>\n    </tr>\n    <tr>\n      <th>7</th>\n      <td>1009</td>\n      <td>NaN</td>\n      <td>GM02</td>\n      <td>3603.695370</td>\n    </tr>\n    <tr>\n      <th>8</th>\n      <td>1010</td>\n      <td>NaN</td>\n      <td>GS22</td>\n      <td>1504.208528</td>\n    </tr>\n    <tr>\n      <th>9</th>\n      <td>1011</td>\n      <td>NaN</td>\n      <td>GS26</td>\n      <td>2202.628293</td>\n    </tr>\n    <tr>\n      <th>10</th>\n      <td>1012</td>\n      <td>NaN</td>\n      <td>GS26</td>\n      <td>1636.064458</td>\n    </tr>\n    <tr>\n      <th>...</th>\n      <td>...</td>\n      <td>...</td>\n      <td>...</td>\n      <td>...</td>\n    </tr>\n    <tr>\n      <th>506</th>\n      <td>1538</td>\n      <td>NaN</td>\n      <td>GS26</td>\n      <td>2688.784863</td>\n    </tr>\n    <tr>\n      <th>529</th>\n      <td>1561</td>\n      <td>NaN</td>\n      <td>GM01</td>\n      <td>1607.932814</td>\n    </tr>\n    <tr>\n      <th>531</th>\n      <td>1564</td>\n      <td>NaN</td>\n      <td>NaN</td>\n      <td>4655.980992</td>\n    </tr>\n    <tr>\n      <th>532</th>\n      <td>1565</td>\n      <td>NaN</td>\n      <td>GS26</td>\n      <td>2688.784863</td>\n    </tr>\n    <tr>\n      <th>533</th>\n      <td>1566</td>\n      <td>NaN</td>\n      <td>GS26</td>\n      <td>1974.953931</td>\n    </tr>\n  </tbody>\n</table>\n<p>100 rows × 4 columns</p>\n</div>"
     },
     "metadata": {},
     "output_type": "display_data"
    },
    {
     "name": "stdout",
     "output_type": "stream",
     "text": [
      "nan\n",
      "GV07\n",
      "GM11\n",
      "GS24\n",
      "{'GS26': '호소성 습지', 'GM02': '암석돔', 'GS22': '하천습지', 'GC10': '염습지', 'GM01': '급애', 'GM05': '토르', 'GS12': '곡저평야', 'GS01': '폭포', 'GS28': '기반암하상', 'GM19': '암괴원', 'GM20': '애추', 'GV02': '분석구', 'GS32': '인공호수', 'GC03': '파식대', 'GS08': '하식애', 'GM15': '구조(선)곡(단층(선)곡)', 'GS30': '범람원', 'GM21': '산지습지', 'GS25': '하안단구', 'GM25': '토르군', 'GM08': '고립구릉'}\n"
     ]
    }
   ],
   "source": [
    "name_null = df[df['join_지형명'].isnull()]\n",
    "display(name_null)\n",
    "symbol = list(name_null['join_지형기호'].unique())\n",
    "symbol_dict = {}\n",
    "for s in symbol :\n",
    "    a = df[(df['join_지형기호'] == s) & (df['join_지형명'].notnull())]\n",
    "    try :\n",
    "        symbol_dict[s]=a['join_지형명'].unique()[0]\n",
    "    except :\n",
    "        print(s)\n",
    "print(symbol_dict)"
   ],
   "metadata": {
    "collapsed": false,
    "pycharm": {
     "name": "#%%\n"
    }
   }
  },
  {
   "cell_type": "code",
   "execution_count": 47,
   "outputs": [],
   "source": [
    "symbol_dict['GV07'] = '화구'\n",
    "symbol_dict['GS24'] = '샛강습지'\n",
    "symbol_dict['GM11'] = '풍화동굴'"
   ],
   "metadata": {
    "collapsed": false,
    "pycharm": {
     "name": "#%%\n"
    }
   }
  },
  {
   "cell_type": "code",
   "execution_count": 48,
   "outputs": [
    {
     "name": "stdout",
     "output_type": "stream",
     "text": [
      "error : nan\n",
      "error : nan\n",
      "error : nan\n",
      "error : nan\n",
      "error : nan\n",
      "error : nan\n",
      "error : nan\n",
      "error : nan\n",
      "error : nan\n",
      "error : nan\n",
      "error : nan\n",
      "error : nan\n"
     ]
    }
   ],
   "source": [
    "name_null_index = list(name_null.index)\n",
    "for idx in name_null_index :\n",
    "    try:\n",
    "        name = symbol_dict[df.loc[idx, 'join_지형기호']]\n",
    "        df.loc[idx, 'join_지형명'] = name\n",
    "    except: ## 지형기호가 nan\n",
    "        print('error :', df.loc[idx, 'join_지형기호'])"
   ],
   "metadata": {
    "collapsed": false,
    "pycharm": {
     "name": "#%%\n"
    }
   }
  },
  {
   "cell_type": "code",
   "execution_count": 49,
   "outputs": [],
   "source": [
    "all_null = df[(df['join_지형명'].isnull()) & (df['join_지형기호'].isnull())]\n",
    "all_null_index = list(all_null.index)"
   ],
   "metadata": {
    "collapsed": false,
    "pycharm": {
     "name": "#%%\n"
    }
   }
  },
  {
   "cell_type": "code",
   "execution_count": 50,
   "outputs": [],
   "source": [
    "for idx in all_null_index :\n",
    "    df.loc[idx, 'join_지형명'] = '특성없음'\n",
    "    df.loc[idx, 'join_지형기호'] = 'X'"
   ],
   "metadata": {
    "collapsed": false,
    "pycharm": {
     "name": "#%%\n"
    }
   }
  },
  {
   "cell_type": "code",
   "execution_count": 51,
   "outputs": [
    {
     "data": {
      "text/plain": "번호           0\njoin_지형명     0\njoin_지형기호    9\ndistance     0\ndtype: int64"
     },
     "execution_count": 51,
     "metadata": {},
     "output_type": "execute_result"
    }
   ],
   "source": [
    "df.isnull().sum()"
   ],
   "metadata": {
    "collapsed": false,
    "pycharm": {
     "name": "#%%\n"
    }
   }
  },
  {
   "cell_type": "markdown",
   "source": [
    "지형기호가 없는 것 => 기타.\n",
    "지형명이 기타()인 것은 모두 기타로 통일"
   ],
   "metadata": {
    "collapsed": false
   }
  },
  {
   "cell_type": "code",
   "execution_count": 52,
   "outputs": [
    {
     "data": {
      "text/plain": "       번호       join_지형명 join_지형기호     distance\n102  1109       기타(침식산지)       NaN  2031.919017\n153  1167        기타(타포니)       NaN  1516.027542\n170  1184  기타(솔리플럭션 퇴적층)       NaN  4619.389779\n183  1199         기타(산정)       NaN  4382.257515\n198  1214         기타(산정)       NaN  3934.354309\n257  1273           인공지형       NaN   982.773315\n357  1377        기타(논습지)       NaN  1289.569495\n447  1476  기타(솔리플럭션 퇴적층)       NaN  4654.369445\n469  1501           침식산지       NaN  3690.730789",
      "text/html": "<div>\n<style scoped>\n    .dataframe tbody tr th:only-of-type {\n        vertical-align: middle;\n    }\n\n    .dataframe tbody tr th {\n        vertical-align: top;\n    }\n\n    .dataframe thead th {\n        text-align: right;\n    }\n</style>\n<table border=\"1\" class=\"dataframe\">\n  <thead>\n    <tr style=\"text-align: right;\">\n      <th></th>\n      <th>번호</th>\n      <th>join_지형명</th>\n      <th>join_지형기호</th>\n      <th>distance</th>\n    </tr>\n  </thead>\n  <tbody>\n    <tr>\n      <th>102</th>\n      <td>1109</td>\n      <td>기타(침식산지)</td>\n      <td>NaN</td>\n      <td>2031.919017</td>\n    </tr>\n    <tr>\n      <th>153</th>\n      <td>1167</td>\n      <td>기타(타포니)</td>\n      <td>NaN</td>\n      <td>1516.027542</td>\n    </tr>\n    <tr>\n      <th>170</th>\n      <td>1184</td>\n      <td>기타(솔리플럭션 퇴적층)</td>\n      <td>NaN</td>\n      <td>4619.389779</td>\n    </tr>\n    <tr>\n      <th>183</th>\n      <td>1199</td>\n      <td>기타(산정)</td>\n      <td>NaN</td>\n      <td>4382.257515</td>\n    </tr>\n    <tr>\n      <th>198</th>\n      <td>1214</td>\n      <td>기타(산정)</td>\n      <td>NaN</td>\n      <td>3934.354309</td>\n    </tr>\n    <tr>\n      <th>257</th>\n      <td>1273</td>\n      <td>인공지형</td>\n      <td>NaN</td>\n      <td>982.773315</td>\n    </tr>\n    <tr>\n      <th>357</th>\n      <td>1377</td>\n      <td>기타(논습지)</td>\n      <td>NaN</td>\n      <td>1289.569495</td>\n    </tr>\n    <tr>\n      <th>447</th>\n      <td>1476</td>\n      <td>기타(솔리플럭션 퇴적층)</td>\n      <td>NaN</td>\n      <td>4654.369445</td>\n    </tr>\n    <tr>\n      <th>469</th>\n      <td>1501</td>\n      <td>침식산지</td>\n      <td>NaN</td>\n      <td>3690.730789</td>\n    </tr>\n  </tbody>\n</table>\n</div>"
     },
     "execution_count": 52,
     "metadata": {},
     "output_type": "execute_result"
    }
   ],
   "source": [
    "df[df['join_지형기호'].isnull()]"
   ],
   "metadata": {
    "collapsed": false,
    "pycharm": {
     "name": "#%%\n"
    }
   }
  },
  {
   "cell_type": "code",
   "execution_count": 53,
   "outputs": [
    {
     "name": "stdout",
     "output_type": "stream",
     "text": [
      "69\n",
      "59\n"
     ]
    }
   ],
   "source": [
    "print(df['join_지형명'].nunique())\n",
    "print(df['join_지형기호'].nunique())"
   ],
   "metadata": {
    "collapsed": false,
    "pycharm": {
     "name": "#%%\n"
    }
   }
  },
  {
   "cell_type": "markdown",
   "source": [
    "같은 지형기호여도 지형명이 다른 형식으로 적혀있는 경우가 있어 지형기호로 통일"
   ],
   "metadata": {
    "collapsed": false
   }
  },
  {
   "cell_type": "code",
   "execution_count": 54,
   "outputs": [],
   "source": [
    "etc_df = df[(df['join_지형기호']=='기타') | df['join_지형기호'].isnull()]"
   ],
   "metadata": {
    "collapsed": false,
    "pycharm": {
     "name": "#%%\n"
    }
   }
  },
  {
   "cell_type": "code",
   "execution_count": 55,
   "outputs": [],
   "source": [
    "etc_index = list(etc_df.index)\n",
    "for idx in etc_index :\n",
    "    df.loc[idx, 'join_지형기호'] = '기타'\n",
    "    df.loc[idx, 'join_지형명'] = '기타'"
   ],
   "metadata": {
    "collapsed": false,
    "pycharm": {
     "name": "#%%\n"
    }
   }
  },
  {
   "cell_type": "code",
   "execution_count": 56,
   "outputs": [
    {
     "data": {
      "text/plain": "       번호 join_지형명 join_지형기호     distance\n0    1001   호소성 습지      GS26  2565.175059\n1    1002    기반암하상      GS28  2917.936856\n2    1004       급애      GM01  1983.069883\n3    1005      암석돔      GM02  2350.251716\n4    1006     하천습지      GS22   383.236674\n..    ...      ...       ...          ...\n531  1564     특성없음         X  4655.980992\n532  1565   호소성 습지      GS26  2688.784863\n533  1566   호소성 습지      GS26  1974.953931\n534  1567      하식애      GS08  1616.644256\n535  1568     특성없음         X    -1.000000\n\n[536 rows x 4 columns]",
      "text/html": "<div>\n<style scoped>\n    .dataframe tbody tr th:only-of-type {\n        vertical-align: middle;\n    }\n\n    .dataframe tbody tr th {\n        vertical-align: top;\n    }\n\n    .dataframe thead th {\n        text-align: right;\n    }\n</style>\n<table border=\"1\" class=\"dataframe\">\n  <thead>\n    <tr style=\"text-align: right;\">\n      <th></th>\n      <th>번호</th>\n      <th>join_지형명</th>\n      <th>join_지형기호</th>\n      <th>distance</th>\n    </tr>\n  </thead>\n  <tbody>\n    <tr>\n      <th>0</th>\n      <td>1001</td>\n      <td>호소성 습지</td>\n      <td>GS26</td>\n      <td>2565.175059</td>\n    </tr>\n    <tr>\n      <th>1</th>\n      <td>1002</td>\n      <td>기반암하상</td>\n      <td>GS28</td>\n      <td>2917.936856</td>\n    </tr>\n    <tr>\n      <th>2</th>\n      <td>1004</td>\n      <td>급애</td>\n      <td>GM01</td>\n      <td>1983.069883</td>\n    </tr>\n    <tr>\n      <th>3</th>\n      <td>1005</td>\n      <td>암석돔</td>\n      <td>GM02</td>\n      <td>2350.251716</td>\n    </tr>\n    <tr>\n      <th>4</th>\n      <td>1006</td>\n      <td>하천습지</td>\n      <td>GS22</td>\n      <td>383.236674</td>\n    </tr>\n    <tr>\n      <th>...</th>\n      <td>...</td>\n      <td>...</td>\n      <td>...</td>\n      <td>...</td>\n    </tr>\n    <tr>\n      <th>531</th>\n      <td>1564</td>\n      <td>특성없음</td>\n      <td>X</td>\n      <td>4655.980992</td>\n    </tr>\n    <tr>\n      <th>532</th>\n      <td>1565</td>\n      <td>호소성 습지</td>\n      <td>GS26</td>\n      <td>2688.784863</td>\n    </tr>\n    <tr>\n      <th>533</th>\n      <td>1566</td>\n      <td>호소성 습지</td>\n      <td>GS26</td>\n      <td>1974.953931</td>\n    </tr>\n    <tr>\n      <th>534</th>\n      <td>1567</td>\n      <td>하식애</td>\n      <td>GS08</td>\n      <td>1616.644256</td>\n    </tr>\n    <tr>\n      <th>535</th>\n      <td>1568</td>\n      <td>특성없음</td>\n      <td>X</td>\n      <td>-1.000000</td>\n    </tr>\n  </tbody>\n</table>\n<p>536 rows × 4 columns</p>\n</div>"
     },
     "execution_count": 56,
     "metadata": {},
     "output_type": "execute_result"
    }
   ],
   "source": [
    "df"
   ],
   "metadata": {
    "collapsed": false,
    "pycharm": {
     "name": "#%%\n"
    }
   }
  },
  {
   "cell_type": "code",
   "execution_count": 57,
   "outputs": [
    {
     "name": "stderr",
     "output_type": "stream",
     "text": [
      "C:\\Users\\Administrator\\AppData\\Local\\Temp\\ipykernel_22208\\1017034498.py:2: SettingWithCopyWarning: \n",
      "A value is trying to be set on a copy of a slice from a DataFrame\n",
      "\n",
      "See the caveats in the documentation: https://pandas.pydata.org/pandas-docs/stable/user_guide/indexing.html#returning-a-view-versus-a-copy\n",
      "  result.rename(columns={'join_지형기호':'지형기호(5km)'}, inplace=True)\n"
     ]
    }
   ],
   "source": [
    "result = df[['번호', 'join_지형기호']]\n",
    "result.rename(columns={'join_지형기호':'지형기호(5km)'}, inplace=True)"
   ],
   "metadata": {
    "collapsed": false,
    "pycharm": {
     "name": "#%%\n"
    }
   }
  },
  {
   "cell_type": "code",
   "execution_count": 58,
   "outputs": [
    {
     "data": {
      "text/plain": "       번호 지형기호(5km)\n0    1001      GS26\n1    1002      GS28\n2    1004      GM01\n3    1005      GM02\n4    1006      GS22\n..    ...       ...\n531  1564         X\n532  1565      GS26\n533  1566      GS26\n534  1567      GS08\n535  1568         X\n\n[536 rows x 2 columns]",
      "text/html": "<div>\n<style scoped>\n    .dataframe tbody tr th:only-of-type {\n        vertical-align: middle;\n    }\n\n    .dataframe tbody tr th {\n        vertical-align: top;\n    }\n\n    .dataframe thead th {\n        text-align: right;\n    }\n</style>\n<table border=\"1\" class=\"dataframe\">\n  <thead>\n    <tr style=\"text-align: right;\">\n      <th></th>\n      <th>번호</th>\n      <th>지형기호(5km)</th>\n    </tr>\n  </thead>\n  <tbody>\n    <tr>\n      <th>0</th>\n      <td>1001</td>\n      <td>GS26</td>\n    </tr>\n    <tr>\n      <th>1</th>\n      <td>1002</td>\n      <td>GS28</td>\n    </tr>\n    <tr>\n      <th>2</th>\n      <td>1004</td>\n      <td>GM01</td>\n    </tr>\n    <tr>\n      <th>3</th>\n      <td>1005</td>\n      <td>GM02</td>\n    </tr>\n    <tr>\n      <th>4</th>\n      <td>1006</td>\n      <td>GS22</td>\n    </tr>\n    <tr>\n      <th>...</th>\n      <td>...</td>\n      <td>...</td>\n    </tr>\n    <tr>\n      <th>531</th>\n      <td>1564</td>\n      <td>X</td>\n    </tr>\n    <tr>\n      <th>532</th>\n      <td>1565</td>\n      <td>GS26</td>\n    </tr>\n    <tr>\n      <th>533</th>\n      <td>1566</td>\n      <td>GS26</td>\n    </tr>\n    <tr>\n      <th>534</th>\n      <td>1567</td>\n      <td>GS08</td>\n    </tr>\n    <tr>\n      <th>535</th>\n      <td>1568</td>\n      <td>X</td>\n    </tr>\n  </tbody>\n</table>\n<p>536 rows × 2 columns</p>\n</div>"
     },
     "execution_count": 58,
     "metadata": {},
     "output_type": "execute_result"
    }
   ],
   "source": [
    "result"
   ],
   "metadata": {
    "collapsed": false,
    "pycharm": {
     "name": "#%%\n"
    }
   }
  },
  {
   "cell_type": "code",
   "execution_count": 59,
   "outputs": [],
   "source": [
    "HK = load_data_from_rds('re_MainData_inner_HK')"
   ],
   "metadata": {
    "collapsed": false,
    "pycharm": {
     "name": "#%%\n"
    }
   }
  },
  {
   "cell_type": "code",
   "execution_count": 63,
   "outputs": [
    {
     "data": {
      "text/plain": "       번호  주변 동물종 개수  주변동물 출현빈도  하천까지의 최단 거리(km)            식물군락명\n0    1001          2          2         1.594083   아까시나무-상수리나무식재림\n1    1002          4         14         1.434181            소나무군락\n2    1004          4         16         1.248795            소나무군락\n3    1005          4          8         0.937739        굴참나무-곰솔군락\n4    1006          3         10         0.215409             곰솔군락\n..    ...        ...        ...              ...              ...\n531  1564          6         17         0.931150           굴참나무군락\n532  1565          1          2         1.508948          상수리나무군락\n533  1566          3          7         0.602177         아까시나무식재림\n534  1567          6          9         1.002913      신갈나무-굴참나무군락\n535  1568          5         19         1.648371  일본잎갈나무-상수리나무식재림\n\n[536 rows x 5 columns]",
      "text/html": "<div>\n<style scoped>\n    .dataframe tbody tr th:only-of-type {\n        vertical-align: middle;\n    }\n\n    .dataframe tbody tr th {\n        vertical-align: top;\n    }\n\n    .dataframe thead th {\n        text-align: right;\n    }\n</style>\n<table border=\"1\" class=\"dataframe\">\n  <thead>\n    <tr style=\"text-align: right;\">\n      <th></th>\n      <th>번호</th>\n      <th>주변 동물종 개수</th>\n      <th>주변동물 출현빈도</th>\n      <th>하천까지의 최단 거리(km)</th>\n      <th>식물군락명</th>\n    </tr>\n  </thead>\n  <tbody>\n    <tr>\n      <th>0</th>\n      <td>1001</td>\n      <td>2</td>\n      <td>2</td>\n      <td>1.594083</td>\n      <td>아까시나무-상수리나무식재림</td>\n    </tr>\n    <tr>\n      <th>1</th>\n      <td>1002</td>\n      <td>4</td>\n      <td>14</td>\n      <td>1.434181</td>\n      <td>소나무군락</td>\n    </tr>\n    <tr>\n      <th>2</th>\n      <td>1004</td>\n      <td>4</td>\n      <td>16</td>\n      <td>1.248795</td>\n      <td>소나무군락</td>\n    </tr>\n    <tr>\n      <th>3</th>\n      <td>1005</td>\n      <td>4</td>\n      <td>8</td>\n      <td>0.937739</td>\n      <td>굴참나무-곰솔군락</td>\n    </tr>\n    <tr>\n      <th>4</th>\n      <td>1006</td>\n      <td>3</td>\n      <td>10</td>\n      <td>0.215409</td>\n      <td>곰솔군락</td>\n    </tr>\n    <tr>\n      <th>...</th>\n      <td>...</td>\n      <td>...</td>\n      <td>...</td>\n      <td>...</td>\n      <td>...</td>\n    </tr>\n    <tr>\n      <th>531</th>\n      <td>1564</td>\n      <td>6</td>\n      <td>17</td>\n      <td>0.931150</td>\n      <td>굴참나무군락</td>\n    </tr>\n    <tr>\n      <th>532</th>\n      <td>1565</td>\n      <td>1</td>\n      <td>2</td>\n      <td>1.508948</td>\n      <td>상수리나무군락</td>\n    </tr>\n    <tr>\n      <th>533</th>\n      <td>1566</td>\n      <td>3</td>\n      <td>7</td>\n      <td>0.602177</td>\n      <td>아까시나무식재림</td>\n    </tr>\n    <tr>\n      <th>534</th>\n      <td>1567</td>\n      <td>6</td>\n      <td>9</td>\n      <td>1.002913</td>\n      <td>신갈나무-굴참나무군락</td>\n    </tr>\n    <tr>\n      <th>535</th>\n      <td>1568</td>\n      <td>5</td>\n      <td>19</td>\n      <td>1.648371</td>\n      <td>일본잎갈나무-상수리나무식재림</td>\n    </tr>\n  </tbody>\n</table>\n<p>536 rows × 5 columns</p>\n</div>"
     },
     "execution_count": 63,
     "metadata": {},
     "output_type": "execute_result"
    }
   ],
   "source": [
    "HK"
   ],
   "metadata": {
    "collapsed": false,
    "pycharm": {
     "name": "#%%\n"
    }
   }
  },
  {
   "cell_type": "code",
   "execution_count": 64,
   "outputs": [
    {
     "data": {
      "text/plain": "       번호  주변 동물종 개수  주변동물 출현빈도  하천까지의 최단 거리(km)            식물군락명 지형기호(5km)\n0    1001          2          2         1.594083   아까시나무-상수리나무식재림      GS26\n1    1002          4         14         1.434181            소나무군락      GS28\n2    1004          4         16         1.248795            소나무군락      GM01\n3    1005          4          8         0.937739        굴참나무-곰솔군락      GM02\n4    1006          3         10         0.215409             곰솔군락      GS22\n..    ...        ...        ...              ...              ...       ...\n531  1564          6         17         0.931150           굴참나무군락         X\n532  1565          1          2         1.508948          상수리나무군락      GS26\n533  1566          3          7         0.602177         아까시나무식재림      GS26\n534  1567          6          9         1.002913      신갈나무-굴참나무군락      GS08\n535  1568          5         19         1.648371  일본잎갈나무-상수리나무식재림         X\n\n[536 rows x 6 columns]",
      "text/html": "<div>\n<style scoped>\n    .dataframe tbody tr th:only-of-type {\n        vertical-align: middle;\n    }\n\n    .dataframe tbody tr th {\n        vertical-align: top;\n    }\n\n    .dataframe thead th {\n        text-align: right;\n    }\n</style>\n<table border=\"1\" class=\"dataframe\">\n  <thead>\n    <tr style=\"text-align: right;\">\n      <th></th>\n      <th>번호</th>\n      <th>주변 동물종 개수</th>\n      <th>주변동물 출현빈도</th>\n      <th>하천까지의 최단 거리(km)</th>\n      <th>식물군락명</th>\n      <th>지형기호(5km)</th>\n    </tr>\n  </thead>\n  <tbody>\n    <tr>\n      <th>0</th>\n      <td>1001</td>\n      <td>2</td>\n      <td>2</td>\n      <td>1.594083</td>\n      <td>아까시나무-상수리나무식재림</td>\n      <td>GS26</td>\n    </tr>\n    <tr>\n      <th>1</th>\n      <td>1002</td>\n      <td>4</td>\n      <td>14</td>\n      <td>1.434181</td>\n      <td>소나무군락</td>\n      <td>GS28</td>\n    </tr>\n    <tr>\n      <th>2</th>\n      <td>1004</td>\n      <td>4</td>\n      <td>16</td>\n      <td>1.248795</td>\n      <td>소나무군락</td>\n      <td>GM01</td>\n    </tr>\n    <tr>\n      <th>3</th>\n      <td>1005</td>\n      <td>4</td>\n      <td>8</td>\n      <td>0.937739</td>\n      <td>굴참나무-곰솔군락</td>\n      <td>GM02</td>\n    </tr>\n    <tr>\n      <th>4</th>\n      <td>1006</td>\n      <td>3</td>\n      <td>10</td>\n      <td>0.215409</td>\n      <td>곰솔군락</td>\n      <td>GS22</td>\n    </tr>\n    <tr>\n      <th>...</th>\n      <td>...</td>\n      <td>...</td>\n      <td>...</td>\n      <td>...</td>\n      <td>...</td>\n      <td>...</td>\n    </tr>\n    <tr>\n      <th>531</th>\n      <td>1564</td>\n      <td>6</td>\n      <td>17</td>\n      <td>0.931150</td>\n      <td>굴참나무군락</td>\n      <td>X</td>\n    </tr>\n    <tr>\n      <th>532</th>\n      <td>1565</td>\n      <td>1</td>\n      <td>2</td>\n      <td>1.508948</td>\n      <td>상수리나무군락</td>\n      <td>GS26</td>\n    </tr>\n    <tr>\n      <th>533</th>\n      <td>1566</td>\n      <td>3</td>\n      <td>7</td>\n      <td>0.602177</td>\n      <td>아까시나무식재림</td>\n      <td>GS26</td>\n    </tr>\n    <tr>\n      <th>534</th>\n      <td>1567</td>\n      <td>6</td>\n      <td>9</td>\n      <td>1.002913</td>\n      <td>신갈나무-굴참나무군락</td>\n      <td>GS08</td>\n    </tr>\n    <tr>\n      <th>535</th>\n      <td>1568</td>\n      <td>5</td>\n      <td>19</td>\n      <td>1.648371</td>\n      <td>일본잎갈나무-상수리나무식재림</td>\n      <td>X</td>\n    </tr>\n  </tbody>\n</table>\n<p>536 rows × 6 columns</p>\n</div>"
     },
     "execution_count": 64,
     "metadata": {},
     "output_type": "execute_result"
    }
   ],
   "source": [
    "HK = HK.merge(result, on='번호')\n",
    "HK"
   ],
   "metadata": {
    "collapsed": false,
    "pycharm": {
     "name": "#%%\n"
    }
   }
  },
  {
   "cell_type": "code",
   "execution_count": 65,
   "outputs": [
    {
     "data": {
      "text/plain": "536"
     },
     "execution_count": 65,
     "metadata": {},
     "output_type": "execute_result"
    }
   ],
   "source": [
    "HK.to_sql('re_MainData_inner_HK', index=False, con=db_connection, if_exists='replace')"
   ],
   "metadata": {
    "collapsed": false,
    "pycharm": {
     "name": "#%%\n"
    }
   }
  }
 ],
 "metadata": {
  "kernelspec": {
   "display_name": "Python 3",
   "language": "python",
   "name": "python3"
  },
  "language_info": {
   "codemirror_mode": {
    "name": "ipython",
    "version": 2
   },
   "file_extension": ".py",
   "mimetype": "text/x-python",
   "name": "python",
   "nbconvert_exporter": "python",
   "pygments_lexer": "ipython2",
   "version": "2.7.6"
  }
 },
 "nbformat": 4,
 "nbformat_minor": 0
}