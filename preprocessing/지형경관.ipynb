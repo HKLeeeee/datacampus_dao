{
 "cells": [
  {
   "cell_type": "code",
   "execution_count": 1,
   "metadata": {
    "collapsed": true
   },
   "outputs": [],
   "source": [
    "import geopandas as gpd\n",
    "import pandas as pd\n",
    "from sqlalchemy import create_engine\n",
    "import pymysql"
   ]
  },
  {
   "cell_type": "code",
   "execution_count": 2,
   "outputs": [],
   "source": [
    "endpoint = 'dao.cdqd2bwz9q4s.ap-northeast-2.rds.amazonaws.com'\n",
    "schema = 'dao'\n",
    "db_connection_str = 'mysql+pymysql://admin:ekfkawnl@{}/{}'.format(endpoint, schema)\n",
    "try :\n",
    "    db_connection = create_engine(db_connection_str)\n",
    "    conn = db_connection.connect()\n",
    "except :\n",
    "    print('fail to connect db')\n",
    "\n",
    "def load_data_from_rds(tabel_name):\n",
    "  sql = \"SELECT * FROM {}\".format(tabel_name)\n",
    "  df = pd.read_sql(sql, db_connection)\n",
    "  return df"
   ],
   "metadata": {
    "collapsed": false,
    "pycharm": {
     "name": "#%%\n"
    }
   }
  },
  {
   "cell_type": "markdown",
   "source": [
    "# 지형경관\n",
    "전국자연환경조사 4차 지형경관 자료 이용\n",
    "생태통로 위치와 가장 가까운 지형경관 특성 join 후 5km 이상 떨어진 곳의 지형경관과 병합된 것은\n",
    "지형경관의 영향이 생태통로에 끼치지 않는다고 판단하여 지형경관 특성이 없음으로 처리"
   ],
   "metadata": {
    "collapsed": false
   }
  },
  {
   "cell_type": "code",
   "execution_count": 61,
   "outputs": [
    {
     "data": {
      "text/plain": "       번호          생태통로명                              주소         도로명  \\\n0    1001           중동터널                    서울특별시 구로구 궁동        계남큰길   \n1    1002         개좌생태터널              부산광역시 금정구 회동동 산4-1         개좌로   \n2    1004        곰내 생태통로               부산광역시 기장군 철마면 웅천리          군도   \n3    1005     정관예림리 생태통로               부산광역시 기장군 정관면 예림리         국지도   \n4    1006       을숙도 생태통로                   부산광역시 사하구 하단동        낙동남로   \n..    ...            ...                             ...         ...   \n531  1564           삼척노곡          강원도 삼척시 원덕읍 노곡리 산146-3          국도   \n532  1565           절토육교               경기도 의왕시 월암동 산46-3  서수원~의왕간 도로   \n533  1566         동물이동통로               경기도 의왕시 고천동 산55-5  서수원~의왕간 도로   \n534  1567            NaN          경기도 영중면 거사리 산3-22번지 일원          중로   \n535  1568  한북정맥(비득재) 생태축  경기도 소흘읍 직동리 산9-5번지 일원(죽엽산 비득재)         지방도   \n\n          도로번호   차선_수  위도_도  위도_분      위도_초  경도_도  ...  join_지형명  join_지형기호  \\\n0          NaN  왕복6차로    37  30.0  23.37000   126  ...       NaN       GS26   \n1            0  왕복2차선    35  15.0   6.05000   129  ...     기반암하상       GS28   \n2         19호선  왕복2차선    35  18.0  20.80000   129  ...        급애       GM01   \n3          60호  왕복4차선    35  19.0  46.80000   129  ...       암석돔       GM02   \n4         1240  왕복7차선    35   6.0  31.84632   128  ...      하천습지       GS22   \n..         ...    ...   ...   ...       ...   ...  ...       ...        ...   \n531        7호선  왕복4차선    37  12.0  33.19000   129  ...       해식애       GC01   \n532  지방도 309호선  왕복6차선    37  19.0   2.04000   126  ...       시스택       GC04   \n533   지방도309호선  왕복6차선    37  20.0  11.80000   126  ...       시스택       GC04   \n534       3-30  왕복2차선    37  59.0  30.60000   127  ...       시스택       GC04   \n535        383  왕복2차선    37  47.0  10.60000   127  ...       시스택       GC04   \n\n        join_위도    join_경도   join_조사일자  join_조사년도  join_시도명  \\\n0    126.823475  37.483557  2017-10-07       2017     서울특별시   \n1    129.139970  35.278507  2016-07-21       2016     부산광역시   \n2    129.156314  35.318431  2016-07-19       2016     부산광역시   \n3    129.210855  35.308516  2016-07-21       2016     부산광역시   \n4    128.941622  35.104201         NaN       2015     부산광역시   \n..          ...        ...         ...        ...       ...   \n531  130.937875  37.529250  2016-10-11       2016      경상북도   \n532  130.921190  37.543160  2016-10-11       2016      경상북도   \n533  130.921190  37.543160  2016-10-11       2016      경상북도   \n534  130.921190  37.543160  2016-10-11       2016      경상북도   \n535  130.921190  37.543160  2016-10-11       2016      경상북도   \n\n                     join_layer  \\\n0    전국자연환경조사_4차_지형경관_면_2017_전국   \n1    전국자연환경조사_4차_지형경관_면_2016_전국   \n2    전국자연환경조사_4차_지형경관_면_2016_전국   \n3    전국자연환경조사_4차_지형경관_면_2016_전국   \n4    전국자연환경조사_4차_지형경관_면_2015_전국   \n..                          ...   \n531  전국자연환경조사_4차_지형경관_면_2016_전국   \n532  전국자연환경조사_4차_지형경관_면_2016_전국   \n533  전국자연환경조사_4차_지형경관_면_2016_전국   \n534  전국자연환경조사_4차_지형경관_면_2016_전국   \n535  전국자연환경조사_4차_지형경관_면_2016_전국   \n\n                                             join_path       distance  \n0    D:/datacampus_dao/data/전국자연환경조사 4차 지형경관_면/전국자연...       0.023481  \n1    D:/datacampus_dao/data/전국자연환경조사 4차 지형경관_면/전국자연...       0.026290  \n2    D:/datacampus_dao/data/전국자연환경조사 4차 지형경관_면/전국자연...       0.019938  \n3    D:/datacampus_dao/data/전국자연환경조사 4차 지형경관_면/전국자연...       0.021524  \n4    D:/datacampus_dao/data/전국자연환경조사 4차 지형경관_면/전국자연...       0.003468  \n..                                                 ...            ...  \n531  D:/datacampus_dao/data/전국자연환경조사 4차 지형경관_면/전국자연...  581343.357849  \n532  D:/datacampus_dao/data/전국자연환경조사 4차 지형경관_면/전국자연...  467649.722210  \n533  D:/datacampus_dao/data/전국자연환경조사 4차 지형경관_면/전국자연...  469853.914221  \n534  D:/datacampus_dao/data/전국자연환경조사 4차 지형경관_면/전국자연...  545400.907396  \n535  D:/datacampus_dao/data/전국자연환경조사 4차 지형경관_면/전국자연...  522282.537041  \n\n[536 rows x 27 columns]",
      "text/html": "<div>\n<style scoped>\n    .dataframe tbody tr th:only-of-type {\n        vertical-align: middle;\n    }\n\n    .dataframe tbody tr th {\n        vertical-align: top;\n    }\n\n    .dataframe thead th {\n        text-align: right;\n    }\n</style>\n<table border=\"1\" class=\"dataframe\">\n  <thead>\n    <tr style=\"text-align: right;\">\n      <th></th>\n      <th>번호</th>\n      <th>생태통로명</th>\n      <th>주소</th>\n      <th>도로명</th>\n      <th>도로번호</th>\n      <th>차선_수</th>\n      <th>위도_도</th>\n      <th>위도_분</th>\n      <th>위도_초</th>\n      <th>경도_도</th>\n      <th>...</th>\n      <th>join_지형명</th>\n      <th>join_지형기호</th>\n      <th>join_위도</th>\n      <th>join_경도</th>\n      <th>join_조사일자</th>\n      <th>join_조사년도</th>\n      <th>join_시도명</th>\n      <th>join_layer</th>\n      <th>join_path</th>\n      <th>distance</th>\n    </tr>\n  </thead>\n  <tbody>\n    <tr>\n      <th>0</th>\n      <td>1001</td>\n      <td>중동터널</td>\n      <td>서울특별시 구로구 궁동</td>\n      <td>계남큰길</td>\n      <td>NaN</td>\n      <td>왕복6차로</td>\n      <td>37</td>\n      <td>30.0</td>\n      <td>23.37000</td>\n      <td>126</td>\n      <td>...</td>\n      <td>NaN</td>\n      <td>GS26</td>\n      <td>126.823475</td>\n      <td>37.483557</td>\n      <td>2017-10-07</td>\n      <td>2017</td>\n      <td>서울특별시</td>\n      <td>전국자연환경조사_4차_지형경관_면_2017_전국</td>\n      <td>D:/datacampus_dao/data/전국자연환경조사 4차 지형경관_면/전국자연...</td>\n      <td>0.023481</td>\n    </tr>\n    <tr>\n      <th>1</th>\n      <td>1002</td>\n      <td>개좌생태터널</td>\n      <td>부산광역시 금정구 회동동 산4-1</td>\n      <td>개좌로</td>\n      <td>0</td>\n      <td>왕복2차선</td>\n      <td>35</td>\n      <td>15.0</td>\n      <td>6.05000</td>\n      <td>129</td>\n      <td>...</td>\n      <td>기반암하상</td>\n      <td>GS28</td>\n      <td>129.139970</td>\n      <td>35.278507</td>\n      <td>2016-07-21</td>\n      <td>2016</td>\n      <td>부산광역시</td>\n      <td>전국자연환경조사_4차_지형경관_면_2016_전국</td>\n      <td>D:/datacampus_dao/data/전국자연환경조사 4차 지형경관_면/전국자연...</td>\n      <td>0.026290</td>\n    </tr>\n    <tr>\n      <th>2</th>\n      <td>1004</td>\n      <td>곰내 생태통로</td>\n      <td>부산광역시 기장군 철마면 웅천리</td>\n      <td>군도</td>\n      <td>19호선</td>\n      <td>왕복2차선</td>\n      <td>35</td>\n      <td>18.0</td>\n      <td>20.80000</td>\n      <td>129</td>\n      <td>...</td>\n      <td>급애</td>\n      <td>GM01</td>\n      <td>129.156314</td>\n      <td>35.318431</td>\n      <td>2016-07-19</td>\n      <td>2016</td>\n      <td>부산광역시</td>\n      <td>전국자연환경조사_4차_지형경관_면_2016_전국</td>\n      <td>D:/datacampus_dao/data/전국자연환경조사 4차 지형경관_면/전국자연...</td>\n      <td>0.019938</td>\n    </tr>\n    <tr>\n      <th>3</th>\n      <td>1005</td>\n      <td>정관예림리 생태통로</td>\n      <td>부산광역시 기장군 정관면 예림리</td>\n      <td>국지도</td>\n      <td>60호</td>\n      <td>왕복4차선</td>\n      <td>35</td>\n      <td>19.0</td>\n      <td>46.80000</td>\n      <td>129</td>\n      <td>...</td>\n      <td>암석돔</td>\n      <td>GM02</td>\n      <td>129.210855</td>\n      <td>35.308516</td>\n      <td>2016-07-21</td>\n      <td>2016</td>\n      <td>부산광역시</td>\n      <td>전국자연환경조사_4차_지형경관_면_2016_전국</td>\n      <td>D:/datacampus_dao/data/전국자연환경조사 4차 지형경관_면/전국자연...</td>\n      <td>0.021524</td>\n    </tr>\n    <tr>\n      <th>4</th>\n      <td>1006</td>\n      <td>을숙도 생태통로</td>\n      <td>부산광역시 사하구 하단동</td>\n      <td>낙동남로</td>\n      <td>1240</td>\n      <td>왕복7차선</td>\n      <td>35</td>\n      <td>6.0</td>\n      <td>31.84632</td>\n      <td>128</td>\n      <td>...</td>\n      <td>하천습지</td>\n      <td>GS22</td>\n      <td>128.941622</td>\n      <td>35.104201</td>\n      <td>NaN</td>\n      <td>2015</td>\n      <td>부산광역시</td>\n      <td>전국자연환경조사_4차_지형경관_면_2015_전국</td>\n      <td>D:/datacampus_dao/data/전국자연환경조사 4차 지형경관_면/전국자연...</td>\n      <td>0.003468</td>\n    </tr>\n    <tr>\n      <th>...</th>\n      <td>...</td>\n      <td>...</td>\n      <td>...</td>\n      <td>...</td>\n      <td>...</td>\n      <td>...</td>\n      <td>...</td>\n      <td>...</td>\n      <td>...</td>\n      <td>...</td>\n      <td>...</td>\n      <td>...</td>\n      <td>...</td>\n      <td>...</td>\n      <td>...</td>\n      <td>...</td>\n      <td>...</td>\n      <td>...</td>\n      <td>...</td>\n      <td>...</td>\n      <td>...</td>\n    </tr>\n    <tr>\n      <th>531</th>\n      <td>1564</td>\n      <td>삼척노곡</td>\n      <td>강원도 삼척시 원덕읍 노곡리 산146-3</td>\n      <td>국도</td>\n      <td>7호선</td>\n      <td>왕복4차선</td>\n      <td>37</td>\n      <td>12.0</td>\n      <td>33.19000</td>\n      <td>129</td>\n      <td>...</td>\n      <td>해식애</td>\n      <td>GC01</td>\n      <td>130.937875</td>\n      <td>37.529250</td>\n      <td>2016-10-11</td>\n      <td>2016</td>\n      <td>경상북도</td>\n      <td>전국자연환경조사_4차_지형경관_면_2016_전국</td>\n      <td>D:/datacampus_dao/data/전국자연환경조사 4차 지형경관_면/전국자연...</td>\n      <td>581343.357849</td>\n    </tr>\n    <tr>\n      <th>532</th>\n      <td>1565</td>\n      <td>절토육교</td>\n      <td>경기도 의왕시 월암동 산46-3</td>\n      <td>서수원~의왕간 도로</td>\n      <td>지방도 309호선</td>\n      <td>왕복6차선</td>\n      <td>37</td>\n      <td>19.0</td>\n      <td>2.04000</td>\n      <td>126</td>\n      <td>...</td>\n      <td>시스택</td>\n      <td>GC04</td>\n      <td>130.921190</td>\n      <td>37.543160</td>\n      <td>2016-10-11</td>\n      <td>2016</td>\n      <td>경상북도</td>\n      <td>전국자연환경조사_4차_지형경관_면_2016_전국</td>\n      <td>D:/datacampus_dao/data/전국자연환경조사 4차 지형경관_면/전국자연...</td>\n      <td>467649.722210</td>\n    </tr>\n    <tr>\n      <th>533</th>\n      <td>1566</td>\n      <td>동물이동통로</td>\n      <td>경기도 의왕시 고천동 산55-5</td>\n      <td>서수원~의왕간 도로</td>\n      <td>지방도309호선</td>\n      <td>왕복6차선</td>\n      <td>37</td>\n      <td>20.0</td>\n      <td>11.80000</td>\n      <td>126</td>\n      <td>...</td>\n      <td>시스택</td>\n      <td>GC04</td>\n      <td>130.921190</td>\n      <td>37.543160</td>\n      <td>2016-10-11</td>\n      <td>2016</td>\n      <td>경상북도</td>\n      <td>전국자연환경조사_4차_지형경관_면_2016_전국</td>\n      <td>D:/datacampus_dao/data/전국자연환경조사 4차 지형경관_면/전국자연...</td>\n      <td>469853.914221</td>\n    </tr>\n    <tr>\n      <th>534</th>\n      <td>1567</td>\n      <td>NaN</td>\n      <td>경기도 영중면 거사리 산3-22번지 일원</td>\n      <td>중로</td>\n      <td>3-30</td>\n      <td>왕복2차선</td>\n      <td>37</td>\n      <td>59.0</td>\n      <td>30.60000</td>\n      <td>127</td>\n      <td>...</td>\n      <td>시스택</td>\n      <td>GC04</td>\n      <td>130.921190</td>\n      <td>37.543160</td>\n      <td>2016-10-11</td>\n      <td>2016</td>\n      <td>경상북도</td>\n      <td>전국자연환경조사_4차_지형경관_면_2016_전국</td>\n      <td>D:/datacampus_dao/data/전국자연환경조사 4차 지형경관_면/전국자연...</td>\n      <td>545400.907396</td>\n    </tr>\n    <tr>\n      <th>535</th>\n      <td>1568</td>\n      <td>한북정맥(비득재) 생태축</td>\n      <td>경기도 소흘읍 직동리 산9-5번지 일원(죽엽산 비득재)</td>\n      <td>지방도</td>\n      <td>383</td>\n      <td>왕복2차선</td>\n      <td>37</td>\n      <td>47.0</td>\n      <td>10.60000</td>\n      <td>127</td>\n      <td>...</td>\n      <td>시스택</td>\n      <td>GC04</td>\n      <td>130.921190</td>\n      <td>37.543160</td>\n      <td>2016-10-11</td>\n      <td>2016</td>\n      <td>경상북도</td>\n      <td>전국자연환경조사_4차_지형경관_면_2016_전국</td>\n      <td>D:/datacampus_dao/data/전국자연환경조사 4차 지형경관_면/전국자연...</td>\n      <td>522282.537041</td>\n    </tr>\n  </tbody>\n</table>\n<p>536 rows × 27 columns</p>\n</div>"
     },
     "execution_count": 61,
     "metadata": {},
     "output_type": "execute_result"
    }
   ],
   "source": [
    "df = pd.read_csv('.././data/전국자연환경조사 4차 지형경관_면/생태통로_지형경관_병합.csv', encoding='cp949')\n",
    "df"
   ],
   "metadata": {
    "collapsed": false,
    "pycharm": {
     "name": "#%%\n"
    }
   }
  },
  {
   "cell_type": "code",
   "execution_count": 62,
   "outputs": [],
   "source": [
    "df = df[['번호', 'join_지형명', 'join_지형기호', 'distance']]"
   ],
   "metadata": {
    "collapsed": false,
    "pycharm": {
     "name": "#%%\n"
    }
   }
  },
  {
   "cell_type": "markdown",
   "source": [
    "5km 이상인 지형경관 특성 처리"
   ],
   "metadata": {
    "collapsed": false
   }
  },
  {
   "cell_type": "code",
   "execution_count": 70,
   "outputs": [],
   "source": [
    "indexs = list(df[df['distance'] > 5000].index)\n",
    "for idx in indexs :\n",
    "    df.loc[idx, 'join_지형명'] = '특성없음'\n",
    "    df.loc[idx, 'join_지형기호'] = 'X'\n",
    "    df.loc[idx, 'distance'] = -1"
   ],
   "metadata": {
    "collapsed": false,
    "pycharm": {
     "name": "#%%\n"
    }
   }
  },
  {
   "cell_type": "markdown",
   "source": [
    "결측값 확인"
   ],
   "metadata": {
    "collapsed": false
   }
  },
  {
   "cell_type": "code",
   "execution_count": 75,
   "outputs": [
    {
     "data": {
      "text/plain": "       번호 join_지형명 join_지형기호  distance\n0    1001      NaN      GS26  0.023481\n7    1009      NaN      GM02  0.035931\n8    1010      NaN      GS22  0.013956\n9    1011      NaN      GS26  0.022282\n10   1012      NaN      GS26  0.017521\n..    ...      ...       ...       ...\n385  1405      NaN      GS30  0.018507\n386  1406      NaN      GS30  0.042292\n387  1407      NaN      GM15  0.055410\n393  1413      NaN      GS32  0.015190\n394  1414      NaN      GS32  0.015190\n\n[75 rows x 4 columns]",
      "text/html": "<div>\n<style scoped>\n    .dataframe tbody tr th:only-of-type {\n        vertical-align: middle;\n    }\n\n    .dataframe tbody tr th {\n        vertical-align: top;\n    }\n\n    .dataframe thead th {\n        text-align: right;\n    }\n</style>\n<table border=\"1\" class=\"dataframe\">\n  <thead>\n    <tr style=\"text-align: right;\">\n      <th></th>\n      <th>번호</th>\n      <th>join_지형명</th>\n      <th>join_지형기호</th>\n      <th>distance</th>\n    </tr>\n  </thead>\n  <tbody>\n    <tr>\n      <th>0</th>\n      <td>1001</td>\n      <td>NaN</td>\n      <td>GS26</td>\n      <td>0.023481</td>\n    </tr>\n    <tr>\n      <th>7</th>\n      <td>1009</td>\n      <td>NaN</td>\n      <td>GM02</td>\n      <td>0.035931</td>\n    </tr>\n    <tr>\n      <th>8</th>\n      <td>1010</td>\n      <td>NaN</td>\n      <td>GS22</td>\n      <td>0.013956</td>\n    </tr>\n    <tr>\n      <th>9</th>\n      <td>1011</td>\n      <td>NaN</td>\n      <td>GS26</td>\n      <td>0.022282</td>\n    </tr>\n    <tr>\n      <th>10</th>\n      <td>1012</td>\n      <td>NaN</td>\n      <td>GS26</td>\n      <td>0.017521</td>\n    </tr>\n    <tr>\n      <th>...</th>\n      <td>...</td>\n      <td>...</td>\n      <td>...</td>\n      <td>...</td>\n    </tr>\n    <tr>\n      <th>385</th>\n      <td>1405</td>\n      <td>NaN</td>\n      <td>GS30</td>\n      <td>0.018507</td>\n    </tr>\n    <tr>\n      <th>386</th>\n      <td>1406</td>\n      <td>NaN</td>\n      <td>GS30</td>\n      <td>0.042292</td>\n    </tr>\n    <tr>\n      <th>387</th>\n      <td>1407</td>\n      <td>NaN</td>\n      <td>GM15</td>\n      <td>0.055410</td>\n    </tr>\n    <tr>\n      <th>393</th>\n      <td>1413</td>\n      <td>NaN</td>\n      <td>GS32</td>\n      <td>0.015190</td>\n    </tr>\n    <tr>\n      <th>394</th>\n      <td>1414</td>\n      <td>NaN</td>\n      <td>GS32</td>\n      <td>0.015190</td>\n    </tr>\n  </tbody>\n</table>\n<p>75 rows × 4 columns</p>\n</div>"
     },
     "execution_count": 75,
     "metadata": {},
     "output_type": "execute_result"
    }
   ],
   "source": [
    "df[df['join_지형명'].isnull()]"
   ],
   "metadata": {
    "collapsed": false,
    "pycharm": {
     "name": "#%%\n"
    }
   }
  },
  {
   "cell_type": "code",
   "execution_count": 74,
   "outputs": [
    {
     "data": {
      "text/plain": "       번호       join_지형명 join_지형기호  distance\n14   1016            NaN       NaN  0.006293\n102  1109       기타(침식산지)       NaN  0.022182\n145  1159            NaN       NaN  0.048016\n146  1160            NaN       NaN  0.042711\n153  1167        기타(타포니)       NaN  0.016763\n170  1184  기타(솔리플럭션 퇴적층)       NaN  0.049067\n183  1199         기타(산정)       NaN  0.042427\n188  1204       기타(인공지형)       NaN  0.051348\n189  1205         기타(산정)       NaN  0.049483\n198  1214         기타(산정)       NaN  0.036749\n224  1240            NaN       NaN  0.040085\n225  1241            NaN       NaN  0.039632\n226  1242            NaN       NaN  0.039619\n227  1243            NaN       NaN  0.040294\n228  1244            NaN       NaN  0.042908\n257  1273           인공지형       NaN  0.010901\n327  1347            NaN       NaN  0.036949\n328  1348            NaN       NaN  0.039772\n357  1377        기타(논습지)       NaN  0.013427",
      "text/html": "<div>\n<style scoped>\n    .dataframe tbody tr th:only-of-type {\n        vertical-align: middle;\n    }\n\n    .dataframe tbody tr th {\n        vertical-align: top;\n    }\n\n    .dataframe thead th {\n        text-align: right;\n    }\n</style>\n<table border=\"1\" class=\"dataframe\">\n  <thead>\n    <tr style=\"text-align: right;\">\n      <th></th>\n      <th>번호</th>\n      <th>join_지형명</th>\n      <th>join_지형기호</th>\n      <th>distance</th>\n    </tr>\n  </thead>\n  <tbody>\n    <tr>\n      <th>14</th>\n      <td>1016</td>\n      <td>NaN</td>\n      <td>NaN</td>\n      <td>0.006293</td>\n    </tr>\n    <tr>\n      <th>102</th>\n      <td>1109</td>\n      <td>기타(침식산지)</td>\n      <td>NaN</td>\n      <td>0.022182</td>\n    </tr>\n    <tr>\n      <th>145</th>\n      <td>1159</td>\n      <td>NaN</td>\n      <td>NaN</td>\n      <td>0.048016</td>\n    </tr>\n    <tr>\n      <th>146</th>\n      <td>1160</td>\n      <td>NaN</td>\n      <td>NaN</td>\n      <td>0.042711</td>\n    </tr>\n    <tr>\n      <th>153</th>\n      <td>1167</td>\n      <td>기타(타포니)</td>\n      <td>NaN</td>\n      <td>0.016763</td>\n    </tr>\n    <tr>\n      <th>170</th>\n      <td>1184</td>\n      <td>기타(솔리플럭션 퇴적층)</td>\n      <td>NaN</td>\n      <td>0.049067</td>\n    </tr>\n    <tr>\n      <th>183</th>\n      <td>1199</td>\n      <td>기타(산정)</td>\n      <td>NaN</td>\n      <td>0.042427</td>\n    </tr>\n    <tr>\n      <th>188</th>\n      <td>1204</td>\n      <td>기타(인공지형)</td>\n      <td>NaN</td>\n      <td>0.051348</td>\n    </tr>\n    <tr>\n      <th>189</th>\n      <td>1205</td>\n      <td>기타(산정)</td>\n      <td>NaN</td>\n      <td>0.049483</td>\n    </tr>\n    <tr>\n      <th>198</th>\n      <td>1214</td>\n      <td>기타(산정)</td>\n      <td>NaN</td>\n      <td>0.036749</td>\n    </tr>\n    <tr>\n      <th>224</th>\n      <td>1240</td>\n      <td>NaN</td>\n      <td>NaN</td>\n      <td>0.040085</td>\n    </tr>\n    <tr>\n      <th>225</th>\n      <td>1241</td>\n      <td>NaN</td>\n      <td>NaN</td>\n      <td>0.039632</td>\n    </tr>\n    <tr>\n      <th>226</th>\n      <td>1242</td>\n      <td>NaN</td>\n      <td>NaN</td>\n      <td>0.039619</td>\n    </tr>\n    <tr>\n      <th>227</th>\n      <td>1243</td>\n      <td>NaN</td>\n      <td>NaN</td>\n      <td>0.040294</td>\n    </tr>\n    <tr>\n      <th>228</th>\n      <td>1244</td>\n      <td>NaN</td>\n      <td>NaN</td>\n      <td>0.042908</td>\n    </tr>\n    <tr>\n      <th>257</th>\n      <td>1273</td>\n      <td>인공지형</td>\n      <td>NaN</td>\n      <td>0.010901</td>\n    </tr>\n    <tr>\n      <th>327</th>\n      <td>1347</td>\n      <td>NaN</td>\n      <td>NaN</td>\n      <td>0.036949</td>\n    </tr>\n    <tr>\n      <th>328</th>\n      <td>1348</td>\n      <td>NaN</td>\n      <td>NaN</td>\n      <td>0.039772</td>\n    </tr>\n    <tr>\n      <th>357</th>\n      <td>1377</td>\n      <td>기타(논습지)</td>\n      <td>NaN</td>\n      <td>0.013427</td>\n    </tr>\n  </tbody>\n</table>\n</div>"
     },
     "execution_count": 74,
     "metadata": {},
     "output_type": "execute_result"
    }
   ],
   "source": [
    "df[df['join_지형기호'].isnull()]"
   ],
   "metadata": {
    "collapsed": false,
    "pycharm": {
     "name": "#%%\n"
    }
   }
  },
  {
   "cell_type": "markdown",
   "source": [
    "지형명이 null인데 지형기호가 있는 것은 기호에 따른 지형명을 찾아 채우고,\n",
    "지형기호와 지형명이 모두 null인 경우는 특성없음, X 로 처리\n",
    "\n",
    "=> 제4차 전국자연환경조사 지침을 보면 알 수 있을 것 같은데 안열림."
   ],
   "metadata": {
    "collapsed": false
   }
  },
  {
   "cell_type": "code",
   "execution_count": 78,
   "outputs": [
    {
     "data": {
      "text/plain": "join_지형기호\nGC03     1\nGC10     2\nGM01     4\nGM02     3\nGM05     3\nGM11     1\nGM15     3\nGM19     1\nGM20     3\nGM21     1\nGS01     2\nGS08     4\nGS12     2\nGS15     1\nGS22     7\nGS24     1\nGS26    16\nGS28     1\nGS30     3\nGS32     3\nGV02     2\nGV07     1\nName: 번호, dtype: int64"
     },
     "execution_count": 78,
     "metadata": {},
     "output_type": "execute_result"
    }
   ],
   "source": [
    "name_null = df[df['join_지형명'].isnull()]\n",
    "name_null.groupby('join_지형기호')['번호'].count()"
   ],
   "metadata": {
    "collapsed": false,
    "pycharm": {
     "name": "#%%\n"
    }
   }
  },
  {
   "cell_type": "code",
   "execution_count": null,
   "outputs": [],
   "source": [],
   "metadata": {
    "collapsed": false,
    "pycharm": {
     "name": "#%%\n"
    }
   }
  }
 ],
 "metadata": {
  "kernelspec": {
   "display_name": "Python 3",
   "language": "python",
   "name": "python3"
  },
  "language_info": {
   "codemirror_mode": {
    "name": "ipython",
    "version": 2
   },
   "file_extension": ".py",
   "mimetype": "text/x-python",
   "name": "python",
   "nbconvert_exporter": "python",
   "pygments_lexer": "ipython2",
   "version": "2.7.6"
  }
 },
 "nbformat": 4,
 "nbformat_minor": 0
}