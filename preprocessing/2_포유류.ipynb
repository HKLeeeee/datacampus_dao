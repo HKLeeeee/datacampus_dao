{
 "nbformat": 4,
 "nbformat_minor": 0,
 "metadata": {
  "colab": {
   "name": "2. 포유류.ipynb",
   "provenance": [],
   "collapsed_sections": [
    "sgaxwMsXaIFK",
    "Z23SJi0NOljK",
    "NcsFT2wyOpWT"
   ]
  },
  "kernelspec": {
   "name": "python3",
   "display_name": "Python 3"
  },
  "language_info": {
   "name": "python"
  },
  "gpuClass": "standard",
  "widgets": {
   "application/vnd.jupyter.widget-state+json": {
    "a5aa19e1bca24311b993ea9ec4dc92a3": {
     "model_module": "@jupyter-widgets/controls",
     "model_name": "HBoxModel",
     "model_module_version": "1.5.0",
     "state": {
      "_dom_classes": [],
      "_model_module": "@jupyter-widgets/controls",
      "_model_module_version": "1.5.0",
      "_model_name": "HBoxModel",
      "_view_count": null,
      "_view_module": "@jupyter-widgets/controls",
      "_view_module_version": "1.5.0",
      "_view_name": "HBoxView",
      "box_style": "",
      "children": [
       "IPY_MODEL_5c78e63077924bd2b19f41a38a7f06b7",
       "IPY_MODEL_f75467272b9946f789280c94daecdfcb",
       "IPY_MODEL_c467a7c3bafe4179881200b52627141c"
      ],
      "layout": "IPY_MODEL_14e485ef31b446cb98cfbce4387b551b"
     }
    },
    "5c78e63077924bd2b19f41a38a7f06b7": {
     "model_module": "@jupyter-widgets/controls",
     "model_name": "HTMLModel",
     "model_module_version": "1.5.0",
     "state": {
      "_dom_classes": [],
      "_model_module": "@jupyter-widgets/controls",
      "_model_module_version": "1.5.0",
      "_model_name": "HTMLModel",
      "_view_count": null,
      "_view_module": "@jupyter-widgets/controls",
      "_view_module_version": "1.5.0",
      "_view_name": "HTMLView",
      "description": "",
      "description_tooltip": null,
      "layout": "IPY_MODEL_01393fc8509440a487590687f6c8747b",
      "placeholder": "​",
      "style": "IPY_MODEL_487fc7bbec9149f29dff8aaa29adfb0f",
      "value": "100%"
     }
    },
    "f75467272b9946f789280c94daecdfcb": {
     "model_module": "@jupyter-widgets/controls",
     "model_name": "FloatProgressModel",
     "model_module_version": "1.5.0",
     "state": {
      "_dom_classes": [],
      "_model_module": "@jupyter-widgets/controls",
      "_model_module_version": "1.5.0",
      "_model_name": "FloatProgressModel",
      "_view_count": null,
      "_view_module": "@jupyter-widgets/controls",
      "_view_module_version": "1.5.0",
      "_view_name": "ProgressView",
      "bar_style": "success",
      "description": "",
      "description_tooltip": null,
      "layout": "IPY_MODEL_0a3c6f9ce91a41a8b5eef04b3d0ba5c6",
      "max": 497,
      "min": 0,
      "orientation": "horizontal",
      "style": "IPY_MODEL_3347bcc974a24e51bad1f6515ae6cb6a",
      "value": 497
     }
    },
    "c467a7c3bafe4179881200b52627141c": {
     "model_module": "@jupyter-widgets/controls",
     "model_name": "HTMLModel",
     "model_module_version": "1.5.0",
     "state": {
      "_dom_classes": [],
      "_model_module": "@jupyter-widgets/controls",
      "_model_module_version": "1.5.0",
      "_model_name": "HTMLModel",
      "_view_count": null,
      "_view_module": "@jupyter-widgets/controls",
      "_view_module_version": "1.5.0",
      "_view_name": "HTMLView",
      "description": "",
      "description_tooltip": null,
      "layout": "IPY_MODEL_d77e40dd73714e5bb1cb1f8f8ec15204",
      "placeholder": "​",
      "style": "IPY_MODEL_7a0d9d5f16ee4e6eac8fb3b3719540fd",
      "value": " 497/497 [1:03:33&lt;00:00,  7.81s/it]"
     }
    },
    "14e485ef31b446cb98cfbce4387b551b": {
     "model_module": "@jupyter-widgets/base",
     "model_name": "LayoutModel",
     "model_module_version": "1.2.0",
     "state": {
      "_model_module": "@jupyter-widgets/base",
      "_model_module_version": "1.2.0",
      "_model_name": "LayoutModel",
      "_view_count": null,
      "_view_module": "@jupyter-widgets/base",
      "_view_module_version": "1.2.0",
      "_view_name": "LayoutView",
      "align_content": null,
      "align_items": null,
      "align_self": null,
      "border": null,
      "bottom": null,
      "display": null,
      "flex": null,
      "flex_flow": null,
      "grid_area": null,
      "grid_auto_columns": null,
      "grid_auto_flow": null,
      "grid_auto_rows": null,
      "grid_column": null,
      "grid_gap": null,
      "grid_row": null,
      "grid_template_areas": null,
      "grid_template_columns": null,
      "grid_template_rows": null,
      "height": null,
      "justify_content": null,
      "justify_items": null,
      "left": null,
      "margin": null,
      "max_height": null,
      "max_width": null,
      "min_height": null,
      "min_width": null,
      "object_fit": null,
      "object_position": null,
      "order": null,
      "overflow": null,
      "overflow_x": null,
      "overflow_y": null,
      "padding": null,
      "right": null,
      "top": null,
      "visibility": null,
      "width": null
     }
    },
    "01393fc8509440a487590687f6c8747b": {
     "model_module": "@jupyter-widgets/base",
     "model_name": "LayoutModel",
     "model_module_version": "1.2.0",
     "state": {
      "_model_module": "@jupyter-widgets/base",
      "_model_module_version": "1.2.0",
      "_model_name": "LayoutModel",
      "_view_count": null,
      "_view_module": "@jupyter-widgets/base",
      "_view_module_version": "1.2.0",
      "_view_name": "LayoutView",
      "align_content": null,
      "align_items": null,
      "align_self": null,
      "border": null,
      "bottom": null,
      "display": null,
      "flex": null,
      "flex_flow": null,
      "grid_area": null,
      "grid_auto_columns": null,
      "grid_auto_flow": null,
      "grid_auto_rows": null,
      "grid_column": null,
      "grid_gap": null,
      "grid_row": null,
      "grid_template_areas": null,
      "grid_template_columns": null,
      "grid_template_rows": null,
      "height": null,
      "justify_content": null,
      "justify_items": null,
      "left": null,
      "margin": null,
      "max_height": null,
      "max_width": null,
      "min_height": null,
      "min_width": null,
      "object_fit": null,
      "object_position": null,
      "order": null,
      "overflow": null,
      "overflow_x": null,
      "overflow_y": null,
      "padding": null,
      "right": null,
      "top": null,
      "visibility": null,
      "width": null
     }
    },
    "487fc7bbec9149f29dff8aaa29adfb0f": {
     "model_module": "@jupyter-widgets/controls",
     "model_name": "DescriptionStyleModel",
     "model_module_version": "1.5.0",
     "state": {
      "_model_module": "@jupyter-widgets/controls",
      "_model_module_version": "1.5.0",
      "_model_name": "DescriptionStyleModel",
      "_view_count": null,
      "_view_module": "@jupyter-widgets/base",
      "_view_module_version": "1.2.0",
      "_view_name": "StyleView",
      "description_width": ""
     }
    },
    "0a3c6f9ce91a41a8b5eef04b3d0ba5c6": {
     "model_module": "@jupyter-widgets/base",
     "model_name": "LayoutModel",
     "model_module_version": "1.2.0",
     "state": {
      "_model_module": "@jupyter-widgets/base",
      "_model_module_version": "1.2.0",
      "_model_name": "LayoutModel",
      "_view_count": null,
      "_view_module": "@jupyter-widgets/base",
      "_view_module_version": "1.2.0",
      "_view_name": "LayoutView",
      "align_content": null,
      "align_items": null,
      "align_self": null,
      "border": null,
      "bottom": null,
      "display": null,
      "flex": null,
      "flex_flow": null,
      "grid_area": null,
      "grid_auto_columns": null,
      "grid_auto_flow": null,
      "grid_auto_rows": null,
      "grid_column": null,
      "grid_gap": null,
      "grid_row": null,
      "grid_template_areas": null,
      "grid_template_columns": null,
      "grid_template_rows": null,
      "height": null,
      "justify_content": null,
      "justify_items": null,
      "left": null,
      "margin": null,
      "max_height": null,
      "max_width": null,
      "min_height": null,
      "min_width": null,
      "object_fit": null,
      "object_position": null,
      "order": null,
      "overflow": null,
      "overflow_x": null,
      "overflow_y": null,
      "padding": null,
      "right": null,
      "top": null,
      "visibility": null,
      "width": null
     }
    },
    "3347bcc974a24e51bad1f6515ae6cb6a": {
     "model_module": "@jupyter-widgets/controls",
     "model_name": "ProgressStyleModel",
     "model_module_version": "1.5.0",
     "state": {
      "_model_module": "@jupyter-widgets/controls",
      "_model_module_version": "1.5.0",
      "_model_name": "ProgressStyleModel",
      "_view_count": null,
      "_view_module": "@jupyter-widgets/base",
      "_view_module_version": "1.2.0",
      "_view_name": "StyleView",
      "bar_color": null,
      "description_width": ""
     }
    },
    "d77e40dd73714e5bb1cb1f8f8ec15204": {
     "model_module": "@jupyter-widgets/base",
     "model_name": "LayoutModel",
     "model_module_version": "1.2.0",
     "state": {
      "_model_module": "@jupyter-widgets/base",
      "_model_module_version": "1.2.0",
      "_model_name": "LayoutModel",
      "_view_count": null,
      "_view_module": "@jupyter-widgets/base",
      "_view_module_version": "1.2.0",
      "_view_name": "LayoutView",
      "align_content": null,
      "align_items": null,
      "align_self": null,
      "border": null,
      "bottom": null,
      "display": null,
      "flex": null,
      "flex_flow": null,
      "grid_area": null,
      "grid_auto_columns": null,
      "grid_auto_flow": null,
      "grid_auto_rows": null,
      "grid_column": null,
      "grid_gap": null,
      "grid_row": null,
      "grid_template_areas": null,
      "grid_template_columns": null,
      "grid_template_rows": null,
      "height": null,
      "justify_content": null,
      "justify_items": null,
      "left": null,
      "margin": null,
      "max_height": null,
      "max_width": null,
      "min_height": null,
      "min_width": null,
      "object_fit": null,
      "object_position": null,
      "order": null,
      "overflow": null,
      "overflow_x": null,
      "overflow_y": null,
      "padding": null,
      "right": null,
      "top": null,
      "visibility": null,
      "width": null
     }
    },
    "7a0d9d5f16ee4e6eac8fb3b3719540fd": {
     "model_module": "@jupyter-widgets/controls",
     "model_name": "DescriptionStyleModel",
     "model_module_version": "1.5.0",
     "state": {
      "_model_module": "@jupyter-widgets/controls",
      "_model_module_version": "1.5.0",
      "_model_name": "DescriptionStyleModel",
      "_view_count": null,
      "_view_module": "@jupyter-widgets/base",
      "_view_module_version": "1.2.0",
      "_view_name": "StyleView",
      "description_width": ""
     }
    },
    "b51e9a14a102454e833acb80a7409f7a": {
     "model_module": "@jupyter-widgets/controls",
     "model_name": "HBoxModel",
     "model_module_version": "1.5.0",
     "state": {
      "_dom_classes": [],
      "_model_module": "@jupyter-widgets/controls",
      "_model_module_version": "1.5.0",
      "_model_name": "HBoxModel",
      "_view_count": null,
      "_view_module": "@jupyter-widgets/controls",
      "_view_module_version": "1.5.0",
      "_view_name": "HBoxView",
      "box_style": "",
      "children": [
       "IPY_MODEL_524ac726131d4ad39768a815520bd1b1",
       "IPY_MODEL_971d4b46ecb34bb49382b486680c1d75",
       "IPY_MODEL_406ffc4f971a4927aaa405441f7dbe60"
      ],
      "layout": "IPY_MODEL_037153689dd44017bde0f84768a417ee"
     }
    },
    "524ac726131d4ad39768a815520bd1b1": {
     "model_module": "@jupyter-widgets/controls",
     "model_name": "HTMLModel",
     "model_module_version": "1.5.0",
     "state": {
      "_dom_classes": [],
      "_model_module": "@jupyter-widgets/controls",
      "_model_module_version": "1.5.0",
      "_model_name": "HTMLModel",
      "_view_count": null,
      "_view_module": "@jupyter-widgets/controls",
      "_view_module_version": "1.5.0",
      "_view_name": "HTMLView",
      "description": "",
      "description_tooltip": null,
      "layout": "IPY_MODEL_0bcf40bfd3d84f01bafc842e79831724",
      "placeholder": "​",
      "style": "IPY_MODEL_2cd4112d639641dda9a2dd34b903d8ba",
      "value": "100%"
     }
    },
    "971d4b46ecb34bb49382b486680c1d75": {
     "model_module": "@jupyter-widgets/controls",
     "model_name": "FloatProgressModel",
     "model_module_version": "1.5.0",
     "state": {
      "_dom_classes": [],
      "_model_module": "@jupyter-widgets/controls",
      "_model_module_version": "1.5.0",
      "_model_name": "FloatProgressModel",
      "_view_count": null,
      "_view_module": "@jupyter-widgets/controls",
      "_view_module_version": "1.5.0",
      "_view_name": "ProgressView",
      "bar_style": "success",
      "description": "",
      "description_tooltip": null,
      "layout": "IPY_MODEL_8a9852d89920480cb56caf732f5450d0",
      "max": 497,
      "min": 0,
      "orientation": "horizontal",
      "style": "IPY_MODEL_11ee3c80c59543b3aadc085abae1b48c",
      "value": 497
     }
    },
    "406ffc4f971a4927aaa405441f7dbe60": {
     "model_module": "@jupyter-widgets/controls",
     "model_name": "HTMLModel",
     "model_module_version": "1.5.0",
     "state": {
      "_dom_classes": [],
      "_model_module": "@jupyter-widgets/controls",
      "_model_module_version": "1.5.0",
      "_model_name": "HTMLModel",
      "_view_count": null,
      "_view_module": "@jupyter-widgets/controls",
      "_view_module_version": "1.5.0",
      "_view_name": "HTMLView",
      "description": "",
      "description_tooltip": null,
      "layout": "IPY_MODEL_afed772cdfd3480c82ca2e22960942a5",
      "placeholder": "​",
      "style": "IPY_MODEL_cf116ce8d8374a8f903366385dc344f5",
      "value": " 497/497 [00:08&lt;00:00, 69.03it/s]"
     }
    },
    "037153689dd44017bde0f84768a417ee": {
     "model_module": "@jupyter-widgets/base",
     "model_name": "LayoutModel",
     "model_module_version": "1.2.0",
     "state": {
      "_model_module": "@jupyter-widgets/base",
      "_model_module_version": "1.2.0",
      "_model_name": "LayoutModel",
      "_view_count": null,
      "_view_module": "@jupyter-widgets/base",
      "_view_module_version": "1.2.0",
      "_view_name": "LayoutView",
      "align_content": null,
      "align_items": null,
      "align_self": null,
      "border": null,
      "bottom": null,
      "display": null,
      "flex": null,
      "flex_flow": null,
      "grid_area": null,
      "grid_auto_columns": null,
      "grid_auto_flow": null,
      "grid_auto_rows": null,
      "grid_column": null,
      "grid_gap": null,
      "grid_row": null,
      "grid_template_areas": null,
      "grid_template_columns": null,
      "grid_template_rows": null,
      "height": null,
      "justify_content": null,
      "justify_items": null,
      "left": null,
      "margin": null,
      "max_height": null,
      "max_width": null,
      "min_height": null,
      "min_width": null,
      "object_fit": null,
      "object_position": null,
      "order": null,
      "overflow": null,
      "overflow_x": null,
      "overflow_y": null,
      "padding": null,
      "right": null,
      "top": null,
      "visibility": null,
      "width": null
     }
    },
    "0bcf40bfd3d84f01bafc842e79831724": {
     "model_module": "@jupyter-widgets/base",
     "model_name": "LayoutModel",
     "model_module_version": "1.2.0",
     "state": {
      "_model_module": "@jupyter-widgets/base",
      "_model_module_version": "1.2.0",
      "_model_name": "LayoutModel",
      "_view_count": null,
      "_view_module": "@jupyter-widgets/base",
      "_view_module_version": "1.2.0",
      "_view_name": "LayoutView",
      "align_content": null,
      "align_items": null,
      "align_self": null,
      "border": null,
      "bottom": null,
      "display": null,
      "flex": null,
      "flex_flow": null,
      "grid_area": null,
      "grid_auto_columns": null,
      "grid_auto_flow": null,
      "grid_auto_rows": null,
      "grid_column": null,
      "grid_gap": null,
      "grid_row": null,
      "grid_template_areas": null,
      "grid_template_columns": null,
      "grid_template_rows": null,
      "height": null,
      "justify_content": null,
      "justify_items": null,
      "left": null,
      "margin": null,
      "max_height": null,
      "max_width": null,
      "min_height": null,
      "min_width": null,
      "object_fit": null,
      "object_position": null,
      "order": null,
      "overflow": null,
      "overflow_x": null,
      "overflow_y": null,
      "padding": null,
      "right": null,
      "top": null,
      "visibility": null,
      "width": null
     }
    },
    "2cd4112d639641dda9a2dd34b903d8ba": {
     "model_module": "@jupyter-widgets/controls",
     "model_name": "DescriptionStyleModel",
     "model_module_version": "1.5.0",
     "state": {
      "_model_module": "@jupyter-widgets/controls",
      "_model_module_version": "1.5.0",
      "_model_name": "DescriptionStyleModel",
      "_view_count": null,
      "_view_module": "@jupyter-widgets/base",
      "_view_module_version": "1.2.0",
      "_view_name": "StyleView",
      "description_width": ""
     }
    },
    "8a9852d89920480cb56caf732f5450d0": {
     "model_module": "@jupyter-widgets/base",
     "model_name": "LayoutModel",
     "model_module_version": "1.2.0",
     "state": {
      "_model_module": "@jupyter-widgets/base",
      "_model_module_version": "1.2.0",
      "_model_name": "LayoutModel",
      "_view_count": null,
      "_view_module": "@jupyter-widgets/base",
      "_view_module_version": "1.2.0",
      "_view_name": "LayoutView",
      "align_content": null,
      "align_items": null,
      "align_self": null,
      "border": null,
      "bottom": null,
      "display": null,
      "flex": null,
      "flex_flow": null,
      "grid_area": null,
      "grid_auto_columns": null,
      "grid_auto_flow": null,
      "grid_auto_rows": null,
      "grid_column": null,
      "grid_gap": null,
      "grid_row": null,
      "grid_template_areas": null,
      "grid_template_columns": null,
      "grid_template_rows": null,
      "height": null,
      "justify_content": null,
      "justify_items": null,
      "left": null,
      "margin": null,
      "max_height": null,
      "max_width": null,
      "min_height": null,
      "min_width": null,
      "object_fit": null,
      "object_position": null,
      "order": null,
      "overflow": null,
      "overflow_x": null,
      "overflow_y": null,
      "padding": null,
      "right": null,
      "top": null,
      "visibility": null,
      "width": null
     }
    },
    "11ee3c80c59543b3aadc085abae1b48c": {
     "model_module": "@jupyter-widgets/controls",
     "model_name": "ProgressStyleModel",
     "model_module_version": "1.5.0",
     "state": {
      "_model_module": "@jupyter-widgets/controls",
      "_model_module_version": "1.5.0",
      "_model_name": "ProgressStyleModel",
      "_view_count": null,
      "_view_module": "@jupyter-widgets/base",
      "_view_module_version": "1.2.0",
      "_view_name": "StyleView",
      "bar_color": null,
      "description_width": ""
     }
    },
    "afed772cdfd3480c82ca2e22960942a5": {
     "model_module": "@jupyter-widgets/base",
     "model_name": "LayoutModel",
     "model_module_version": "1.2.0",
     "state": {
      "_model_module": "@jupyter-widgets/base",
      "_model_module_version": "1.2.0",
      "_model_name": "LayoutModel",
      "_view_count": null,
      "_view_module": "@jupyter-widgets/base",
      "_view_module_version": "1.2.0",
      "_view_name": "LayoutView",
      "align_content": null,
      "align_items": null,
      "align_self": null,
      "border": null,
      "bottom": null,
      "display": null,
      "flex": null,
      "flex_flow": null,
      "grid_area": null,
      "grid_auto_columns": null,
      "grid_auto_flow": null,
      "grid_auto_rows": null,
      "grid_column": null,
      "grid_gap": null,
      "grid_row": null,
      "grid_template_areas": null,
      "grid_template_columns": null,
      "grid_template_rows": null,
      "height": null,
      "justify_content": null,
      "justify_items": null,
      "left": null,
      "margin": null,
      "max_height": null,
      "max_width": null,
      "min_height": null,
      "min_width": null,
      "object_fit": null,
      "object_position": null,
      "order": null,
      "overflow": null,
      "overflow_x": null,
      "overflow_y": null,
      "padding": null,
      "right": null,
      "top": null,
      "visibility": null,
      "width": null
     }
    },
    "cf116ce8d8374a8f903366385dc344f5": {
     "model_module": "@jupyter-widgets/controls",
     "model_name": "DescriptionStyleModel",
     "model_module_version": "1.5.0",
     "state": {
      "_model_module": "@jupyter-widgets/controls",
      "_model_module_version": "1.5.0",
      "_model_name": "DescriptionStyleModel",
      "_view_count": null,
      "_view_module": "@jupyter-widgets/base",
      "_view_module_version": "1.2.0",
      "_view_name": "StyleView",
      "description_width": ""
     }
    }
   }
  }
 },
 "cells": [
  {
   "cell_type": "markdown",
   "source": [
    "# Colab 환경에서 거리매칭"
   ],
   "metadata": {
    "id": "sgaxwMsXaIFK"
   }
  },
  {
   "cell_type": "markdown",
   "metadata": {
    "id": "YbpMNcpyaB38",
    "colab": {
     "base_uri": "https://localhost:8080/"
    },
    "outputId": "59f7954e-2985-4b86-bd07-b0c9d4eca0ef",
    "pycharm": {
     "name": "#%% md\n"
    }
   },
   "source": [
    "!pip install haversine\n",
    "!pip install pymysql\n",
    "\n",
    "\n",
    "\n",
    "# Import\n",
    "import pandas as pd\n",
    "from sqlalchemy import create_engine\n",
    "from haversine import haversine\n",
    "from tqdm.notebook import tqdm\n",
    "import numpy as np\n",
    "import pymysql\n",
    "import matplotlib.pyplot as plt\n",
    "\n",
    "\n",
    "\n",
    "# DB Connect\n",
    "endpoint = 'dao.c51deksujiip.ap-northeast-2.rds.amazonaws.com'\n",
    "schema = 'storage'\n",
    "db_connection_str = 'mysql+pymysql://admin:ekfkawnl@{}/{}'.format(endpoint, schema)\n",
    "try :\n",
    "    db_connection = create_engine(db_connection_str)\n",
    "    conn = db_connection.connect()\n",
    "except :\n",
    "    print('fail to connect db')\n",
    "\n",
    "\n",
    "\n",
    "# DataLoad\n",
    "def load_data_from_rds(tabel_name):\n",
    "  sql = \"SELECT * FROM {}\".format(tabel_name)\n",
    "  df = pd.read_sql(sql, db_connection)\n",
    "  return df\n",
    "\n",
    "\n",
    "\n",
    "# Preprocessing\n",
    "table = load_data_from_rds('생태통로')\n",
    "display(table)\n",
    "\n",
    "def calc_distance(bridge, factor, limit) :\n",
    "  num_bridge = len(bridge)\n",
    "  num_factor = len(factor)\n",
    "  true_table = [[False for _ in range(num_factor)] for _ in range(num_bridge)]\n",
    "\n",
    "  for b in tqdm(range(num_bridge)) :\n",
    "    start = (bridge.iloc[b]['위도'], bridge.iloc[b]['경도'])\n",
    "    for f in range(num_factor) :\n",
    "      goal = (factor.iloc[f]['위도_십진법'], factor.iloc[f]['경도_십진법'])\n",
    "      if haversine(start,goal,unit='km') <= limit :\n",
    "        true_table[b][f] = True\n",
    "  return np.array(true_table)\n",
    "\n",
    "from google.colab import drive\n",
    "drive.mount('/content/drive')\n",
    "\n",
    "\n",
    "\n",
    "# 포유류 거리계산\n",
    "ani = pd.read_csv('/content/drive/MyDrive/Colab Notebooks/전국자연환경조사_4차_포유류_병합.csv', encoding='cp949')\n",
    "display(ani.head())\n",
    "\n",
    "ani['위도_십진법'] = ani['경도']\n",
    "ani['경도_십진법'] = ani['위도']\n",
    "ani.drop(['위도', '경도', 'path'], axis=1, inplace=True)\n",
    "display(ani)\n",
    "\n",
    "target_ani = ['멧돼지', '고라니', '노루', '너구리', '오소리', '족제비','멧토끼', '청설모', '다람쥐']\n",
    "\n",
    "target_animals = ani[ani['국명'].isin(target_ani)]\n",
    "display(target_animals)\n",
    "\n",
    "################ time\n",
    "true_table = calc_distance(table, target_animals, 2.3)\n",
    "############## CPU times: user 1h 3min 10s, sys: 5.44 s, total: 1h 3min 15s\n",
    "############## Wall time: 1h 3min 35s\n",
    "\n",
    "print(true_table.shape)\n",
    "############## (497, 29259)\n",
    "print(true_table.sum())\n",
    "############## 2271\n",
    "\n",
    "df = pd.DataFrame(columns=['번호', '종명'])\n",
    "## true table\n",
    "for b in tqdm(range(true_table.shape[0])) :\n",
    "  for f in range(true_table.shape[1]) :\n",
    "    if true_table[b][f] :\n",
    "      temp = pd.DataFrame([[table.iloc[b]['번호'],\n",
    "                            target_animals.iloc[f]['국명']]],\n",
    "                          columns=df.columns)\n",
    "      df = pd.concat([df, temp])\n",
    "display(df)\n",
    "\n",
    "\n",
    "\n",
    "##### 수행결과 저장\n",
    "df.to_csv('/content/drive/MyDrive/Colab Notebooks/포유류_join.csv', index=False)\n"
   ]
  },
  {
   "cell_type": "markdown",
   "source": [
    "# Local 환경에서 join"
   ],
   "metadata": {
    "id": "Iyd2HUMNv14v",
    "pycharm": {
     "name": "#%% md\n"
    }
   }
  },
  {
   "cell_type": "code",
   "execution_count": 1,
   "outputs": [],
   "source": [
    "from DB import *\n",
    "import pandas as pd\n",
    "db_connection = connect_db()"
   ],
   "metadata": {
    "collapsed": false,
    "pycharm": {
     "name": "#%%\n"
    }
   }
  },
  {
   "cell_type": "code",
   "execution_count": 15,
   "outputs": [],
   "source": [
    "df = pd.read_csv('.././data/variables/포유류_join.csv')"
   ],
   "metadata": {
    "collapsed": false,
    "pycharm": {
     "name": "#%%\n"
    }
   }
  },
  {
   "cell_type": "code",
   "source": [
    "# 주변에서 동물종이 발견된 생태통로 개수\n",
    "df.groupby('번호').count().__len__()"
   ],
   "metadata": {
    "colab": {
     "base_uri": "https://localhost:8080/"
    },
    "id": "oabsUh1JT_jO",
    "outputId": "1404279f-7453-4583-d886-b314c6a5407d"
   },
   "execution_count": 16,
   "outputs": [
    {
     "data": {
      "text/plain": "259"
     },
     "execution_count": 16,
     "metadata": {},
     "output_type": "execute_result"
    }
   ]
  },
  {
   "cell_type": "code",
   "source": [
    "grouped_df = df.groupby('번호')"
   ],
   "metadata": {
    "id": "xv_CRRjJvykE"
   },
   "execution_count": 17,
   "outputs": []
  },
  {
   "cell_type": "code",
   "source": [
    "result = pd.DataFrame(columns=['번호'])\n",
    "result"
   ],
   "metadata": {
    "id": "EJPSHbr7w7vM"
   },
   "execution_count": 18,
   "outputs": [
    {
     "data": {
      "text/plain": "Empty DataFrame\nColumns: [번호]\nIndex: []",
      "text/html": "<div>\n<style scoped>\n    .dataframe tbody tr th:only-of-type {\n        vertical-align: middle;\n    }\n\n    .dataframe tbody tr th {\n        vertical-align: top;\n    }\n\n    .dataframe thead th {\n        text-align: right;\n    }\n</style>\n<table border=\"1\" class=\"dataframe\">\n  <thead>\n    <tr style=\"text-align: right;\">\n      <th></th>\n      <th>번호</th>\n    </tr>\n  </thead>\n  <tbody>\n  </tbody>\n</table>\n</div>"
     },
     "execution_count": 18,
     "metadata": {},
     "output_type": "execute_result"
    }
   ]
  },
  {
   "cell_type": "markdown",
   "source": [
    "### 생태통로 주변에서 발견된 포유류 종의 개수"
   ],
   "metadata": {
    "id": "zcwtIusIOcYK"
   }
  },
  {
   "cell_type": "code",
   "source": [
    "unique_ = pd.DataFrame(grouped_df['종명'].nunique())\n",
    "unique_.rename(columns={'종명' : '주변 동물종 개수'}, inplace=True)\n",
    "unique_"
   ],
   "metadata": {
    "id": "P4IrAY9_xLMT",
    "colab": {
     "base_uri": "https://localhost:8080/",
     "height": 455
    },
    "outputId": "dd79238e-9537-4980-f5b5-8861b8137223"
   },
   "execution_count": 19,
   "outputs": [
    {
     "data": {
      "text/plain": "        주변 동물종 개수\n번호               \n1002.0          4\n1004.0          1\n1005.0          4\n1006.0          3\n1009.0          2\n...           ...\n1561.0          3\n1562.0          6\n1564.0          1\n1567.0          4\n1568.0          1\n\n[259 rows x 1 columns]",
      "text/html": "<div>\n<style scoped>\n    .dataframe tbody tr th:only-of-type {\n        vertical-align: middle;\n    }\n\n    .dataframe tbody tr th {\n        vertical-align: top;\n    }\n\n    .dataframe thead th {\n        text-align: right;\n    }\n</style>\n<table border=\"1\" class=\"dataframe\">\n  <thead>\n    <tr style=\"text-align: right;\">\n      <th></th>\n      <th>주변 동물종 개수</th>\n    </tr>\n    <tr>\n      <th>번호</th>\n      <th></th>\n    </tr>\n  </thead>\n  <tbody>\n    <tr>\n      <th>1002.0</th>\n      <td>4</td>\n    </tr>\n    <tr>\n      <th>1004.0</th>\n      <td>1</td>\n    </tr>\n    <tr>\n      <th>1005.0</th>\n      <td>4</td>\n    </tr>\n    <tr>\n      <th>1006.0</th>\n      <td>3</td>\n    </tr>\n    <tr>\n      <th>1009.0</th>\n      <td>2</td>\n    </tr>\n    <tr>\n      <th>...</th>\n      <td>...</td>\n    </tr>\n    <tr>\n      <th>1561.0</th>\n      <td>3</td>\n    </tr>\n    <tr>\n      <th>1562.0</th>\n      <td>6</td>\n    </tr>\n    <tr>\n      <th>1564.0</th>\n      <td>1</td>\n    </tr>\n    <tr>\n      <th>1567.0</th>\n      <td>4</td>\n    </tr>\n    <tr>\n      <th>1568.0</th>\n      <td>1</td>\n    </tr>\n  </tbody>\n</table>\n<p>259 rows × 1 columns</p>\n</div>"
     },
     "execution_count": 19,
     "metadata": {},
     "output_type": "execute_result"
    }
   ]
  },
  {
   "cell_type": "markdown",
   "source": [
    "### 생태통로 주변에서 발견된 포유류 빈도수"
   ],
   "metadata": {
    "id": "Z23SJi0NOljK"
   }
  },
  {
   "cell_type": "code",
   "source": [
    "cnt = pd.DataFrame(grouped_df['종명'].count())\n",
    "cnt.rename(columns={'종명':'주변동물 출현빈도'}, inplace=True)\n",
    "cnt"
   ],
   "metadata": {
    "id": "bqoyoZUAyjMc",
    "colab": {
     "base_uri": "https://localhost:8080/",
     "height": 455
    },
    "outputId": "ef0ad46a-451b-4619-8c1d-a402606ac76b"
   },
   "execution_count": 20,
   "outputs": [
    {
     "data": {
      "text/plain": "        주변동물 출현빈도\n번호               \n1002.0          4\n1004.0          1\n1005.0          4\n1006.0          3\n1009.0          4\n...           ...\n1561.0          5\n1562.0         27\n1564.0          1\n1567.0          5\n1568.0          2\n\n[259 rows x 1 columns]",
      "text/html": "<div>\n<style scoped>\n    .dataframe tbody tr th:only-of-type {\n        vertical-align: middle;\n    }\n\n    .dataframe tbody tr th {\n        vertical-align: top;\n    }\n\n    .dataframe thead th {\n        text-align: right;\n    }\n</style>\n<table border=\"1\" class=\"dataframe\">\n  <thead>\n    <tr style=\"text-align: right;\">\n      <th></th>\n      <th>주변동물 출현빈도</th>\n    </tr>\n    <tr>\n      <th>번호</th>\n      <th></th>\n    </tr>\n  </thead>\n  <tbody>\n    <tr>\n      <th>1002.0</th>\n      <td>4</td>\n    </tr>\n    <tr>\n      <th>1004.0</th>\n      <td>1</td>\n    </tr>\n    <tr>\n      <th>1005.0</th>\n      <td>4</td>\n    </tr>\n    <tr>\n      <th>1006.0</th>\n      <td>3</td>\n    </tr>\n    <tr>\n      <th>1009.0</th>\n      <td>4</td>\n    </tr>\n    <tr>\n      <th>...</th>\n      <td>...</td>\n    </tr>\n    <tr>\n      <th>1561.0</th>\n      <td>5</td>\n    </tr>\n    <tr>\n      <th>1562.0</th>\n      <td>27</td>\n    </tr>\n    <tr>\n      <th>1564.0</th>\n      <td>1</td>\n    </tr>\n    <tr>\n      <th>1567.0</th>\n      <td>5</td>\n    </tr>\n    <tr>\n      <th>1568.0</th>\n      <td>2</td>\n    </tr>\n  </tbody>\n</table>\n<p>259 rows × 1 columns</p>\n</div>"
     },
     "execution_count": 20,
     "metadata": {},
     "output_type": "execute_result"
    }
   ]
  },
  {
   "cell_type": "markdown",
   "source": [
    "### 빈도와 다양도 join"
   ],
   "metadata": {
    "id": "NcsFT2wyOpWT"
   }
  },
  {
   "cell_type": "code",
   "source": [
    "result = result.merge(unique_, how='outer', on='번호')\n",
    "result = result.merge(cnt, how='outer', on='번호')\n",
    "result"
   ],
   "metadata": {
    "id": "WlSao0ctxigm",
    "colab": {
     "base_uri": "https://localhost:8080/",
     "height": 424
    },
    "outputId": "5264e50c-f0ce-412d-cef4-7552ef9bcfaf"
   },
   "execution_count": 21,
   "outputs": [
    {
     "data": {
      "text/plain": "         번호  주변 동물종 개수  주변동물 출현빈도\n0    1002.0          4          4\n1    1004.0          1          1\n2    1005.0          4          4\n3    1006.0          3          3\n4    1009.0          2          4\n..      ...        ...        ...\n254  1561.0          3          5\n255  1562.0          6         27\n256  1564.0          1          1\n257  1567.0          4          5\n258  1568.0          1          2\n\n[259 rows x 3 columns]",
      "text/html": "<div>\n<style scoped>\n    .dataframe tbody tr th:only-of-type {\n        vertical-align: middle;\n    }\n\n    .dataframe tbody tr th {\n        vertical-align: top;\n    }\n\n    .dataframe thead th {\n        text-align: right;\n    }\n</style>\n<table border=\"1\" class=\"dataframe\">\n  <thead>\n    <tr style=\"text-align: right;\">\n      <th></th>\n      <th>번호</th>\n      <th>주변 동물종 개수</th>\n      <th>주변동물 출현빈도</th>\n    </tr>\n  </thead>\n  <tbody>\n    <tr>\n      <th>0</th>\n      <td>1002.0</td>\n      <td>4</td>\n      <td>4</td>\n    </tr>\n    <tr>\n      <th>1</th>\n      <td>1004.0</td>\n      <td>1</td>\n      <td>1</td>\n    </tr>\n    <tr>\n      <th>2</th>\n      <td>1005.0</td>\n      <td>4</td>\n      <td>4</td>\n    </tr>\n    <tr>\n      <th>3</th>\n      <td>1006.0</td>\n      <td>3</td>\n      <td>3</td>\n    </tr>\n    <tr>\n      <th>4</th>\n      <td>1009.0</td>\n      <td>2</td>\n      <td>4</td>\n    </tr>\n    <tr>\n      <th>...</th>\n      <td>...</td>\n      <td>...</td>\n      <td>...</td>\n    </tr>\n    <tr>\n      <th>254</th>\n      <td>1561.0</td>\n      <td>3</td>\n      <td>5</td>\n    </tr>\n    <tr>\n      <th>255</th>\n      <td>1562.0</td>\n      <td>6</td>\n      <td>27</td>\n    </tr>\n    <tr>\n      <th>256</th>\n      <td>1564.0</td>\n      <td>1</td>\n      <td>1</td>\n    </tr>\n    <tr>\n      <th>257</th>\n      <td>1567.0</td>\n      <td>4</td>\n      <td>5</td>\n    </tr>\n    <tr>\n      <th>258</th>\n      <td>1568.0</td>\n      <td>1</td>\n      <td>2</td>\n    </tr>\n  </tbody>\n</table>\n<p>259 rows × 3 columns</p>\n</div>"
     },
     "execution_count": 21,
     "metadata": {},
     "output_type": "execute_result"
    }
   ]
  },
  {
   "cell_type": "code",
   "source": [
    "result['번호'] = result['번호'].astype('int64')"
   ],
   "metadata": {
    "colab": {
     "base_uri": "https://localhost:8080/"
    },
    "id": "jHy25dsQzr7O",
    "outputId": "46c81a44-447f-475b-a73a-d7e409573aea"
   },
   "execution_count": 25,
   "outputs": []
  },
  {
   "cell_type": "code",
   "source": [
    "# 결과 확인\n",
    "result"
   ],
   "metadata": {
    "id": "GqFPRgHYz6k5",
    "colab": {
     "base_uri": "https://localhost:8080/",
     "height": 424
    },
    "outputId": "d1a40cf7-970f-4e67-db1f-e6fe78bf1e97"
   },
   "execution_count": 26,
   "outputs": [
    {
     "data": {
      "text/plain": "       번호  주변 동물종 개수  주변동물 출현빈도\n0    1002          4          4\n1    1004          1          1\n2    1005          4          4\n3    1006          3          3\n4    1009          2          4\n..    ...        ...        ...\n254  1561          3          5\n255  1562          6         27\n256  1564          1          1\n257  1567          4          5\n258  1568          1          2\n\n[259 rows x 3 columns]",
      "text/html": "<div>\n<style scoped>\n    .dataframe tbody tr th:only-of-type {\n        vertical-align: middle;\n    }\n\n    .dataframe tbody tr th {\n        vertical-align: top;\n    }\n\n    .dataframe thead th {\n        text-align: right;\n    }\n</style>\n<table border=\"1\" class=\"dataframe\">\n  <thead>\n    <tr style=\"text-align: right;\">\n      <th></th>\n      <th>번호</th>\n      <th>주변 동물종 개수</th>\n      <th>주변동물 출현빈도</th>\n    </tr>\n  </thead>\n  <tbody>\n    <tr>\n      <th>0</th>\n      <td>1002</td>\n      <td>4</td>\n      <td>4</td>\n    </tr>\n    <tr>\n      <th>1</th>\n      <td>1004</td>\n      <td>1</td>\n      <td>1</td>\n    </tr>\n    <tr>\n      <th>2</th>\n      <td>1005</td>\n      <td>4</td>\n      <td>4</td>\n    </tr>\n    <tr>\n      <th>3</th>\n      <td>1006</td>\n      <td>3</td>\n      <td>3</td>\n    </tr>\n    <tr>\n      <th>4</th>\n      <td>1009</td>\n      <td>2</td>\n      <td>4</td>\n    </tr>\n    <tr>\n      <th>...</th>\n      <td>...</td>\n      <td>...</td>\n      <td>...</td>\n    </tr>\n    <tr>\n      <th>254</th>\n      <td>1561</td>\n      <td>3</td>\n      <td>5</td>\n    </tr>\n    <tr>\n      <th>255</th>\n      <td>1562</td>\n      <td>6</td>\n      <td>27</td>\n    </tr>\n    <tr>\n      <th>256</th>\n      <td>1564</td>\n      <td>1</td>\n      <td>1</td>\n    </tr>\n    <tr>\n      <th>257</th>\n      <td>1567</td>\n      <td>4</td>\n      <td>5</td>\n    </tr>\n    <tr>\n      <th>258</th>\n      <td>1568</td>\n      <td>1</td>\n      <td>2</td>\n    </tr>\n  </tbody>\n</table>\n<p>259 rows × 3 columns</p>\n</div>"
     },
     "execution_count": 26,
     "metadata": {},
     "output_type": "execute_result"
    }
   ]
  },
  {
   "cell_type": "markdown",
   "source": [
    "# join"
   ],
   "metadata": {
    "id": "bc0_bATWO8pv"
   }
  },
  {
   "cell_type": "code",
   "source": [
    "main_table = load_data_from_rds('변수관계설정', db_connection)\n",
    "main_table"
   ],
   "metadata": {
    "id": "Aq6QnHo3QPSz"
   },
   "execution_count": 36,
   "outputs": [
    {
     "data": {
      "text/plain": "       번호  등산로까지 최단거리(km)  식생  경사도 지형기호(2.3km)\n0    1001        1.903039   0    6           X\n1    1002        0.120319   1    5           X\n2    1004        0.047211   1    2          산지\n3    1005        0.233820   1    2           X\n4    1006        2.172428   0    4          하천\n..    ...             ...  ..  ...         ...\n492  1561        0.000416   1    2          산지\n493  1562        2.835246   1    5          산지\n494  1564        0.886170   1    4           X\n495  1567        9.125829   1    5          하천\n496  1568        0.642351   0    4           X\n\n[497 rows x 5 columns]",
      "text/html": "<div>\n<style scoped>\n    .dataframe tbody tr th:only-of-type {\n        vertical-align: middle;\n    }\n\n    .dataframe tbody tr th {\n        vertical-align: top;\n    }\n\n    .dataframe thead th {\n        text-align: right;\n    }\n</style>\n<table border=\"1\" class=\"dataframe\">\n  <thead>\n    <tr style=\"text-align: right;\">\n      <th></th>\n      <th>번호</th>\n      <th>등산로까지 최단거리(km)</th>\n      <th>식생</th>\n      <th>경사도</th>\n      <th>지형기호(2.3km)</th>\n    </tr>\n  </thead>\n  <tbody>\n    <tr>\n      <th>0</th>\n      <td>1001</td>\n      <td>1.903039</td>\n      <td>0</td>\n      <td>6</td>\n      <td>X</td>\n    </tr>\n    <tr>\n      <th>1</th>\n      <td>1002</td>\n      <td>0.120319</td>\n      <td>1</td>\n      <td>5</td>\n      <td>X</td>\n    </tr>\n    <tr>\n      <th>2</th>\n      <td>1004</td>\n      <td>0.047211</td>\n      <td>1</td>\n      <td>2</td>\n      <td>산지</td>\n    </tr>\n    <tr>\n      <th>3</th>\n      <td>1005</td>\n      <td>0.233820</td>\n      <td>1</td>\n      <td>2</td>\n      <td>X</td>\n    </tr>\n    <tr>\n      <th>4</th>\n      <td>1006</td>\n      <td>2.172428</td>\n      <td>0</td>\n      <td>4</td>\n      <td>하천</td>\n    </tr>\n    <tr>\n      <th>...</th>\n      <td>...</td>\n      <td>...</td>\n      <td>...</td>\n      <td>...</td>\n      <td>...</td>\n    </tr>\n    <tr>\n      <th>492</th>\n      <td>1561</td>\n      <td>0.000416</td>\n      <td>1</td>\n      <td>2</td>\n      <td>산지</td>\n    </tr>\n    <tr>\n      <th>493</th>\n      <td>1562</td>\n      <td>2.835246</td>\n      <td>1</td>\n      <td>5</td>\n      <td>산지</td>\n    </tr>\n    <tr>\n      <th>494</th>\n      <td>1564</td>\n      <td>0.886170</td>\n      <td>1</td>\n      <td>4</td>\n      <td>X</td>\n    </tr>\n    <tr>\n      <th>495</th>\n      <td>1567</td>\n      <td>9.125829</td>\n      <td>1</td>\n      <td>5</td>\n      <td>하천</td>\n    </tr>\n    <tr>\n      <th>496</th>\n      <td>1568</td>\n      <td>0.642351</td>\n      <td>0</td>\n      <td>4</td>\n      <td>X</td>\n    </tr>\n  </tbody>\n</table>\n<p>497 rows × 5 columns</p>\n</div>"
     },
     "execution_count": 36,
     "metadata": {},
     "output_type": "execute_result"
    }
   ]
  },
  {
   "cell_type": "code",
   "execution_count": 37,
   "outputs": [],
   "source": [
    "backup = main_table.copy()"
   ],
   "metadata": {
    "collapsed": false,
    "pycharm": {
     "name": "#%%\n"
    }
   }
  },
  {
   "cell_type": "code",
   "source": [
    "main_table =main_table.merge(result, on='번호', how='outer')"
   ],
   "metadata": {
    "id": "9jgk41cyh5aE"
   },
   "execution_count": 38,
   "outputs": []
  },
  {
   "cell_type": "code",
   "source": [
    "main_table"
   ],
   "metadata": {
    "colab": {
     "base_uri": "https://localhost:8080/",
     "height": 424
    },
    "id": "hNZSEATViAFM",
    "outputId": "a4361d58-0867-4cab-8e0c-d568da8442cd"
   },
   "execution_count": 39,
   "outputs": [
    {
     "data": {
      "text/plain": "       번호  등산로까지 최단거리(km)  식생  경사도 지형기호(2.3km)  주변 동물종 개수  주변동물 출현빈도\n0    1001        1.903039   0    6           X        NaN        NaN\n1    1002        0.120319   1    5           X        4.0        4.0\n2    1004        0.047211   1    2          산지        1.0        1.0\n3    1005        0.233820   1    2           X        4.0        4.0\n4    1006        2.172428   0    4          하천        3.0        3.0\n..    ...             ...  ..  ...         ...        ...        ...\n492  1561        0.000416   1    2          산지        3.0        5.0\n493  1562        2.835246   1    5          산지        6.0       27.0\n494  1564        0.886170   1    4           X        1.0        1.0\n495  1567        9.125829   1    5          하천        4.0        5.0\n496  1568        0.642351   0    4           X        1.0        2.0\n\n[497 rows x 7 columns]",
      "text/html": "<div>\n<style scoped>\n    .dataframe tbody tr th:only-of-type {\n        vertical-align: middle;\n    }\n\n    .dataframe tbody tr th {\n        vertical-align: top;\n    }\n\n    .dataframe thead th {\n        text-align: right;\n    }\n</style>\n<table border=\"1\" class=\"dataframe\">\n  <thead>\n    <tr style=\"text-align: right;\">\n      <th></th>\n      <th>번호</th>\n      <th>등산로까지 최단거리(km)</th>\n      <th>식생</th>\n      <th>경사도</th>\n      <th>지형기호(2.3km)</th>\n      <th>주변 동물종 개수</th>\n      <th>주변동물 출현빈도</th>\n    </tr>\n  </thead>\n  <tbody>\n    <tr>\n      <th>0</th>\n      <td>1001</td>\n      <td>1.903039</td>\n      <td>0</td>\n      <td>6</td>\n      <td>X</td>\n      <td>NaN</td>\n      <td>NaN</td>\n    </tr>\n    <tr>\n      <th>1</th>\n      <td>1002</td>\n      <td>0.120319</td>\n      <td>1</td>\n      <td>5</td>\n      <td>X</td>\n      <td>4.0</td>\n      <td>4.0</td>\n    </tr>\n    <tr>\n      <th>2</th>\n      <td>1004</td>\n      <td>0.047211</td>\n      <td>1</td>\n      <td>2</td>\n      <td>산지</td>\n      <td>1.0</td>\n      <td>1.0</td>\n    </tr>\n    <tr>\n      <th>3</th>\n      <td>1005</td>\n      <td>0.233820</td>\n      <td>1</td>\n      <td>2</td>\n      <td>X</td>\n      <td>4.0</td>\n      <td>4.0</td>\n    </tr>\n    <tr>\n      <th>4</th>\n      <td>1006</td>\n      <td>2.172428</td>\n      <td>0</td>\n      <td>4</td>\n      <td>하천</td>\n      <td>3.0</td>\n      <td>3.0</td>\n    </tr>\n    <tr>\n      <th>...</th>\n      <td>...</td>\n      <td>...</td>\n      <td>...</td>\n      <td>...</td>\n      <td>...</td>\n      <td>...</td>\n      <td>...</td>\n    </tr>\n    <tr>\n      <th>492</th>\n      <td>1561</td>\n      <td>0.000416</td>\n      <td>1</td>\n      <td>2</td>\n      <td>산지</td>\n      <td>3.0</td>\n      <td>5.0</td>\n    </tr>\n    <tr>\n      <th>493</th>\n      <td>1562</td>\n      <td>2.835246</td>\n      <td>1</td>\n      <td>5</td>\n      <td>산지</td>\n      <td>6.0</td>\n      <td>27.0</td>\n    </tr>\n    <tr>\n      <th>494</th>\n      <td>1564</td>\n      <td>0.886170</td>\n      <td>1</td>\n      <td>4</td>\n      <td>X</td>\n      <td>1.0</td>\n      <td>1.0</td>\n    </tr>\n    <tr>\n      <th>495</th>\n      <td>1567</td>\n      <td>9.125829</td>\n      <td>1</td>\n      <td>5</td>\n      <td>하천</td>\n      <td>4.0</td>\n      <td>5.0</td>\n    </tr>\n    <tr>\n      <th>496</th>\n      <td>1568</td>\n      <td>0.642351</td>\n      <td>0</td>\n      <td>4</td>\n      <td>X</td>\n      <td>1.0</td>\n      <td>2.0</td>\n    </tr>\n  </tbody>\n</table>\n<p>497 rows × 7 columns</p>\n</div>"
     },
     "execution_count": 39,
     "metadata": {},
     "output_type": "execute_result"
    }
   ]
  },
  {
   "cell_type": "code",
   "source": [
    "upload_data_to_rds(main_table, '변수관계설정', db_connection)"
   ],
   "metadata": {
    "id": "7ciiNkTFiEri",
    "pycharm": {
     "name": "#%%\n"
    }
   },
   "execution_count": 40,
   "outputs": []
  }
 ]
}