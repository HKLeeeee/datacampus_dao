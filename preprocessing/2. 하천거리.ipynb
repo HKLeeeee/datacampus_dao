{
 "cells": [
  {
   "cell_type": "code",
   "execution_count": 1,
   "metadata": {
    "collapsed": true
   },
   "outputs": [],
   "source": [
    "from DB import *\n",
    "import pandas as pd\n",
    "import numpy as np\n",
    "from glob import glob"
   ]
  },
  {
   "cell_type": "code",
   "execution_count": 2,
   "outputs": [],
   "source": [
    "db_connection = connect_db()"
   ],
   "metadata": {
    "collapsed": false,
    "pycharm": {
     "name": "#%%\n"
    }
   }
  },
  {
   "cell_type": "code",
   "execution_count": 3,
   "outputs": [
    {
     "data": {
      "text/plain": "       번호  join_CODE1 join_INDEXPAGE join_LEVEL join_NAME1  join_RIVLEN  \\\n0    1495         NaN            NaN        NaN        NaN          NaN   \n1    1277   1010010.0   ,67,81,83,99        지방1         한강        125.8   \n2    1278         NaN            NaN        NaN        NaN          NaN   \n3    1279         NaN            NaN        NaN        NaN          NaN   \n4    1090         NaN            NaN        NaN        NaN          NaN   \n..    ...         ...            ...        ...        ...          ...   \n492  1089         NaN            NaN        NaN        NaN          NaN   \n493  1087         NaN            NaN        NaN        NaN          NaN   \n494  1088         NaN            NaN        NaN        NaN          NaN   \n495  1091   3011810.0        ,95,113        지방1        미호천         11.0   \n496  1072         NaN            NaN        NaN        NaN          NaN   \n\n     join_UID  join_CODE2 join_INDEXPAGE1 join_LEVEL1  ... join_UID1  \\\n0         NaN         NaN             NaN         NaN  ...       NaN   \n1        51.0         NaN             NaN         NaN  ...       NaN   \n2         NaN         NaN             NaN         NaN  ...       NaN   \n3         NaN         NaN             NaN         NaN  ...       NaN   \n4         NaN         NaN             NaN         NaN  ...       NaN   \n..        ...         ...             ...         ...  ...       ...   \n492       NaN         NaN             NaN         NaN  ...       NaN   \n493       NaN         NaN             NaN         NaN  ...       NaN   \n494       NaN         NaN             NaN         NaN  ...       NaN   \n495      15.0         NaN             NaN         NaN  ...       NaN   \n496       NaN         NaN             NaN         NaN  ...       NaN   \n\n     join_INDEXPAGE2  join_LEVEL2 join_RIVLEN2 join_RIV_CD_1  join_RIV_NAM_1  \\\n0           ,223,225          지방2         45.8     2024690.0              양천   \n1                NaN          NaN          NaN           NaN             NaN   \n2            ,99,117          지방2         21.5     1020640.0             단양천   \n3            ,99,117          지방2         21.5     1020640.0             단양천   \n4               ,113          지방2         21.3     3022180.0             용두천   \n..               ...          ...          ...           ...             ...   \n492             ,113          지방2         21.3     3022180.0             용두천   \n493             ,113          지방2         21.3     3022180.0             용두천   \n494             ,113          지방2         21.3     3022180.0             용두천   \n495              NaN          NaN          NaN           NaN             NaN   \n496             ,113          지방2          4.5     3022060.0             명암천   \n\n     join_UID2   join_layer                                         join_path  \\\n0       2468.0  W_SCND_5181  D:/datacampus_dao/data/국가 및 지방하천/W_SCND_5181.shp   \n1          NaN  W_FRST_5181  D:/datacampus_dao/data/국가 및 지방하천/W_FRST_5181.shp   \n2        904.0  W_SCND_5181  D:/datacampus_dao/data/국가 및 지방하천/W_SCND_5181.shp   \n3        904.0  W_SCND_5181  D:/datacampus_dao/data/국가 및 지방하천/W_SCND_5181.shp   \n4       1064.0  W_SCND_5181  D:/datacampus_dao/data/국가 및 지방하천/W_SCND_5181.shp   \n..         ...          ...                                               ...   \n492     1064.0  W_SCND_5181  D:/datacampus_dao/data/국가 및 지방하천/W_SCND_5181.shp   \n493     1064.0  W_SCND_5181  D:/datacampus_dao/data/국가 및 지방하천/W_SCND_5181.shp   \n494     1064.0  W_SCND_5181  D:/datacampus_dao/data/국가 및 지방하천/W_SCND_5181.shp   \n495        NaN  W_FRST_5181  D:/datacampus_dao/data/국가 및 지방하천/W_FRST_5181.shp   \n496     1164.0  W_SCND_5181  D:/datacampus_dao/data/국가 및 지방하천/W_SCND_5181.shp   \n\n        distance  \n0     134.468063  \n1     434.781679  \n2      74.780224  \n3     125.168772  \n4    2275.200182  \n..           ...  \n492  2274.279975  \n493  1722.566263  \n494  2532.215687  \n495  2096.234333  \n496   901.351714  \n\n[497 rows x 22 columns]",
      "text/html": "<div>\n<style scoped>\n    .dataframe tbody tr th:only-of-type {\n        vertical-align: middle;\n    }\n\n    .dataframe tbody tr th {\n        vertical-align: top;\n    }\n\n    .dataframe thead th {\n        text-align: right;\n    }\n</style>\n<table border=\"1\" class=\"dataframe\">\n  <thead>\n    <tr style=\"text-align: right;\">\n      <th></th>\n      <th>번호</th>\n      <th>join_CODE1</th>\n      <th>join_INDEXPAGE</th>\n      <th>join_LEVEL</th>\n      <th>join_NAME1</th>\n      <th>join_RIVLEN</th>\n      <th>join_UID</th>\n      <th>join_CODE2</th>\n      <th>join_INDEXPAGE1</th>\n      <th>join_LEVEL1</th>\n      <th>...</th>\n      <th>join_UID1</th>\n      <th>join_INDEXPAGE2</th>\n      <th>join_LEVEL2</th>\n      <th>join_RIVLEN2</th>\n      <th>join_RIV_CD_1</th>\n      <th>join_RIV_NAM_1</th>\n      <th>join_UID2</th>\n      <th>join_layer</th>\n      <th>join_path</th>\n      <th>distance</th>\n    </tr>\n  </thead>\n  <tbody>\n    <tr>\n      <th>0</th>\n      <td>1495</td>\n      <td>NaN</td>\n      <td>NaN</td>\n      <td>NaN</td>\n      <td>NaN</td>\n      <td>NaN</td>\n      <td>NaN</td>\n      <td>NaN</td>\n      <td>NaN</td>\n      <td>NaN</td>\n      <td>...</td>\n      <td>NaN</td>\n      <td>,223,225</td>\n      <td>지방2</td>\n      <td>45.8</td>\n      <td>2024690.0</td>\n      <td>양천</td>\n      <td>2468.0</td>\n      <td>W_SCND_5181</td>\n      <td>D:/datacampus_dao/data/국가 및 지방하천/W_SCND_5181.shp</td>\n      <td>134.468063</td>\n    </tr>\n    <tr>\n      <th>1</th>\n      <td>1277</td>\n      <td>1010010.0</td>\n      <td>,67,81,83,99</td>\n      <td>지방1</td>\n      <td>한강</td>\n      <td>125.8</td>\n      <td>51.0</td>\n      <td>NaN</td>\n      <td>NaN</td>\n      <td>NaN</td>\n      <td>...</td>\n      <td>NaN</td>\n      <td>NaN</td>\n      <td>NaN</td>\n      <td>NaN</td>\n      <td>NaN</td>\n      <td>NaN</td>\n      <td>NaN</td>\n      <td>W_FRST_5181</td>\n      <td>D:/datacampus_dao/data/국가 및 지방하천/W_FRST_5181.shp</td>\n      <td>434.781679</td>\n    </tr>\n    <tr>\n      <th>2</th>\n      <td>1278</td>\n      <td>NaN</td>\n      <td>NaN</td>\n      <td>NaN</td>\n      <td>NaN</td>\n      <td>NaN</td>\n      <td>NaN</td>\n      <td>NaN</td>\n      <td>NaN</td>\n      <td>NaN</td>\n      <td>...</td>\n      <td>NaN</td>\n      <td>,99,117</td>\n      <td>지방2</td>\n      <td>21.5</td>\n      <td>1020640.0</td>\n      <td>단양천</td>\n      <td>904.0</td>\n      <td>W_SCND_5181</td>\n      <td>D:/datacampus_dao/data/국가 및 지방하천/W_SCND_5181.shp</td>\n      <td>74.780224</td>\n    </tr>\n    <tr>\n      <th>3</th>\n      <td>1279</td>\n      <td>NaN</td>\n      <td>NaN</td>\n      <td>NaN</td>\n      <td>NaN</td>\n      <td>NaN</td>\n      <td>NaN</td>\n      <td>NaN</td>\n      <td>NaN</td>\n      <td>NaN</td>\n      <td>...</td>\n      <td>NaN</td>\n      <td>,99,117</td>\n      <td>지방2</td>\n      <td>21.5</td>\n      <td>1020640.0</td>\n      <td>단양천</td>\n      <td>904.0</td>\n      <td>W_SCND_5181</td>\n      <td>D:/datacampus_dao/data/국가 및 지방하천/W_SCND_5181.shp</td>\n      <td>125.168772</td>\n    </tr>\n    <tr>\n      <th>4</th>\n      <td>1090</td>\n      <td>NaN</td>\n      <td>NaN</td>\n      <td>NaN</td>\n      <td>NaN</td>\n      <td>NaN</td>\n      <td>NaN</td>\n      <td>NaN</td>\n      <td>NaN</td>\n      <td>NaN</td>\n      <td>...</td>\n      <td>NaN</td>\n      <td>,113</td>\n      <td>지방2</td>\n      <td>21.3</td>\n      <td>3022180.0</td>\n      <td>용두천</td>\n      <td>1064.0</td>\n      <td>W_SCND_5181</td>\n      <td>D:/datacampus_dao/data/국가 및 지방하천/W_SCND_5181.shp</td>\n      <td>2275.200182</td>\n    </tr>\n    <tr>\n      <th>...</th>\n      <td>...</td>\n      <td>...</td>\n      <td>...</td>\n      <td>...</td>\n      <td>...</td>\n      <td>...</td>\n      <td>...</td>\n      <td>...</td>\n      <td>...</td>\n      <td>...</td>\n      <td>...</td>\n      <td>...</td>\n      <td>...</td>\n      <td>...</td>\n      <td>...</td>\n      <td>...</td>\n      <td>...</td>\n      <td>...</td>\n      <td>...</td>\n      <td>...</td>\n      <td>...</td>\n    </tr>\n    <tr>\n      <th>492</th>\n      <td>1089</td>\n      <td>NaN</td>\n      <td>NaN</td>\n      <td>NaN</td>\n      <td>NaN</td>\n      <td>NaN</td>\n      <td>NaN</td>\n      <td>NaN</td>\n      <td>NaN</td>\n      <td>NaN</td>\n      <td>...</td>\n      <td>NaN</td>\n      <td>,113</td>\n      <td>지방2</td>\n      <td>21.3</td>\n      <td>3022180.0</td>\n      <td>용두천</td>\n      <td>1064.0</td>\n      <td>W_SCND_5181</td>\n      <td>D:/datacampus_dao/data/국가 및 지방하천/W_SCND_5181.shp</td>\n      <td>2274.279975</td>\n    </tr>\n    <tr>\n      <th>493</th>\n      <td>1087</td>\n      <td>NaN</td>\n      <td>NaN</td>\n      <td>NaN</td>\n      <td>NaN</td>\n      <td>NaN</td>\n      <td>NaN</td>\n      <td>NaN</td>\n      <td>NaN</td>\n      <td>NaN</td>\n      <td>...</td>\n      <td>NaN</td>\n      <td>,113</td>\n      <td>지방2</td>\n      <td>21.3</td>\n      <td>3022180.0</td>\n      <td>용두천</td>\n      <td>1064.0</td>\n      <td>W_SCND_5181</td>\n      <td>D:/datacampus_dao/data/국가 및 지방하천/W_SCND_5181.shp</td>\n      <td>1722.566263</td>\n    </tr>\n    <tr>\n      <th>494</th>\n      <td>1088</td>\n      <td>NaN</td>\n      <td>NaN</td>\n      <td>NaN</td>\n      <td>NaN</td>\n      <td>NaN</td>\n      <td>NaN</td>\n      <td>NaN</td>\n      <td>NaN</td>\n      <td>NaN</td>\n      <td>...</td>\n      <td>NaN</td>\n      <td>,113</td>\n      <td>지방2</td>\n      <td>21.3</td>\n      <td>3022180.0</td>\n      <td>용두천</td>\n      <td>1064.0</td>\n      <td>W_SCND_5181</td>\n      <td>D:/datacampus_dao/data/국가 및 지방하천/W_SCND_5181.shp</td>\n      <td>2532.215687</td>\n    </tr>\n    <tr>\n      <th>495</th>\n      <td>1091</td>\n      <td>3011810.0</td>\n      <td>,95,113</td>\n      <td>지방1</td>\n      <td>미호천</td>\n      <td>11.0</td>\n      <td>15.0</td>\n      <td>NaN</td>\n      <td>NaN</td>\n      <td>NaN</td>\n      <td>...</td>\n      <td>NaN</td>\n      <td>NaN</td>\n      <td>NaN</td>\n      <td>NaN</td>\n      <td>NaN</td>\n      <td>NaN</td>\n      <td>NaN</td>\n      <td>W_FRST_5181</td>\n      <td>D:/datacampus_dao/data/국가 및 지방하천/W_FRST_5181.shp</td>\n      <td>2096.234333</td>\n    </tr>\n    <tr>\n      <th>496</th>\n      <td>1072</td>\n      <td>NaN</td>\n      <td>NaN</td>\n      <td>NaN</td>\n      <td>NaN</td>\n      <td>NaN</td>\n      <td>NaN</td>\n      <td>NaN</td>\n      <td>NaN</td>\n      <td>NaN</td>\n      <td>...</td>\n      <td>NaN</td>\n      <td>,113</td>\n      <td>지방2</td>\n      <td>4.5</td>\n      <td>3022060.0</td>\n      <td>명암천</td>\n      <td>1164.0</td>\n      <td>W_SCND_5181</td>\n      <td>D:/datacampus_dao/data/국가 및 지방하천/W_SCND_5181.shp</td>\n      <td>901.351714</td>\n    </tr>\n  </tbody>\n</table>\n<p>497 rows × 22 columns</p>\n</div>"
     },
     "execution_count": 3,
     "metadata": {},
     "output_type": "execute_result"
    }
   ],
   "source": [
    "df = pd.read_csv('.././data/variables/하천_join.csv', encoding='cp949')\n",
    "df"
   ],
   "metadata": {
    "collapsed": false,
    "pycharm": {
     "name": "#%%\n"
    }
   }
  },
  {
   "cell_type": "code",
   "execution_count": 4,
   "outputs": [
    {
     "data": {
      "text/plain": "       번호  경사도  농가까지의 거리(km)  최고제한속도(km/h)  등산로까지 최단거리(km)  식생  주변 로드킬 빈도  \\\n0    1001    6      0.125686          80.0        1.903039   0          0   \n1    1002    5      0.074627          60.0        0.120319   1          0   \n2    1004    2      0.110617          60.0        0.047211   1          0   \n3    1005    2      0.009030          80.0        0.233820   1          0   \n4    1006    4      0.098269          80.0        2.172428   0          0   \n..    ...  ...           ...           ...             ...  ..        ...   \n492  1561    2      0.087448          60.0        0.000416   1          4   \n493  1562    5      0.137822          80.0        2.835246   1          0   \n494  1564    4      0.054073          80.0        0.886170   1          0   \n495  1567    5      0.102655          60.0        9.125829   1          0   \n496  1568    4      0.086586          60.0        0.642351   0          0   \n\n    지형기호(2.3km)  주변 동물종 개수  주변동물 출현빈도  \n0             X        NaN        NaN  \n1             X        4.0        4.0  \n2            산지        1.0        1.0  \n3             X        4.0        4.0  \n4            하천        3.0        3.0  \n..          ...        ...        ...  \n492          산지        3.0        5.0  \n493          산지        6.0       27.0  \n494           X        1.0        1.0  \n495          하천        4.0        5.0  \n496           X        1.0        2.0  \n\n[497 rows x 10 columns]",
      "text/html": "<div>\n<style scoped>\n    .dataframe tbody tr th:only-of-type {\n        vertical-align: middle;\n    }\n\n    .dataframe tbody tr th {\n        vertical-align: top;\n    }\n\n    .dataframe thead th {\n        text-align: right;\n    }\n</style>\n<table border=\"1\" class=\"dataframe\">\n  <thead>\n    <tr style=\"text-align: right;\">\n      <th></th>\n      <th>번호</th>\n      <th>경사도</th>\n      <th>농가까지의 거리(km)</th>\n      <th>최고제한속도(km/h)</th>\n      <th>등산로까지 최단거리(km)</th>\n      <th>식생</th>\n      <th>주변 로드킬 빈도</th>\n      <th>지형기호(2.3km)</th>\n      <th>주변 동물종 개수</th>\n      <th>주변동물 출현빈도</th>\n    </tr>\n  </thead>\n  <tbody>\n    <tr>\n      <th>0</th>\n      <td>1001</td>\n      <td>6</td>\n      <td>0.125686</td>\n      <td>80.0</td>\n      <td>1.903039</td>\n      <td>0</td>\n      <td>0</td>\n      <td>X</td>\n      <td>NaN</td>\n      <td>NaN</td>\n    </tr>\n    <tr>\n      <th>1</th>\n      <td>1002</td>\n      <td>5</td>\n      <td>0.074627</td>\n      <td>60.0</td>\n      <td>0.120319</td>\n      <td>1</td>\n      <td>0</td>\n      <td>X</td>\n      <td>4.0</td>\n      <td>4.0</td>\n    </tr>\n    <tr>\n      <th>2</th>\n      <td>1004</td>\n      <td>2</td>\n      <td>0.110617</td>\n      <td>60.0</td>\n      <td>0.047211</td>\n      <td>1</td>\n      <td>0</td>\n      <td>산지</td>\n      <td>1.0</td>\n      <td>1.0</td>\n    </tr>\n    <tr>\n      <th>3</th>\n      <td>1005</td>\n      <td>2</td>\n      <td>0.009030</td>\n      <td>80.0</td>\n      <td>0.233820</td>\n      <td>1</td>\n      <td>0</td>\n      <td>X</td>\n      <td>4.0</td>\n      <td>4.0</td>\n    </tr>\n    <tr>\n      <th>4</th>\n      <td>1006</td>\n      <td>4</td>\n      <td>0.098269</td>\n      <td>80.0</td>\n      <td>2.172428</td>\n      <td>0</td>\n      <td>0</td>\n      <td>하천</td>\n      <td>3.0</td>\n      <td>3.0</td>\n    </tr>\n    <tr>\n      <th>...</th>\n      <td>...</td>\n      <td>...</td>\n      <td>...</td>\n      <td>...</td>\n      <td>...</td>\n      <td>...</td>\n      <td>...</td>\n      <td>...</td>\n      <td>...</td>\n      <td>...</td>\n    </tr>\n    <tr>\n      <th>492</th>\n      <td>1561</td>\n      <td>2</td>\n      <td>0.087448</td>\n      <td>60.0</td>\n      <td>0.000416</td>\n      <td>1</td>\n      <td>4</td>\n      <td>산지</td>\n      <td>3.0</td>\n      <td>5.0</td>\n    </tr>\n    <tr>\n      <th>493</th>\n      <td>1562</td>\n      <td>5</td>\n      <td>0.137822</td>\n      <td>80.0</td>\n      <td>2.835246</td>\n      <td>1</td>\n      <td>0</td>\n      <td>산지</td>\n      <td>6.0</td>\n      <td>27.0</td>\n    </tr>\n    <tr>\n      <th>494</th>\n      <td>1564</td>\n      <td>4</td>\n      <td>0.054073</td>\n      <td>80.0</td>\n      <td>0.886170</td>\n      <td>1</td>\n      <td>0</td>\n      <td>X</td>\n      <td>1.0</td>\n      <td>1.0</td>\n    </tr>\n    <tr>\n      <th>495</th>\n      <td>1567</td>\n      <td>5</td>\n      <td>0.102655</td>\n      <td>60.0</td>\n      <td>9.125829</td>\n      <td>1</td>\n      <td>0</td>\n      <td>하천</td>\n      <td>4.0</td>\n      <td>5.0</td>\n    </tr>\n    <tr>\n      <th>496</th>\n      <td>1568</td>\n      <td>4</td>\n      <td>0.086586</td>\n      <td>60.0</td>\n      <td>0.642351</td>\n      <td>0</td>\n      <td>0</td>\n      <td>X</td>\n      <td>1.0</td>\n      <td>2.0</td>\n    </tr>\n  </tbody>\n</table>\n<p>497 rows × 10 columns</p>\n</div>"
     },
     "execution_count": 4,
     "metadata": {},
     "output_type": "execute_result"
    }
   ],
   "source": [
    "main_df = load_data_from_rds('변수관계설정', db_connection)\n",
    "main_df"
   ],
   "metadata": {
    "collapsed": false,
    "pycharm": {
     "name": "#%%\n"
    }
   }
  },
  {
   "cell_type": "code",
   "execution_count": 5,
   "outputs": [
    {
     "name": "stderr",
     "output_type": "stream",
     "text": [
      "C:\\Users\\Administrator\\AppData\\Local\\Temp\\ipykernel_23460\\438115408.py:2: SettingWithCopyWarning: \n",
      "A value is trying to be set on a copy of a slice from a DataFrame\n",
      "\n",
      "See the caveats in the documentation: https://pandas.pydata.org/pandas-docs/stable/user_guide/indexing.html#returning-a-view-versus-a-copy\n",
      "  df.rename(columns={'distance':'하천거리(km)'}, inplace=True)\n"
     ]
    }
   ],
   "source": [
    "df = df[['번호', 'distance']]\n",
    "df.rename(columns={'distance':'하천거리(km)'}, inplace=True)"
   ],
   "metadata": {
    "collapsed": false,
    "pycharm": {
     "name": "#%%\n"
    }
   }
  },
  {
   "cell_type": "code",
   "execution_count": 6,
   "outputs": [
    {
     "data": {
      "text/plain": "       번호     하천거리(km)\n0    1495   134.468063\n1    1277   434.781679\n2    1278    74.780224\n3    1279   125.168772\n4    1090  2275.200182\n..    ...          ...\n492  1089  2274.279975\n493  1087  1722.566263\n494  1088  2532.215687\n495  1091  2096.234333\n496  1072   901.351714\n\n[497 rows x 2 columns]",
      "text/html": "<div>\n<style scoped>\n    .dataframe tbody tr th:only-of-type {\n        vertical-align: middle;\n    }\n\n    .dataframe tbody tr th {\n        vertical-align: top;\n    }\n\n    .dataframe thead th {\n        text-align: right;\n    }\n</style>\n<table border=\"1\" class=\"dataframe\">\n  <thead>\n    <tr style=\"text-align: right;\">\n      <th></th>\n      <th>번호</th>\n      <th>하천거리(km)</th>\n    </tr>\n  </thead>\n  <tbody>\n    <tr>\n      <th>0</th>\n      <td>1495</td>\n      <td>134.468063</td>\n    </tr>\n    <tr>\n      <th>1</th>\n      <td>1277</td>\n      <td>434.781679</td>\n    </tr>\n    <tr>\n      <th>2</th>\n      <td>1278</td>\n      <td>74.780224</td>\n    </tr>\n    <tr>\n      <th>3</th>\n      <td>1279</td>\n      <td>125.168772</td>\n    </tr>\n    <tr>\n      <th>4</th>\n      <td>1090</td>\n      <td>2275.200182</td>\n    </tr>\n    <tr>\n      <th>...</th>\n      <td>...</td>\n      <td>...</td>\n    </tr>\n    <tr>\n      <th>492</th>\n      <td>1089</td>\n      <td>2274.279975</td>\n    </tr>\n    <tr>\n      <th>493</th>\n      <td>1087</td>\n      <td>1722.566263</td>\n    </tr>\n    <tr>\n      <th>494</th>\n      <td>1088</td>\n      <td>2532.215687</td>\n    </tr>\n    <tr>\n      <th>495</th>\n      <td>1091</td>\n      <td>2096.234333</td>\n    </tr>\n    <tr>\n      <th>496</th>\n      <td>1072</td>\n      <td>901.351714</td>\n    </tr>\n  </tbody>\n</table>\n<p>497 rows × 2 columns</p>\n</div>"
     },
     "execution_count": 6,
     "metadata": {},
     "output_type": "execute_result"
    }
   ],
   "source": [
    "df"
   ],
   "metadata": {
    "collapsed": false,
    "pycharm": {
     "name": "#%%\n"
    }
   }
  },
  {
   "cell_type": "code",
   "execution_count": 7,
   "outputs": [
    {
     "data": {
      "text/plain": "       번호  경사도  농가까지의 거리(km)  최고제한속도(km/h)  등산로까지 최단거리(km)  식생  주변 로드킬 빈도  \\\n0    1001    6      0.125686          80.0        1.903039   0          0   \n1    1002    5      0.074627          60.0        0.120319   1          0   \n2    1004    2      0.110617          60.0        0.047211   1          0   \n3    1005    2      0.009030          80.0        0.233820   1          0   \n4    1006    4      0.098269          80.0        2.172428   0          0   \n..    ...  ...           ...           ...             ...  ..        ...   \n492  1561    2      0.087448          60.0        0.000416   1          4   \n493  1562    5      0.137822          80.0        2.835246   1          0   \n494  1564    4      0.054073          80.0        0.886170   1          0   \n495  1567    5      0.102655          60.0        9.125829   1          0   \n496  1568    4      0.086586          60.0        0.642351   0          0   \n\n    지형기호(2.3km)  주변 동물종 개수  주변동물 출현빈도     하천거리(km)  \n0             X        NaN        NaN  1594.082919  \n1             X        4.0        4.0  1434.181414  \n2            산지        1.0        1.0  1248.795538  \n3             X        4.0        4.0   937.738738  \n4            하천        3.0        3.0   215.408967  \n..          ...        ...        ...          ...  \n492          산지        3.0        5.0   987.166229  \n493          산지        6.0       27.0  1164.042354  \n494           X        1.0        1.0   931.149822  \n495          하천        4.0        5.0  1002.913219  \n496           X        1.0        2.0  1648.370950  \n\n[497 rows x 11 columns]",
      "text/html": "<div>\n<style scoped>\n    .dataframe tbody tr th:only-of-type {\n        vertical-align: middle;\n    }\n\n    .dataframe tbody tr th {\n        vertical-align: top;\n    }\n\n    .dataframe thead th {\n        text-align: right;\n    }\n</style>\n<table border=\"1\" class=\"dataframe\">\n  <thead>\n    <tr style=\"text-align: right;\">\n      <th></th>\n      <th>번호</th>\n      <th>경사도</th>\n      <th>농가까지의 거리(km)</th>\n      <th>최고제한속도(km/h)</th>\n      <th>등산로까지 최단거리(km)</th>\n      <th>식생</th>\n      <th>주변 로드킬 빈도</th>\n      <th>지형기호(2.3km)</th>\n      <th>주변 동물종 개수</th>\n      <th>주변동물 출현빈도</th>\n      <th>하천거리(km)</th>\n    </tr>\n  </thead>\n  <tbody>\n    <tr>\n      <th>0</th>\n      <td>1001</td>\n      <td>6</td>\n      <td>0.125686</td>\n      <td>80.0</td>\n      <td>1.903039</td>\n      <td>0</td>\n      <td>0</td>\n      <td>X</td>\n      <td>NaN</td>\n      <td>NaN</td>\n      <td>1594.082919</td>\n    </tr>\n    <tr>\n      <th>1</th>\n      <td>1002</td>\n      <td>5</td>\n      <td>0.074627</td>\n      <td>60.0</td>\n      <td>0.120319</td>\n      <td>1</td>\n      <td>0</td>\n      <td>X</td>\n      <td>4.0</td>\n      <td>4.0</td>\n      <td>1434.181414</td>\n    </tr>\n    <tr>\n      <th>2</th>\n      <td>1004</td>\n      <td>2</td>\n      <td>0.110617</td>\n      <td>60.0</td>\n      <td>0.047211</td>\n      <td>1</td>\n      <td>0</td>\n      <td>산지</td>\n      <td>1.0</td>\n      <td>1.0</td>\n      <td>1248.795538</td>\n    </tr>\n    <tr>\n      <th>3</th>\n      <td>1005</td>\n      <td>2</td>\n      <td>0.009030</td>\n      <td>80.0</td>\n      <td>0.233820</td>\n      <td>1</td>\n      <td>0</td>\n      <td>X</td>\n      <td>4.0</td>\n      <td>4.0</td>\n      <td>937.738738</td>\n    </tr>\n    <tr>\n      <th>4</th>\n      <td>1006</td>\n      <td>4</td>\n      <td>0.098269</td>\n      <td>80.0</td>\n      <td>2.172428</td>\n      <td>0</td>\n      <td>0</td>\n      <td>하천</td>\n      <td>3.0</td>\n      <td>3.0</td>\n      <td>215.408967</td>\n    </tr>\n    <tr>\n      <th>...</th>\n      <td>...</td>\n      <td>...</td>\n      <td>...</td>\n      <td>...</td>\n      <td>...</td>\n      <td>...</td>\n      <td>...</td>\n      <td>...</td>\n      <td>...</td>\n      <td>...</td>\n      <td>...</td>\n    </tr>\n    <tr>\n      <th>492</th>\n      <td>1561</td>\n      <td>2</td>\n      <td>0.087448</td>\n      <td>60.0</td>\n      <td>0.000416</td>\n      <td>1</td>\n      <td>4</td>\n      <td>산지</td>\n      <td>3.0</td>\n      <td>5.0</td>\n      <td>987.166229</td>\n    </tr>\n    <tr>\n      <th>493</th>\n      <td>1562</td>\n      <td>5</td>\n      <td>0.137822</td>\n      <td>80.0</td>\n      <td>2.835246</td>\n      <td>1</td>\n      <td>0</td>\n      <td>산지</td>\n      <td>6.0</td>\n      <td>27.0</td>\n      <td>1164.042354</td>\n    </tr>\n    <tr>\n      <th>494</th>\n      <td>1564</td>\n      <td>4</td>\n      <td>0.054073</td>\n      <td>80.0</td>\n      <td>0.886170</td>\n      <td>1</td>\n      <td>0</td>\n      <td>X</td>\n      <td>1.0</td>\n      <td>1.0</td>\n      <td>931.149822</td>\n    </tr>\n    <tr>\n      <th>495</th>\n      <td>1567</td>\n      <td>5</td>\n      <td>0.102655</td>\n      <td>60.0</td>\n      <td>9.125829</td>\n      <td>1</td>\n      <td>0</td>\n      <td>하천</td>\n      <td>4.0</td>\n      <td>5.0</td>\n      <td>1002.913219</td>\n    </tr>\n    <tr>\n      <th>496</th>\n      <td>1568</td>\n      <td>4</td>\n      <td>0.086586</td>\n      <td>60.0</td>\n      <td>0.642351</td>\n      <td>0</td>\n      <td>0</td>\n      <td>X</td>\n      <td>1.0</td>\n      <td>2.0</td>\n      <td>1648.370950</td>\n    </tr>\n  </tbody>\n</table>\n<p>497 rows × 11 columns</p>\n</div>"
     },
     "execution_count": 7,
     "metadata": {},
     "output_type": "execute_result"
    }
   ],
   "source": [
    "result = main_df.merge(df, on='번호')\n",
    "result"
   ],
   "metadata": {
    "collapsed": false,
    "pycharm": {
     "name": "#%%\n"
    }
   }
  },
  {
   "cell_type": "code",
   "execution_count": 8,
   "outputs": [],
   "source": [
    "upload_data_to_rds(result, '변수관계설정', db_connection)"
   ],
   "metadata": {
    "collapsed": false,
    "pycharm": {
     "name": "#%%\n"
    }
   }
  },
  {
   "cell_type": "code",
   "execution_count": null,
   "outputs": [],
   "source": [],
   "metadata": {
    "collapsed": false,
    "pycharm": {
     "name": "#%%\n"
    }
   }
  }
 ],
 "metadata": {
  "kernelspec": {
   "display_name": "Python 3",
   "language": "python",
   "name": "python3"
  },
  "language_info": {
   "codemirror_mode": {
    "name": "ipython",
    "version": 2
   },
   "file_extension": ".py",
   "mimetype": "text/x-python",
   "name": "python",
   "nbconvert_exporter": "python",
   "pygments_lexer": "ipython2",
   "version": "2.7.6"
  }
 },
 "nbformat": 4,
 "nbformat_minor": 0
}