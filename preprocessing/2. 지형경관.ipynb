{
 "cells": [
  {
   "cell_type": "code",
   "execution_count": 1,
   "metadata": {
    "collapsed": true
   },
   "outputs": [],
   "source": [
    "import pandas as pd\n",
    "from DB import *\n",
    "\n",
    "db_connection = connect_db()"
   ]
  },
  {
   "cell_type": "markdown",
   "source": [
    "# 지형경관\n",
    "전국자연환경조사 4차 지형경관 자료 이용\n",
    "생태통로 위치와 가장 가까운 지형경관 특성 join 후 2.3km 이상 떨어진 곳의 지형경관과 병합된 것은\n",
    "지형경관의 영향이 생태통로에 끼치지 않는다고 판단하여 지형경관 특성이 없음으로 처리"
   ],
   "metadata": {
    "collapsed": false
   }
  },
  {
   "cell_type": "code",
   "execution_count": 2,
   "outputs": [
    {
     "data": {
      "text/plain": "       번호  join_objectid join_지형명 join_지형기호     join_위도    join_경도  \\\n0    1495            650     하천습지      GS22  128.018753  35.381318   \n1    1277            966       애추      GM20  128.404833  37.011111   \n2    1278            945       협곡      GS07  128.290438  36.871852   \n3    1279            945       협곡      GS07  128.290438  36.871852   \n4    1090           6180     하안단구      GS25  127.461439  36.682694   \n..    ...            ...      ...       ...         ...        ...   \n492  1089           6180     하안단구      GS25  127.461439  36.682694   \n493  1087           6180     하안단구      GS25  127.461439  36.682694   \n494  1088           6180     하안단구      GS25  127.461439  36.682694   \n495  1091           2714     침식분지      GM22  127.442830  36.821951   \n496  1072           5474      선상지      GS11  127.565163  36.614825   \n\n      join_조사일자  join_조사년도 join_시도명                  join_layer  \\\n0    2014-05-31       2014     경상남도  전국자연환경조사_4차_지형경관_면_2014_전국   \n1           NaN       2015     충청북도  전국자연환경조사_4차_지형경관_면_2015_전국   \n2           NaN       2015     충청북도  전국자연환경조사_4차_지형경관_면_2015_전국   \n3           NaN       2015     충청북도  전국자연환경조사_4차_지형경관_면_2015_전국   \n4    2016-04-21       2016     충청북도  전국자연환경조사_4차_지형경관_면_2016_전국   \n..          ...        ...      ...                         ...   \n492  2016-04-21       2016     충청북도  전국자연환경조사_4차_지형경관_면_2016_전국   \n493  2016-04-21       2016     충청북도  전국자연환경조사_4차_지형경관_면_2016_전국   \n494  2016-04-21       2016     충청북도  전국자연환경조사_4차_지형경관_면_2016_전국   \n495         NaN       2015     충청북도  전국자연환경조사_4차_지형경관_면_2015_전국   \n496  2016-07-06       2016     충청북도  전국자연환경조사_4차_지형경관_면_2016_전국   \n\n                                             join_path     distance  \n0    D:/datacampus_dao/data/전국자연환경조사 4차 지형경관_면/전국자연...  4424.552133  \n1    D:/datacampus_dao/data/전국자연환경조사 4차 지형경관_면/전국자연...  2534.360903  \n2    D:/datacampus_dao/data/전국자연환경조사 4차 지형경관_면/전국자연...  3092.143180  \n3    D:/datacampus_dao/data/전국자연환경조사 4차 지형경관_면/전국자연...  2952.941890  \n4    D:/datacampus_dao/data/전국자연환경조사 4차 지형경관_면/전국자연...  4877.146821  \n..                                                 ...          ...  \n492  D:/datacampus_dao/data/전국자연환경조사 4차 지형경관_면/전국자연...  4927.303836  \n493  D:/datacampus_dao/data/전국자연환경조사 4차 지형경관_면/전국자연...  5445.978646  \n494  D:/datacampus_dao/data/전국자연환경조사 4차 지형경관_면/전국자연...  4579.442800  \n495  D:/datacampus_dao/data/전국자연환경조사 4차 지형경관_면/전국자연...  6368.644757  \n496  D:/datacampus_dao/data/전국자연환경조사 4차 지형경관_면/전국자연...  5557.090325  \n\n[497 rows x 12 columns]",
      "text/html": "<div>\n<style scoped>\n    .dataframe tbody tr th:only-of-type {\n        vertical-align: middle;\n    }\n\n    .dataframe tbody tr th {\n        vertical-align: top;\n    }\n\n    .dataframe thead th {\n        text-align: right;\n    }\n</style>\n<table border=\"1\" class=\"dataframe\">\n  <thead>\n    <tr style=\"text-align: right;\">\n      <th></th>\n      <th>번호</th>\n      <th>join_objectid</th>\n      <th>join_지형명</th>\n      <th>join_지형기호</th>\n      <th>join_위도</th>\n      <th>join_경도</th>\n      <th>join_조사일자</th>\n      <th>join_조사년도</th>\n      <th>join_시도명</th>\n      <th>join_layer</th>\n      <th>join_path</th>\n      <th>distance</th>\n    </tr>\n  </thead>\n  <tbody>\n    <tr>\n      <th>0</th>\n      <td>1495</td>\n      <td>650</td>\n      <td>하천습지</td>\n      <td>GS22</td>\n      <td>128.018753</td>\n      <td>35.381318</td>\n      <td>2014-05-31</td>\n      <td>2014</td>\n      <td>경상남도</td>\n      <td>전국자연환경조사_4차_지형경관_면_2014_전국</td>\n      <td>D:/datacampus_dao/data/전국자연환경조사 4차 지형경관_면/전국자연...</td>\n      <td>4424.552133</td>\n    </tr>\n    <tr>\n      <th>1</th>\n      <td>1277</td>\n      <td>966</td>\n      <td>애추</td>\n      <td>GM20</td>\n      <td>128.404833</td>\n      <td>37.011111</td>\n      <td>NaN</td>\n      <td>2015</td>\n      <td>충청북도</td>\n      <td>전국자연환경조사_4차_지형경관_면_2015_전국</td>\n      <td>D:/datacampus_dao/data/전국자연환경조사 4차 지형경관_면/전국자연...</td>\n      <td>2534.360903</td>\n    </tr>\n    <tr>\n      <th>2</th>\n      <td>1278</td>\n      <td>945</td>\n      <td>협곡</td>\n      <td>GS07</td>\n      <td>128.290438</td>\n      <td>36.871852</td>\n      <td>NaN</td>\n      <td>2015</td>\n      <td>충청북도</td>\n      <td>전국자연환경조사_4차_지형경관_면_2015_전국</td>\n      <td>D:/datacampus_dao/data/전국자연환경조사 4차 지형경관_면/전국자연...</td>\n      <td>3092.143180</td>\n    </tr>\n    <tr>\n      <th>3</th>\n      <td>1279</td>\n      <td>945</td>\n      <td>협곡</td>\n      <td>GS07</td>\n      <td>128.290438</td>\n      <td>36.871852</td>\n      <td>NaN</td>\n      <td>2015</td>\n      <td>충청북도</td>\n      <td>전국자연환경조사_4차_지형경관_면_2015_전국</td>\n      <td>D:/datacampus_dao/data/전국자연환경조사 4차 지형경관_면/전국자연...</td>\n      <td>2952.941890</td>\n    </tr>\n    <tr>\n      <th>4</th>\n      <td>1090</td>\n      <td>6180</td>\n      <td>하안단구</td>\n      <td>GS25</td>\n      <td>127.461439</td>\n      <td>36.682694</td>\n      <td>2016-04-21</td>\n      <td>2016</td>\n      <td>충청북도</td>\n      <td>전국자연환경조사_4차_지형경관_면_2016_전국</td>\n      <td>D:/datacampus_dao/data/전국자연환경조사 4차 지형경관_면/전국자연...</td>\n      <td>4877.146821</td>\n    </tr>\n    <tr>\n      <th>...</th>\n      <td>...</td>\n      <td>...</td>\n      <td>...</td>\n      <td>...</td>\n      <td>...</td>\n      <td>...</td>\n      <td>...</td>\n      <td>...</td>\n      <td>...</td>\n      <td>...</td>\n      <td>...</td>\n      <td>...</td>\n    </tr>\n    <tr>\n      <th>492</th>\n      <td>1089</td>\n      <td>6180</td>\n      <td>하안단구</td>\n      <td>GS25</td>\n      <td>127.461439</td>\n      <td>36.682694</td>\n      <td>2016-04-21</td>\n      <td>2016</td>\n      <td>충청북도</td>\n      <td>전국자연환경조사_4차_지형경관_면_2016_전국</td>\n      <td>D:/datacampus_dao/data/전국자연환경조사 4차 지형경관_면/전국자연...</td>\n      <td>4927.303836</td>\n    </tr>\n    <tr>\n      <th>493</th>\n      <td>1087</td>\n      <td>6180</td>\n      <td>하안단구</td>\n      <td>GS25</td>\n      <td>127.461439</td>\n      <td>36.682694</td>\n      <td>2016-04-21</td>\n      <td>2016</td>\n      <td>충청북도</td>\n      <td>전국자연환경조사_4차_지형경관_면_2016_전국</td>\n      <td>D:/datacampus_dao/data/전국자연환경조사 4차 지형경관_면/전국자연...</td>\n      <td>5445.978646</td>\n    </tr>\n    <tr>\n      <th>494</th>\n      <td>1088</td>\n      <td>6180</td>\n      <td>하안단구</td>\n      <td>GS25</td>\n      <td>127.461439</td>\n      <td>36.682694</td>\n      <td>2016-04-21</td>\n      <td>2016</td>\n      <td>충청북도</td>\n      <td>전국자연환경조사_4차_지형경관_면_2016_전국</td>\n      <td>D:/datacampus_dao/data/전국자연환경조사 4차 지형경관_면/전국자연...</td>\n      <td>4579.442800</td>\n    </tr>\n    <tr>\n      <th>495</th>\n      <td>1091</td>\n      <td>2714</td>\n      <td>침식분지</td>\n      <td>GM22</td>\n      <td>127.442830</td>\n      <td>36.821951</td>\n      <td>NaN</td>\n      <td>2015</td>\n      <td>충청북도</td>\n      <td>전국자연환경조사_4차_지형경관_면_2015_전국</td>\n      <td>D:/datacampus_dao/data/전국자연환경조사 4차 지형경관_면/전국자연...</td>\n      <td>6368.644757</td>\n    </tr>\n    <tr>\n      <th>496</th>\n      <td>1072</td>\n      <td>5474</td>\n      <td>선상지</td>\n      <td>GS11</td>\n      <td>127.565163</td>\n      <td>36.614825</td>\n      <td>2016-07-06</td>\n      <td>2016</td>\n      <td>충청북도</td>\n      <td>전국자연환경조사_4차_지형경관_면_2016_전국</td>\n      <td>D:/datacampus_dao/data/전국자연환경조사 4차 지형경관_면/전국자연...</td>\n      <td>5557.090325</td>\n    </tr>\n  </tbody>\n</table>\n<p>497 rows × 12 columns</p>\n</div>"
     },
     "execution_count": 2,
     "metadata": {},
     "output_type": "execute_result"
    }
   ],
   "source": [
    "raw_df = pd.read_csv('.././data/variables/지형경관_join.csv', encoding='cp949')\n",
    "raw_df"
   ],
   "metadata": {
    "collapsed": false,
    "pycharm": {
     "name": "#%%\n"
    }
   }
  },
  {
   "cell_type": "code",
   "execution_count": 3,
   "outputs": [],
   "source": [
    "df = raw_df[['번호', 'join_지형명', 'join_지형기호', 'distance']]"
   ],
   "metadata": {
    "collapsed": false,
    "pycharm": {
     "name": "#%%\n"
    }
   }
  },
  {
   "cell_type": "markdown",
   "source": [
    "생태통로와의 거리가 2.3km 이상인 지형경관 특성 => 특성없음. X 처리"
   ],
   "metadata": {
    "collapsed": false
   }
  },
  {
   "cell_type": "code",
   "execution_count": 4,
   "outputs": [
    {
     "name": "stdout",
     "output_type": "stream",
     "text": [
      "5km: 64\n",
      "2.3km: 291\n",
      "1km: 417\n"
     ]
    }
   ],
   "source": [
    "print(\"5km:\",len(df[df['distance'] > 5000].index))\n",
    "print(\"2.3km:\",len(df[df['distance'] > 2300].index))\n",
    "print(\"1km:\",len(df[df['distance'] > 1000].index))"
   ],
   "metadata": {
    "collapsed": false,
    "pycharm": {
     "name": "#%%\n"
    }
   }
  },
  {
   "cell_type": "code",
   "execution_count": 5,
   "outputs": [],
   "source": [
    "indexs = list(df[df['distance'] > 2300].index)\n",
    "for idx in indexs :\n",
    "    df.loc[idx, 'join_지형명'] = '특성없음'\n",
    "    df.loc[idx, 'join_지형기호'] = 'X'\n",
    "    df.loc[idx, 'distance'] = -1"
   ],
   "metadata": {
    "collapsed": false,
    "pycharm": {
     "name": "#%%\n"
    }
   }
  },
  {
   "cell_type": "markdown",
   "source": [
    "결측값 확인"
   ],
   "metadata": {
    "collapsed": false
   }
  },
  {
   "cell_type": "code",
   "execution_count": 6,
   "outputs": [
    {
     "data": {
      "text/plain": "       번호 join_지형명 join_지형기호     distance\n23   1498      NaN      GS26   479.665404\n31   1464      NaN      GM08     0.000000\n51   1197      NaN      GM11  1574.502799\n97   1516      NaN      GS26  1974.953931\n103  1016      NaN       NaN   626.173085\n104  1156      NaN      GM01  1510.239716\n107  1507      NaN      GS08  1149.199018\n108  1027      NaN      GC10  1501.497554\n110  1233      NaN      GS24  1367.607371\n111  1561      NaN      GM01  1644.497905\n123  1358      NaN      GS26  2113.581008\n124  1429      NaN      GS22  2110.142551\n130  1052      NaN      GS26  1439.324695\n133  1219      NaN      GM20  1565.137139\n134  1220      NaN      GM20  1449.609086\n153  1508      NaN      GM01  1922.929984\n154  1509      NaN      GM01  1884.729533\n157  1222      NaN      GS32  1629.037584\n168  1158      NaN      GM20  1242.876029\n199  1396      NaN      GS26  2048.671252\n212  1419      NaN      GM25   857.105070\n230  1413      NaN      GS32  1625.771316\n256  1120      NaN      GS12  1326.426805\n271  1445      NaN      GM15   900.275581\n275  1442      NaN      GC10  2255.528480\n314  1267      NaN      GS26  1667.004877\n330  1330      NaN      GS30   899.153651\n340  1405      NaN      GS30  1965.645258\n353  1398      NaN      GS08  1470.226908\n432  1010      NaN      GS22  1504.208528\n433  1012      NaN      GS26  1636.064458\n434  1011      NaN      GS26  2202.628293\n464  1170      NaN      GV07  1588.731071\n465  1171      NaN      GV02   952.192121\n481  1073      NaN      GS26   986.074331",
      "text/html": "<div>\n<style scoped>\n    .dataframe tbody tr th:only-of-type {\n        vertical-align: middle;\n    }\n\n    .dataframe tbody tr th {\n        vertical-align: top;\n    }\n\n    .dataframe thead th {\n        text-align: right;\n    }\n</style>\n<table border=\"1\" class=\"dataframe\">\n  <thead>\n    <tr style=\"text-align: right;\">\n      <th></th>\n      <th>번호</th>\n      <th>join_지형명</th>\n      <th>join_지형기호</th>\n      <th>distance</th>\n    </tr>\n  </thead>\n  <tbody>\n    <tr>\n      <th>23</th>\n      <td>1498</td>\n      <td>NaN</td>\n      <td>GS26</td>\n      <td>479.665404</td>\n    </tr>\n    <tr>\n      <th>31</th>\n      <td>1464</td>\n      <td>NaN</td>\n      <td>GM08</td>\n      <td>0.000000</td>\n    </tr>\n    <tr>\n      <th>51</th>\n      <td>1197</td>\n      <td>NaN</td>\n      <td>GM11</td>\n      <td>1574.502799</td>\n    </tr>\n    <tr>\n      <th>97</th>\n      <td>1516</td>\n      <td>NaN</td>\n      <td>GS26</td>\n      <td>1974.953931</td>\n    </tr>\n    <tr>\n      <th>103</th>\n      <td>1016</td>\n      <td>NaN</td>\n      <td>NaN</td>\n      <td>626.173085</td>\n    </tr>\n    <tr>\n      <th>104</th>\n      <td>1156</td>\n      <td>NaN</td>\n      <td>GM01</td>\n      <td>1510.239716</td>\n    </tr>\n    <tr>\n      <th>107</th>\n      <td>1507</td>\n      <td>NaN</td>\n      <td>GS08</td>\n      <td>1149.199018</td>\n    </tr>\n    <tr>\n      <th>108</th>\n      <td>1027</td>\n      <td>NaN</td>\n      <td>GC10</td>\n      <td>1501.497554</td>\n    </tr>\n    <tr>\n      <th>110</th>\n      <td>1233</td>\n      <td>NaN</td>\n      <td>GS24</td>\n      <td>1367.607371</td>\n    </tr>\n    <tr>\n      <th>111</th>\n      <td>1561</td>\n      <td>NaN</td>\n      <td>GM01</td>\n      <td>1644.497905</td>\n    </tr>\n    <tr>\n      <th>123</th>\n      <td>1358</td>\n      <td>NaN</td>\n      <td>GS26</td>\n      <td>2113.581008</td>\n    </tr>\n    <tr>\n      <th>124</th>\n      <td>1429</td>\n      <td>NaN</td>\n      <td>GS22</td>\n      <td>2110.142551</td>\n    </tr>\n    <tr>\n      <th>130</th>\n      <td>1052</td>\n      <td>NaN</td>\n      <td>GS26</td>\n      <td>1439.324695</td>\n    </tr>\n    <tr>\n      <th>133</th>\n      <td>1219</td>\n      <td>NaN</td>\n      <td>GM20</td>\n      <td>1565.137139</td>\n    </tr>\n    <tr>\n      <th>134</th>\n      <td>1220</td>\n      <td>NaN</td>\n      <td>GM20</td>\n      <td>1449.609086</td>\n    </tr>\n    <tr>\n      <th>153</th>\n      <td>1508</td>\n      <td>NaN</td>\n      <td>GM01</td>\n      <td>1922.929984</td>\n    </tr>\n    <tr>\n      <th>154</th>\n      <td>1509</td>\n      <td>NaN</td>\n      <td>GM01</td>\n      <td>1884.729533</td>\n    </tr>\n    <tr>\n      <th>157</th>\n      <td>1222</td>\n      <td>NaN</td>\n      <td>GS32</td>\n      <td>1629.037584</td>\n    </tr>\n    <tr>\n      <th>168</th>\n      <td>1158</td>\n      <td>NaN</td>\n      <td>GM20</td>\n      <td>1242.876029</td>\n    </tr>\n    <tr>\n      <th>199</th>\n      <td>1396</td>\n      <td>NaN</td>\n      <td>GS26</td>\n      <td>2048.671252</td>\n    </tr>\n    <tr>\n      <th>212</th>\n      <td>1419</td>\n      <td>NaN</td>\n      <td>GM25</td>\n      <td>857.105070</td>\n    </tr>\n    <tr>\n      <th>230</th>\n      <td>1413</td>\n      <td>NaN</td>\n      <td>GS32</td>\n      <td>1625.771316</td>\n    </tr>\n    <tr>\n      <th>256</th>\n      <td>1120</td>\n      <td>NaN</td>\n      <td>GS12</td>\n      <td>1326.426805</td>\n    </tr>\n    <tr>\n      <th>271</th>\n      <td>1445</td>\n      <td>NaN</td>\n      <td>GM15</td>\n      <td>900.275581</td>\n    </tr>\n    <tr>\n      <th>275</th>\n      <td>1442</td>\n      <td>NaN</td>\n      <td>GC10</td>\n      <td>2255.528480</td>\n    </tr>\n    <tr>\n      <th>314</th>\n      <td>1267</td>\n      <td>NaN</td>\n      <td>GS26</td>\n      <td>1667.004877</td>\n    </tr>\n    <tr>\n      <th>330</th>\n      <td>1330</td>\n      <td>NaN</td>\n      <td>GS30</td>\n      <td>899.153651</td>\n    </tr>\n    <tr>\n      <th>340</th>\n      <td>1405</td>\n      <td>NaN</td>\n      <td>GS30</td>\n      <td>1965.645258</td>\n    </tr>\n    <tr>\n      <th>353</th>\n      <td>1398</td>\n      <td>NaN</td>\n      <td>GS08</td>\n      <td>1470.226908</td>\n    </tr>\n    <tr>\n      <th>432</th>\n      <td>1010</td>\n      <td>NaN</td>\n      <td>GS22</td>\n      <td>1504.208528</td>\n    </tr>\n    <tr>\n      <th>433</th>\n      <td>1012</td>\n      <td>NaN</td>\n      <td>GS26</td>\n      <td>1636.064458</td>\n    </tr>\n    <tr>\n      <th>434</th>\n      <td>1011</td>\n      <td>NaN</td>\n      <td>GS26</td>\n      <td>2202.628293</td>\n    </tr>\n    <tr>\n      <th>464</th>\n      <td>1170</td>\n      <td>NaN</td>\n      <td>GV07</td>\n      <td>1588.731071</td>\n    </tr>\n    <tr>\n      <th>465</th>\n      <td>1171</td>\n      <td>NaN</td>\n      <td>GV02</td>\n      <td>952.192121</td>\n    </tr>\n    <tr>\n      <th>481</th>\n      <td>1073</td>\n      <td>NaN</td>\n      <td>GS26</td>\n      <td>986.074331</td>\n    </tr>\n  </tbody>\n</table>\n</div>"
     },
     "execution_count": 6,
     "metadata": {},
     "output_type": "execute_result"
    }
   ],
   "source": [
    "df[df['join_지형명'].isnull()]"
   ],
   "metadata": {
    "collapsed": false,
    "pycharm": {
     "name": "#%%\n"
    }
   }
  },
  {
   "cell_type": "code",
   "execution_count": 7,
   "outputs": [
    {
     "data": {
      "text/plain": "       번호  join_지형명 join_지형기호     distance\n66   1377   기타(논습지)       NaN  1289.569495\n103  1016       NaN       NaN   626.173085\n239  1109  기타(침식산지)       NaN  2031.919017\n282  1167   기타(타포니)       NaN  1516.027542\n325  1273      인공지형       NaN   982.773315",
      "text/html": "<div>\n<style scoped>\n    .dataframe tbody tr th:only-of-type {\n        vertical-align: middle;\n    }\n\n    .dataframe tbody tr th {\n        vertical-align: top;\n    }\n\n    .dataframe thead th {\n        text-align: right;\n    }\n</style>\n<table border=\"1\" class=\"dataframe\">\n  <thead>\n    <tr style=\"text-align: right;\">\n      <th></th>\n      <th>번호</th>\n      <th>join_지형명</th>\n      <th>join_지형기호</th>\n      <th>distance</th>\n    </tr>\n  </thead>\n  <tbody>\n    <tr>\n      <th>66</th>\n      <td>1377</td>\n      <td>기타(논습지)</td>\n      <td>NaN</td>\n      <td>1289.569495</td>\n    </tr>\n    <tr>\n      <th>103</th>\n      <td>1016</td>\n      <td>NaN</td>\n      <td>NaN</td>\n      <td>626.173085</td>\n    </tr>\n    <tr>\n      <th>239</th>\n      <td>1109</td>\n      <td>기타(침식산지)</td>\n      <td>NaN</td>\n      <td>2031.919017</td>\n    </tr>\n    <tr>\n      <th>282</th>\n      <td>1167</td>\n      <td>기타(타포니)</td>\n      <td>NaN</td>\n      <td>1516.027542</td>\n    </tr>\n    <tr>\n      <th>325</th>\n      <td>1273</td>\n      <td>인공지형</td>\n      <td>NaN</td>\n      <td>982.773315</td>\n    </tr>\n  </tbody>\n</table>\n</div>"
     },
     "execution_count": 7,
     "metadata": {},
     "output_type": "execute_result"
    }
   ],
   "source": [
    "df[df['join_지형기호'].isnull()]"
   ],
   "metadata": {
    "collapsed": false,
    "pycharm": {
     "name": "#%%\n"
    }
   }
  },
  {
   "cell_type": "markdown",
   "source": [
    "지형명이 null인데 지형기호가 있는 것은 기호에 따른 지형명을 찾아 채움"
   ],
   "metadata": {
    "collapsed": false
   }
  },
  {
   "cell_type": "code",
   "execution_count": 8,
   "outputs": [
    {
     "data": {
      "text/plain": "       번호 join_지형명 join_지형기호     distance\n23   1498      NaN      GS26   479.665404\n31   1464      NaN      GM08     0.000000\n51   1197      NaN      GM11  1574.502799\n97   1516      NaN      GS26  1974.953931\n103  1016      NaN       NaN   626.173085\n104  1156      NaN      GM01  1510.239716\n107  1507      NaN      GS08  1149.199018\n108  1027      NaN      GC10  1501.497554\n110  1233      NaN      GS24  1367.607371\n111  1561      NaN      GM01  1644.497905\n123  1358      NaN      GS26  2113.581008\n124  1429      NaN      GS22  2110.142551\n130  1052      NaN      GS26  1439.324695\n133  1219      NaN      GM20  1565.137139\n134  1220      NaN      GM20  1449.609086\n153  1508      NaN      GM01  1922.929984\n154  1509      NaN      GM01  1884.729533\n157  1222      NaN      GS32  1629.037584\n168  1158      NaN      GM20  1242.876029\n199  1396      NaN      GS26  2048.671252\n212  1419      NaN      GM25   857.105070\n230  1413      NaN      GS32  1625.771316\n256  1120      NaN      GS12  1326.426805\n271  1445      NaN      GM15   900.275581\n275  1442      NaN      GC10  2255.528480\n314  1267      NaN      GS26  1667.004877\n330  1330      NaN      GS30   899.153651\n340  1405      NaN      GS30  1965.645258\n353  1398      NaN      GS08  1470.226908\n432  1010      NaN      GS22  1504.208528\n433  1012      NaN      GS26  1636.064458\n434  1011      NaN      GS26  2202.628293\n464  1170      NaN      GV07  1588.731071\n465  1171      NaN      GV02   952.192121\n481  1073      NaN      GS26   986.074331",
      "text/html": "<div>\n<style scoped>\n    .dataframe tbody tr th:only-of-type {\n        vertical-align: middle;\n    }\n\n    .dataframe tbody tr th {\n        vertical-align: top;\n    }\n\n    .dataframe thead th {\n        text-align: right;\n    }\n</style>\n<table border=\"1\" class=\"dataframe\">\n  <thead>\n    <tr style=\"text-align: right;\">\n      <th></th>\n      <th>번호</th>\n      <th>join_지형명</th>\n      <th>join_지형기호</th>\n      <th>distance</th>\n    </tr>\n  </thead>\n  <tbody>\n    <tr>\n      <th>23</th>\n      <td>1498</td>\n      <td>NaN</td>\n      <td>GS26</td>\n      <td>479.665404</td>\n    </tr>\n    <tr>\n      <th>31</th>\n      <td>1464</td>\n      <td>NaN</td>\n      <td>GM08</td>\n      <td>0.000000</td>\n    </tr>\n    <tr>\n      <th>51</th>\n      <td>1197</td>\n      <td>NaN</td>\n      <td>GM11</td>\n      <td>1574.502799</td>\n    </tr>\n    <tr>\n      <th>97</th>\n      <td>1516</td>\n      <td>NaN</td>\n      <td>GS26</td>\n      <td>1974.953931</td>\n    </tr>\n    <tr>\n      <th>103</th>\n      <td>1016</td>\n      <td>NaN</td>\n      <td>NaN</td>\n      <td>626.173085</td>\n    </tr>\n    <tr>\n      <th>104</th>\n      <td>1156</td>\n      <td>NaN</td>\n      <td>GM01</td>\n      <td>1510.239716</td>\n    </tr>\n    <tr>\n      <th>107</th>\n      <td>1507</td>\n      <td>NaN</td>\n      <td>GS08</td>\n      <td>1149.199018</td>\n    </tr>\n    <tr>\n      <th>108</th>\n      <td>1027</td>\n      <td>NaN</td>\n      <td>GC10</td>\n      <td>1501.497554</td>\n    </tr>\n    <tr>\n      <th>110</th>\n      <td>1233</td>\n      <td>NaN</td>\n      <td>GS24</td>\n      <td>1367.607371</td>\n    </tr>\n    <tr>\n      <th>111</th>\n      <td>1561</td>\n      <td>NaN</td>\n      <td>GM01</td>\n      <td>1644.497905</td>\n    </tr>\n    <tr>\n      <th>123</th>\n      <td>1358</td>\n      <td>NaN</td>\n      <td>GS26</td>\n      <td>2113.581008</td>\n    </tr>\n    <tr>\n      <th>124</th>\n      <td>1429</td>\n      <td>NaN</td>\n      <td>GS22</td>\n      <td>2110.142551</td>\n    </tr>\n    <tr>\n      <th>130</th>\n      <td>1052</td>\n      <td>NaN</td>\n      <td>GS26</td>\n      <td>1439.324695</td>\n    </tr>\n    <tr>\n      <th>133</th>\n      <td>1219</td>\n      <td>NaN</td>\n      <td>GM20</td>\n      <td>1565.137139</td>\n    </tr>\n    <tr>\n      <th>134</th>\n      <td>1220</td>\n      <td>NaN</td>\n      <td>GM20</td>\n      <td>1449.609086</td>\n    </tr>\n    <tr>\n      <th>153</th>\n      <td>1508</td>\n      <td>NaN</td>\n      <td>GM01</td>\n      <td>1922.929984</td>\n    </tr>\n    <tr>\n      <th>154</th>\n      <td>1509</td>\n      <td>NaN</td>\n      <td>GM01</td>\n      <td>1884.729533</td>\n    </tr>\n    <tr>\n      <th>157</th>\n      <td>1222</td>\n      <td>NaN</td>\n      <td>GS32</td>\n      <td>1629.037584</td>\n    </tr>\n    <tr>\n      <th>168</th>\n      <td>1158</td>\n      <td>NaN</td>\n      <td>GM20</td>\n      <td>1242.876029</td>\n    </tr>\n    <tr>\n      <th>199</th>\n      <td>1396</td>\n      <td>NaN</td>\n      <td>GS26</td>\n      <td>2048.671252</td>\n    </tr>\n    <tr>\n      <th>212</th>\n      <td>1419</td>\n      <td>NaN</td>\n      <td>GM25</td>\n      <td>857.105070</td>\n    </tr>\n    <tr>\n      <th>230</th>\n      <td>1413</td>\n      <td>NaN</td>\n      <td>GS32</td>\n      <td>1625.771316</td>\n    </tr>\n    <tr>\n      <th>256</th>\n      <td>1120</td>\n      <td>NaN</td>\n      <td>GS12</td>\n      <td>1326.426805</td>\n    </tr>\n    <tr>\n      <th>271</th>\n      <td>1445</td>\n      <td>NaN</td>\n      <td>GM15</td>\n      <td>900.275581</td>\n    </tr>\n    <tr>\n      <th>275</th>\n      <td>1442</td>\n      <td>NaN</td>\n      <td>GC10</td>\n      <td>2255.528480</td>\n    </tr>\n    <tr>\n      <th>314</th>\n      <td>1267</td>\n      <td>NaN</td>\n      <td>GS26</td>\n      <td>1667.004877</td>\n    </tr>\n    <tr>\n      <th>330</th>\n      <td>1330</td>\n      <td>NaN</td>\n      <td>GS30</td>\n      <td>899.153651</td>\n    </tr>\n    <tr>\n      <th>340</th>\n      <td>1405</td>\n      <td>NaN</td>\n      <td>GS30</td>\n      <td>1965.645258</td>\n    </tr>\n    <tr>\n      <th>353</th>\n      <td>1398</td>\n      <td>NaN</td>\n      <td>GS08</td>\n      <td>1470.226908</td>\n    </tr>\n    <tr>\n      <th>432</th>\n      <td>1010</td>\n      <td>NaN</td>\n      <td>GS22</td>\n      <td>1504.208528</td>\n    </tr>\n    <tr>\n      <th>433</th>\n      <td>1012</td>\n      <td>NaN</td>\n      <td>GS26</td>\n      <td>1636.064458</td>\n    </tr>\n    <tr>\n      <th>434</th>\n      <td>1011</td>\n      <td>NaN</td>\n      <td>GS26</td>\n      <td>2202.628293</td>\n    </tr>\n    <tr>\n      <th>464</th>\n      <td>1170</td>\n      <td>NaN</td>\n      <td>GV07</td>\n      <td>1588.731071</td>\n    </tr>\n    <tr>\n      <th>465</th>\n      <td>1171</td>\n      <td>NaN</td>\n      <td>GV02</td>\n      <td>952.192121</td>\n    </tr>\n    <tr>\n      <th>481</th>\n      <td>1073</td>\n      <td>NaN</td>\n      <td>GS26</td>\n      <td>986.074331</td>\n    </tr>\n  </tbody>\n</table>\n</div>"
     },
     "metadata": {},
     "output_type": "display_data"
    },
    {
     "name": "stdout",
     "output_type": "stream",
     "text": [
      "GM11\n",
      "nan\n",
      "GS24\n",
      "GV07\n",
      "{'GS26': '호소성 습지', 'GM08': '고립구릉', 'GM01': '급애', 'GS08': '하식애', 'GC10': '염습지', 'GS22': '하천습지', 'GM20': '애추', 'GS32': '인공호수', 'GM25': '토르군', 'GS12': '곡저평야', 'GM15': '구조(선)곡(단층(선)곡)', 'GS30': '범람원', 'GV02': '분석구'}\n"
     ]
    }
   ],
   "source": [
    "name_null = df[df['join_지형명'].isnull()]\n",
    "display(name_null)\n",
    "symbol = list(name_null['join_지형기호'].unique())\n",
    "symbol_dict = {}\n",
    "for s in symbol :\n",
    "    a = df[(df['join_지형기호'] == s) & (df['join_지형명'].notnull())]\n",
    "    try :\n",
    "        symbol_dict[s]=a['join_지형명'].unique()[0]\n",
    "    except :\n",
    "        print(s)\n",
    "print(symbol_dict)"
   ],
   "metadata": {
    "collapsed": false,
    "pycharm": {
     "name": "#%%\n"
    }
   }
  },
  {
   "cell_type": "code",
   "execution_count": 9,
   "outputs": [],
   "source": [
    "symbol_dict['GV07'] = '화구'\n",
    "symbol_dict['GS24'] = '샛강습지'\n",
    "symbol_dict['GM11'] = '풍화동굴'"
   ],
   "metadata": {
    "collapsed": false,
    "pycharm": {
     "name": "#%%\n"
    }
   }
  },
  {
   "cell_type": "code",
   "execution_count": 10,
   "outputs": [
    {
     "name": "stdout",
     "output_type": "stream",
     "text": [
      "error : nan\n"
     ]
    }
   ],
   "source": [
    "name_null_index = list(name_null.index)\n",
    "for idx in name_null_index :\n",
    "    try:\n",
    "        name = symbol_dict[df.loc[idx, 'join_지형기호']]\n",
    "        df.loc[idx, 'join_지형명'] = name\n",
    "    except: ## 지형기호가 nan\n",
    "        print('error :', df.loc[idx, 'join_지형기호'])"
   ],
   "metadata": {
    "collapsed": false,
    "pycharm": {
     "name": "#%%\n"
    }
   }
  },
  {
   "cell_type": "code",
   "execution_count": 11,
   "outputs": [],
   "source": [
    "all_null = df[(df['join_지형명'].isnull()) & (df['join_지형기호'].isnull())]\n",
    "all_null_index = list(all_null.index)"
   ],
   "metadata": {
    "collapsed": false,
    "pycharm": {
     "name": "#%%\n"
    }
   }
  },
  {
   "cell_type": "code",
   "execution_count": 12,
   "outputs": [],
   "source": [
    "for idx in all_null_index :\n",
    "    df.loc[idx, 'join_지형명'] = '특성없음'\n",
    "    df.loc[idx, 'join_지형기호'] = 'X'"
   ],
   "metadata": {
    "collapsed": false,
    "pycharm": {
     "name": "#%%\n"
    }
   }
  },
  {
   "cell_type": "code",
   "execution_count": 13,
   "outputs": [
    {
     "data": {
      "text/plain": "번호           0\njoin_지형명     0\njoin_지형기호    4\ndistance     0\ndtype: int64"
     },
     "execution_count": 13,
     "metadata": {},
     "output_type": "execute_result"
    }
   ],
   "source": [
    "df.isnull().sum()"
   ],
   "metadata": {
    "collapsed": false,
    "pycharm": {
     "name": "#%%\n"
    }
   }
  },
  {
   "cell_type": "markdown",
   "source": [
    "지형기호가 없는 것 => 기타.\n",
    "지형명이 기타()인 것은 모두 기타로 통일"
   ],
   "metadata": {
    "collapsed": false
   }
  },
  {
   "cell_type": "code",
   "execution_count": 14,
   "outputs": [
    {
     "data": {
      "text/plain": "       번호  join_지형명 join_지형기호     distance\n66   1377   기타(논습지)       NaN  1289.569495\n239  1109  기타(침식산지)       NaN  2031.919017\n282  1167   기타(타포니)       NaN  1516.027542\n325  1273      인공지형       NaN   982.773315",
      "text/html": "<div>\n<style scoped>\n    .dataframe tbody tr th:only-of-type {\n        vertical-align: middle;\n    }\n\n    .dataframe tbody tr th {\n        vertical-align: top;\n    }\n\n    .dataframe thead th {\n        text-align: right;\n    }\n</style>\n<table border=\"1\" class=\"dataframe\">\n  <thead>\n    <tr style=\"text-align: right;\">\n      <th></th>\n      <th>번호</th>\n      <th>join_지형명</th>\n      <th>join_지형기호</th>\n      <th>distance</th>\n    </tr>\n  </thead>\n  <tbody>\n    <tr>\n      <th>66</th>\n      <td>1377</td>\n      <td>기타(논습지)</td>\n      <td>NaN</td>\n      <td>1289.569495</td>\n    </tr>\n    <tr>\n      <th>239</th>\n      <td>1109</td>\n      <td>기타(침식산지)</td>\n      <td>NaN</td>\n      <td>2031.919017</td>\n    </tr>\n    <tr>\n      <th>282</th>\n      <td>1167</td>\n      <td>기타(타포니)</td>\n      <td>NaN</td>\n      <td>1516.027542</td>\n    </tr>\n    <tr>\n      <th>325</th>\n      <td>1273</td>\n      <td>인공지형</td>\n      <td>NaN</td>\n      <td>982.773315</td>\n    </tr>\n  </tbody>\n</table>\n</div>"
     },
     "execution_count": 14,
     "metadata": {},
     "output_type": "execute_result"
    }
   ],
   "source": [
    "df[df['join_지형기호'].isnull()]"
   ],
   "metadata": {
    "collapsed": false,
    "pycharm": {
     "name": "#%%\n"
    }
   }
  },
  {
   "cell_type": "code",
   "execution_count": 15,
   "outputs": [
    {
     "name": "stdout",
     "output_type": "stream",
     "text": [
      "53\n",
      "45\n"
     ]
    }
   ],
   "source": [
    "print(df['join_지형명'].nunique())\n",
    "print(df['join_지형기호'].nunique())"
   ],
   "metadata": {
    "collapsed": false,
    "pycharm": {
     "name": "#%%\n"
    }
   }
  },
  {
   "cell_type": "markdown",
   "source": [
    "같은 지형기호여도 지형명이 다른 형식으로 적혀있는 경우가 있어 지형기호로 통일"
   ],
   "metadata": {
    "collapsed": false
   }
  },
  {
   "cell_type": "code",
   "execution_count": 16,
   "outputs": [],
   "source": [
    "etc_df = df[(df['join_지형기호']=='기타') | df['join_지형기호'].isnull()]"
   ],
   "metadata": {
    "collapsed": false,
    "pycharm": {
     "name": "#%%\n"
    }
   }
  },
  {
   "cell_type": "code",
   "execution_count": 17,
   "outputs": [],
   "source": [
    "etc_index = list(etc_df.index)\n",
    "for idx in etc_index :\n",
    "    df.loc[idx, 'join_지형기호'] = '기타'\n",
    "    df.loc[idx, 'join_지형명'] = '기타'"
   ],
   "metadata": {
    "collapsed": false,
    "pycharm": {
     "name": "#%%\n"
    }
   }
  },
  {
   "cell_type": "code",
   "execution_count": 18,
   "outputs": [
    {
     "data": {
      "text/plain": "       번호 join_지형명 join_지형기호  distance\n0    1495     특성없음         X      -1.0\n1    1277     특성없음         X      -1.0\n2    1278     특성없음         X      -1.0\n3    1279     특성없음         X      -1.0\n4    1090     특성없음         X      -1.0\n..    ...      ...       ...       ...\n492  1089     특성없음         X      -1.0\n493  1087     특성없음         X      -1.0\n494  1088     특성없음         X      -1.0\n495  1091     특성없음         X      -1.0\n496  1072     특성없음         X      -1.0\n\n[497 rows x 4 columns]",
      "text/html": "<div>\n<style scoped>\n    .dataframe tbody tr th:only-of-type {\n        vertical-align: middle;\n    }\n\n    .dataframe tbody tr th {\n        vertical-align: top;\n    }\n\n    .dataframe thead th {\n        text-align: right;\n    }\n</style>\n<table border=\"1\" class=\"dataframe\">\n  <thead>\n    <tr style=\"text-align: right;\">\n      <th></th>\n      <th>번호</th>\n      <th>join_지형명</th>\n      <th>join_지형기호</th>\n      <th>distance</th>\n    </tr>\n  </thead>\n  <tbody>\n    <tr>\n      <th>0</th>\n      <td>1495</td>\n      <td>특성없음</td>\n      <td>X</td>\n      <td>-1.0</td>\n    </tr>\n    <tr>\n      <th>1</th>\n      <td>1277</td>\n      <td>특성없음</td>\n      <td>X</td>\n      <td>-1.0</td>\n    </tr>\n    <tr>\n      <th>2</th>\n      <td>1278</td>\n      <td>특성없음</td>\n      <td>X</td>\n      <td>-1.0</td>\n    </tr>\n    <tr>\n      <th>3</th>\n      <td>1279</td>\n      <td>특성없음</td>\n      <td>X</td>\n      <td>-1.0</td>\n    </tr>\n    <tr>\n      <th>4</th>\n      <td>1090</td>\n      <td>특성없음</td>\n      <td>X</td>\n      <td>-1.0</td>\n    </tr>\n    <tr>\n      <th>...</th>\n      <td>...</td>\n      <td>...</td>\n      <td>...</td>\n      <td>...</td>\n    </tr>\n    <tr>\n      <th>492</th>\n      <td>1089</td>\n      <td>특성없음</td>\n      <td>X</td>\n      <td>-1.0</td>\n    </tr>\n    <tr>\n      <th>493</th>\n      <td>1087</td>\n      <td>특성없음</td>\n      <td>X</td>\n      <td>-1.0</td>\n    </tr>\n    <tr>\n      <th>494</th>\n      <td>1088</td>\n      <td>특성없음</td>\n      <td>X</td>\n      <td>-1.0</td>\n    </tr>\n    <tr>\n      <th>495</th>\n      <td>1091</td>\n      <td>특성없음</td>\n      <td>X</td>\n      <td>-1.0</td>\n    </tr>\n    <tr>\n      <th>496</th>\n      <td>1072</td>\n      <td>특성없음</td>\n      <td>X</td>\n      <td>-1.0</td>\n    </tr>\n  </tbody>\n</table>\n<p>497 rows × 4 columns</p>\n</div>"
     },
     "execution_count": 18,
     "metadata": {},
     "output_type": "execute_result"
    }
   ],
   "source": [
    "df"
   ],
   "metadata": {
    "collapsed": false,
    "pycharm": {
     "name": "#%%\n"
    }
   }
  },
  {
   "cell_type": "code",
   "execution_count": 19,
   "outputs": [
    {
     "name": "stderr",
     "output_type": "stream",
     "text": [
      "C:\\Users\\Administrator\\AppData\\Local\\Temp\\ipykernel_16140\\141137194.py:2: SettingWithCopyWarning: \n",
      "A value is trying to be set on a copy of a slice from a DataFrame\n",
      "\n",
      "See the caveats in the documentation: https://pandas.pydata.org/pandas-docs/stable/user_guide/indexing.html#returning-a-view-versus-a-copy\n",
      "  result.rename(columns={'join_지형기호':'지형기호(2.3km)'}, inplace=True)\n"
     ]
    }
   ],
   "source": [
    "result = df[['번호', 'join_지형기호']]\n",
    "result.rename(columns={'join_지형기호':'지형기호(2.3km)'}, inplace=True)"
   ],
   "metadata": {
    "collapsed": false,
    "pycharm": {
     "name": "#%%\n"
    }
   }
  },
  {
   "cell_type": "code",
   "execution_count": 20,
   "outputs": [],
   "source": [
    "topo_dict = {\n",
    "    'X' : 'X',\n",
    "    '기타' : '기타',\n",
    "    'GM' : '산지',\n",
    "    'GS' : '하천',\n",
    "    'GC' : '해안',\n",
    "    'GV' : '기타'\n",
    "}"
   ],
   "metadata": {
    "collapsed": false,
    "pycharm": {
     "name": "#%%\n"
    }
   }
  },
  {
   "cell_type": "code",
   "execution_count": 21,
   "outputs": [
    {
     "name": "stderr",
     "output_type": "stream",
     "text": [
      "C:\\Users\\Administrator\\AppData\\Local\\Temp\\ipykernel_16140\\4269791716.py:1: SettingWithCopyWarning: \n",
      "A value is trying to be set on a copy of a slice from a DataFrame.\n",
      "Try using .loc[row_indexer,col_indexer] = value instead\n",
      "\n",
      "See the caveats in the documentation: https://pandas.pydata.org/pandas-docs/stable/user_guide/indexing.html#returning-a-view-versus-a-copy\n",
      "  result['지형기호(2.3km)'] = [topo_dict[x[:2]] for x in result['지형기호(2.3km)']]\n"
     ]
    },
    {
     "data": {
      "text/plain": "       번호 지형기호(2.3km)\n0    1495           X\n1    1277           X\n2    1278           X\n3    1279           X\n4    1090           X\n..    ...         ...\n492  1089           X\n493  1087           X\n494  1088           X\n495  1091           X\n496  1072           X\n\n[497 rows x 2 columns]",
      "text/html": "<div>\n<style scoped>\n    .dataframe tbody tr th:only-of-type {\n        vertical-align: middle;\n    }\n\n    .dataframe tbody tr th {\n        vertical-align: top;\n    }\n\n    .dataframe thead th {\n        text-align: right;\n    }\n</style>\n<table border=\"1\" class=\"dataframe\">\n  <thead>\n    <tr style=\"text-align: right;\">\n      <th></th>\n      <th>번호</th>\n      <th>지형기호(2.3km)</th>\n    </tr>\n  </thead>\n  <tbody>\n    <tr>\n      <th>0</th>\n      <td>1495</td>\n      <td>X</td>\n    </tr>\n    <tr>\n      <th>1</th>\n      <td>1277</td>\n      <td>X</td>\n    </tr>\n    <tr>\n      <th>2</th>\n      <td>1278</td>\n      <td>X</td>\n    </tr>\n    <tr>\n      <th>3</th>\n      <td>1279</td>\n      <td>X</td>\n    </tr>\n    <tr>\n      <th>4</th>\n      <td>1090</td>\n      <td>X</td>\n    </tr>\n    <tr>\n      <th>...</th>\n      <td>...</td>\n      <td>...</td>\n    </tr>\n    <tr>\n      <th>492</th>\n      <td>1089</td>\n      <td>X</td>\n    </tr>\n    <tr>\n      <th>493</th>\n      <td>1087</td>\n      <td>X</td>\n    </tr>\n    <tr>\n      <th>494</th>\n      <td>1088</td>\n      <td>X</td>\n    </tr>\n    <tr>\n      <th>495</th>\n      <td>1091</td>\n      <td>X</td>\n    </tr>\n    <tr>\n      <th>496</th>\n      <td>1072</td>\n      <td>X</td>\n    </tr>\n  </tbody>\n</table>\n<p>497 rows × 2 columns</p>\n</div>"
     },
     "execution_count": 21,
     "metadata": {},
     "output_type": "execute_result"
    }
   ],
   "source": [
    "result['지형기호(2.3km)'] = [topo_dict[x[:2]] for x in result['지형기호(2.3km)']]\n",
    "result"
   ],
   "metadata": {
    "collapsed": false,
    "pycharm": {
     "name": "#%%\n"
    }
   }
  },
  {
   "cell_type": "code",
   "execution_count": 22,
   "outputs": [
    {
     "data": {
      "text/plain": "array(['X', '하천', '산지', '기타', '해안'], dtype=object)"
     },
     "execution_count": 22,
     "metadata": {},
     "output_type": "execute_result"
    }
   ],
   "source": [
    "result['지형기호(2.3km)'].unique()"
   ],
   "metadata": {
    "collapsed": false,
    "pycharm": {
     "name": "#%%\n"
    }
   }
  },
  {
   "cell_type": "code",
   "execution_count": 23,
   "outputs": [
    {
     "data": {
      "text/plain": "       번호  경사도  농가까지의 거리(km)  최고제한속도(km/h)  등산로까지 최단거리(km)  식생  주변 로드킬 빈도  \\\n0    1001    6      0.125686          80.0        1.903039   0          0   \n1    1002    5      0.074627          60.0        0.120319   1          0   \n2    1004    2      0.110617          60.0        0.047211   1          0   \n3    1005    2      0.009030          80.0        0.233820   1          0   \n4    1006    4      0.098269          80.0        2.172428   0          0   \n..    ...  ...           ...           ...             ...  ..        ...   \n492  1561    2      0.087448          60.0        0.000416   1          4   \n493  1562    5      0.137822          80.0        2.835246   1          0   \n494  1564    4      0.054073          80.0        0.886170   1          0   \n495  1567    5      0.102655          60.0        9.125829   1          0   \n496  1568    4      0.086586          60.0        0.642351   0          0   \n\n    지형기호(2.3km)  \n0             X  \n1             X  \n2            산지  \n3             X  \n4            하천  \n..          ...  \n492          산지  \n493          산지  \n494           X  \n495          하천  \n496           X  \n\n[497 rows x 8 columns]",
      "text/html": "<div>\n<style scoped>\n    .dataframe tbody tr th:only-of-type {\n        vertical-align: middle;\n    }\n\n    .dataframe tbody tr th {\n        vertical-align: top;\n    }\n\n    .dataframe thead th {\n        text-align: right;\n    }\n</style>\n<table border=\"1\" class=\"dataframe\">\n  <thead>\n    <tr style=\"text-align: right;\">\n      <th></th>\n      <th>번호</th>\n      <th>경사도</th>\n      <th>농가까지의 거리(km)</th>\n      <th>최고제한속도(km/h)</th>\n      <th>등산로까지 최단거리(km)</th>\n      <th>식생</th>\n      <th>주변 로드킬 빈도</th>\n      <th>지형기호(2.3km)</th>\n    </tr>\n  </thead>\n  <tbody>\n    <tr>\n      <th>0</th>\n      <td>1001</td>\n      <td>6</td>\n      <td>0.125686</td>\n      <td>80.0</td>\n      <td>1.903039</td>\n      <td>0</td>\n      <td>0</td>\n      <td>X</td>\n    </tr>\n    <tr>\n      <th>1</th>\n      <td>1002</td>\n      <td>5</td>\n      <td>0.074627</td>\n      <td>60.0</td>\n      <td>0.120319</td>\n      <td>1</td>\n      <td>0</td>\n      <td>X</td>\n    </tr>\n    <tr>\n      <th>2</th>\n      <td>1004</td>\n      <td>2</td>\n      <td>0.110617</td>\n      <td>60.0</td>\n      <td>0.047211</td>\n      <td>1</td>\n      <td>0</td>\n      <td>산지</td>\n    </tr>\n    <tr>\n      <th>3</th>\n      <td>1005</td>\n      <td>2</td>\n      <td>0.009030</td>\n      <td>80.0</td>\n      <td>0.233820</td>\n      <td>1</td>\n      <td>0</td>\n      <td>X</td>\n    </tr>\n    <tr>\n      <th>4</th>\n      <td>1006</td>\n      <td>4</td>\n      <td>0.098269</td>\n      <td>80.0</td>\n      <td>2.172428</td>\n      <td>0</td>\n      <td>0</td>\n      <td>하천</td>\n    </tr>\n    <tr>\n      <th>...</th>\n      <td>...</td>\n      <td>...</td>\n      <td>...</td>\n      <td>...</td>\n      <td>...</td>\n      <td>...</td>\n      <td>...</td>\n      <td>...</td>\n    </tr>\n    <tr>\n      <th>492</th>\n      <td>1561</td>\n      <td>2</td>\n      <td>0.087448</td>\n      <td>60.0</td>\n      <td>0.000416</td>\n      <td>1</td>\n      <td>4</td>\n      <td>산지</td>\n    </tr>\n    <tr>\n      <th>493</th>\n      <td>1562</td>\n      <td>5</td>\n      <td>0.137822</td>\n      <td>80.0</td>\n      <td>2.835246</td>\n      <td>1</td>\n      <td>0</td>\n      <td>산지</td>\n    </tr>\n    <tr>\n      <th>494</th>\n      <td>1564</td>\n      <td>4</td>\n      <td>0.054073</td>\n      <td>80.0</td>\n      <td>0.886170</td>\n      <td>1</td>\n      <td>0</td>\n      <td>X</td>\n    </tr>\n    <tr>\n      <th>495</th>\n      <td>1567</td>\n      <td>5</td>\n      <td>0.102655</td>\n      <td>60.0</td>\n      <td>9.125829</td>\n      <td>1</td>\n      <td>0</td>\n      <td>하천</td>\n    </tr>\n    <tr>\n      <th>496</th>\n      <td>1568</td>\n      <td>4</td>\n      <td>0.086586</td>\n      <td>60.0</td>\n      <td>0.642351</td>\n      <td>0</td>\n      <td>0</td>\n      <td>X</td>\n    </tr>\n  </tbody>\n</table>\n<p>497 rows × 8 columns</p>\n</div>"
     },
     "execution_count": 23,
     "metadata": {},
     "output_type": "execute_result"
    }
   ],
   "source": [
    "table = load_data_from_rds('변수관계설정', db_connection)\n",
    "table = table.merge(result, on='번호')\n",
    "table"
   ],
   "metadata": {
    "collapsed": false,
    "pycharm": {
     "name": "#%%\n"
    }
   }
  },
  {
   "cell_type": "code",
   "execution_count": 24,
   "outputs": [],
   "source": [
    "upload_data_to_rds(table, '변수관계설정', db_connection)"
   ],
   "metadata": {
    "collapsed": false,
    "pycharm": {
     "name": "#%%\n"
    }
   }
  },
  {
   "cell_type": "code",
   "execution_count": null,
   "outputs": [],
   "source": [],
   "metadata": {
    "collapsed": false,
    "pycharm": {
     "name": "#%%\n"
    }
   }
  }
 ],
 "metadata": {
  "kernelspec": {
   "display_name": "Python 3",
   "language": "python",
   "name": "python3"
  },
  "language_info": {
   "codemirror_mode": {
    "name": "ipython",
    "version": 2
   },
   "file_extension": ".py",
   "mimetype": "text/x-python",
   "name": "python",
   "nbconvert_exporter": "python",
   "pygments_lexer": "ipython2",
   "version": "2.7.6"
  }
 },
 "nbformat": 4,
 "nbformat_minor": 0
}