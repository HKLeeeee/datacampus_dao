{
 "cells": [
  {
   "cell_type": "code",
   "execution_count": null,
   "outputs": [],
   "source": [
    "# !conda install sqlalchemy"
   ],
   "metadata": {
    "collapsed": false,
    "pycharm": {
     "name": "#%%\n"
    }
   }
  },
  {
   "cell_type": "code",
   "execution_count": null,
   "outputs": [],
   "source": [
    "# !conda install pymysql"
   ],
   "metadata": {
    "collapsed": false,
    "pycharm": {
     "name": "#%%\n"
    }
   }
  },
  {
   "cell_type": "code",
   "execution_count": 3,
   "outputs": [
    {
     "name": "stdout",
     "output_type": "stream",
     "text": [
      "Collecting package metadata (current_repodata.json): ...working... done\n",
      "Solving environment: ...working... failed with initial frozen solve. Retrying with flexible solve.\n",
      "Solving environment: ...working... failed with repodata from current_repodata.json, will retry with next repodata source.\n",
      "Collecting package metadata (repodata.json): ...working... done\n",
      "Solving environment: ...working... done\n",
      "\n",
      "## Package Plan ##\n",
      "\n",
      "  environment location: C:\\ProgramData\\Anaconda3\\envs\\machine\n",
      "\n",
      "  added / updated specs:\n",
      "    - geopandas\n",
      "\n",
      "\n",
      "The following packages will be downloaded:\n",
      "\n",
      "    package                    |            build\n",
      "    ---------------------------|-----------------\n",
      "    click-7.1.2                |     pyhd3eb1b0_0          64 KB\n",
      "    click-plugins-1.1.1        |     pyhd3eb1b0_0          10 KB\n",
      "    cligj-0.7.2                |   py38haa95532_0          14 KB\n",
      "    curl-7.84.0                |       h2bbff1b_0         142 KB\n",
      "    fiona-1.8.4                |   py38h22081e2_0         621 KB\n",
      "    freexl-1.0.6               |       h2bbff1b_0          51 KB\n",
      "    gdal-2.3.3                 |   py38hdf43c64_0         991 KB\n",
      "    geopandas-0.6.1            |             py_0         871 KB\n",
      "    geos-3.7.1                 |       h33f27b4_0         771 KB\n",
      "    hdf4-4.2.13                |       h712560f_2         1.3 MB\n",
      "    kealib-1.4.7               |       h07cbb95_6         133 KB\n",
      "    krb5-1.16.4                |       hc04afaa_0         693 KB\n",
      "    libboost-1.73.0            |      h6c2663c_11        20.3 MB\n",
      "    libcurl-7.84.0             |       h86230a5_0         300 KB\n",
      "    libgdal-2.3.3              |       h10f50ba_0         7.2 MB\n",
      "    libkml-1.3.0               |       hd124aa8_5         4.1 MB\n",
      "    libnetcdf-4.6.1            |       h411e497_2         494 KB\n",
      "    libpq-11.2                 |       h3235a2c_0         2.6 MB\n",
      "    libspatialite-4.3.0a       |      hc36aec2_19         2.3 MB\n",
      "    munch-2.5.0                |     pyhd3eb1b0_0          13 KB\n",
      "    proj4-5.2.0                |       ha925a31_1         3.1 MB\n",
      "    pyproj-1.9.6               |   py38h6782396_0         234 KB\n",
      "    rtree-0.9.7                |   py38h2eaa2aa_1          49 KB\n",
      "    shapely-1.6.4              |   py38h222a598_0         285 KB\n",
      "    xerces-c-3.2.3             |       ha925a31_0         2.8 MB\n",
      "    ------------------------------------------------------------\n",
      "                                           Total:        49.4 MB\n",
      "\n",
      "The following NEW packages will be INSTALLED:\n",
      "\n",
      "  click-plugins      pkgs/main/noarch::click-plugins-1.1.1-pyhd3eb1b0_0\n",
      "  cligj              pkgs/main/win-64::cligj-0.7.2-py38haa95532_0\n",
      "  curl               pkgs/main/win-64::curl-7.84.0-h2bbff1b_0\n",
      "  expat              pkgs/main/win-64::expat-2.4.4-h6c2663c_0\n",
      "  fiona              pkgs/main/win-64::fiona-1.8.4-py38h22081e2_0\n",
      "  freexl             pkgs/main/win-64::freexl-1.0.6-h2bbff1b_0\n",
      "  gdal               pkgs/main/win-64::gdal-2.3.3-py38hdf43c64_0\n",
      "  geopandas          pkgs/main/noarch::geopandas-0.6.1-py_0\n",
      "  geos               pkgs/main/win-64::geos-3.7.1-h33f27b4_0\n",
      "  hdf4               pkgs/main/win-64::hdf4-4.2.13-h712560f_2\n",
      "  kealib             pkgs/main/win-64::kealib-1.4.7-h07cbb95_6\n",
      "  krb5               pkgs/main/win-64::krb5-1.16.4-hc04afaa_0\n",
      "  libboost           pkgs/main/win-64::libboost-1.73.0-h6c2663c_11\n",
      "  libcurl            pkgs/main/win-64::libcurl-7.84.0-h86230a5_0\n",
      "  libgdal            pkgs/main/win-64::libgdal-2.3.3-h10f50ba_0\n",
      "  libiconv           pkgs/main/win-64::libiconv-1.16-h2bbff1b_2\n",
      "  libkml             pkgs/main/win-64::libkml-1.3.0-hd124aa8_5\n",
      "  libnetcdf          pkgs/main/win-64::libnetcdf-4.6.1-h411e497_2\n",
      "  libpq              pkgs/main/win-64::libpq-11.2-h3235a2c_0\n",
      "  libspatialindex    pkgs/main/win-64::libspatialindex-1.9.3-h6c2663c_0\n",
      "  libspatialite      pkgs/main/win-64::libspatialite-4.3.0a-hc36aec2_19\n",
      "  libssh2            pkgs/main/win-64::libssh2-1.10.0-hcd4344a_0\n",
      "  libxml2            pkgs/main/win-64::libxml2-2.9.14-h0ad7f3c_0\n",
      "  munch              pkgs/main/noarch::munch-2.5.0-pyhd3eb1b0_0\n",
      "  pcre               pkgs/main/win-64::pcre-8.45-hd77b12b_0\n",
      "  proj4              pkgs/main/win-64::proj4-5.2.0-ha925a31_1\n",
      "  pyproj             pkgs/main/win-64::pyproj-1.9.6-py38h6782396_0\n",
      "  rtree              pkgs/main/win-64::rtree-0.9.7-py38h2eaa2aa_1\n",
      "  shapely            pkgs/main/win-64::shapely-1.6.4-py38h222a598_0\n",
      "  xerces-c           pkgs/main/win-64::xerces-c-3.2.3-ha925a31_0\n",
      "\n",
      "The following packages will be SUPERSEDED by a higher-priority channel:\n",
      "\n",
      "  click              pkgs/main/win-64::click-8.0.4-py38haa~ --> pkgs/main/noarch::click-7.1.2-pyhd3eb1b0_0\n",
      "\n",
      "\n",
      "\n",
      "Downloading and Extracting Packages\n",
      "\n",
      "geos-3.7.1           | 771 KB    |            |   0% \n",
      "geos-3.7.1           | 771 KB    | 2          |   2% \n",
      "geos-3.7.1           | 771 KB    | ########## | 100% \n",
      "geos-3.7.1           | 771 KB    | ########## | 100% \n",
      "\n",
      "libspatialite-4.3.0a | 2.3 MB    |            |   0% \n",
      "libspatialite-4.3.0a | 2.3 MB    |            |   1% \n",
      "libspatialite-4.3.0a | 2.3 MB    | ##7        |  27% \n",
      "libspatialite-4.3.0a | 2.3 MB    | #####4     |  55% \n",
      "libspatialite-4.3.0a | 2.3 MB    | ########2  |  82% \n",
      "libspatialite-4.3.0a | 2.3 MB    | ########## | 100% \n",
      "\n",
      "gdal-2.3.3           | 991 KB    |            |   0% \n",
      "gdal-2.3.3           | 991 KB    | 1          |   2% \n",
      "gdal-2.3.3           | 991 KB    | #####4     |  55% \n",
      "gdal-2.3.3           | 991 KB    | ########7  |  87% \n",
      "gdal-2.3.3           | 991 KB    | ########## | 100% \n",
      "\n",
      "libgdal-2.3.3        | 7.2 MB    |            |   0% \n",
      "libgdal-2.3.3        | 7.2 MB    |            |   0% \n",
      "libgdal-2.3.3        | 7.2 MB    | 1          |   2% \n",
      "libgdal-2.3.3        | 7.2 MB    | 4          |   4% \n",
      "libgdal-2.3.3        | 7.2 MB    | 5          |   6% \n",
      "libgdal-2.3.3        | 7.2 MB    | 9          |   9% \n",
      "libgdal-2.3.3        | 7.2 MB    | #2         |  12% \n",
      "libgdal-2.3.3        | 7.2 MB    | #5         |  16% \n",
      "libgdal-2.3.3        | 7.2 MB    | ##2        |  22% \n",
      "libgdal-2.3.3        | 7.2 MB    | ##9        |  29% \n",
      "libgdal-2.3.3        | 7.2 MB    | ###4       |  34% \n",
      "libgdal-2.3.3        | 7.2 MB    | ####6      |  47% \n",
      "libgdal-2.3.3        | 7.2 MB    | ######1    |  61% \n",
      "libgdal-2.3.3        | 7.2 MB    | #######    |  70% \n",
      "libgdal-2.3.3        | 7.2 MB    | ########2  |  83% \n",
      "libgdal-2.3.3        | 7.2 MB    | #########7 |  98% \n",
      "libgdal-2.3.3        | 7.2 MB    | ########## | 100% \n",
      "\n",
      "click-plugins-1.1.1  | 10 KB     |            |   0% \n",
      "click-plugins-1.1.1  | 10 KB     | ########## | 100% \n",
      "click-plugins-1.1.1  | 10 KB     | ########## | 100% \n",
      "\n",
      "libnetcdf-4.6.1      | 494 KB    |            |   0% \n",
      "libnetcdf-4.6.1      | 494 KB    | 3          |   3% \n",
      "libnetcdf-4.6.1      | 494 KB    | ########## | 100% \n",
      "libnetcdf-4.6.1      | 494 KB    | ########## | 100% \n",
      "\n",
      "fiona-1.8.4          | 621 KB    |            |   0% \n",
      "fiona-1.8.4          | 621 KB    | 2          |   3% \n",
      "fiona-1.8.4          | 621 KB    | #####1     |  52% \n",
      "fiona-1.8.4          | 621 KB    | #########  |  90% \n",
      "fiona-1.8.4          | 621 KB    | ########## | 100% \n",
      "\n",
      "libcurl-7.84.0       | 300 KB    |            |   0% \n",
      "libcurl-7.84.0       | 300 KB    | ########## | 100% \n",
      "libcurl-7.84.0       | 300 KB    | ########## | 100% \n",
      "\n",
      "libpq-11.2           | 2.6 MB    |            |   0% \n",
      "libpq-11.2           | 2.6 MB    |            |   1% \n",
      "libpq-11.2           | 2.6 MB    | ####5      |  45% \n",
      "libpq-11.2           | 2.6 MB    | #########1 |  91% \n",
      "libpq-11.2           | 2.6 MB    | ########## | 100% \n",
      "libpq-11.2           | 2.6 MB    | ########## | 100% \n",
      "\n",
      "shapely-1.6.4        | 285 KB    |            |   0% \n",
      "shapely-1.6.4        | 285 KB    | 5          |   6% \n",
      "shapely-1.6.4        | 285 KB    | ########## | 100% \n",
      "shapely-1.6.4        | 285 KB    | ########## | 100% \n",
      "\n",
      "kealib-1.4.7         | 133 KB    |            |   0% \n",
      "kealib-1.4.7         | 133 KB    | #2         |  12% \n",
      "kealib-1.4.7         | 133 KB    | ###6       |  36% \n",
      "kealib-1.4.7         | 133 KB    | ########## | 100% \n",
      "kealib-1.4.7         | 133 KB    | ########## | 100% \n",
      "\n",
      "krb5-1.16.4          | 693 KB    |            |   0% \n",
      "krb5-1.16.4          | 693 KB    | 2          |   2% \n",
      "krb5-1.16.4          | 693 KB    | #8         |  18% \n",
      "krb5-1.16.4          | 693 KB    | ###4       |  35% \n",
      "krb5-1.16.4          | 693 KB    | #####5     |  55% \n",
      "krb5-1.16.4          | 693 KB    | ########## | 100% \n",
      "krb5-1.16.4          | 693 KB    | ########## | 100% \n",
      "\n",
      "curl-7.84.0          | 142 KB    |            |   0% \n",
      "curl-7.84.0          | 142 KB    | ########## | 100% \n",
      "curl-7.84.0          | 142 KB    | ########## | 100% \n",
      "\n",
      "pyproj-1.9.6         | 234 KB    |            |   0% \n",
      "pyproj-1.9.6         | 234 KB    | 6          |   7% \n",
      "pyproj-1.9.6         | 234 KB    | ######1    |  62% \n",
      "pyproj-1.9.6         | 234 KB    | ########## | 100% \n",
      "pyproj-1.9.6         | 234 KB    | ########## | 100% \n",
      "\n",
      "libkml-1.3.0         | 4.1 MB    |            |   0% \n",
      "libkml-1.3.0         | 4.1 MB    |            |   0% \n",
      "libkml-1.3.0         | 4.1 MB    | #1         |  11% \n",
      "libkml-1.3.0         | 4.1 MB    | ##8        |  28% \n",
      "libkml-1.3.0         | 4.1 MB    | ###9       |  39% \n",
      "libkml-1.3.0         | 4.1 MB    | #####9     |  60% \n",
      "libkml-1.3.0         | 4.1 MB    | ########9  |  89% \n",
      "libkml-1.3.0         | 4.1 MB    | ########## | 100% \n",
      "libkml-1.3.0         | 4.1 MB    | ########## | 100% \n",
      "\n",
      "freexl-1.0.6         | 51 KB     |            |   0% \n",
      "freexl-1.0.6         | 51 KB     | ########## | 100% \n",
      "freexl-1.0.6         | 51 KB     | ########## | 100% \n",
      "\n",
      "xerces-c-3.2.3       | 2.8 MB    |            |   0% \n",
      "xerces-c-3.2.3       | 2.8 MB    | ###9       |  39% \n",
      "xerces-c-3.2.3       | 2.8 MB    | #######8   |  78% \n",
      "xerces-c-3.2.3       | 2.8 MB    | #########7 |  97% \n",
      "xerces-c-3.2.3       | 2.8 MB    | ########## | 100% \n",
      "\n",
      "hdf4-4.2.13          | 1.3 MB    |            |   0% \n",
      "hdf4-4.2.13          | 1.3 MB    | ########9  |  89% \n",
      "hdf4-4.2.13          | 1.3 MB    | ########## | 100% \n",
      "\n",
      "libboost-1.73.0      | 20.3 MB   |            |   0% \n",
      "libboost-1.73.0      | 20.3 MB   | 5          |   5% \n",
      "libboost-1.73.0      | 20.3 MB   | #1         |  11% \n",
      "libboost-1.73.0      | 20.3 MB   | #6         |  16% \n",
      "libboost-1.73.0      | 20.3 MB   | ##2        |  22% \n",
      "libboost-1.73.0      | 20.3 MB   | ##8        |  28% \n",
      "libboost-1.73.0      | 20.3 MB   | ##9        |  29% \n",
      "libboost-1.73.0      | 20.3 MB   | ###4       |  34% \n",
      "libboost-1.73.0      | 20.3 MB   | ###8       |  38% \n",
      "libboost-1.73.0      | 20.3 MB   | ####5      |  46% \n",
      "libboost-1.73.0      | 20.3 MB   | #####1     |  52% \n",
      "libboost-1.73.0      | 20.3 MB   | #####7     |  57% \n",
      "libboost-1.73.0      | 20.3 MB   | ######2    |  62% \n",
      "libboost-1.73.0      | 20.3 MB   | ######8    |  69% \n",
      "libboost-1.73.0      | 20.3 MB   | #######4   |  74% \n",
      "libboost-1.73.0      | 20.3 MB   | ########1  |  81% \n",
      "libboost-1.73.0      | 20.3 MB   | ########6  |  87% \n",
      "libboost-1.73.0      | 20.3 MB   | #########1 |  92% \n",
      "libboost-1.73.0      | 20.3 MB   | #########5 |  96% \n",
      "libboost-1.73.0      | 20.3 MB   | ########## | 100% \n",
      "libboost-1.73.0      | 20.3 MB   | ########## | 100% \n",
      "\n",
      "geopandas-0.6.1      | 871 KB    |            |   0% \n",
      "geopandas-0.6.1      | 871 KB    | ########## | 100% \n",
      "geopandas-0.6.1      | 871 KB    | ########## | 100% \n",
      "\n",
      "rtree-0.9.7          | 49 KB     |            |   0% \n",
      "rtree-0.9.7          | 49 KB     | ########## | 100% \n",
      "rtree-0.9.7          | 49 KB     | ########## | 100% \n",
      "\n",
      "munch-2.5.0          | 13 KB     |            |   0% \n",
      "munch-2.5.0          | 13 KB     | ########## | 100% \n",
      "munch-2.5.0          | 13 KB     | ########## | 100% \n",
      "\n",
      "cligj-0.7.2          | 14 KB     |            |   0% \n",
      "cligj-0.7.2          | 14 KB     | ########## | 100% \n",
      "cligj-0.7.2          | 14 KB     | ########## | 100% \n",
      "\n",
      "proj4-5.2.0          | 3.1 MB    |            |   0% \n",
      "proj4-5.2.0          | 3.1 MB    |            |   1% \n",
      "proj4-5.2.0          | 3.1 MB    | #7         |  18% \n",
      "proj4-5.2.0          | 3.1 MB    | ###3       |  34% \n",
      "proj4-5.2.0          | 3.1 MB    | ####6      |  46% \n",
      "proj4-5.2.0          | 3.1 MB    | ######4    |  65% \n",
      "proj4-5.2.0          | 3.1 MB    | #######5   |  75% \n",
      "proj4-5.2.0          | 3.1 MB    | ########## | 100% \n",
      "proj4-5.2.0          | 3.1 MB    | ########## | 100% \n",
      "\n",
      "click-7.1.2          | 64 KB     |            |   0% \n",
      "click-7.1.2          | 64 KB     | ########## | 100% \n",
      "click-7.1.2          | 64 KB     | ########## | 100% \n",
      "Preparing transaction: ...working... done\n",
      "Verifying transaction: ...working... done\n",
      "Executing transaction: ...working... done\n"
     ]
    }
   ],
   "source": [
    "!conda install geopandas -y"
   ],
   "metadata": {
    "collapsed": false,
    "pycharm": {
     "name": "#%%\n"
    }
   }
  },
  {
   "cell_type": "code",
   "execution_count": 1,
   "metadata": {
    "collapsed": true,
    "pycharm": {
     "name": "#%%\n"
    }
   },
   "outputs": [
    {
     "ename": "ModuleNotFoundError",
     "evalue": "No module named 'geopandas'",
     "output_type": "error",
     "traceback": [
      "\u001B[1;31m---------------------------------------------------------------------------\u001B[0m",
      "\u001B[1;31mModuleNotFoundError\u001B[0m                       Traceback (most recent call last)",
      "Input \u001B[1;32mIn [1]\u001B[0m, in \u001B[0;36m<cell line: 4>\u001B[1;34m()\u001B[0m\n\u001B[0;32m      2\u001B[0m \u001B[38;5;28;01mimport\u001B[39;00m \u001B[38;5;21;01mpymysql\u001B[39;00m\n\u001B[0;32m      3\u001B[0m \u001B[38;5;28;01mimport\u001B[39;00m \u001B[38;5;21;01mpandas\u001B[39;00m \u001B[38;5;28;01mas\u001B[39;00m \u001B[38;5;21;01mpd\u001B[39;00m\n\u001B[1;32m----> 4\u001B[0m \u001B[38;5;28;01mimport\u001B[39;00m \u001B[38;5;21;01mgeopandas\u001B[39;00m \u001B[38;5;28;01mas\u001B[39;00m \u001B[38;5;21;01mgpd\u001B[39;00m\n",
      "\u001B[1;31mModuleNotFoundError\u001B[0m: No module named 'geopandas'"
     ]
    }
   ],
   "source": [
    "from sqlalchemy import create_engine\n",
    "import pymysql\n",
    "import pandas as pd\n",
    "import geopandas as gpd"
   ]
  },
  {
   "cell_type": "markdown",
   "source": [
    "# DB 연결하기"
   ],
   "metadata": {
    "collapsed": false
   }
  },
  {
   "cell_type": "code",
   "execution_count": 3,
   "outputs": [],
   "source": [
    "endpoint = 'dao.cdqd2bwz9q4s.ap-northeast-2.rds.amazonaws.com'\n",
    "db_connection_str = 'mysql+pymysql://admin:ekfkawnl@{}/{}'.format(endpoint, 'test')\n",
    "try :\n",
    "    db_connection = create_engine(db_connection_str)\n",
    "    conn = db_connection.connect()\n",
    "except :\n",
    "    print('fail to connect db')"
   ],
   "metadata": {
    "collapsed": false,
    "pycharm": {
     "name": "#%%\n"
    }
   }
  },
  {
   "cell_type": "markdown",
   "source": [
    "# 엑셀 -> 데이터프레임으로 불러오기"
   ],
   "metadata": {
    "collapsed": false
   }
  },
  {
   "cell_type": "code",
   "execution_count": 4,
   "outputs": [
    {
     "name": "stderr",
     "output_type": "stream",
     "text": [
      "C:\\ProgramData\\Anaconda3\\envs\\machine\\lib\\site-packages\\openpyxl\\styles\\stylesheet.py:226: UserWarning: Workbook contains no default style, apply openpyxl's default\n",
      "  warn(\"Workbook contains no default style, apply openpyxl's default\")\n"
     ]
    }
   ],
   "source": [
    "df = pd.read_excel('./전국자연환경조사_4차_포유류_2017_전국.xlsx')"
   ],
   "metadata": {
    "collapsed": false,
    "pycharm": {
     "name": "#%%\n"
    }
   }
  },
  {
   "cell_type": "markdown",
   "source": [
    "# 데이터프레임 -> DB에 올리기"
   ],
   "metadata": {
    "collapsed": false
   }
  },
  {
   "cell_type": "markdown",
   "source": [
    "[to_sql 공식문서](!https://pandas.pydata.org/docs/reference/api/pandas.DataFrame.to_sql.html)"
   ],
   "metadata": {
    "collapsed": false,
    "pycharm": {
     "name": "#%% md\n"
    }
   }
  },
  {
   "cell_type": "code",
   "execution_count": null,
   "outputs": [],
   "source": [
    "Tabel_name = '전국자연환경조사_2017_포유류'"
   ],
   "metadata": {
    "collapsed": false,
    "pycharm": {
     "name": "#%%\n"
    }
   }
  },
  {
   "cell_type": "code",
   "execution_count": 5,
   "outputs": [
    {
     "data": {
      "text/plain": "8220"
     },
     "execution_count": 5,
     "metadata": {},
     "output_type": "execute_result"
    }
   ],
   "source": [
    "df.to_sql(name=Tabel_name, con=db_connection, if_exists='replace', index=False)\n",
    "# if_exists options : append, fail, replace"
   ],
   "metadata": {
    "collapsed": false,
    "pycharm": {
     "name": "#%%\n"
    }
   }
  },
  {
   "cell_type": "markdown",
   "source": [
    "# DB -> 데이터프레임 불러오기"
   ],
   "metadata": {
    "collapsed": false
   }
  },
  {
   "cell_type": "code",
   "execution_count": 6,
   "outputs": [],
   "source": [
    "sql = \"SELECT * FROM {}\".format(Tabel_name)\n",
    "df = pd.read_sql(sql, db_connection)"
   ],
   "metadata": {
    "collapsed": false,
    "pycharm": {
     "name": "#%%\n"
    }
   }
  },
  {
   "cell_type": "code",
   "execution_count": 7,
   "outputs": [
    {
     "data": {
      "text/plain": "      objectid                                  학명   국명          위도  \\\n0      16354.0    Apodemus agrarius (Pallas, 1771)  등줄쥐  127.061306   \n1      16355.0    Apodemus agrarius (Pallas, 1771)  등줄쥐  127.061083   \n2      28947.0    Apodemus agrarius (Pallas, 1771)  등줄쥐  126.930656   \n3      16356.0    Apodemus agrarius (Pallas, 1771)  등줄쥐  127.061306   \n4      16357.0    Apodemus agrarius (Pallas, 1771)  등줄쥐  127.059778   \n...        ...                                 ...  ...         ...   \n8215   16124.0  Eutamias sibiricus (Laxmann), 1769  다람쥐  127.060423   \n8216   16180.0  Eutamias sibiricus (Laxmann), 1769  다람쥐  127.014614   \n8217   27870.0  Eutamias sibiricus (Laxmann), 1769  다람쥐  127.171633   \n8218   27857.0  Eutamias sibiricus (Laxmann), 1769  다람쥐  127.164636   \n8219   33900.0       Delphinus capensis Gray, 1828  돌고래  126.813605   \n\n             경도        조사일자  조사년도   시도명  \n0     36.447306  2017-05-06  2017  충청남도  \n1     36.447028  2017-05-07  2017  충청남도  \n2     34.621223  2017-06-23  2017  전라남도  \n3     36.447306  2017-05-07  2017  충청남도  \n4     36.448083  2017-05-07  2017  충청남도  \n...         ...         ...   ...   ...  \n8215  35.994778  2017-03-16  2017  전라북도  \n8216  35.939470  2017-05-02  2017  전라북도  \n8217  37.051408  2017-04-17  2017   경기도  \n8218  37.060611  2017-06-05  2017   경기도  \n8219  33.559828  2017-05-06  2017  None  \n\n[8220 rows x 8 columns]",
      "text/html": "<div>\n<style scoped>\n    .dataframe tbody tr th:only-of-type {\n        vertical-align: middle;\n    }\n\n    .dataframe tbody tr th {\n        vertical-align: top;\n    }\n\n    .dataframe thead th {\n        text-align: right;\n    }\n</style>\n<table border=\"1\" class=\"dataframe\">\n  <thead>\n    <tr style=\"text-align: right;\">\n      <th></th>\n      <th>objectid</th>\n      <th>학명</th>\n      <th>국명</th>\n      <th>위도</th>\n      <th>경도</th>\n      <th>조사일자</th>\n      <th>조사년도</th>\n      <th>시도명</th>\n    </tr>\n  </thead>\n  <tbody>\n    <tr>\n      <th>0</th>\n      <td>16354.0</td>\n      <td>Apodemus agrarius (Pallas, 1771)</td>\n      <td>등줄쥐</td>\n      <td>127.061306</td>\n      <td>36.447306</td>\n      <td>2017-05-06</td>\n      <td>2017</td>\n      <td>충청남도</td>\n    </tr>\n    <tr>\n      <th>1</th>\n      <td>16355.0</td>\n      <td>Apodemus agrarius (Pallas, 1771)</td>\n      <td>등줄쥐</td>\n      <td>127.061083</td>\n      <td>36.447028</td>\n      <td>2017-05-07</td>\n      <td>2017</td>\n      <td>충청남도</td>\n    </tr>\n    <tr>\n      <th>2</th>\n      <td>28947.0</td>\n      <td>Apodemus agrarius (Pallas, 1771)</td>\n      <td>등줄쥐</td>\n      <td>126.930656</td>\n      <td>34.621223</td>\n      <td>2017-06-23</td>\n      <td>2017</td>\n      <td>전라남도</td>\n    </tr>\n    <tr>\n      <th>3</th>\n      <td>16356.0</td>\n      <td>Apodemus agrarius (Pallas, 1771)</td>\n      <td>등줄쥐</td>\n      <td>127.061306</td>\n      <td>36.447306</td>\n      <td>2017-05-07</td>\n      <td>2017</td>\n      <td>충청남도</td>\n    </tr>\n    <tr>\n      <th>4</th>\n      <td>16357.0</td>\n      <td>Apodemus agrarius (Pallas, 1771)</td>\n      <td>등줄쥐</td>\n      <td>127.059778</td>\n      <td>36.448083</td>\n      <td>2017-05-07</td>\n      <td>2017</td>\n      <td>충청남도</td>\n    </tr>\n    <tr>\n      <th>...</th>\n      <td>...</td>\n      <td>...</td>\n      <td>...</td>\n      <td>...</td>\n      <td>...</td>\n      <td>...</td>\n      <td>...</td>\n      <td>...</td>\n    </tr>\n    <tr>\n      <th>8215</th>\n      <td>16124.0</td>\n      <td>Eutamias sibiricus (Laxmann), 1769</td>\n      <td>다람쥐</td>\n      <td>127.060423</td>\n      <td>35.994778</td>\n      <td>2017-03-16</td>\n      <td>2017</td>\n      <td>전라북도</td>\n    </tr>\n    <tr>\n      <th>8216</th>\n      <td>16180.0</td>\n      <td>Eutamias sibiricus (Laxmann), 1769</td>\n      <td>다람쥐</td>\n      <td>127.014614</td>\n      <td>35.939470</td>\n      <td>2017-05-02</td>\n      <td>2017</td>\n      <td>전라북도</td>\n    </tr>\n    <tr>\n      <th>8217</th>\n      <td>27870.0</td>\n      <td>Eutamias sibiricus (Laxmann), 1769</td>\n      <td>다람쥐</td>\n      <td>127.171633</td>\n      <td>37.051408</td>\n      <td>2017-04-17</td>\n      <td>2017</td>\n      <td>경기도</td>\n    </tr>\n    <tr>\n      <th>8218</th>\n      <td>27857.0</td>\n      <td>Eutamias sibiricus (Laxmann), 1769</td>\n      <td>다람쥐</td>\n      <td>127.164636</td>\n      <td>37.060611</td>\n      <td>2017-06-05</td>\n      <td>2017</td>\n      <td>경기도</td>\n    </tr>\n    <tr>\n      <th>8219</th>\n      <td>33900.0</td>\n      <td>Delphinus capensis Gray, 1828</td>\n      <td>돌고래</td>\n      <td>126.813605</td>\n      <td>33.559828</td>\n      <td>2017-05-06</td>\n      <td>2017</td>\n      <td>None</td>\n    </tr>\n  </tbody>\n</table>\n<p>8220 rows × 8 columns</p>\n</div>"
     },
     "execution_count": 7,
     "metadata": {},
     "output_type": "execute_result"
    }
   ],
   "source": [
    "df"
   ],
   "metadata": {
    "collapsed": false,
    "pycharm": {
     "name": "#%%\n"
    }
   }
  },
  {
   "cell_type": "code",
   "execution_count": null,
   "outputs": [],
   "source": [],
   "metadata": {
    "collapsed": false,
    "pycharm": {
     "name": "#%%\n"
    }
   }
  }
 ],
 "metadata": {
  "kernelspec": {
   "name": "conda-env-machine-py",
   "language": "python",
   "display_name": "Python [conda env:machine] *"
  },
  "language_info": {
   "codemirror_mode": {
    "name": "ipython",
    "version": 2
   },
   "file_extension": ".py",
   "mimetype": "text/x-python",
   "name": "python",
   "nbconvert_exporter": "python",
   "pygments_lexer": "ipython2",
   "version": "2.7.6"
  }
 },
 "nbformat": 4,
 "nbformat_minor": 0
}