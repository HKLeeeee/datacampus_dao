{
 "cells": [
  {
   "cell_type": "code",
   "execution_count": 1,
   "metadata": {
    "id": "bxmGdY-cjhGo"
   },
   "outputs": [],
   "source": [
    "# DB 연결\n",
    "from DB import *\n",
    "db_connection = connect_db()"
   ]
  },
  {
   "cell_type": "code",
   "execution_count": 2,
   "metadata": {
    "id": "A3g-y4VCkFTL"
   },
   "outputs": [
    {
     "name": "stdout",
     "output_type": "stream",
     "text": [
      "<class 'pandas.core.frame.DataFrame'>\n",
      "RangeIndex: 497 entries, 0 to 496\n",
      "Data columns (total 14 columns):\n",
      " #   Column            Non-Null Count  Dtype  \n",
      "---  ------            --------------  -----  \n",
      " 0   번호                497 non-null    int64  \n",
      " 1   등산로까지 최단거리(km)    497 non-null    float64\n",
      " 2   식생                497 non-null    int64  \n",
      " 3   경사도               497 non-null    int64  \n",
      " 4   지형기호(2.3km)       497 non-null    object \n",
      " 5   주변 동물종 개수         259 non-null    float64\n",
      " 6   주변동물 출현빈도         259 non-null    float64\n",
      " 7   주변 로드킬 빈도         497 non-null    int64  \n",
      " 8   산책로까지의 최단 거리(km)  497 non-null    float64\n",
      " 9   최고제한속도(km/h)      497 non-null    float64\n",
      " 10  농가까지의 거리(km)      497 non-null    float64\n",
      " 11  교통량               487 non-null    float64\n",
      " 12  환경영향평가점수          497 non-null    int64  \n",
      " 13  건물까지거리(km)        497 non-null    float64\n",
      "dtypes: float64(8), int64(5), object(1)\n",
      "memory usage: 54.5+ KB\n"
     ]
    }
   ],
   "source": [
    "# df : 변수관계설정\n",
    "df = load_data_from_rds('변수관계설정', db_connection)\n",
    "df.info()"
   ]
  },
  {
   "cell_type": "code",
   "execution_count": 4,
   "metadata": {
    "id": "Yl_pSI0tk7YY"
   },
   "outputs": [
    {
     "name": "stdout",
     "output_type": "stream",
     "text": [
      "<class 'pandas.core.frame.DataFrame'>\n",
      "RangeIndex: 497 entries, 0 to 496\n",
      "Data columns (total 13 columns):\n",
      " #   Column  Non-Null Count  Dtype  \n",
      "---  ------  --------------  -----  \n",
      " 0   번호      497 non-null    int64  \n",
      " 1   위도_십진   497 non-null    float64\n",
      " 2   경도_십진   497 non-null    float64\n",
      " 3   생태통로타   497 non-null    int64  \n",
      " 4   차선_수    497 non-null    int64  \n",
      " 5   등산객이용   497 non-null    int64  \n",
      " 6   생태통로효   497 non-null    int64  \n",
      " 7   이용확인종   211 non-null    object \n",
      " 8   이용확인    497 non-null    int64  \n",
      " 9   면적_m^2  240 non-null    float64\n",
      " 10  너비_m    240 non-null    float64\n",
      " 11  길이_m    240 non-null    float64\n",
      " 12  경사도1    485 non-null    float64\n",
      "dtypes: float64(6), int64(6), object(1)\n",
      "memory usage: 50.6+ KB\n"
     ]
    }
   ],
   "source": [
    "# df_soil : 경사도\n",
    "df_soil=pd.read_csv('.././data/variables/경사도.csv')\n",
    "df_soil.info()"
   ]
  },
  {
   "cell_type": "code",
   "execution_count": 5,
   "metadata": {
    "id": "xMdZRNgA64ps"
   },
   "outputs": [],
   "source": [
    "# 열 이름 변경\n",
    "df_soil.rename(columns={'경사도1':'경사도'}, inplace=True)\n",
    "\n",
    "# 12개의 결측치를 0('기타')으로 대체\n",
    "df_soil['경사도'].fillna(0, inplace = True)\n",
    "\n",
    "# dtype int형으로 변경\n",
    "df_soil['경사도']=df_soil['경사도'].astype(int)"
   ]
  },
  {
   "cell_type": "code",
   "execution_count": 6,
   "metadata": {
    "colab": {
     "base_uri": "https://localhost:8080/",
     "height": 529
    },
    "executionInfo": {
     "elapsed": 20,
     "status": "error",
     "timestamp": 1661844538650,
     "user": {
      "displayName": "인하영",
      "userId": "01602148778798879023"
     },
     "user_tz": -540
    },
    "id": "LEoF_nax2hVd",
    "outputId": "5291aba0-0ba5-4e08-c900-a9f6d7d079e0"
   },
   "outputs": [
    {
     "name": "stdout",
     "output_type": "stream",
     "text": [
      "<class 'pandas.core.frame.DataFrame'>\n",
      "RangeIndex: 497 entries, 0 to 496\n",
      "Data columns (total 14 columns):\n",
      " #   Column            Non-Null Count  Dtype  \n",
      "---  ------            --------------  -----  \n",
      " 0   번호                497 non-null    int64  \n",
      " 1   등산로까지 최단거리(km)    497 non-null    float64\n",
      " 2   식생                497 non-null    int64  \n",
      " 3   경사도               497 non-null    int32  \n",
      " 4   지형기호(2.3km)       497 non-null    object \n",
      " 5   주변 동물종 개수         259 non-null    float64\n",
      " 6   주변동물 출현빈도         259 non-null    float64\n",
      " 7   주변 로드킬 빈도         497 non-null    int64  \n",
      " 8   산책로까지의 최단 거리(km)  497 non-null    float64\n",
      " 9   최고제한속도(km/h)      497 non-null    float64\n",
      " 10  농가까지의 거리(km)      497 non-null    float64\n",
      " 11  교통량               487 non-null    float64\n",
      " 12  환경영향평가점수          497 non-null    int64  \n",
      " 13  건물까지거리(km)        497 non-null    float64\n",
      "dtypes: float64(8), int32(1), int64(4), object(1)\n",
      "memory usage: 52.5+ KB\n"
     ]
    }
   ],
   "source": [
    "# '경사도' 열 추출\n",
    "df['경사도']=df_soil['경사도']\n",
    "df.info()"
   ]
  },
  {
   "cell_type": "code",
   "execution_count": 7,
   "metadata": {
    "id": "kuuZmrJopIzb"
   },
   "outputs": [],
   "source": [
    "# DF to RDS\n",
    "upload_data_to_rds(df, '변수관계설정', db_connection)"
   ]
  },
  {
   "cell_type": "code",
   "execution_count": null,
   "outputs": [],
   "source": [],
   "metadata": {
    "collapsed": false,
    "pycharm": {
     "name": "#%%\n"
    }
   }
  }
 ],
 "metadata": {
  "colab": {
   "authorship_tag": "ABX9TyNYH8e8sD6qUAGc+rGjCti8",
   "collapsed_sections": [],
   "mount_file_id": "1C72A01uqqxTpCv1aOMUK8H3WPBmZA_Fl",
   "name": "2. 경사도.ipynb",
   "provenance": []
  },
  "kernelspec": {
   "display_name": "Python 3",
   "language": "python",
   "name": "python3"
  },
  "language_info": {
   "codemirror_mode": {
    "name": "ipython",
    "version": 3
   },
   "file_extension": ".py",
   "mimetype": "text/x-python",
   "name": "python",
   "nbconvert_exporter": "python",
   "pygments_lexer": "ipython3",
   "version": "3.8.8"
  }
 },
 "nbformat": 4,
 "nbformat_minor": 1
}