{
 "cells": [
  {
   "cell_type": "code",
   "execution_count": 1,
   "metadata": {
    "collapsed": true
   },
   "outputs": [],
   "source": [
    "from sqlalchemy import create_engine\n",
    "import pymysql\n",
    "import pandas as pd\n",
    "import numpy as np\n",
    "from glob import glob"
   ]
  },
  {
   "cell_type": "code",
   "execution_count": 6,
   "outputs": [],
   "source": [
    "endpoint = 'dao.cdqd2bwz9q4s.ap-northeast-2.rds.amazonaws.com'\n",
    "schema = 'dao'\n",
    "db_connection_str = 'mysql+pymysql://admin:ekfkawnl@{}/{}'.format(endpoint, schema)\n",
    "try :\n",
    "    db_connection = create_engine(db_connection_str)\n",
    "    conn = db_connection.connect()\n",
    "except :\n",
    "    print('fail to connect db')\n",
    "\n",
    "def load_data_from_rds(tabel_name):\n",
    "  sql = \"SELECT * FROM {}\".format(tabel_name)\n",
    "  df = pd.read_sql(sql, db_connection)\n",
    "  return df"
   ],
   "metadata": {
    "collapsed": false,
    "pycharm": {
     "name": "#%%\n"
    }
   }
  },
  {
   "cell_type": "code",
   "execution_count": 12,
   "outputs": [
    {
     "data": {
      "text/plain": "       번호     위도_십진      경도_십진  생태통로타  차선_수  등산객이용  생태통로효        이용확인종  이용확인   \\\n0    1495  35.36019  128.06375      0     1      1      3          NaN      0   \n1    1277  37.03408  128.40661      1     0      0      3          NaN      0   \n2    1278  36.89832  128.30563      1     0      0      1  고라니 멧돼지 파충류      3   \n3    1279  36.89687  128.30581      1     0      0      1  고라니 멧돼지 파충류      3   \n4    1090  36.71336  127.42200      0     2      5      1    개 고양이 다람쥐      3   \n..    ...       ...        ...    ...   ...    ...    ...          ...    ...   \n492  1089  36.71278  127.42056      0     2      0      0      고라니 멧돼지      2   \n493  1087  36.71722  127.41778      0     1      5      0      고라니 멧돼지      2   \n494  1088  36.71222  127.42528      0     1      5      0      고라니 멧돼지      2   \n495  1091  36.76750  127.47333      0     0      0      0      멧돼지 고라니      2   \n496  1072  36.65293  127.51278      0     2      5      0      고라니 멧돼지      2   \n\n      면적_m^2  ...  join_UID1  join_INDEXPAGE2  join_LEVEL2 join_RIVLEN2  \\\n0        NaN  ...        NaN         ,223,225          지방2         45.8   \n1        NaN  ...        NaN              NaN          NaN          NaN   \n2        NaN  ...        NaN          ,99,117          지방2         21.5   \n3        NaN  ...        NaN          ,99,117          지방2         21.5   \n4     312.74  ...        NaN             ,113          지방2         21.3   \n..       ...  ...        ...              ...          ...          ...   \n492   674.31  ...        NaN             ,113          지방2         21.3   \n493   526.32  ...        NaN             ,113          지방2         21.3   \n494   674.31  ...        NaN             ,113          지방2         21.3   \n495   140.00  ...        NaN              NaN          NaN          NaN   \n496  2460.30  ...        NaN             ,113          지방2          4.5   \n\n    join_RIV_CD_1 join_RIV_NAM_1  join_UID2   join_layer  \\\n0       2024690.0             양천     2468.0  W_SCND_5181   \n1             NaN            NaN        NaN  W_FRST_5181   \n2       1020640.0            단양천      904.0  W_SCND_5181   \n3       1020640.0            단양천      904.0  W_SCND_5181   \n4       3022180.0            용두천     1064.0  W_SCND_5181   \n..            ...            ...        ...          ...   \n492     3022180.0            용두천     1064.0  W_SCND_5181   \n493     3022180.0            용두천     1064.0  W_SCND_5181   \n494     3022180.0            용두천     1064.0  W_SCND_5181   \n495           NaN            NaN        NaN  W_FRST_5181   \n496     3022060.0            명암천     1164.0  W_SCND_5181   \n\n                                            join_path     distance  \n0    D:/datacampus_dao/data/국가 및 지방하천/W_SCND_5181.shp   134.468063  \n1    D:/datacampus_dao/data/국가 및 지방하천/W_FRST_5181.shp   434.781679  \n2    D:/datacampus_dao/data/국가 및 지방하천/W_SCND_5181.shp    74.780224  \n3    D:/datacampus_dao/data/국가 및 지방하천/W_SCND_5181.shp   125.168772  \n4    D:/datacampus_dao/data/국가 및 지방하천/W_SCND_5181.shp  2275.200182  \n..                                                ...          ...  \n492  D:/datacampus_dao/data/국가 및 지방하천/W_SCND_5181.shp  2274.279975  \n493  D:/datacampus_dao/data/국가 및 지방하천/W_SCND_5181.shp  1722.566263  \n494  D:/datacampus_dao/data/국가 및 지방하천/W_SCND_5181.shp  2532.215687  \n495  D:/datacampus_dao/data/국가 및 지방하천/W_FRST_5181.shp  2096.234333  \n496  D:/datacampus_dao/data/국가 및 지방하천/W_SCND_5181.shp   901.351714  \n\n[497 rows x 33 columns]",
      "text/html": "<div>\n<style scoped>\n    .dataframe tbody tr th:only-of-type {\n        vertical-align: middle;\n    }\n\n    .dataframe tbody tr th {\n        vertical-align: top;\n    }\n\n    .dataframe thead th {\n        text-align: right;\n    }\n</style>\n<table border=\"1\" class=\"dataframe\">\n  <thead>\n    <tr style=\"text-align: right;\">\n      <th></th>\n      <th>번호</th>\n      <th>위도_십진</th>\n      <th>경도_십진</th>\n      <th>생태통로타</th>\n      <th>차선_수</th>\n      <th>등산객이용</th>\n      <th>생태통로효</th>\n      <th>이용확인종</th>\n      <th>이용확인</th>\n      <th>면적_m^2</th>\n      <th>...</th>\n      <th>join_UID1</th>\n      <th>join_INDEXPAGE2</th>\n      <th>join_LEVEL2</th>\n      <th>join_RIVLEN2</th>\n      <th>join_RIV_CD_1</th>\n      <th>join_RIV_NAM_1</th>\n      <th>join_UID2</th>\n      <th>join_layer</th>\n      <th>join_path</th>\n      <th>distance</th>\n    </tr>\n  </thead>\n  <tbody>\n    <tr>\n      <th>0</th>\n      <td>1495</td>\n      <td>35.36019</td>\n      <td>128.06375</td>\n      <td>0</td>\n      <td>1</td>\n      <td>1</td>\n      <td>3</td>\n      <td>NaN</td>\n      <td>0</td>\n      <td>NaN</td>\n      <td>...</td>\n      <td>NaN</td>\n      <td>,223,225</td>\n      <td>지방2</td>\n      <td>45.8</td>\n      <td>2024690.0</td>\n      <td>양천</td>\n      <td>2468.0</td>\n      <td>W_SCND_5181</td>\n      <td>D:/datacampus_dao/data/국가 및 지방하천/W_SCND_5181.shp</td>\n      <td>134.468063</td>\n    </tr>\n    <tr>\n      <th>1</th>\n      <td>1277</td>\n      <td>37.03408</td>\n      <td>128.40661</td>\n      <td>1</td>\n      <td>0</td>\n      <td>0</td>\n      <td>3</td>\n      <td>NaN</td>\n      <td>0</td>\n      <td>NaN</td>\n      <td>...</td>\n      <td>NaN</td>\n      <td>NaN</td>\n      <td>NaN</td>\n      <td>NaN</td>\n      <td>NaN</td>\n      <td>NaN</td>\n      <td>NaN</td>\n      <td>W_FRST_5181</td>\n      <td>D:/datacampus_dao/data/국가 및 지방하천/W_FRST_5181.shp</td>\n      <td>434.781679</td>\n    </tr>\n    <tr>\n      <th>2</th>\n      <td>1278</td>\n      <td>36.89832</td>\n      <td>128.30563</td>\n      <td>1</td>\n      <td>0</td>\n      <td>0</td>\n      <td>1</td>\n      <td>고라니 멧돼지 파충류</td>\n      <td>3</td>\n      <td>NaN</td>\n      <td>...</td>\n      <td>NaN</td>\n      <td>,99,117</td>\n      <td>지방2</td>\n      <td>21.5</td>\n      <td>1020640.0</td>\n      <td>단양천</td>\n      <td>904.0</td>\n      <td>W_SCND_5181</td>\n      <td>D:/datacampus_dao/data/국가 및 지방하천/W_SCND_5181.shp</td>\n      <td>74.780224</td>\n    </tr>\n    <tr>\n      <th>3</th>\n      <td>1279</td>\n      <td>36.89687</td>\n      <td>128.30581</td>\n      <td>1</td>\n      <td>0</td>\n      <td>0</td>\n      <td>1</td>\n      <td>고라니 멧돼지 파충류</td>\n      <td>3</td>\n      <td>NaN</td>\n      <td>...</td>\n      <td>NaN</td>\n      <td>,99,117</td>\n      <td>지방2</td>\n      <td>21.5</td>\n      <td>1020640.0</td>\n      <td>단양천</td>\n      <td>904.0</td>\n      <td>W_SCND_5181</td>\n      <td>D:/datacampus_dao/data/국가 및 지방하천/W_SCND_5181.shp</td>\n      <td>125.168772</td>\n    </tr>\n    <tr>\n      <th>4</th>\n      <td>1090</td>\n      <td>36.71336</td>\n      <td>127.42200</td>\n      <td>0</td>\n      <td>2</td>\n      <td>5</td>\n      <td>1</td>\n      <td>개 고양이 다람쥐</td>\n      <td>3</td>\n      <td>312.74</td>\n      <td>...</td>\n      <td>NaN</td>\n      <td>,113</td>\n      <td>지방2</td>\n      <td>21.3</td>\n      <td>3022180.0</td>\n      <td>용두천</td>\n      <td>1064.0</td>\n      <td>W_SCND_5181</td>\n      <td>D:/datacampus_dao/data/국가 및 지방하천/W_SCND_5181.shp</td>\n      <td>2275.200182</td>\n    </tr>\n    <tr>\n      <th>...</th>\n      <td>...</td>\n      <td>...</td>\n      <td>...</td>\n      <td>...</td>\n      <td>...</td>\n      <td>...</td>\n      <td>...</td>\n      <td>...</td>\n      <td>...</td>\n      <td>...</td>\n      <td>...</td>\n      <td>...</td>\n      <td>...</td>\n      <td>...</td>\n      <td>...</td>\n      <td>...</td>\n      <td>...</td>\n      <td>...</td>\n      <td>...</td>\n      <td>...</td>\n      <td>...</td>\n    </tr>\n    <tr>\n      <th>492</th>\n      <td>1089</td>\n      <td>36.71278</td>\n      <td>127.42056</td>\n      <td>0</td>\n      <td>2</td>\n      <td>0</td>\n      <td>0</td>\n      <td>고라니 멧돼지</td>\n      <td>2</td>\n      <td>674.31</td>\n      <td>...</td>\n      <td>NaN</td>\n      <td>,113</td>\n      <td>지방2</td>\n      <td>21.3</td>\n      <td>3022180.0</td>\n      <td>용두천</td>\n      <td>1064.0</td>\n      <td>W_SCND_5181</td>\n      <td>D:/datacampus_dao/data/국가 및 지방하천/W_SCND_5181.shp</td>\n      <td>2274.279975</td>\n    </tr>\n    <tr>\n      <th>493</th>\n      <td>1087</td>\n      <td>36.71722</td>\n      <td>127.41778</td>\n      <td>0</td>\n      <td>1</td>\n      <td>5</td>\n      <td>0</td>\n      <td>고라니 멧돼지</td>\n      <td>2</td>\n      <td>526.32</td>\n      <td>...</td>\n      <td>NaN</td>\n      <td>,113</td>\n      <td>지방2</td>\n      <td>21.3</td>\n      <td>3022180.0</td>\n      <td>용두천</td>\n      <td>1064.0</td>\n      <td>W_SCND_5181</td>\n      <td>D:/datacampus_dao/data/국가 및 지방하천/W_SCND_5181.shp</td>\n      <td>1722.566263</td>\n    </tr>\n    <tr>\n      <th>494</th>\n      <td>1088</td>\n      <td>36.71222</td>\n      <td>127.42528</td>\n      <td>0</td>\n      <td>1</td>\n      <td>5</td>\n      <td>0</td>\n      <td>고라니 멧돼지</td>\n      <td>2</td>\n      <td>674.31</td>\n      <td>...</td>\n      <td>NaN</td>\n      <td>,113</td>\n      <td>지방2</td>\n      <td>21.3</td>\n      <td>3022180.0</td>\n      <td>용두천</td>\n      <td>1064.0</td>\n      <td>W_SCND_5181</td>\n      <td>D:/datacampus_dao/data/국가 및 지방하천/W_SCND_5181.shp</td>\n      <td>2532.215687</td>\n    </tr>\n    <tr>\n      <th>495</th>\n      <td>1091</td>\n      <td>36.76750</td>\n      <td>127.47333</td>\n      <td>0</td>\n      <td>0</td>\n      <td>0</td>\n      <td>0</td>\n      <td>멧돼지 고라니</td>\n      <td>2</td>\n      <td>140.00</td>\n      <td>...</td>\n      <td>NaN</td>\n      <td>NaN</td>\n      <td>NaN</td>\n      <td>NaN</td>\n      <td>NaN</td>\n      <td>NaN</td>\n      <td>NaN</td>\n      <td>W_FRST_5181</td>\n      <td>D:/datacampus_dao/data/국가 및 지방하천/W_FRST_5181.shp</td>\n      <td>2096.234333</td>\n    </tr>\n    <tr>\n      <th>496</th>\n      <td>1072</td>\n      <td>36.65293</td>\n      <td>127.51278</td>\n      <td>0</td>\n      <td>2</td>\n      <td>5</td>\n      <td>0</td>\n      <td>고라니 멧돼지</td>\n      <td>2</td>\n      <td>2460.30</td>\n      <td>...</td>\n      <td>NaN</td>\n      <td>,113</td>\n      <td>지방2</td>\n      <td>4.5</td>\n      <td>3022060.0</td>\n      <td>명암천</td>\n      <td>1164.0</td>\n      <td>W_SCND_5181</td>\n      <td>D:/datacampus_dao/data/국가 및 지방하천/W_SCND_5181.shp</td>\n      <td>901.351714</td>\n    </tr>\n  </tbody>\n</table>\n<p>497 rows × 33 columns</p>\n</div>"
     },
     "execution_count": 12,
     "metadata": {},
     "output_type": "execute_result"
    }
   ],
   "source": [
    "df = pd.read_csv('.././data/CSV/하천_join.csv', encoding='cp949')\n",
    "df"
   ],
   "metadata": {
    "collapsed": false,
    "pycharm": {
     "name": "#%%\n"
    }
   }
  },
  {
   "cell_type": "code",
   "execution_count": 15,
   "outputs": [
    {
     "data": {
      "text/plain": "<Figure size 432x288 with 1 Axes>",
      "image/png": "[encoded data removed]"
     },
     "metadata": {
      "needs_background": "light"
     },
     "output_type": "display_data"
    }
   ],
   "source": [
    "import matplotlib.pyplot as plt\n",
    "plt.boxplot(x=[df['distance']])\n",
    "plt.show()"
   ],
   "metadata": {
    "collapsed": false,
    "pycharm": {
     "name": "#%%\n"
    }
   }
  },
  {
   "cell_type": "markdown",
   "source": [
    "가장 가까운 하천까지의 거리이므로 2.3km 이상인 것들의 거리도 그냥 두었음.\n",
    "IQR75를 넘어가는 값들도 이상치라고 보기는 어려움"
   ],
   "metadata": {
    "collapsed": false
   }
  },
  {
   "cell_type": "code",
   "execution_count": 16,
   "outputs": [
    {
     "data": {
      "text/plain": "       번호  주변 동물종 개수  주변동물 출현빈도 지형기호(5km)\n0    1495          2          2         X\n1    1277          3          5         X\n2    1278          0          0         X\n3    1279          0          0         X\n4    1090          0          0         X\n..    ...        ...        ...       ...\n492  1089          0          0         X\n493  1087          0          0         X\n494  1088          0          0         X\n495  1091          0          0         X\n496  1072          0          0         X\n\n[497 rows x 4 columns]",
      "text/html": "<div>\n<style scoped>\n    .dataframe tbody tr th:only-of-type {\n        vertical-align: middle;\n    }\n\n    .dataframe tbody tr th {\n        vertical-align: top;\n    }\n\n    .dataframe thead th {\n        text-align: right;\n    }\n</style>\n<table border=\"1\" class=\"dataframe\">\n  <thead>\n    <tr style=\"text-align: right;\">\n      <th></th>\n      <th>번호</th>\n      <th>주변 동물종 개수</th>\n      <th>주변동물 출현빈도</th>\n      <th>지형기호(5km)</th>\n    </tr>\n  </thead>\n  <tbody>\n    <tr>\n      <th>0</th>\n      <td>1495</td>\n      <td>2</td>\n      <td>2</td>\n      <td>X</td>\n    </tr>\n    <tr>\n      <th>1</th>\n      <td>1277</td>\n      <td>3</td>\n      <td>5</td>\n      <td>X</td>\n    </tr>\n    <tr>\n      <th>2</th>\n      <td>1278</td>\n      <td>0</td>\n      <td>0</td>\n      <td>X</td>\n    </tr>\n    <tr>\n      <th>3</th>\n      <td>1279</td>\n      <td>0</td>\n      <td>0</td>\n      <td>X</td>\n    </tr>\n    <tr>\n      <th>4</th>\n      <td>1090</td>\n      <td>0</td>\n      <td>0</td>\n      <td>X</td>\n    </tr>\n    <tr>\n      <th>...</th>\n      <td>...</td>\n      <td>...</td>\n      <td>...</td>\n      <td>...</td>\n    </tr>\n    <tr>\n      <th>492</th>\n      <td>1089</td>\n      <td>0</td>\n      <td>0</td>\n      <td>X</td>\n    </tr>\n    <tr>\n      <th>493</th>\n      <td>1087</td>\n      <td>0</td>\n      <td>0</td>\n      <td>X</td>\n    </tr>\n    <tr>\n      <th>494</th>\n      <td>1088</td>\n      <td>0</td>\n      <td>0</td>\n      <td>X</td>\n    </tr>\n    <tr>\n      <th>495</th>\n      <td>1091</td>\n      <td>0</td>\n      <td>0</td>\n      <td>X</td>\n    </tr>\n    <tr>\n      <th>496</th>\n      <td>1072</td>\n      <td>0</td>\n      <td>0</td>\n      <td>X</td>\n    </tr>\n  </tbody>\n</table>\n<p>497 rows × 4 columns</p>\n</div>"
     },
     "execution_count": 16,
     "metadata": {},
     "output_type": "execute_result"
    }
   ],
   "source": [
    "HK = load_data_from_rds('MainData_희경')\n",
    "HK"
   ],
   "metadata": {
    "collapsed": false,
    "pycharm": {
     "name": "#%%\n"
    }
   }
  },
  {
   "cell_type": "code",
   "execution_count": 9,
   "outputs": [
    {
     "name": "stderr",
     "output_type": "stream",
     "text": [
      "C:\\Users\\Administrator\\AppData\\Local\\Temp\\ipykernel_24076\\438115408.py:2: SettingWithCopyWarning: \n",
      "A value is trying to be set on a copy of a slice from a DataFrame\n",
      "\n",
      "See the caveats in the documentation: https://pandas.pydata.org/pandas-docs/stable/user_guide/indexing.html#returning-a-view-versus-a-copy\n",
      "  df.rename(columns={'distance':'하천거리(km)'}, inplace=True)\n"
     ]
    }
   ],
   "source": [
    "df = df[['번호', 'distance']]\n",
    "df.rename(columns={'distance':'하천거리(km)'}, inplace=True)"
   ],
   "metadata": {
    "collapsed": false,
    "pycharm": {
     "name": "#%%\n"
    }
   }
  },
  {
   "cell_type": "code",
   "execution_count": 10,
   "outputs": [
    {
     "data": {
      "text/plain": "       번호  주변 동물종 개수  주변동물 출현빈도 지형기호(5km)     하천거리(km)\n0    1495          2          2         X   134.468063\n1    1277          3          5         X   434.781679\n2    1278          0          0         X    74.780224\n3    1279          0          0         X   125.168772\n4    1090          0          0         X  2275.200182\n..    ...        ...        ...       ...          ...\n492  1089          0          0         X  2274.279975\n493  1087          0          0         X  1722.566263\n494  1088          0          0         X  2532.215687\n495  1091          0          0         X  2096.234333\n496  1072          0          0         X   901.351714\n\n[497 rows x 5 columns]",
      "text/html": "<div>\n<style scoped>\n    .dataframe tbody tr th:only-of-type {\n        vertical-align: middle;\n    }\n\n    .dataframe tbody tr th {\n        vertical-align: top;\n    }\n\n    .dataframe thead th {\n        text-align: right;\n    }\n</style>\n<table border=\"1\" class=\"dataframe\">\n  <thead>\n    <tr style=\"text-align: right;\">\n      <th></th>\n      <th>번호</th>\n      <th>주변 동물종 개수</th>\n      <th>주변동물 출현빈도</th>\n      <th>지형기호(5km)</th>\n      <th>하천거리(km)</th>\n    </tr>\n  </thead>\n  <tbody>\n    <tr>\n      <th>0</th>\n      <td>1495</td>\n      <td>2</td>\n      <td>2</td>\n      <td>X</td>\n      <td>134.468063</td>\n    </tr>\n    <tr>\n      <th>1</th>\n      <td>1277</td>\n      <td>3</td>\n      <td>5</td>\n      <td>X</td>\n      <td>434.781679</td>\n    </tr>\n    <tr>\n      <th>2</th>\n      <td>1278</td>\n      <td>0</td>\n      <td>0</td>\n      <td>X</td>\n      <td>74.780224</td>\n    </tr>\n    <tr>\n      <th>3</th>\n      <td>1279</td>\n      <td>0</td>\n      <td>0</td>\n      <td>X</td>\n      <td>125.168772</td>\n    </tr>\n    <tr>\n      <th>4</th>\n      <td>1090</td>\n      <td>0</td>\n      <td>0</td>\n      <td>X</td>\n      <td>2275.200182</td>\n    </tr>\n    <tr>\n      <th>...</th>\n      <td>...</td>\n      <td>...</td>\n      <td>...</td>\n      <td>...</td>\n      <td>...</td>\n    </tr>\n    <tr>\n      <th>492</th>\n      <td>1089</td>\n      <td>0</td>\n      <td>0</td>\n      <td>X</td>\n      <td>2274.279975</td>\n    </tr>\n    <tr>\n      <th>493</th>\n      <td>1087</td>\n      <td>0</td>\n      <td>0</td>\n      <td>X</td>\n      <td>1722.566263</td>\n    </tr>\n    <tr>\n      <th>494</th>\n      <td>1088</td>\n      <td>0</td>\n      <td>0</td>\n      <td>X</td>\n      <td>2532.215687</td>\n    </tr>\n    <tr>\n      <th>495</th>\n      <td>1091</td>\n      <td>0</td>\n      <td>0</td>\n      <td>X</td>\n      <td>2096.234333</td>\n    </tr>\n    <tr>\n      <th>496</th>\n      <td>1072</td>\n      <td>0</td>\n      <td>0</td>\n      <td>X</td>\n      <td>901.351714</td>\n    </tr>\n  </tbody>\n</table>\n<p>497 rows × 5 columns</p>\n</div>"
     },
     "execution_count": 10,
     "metadata": {},
     "output_type": "execute_result"
    }
   ],
   "source": [
    "result = HK.merge(df, on='번호')\n",
    "result"
   ],
   "metadata": {
    "collapsed": false,
    "pycharm": {
     "name": "#%%\n"
    }
   }
  },
  {
   "cell_type": "code",
   "execution_count": 17,
   "outputs": [
    {
     "data": {
      "text/plain": "497"
     },
     "execution_count": 17,
     "metadata": {},
     "output_type": "execute_result"
    }
   ],
   "source": [
    "result.to_sql('MainData_희경', con=db_connection, if_exists='replace', index=False)"
   ],
   "metadata": {
    "collapsed": false,
    "pycharm": {
     "name": "#%%\n"
    }
   }
  },
  {
   "cell_type": "markdown",
   "source": [
    "## Done!"
   ],
   "metadata": {
    "collapsed": false,
    "pycharm": {
     "name": "#%% md\n"
    }
   }
  }
 ],
 "metadata": {
  "kernelspec": {
   "display_name": "Python 3",
   "language": "python",
   "name": "python3"
  },
  "language_info": {
   "codemirror_mode": {
    "name": "ipython",
    "version": 2
   },
   "file_extension": ".py",
   "mimetype": "text/x-python",
   "name": "python",
   "nbconvert_exporter": "python",
   "pygments_lexer": "ipython2",
   "version": "2.7.6"
  }
 },
 "nbformat": 4,
 "nbformat_minor": 0
}