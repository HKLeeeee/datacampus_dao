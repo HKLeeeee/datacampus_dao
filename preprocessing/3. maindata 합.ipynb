{
 "cells": [
  {
   "cell_type": "code",
   "execution_count": 8,
   "metadata": {
    "collapsed": true
   },
   "outputs": [],
   "source": [
    "import pandas as pd\n",
    "from DB import *"
   ]
  },
  {
   "cell_type": "code",
   "execution_count": 9,
   "outputs": [],
   "source": [
    "db_connection = connect_db()"
   ],
   "metadata": {
    "collapsed": false,
    "pycharm": {
     "name": "#%%\n"
    }
   }
  },
  {
   "cell_type": "code",
   "execution_count": 10,
   "outputs": [],
   "source": [
    "main_df = load_data_from_rds('생태통로', db_connection)\n",
    "var_df = load_data_from_rds('변수관계설정', db_connection)"
   ],
   "metadata": {
    "collapsed": false,
    "pycharm": {
     "name": "#%%\n"
    }
   }
  },
  {
   "cell_type": "code",
   "execution_count": 11,
   "outputs": [
    {
     "name": "stdout",
     "output_type": "stream",
     "text": [
      "<class 'pandas.core.frame.DataFrame'>\n",
      "RangeIndex: 497 entries, 0 to 496\n",
      "Data columns (total 11 columns):\n",
      " #   Column   Non-Null Count  Dtype  \n",
      "---  ------   --------------  -----  \n",
      " 0   번호       497 non-null    int64  \n",
      " 1   위도       497 non-null    float64\n",
      " 2   경도       497 non-null    float64\n",
      " 3   폭        318 non-null    float64\n",
      " 4   연장       318 non-null    float64\n",
      " 5   높이       43 non-null     float64\n",
      " 6   개방도      43 non-null     float64\n",
      " 7   차선_수     497 non-null    int64  \n",
      " 8   생태통로타입   497 non-null    int64  \n",
      " 9   등산객이용빈도  497 non-null    int64  \n",
      " 10  생태통로효율성  497 non-null    int64  \n",
      "dtypes: float64(6), int64(5)\n",
      "memory usage: 42.8 KB\n"
     ]
    }
   ],
   "source": [
    "main_df.info()"
   ],
   "metadata": {
    "collapsed": false,
    "pycharm": {
     "name": "#%%\n"
    }
   }
  },
  {
   "cell_type": "code",
   "execution_count": 12,
   "outputs": [
    {
     "name": "stdout",
     "output_type": "stream",
     "text": [
      "<class 'pandas.core.frame.DataFrame'>\n",
      "RangeIndex: 497 entries, 0 to 496\n",
      "Data columns (total 17 columns):\n",
      " #   Column            Non-Null Count  Dtype  \n",
      "---  ------            --------------  -----  \n",
      " 0   번호                497 non-null    int64  \n",
      " 1   등산로까지 최단거리(km)    497 non-null    float64\n",
      " 2   식생                497 non-null    int64  \n",
      " 3   경사도               497 non-null    int64  \n",
      " 4   지형기호(2.3km)       497 non-null    object \n",
      " 5   주변 동물종 개수         259 non-null    float64\n",
      " 6   주변동물 출현빈도         259 non-null    float64\n",
      " 7   주변 로드킬 빈도         497 non-null    int64  \n",
      " 8   산책로까지의 최단 거리(km)  497 non-null    float64\n",
      " 9   최고제한속도(km/h)      497 non-null    float64\n",
      " 10  농가까지의 거리(km)      497 non-null    float64\n",
      " 11  교통량               487 non-null    float64\n",
      " 12  환경영향평가점수          497 non-null    int64  \n",
      " 13  건물까지거리(km)        497 non-null    float64\n",
      " 14  유도울타리_연장_m        497 non-null    int64  \n",
      " 15  유도울타리_높이_m        497 non-null    float64\n",
      " 16  하천거리(km)          497 non-null    float64\n",
      "dtypes: float64(10), int64(6), object(1)\n",
      "memory usage: 66.1+ KB\n"
     ]
    }
   ],
   "source": [
    "var_df.info()"
   ],
   "metadata": {
    "collapsed": false,
    "pycharm": {
     "name": "#%%\n"
    }
   }
  },
  {
   "cell_type": "code",
   "execution_count": 13,
   "outputs": [
    {
     "name": "stdout",
     "output_type": "stream",
     "text": [
      "<class 'pandas.core.frame.DataFrame'>\n",
      "Int64Index: 497 entries, 0 to 496\n",
      "Data columns (total 27 columns):\n",
      " #   Column            Non-Null Count  Dtype  \n",
      "---  ------            --------------  -----  \n",
      " 0   번호                497 non-null    int64  \n",
      " 1   위도                497 non-null    float64\n",
      " 2   경도                497 non-null    float64\n",
      " 3   폭                 318 non-null    float64\n",
      " 4   연장                318 non-null    float64\n",
      " 5   높이                43 non-null     float64\n",
      " 6   개방도               43 non-null     float64\n",
      " 7   차선_수              497 non-null    int64  \n",
      " 8   생태통로타입            497 non-null    int64  \n",
      " 9   등산객이용빈도           497 non-null    int64  \n",
      " 10  생태통로효율성           497 non-null    int64  \n",
      " 11  등산로까지 최단거리(km)    497 non-null    float64\n",
      " 12  식생                497 non-null    int64  \n",
      " 13  경사도               497 non-null    int64  \n",
      " 14  지형기호(2.3km)       497 non-null    object \n",
      " 15  주변 동물종 개수         259 non-null    float64\n",
      " 16  주변동물 출현빈도         259 non-null    float64\n",
      " 17  주변 로드킬 빈도         497 non-null    int64  \n",
      " 18  산책로까지의 최단 거리(km)  497 non-null    float64\n",
      " 19  최고제한속도(km/h)      497 non-null    float64\n",
      " 20  농가까지의 거리(km)      497 non-null    float64\n",
      " 21  교통량               487 non-null    float64\n",
      " 22  환경영향평가점수          497 non-null    int64  \n",
      " 23  건물까지거리(km)        497 non-null    float64\n",
      " 24  유도울타리_연장_m        497 non-null    int64  \n",
      " 25  유도울타리_높이_m        497 non-null    float64\n",
      " 26  하천거리(km)          497 non-null    float64\n",
      "dtypes: float64(16), int64(10), object(1)\n",
      "memory usage: 108.7+ KB\n"
     ]
    }
   ],
   "source": [
    "df = pd.merge(main_df, var_df, on='번호')\n",
    "df.info()"
   ],
   "metadata": {
    "collapsed": false,
    "pycharm": {
     "name": "#%%\n"
    }
   }
  },
  {
   "cell_type": "code",
   "execution_count": 14,
   "outputs": [],
   "source": [
    "upload_data_to_rds(df, 'MainData', db_connection)"
   ],
   "metadata": {
    "collapsed": false,
    "pycharm": {
     "name": "#%%\n"
    }
   }
  },
  {
   "cell_type": "code",
   "execution_count": 14,
   "outputs": [],
   "source": [],
   "metadata": {
    "collapsed": false,
    "pycharm": {
     "name": "#%%\n"
    }
   }
  }
 ],
 "metadata": {
  "kernelspec": {
   "display_name": "Python 3",
   "language": "python",
   "name": "python3"
  },
  "language_info": {
   "codemirror_mode": {
    "name": "ipython",
    "version": 2
   },
   "file_extension": ".py",
   "mimetype": "text/x-python",
   "name": "python",
   "nbconvert_exporter": "python",
   "pygments_lexer": "ipython2",
   "version": "2.7.6"
  }
 },
 "nbformat": 4,
 "nbformat_minor": 0
}